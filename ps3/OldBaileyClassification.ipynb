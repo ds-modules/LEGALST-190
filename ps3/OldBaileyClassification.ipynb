{
 "cells": [
  {
   "cell_type": "markdown",
   "metadata": {},
   "source": [
    "# Old Bailey Classification: PSET 3\n",
    "\n",
    "1. [Introduction](#intro)\n",
    "2. [Getting the Data](#data)\n",
    "3. [Descriptive Statistics](#stats)\n",
    "4. [Discussion Questions](#dq)"
   ]
  },
  {
   "cell_type": "code",
   "execution_count": null,
   "metadata": {},
   "outputs": [],
   "source": [
    "from datascience import *\n",
    "import numpy as np\n",
    "from utils import *"
   ]
  },
  {
   "cell_type": "markdown",
   "metadata": {},
   "source": [
    "## 1. Introduction <a id='intro'></a>\n",
    "In this assignment, you will learn how to apply machine learning techniques to a corpus of textual data. The source for this assignment is the Old Bailey Corpus. This data set contains court records of the Old Bailey, London's Criminal court from 1674 to 1913. You will: \n",
    "    1. Download data from the corpus and process the text into data.\n",
    "    2. Define a dictionary and a set of rules for using the words for classification.\n",
    "    3. Apply your algorithm to classify documents and assess accuracy.\n",
    "    \n",
    "Make sure to start early and ask lots of questions! The dataset, along with other publicaly available data, is available at: https://www.oldbaileyonline.org/obapi/"
   ]
  },
  {
   "cell_type": "markdown",
   "metadata": {},
   "source": [
    "## 2. Getting the Data <a id='data'></a>"
   ]
  },
  {
   "cell_type": "markdown",
   "metadata": {},
   "source": [
    "We have implemented a couple of scripts to complete the messier parts of downloading the data we'll be working with. You can run these scripts with the following command:\n",
    "\n",
    "```\n",
    "get_xmls(ARG1, ARG2, ARG3, ARG4)\n",
    "```\n",
    "- ARG1 should be the first year of the range you'd like to investigate\n",
    "- ARG2 should be the last year of the range you'd like to investigate\n",
    "- ARG3 should be the name of the directory you'd like to create/use to store all your files\n",
    "- *ARG4 **must be *AT MOST* the number of trials in that range** (preferably fewer, or it will take forever to run). Find this number [here](http://www.oldbaileyonline.org/forms/formMain.jsp), specifying the years in your range under `time period`, then selecting `calculate totals` at the top of the results page. The number will be the total number of results found. If you leave out this argument, it will be set to 100 by default.\n"
   ]
  },
  {
   "cell_type": "markdown",
   "metadata": {},
   "source": [
    "Here is one example of how to use this script. We have chosen the 1750s years as our range, and we know there are 4435 results from January 1750 through December 1759:\n",
    "\n",
    "***NOTE:*** This will take a few minutes to complete! Just be patient. When it finishes running, the circle at the top of the page next to the words \"Python 3\" will turn back from black to white."
   ]
  },
  {
   "cell_type": "code",
   "execution_count": null,
   "metadata": {},
   "outputs": [],
   "source": [
    "get_xmls('1750', '1759', 'baileyfiles/', 100)\n",
    "process_xmls('1750', 'baileyfiles/')"
   ]
  },
  {
   "cell_type": "code",
   "execution_count": null,
   "metadata": {},
   "outputs": [],
   "source": []
  },
  {
   "cell_type": "markdown",
   "metadata": {},
   "source": [
    "## 3. Descriptive Statistics <a id='stats'></a>"
   ]
  },
  {
   "cell_type": "markdown",
   "metadata": {},
   "source": [
    "## 4. Discussion Questions <a id='dq'></a>"
   ]
  },
  {
   "cell_type": "code",
   "execution_count": null,
   "metadata": {},
   "outputs": [],
   "source": []
  }
 ],
 "metadata": {
  "kernelspec": {
   "display_name": "Python 3",
   "language": "python",
   "name": "python3"
  },
  "language_info": {
   "codemirror_mode": {
    "name": "ipython",
    "version": 3
   },
   "file_extension": ".py",
   "mimetype": "text/x-python",
   "name": "python",
   "nbconvert_exporter": "python",
   "pygments_lexer": "ipython3",
   "version": "3.6.8"
  }
 },
 "nbformat": 4,
 "nbformat_minor": 2
}
