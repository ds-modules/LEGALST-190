{
 "cells": [
  {
   "cell_type": "markdown",
   "metadata": {},
   "source": [
    "# Old Bailey Classification: PSET 3\n",
    "\n",
    "1. [Introduction](#intro)\n",
    "2. [Getting the Data](#data)\n",
    "3. [Descriptive Statistics](#stats)\n",
    "4. [Discussion Questions](#dq)"
   ]
  },
  {
   "cell_type": "code",
   "execution_count": 1,
   "metadata": {
    "collapsed": true
   },
   "outputs": [],
   "source": [
    "import requests\n",
    "from bs4 import BeautifulSoup\n",
    "import xmltodict\n",
    "from datascience import *\n",
    "from urllib.request import urlopen\n",
    "import re\n",
    "import numpy as np\n",
    "from utils import *"
   ]
  },
  {
   "cell_type": "markdown",
   "metadata": {},
   "source": [
    "## 1. Introduction <a id='intro'></a>\n",
    "In this assignment, you will learn how to apply machine learning techniques to a corpus of textual data. The source for this assignment is the Old Bailey Corpus. This data set contains court records of the Old Bailey, London's Criminal court from 1674 to 1913. You will: \n",
    "    1. Download data from the corpus and process the text into data.\n",
    "    2. Define a dictionary and a set of rules for using the words for classification.\n",
    "    3. Apply your algorithm to classify documents and assess accuracy.\n",
    "    \n",
    "Make sure to start early and ask lots of questions! The dataset, along with other publicaly available data, is available at: https://www.oldbaileyonline.org/obapi/"
   ]
  },
  {
   "cell_type": "markdown",
   "metadata": {},
   "source": [
    "## 2. Getting the Data <a id='data'></a>"
   ]
  },
  {
   "cell_type": "markdown",
   "metadata": {},
   "source": [
    "We have implemented a couple of scripts to complete the messier parts of downloading the data we'll be working with. You can run these scripts with the following command:\n",
    "\n",
    "```python\n",
    "!python wgetxmls.py ARG1 ARG2 ARG3 ```\n",
    "\n",
    "- ARG1 should be the first year of the range you'd like to investigate\n",
    "- ARG2 should be the last year of the range you'd like to investigate\n",
    "- ARG3 **must be *AT MOST* the number of trials in that range** (preferably fewer, or it will take forever to run). Find this number [here](http://www.oldbaileyonline.org/forms/formMain.jsp), specifying the years in your range under `time period`, then selecting `calculate totals` at the top of the results page. The number will be the total number of results found."
   ]
  },
  {
   "cell_type": "markdown",
   "metadata": {},
   "source": [
    "Here is one example of how to use this script. We have chosen the 1750s years as our range, and we know there are 4435 results from January 1750 through December 1759:\n",
    "\n",
    "***NOTE:*** This will take a few minutes to complete! Just be patient. When it finishes running, the circle at the top of the page next to the words \"Python 3\" will turn back from black to white."
   ]
  },
  {
   "cell_type": "code",
   "execution_count": 2,
   "metadata": {},
   "outputs": [
    {
     "name": "stdout",
     "output_type": "stream",
     "text": [
      "mkdir: ../1700-trialxmls: File exists\n",
      "\n",
      "21 archives were successfully processed.\n",
      "mkdir: ../1710-trialxmls: File exists\n",
      "\n",
      "21 archives were successfully processed.\n",
      "\n",
      "31 archives were successfully processed.\n",
      "\n",
      "41 archives were successfully processed.\n",
      "\n",
      "51 archives were successfully processed.\n",
      "\n",
      "61 archives were successfully processed.\n"
     ]
    }
   ],
   "source": [
    "# The first time you run this, it should print \"(Some number) archives were successfully processed.\"\n",
    "# After the first time, it may print several lines that say \"cannot create directory '...' \".\n",
    "# This is normal, just ignore these warnings.\n",
    "\n",
    "wget_files('1700', '1710', 100)\n",
    "!./extractFiles.sh '1700'\n",
    "wget_files('1710', '1720', 100)\n",
    "!./extractFiles.sh '1710'\n",
    "wget_files('1720', '1730', 100)\n",
    "!./extractFiles.sh '1720'\n",
    "\n",
    "wget_files('1800', '1810', 100)\n",
    "!./extractFiles.sh '1800'\n",
    "wget_files('1810', '1820', 100)\n",
    "!./extractFiles.sh '1810'\n",
    "wget_files('1820', '1830', 100)\n",
    "!./extractFiles.sh '1820'"
   ]
  },
  {
   "cell_type": "code",
   "execution_count": null,
   "metadata": {
    "collapsed": true
   },
   "outputs": [],
   "source": [
    "#files = requests.get(\"http://www.oldbaileyonline.org/obapi/ob?term0=fromdate_17500114&term1=todate_17591216&count=10&start=100&return=zip)\")\n",
    "#files.text"
   ]
  },
  {
   "cell_type": "markdown",
   "metadata": {},
   "source": [
    "******** should improve data pull system using 'request' library: http://docs.python-requests.org/en/master/user/quickstart/#passing-parameters-in-urls ********"
   ]
  },
  {
   "cell_type": "markdown",
   "metadata": {},
   "source": [
    "We have also implemented a function that will convert the text files we just downloaded into useful tables of information that we may now analyze. All we need to specify is the decade with which we want to work."
   ]
  },
  {
   "cell_type": "code",
   "execution_count": null,
   "metadata": {},
   "outputs": [],
   "source": [
    "trials_ = make_table('1720')\n",
    "trials"
   ]
  },
  {
   "cell_type": "markdown",
   "metadata": {},
   "source": [
    "## 3. Descriptive Statistics <a id='stats'></a>"
   ]
  },
  {
   "cell_type": "markdown",
   "metadata": {},
   "source": [
    "## 4. Discussion Questions <a id='dq'></a>"
   ]
  },
  {
   "cell_type": "code",
   "execution_count": null,
   "metadata": {
    "collapsed": true
   },
   "outputs": [],
   "source": []
  }
 ],
 "metadata": {
  "kernelspec": {
   "display_name": "Python 3",
   "language": "python",
   "name": "python3"
  },
  "language_info": {
   "codemirror_mode": {
    "name": "ipython",
    "version": 3
   },
   "file_extension": ".py",
   "mimetype": "text/x-python",
   "name": "python",
   "nbconvert_exporter": "python",
   "pygments_lexer": "ipython3",
   "version": "3.6.2"
  }
 },
 "nbformat": 4,
 "nbformat_minor": 2
}
