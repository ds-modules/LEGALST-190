{
 "cells": [
  {
   "cell_type": "markdown",
   "metadata": {},
   "source": [
    "# Old Bailey Classification: PSET 3\n",
    "\n",
    "1. [Introduction](#intro)\n",
    "2. [Getting the Data](#data)\n",
    "3. [Descriptive Statistics](#stats)\n",
    "4. [Discussion Questions](#dq)"
   ]
  },
  {
   "cell_type": "code",
   "execution_count": 1,
   "metadata": {
    "collapsed": true
   },
   "outputs": [],
   "source": [
    "import requests\n",
    "from bs4 import BeautifulSoup\n",
    "import xmltodict\n",
    "from datascience import *\n",
    "from urllib.request import urlopen\n",
    "import re\n",
    "import numpy as np\n",
    "from utils import *"
   ]
  },
  {
   "cell_type": "markdown",
   "metadata": {},
   "source": [
    "## 1. Introduction <a id='intro'></a>\n",
    "In this assignment, you will learn how to apply machine learning techniques to a corpus of textual data. The source for this assignment is the Old Bailey Corpus. This data set contains court records of the Old Bailey, London's Criminal court from 1674 to 1913. You will: \n",
    "    1. Download data from the corpus and process the text into data.\n",
    "    2. Define a dictionary and a set of rules for using the words for classification.\n",
    "    3. Apply your algorithm to classify documents and assess accuracy.\n",
    "    \n",
    "Make sure to start early and ask lots of questions! The dataset, along with other publicaly available data, is available at: https://www.oldbaileyonline.org/obapi/"
   ]
  },
  {
   "cell_type": "markdown",
   "metadata": {},
   "source": [
    "## 2. Getting the Data <a id='data'></a>"
   ]
  },
  {
   "cell_type": "markdown",
   "metadata": {},
   "source": [
    "We have implemented a couple of scripts to complete the messier parts of downloading the data we'll be working with. You can run these scripts with the following command:\n",
    "\n",
    "```python\n",
    "!python wgetxmls.py ARG1 ARG2 ARG3 ```\n",
    "\n",
    "- ARG1 should be the first year of the range you'd like to investigate\n",
    "- ARG2 should be the last year of the range you'd like to investigate\n",
    "- ARG3 **must be *AT MOST* the number of trials in that range** (preferably fewer, or it will take forever to run). Find this number [here](http://www.oldbaileyonline.org/forms/formMain.jsp), specifying the years in your range under `time period`, then selecting `calculate totals` at the top of the results page. The number will be the total number of results found."
   ]
  },
  {
   "cell_type": "markdown",
   "metadata": {},
   "source": [
    "Here is one example of how to use this script. We have chosen the 1750s years as our range, and we know there are 4435 results from January 1750 through December 1759:\n",
    "\n",
    "***NOTE:*** This will take a few minutes to complete! Just be patient. When it finishes running, the circle at the top of the page next to the words \"Python 3\" will turn back from black to white."
   ]
  },
  {
   "cell_type": "code",
   "execution_count": 2,
   "metadata": {},
   "outputs": [
    {
     "name": "stdout",
     "output_type": "stream",
     "text": [
      "mkdir: ../1750-trialxmls: File exists\r\n"
     ]
    }
   ],
   "source": [
    "# The first time you run this, it should print \"(Some number) archives were successfully processed.\"\n",
    "# After the first time, it may print several lines that say \"cannot create directory '...' \".\n",
    "# This is normal, just ignore these warnings.\n",
    "\n",
    "wget_files('1750', '1759', 10)\n",
    "!./extractFiles.sh '1750'"
   ]
  },
  {
   "cell_type": "code",
   "execution_count": 3,
   "metadata": {
    "collapsed": true
   },
   "outputs": [],
   "source": [
    "#files = requests.get(\"http://www.oldbaileyonline.org/obapi/ob?term0=fromdate_17500114&term1=todate_17591216&count=10&start=100&return=zip)\")\n",
    "#files.text"
   ]
  },
  {
   "cell_type": "markdown",
   "metadata": {},
   "source": [
    "******** should improve data pull system using 'request' library: http://docs.python-requests.org/en/master/user/quickstart/#passing-parameters-in-urls ********"
   ]
  },
  {
   "cell_type": "markdown",
   "metadata": {},
   "source": [
    "We have also implemented a function that will convert the text files we just downloaded into useful tables of information that we may now analyze. All we need to specify is the decade with which we want to work."
   ]
  },
  {
   "cell_type": "code",
   "execution_count": 4,
   "metadata": {},
   "outputs": [
    {
     "data": {
      "text/html": [
       "<table border=\"1\" class=\"dataframe\">\n",
       "    <thead>\n",
       "        <tr>\n",
       "            <th>collection</th> <th>date</th> <th>defendant gender</th> <th>defendant given</th> <th>defendant surname</th> <th>file name</th> <th>offenceCategory</th> <th>offenceSubcategory</th> <th>trial summary</th> <th>uri</th> <th>verdictCategory</th> <th>victim gender</th> <th>victim given</th> <th>victim surname</th> <th>year</th>\n",
       "        </tr>\n",
       "    </thead>\n",
       "    <tbody>\n",
       "        <tr>\n",
       "            <td>BAILEY    </td> <td>17500117</td> <td>male            </td> <td>Thomas         </td> <td>Biggs            </td> <td>t17500117-3 </td> <td>theft          </td> <td>grandLarceny      </td> <td>112. Thomas Biggs , was indicted for stealing one pair o ...</td> <td>sessionsPapers/17500117</td> <td>notGuilty      </td> <td>male         </td> <td>William     </td> <td>Gordon        </td> <td>1750</td>\n",
       "        </tr>\n",
       "    </tbody>\n",
       "        <tr>\n",
       "            <td>BAILEY    </td> <td>17500117</td> <td>male            </td> <td>William        </td> <td>Heyden           </td> <td>t17500117-2 </td> <td>theft          </td> <td>theftFromPlace    </td> <td>110, 111. Nicholas Bond , and William Heyden , late of F ...</td> <td>sessionsPapers/17500117</td> <td>guilty         </td> <td>male         </td> <td>Henry       </td> <td>Page          </td> <td>1750</td>\n",
       "        </tr>\n",
       "    </tbody>\n",
       "        <tr>\n",
       "            <td>BAILEY    </td> <td>17500117</td> <td>male            </td> <td>John           </td> <td>Price            </td> <td>t17500117-6 </td> <td>theft          </td> <td>grandLarceny      </td> <td>116, 117. Ralph Darvel , and John Price , were indicted  ...</td> <td>sessionsPapers/17500117</td> <td>guilty         </td> <td>male         </td> <td>John        </td> <td>Clark         </td> <td>1750</td>\n",
       "        </tr>\n",
       "    </tbody>\n",
       "        <tr>\n",
       "            <td>BAILEY    </td> <td>17500117</td> <td>female          </td> <td>Jane,          </td> <td>the              </td> <td>t17500117-7 </td> <td>theft          </td> <td>grandLarceny      </td> <td>118. Jane, the wife of John Holmes , was indicted for st ...</td> <td>sessionsPapers/17500117</td> <td>guilty         </td> <td>male         </td> <td>John        </td> <td>Mitchel       </td> <td>1750</td>\n",
       "        </tr>\n",
       "    </tbody>\n",
       "        <tr>\n",
       "            <td>BAILEY    </td> <td>17500117</td> <td>female          </td> <td>Margaret       </td> <td>Richards         </td> <td>t17500117-5 </td> <td>theft          </td> <td>grandLarceny      </td> <td>114, 115. Susannah Lowe , and Margaret Richards , widows ...</td> <td>sessionsPapers/17500117</td> <td>notGuilty      </td> <td>male         </td> <td>Ezekiel     </td> <td>Wolse         </td> <td>1750</td>\n",
       "        </tr>\n",
       "    </tbody>\n",
       "        <tr>\n",
       "            <td>BAILEY    </td> <td>17500117</td> <td>female          </td> <td>Elizabeth      </td> <td>Wanless          </td> <td>t17500117-4 </td> <td>theft          </td> <td>grandLarceny      </td> <td>113. Elizabeth Wanless , otherwise Newbey , spinster, wa ...</td> <td>sessionsPapers/17500117</td> <td>guilty         </td> <td>male         </td> <td>Thomas      </td> <td>Broadhurst    </td> <td>1750</td>\n",
       "        </tr>\n",
       "    </tbody>\n",
       "        <tr>\n",
       "            <td>BAILEY    </td> <td>17500117</td> <td>male            </td> <td>Henry          </td> <td>Shuter           </td> <td>t17500117-10</td> <td>theft          </td> <td>grandLarceny      </td> <td>121. Henry Shuter , was indicted for stealing seven silk ...</td> <td>sessionsPapers/17500117</td> <td>guilty         </td> <td>male         </td> <td>Edmund      </td> <td>Jervice       </td> <td>1750</td>\n",
       "        </tr>\n",
       "    </tbody>\n",
       "        <tr>\n",
       "            <td>BAILEY    </td> <td>17500117</td> <td>male            </td> <td>William        </td> <td>Clark            </td> <td>t17500117-11</td> <td>theft          </td> <td>grandLarceny      </td> <td>122. William Clark , was indicted for stealing one chees ...</td> <td>sessionsPapers/17500117</td> <td>guilty         </td> <td>male         </td> <td>James       </td> <td>Crawforth     </td> <td>1750</td>\n",
       "        </tr>\n",
       "    </tbody>\n",
       "        <tr>\n",
       "            <td>BAILEY    </td> <td>17500117</td> <td>male            </td> <td>Thomas         </td> <td>Chessam          </td> <td>t17500117-9 </td> <td>theft          </td> <td>grandLarceny      </td> <td>120. Thomas Chessam , was indicted for stealing three ir ...</td> <td>sessionsPapers/17500117</td> <td>guilty         </td> <td>male         </td> <td>Francis     </td> <td>Cooper        </td> <td>1750</td>\n",
       "        </tr>\n",
       "    </tbody>\n",
       "        <tr>\n",
       "            <td>BAILEY    </td> <td>17500117</td> <td>male            </td> <td>George         </td> <td>Fear             </td> <td>t17500117-8 </td> <td>theft          </td> <td>grandLarceny      </td> <td>119. George Fear , was indicted for stealing one portman ...</td> <td>sessionsPapers/17500117</td> <td>guilty         </td> <td>female       </td> <td>Martha      </td> <td>Rigby         </td> <td>1750</td>\n",
       "        </tr>\n",
       "    </tbody>\n",
       "</table>"
      ],
      "text/plain": [
       "collection | date     | defendant gender | defendant given | defendant surname | file name    | offenceCategory | offenceSubcategory | trial summary                                                | uri                     | verdictCategory | victim gender | victim given | victim surname | year\n",
       "BAILEY     | 17500117 | male             | Thomas          | Biggs             | t17500117-3  | theft           | grandLarceny       | 112. Thomas Biggs , was indicted for stealing one pair o ... | sessionsPapers/17500117 | notGuilty       | male          | William      | Gordon         | 1750\n",
       "BAILEY     | 17500117 | male             | William         | Heyden            | t17500117-2  | theft           | theftFromPlace     | 110, 111. Nicholas Bond , and William Heyden , late of F ... | sessionsPapers/17500117 | guilty          | male          | Henry        | Page           | 1750\n",
       "BAILEY     | 17500117 | male             | John            | Price             | t17500117-6  | theft           | grandLarceny       | 116, 117. Ralph Darvel , and John Price , were indicted  ... | sessionsPapers/17500117 | guilty          | male          | John         | Clark          | 1750\n",
       "BAILEY     | 17500117 | female           | Jane,           | the               | t17500117-7  | theft           | grandLarceny       | 118. Jane, the wife of John Holmes , was indicted for st ... | sessionsPapers/17500117 | guilty          | male          | John         | Mitchel        | 1750\n",
       "BAILEY     | 17500117 | female           | Margaret        | Richards          | t17500117-5  | theft           | grandLarceny       | 114, 115. Susannah Lowe , and Margaret Richards , widows ... | sessionsPapers/17500117 | notGuilty       | male          | Ezekiel      | Wolse          | 1750\n",
       "BAILEY     | 17500117 | female           | Elizabeth       | Wanless           | t17500117-4  | theft           | grandLarceny       | 113. Elizabeth Wanless , otherwise Newbey , spinster, wa ... | sessionsPapers/17500117 | guilty          | male          | Thomas       | Broadhurst     | 1750\n",
       "BAILEY     | 17500117 | male             | Henry           | Shuter            | t17500117-10 | theft           | grandLarceny       | 121. Henry Shuter , was indicted for stealing seven silk ... | sessionsPapers/17500117 | guilty          | male          | Edmund       | Jervice        | 1750\n",
       "BAILEY     | 17500117 | male             | William         | Clark             | t17500117-11 | theft           | grandLarceny       | 122. William Clark , was indicted for stealing one chees ... | sessionsPapers/17500117 | guilty          | male          | James        | Crawforth      | 1750\n",
       "BAILEY     | 17500117 | male             | Thomas          | Chessam           | t17500117-9  | theft           | grandLarceny       | 120. Thomas Chessam , was indicted for stealing three ir ... | sessionsPapers/17500117 | guilty          | male          | Francis      | Cooper         | 1750\n",
       "BAILEY     | 17500117 | male             | George          | Fear              | t17500117-8  | theft           | grandLarceny       | 119. George Fear , was indicted for stealing one portman ... | sessionsPapers/17500117 | guilty          | female        | Martha       | Rigby          | 1750"
      ]
     },
     "execution_count": 4,
     "metadata": {},
     "output_type": "execute_result"
    }
   ],
   "source": [
    "trials = make_table('1750')\n",
    "trials"
   ]
  },
  {
   "cell_type": "markdown",
   "metadata": {},
   "source": [
    "## 3. Descriptive Statistics <a id='stats'></a>"
   ]
  },
  {
   "cell_type": "markdown",
   "metadata": {},
   "source": [
    "## 4. Discussion Questions <a id='dq'></a>"
   ]
  },
  {
   "cell_type": "code",
   "execution_count": null,
   "metadata": {
    "collapsed": true
   },
   "outputs": [],
   "source": []
  }
 ],
 "metadata": {
  "kernelspec": {
   "display_name": "Python 3",
   "language": "python",
   "name": "python3"
  },
  "language_info": {
   "codemirror_mode": {
    "name": "ipython",
    "version": 3
   },
   "file_extension": ".py",
   "mimetype": "text/x-python",
   "name": "python",
   "nbconvert_exporter": "python",
   "pygments_lexer": "ipython3",
   "version": "3.6.2"
  }
 },
 "nbformat": 4,
 "nbformat_minor": 2
}
