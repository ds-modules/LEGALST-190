{
 "cells": [
  {
   "cell_type": "markdown",
   "metadata": {},
   "source": [
    "# Old Bailey Classification: PSET 3\n",
    "\n",
    "1. [Introduction](#intro)\n",
    "2. [Getting the Data](#data)\n",
    "3. [Descriptive Statistics](#stats)\n",
    "4. [Geographic Information Systems](#gis)\n",
    "5. [Discussion Questions](#dq)"
   ]
  },
  {
   "cell_type": "markdown",
   "metadata": {},
   "source": [
    "## 1. Introduction <a id='intro'></a>\n",
    "In this assignment, you will learn how to apply machine learning techniques to a corpus of textual data. The source for this assignment is the Old Bailey Corpus. This data set contains court records of the Old Bailey, London's Criminal court from 1674 to 1913. You will: \n",
    "    1. Download data from the corpus and process the text into data.\n",
    "    2. Define a dictionary and a set of rules for using the words for classification.\n",
    "    3. Apply your algorithm to classify documents and assess accuracy.\n",
    "    \n",
    "Make sure to start early and ask lots of questions! The dataset, along with other publicaly available data, is available at: https://www.oldbaileyonline.org/obapi/"
   ]
  },
  {
   "cell_type": "markdown",
   "metadata": {},
   "source": [
    "We have implemented a couple of scripts to complete the messier parts of downloading the data we'll be working with. You can run these scripts with the following command\n",
    "\n"
   ]
  },
  {
   "cell_type": "code",
   "execution_count": null,
   "metadata": {},
   "outputs": [],
   "source": [
    "# The first time you run this, it should print \" \". After the first time, it may print\n",
    "# several lines that say \"cannot create directory '...' \". This is normal, just ignore them.\n",
    "!python wgetxmls.py 1750 1759 4435"
   ]
  },
  {
   "cell_type": "code",
   "execution_count": null,
   "metadata": {},
   "outputs": [],
   "source": []
  }
 ],
 "metadata": {
  "kernelspec": {
   "display_name": "Python 3",
   "language": "python",
   "name": "python3"
  },
  "language_info": {
   "codemirror_mode": {
    "name": "ipython",
    "version": 3
   },
   "file_extension": ".py",
   "mimetype": "text/x-python",
   "name": "python",
   "nbconvert_exporter": "python",
   "pygments_lexer": "ipython3",
   "version": "3.6.1"
  }
 },
 "nbformat": 4,
 "nbformat_minor": 2
}
