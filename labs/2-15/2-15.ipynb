{
 "cells": [
  {
   "cell_type": "markdown",
   "metadata": {},
   "source": [
    "# [LEGALST-190] Lab 2-15\n",
    "\n",
    "\n",
    "\n",
    "This lab will provide an introduction to extra plugins in the folium package: Search and Draw.\n",
    "\n",
    "*Estimated Time: 30 minutes*\n",
    "\n",
    "---\n",
    "\n",
    "### Table of Contents\n",
    "\n",
    "[The Data](#section data)<br>\n",
    "\n",
    "[Context](#section context)<br>\n",
    "\n",
    "1 - [Search](#section 1)<br>\n",
    "\n",
    "2 - [Draw](#section 2)<br>\n",
    "\n",
    "\n",
    "\n",
    "\n",
    "\n",
    "**Dependencies:**"
   ]
  },
  {
   "cell_type": "code",
   "execution_count": null,
   "metadata": {
    "collapsed": true
   },
   "outputs": [],
   "source": [
    "from datascience import *\n",
    "import json\n",
    "import os\n",
    "import pandas as pd\n",
    "import numpy as np"
   ]
  },
  {
   "cell_type": "code",
   "execution_count": null,
   "metadata": {
    "collapsed": true,
    "scrolled": true
   },
   "outputs": [],
   "source": [
    "#!pip install folium --upgrade\n",
    "import folium\n",
    "from folium import plugins\n",
    "from folium.plugins import Draw\n",
    "from folium.plugins import HeatMap"
   ]
  },
  {
   "cell_type": "code",
   "execution_count": null,
   "metadata": {
    "collapsed": true
   },
   "outputs": [],
   "source": [
    "# %load search.py\n",
    "\n",
    "from __future__ import (absolute_import, division, print_function)\n",
    "\n",
    "from branca.element import CssLink, Figure, JavascriptLink, MacroElement\n",
    "\n",
    "from jinja2 import Template\n",
    "\n",
    "\n",
    "class Search(MacroElement):\n",
    "    \"\"\"\n",
    "    Adds a search tool to your map.\n",
    "\n",
    "    Parameters\n",
    "    ----------\n",
    "    data: str/JSON\n",
    "        GeoJSON strings\n",
    "    search_zoom: int\n",
    "        zoom level when searching features, default 12\n",
    "    search_label: str\n",
    "        label to index the search, default 'name'\n",
    "    geom_type: str\n",
    "        geometry type, default 'Point'\n",
    "    position: str\n",
    "        Change the position of the search bar, can be:\n",
    "        'topleft', 'topright', 'bottomright' or 'bottomleft',\n",
    "        default 'topleft'\n",
    "\n",
    "    See https://github.com/stefanocudini/leaflet-search for more information.\n",
    "\n",
    "    \"\"\"\n",
    "    def __init__(self, data, search_zoom=12, search_label='name', geom_type='Point', position='topleft'):\n",
    "        super(Search, self).__init__()\n",
    "        self.position = position\n",
    "        self.data = data\n",
    "        self.search_label = search_label\n",
    "        self.search_zoom = search_zoom\n",
    "        self.geom_type = geom_type\n",
    "\n",
    "        self._template = Template(\"\"\"\n",
    "        {% macro script(this, kwargs) %}\n",
    "\n",
    "            var {{this.get_name()}} = new L.GeoJSON({{this.data}});\n",
    "\n",
    "            {{this._parent.get_name()}}.addLayer({{this.get_name()}});\n",
    "\n",
    "            var searchControl = new L.Control.Search({\n",
    "                layer: {{this.get_name()}},\n",
    "                propertyName: '{{this.search_label}}',\n",
    "            {% if this.geom_type == 'Point' %}\n",
    "                initial: false,\n",
    "                zoom: {{this.search_zoom}},\n",
    "                position:'{{this.position}}',\n",
    "                hideMarkerOnCollapse: true\n",
    "            {% endif %}\n",
    "            {% if this.geom_type == 'Polygon' %}\n",
    "                marker: false,\n",
    "                moveToLocation: function(latlng, title, map) {\n",
    "                var zoom = {{this._parent.get_name()}}.getBoundsZoom(latlng.layer.getBounds());\n",
    "                    {{this._parent.get_name()}}.setView(latlng, zoom); // access the zoom\n",
    "                }\n",
    "            {% endif %}\n",
    "                });\n",
    "                searchControl.on('search:locationfound', function(e) {\n",
    "\n",
    "                    e.layer.setStyle({fillColor: '#3f0', color: '#0f0'});\n",
    "                    if(e.layer._popup)\n",
    "                        e.layer.openPopup();\n",
    "\n",
    "                }).on('search:collapsed', function(e) {\n",
    "\n",
    "                    {{this.get_name()}}.eachLayer(function(layer) {   //restore feature color\n",
    "                        {{this.get_name()}}.resetStyle(layer);\n",
    "                    });\n",
    "                });\n",
    "            {{this._parent.get_name()}}.addControl( searchControl );\n",
    "\n",
    "        {% endmacro %}\n",
    "        \"\"\")  # noqa\n",
    "\n",
    "    def render(self, **kwargs):\n",
    "        super(Search, self).render()\n",
    "\n",
    "        figure = self.get_root()\n",
    "        assert isinstance(figure, Figure), ('You cannot render this Element '\n",
    "                                            'if it is not in a Figure.')\n",
    "\n",
    "        figure.header.add_child(\n",
    "            JavascriptLink('https://cdn.jsdelivr.net/npm/leaflet-search@2.3.6/dist/leaflet-search.min.js'),  # noqa\n",
    "            name='Leaflet.Search.js'\n",
    "        )\n",
    "\n",
    "        figure.header.add_child(\n",
    "            CssLink('https://cdn.jsdelivr.net/npm/leaflet-search@2.3.6/dist/leaflet-search.min.css'),  # noqa\n",
    "            name='Leaflet.Search.css'\n",
    "        )\n"
   ]
  },
  {
   "cell_type": "markdown",
   "metadata": {},
   "source": [
    "---\n",
    "\n",
    "## The Data <a id='data'></a>\n",
    "---"
   ]
  },
  {
   "cell_type": "code",
   "execution_count": null,
   "metadata": {
    "collapsed": true
   },
   "outputs": [],
   "source": [
    "# Searchable US states\n",
    "with open(os.path.join('data', 'search_states.json')) as f:\n",
    "    states = json.loads(f.read())\n",
    "\n",
    "\n",
    "def getColor(d):\n",
    "    if d > 1000:\n",
    "        return '#800026'\n",
    "    if d > 500:\n",
    "        return '#BD0026'\n",
    "    if d > 200:\n",
    "        return '#E31A1C'\n",
    "    if d > 100:\n",
    "        return '#FC4E2A'\n",
    "    if d > 50:\n",
    "        return '#FD8D3C'\n",
    "    if d > 20:\n",
    "        return '#FEB24C'\n",
    "    if d > 10:\n",
    "        return '#FED976'\n",
    "    else:\n",
    "        return '#FFEDA0'\n",
    "\n",
    "\n",
    "for state in states['features']:\n",
    "    state['properties']['color'] = getColor(state['properties']['density'])\n",
    "\n",
    "# Searchable Roman location markers\n",
    "with open(os.path.join('data', 'search_bars_rome.json')) as f:\n",
    "    rome = json.loads(f.read())\n",
    "    \n",
    "# Berkeley PD call report location coordinates\n",
    "with open('data/call_locs.txt') as f:\n",
    "    coords = np.fromfile(f).tolist()\n",
    "    call_locs = [[coords[i], coords[i + 1]] for i in range(0, len(coords), 2)]"
   ]
  },
  {
   "cell_type": "markdown",
   "metadata": {},
   "source": [
    "---\n",
    "\n",
    "## Plugins <a id='data'></a>\n",
    "Now that we're familiar with several different types of Folium mapping, we make our maps more functional with two additional **plug-ins**: Folium package components that add new features. Today, we'll work with **Search** and **Draw**.\n",
    "\n",
    "\n",
    "---\n"
   ]
  },
  {
   "cell_type": "markdown",
   "metadata": {},
   "source": [
    "## Search  <a id='section 1'></a>"
   ]
  },
  {
   "cell_type": "markdown",
   "metadata": {},
   "source": [
    "Most map applications you've used likely contained a search function. Here's how to add one using Folium.\n",
    "\n",
    "Create a map of the United States. Next, create a Search object by calling its constructor function, then add the Search to your Map using `add_too`- just like you've done with many other Folium modules. \n",
    "\n",
    "`Search(...)` needs to be given some searchable GeoJSON-formatted data. Here, you can use `states`. \n",
    "\n",
    "Hint: Remember, the `add_too` function call looks something like `<thing you want to add>.add_to(<place you want to add it to>)`"
   ]
  },
  {
   "cell_type": "code",
   "execution_count": null,
   "metadata": {
    "collapsed": true,
    "scrolled": true
   },
   "outputs": [],
   "source": [
    "# create a searchable map"
   ]
  },
  {
   "cell_type": "markdown",
   "metadata": {},
   "source": [
    "You can also set optional parameters such as the location of the bar. We loaded the code for Search in an earlier cell: look at the 'parameters' section to see what options you can change, then see what happens when you change `geom_type`, `search_zoom`, and `position` on your states search map. \n",
    "\n",
    "In addition to searching for whole geographic areas, we can also search for specific locations. Create another searchable map in the cell below, this time using [41.9, 12.5] for the map coordinates and `rome` for your search data. You'll want to set a high `search_zoom`. How many cafes can you find?"
   ]
  },
  {
   "cell_type": "code",
   "execution_count": null,
   "metadata": {
    "collapsed": true
   },
   "outputs": [],
   "source": [
    "# create a searchable map of Rome\n"
   ]
  },
  {
   "cell_type": "markdown",
   "metadata": {
    "collapsed": true
   },
   "source": [
    "Folium's Search is currently pretty limited, but it can be useful when you have the right set of GeoJSON data. \n",
    "1. Go to http://geojson.io, a tool for creating and downloading GeoJSON (the interface might look familiar: they use Leaflet, the same software Folium is build around).  \n",
    "2. Create ten markers any where you'd like. Click on each marker and name them by adding a row with 'name' in the left column and the marker's name in the right column.\n",
    "3. Save your markers in a GeoJSON file by using the save menu in the upper right.\n",
    "4. Upload your GeoJSON file to datahub\n",
    "5. Open your file in this notebook and create a searchable map using your markers. Hint: there's an example of code for opening a GeoJSON file earlier in this notebook.\n"
   ]
  },
  {
   "cell_type": "code",
   "execution_count": null,
   "metadata": {
    "collapsed": true
   },
   "outputs": [],
   "source": [
    "# upload and plot your markers"
   ]
  },
  {
   "cell_type": "markdown",
   "metadata": {},
   "source": [
    "---"
   ]
  },
  {
   "cell_type": "markdown",
   "metadata": {},
   "source": [
    "## Draw <a id='section 2'></a>"
   ]
  },
  {
   "cell_type": "markdown",
   "metadata": {},
   "source": [
    "A **Draw** tool can be a great way to interactively add, change, or highlight features on your map. Adding it is  simple:\n",
    "\n",
    "1. Create a Map \n",
    "2. Create a Draw object by calling the `Draw()` constructor function \n",
    "3. Add your Draw object to your map using `add_to`\n",
    "\n"
   ]
  },
  {
   "cell_type": "markdown",
   "metadata": {},
   "source": [
    "Folium's Draw has a lot of features. Let's try a few.\n",
    "\n",
    "- Draw a polygon representing the [Bermuda Triangle](https://en.wikipedia.org/wiki/Bermuda_Triangle)\n",
    "- The Deepwater Horizon oil spill in 2010 occurred in the nearby Gulf of Mexico. Look up the exact coordinates, add a marker for the center, and draw two circles: one representing the size of the spill at its smallest, and one at its largest."
   ]
  },
  {
   "cell_type": "code",
   "execution_count": null,
   "metadata": {
    "collapsed": true
   },
   "outputs": [],
   "source": [
    "..."
   ]
  },
  {
   "cell_type": "markdown",
   "metadata": {},
   "source": [
    "\n",
    "- The Proclaimers say [they would walk 500 miles and they would walk 500 more just to be the man who walked 1000 miles to fall down at your door](https://en.wikipedia.org/wiki/I%27m_Gonna_Be_(500_Miles). Create a map with a marker at the Proclaimers' birthplace in Edinburgh, Scotland. Then make a circle with a radius of 1000 miles (about 1600 kilometers) centered at Edinburgh to see if the Proclaimers can reach your door.\n",
    "- Vanessa Carlton lives in Nashville, Tennessee and says that [you know she'd walk 1000 miles if she could just see you](https://en.wikipedia.org/wiki/A_Thousand_Miles). Use the edit layers button to move your circle to be centered at Nashville and see if you're in Vanessa's range. Note: the circle changes size slightly when you move it south. Why?\n",
    "\n"
   ]
  },
  {
   "cell_type": "code",
   "execution_count": null,
   "metadata": {
    "collapsed": true
   },
   "outputs": [],
   "source": [
    "..."
   ]
  },
  {
   "cell_type": "markdown",
   "metadata": {},
   "source": [
    "- Recreate the HeatMap you made on Tuesday using the Berkeley Police Department call location data (the call coordinates are stored in the variable `call_locs`). Add the Draw tool, then draw a polyline representing the route from Barrows Hall to your home that passes through the fewest call locations. How long is it? How does it compare to the shortest possible route?\n"
   ]
  },
  {
   "cell_type": "code",
   "execution_count": null,
   "metadata": {
    "collapsed": true
   },
   "outputs": [],
   "source": [
    "..."
   ]
  },
  {
   "cell_type": "markdown",
   "metadata": {},
   "source": [
    "Visualization is a powerful way to understand and communicate data. For each Draw tool, think of one data analysis project that would be a good use of the tool:"
   ]
  },
  {
   "cell_type": "markdown",
   "metadata": {},
   "source": [
    "**ANSWER:**"
   ]
  },
  {
   "cell_type": "markdown",
   "metadata": {},
   "source": [
    "Congratulations; you're a folium expert!"
   ]
  },
  {
   "cell_type": "markdown",
   "metadata": {},
   "source": [
    "---\n",
    "Notebook developed by: Keeley Takimoto\n",
    "\n",
    "Data Science Modules: http://data.berkeley.edu/education/modules\n"
   ]
  }
 ],
 "metadata": {
  "anaconda-cloud": {},
  "kernelspec": {
   "display_name": "Python [default]",
   "language": "python",
   "name": "python3"
  },
  "language_info": {
   "codemirror_mode": {
    "name": "ipython",
    "version": 3
   },
   "file_extension": ".py",
   "mimetype": "text/x-python",
   "name": "python",
   "nbconvert_exporter": "python",
   "pygments_lexer": "ipython3",
   "version": "3.5.4"
  }
 },
 "nbformat": 4,
 "nbformat_minor": 1
}
