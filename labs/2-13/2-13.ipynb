{
 "cells": [
  {
   "cell_type": "markdown",
   "metadata": {},
   "source": [
    "# [LEGALST-190] Lab 2-13\n",
    "\n",
    "\n",
    "###### For example, [LING 110] Explorations of Vowels (1). Only put a number if there are multiple notebooks for this module. \n",
    "---\n",
    "<img src=\"http://www.cleargoals.com/wp-content/uploads/2017/04/data-science-methods-and-algorithms-for-big-data.jpg\" style=\"width: 500px; height: 275px;\" />\n",
    "\n",
    "### Professor X\n",
    "\n",
    "In this lab, students will learn how to construct a heatmap, as well as an interactive heat map. This will also be a component of the take-home problem set.\n",
    "\n",
    "*Estimated Time: 40 minutes*\n",
    "\n",
    "---\n",
    "\n",
    "### Topics Covered\n",
    "- Short sentence topic 1\n",
    "- Short sentence topic 2\n",
    "- Short sentence topic 3\n",
    "\n",
    "### Table of Contents\n",
    "\n",
    "[The Data](#section data)<br>\n",
    "\n",
    "[Context](#section context)<br>\n",
    "\n",
    "1 - [Section 1](#section 1)<br>\n",
    "\n",
    "2 - [Section 2](#section 2)<br>\n",
    "\n",
    "3 - [Section 3](#section 3)<br>\n",
    "\n",
    "&nbsp;&nbsp;&nbsp;&nbsp;&nbsp;&nbsp; 1 - [Subsection 1](#subsection 1)\n",
    "\n",
    "\n",
    "\n",
    "**Dependencies:**"
   ]
  },
  {
   "cell_type": "code",
   "execution_count": 6,
   "metadata": {
    "collapsed": true
   },
   "outputs": [],
   "source": [
    "from datascience import *\n",
    "%matplotlib inline\n",
    "import matplotlib.pyplot as plt\n",
    "import numpy as np\n",
    "import pandas as pd\n",
    "import folium\n",
    "import json\n",
    "import os"
   ]
  },
  {
   "cell_type": "markdown",
   "metadata": {},
   "source": [
    "---\n",
    "\n",
    "## The Data <a id='data'></a>\n",
    "Explanation of the data the students will be working with. \n",
    "\n",
    "<b>Example</b>: In this notebook, you'll be working with a poll relating to the upcoming Presidential election. The results detail support for each of the two leading candidates (Hillary Clinton and Donald Trump) among a variety of demographics. The poll itself comes from Pew Research Center, and we recommend reading their analysis on the same data set once you've done your own! Find that <a href = http://www.people-press.org/2016/08/18/clinton-trump-supporters-have-starkly-different-views-of-a-changing-nation/> here</a>.\n",
    "\n",
    "---"
   ]
  },
  {
   "cell_type": "code",
   "execution_count": 7,
   "metadata": {
    "collapsed": true
   },
   "outputs": [],
   "source": [
    "# US States GeoJSON file\n",
    "us_states = os.path.join('data', 'us-states.json')\n",
    "geo_json_data = json.load(open(us_states))\n",
    "\n",
    "# Unemployment Data\n",
    "US_Unemployment_Oct2012 = os.path.join('data', 'US_Unemployment_Oct2012.csv')\n",
    "unemployment = pd.read_csv(US_Unemployment_Oct2012)"
   ]
  },
  {
   "cell_type": "markdown",
   "metadata": {},
   "source": [
    "---\n",
    "\n",
    "## Folium <a id='data'></a>\n",
    "Explanation of how the package relates to the course content.\n",
    "\n",
    "<b>Example</b>: In this government course, we have learned a lot about elections. By exploring this dataset, we will obtain a better understanding of modern day elections.\n",
    "\n",
    "---\n"
   ]
  },
  {
   "cell_type": "markdown",
   "metadata": {},
   "source": [
    "## Heatmap  <a id='section 1'></a>"
   ]
  },
  {
   "cell_type": "markdown",
   "metadata": {},
   "source": [
    "* intro:what does heatmap do? why is it useful?\n",
    "* how to use heatmamp\n",
    "* heatmap example\n",
    "* skeleton code for heatmap\n",
    "* optional: open-ended question for students (e.g. what conclusions can you draw from this heatmap?)"
   ]
  },
  {
   "cell_type": "code",
   "execution_count": 3,
   "metadata": {
    "collapsed": true
   },
   "outputs": [],
   "source": [
    "# CODE"
   ]
  },
  {
   "cell_type": "markdown",
   "metadata": {},
   "source": [
    "Ask students questions to get them thinking about the data themselves. Make sure it is clear that this text is a question they have to answer and give them a clear place to answer the question."
   ]
  },
  {
   "cell_type": "markdown",
   "metadata": {},
   "source": [
    "---\n",
    "\n",
    "Suggested format:\n",
    "\n",
    "<b>Question 1:</b> What kind of patterns do you see in this graph? \n",
    "\n",
    "<b>Answer: </b> YOUR ANSWER HERE\n"
   ]
  },
  {
   "cell_type": "markdown",
   "metadata": {},
   "source": [
    "<b> Question 2</b>: Write the command to print \"Hello world\"."
   ]
  },
  {
   "cell_type": "code",
   "execution_count": 1,
   "metadata": {
    "collapsed": true
   },
   "outputs": [],
   "source": [
    "# YOUR CODE HERE"
   ]
  },
  {
   "cell_type": "markdown",
   "metadata": {},
   "source": [
    "---"
   ]
  },
  {
   "cell_type": "markdown",
   "metadata": {},
   "source": [
    "## HeatMapwithTime <a id='section 2'></a>"
   ]
  },
  {
   "cell_type": "markdown",
   "metadata": {},
   "source": [
    "* intro:what does heatmapwithtime do? why is it useful?\n",
    "* how to use heatmampwithtime\n",
    "* heatmapwithtime example\n",
    "* skeleton code for heatmapwithtime\n",
    "* optional: open-ended question for students "
   ]
  },
  {
   "cell_type": "code",
   "execution_count": 7,
   "metadata": {
    "collapsed": true
   },
   "outputs": [],
   "source": [
    "# CODE"
   ]
  },
  {
   "cell_type": "markdown",
   "metadata": {},
   "source": [
    "## Section 3 <a id='section 3'></a>"
   ]
  },
  {
   "cell_type": "markdown",
   "metadata": {},
   "source": [
    "Intro to section 3 here."
   ]
  },
  {
   "cell_type": "code",
   "execution_count": 8,
   "metadata": {
    "collapsed": true
   },
   "outputs": [],
   "source": [
    "# CODE"
   ]
  },
  {
   "cell_type": "markdown",
   "metadata": {},
   "source": [
    "### Subsection 1 <a id='subsection 1'></a>"
   ]
  },
  {
   "cell_type": "markdown",
   "metadata": {},
   "source": [
    "Intro to subsection 1 here."
   ]
  },
  {
   "cell_type": "code",
   "execution_count": 9,
   "metadata": {
    "collapsed": true
   },
   "outputs": [],
   "source": [
    "# CODE"
   ]
  },
  {
   "cell_type": "markdown",
   "metadata": {},
   "source": [
    "---\n",
    "\n",
    "## Bibliography"
   ]
  },
  {
   "cell_type": "markdown",
   "metadata": {},
   "source": [
    "Cite with APA format, in bullet points.\n",
    "\n",
    "<b>Format</b>: Last, F. M. (Year, Month Date Published). Article title. Retrieved from URL\n",
    "\n",
    "Example:\n",
    "\n",
    "- DeNero, John S. (1998, October). NLP. Retrieved from https://denero.org"
   ]
  },
  {
   "cell_type": "markdown",
   "metadata": {},
   "source": [
    "---\n",
    "\n",
    "#### Notes for Notebook Style:\n",
    "\n",
    "- Follow [PEP 8](https://www.python.org/dev/peps/pep-0008/) style guide for Python\n",
    "- No two cells of successive code or Markdown\n",
    "- Run all cells with no errors\n",
    "- Clear all cell output before pushing\n",
    "- Create a binder for the repo on [mybinder.org](http://mybinder.org) and paste the badge to the top of the README markdown file\n",
    "\n",
    "\n",
    "#### Notes for Code Style:\n",
    "- Each line or section of code should be accompanied with a comment\n",
    "- Comments and code lines should not be too long\n",
    "- Naming variables: use descriptive names (titanic vs. data), use underscores, not camel case\n",
    "\n",
    "#### Notes for Visualizations:\n",
    "- Graphs should be displayed with titles and label axes\n",
    "\n",
    "#### Example of good code and graphs:"
   ]
  },
  {
   "cell_type": "markdown",
   "metadata": {},
   "source": [
    "First, we will learn about basic plotting with pandas and seaborn."
   ]
  },
  {
   "cell_type": "code",
   "execution_count": 6,
   "metadata": {},
   "outputs": [
    {
     "data": {
      "image/png": "[encoded data removed]",
      "text/plain": [
       "<matplotlib.figure.Figure at 0x2e8af6407f0>"
      ]
     },
     "metadata": {},
     "output_type": "display_data"
    }
   ],
   "source": [
    "# Import pandas, a data science library, and matplotlib for plotting\n",
    "import pandas as pd\n",
    "import matplotlib.pyplot as plt\n",
    "\n",
    "# Create a DataFrame, or a container of data, with numbers 1 - 3\n",
    "numbers = pd.DataFrame([1, 2, 3])\n",
    "\n",
    "# Plots the numbers DataFrame\n",
    "plt.plot(numbers)\n",
    "plt.title(\"Number Line\") \n",
    "plt.xlabel(\"x-axis\")\n",
    "plt.ylabel(\"y-axis\")\n",
    "plt.show()"
   ]
  },
  {
   "cell_type": "markdown",
   "metadata": {},
   "source": [
    "---\n",
    "Notebook developed by: X, X, X\n",
    "\n",
    "Data Science Modules: http://data.berkeley.edu/education/modules\n"
   ]
  }
 ],
 "metadata": {
  "anaconda-cloud": {},
  "kernelspec": {
   "display_name": "Python 3",
   "language": "python",
   "name": "python3"
  },
  "language_info": {
   "codemirror_mode": {
    "name": "ipython",
    "version": 3
   },
   "file_extension": ".py",
   "mimetype": "text/x-python",
   "name": "python",
   "nbconvert_exporter": "python",
   "pygments_lexer": "ipython3",
   "version": "3.6.3"
  }
 },
 "nbformat": 4,
 "nbformat_minor": 1
}
