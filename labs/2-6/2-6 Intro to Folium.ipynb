{
 "cells": [
  {
   "cell_type": "code",
   "execution_count": null,
   "metadata": {
    "collapsed": true
   },
   "outputs": [],
   "source": [
    "from datascience import *\n",
    "%matplotlib inline\n",
    "import matplotlib.pyplot as plt\n",
    "import numpy as np\n",
    "import folium\n",
    "import json\n",
    "import os"
   ]
  },
  {
   "cell_type": "markdown",
   "metadata": {},
   "source": [
    "## Data"
   ]
  },
  {
   "cell_type": "markdown",
   "metadata": {},
   "source": [
    "This lab will serve as an introduction to the folium package. We will learn how to plot a folium map, overlay it with a json file, and add markers. Consult (https://python-visualization.github.io/folium/quickstart.html) for help! We will use folium's interface for building the base maps, and the \"us-states\" dataset for overlaying a GeoJSON file."
   ]
  },
  {
   "cell_type": "markdown",
   "metadata": {},
   "source": [
    "## Basic Mapping"
   ]
  },
  {
   "cell_type": "code",
   "execution_count": null,
   "metadata": {
    "collapsed": true
   },
   "outputs": [],
   "source": [
    "us_states = os.path.join('data', 'us-states.json')\n",
    "geo_json_data = json.load(open(us_states))"
   ]
  },
  {
   "cell_type": "markdown",
   "metadata": {},
   "source": [
    "First, plot a map of the United States. To do this:\n",
    "\n",
    "1. Look up the coordinates for the geographic center of the United States\n",
    "2. Use folium.Map to plot the U.S. based on these coordiantes\n",
    "3. Experiment with different zoom_start numbers to visualize the continental U.S."
   ]
  },
  {
   "cell_type": "code",
   "execution_count": null,
   "metadata": {},
   "outputs": [],
   "source": []
  },
  {
   "cell_type": "markdown",
   "metadata": {},
   "source": [
    "#### Question 1"
   ]
  },
  {
   "cell_type": "markdown",
   "metadata": {},
   "source": [
    "Where is the geographic center of the United States? Why does it make sense to start from the center and them zoom out?"
   ]
  },
  {
   "cell_type": "markdown",
   "metadata": {},
   "source": [
    "## Overlay with GeoJson data"
   ]
  },
  {
   "cell_type": "markdown",
   "metadata": {},
   "source": [
    "In this next section, we will learn how to work with GeoJSON data. JavaScript Object Notation (JSON) is an open-standard file format that maps text into attributes. GeoJSON is a particular implementation of this that stores geographic information (shapes of boundaries, coordinates, etc.). Now use folium.GeoJson to overlay the \"us_states\" json file on top of the map of the U.S.\n",
    "\n",
    "Hint: The GeoJSON file was already loaded in earlier with the \"json.load\" command!"
   ]
  },
  {
   "cell_type": "code",
   "execution_count": null,
   "metadata": {},
   "outputs": [],
   "source": []
  },
  {
   "cell_type": "markdown",
   "metadata": {},
   "source": [
    "Add a \"style function\" to customize your GeoJSON overlay! Try following this format:\n",
    "\n",
    "folium.GeoJson(\n",
    "    geo_json_data,\n",
    "    style_function = lambda feature: {\n",
    "        'fillColor':\n",
    "        'color':\n",
    "        'weight':\n",
    "        'dashArray':\n",
    "    )\n",
    ").add_to()\n",
    "\n",
    "Experiment with different options for these arguments, then call your map."
   ]
  },
  {
   "cell_type": "code",
   "execution_count": null,
   "metadata": {},
   "outputs": [],
   "source": [
    "folium.GeoJson(\n",
    "    geo_json_data,\n",
    "    style_function=lambda feature: {\n",
    "        'fillColor': \n",
    "        'color': \n",
    "        'weight': \n",
    "        'dashArray': \n",
    "    }\n",
    ").add_to()"
   ]
  },
  {
   "cell_type": "markdown",
   "metadata": {},
   "source": [
    "Now write code that customizes the 'fillColor' argument to fill in states that you have visited! \n",
    "\n",
    "Here's a hint:\n",
    "'fillColor': 'green' if 'e' in feature['properties']['name'].tolower() else '#ffff00'\n",
    "\n",
    "would generate a map where states with 'e' in their names would be shaded green, and the rest would be shaded yellow ('#ffff00' is the hex color for yellow). Try adding more \"else\" statements for the states that you have visited."
   ]
  },
  {
   "cell_type": "code",
   "execution_count": null,
   "metadata": {},
   "outputs": [],
   "source": []
  },
  {
   "cell_type": "markdown",
   "metadata": {},
   "source": [
    "## Tiles and Markers"
   ]
  },
  {
   "cell_type": "markdown",
   "metadata": {},
   "source": [
    "Now let's try plotting San Francisco! Do the following:\n",
    "\n",
    "1. Save the coordinates into an object called \"sf_coords\"\n",
    "2. Use \"sf_coords\" in the \"folium.Map\" argument instead of explicitly calling the coordinates\n",
    "3. Create four maps using zoom levels 1, 4, 12, and 20. Which one provides the best look at San Francisco?"
   ]
  },
  {
   "cell_type": "code",
   "execution_count": null,
   "metadata": {
    "collapsed": true
   },
   "outputs": [],
   "source": []
  },
  {
   "cell_type": "code",
   "execution_count": null,
   "metadata": {},
   "outputs": [],
   "source": []
  },
  {
   "cell_type": "code",
   "execution_count": null,
   "metadata": {},
   "outputs": [],
   "source": []
  },
  {
   "cell_type": "code",
   "execution_count": null,
   "metadata": {},
   "outputs": [],
   "source": []
  },
  {
   "cell_type": "code",
   "execution_count": null,
   "metadata": {},
   "outputs": [],
   "source": []
  },
  {
   "cell_type": "markdown",
   "metadata": {},
   "source": [
    "Now add the \"tiles\" argument to folium.Map. Plot maps of San Francisco with the \"Stamen Toner\" tileset, and the \"Mapbox Bright\" tileset."
   ]
  },
  {
   "cell_type": "code",
   "execution_count": null,
   "metadata": {},
   "outputs": [],
   "source": []
  },
  {
   "cell_type": "code",
   "execution_count": null,
   "metadata": {
    "scrolled": true
   },
   "outputs": [],
   "source": []
  },
  {
   "cell_type": "markdown",
   "metadata": {},
   "source": [
    "Next, plot a map of the United States again. Place markers at the following famous landmarks:\n",
    "\n",
    "1. The Statue of Liberty (New York City/New Jersey)\n",
    "2. Yosemite National Park (California)\n",
    "3. Gateway Arch (St. Louis, Missouri)\n",
    "4. Independence Hall (Philadelphia, Pennsylvania)\n",
    "5. Cloud Gate (Chicago, Illinois)\n",
    "6. United States Capitol Building (Washington D.C.)\n",
    "7. Jackson Square (New Orleans, Louisiana)\n",
    "8. Space Needle (Seattle, Washington)\n",
    "9. Walt Disney World (Orlando, Florida)\n",
    "10. Las Vegas Strip (Las Vegas, Nevada)\n",
    "\n",
    "Experiment with different icon types by using the \"folium.Icon\" argument! Try placing one \"cloud\" icon and one \"green\" icon on the map!"
   ]
  },
  {
   "cell_type": "code",
   "execution_count": null,
   "metadata": {},
   "outputs": [],
   "source": []
  },
  {
   "cell_type": "markdown",
   "metadata": {},
   "source": [
    "Next, create a map of Berkeley. Use the \"folium.ClickforMarker()\" method to place mstkrtd at the following locations by clicking:\n",
    "1. Barrows Hall\n",
    "2. UC Berkeley Law\n",
    "3. The Big C\n",
    "4. The Campanile"
   ]
  },
  {
   "cell_type": "code",
   "execution_count": null,
   "metadata": {},
   "outputs": [],
   "source": []
  },
  {
   "cell_type": "markdown",
   "metadata": {},
   "source": []
  }
 ],
 "metadata": {
  "kernelspec": {
   "display_name": "Python 3",
   "language": "python",
   "name": "python3"
  },
  "language_info": {
   "codemirror_mode": {
    "name": "ipython",
    "version": 3
   },
   "file_extension": ".py",
   "mimetype": "text/x-python",
   "name": "python",
   "nbconvert_exporter": "python",
   "pygments_lexer": "ipython3",
   "version": "3.6.3"
  }
 },
 "nbformat": 4,
 "nbformat_minor": 2
}
