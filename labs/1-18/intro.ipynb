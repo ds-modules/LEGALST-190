{
 "cells": [
  {
   "cell_type": "markdown",
   "metadata": {},
   "source": [
    "# Legal Studies 190 - Data, Prediction, and Law\n",
    "\n",
    "Welcome to our class! This introductory notebook will reviews concepts that you may already be familiar with from Data 8 or similar courses. The basic strategies and tools for data analysis covered in this notebook will be the foundations of this class. It will cover an overview of our software and some programming concepts.\n",
    "\n",
    "## Table of Contents\n",
    "\n",
    "1 - [Computing Environment](#computing environment)\n",
    "\n",
    "2 - [Coding Concepts](#programming concepts)\n",
    "    \n",
    "&nbsp;&nbsp;&nbsp;&nbsp;&nbsp;&nbsp; 1 - [Python Basics](#python basics)\n",
    "\n",
    "&nbsp;&nbsp;&nbsp;&nbsp;&nbsp;&nbsp; 2 - [Tables](#tables)\n",
    "\n",
    "&nbsp;&nbsp;&nbsp;&nbsp;&nbsp;&nbsp; 3 - [Visualization](#viz)\n",
    "\n",
    "3 - [Macroeconomics](#econ)\n",
    "\n",
    "&nbsp;&nbsp;&nbsp;&nbsp;&nbsp;&nbsp; 1 - [Chapter 1](#chapter 1)\n",
    "\n",
    "&nbsp;&nbsp;&nbsp;&nbsp;&nbsp;&nbsp; 2 - [Chapter 2](#chapter 2)"
   ]
  },
  {
   "cell_type": "markdown",
   "metadata": {},
   "source": [
    "## Our Computing Environment, Jupyter notebooks  <a id='computing environment'></a>\n",
    "This webpage is called a Jupyter notebook. A notebook is a place to write programs and view their results. \n",
    "\n",
    "### Text cells\n",
    "In a notebook, each rectangle containing text or code is called a *cell*.\n",
    "\n",
    "Text cells (like this one) can be edited by double-clicking on them. They're written in a simple format called [Markdown](http://daringfireball.net/projects/markdown/syntax) to add formatting and section headings.  You don't need to learn Markdown, but you might want to.\n",
    "\n",
    "After you edit a text cell, click the \"run cell\" button at the top that looks like ▶| to confirm any changes. (Try not to delete the instructions of the lab.)"
   ]
  },
  {
   "cell_type": "markdown",
   "metadata": {},
   "source": [
    "**Understanding Check 1** This paragraph is in its own text cell.  Try editing it so that this sentence is the last sentence in the paragraph, and then click the \"run cell\" ▶| button .  This sentence, for example, should be deleted.  So should this one."
   ]
  },
  {
   "cell_type": "markdown",
   "metadata": {},
   "source": [
    "### Code cells\n",
    "Other cells contain code in the Python 3 language. Running a code cell will execute all of the code it contains.\n",
    "\n",
    "To run the code in a code cell, first click on that cell to activate it.  It'll be highlighted with a little green or blue rectangle.  Next, either press ▶| or hold down the `shift` key and press `return` or `enter`.\n",
    "\n",
    "Try running this cell:"
   ]
  },
  {
   "cell_type": "code",
   "execution_count": null,
   "metadata": {
    "collapsed": true
   },
   "outputs": [],
   "source": [
    "print(\"Hello, World!\")"
   ]
  },
  {
   "cell_type": "markdown",
   "metadata": {},
   "source": [
    "And this one:"
   ]
  },
  {
   "cell_type": "code",
   "execution_count": null,
   "metadata": {
    "collapsed": true
   },
   "outputs": [],
   "source": [
    "print(\"\\N{WAVING HAND SIGN}, \\N{EARTH GLOBE ASIA-AUSTRALIA}!\")"
   ]
  },
  {
   "cell_type": "markdown",
   "metadata": {},
   "source": [
    "The fundamental building block of Python code is an expression. Cells can contain multiple lines with multiple expressions. When you run a cell, the lines of code are executed in the order in which they appear. Every `print` expression prints a line. Run the next cell and notice the order of the output."
   ]
  },
  {
   "cell_type": "code",
   "execution_count": null,
   "metadata": {
    "collapsed": true
   },
   "outputs": [],
   "source": [
    "print(\"First this line is printed,\")\n",
    "print(\"and then this one.\")"
   ]
  },
  {
   "cell_type": "markdown",
   "metadata": {},
   "source": [
    "Don't be scared if you see a \"Kernel Restarting\" message! Your data and work will still be saved. Once you see \"Kernel Ready\" in a light blue box on the top right of the notebook, you'll be ready to work again. You should rerun any cells with imports, variables, and loaded data."
   ]
  },
  {
   "cell_type": "markdown",
   "metadata": {},
   "source": [
    "<img src=\"images/kernel.png\">"
   ]
  },
  {
   "cell_type": "markdown",
   "metadata": {},
   "source": [
    "### Writing Jupyter notebooks\n",
    "You can use Jupyter notebooks for your own projects or documents.  When you make your own notebook, you'll need to create your own cells for text and code.\n",
    "\n",
    "To add a cell, click the + button in the menu bar.  It'll start out as a text cell.  You can change it to a code cell by clicking inside it so it's highlighted, clicking the drop-down box next to the restart (⟳) button in the menu bar, and choosing \"Code\"."
   ]
  },
  {
   "cell_type": "markdown",
   "metadata": {},
   "source": [
    "### Errors\n",
    "Python is a language, and like natural human languages, it has rules.  It differs from natural language in two important ways:\n",
    "1. The rules are *simple*.  You can learn most of them in a few weeks and gain reasonable proficiency with the language in a semester.\n",
    "2. The rules are *rigid*.  If you're proficient in a natural language, you can understand a non-proficient speaker, glossing over small mistakes.  A computer running Python code is not smart enough to do that.\n",
    "\n",
    "Whenever you write code, you'll make mistakes.  When you run a code cell that has errors, Python will sometimes produce error messages to tell you what you did wrong.\n",
    "\n",
    "Errors are okay; even experienced programmers make many errors.  When you make an error, you just have to find the source of the problem, fix it, and move on.\n",
    "\n",
    "We have made an error in the next cell.  Run it and see what happens."
   ]
  },
  {
   "cell_type": "code",
   "execution_count": null,
   "metadata": {
    "collapsed": true
   },
   "outputs": [],
   "source": [
    "print(\"This line is missing something.\""
   ]
  },
  {
   "cell_type": "markdown",
   "metadata": {},
   "source": [
    "You should see something like this (minus our annotations):\n",
    "\n",
    "<img src=\"images/error.jpg\"/>\n",
    "\n",
    "The last line of the error output attempts to tell you what went wrong.  The *syntax* of a language is its structure, and this `SyntaxError` tells you that you have created an illegal structure.  \"`EOF`\" means \"end of file,\" so the message is saying Python expected you to write something more (in this case, a right parenthesis) before finishing the cell.\n",
    "\n",
    "There's a lot of terminology in programming languages, but you don't need to know it all in order to program effectively. If you see a cryptic message like this, you can often get by without deciphering it.  (Of course, if you're frustrated, feel free to ask a friend or post on the class Piazza.)\n",
    "\n",
    "**Understanding Check 2** Try to fix the code above so that you can run the cell and see the intended message instead of an error."
   ]
  },
  {
   "cell_type": "markdown",
   "metadata": {},
   "source": [
    "## Programming Concepts <a id='programming concepts'></a>\n",
    "\n",
    "Now that you are comfortable with our computing environment, we are going to be moving into more of the fundamentals of Python, but first, run the cell below to ensure all the libraries needed for this notebook are installed."
   ]
  },
  {
   "cell_type": "markdown",
   "metadata": {},
   "source": [
    "### Part 1: Python basics <a id='python basics'></a>\n",
    "Before getting into the more advanced analysis techniques that will be required in this course, we need to cover a few of the foundational elements of programming in Python.\n",
    "#### A. Expressions\n",
    "The departure point for all programming is the concept of the __expression__. An expression is a combination of variables, operators, and other Python elements that the language interprets and acts upon. Expressions act as a set of instructions to be fed through the interpreter, with the goal of generating specific outcomes. See below for some examples of basic expressions."
   ]
  },
  {
   "cell_type": "code",
   "execution_count": 4,
   "metadata": {},
   "outputs": [
    {
     "name": "stdout",
     "output_type": "stream",
     "text": [
      "4\n",
      "me and I\n",
      "me2\n",
      "144\n"
     ]
    }
   ],
   "source": [
    "# Examples of expressions:\n",
    "\n",
    "#addition\n",
    "print(2 + 2)\n",
    "\n",
    "#string concatenation \n",
    "print('me' + ' and I')\n",
    "\n",
    "#you can print a number with a string if you cast it \n",
    "print(\"me\" + str(2))\n",
    "\n",
    "#exponents\n",
    "print(12 ** 2)\n"
   ]
  },
  {
   "cell_type": "markdown",
   "metadata": {},
   "source": [
    "You will notice that only the last line in a cell gets printed out. If you want to see the values of previous expressions, you need to call `print` on that expression. Try adding `print` statements to some of the above expressions to get them to display."
   ]
  },
  {
   "cell_type": "markdown",
   "metadata": {},
   "source": [
    "#### Data Types\n",
    "\n",
    "In Python, all things have a type. In the above example, you saw saw *integers* (positive and negative whole numbers) and *strings* (sequences of characters, often thought of as words or sentences). We denote strings by surrounding the desired value with quotes. For example, \"Data Science\" and \"2017\" are strings, while `bears` and `2020` (both without quotes) are not strings (`bears` without quotes would be interpreted as a variable). You'll also be using decimal numbers in Python, which are called *floats* (positive and negative decimal numbers). \n",
    "\n",
    "You'll also often run into *booleans*. They can take on one of two values: `True` or `False`. Booleans are often used to check conditions; for example, we might have a list of dogs, and we want to sort them into small dogs and large dogs. One way we could accomplish this is to say either `True` or `False` for each dog after seeing if the dog weighs more than 15 pounds. \n",
    "\n",
    "We'll soon be going over additional data types. Below is a table that summarizes the information in this section:"
   ]
  },
  {
   "cell_type": "markdown",
   "metadata": {},
   "source": [
    "|Variable Type|Definition|Examples|\n",
    "|-|-|-|\n",
    "|Integer|Positive and negative whole numbers|`42`, `-10`, `0`|\n",
    "|Float|Positive and negative decimal numbers|`73.9`, `2.4`, `0.0`|\n",
    "|String|Sequence of characters|`\"Go Bears!\"`, `\"variables\"`|\n",
    "|Boolean|True or false value|`True`, `False`|\n"
   ]
  },
  {
   "cell_type": "markdown",
   "metadata": {},
   "source": [
    "#### B. Variables\n",
    "In the example below, `a` and `b` are Python objects known as __variables__. We are giving an object (in this case, an `integer` and a `float`, two Python data types) a name that we can store for later use. To use that value, we can simply type the name that we stored the value as. Variables are stored within the notebook's environment, meaning stored variable values carry over from cell to cell."
   ]
  },
  {
   "cell_type": "code",
   "execution_count": null,
   "metadata": {
    "collapsed": true
   },
   "outputs": [],
   "source": [
    "a = 4\n",
    "b = 10/5"
   ]
  },
  {
   "cell_type": "markdown",
   "metadata": {},
   "source": [
    "Notice that when you create a variable, unlike what you previously saw with the expressions, it does not print anything out."
   ]
  },
  {
   "cell_type": "code",
   "execution_count": null,
   "metadata": {
    "collapsed": true
   },
   "outputs": [],
   "source": [
    "# Notice that 'a' retains its value.\n",
    "print(a)\n",
    "a + b"
   ]
  },
  {
   "cell_type": "markdown",
   "metadata": {},
   "source": [
    "#### Question 1: Variables\n",
    "See if you can write a series of expressions that creates two new variables called __x__ and __y__ and assigns them values of __10.5__ and __7.2__. Then assign their product to the variable __combo__ and print it."
   ]
  },
  {
   "cell_type": "code",
   "execution_count": null,
   "metadata": {
    "collapsed": true
   },
   "outputs": [],
   "source": [
    "# Fill in the missing lines to complete the expressions.\n",
    "x = ...\n",
    "...\n",
    "...\n",
    "print(...)"
   ]
  },
  {
   "cell_type": "markdown",
   "metadata": {},
   "source": [
    "Check to see if the value you get for **combo** is what you expect it to be."
   ]
  },
  {
   "cell_type": "markdown",
   "metadata": {},
   "source": [
    "#### C. Lists\n",
    "The next topic is particularly useful in the kind of data manipulation that you will see throughout this class. The following few cells will introduce the concept of __lists__ (and their counterpart, `numpy arrays`). Read through the following cell to understand the basic structure of a list. \n",
    "\n",
    "A list is an ordered collection of objects. They allow us to store and access groups of variables and other objects for easy access and analysis. Check out this [documentation](https://www.tutorialspoint.com/python/python_lists.htm) for an in-depth look at the capabilities of lists.\n",
    "\n",
    "To initialize a list, you use brackets. Putting objects separated by commas in between the brackets will add them to the list. "
   ]
  },
  {
   "cell_type": "code",
   "execution_count": null,
   "metadata": {
    "collapsed": true
   },
   "outputs": [],
   "source": [
    "# an empty list\n",
    "lst = []\n",
    "print(lst)\n",
    "\n",
    "# reassigning our empty list to a new list\n",
    "lst = [1, 3, 6, 'lists', 'are' 'fun', 4]\n",
    "print(lst)"
   ]
  },
  {
   "cell_type": "markdown",
   "metadata": {},
   "source": [
    "To access a value in the list, put the index of the item you wish to access in brackets following the variable that stores the list. Lists in Python are zero-indexed, so the indicies for `lst` are 0, 1, 2, 3, 4, 5, and 6."
   ]
  },
  {
   "cell_type": "code",
   "execution_count": null,
   "metadata": {
    "collapsed": true
   },
   "outputs": [],
   "source": [
    "# Elements are selected like this:\n",
    "example = lst[2]\n",
    "\n",
    "# The above line selects the 3rd element of lst (list indices are 0-offset) and sets it to a variable named example.\n",
    "print(example)"
   ]
  },
  {
   "cell_type": "markdown",
   "metadata": {},
   "source": [
    "It is important to note that when you store a list to a variable, you are actually storing the **pointer** to the list. That means if you assign your list to another variable, and you change the elements in your other variable, then you are changing the same data as in the original list. "
   ]
  },
  {
   "cell_type": "code",
   "execution_count": 3,
   "metadata": {},
   "outputs": [
    {
     "name": "stdout",
     "output_type": "stream",
     "text": [
      "4\n"
     ]
    }
   ],
   "source": [
    "a = [1,2,3] #original list\n",
    "b = a #b now points to list a \n",
    "b[0] = 4 \n",
    "print(a[0]) #return 4 since we modified the first element of the list pointed to by a and b "
   ]
  },
  {
   "cell_type": "markdown",
   "metadata": {},
   "source": [
    "#### Slicing lists\n",
    "As you can see from above, lists do not have to be made up of elements of the same kind. Indices do not have to be taken one at a time, either. Instead, we can take a slice of indices and return the elements at those indices as a separate list."
   ]
  },
  {
   "cell_type": "code",
   "execution_count": null,
   "metadata": {
    "collapsed": true
   },
   "outputs": [],
   "source": [
    "### This line will store the first (inclusive) through fourth (exclusive) elements of lst as a new list called lst_2:\n",
    "lst_2 = lst[1:4]\n",
    "\n",
    "lst_2"
   ]
  },
  {
   "cell_type": "markdown",
   "metadata": {},
   "source": [
    "#### Question 2: Lists\n",
    "Build a list of length 10 containing whatever elements you'd like. Then, slice it into a new list of length five using a index slicing. Finally, assign the last element in your sliced list to the given variable and print it."
   ]
  },
  {
   "cell_type": "code",
   "execution_count": null,
   "metadata": {
    "collapsed": true,
    "scrolled": true
   },
   "outputs": [],
   "source": [
    "### Fill in the ellipses to complete the question.\n",
    "my_list = ...\n",
    "\n",
    "my_list_sliced = my_list[...]\n",
    "\n",
    "last_of_sliced = ...\n",
    "\n",
    "print(...)"
   ]
  },
  {
   "cell_type": "markdown",
   "metadata": {},
   "source": [
    "Lists can also be operated on with a few built-in analysis functions. These include `min` and `max`, among others. Lists can also be concatenated together. Find some examples below."
   ]
  },
  {
   "cell_type": "code",
   "execution_count": null,
   "metadata": {
    "collapsed": true
   },
   "outputs": [],
   "source": [
    "# A list containing six integers.\n",
    "a_list = [1, 6, 4, 8, 13, 2]\n",
    "\n",
    "# Another list containing six integers.\n",
    "b_list = [4, 5, 2, 14, 9, 11]\n",
    "\n",
    "print('Max of a_list:', max(a_list))\n",
    "print('Min of b_list:', min(a_list))\n",
    "\n",
    "# Concatenate a_list and b_list:\n",
    "c_list = a_list + b_list\n",
    "print('Concatenated:', c_list)"
   ]
  },
  {
   "cell_type": "markdown",
   "metadata": {},
   "source": [
    "#### D. Numpy Arrays\n",
    "Closely related to the concept of a list is the array, a nested sequence of elements that is structurally identical to a list. Arrays, however, can be operated on arithmetically with much more versatility than regular lists. For the purpose of later data manipulation, we'll access arrays through [Numpy](https://docs.scipy.org/doc/numpy/reference/routines.html), which will require an import statement.\n",
    "\n",
    "Now run the next cell to import the numpy library into your notebook, and examine how numpy arrays can be used."
   ]
  },
  {
   "cell_type": "code",
   "execution_count": null,
   "metadata": {
    "collapsed": true
   },
   "outputs": [],
   "source": [
    "import numpy as np"
   ]
  },
  {
   "cell_type": "code",
   "execution_count": null,
   "metadata": {
    "collapsed": true
   },
   "outputs": [],
   "source": [
    "# Initialize an array of integers 0 through 9.\n",
    "example_array = np.array([0, 1, 2, 3, 4, 5, 6, 7, 8, 9])\n",
    "\n",
    "# This can also be accomplished using np.arange\n",
    "example_array_2 = np.arange(10)\n",
    "print('Undoubled Array:')\n",
    "print(example_array_2)\n",
    "\n",
    "# Double the values in example_array and print the new array.\n",
    "double_array = example_array*2\n",
    "print('Doubled Array:')\n",
    "print(double_array)"
   ]
  },
  {
   "cell_type": "markdown",
   "metadata": {},
   "source": [
    "This behavior differs from that of a list. See below what happens if you multiply a list."
   ]
  },
  {
   "cell_type": "code",
   "execution_count": null,
   "metadata": {
    "collapsed": true
   },
   "outputs": [],
   "source": [
    "example_list = [1, 2, 3, 4, 5, 6, 7, 8, 9]\n",
    "example_list * 2"
   ]
  },
  {
   "cell_type": "markdown",
   "metadata": {},
   "source": [
    "Notice that instead of multiplying each of the elements by two, multiplying a list and a number returns that many copies of that list. This is the reason that we will sometimes use Numpy over lists. Other mathematical operations have interesting behaviors with lists that you should explore on your own. "
   ]
  },
  {
   "cell_type": "markdown",
   "metadata": {},
   "source": [
    "#### E. Looping\n",
    "[Loops](https://www.tutorialspoint.com/python/python_loops.htm) are often useful in manipulating, iterating over, or transforming large lists and arrays. The first type we will discuss is the __for loop__. For loops are helpful in traversing a list and performing an action at each element. For example, the following code moves through every element in example_array, adds it to the previous element in example_array, and copies this sum to a new array."
   ]
  },
  {
   "cell_type": "code",
   "execution_count": null,
   "metadata": {
    "collapsed": true
   },
   "outputs": [],
   "source": [
    "new_list = []\n",
    "\n",
    "for element in example_array:\n",
    "    new_element = element + 5\n",
    "    new_list.append(new_element)\n",
    "\n",
    "new_list"
   ]
  },
  {
   "cell_type": "markdown",
   "metadata": {
    "collapsed": true
   },
   "source": [
    "The most important line in the above cell is the \"`for element in...`\" line. This statement sets the structure of our  loop, instructing the machine to stop at every number in `example_array`, perform the indicated operations, and then move on. Once Python has stopped at every element in `example_array`, the loop is completed and the final line, which outputs `new_list`, is executed. It's important to note that \"element\" is an arbitrary variable name used to represent whichever index value the loop is currently operating on. We can change the variable name to whatever we want and achieve the same result, as long as we stay consistent. For example:"
   ]
  },
  {
   "cell_type": "code",
   "execution_count": null,
   "metadata": {
    "collapsed": true
   },
   "outputs": [],
   "source": [
    "newer_list = []\n",
    "\n",
    "for completely_arbitrary_name in example_array:\n",
    "    newer_element = completely_arbitrary_name + 5\n",
    "    newer_list.append(newer_element)\n",
    "    \n",
    "newer_list"
   ]
  },
  {
   "cell_type": "markdown",
   "metadata": {},
   "source": [
    "For loops can also iterate over ranges of numerical values. If I wanted to alter `example_array` without copying it over to a new list, I would use a numerical iterator to access list indices rather than the elements themselves. This iterator, called `i`, would range from 0, the value of the first index, to 9, the value of the last. I can make sure of this by using the built-in `range` and `len` functions."
   ]
  },
  {
   "cell_type": "code",
   "execution_count": null,
   "metadata": {
    "collapsed": true
   },
   "outputs": [],
   "source": [
    "for i in range(len(example_array)):\n",
    "    example_array[i] = example_array[i] + 5\n",
    "\n",
    "example_array"
   ]
  },
  {
   "cell_type": "markdown",
   "metadata": {},
   "source": [
    "#### Other types of loops\n",
    "The __while loop__ repeatedly performs operations until a conditional is no longer satisfied. A conditional is a [boolean expression](https://en.wikipedia.org/wiki/Boolean_expression), that is an expression that evaluates to `True` or `False`. \n",
    "\n",
    "In the below example, an array of integers 0 to 9 is generated. When the program enters the while loop on the subsequent line, it notices that the maximum value of the array is less than 50. Because of this, it adds 1 to the fifth element, as instructed. Once the instructions embedded in the loop are complete, the program refers back to the conditional. Again, the maximum value is less than 50. This process repeats until the the fifth element, now the maximum value of the array, is equal to 50, at which point the conditional is no longer true and the loop breaks."
   ]
  },
  {
   "cell_type": "code",
   "execution_count": null,
   "metadata": {
    "collapsed": true
   },
   "outputs": [],
   "source": [
    "while_array = np.arange(10)        # Generate our array of values\n",
    "\n",
    "print('Before:', while_array)\n",
    "\n",
    "while(max(while_array) < 50):      # Set our conditional\n",
    "    while_array[4] += 1            # Add 1 to the fifth element if the conditional is satisfied \n",
    "    \n",
    "print('After:', while_array)"
   ]
  },
  {
   "cell_type": "markdown",
   "metadata": {},
   "source": [
    "#### Question 3: Loops\n",
    "In the following cell, partial steps to manipulate an array are included. You must fill in the blanks to accomplish the following: <br>\n",
    "1. Iterate over the entire array, checking if each element is a multiple of 5\n",
    "2. If an element is not a multiple of 5, add 1 to it repeatedly until it is\n",
    "3. Iterate back over the list and print each element.\n",
    "\n",
    "> Hint: To check if an integer `x` is a multiple of `y`, use the modulus operator `%`. Typing `x % y` will return the remainder when `x` is divided by `y`. Therefore, (`x % y != 0`) will return `True` when `y` __does not divide__ `x`, and `False` when it does."
   ]
  },
  {
   "cell_type": "code",
   "execution_count": null,
   "metadata": {
    "collapsed": true
   },
   "outputs": [],
   "source": [
    "# Make use of iterators, range, length, while loops, and indices to complete this question.\n",
    "question_3 = np.array([12, 31, 50, 0, 22, 28, 19, 105, 44, 12, 77])\n",
    "\n",
    "for i in range(len(...)):\n",
    "    while(...):\n",
    "        question_3[i] = ...\n",
    "        \n",
    "for element in question_3:\n",
    "    print(...)"
   ]
  },
  {
   "cell_type": "markdown",
   "metadata": {},
   "source": [
    "The following cell should return `True` if your code is correct."
   ]
  },
  {
   "cell_type": "code",
   "execution_count": null,
   "metadata": {},
   "outputs": [],
   "source": [
    "answer = np.array([15, 35, 50, 0, 25, 30, 20, 105, 45, 15, 80])\n",
    "question_3 == answer"
   ]
  },
  {
   "cell_type": "markdown",
   "metadata": {},
   "source": [
    "#### F. Functions!\n",
    "Functions are useful when you want to repeat a series of steps on multiple different objects, but don't want to type out the steps over and over again. Many functions are built into Python already; for example, you've already made use of `len()` to retrieve the number of elements in a list. You can also write your own functions, and at this point you already have the skills to do so.\n",
    "\n",
    "\n",
    "Functions generally take a set of __parameters__ (also called inputs), which define the objects they will use when they are run. For example, the `len()` function takes a list or array as its parameter, and returns the length of that list.\n",
    "\n",
    "\n",
    "The following cell gives an example of an extremely simple function, called `add_two`, which takes as its parameter an integer and returns that integer with, you guessed it, 2 added to it."
   ]
  },
  {
   "cell_type": "code",
   "execution_count": null,
   "metadata": {
    "collapsed": true
   },
   "outputs": [],
   "source": [
    "# An adder function that adds 2 to the given n.\n",
    "def add_two(n):\n",
    "    return n + 2"
   ]
  },
  {
   "cell_type": "code",
   "execution_count": null,
   "metadata": {
    "collapsed": true
   },
   "outputs": [],
   "source": [
    "add_two(5)"
   ]
  },
  {
   "cell_type": "markdown",
   "metadata": {},
   "source": [
    "Easy enough, right? Let's look at a function that takes two parameters, compares them somehow, and then returns a boolean value (`True` or `False`) depending on the comparison. The `is_multiple` function below takes as parameters an integer `m` and an integer `n`, checks if `m` is a multiple of `n`, and returns `True` if it is. Otherwise, it returns `False`. \n",
    "\n",
    "`if` statements, just like `while` loops, are dependent on boolean expressions. If the conditional is `True`, then the following indented code block will be executed. If the conditional evaluates to `False`, then the code block will be skipped over. Read more about `if` statements [here](https://www.tutorialspoint.com/python/python_if_else.htm)."
   ]
  },
  {
   "cell_type": "code",
   "execution_count": null,
   "metadata": {
    "collapsed": true
   },
   "outputs": [],
   "source": [
    "def is_multiple(m, n):\n",
    "    if (m % n == 0):\n",
    "        return True\n",
    "    else:\n",
    "        return False"
   ]
  },
  {
   "cell_type": "code",
   "execution_count": null,
   "metadata": {
    "collapsed": true
   },
   "outputs": [],
   "source": [
    "is_multiple(12, 4)"
   ]
  },
  {
   "cell_type": "code",
   "execution_count": null,
   "metadata": {
    "collapsed": true
   },
   "outputs": [],
   "source": [
    "is_multiple(12, 7)"
   ]
  },
  {
   "cell_type": "markdown",
   "metadata": {},
   "source": [
    "**Sidenote:** Another way to write `is_multiple` is below, think about why it works.\n",
    "\n",
    "    def is_multiple(m, n):\n",
    "        return m % n == 0\n",
    "        \n",
    "Since functions are so easily replicable, we can include them in loops if we want. For instance, our `is_multiple` function can be used to check if a number is prime! See for yourself by testing some possible prime numbers in the cell below."
   ]
  },
  {
   "cell_type": "code",
   "execution_count": null,
   "metadata": {
    "collapsed": true
   },
   "outputs": [],
   "source": [
    "# Change possible_prime to any integer to test its primality\n",
    "# NOTE: If you happen to stumble across a large (> 8 digits) prime number, the cell could take a very, very long time\n",
    "# to run and will likely crash your kernel. Just click kernel>interrupt if it looks like it's caught.\n",
    "\n",
    "possible_prime = 9999991\n",
    "\n",
    "for i in range(2, possible_prime):\n",
    "    if (is_multiple(possible_prime, i)):\n",
    "        print(possible_prime, 'is not prime')   \n",
    "        break\n",
    "    if (i >= possible_prime/2):\n",
    "        print(possible_prime, 'is prime')\n",
    "        break"
   ]
  },
  {
   "cell_type": "markdown",
   "metadata": {},
   "source": [
    "#### Question 4: Writing functions\n",
    "In the following cell, complete a function that will take as its parameters a list and two integers x and y, iterate through the list, and replace any number in the list that is a multiple of x with y.\n",
    "> Hint: use the is_multiple() function to streamline your code."
   ]
  },
  {
   "cell_type": "code",
   "execution_count": null,
   "metadata": {
    "collapsed": true
   },
   "outputs": [],
   "source": [
    "def replace_with_y(lst, x, y):\n",
    "    for i in range(...):\n",
    "        if(...):\n",
    "            ...\n",
    "    return lst"
   ]
  },
  {
   "cell_type": "code",
   "execution_count": null,
   "metadata": {
    "collapsed": true
   },
   "outputs": [],
   "source": [
    "ok.grade('q04')"
   ]
  },
  {
   "cell_type": "markdown",
   "metadata": {},
   "source": [
    "### Part 2: Tables <a id='tables'></a>\n",
    "\n",
    "We will be using datascience tables for much of this class to organize and sort through tabular data. [datascience](http://data8.org/datascience) is a library that was developed here at Berkeley and is used for manipulating tabular data. It has a user-friendly API, and can be used to answer difficult questions in relatively few commands. Like we did with `numpy`, we will have to import `datascience`."
   ]
  },
  {
   "cell_type": "code",
   "execution_count": 3,
   "metadata": {},
   "outputs": [],
   "source": [
    "from datascience import *"
   ]
  },
  {
   "cell_type": "markdown",
   "metadata": {},
   "source": [
    "#### Creating Tables"
   ]
  },
  {
   "cell_type": "markdown",
   "metadata": {},
   "source": [
    "When dealing with a collection of things with multiple attributes, it can be useful to put the data in a _table_.  Tables are a nice way of organizing data in a 2-dimensional data set. For example, take a look at the table below."
   ]
  },
  {
   "cell_type": "code",
   "execution_count": 4,
   "metadata": {},
   "outputs": [
    {
     "data": {
      "text/html": [
       "<table border=\"1\" class=\"dataframe\">\n",
       "    <thead>\n",
       "        <tr>\n",
       "            <th>V4001</th> <th>YEARQ</th> <th>IDHH</th> <th>IDPER</th> <th>V4002</th> <th>V4003</th> <th>V4004</th> <th>V4005</th> <th>V4006</th> <th>V4008</th> <th>V4009</th> <th>V4010</th> <th>V4011</th> <th>V4012</th> <th>V4013</th> <th>V4014</th> <th>V4015</th> <th>V4016</th> <th>V4017</th> <th>V4018</th> <th>V4019</th> <th>V4021B</th> <th>V4022</th> <th>V4023</th> <th>V4023B</th> <th>V4024</th> <th>V4025</th> <th>V4026</th> <th>V4027</th> <th>V4028</th> <th>V4029</th> <th>V4030</th> <th>V4031</th> <th>V4032</th> <th>V4033</th> <th>V4034</th> <th>V4035</th> <th>V4036</th> <th>V4037</th> <th>V4038</th> <th>V4039</th> <th>V4040</th> <th>V4041A</th> <th>V4041B</th> <th>V4041C</th> <th>V4042</th> <th>V4043</th> <th>V4044</th> <th>V4045</th> <th>V4046</th> <th>V4047</th> <th>V4048</th> <th>V4049</th> <th>V4050</th> <th>V4051</th> <th>V4052</th> <th>V4053</th> <th>V4054</th> <th>V4055</th> <th>V4056</th> <th>V4057</th> <th>V4058</th> <th>V4059</th> <th>V4060</th> <th>V4061</th> <th>V4062</th> <th>V4063</th> <th>V4064</th> <th>V4065</th> <th>V4066</th> <th>V4067</th> <th>V4068</th> <th>V4069</th> <th>V4070</th> <th>V4071</th> <th>V4072</th> <th>V4073</th> <th>V4074</th> <th>V4075</th> <th>V4076</th> <th>V4077</th> <th>V4078</th> <th>V4079</th> <th>V4080</th> <th>V4081</th> <th>V4082</th> <th>V4083</th> <th>V4084</th> <th>V4085</th> <th>V4086</th> <th>V4087</th> <th>V4088</th> <th>V4089</th> <th>V4090</th> <th>V4091</th> <th>V4092</th> <th>V4093</th> <th>V4094</th> <th>V4095</th> <th>V4096</th> <th>V4097</th> <th>V4098</th> <th>V4099</th> <th>V4100</th> <th>V4101</th> <th>V4102</th> <th>V4103</th> <th>V4104</th> <th>V4105</th> <th>V4106</th> <th>V4107</th> <th>V4108</th> <th>V4109</th> <th>V4110</th> <th>V4111</th> <th>V4112</th> <th>V4113</th> <th>V4114</th> <th>V4115</th> <th>V4116</th> <th>V4117</th> <th>V4118</th> <th>V4119</th> <th>V4120</th> <th>V4121</th> <th>V4122</th> <th>V4123</th> <th>V4124</th> <th>V4125</th> <th>V4126</th> <th>V4127</th> <th>V4128</th> <th>V4129</th> <th>V4130</th> <th>V4131</th> <th>V4132</th> <th>V4133</th> <th>V4134</th> <th>V4135</th> <th>V4136</th> <th>V4137</th> <th>V4138</th> <th>V4139</th> <th>V4140</th> <th>V4140B1</th> <th>V4140B2</th> <th>V4140B3</th> <th>V4140B4</th> <th>V4140B5</th> <th>V4140B6</th> <th>V4140B7</th> <th>V4140B8</th> <th>V4140B9</th> <th>V4140B10</th> <th>V4140B11</th> <th>V4140B12</th> <th>V4140B13</th> <th>V4140B14</th> <th>V4140B15</th> <th>V4140B16</th> <th>V4140B17</th> <th>V4140B18</th> <th>V4140B19</th> <th>V4140B20</th> <th>V4140B21</th> <th>V4140B22</th> <th>V4140B23</th> <th>V4140B24</th> <th>V4140B25</th> <th>V4140B26</th> <th>V4140B27</th> <th>V4140B28</th> <th>V4140B29</th> <th>V4140B30</th> <th>V4140B31</th> <th>V4140B32</th> <th>V4140B33</th> <th>V4140B34</th> <th>V4140B35</th> <th>V4140A</th> <th>V4141</th> <th>V4142</th> <th>V4143</th> <th>V4144</th> <th>V4145</th> <th>V4146</th> <th>V4147</th> <th>V4148</th> <th>V4149</th> <th>V4150</th> <th>V4151</th> <th>V4152</th> <th>V4153</th> <th>V4154</th> <th>V4155</th> <th>V4156</th> <th>V4157</th> <th>V4158</th> <th>V4159</th> <th>V4160</th> <th>V4161</th> <th>V4162</th> <th>V4163</th> <th>V4164</th> <th>V4165</th> <th>V4166</th> <th>V4167</th> <th>V4168</th> <th>V4169</th> <th>V4170</th> <th>V4171</th> <th>V4172</th> <th>V4173</th> <th>V4174</th> <th>V4175</th> <th>V4176</th> <th>V4177</th> <th>V4178</th> <th>V4179</th> <th>V4180</th> <th>V4181</th> <th>V4182</th> <th>V4183</th> <th>V4184</th> <th>V4185</th> <th>V4186</th> <th>V4187</th> <th>V4188</th> <th>V4189</th> <th>V4190</th> <th>V4191</th> <th>V4192</th> <th>V4193</th> <th>V4194</th> <th>V4195</th> <th>V4196</th> <th>V4197</th> <th>V4198</th> <th>V4199</th> <th>V4200</th> <th>V4201</th> <th>V4202</th> <th>V4203</th> <th>V4204</th> <th>V4205</th> <th>V4206</th> <th>V4207</th> <th>V4208</th> <th>V4209</th> <th>V4210</th> <th>V4211</th> <th>V4212</th> <th>V4213</th> <th>V4214</th> <th>V4215</th> <th>V4216</th> <th>V4217</th> <th>V4218</th> <th>V4219</th> <th>V4220</th> <th>V4221</th> <th>V4222</th> <th>V4223</th> <th>V4224</th> <th>V4225</th> <th>V4226</th> <th>V4227</th> <th>V4228</th> <th>V4229</th> <th>V4230</th> <th>V4231</th> <th>V4232</th> <th>V4233</th> <th>V4234</th> <th>V4235</th> <th>V4236</th> <th>V4237</th> <th>V4237A</th> <th>V4238</th> <th>V4239</th> <th>V4240</th> <th>V4241</th> <th>V4242</th> <th>V4243</th> <th>V4244</th> <th>V4245</th> <th>V4246A</th> <th>V4246B</th> <th>V4246C</th> <th>V4246D</th> <th>V4246E</th> <th>V4246F</th> <th>V4246G</th> <th>V4246H</th> <th>V4247</th> <th>V4248</th> <th>V4249</th> <th>V4250</th> <th>V4251</th> <th>V4252</th> <th>V4252A</th> <th>V4252B</th> <th>V4253</th> <th>V4254</th> <th>V4255</th> <th>V4256</th> <th>V4257</th> <th>V4258</th> <th>V4259</th> <th>V4260</th> <th>V4261</th> <th>V4262</th> <th>V4263</th> <th>V4264</th> <th>V4265</th> <th>V4266</th> <th>V4267</th> <th>V4268</th> <th>V4269</th> <th>V4270</th> <th>V4271</th> <th>V4272</th> <th>V4273</th> <th>V4274</th> <th>V4275</th> <th>V4276</th> <th>V4277</th> <th>V4277A</th> <th>V4277B</th> <th>V4277C</th> <th>V4277D</th> <th>V4277E</th> <th>V4278</th> <th>V4279</th> <th>V4280</th> <th>V4281</th> <th>V4282A</th> <th>V4282B</th> <th>V4282C</th> <th>V4283</th> <th>V4284</th> <th>V4285A</th> <th>V4286</th> <th>V4287</th> <th>V4288</th> <th>V4289</th> <th>V4290</th> <th>V4291</th> <th>V4292</th> <th>V4293</th> <th>V4294</th> <th>V4295</th> <th>V4296</th> <th>V4297</th> <th>V4298</th> <th>V4299</th> <th>V4300</th> <th>V4301</th> <th>V4302</th> <th>V4303</th> <th>V4304</th> <th>V4305</th> <th>V4306</th> <th>V4307</th> <th>V4308</th> <th>V4309</th> <th>V4310</th> <th>V4311</th> <th>V4312</th> <th>V4313</th> <th>V4314</th> <th>V4315</th> <th>V4316</th> <th>V4317</th> <th>V4318</th> <th>V4319</th> <th>V4320</th> <th>V4321</th> <th>V4322</th> <th>V4323</th> <th>V4324</th> <th>V4325</th> <th>V4326</th> <th>V4327</th> <th>V4328</th> <th>V4329</th> <th>V4330</th> <th>V4331</th> <th>V4332</th> <th>V4333</th> <th>V4334</th> <th>V4335</th> <th>V4336</th> <th>V4337</th> <th>V4338</th> <th>V4339</th> <th>V4340</th> <th>V4341</th> <th>V4342</th> <th>V4343</th> <th>V4344</th> <th>V4345</th> <th>V4346</th> <th>V4347</th> <th>V4348</th> <th>V4349</th> <th>V4350</th> <th>V4351</th> <th>V4352</th> <th>V4353</th> <th>V4354</th> <th>V4355</th> <th>V4356</th> <th>V4357</th> <th>V4357A</th> <th>V4357B</th> <th>V4358</th> <th>V4359</th> <th>V4360</th> <th>V4361</th> <th>V4362</th> <th>V4363</th> <th>V4364</th> <th>V4365</th> <th>V4366</th> <th>V4367</th> <th>V4368</th> <th>V4369</th> <th>V4370</th> <th>V4371</th> <th>V4372</th> <th>V4373</th> <th>V4374</th> <th>V4375</th> <th>V4376</th> <th>V4377</th> <th>V4378</th> <th>V4379</th> <th>V4380</th> <th>V4381</th> <th>V4382</th> <th>V4383</th> <th>V4384</th> <th>V4385</th> <th>V4386A</th> <th>V4387</th> <th>V4388</th> <th>V4389</th> <th>V4390</th> <th>V4391</th> <th>V4392</th> <th>V4393</th> <th>V4394</th> <th>V4395</th> <th>V4396</th> <th>V4397</th> <th>V4398</th> <th>V4399</th> <th>V4400</th> <th>V4401</th> <th>V4402</th> <th>V4403</th> <th>V4404</th> <th>V4405</th> <th>V4406</th> <th>V4407</th> <th>V4408</th> <th>V4409</th> <th>V4410</th> <th>V4411</th> <th>V4412</th> <th>V4413</th> <th>V4414</th> <th>V4415</th> <th>V4416</th> <th>V4417</th> <th>V4418</th> <th>V4419</th> <th>V4420</th> <th>V4421</th> <th>V4422</th> <th>V4423</th> <th>V4424</th> <th>V4425</th> <th>V4426</th> <th>V4427</th> <th>V4428</th> <th>V4429</th> <th>V4430</th> <th>V4431</th> <th>V4432</th> <th>V4433</th> <th>V4434</th> <th>V4435</th> <th>V4436</th> <th>V4437</th> <th>V4438</th> <th>V4439</th> <th>V4440</th> <th>V4441</th> <th>V4442</th> <th>V4443</th> <th>V4444</th> <th>V4445</th> <th>V4446</th> <th>V4447</th> <th>V4448</th> <th>V4449</th> <th>V4450</th> <th>V4451</th> <th>V4452</th> <th>V4453</th> <th>V4454</th> <th>V4455</th> <th>V4456</th> <th>V4457</th> <th>V4458</th> <th>V4459</th> <th>V4460</th> <th>V4461</th> <th>V4462</th> <th>V4463</th> <th>V4464</th> <th>V4465</th> <th>V4466</th> <th>V4467</th> <th>V4468</th> <th>V4469</th> <th>V4470</th> <th>V4471</th> <th>V4472</th> <th>V4473</th> <th>V4474</th> <th>V4475</th> <th>V4476</th> <th>V4477</th> <th>V4478</th> <th>V4479</th> <th>V4480</th> <th>V4481A</th> <th>V4481B</th> <th>V4482</th> <th>V4482A</th> <th>V4482B</th> <th>V4483</th> <th>V4484</th> <th>V4485</th> <th>V4485A</th> <th>V4486</th> <th>V4487</th> <th>V4488</th> <th>V4489</th> <th>V4490</th> <th>V4491</th> <th>V4492</th> <th>V4493</th> <th>V4494</th> <th>V4495</th> <th>V4496</th> <th>V4497</th> <th>V4498</th> <th>V4499</th> <th>V4500</th> <th>V4501</th> <th>V4502</th> <th>V4503</th> <th>V4504</th> <th>V4505</th> <th>V4506</th> <th>V4507</th> <th>V4508</th> <th>V4509</th> <th>V4510</th> <th>V4511</th> <th>V4512</th> <th>V4513</th> <th>V4514</th> <th>V4515</th> <th>V4516</th> <th>V4517</th> <th>V4518</th> <th>V4519</th> <th>V4520</th> <th>V4522</th> <th>V4522A</th> <th>V4522B</th> <th>V4522C</th> <th>V4522D</th> <th>V4522E</th> <th>V4522F</th> <th>V4522G</th> <th>V4522H</th> <th>V4522I</th> <th>V4523</th> <th>V4524</th> <th>V4525</th> <th>V4526</th> <th>V4526AA</th> <th>V4526A</th> <th>V4526B</th> <th>V4526C</th> <th>V4526D</th> <th>V4526E</th> <th>V4526F</th> <th>V4526G</th> <th>V4526H</th> <th>V4526HA1</th> <th>V4526HA2</th> <th>V4526HA3</th> <th>V4526HA4</th> <th>V4526HA5</th> <th>V4526HA6</th> <th>V4526HA7</th> <th>V4526HA8</th> <th>V4526HA9</th> <th>V4526H3A</th> <th>V4526H3B</th> <th>V4526H4</th> <th>V4526H5</th> <th>V4526H6</th> <th>V4526H7</th> <th>V4526H9</th> <th>V4526H10</th> <th>V4527</th> <th>SERIES_IWEIGHT</th> <th>V4528</th> <th>V4529</th> <th>WGTVICCY</th> <th>HELD</th> <th>V4531</th> <th>V4532</th> <th>SERIES_WEIGHT</th> <th>INCREPWGT1</th> <th>INCREPWGT2</th> <th>INCREPWGT3</th> <th>INCREPWGT4</th> <th>INCREPWGT5</th> <th>INCREPWGT6</th> <th>INCREPWGT7</th> <th>INCREPWGT8</th> <th>INCREPWGT9</th> <th>INCREPWGT10</th> <th>INCREPWGT11</th> <th>INCREPWGT12</th> <th>INCREPWGT13</th> <th>INCREPWGT14</th> <th>INCREPWGT15</th> <th>INCREPWGT16</th> <th>INCREPWGT17</th> <th>INCREPWGT18</th> <th>INCREPWGT19</th> <th>INCREPWGT20</th> <th>INCREPWGT21</th> <th>INCREPWGT22</th> <th>INCREPWGT23</th> <th>INCREPWGT24</th> <th>INCREPWGT25</th> <th>INCREPWGT26</th> <th>INCREPWGT27</th> <th>INCREPWGT28</th> <th>INCREPWGT29</th> <th>INCREPWGT30</th> <th>INCREPWGT31</th> <th>INCREPWGT32</th> <th>INCREPWGT33</th> <th>INCREPWGT34</th> <th>INCREPWGT35</th> <th>INCREPWGT36</th> <th>INCREPWGT37</th> <th>INCREPWGT38</th> <th>INCREPWGT39</th> <th>INCREPWGT40</th> <th>INCREPWGT41</th> <th>INCREPWGT42</th> <th>INCREPWGT43</th> <th>INCREPWGT44</th> <th>INCREPWGT45</th> <th>INCREPWGT46</th> <th>INCREPWGT47</th> <th>INCREPWGT48</th> <th>INCREPWGT49</th> <th>INCREPWGT50</th> <th>INCREPWGT51</th> <th>INCREPWGT52</th> <th>INCREPWGT53</th> <th>INCREPWGT54</th> <th>INCREPWGT55</th> <th>INCREPWGT56</th> <th>INCREPWGT57</th> <th>INCREPWGT58</th> <th>INCREPWGT59</th> <th>INCREPWGT60</th> <th>INCREPWGT61</th> <th>INCREPWGT62</th> <th>INCREPWGT63</th> <th>INCREPWGT64</th> <th>INCREPWGT65</th> <th>INCREPWGT66</th> <th>INCREPWGT67</th> <th>INCREPWGT68</th> <th>INCREPWGT69</th> <th>INCREPWGT70</th> <th>INCREPWGT71</th> <th>INCREPWGT72</th> <th>INCREPWGT73</th> <th>INCREPWGT74</th> <th>INCREPWGT75</th> <th>INCREPWGT76</th> <th>INCREPWGT77</th> <th>INCREPWGT78</th> <th>INCREPWGT79</th> <th>INCREPWGT80</th> <th>INCREPWGT81</th> <th>INCREPWGT82</th> <th>INCREPWGT83</th> <th>INCREPWGT84</th> <th>INCREPWGT85</th> <th>INCREPWGT86</th> <th>INCREPWGT87</th> <th>INCREPWGT88</th> <th>INCREPWGT89</th> <th>INCREPWGT90</th> <th>INCREPWGT91</th> <th>INCREPWGT92</th> <th>INCREPWGT93</th> <th>INCREPWGT94</th> <th>INCREPWGT95</th> <th>INCREPWGT96</th> <th>INCREPWGT97</th> <th>INCREPWGT98</th> <th>INCREPWGT99</th> <th>INCREPWGT100</th> <th>INCREPWGT101</th> <th>INCREPWGT102</th> <th>INCREPWGT103</th> <th>INCREPWGT104</th> <th>INCREPWGT105</th> <th>INCREPWGT106</th> <th>INCREPWGT107</th> <th>INCREPWGT108</th> <th>INCREPWGT109</th> <th>INCREPWGT110</th> <th>INCREPWGT111</th> <th>INCREPWGT112</th> <th>INCREPWGT113</th> <th>INCREPWGT114</th> <th>INCREPWGT115</th> <th>INCREPWGT116</th> <th>INCREPWGT117</th> <th>INCREPWGT118</th> <th>INCREPWGT119</th> <th>INCREPWGT120</th> <th>INCREPWGT121</th> <th>INCREPWGT122</th> <th>INCREPWGT123</th> <th>INCREPWGT124</th> <th>INCREPWGT125</th> <th>INCREPWGT126</th> <th>INCREPWGT127</th> <th>INCREPWGT128</th> <th>INCREPWGT129</th> <th>INCREPWGT130</th> <th>INCREPWGT131</th> <th>INCREPWGT132</th> <th>INCREPWGT133</th> <th>INCREPWGT134</th> <th>INCREPWGT135</th> <th>INCREPWGT136</th> <th>INCREPWGT137</th> <th>INCREPWGT138</th> <th>INCREPWGT139</th> <th>INCREPWGT140</th> <th>INCREPWGT141</th> <th>INCREPWGT142</th> <th>INCREPWGT143</th> <th>INCREPWGT144</th> <th>INCREPWGT145</th> <th>INCREPWGT146</th> <th>INCREPWGT147</th> <th>INCREPWGT148</th> <th>INCREPWGT149</th> <th>INCREPWGT150</th> <th>INCREPWGT151</th> <th>INCREPWGT152</th> <th>INCREPWGT153</th> <th>INCREPWGT154</th> <th>INCREPWGT155</th> <th>INCREPWGT156</th> <th>INCREPWGT157</th> <th>INCREPWGT158</th> <th>INCREPWGT159</th> <th>INCREPWGT160</th> <th>VICREPWGT1</th> <th>VICREPWGT2</th> <th>VICREPWGT3</th> <th>VICREPWGT4</th> <th>VICREPWGT5</th> <th>VICREPWGT6</th> <th>VICREPWGT7</th> <th>VICREPWGT8</th> <th>VICREPWGT9</th> <th>VICREPWGT10</th> <th>VICREPWGT11</th> <th>VICREPWGT12</th> <th>VICREPWGT13</th> <th>VICREPWGT14</th> <th>VICREPWGT15</th> <th>VICREPWGT16</th> <th>VICREPWGT17</th> <th>VICREPWGT18</th> <th>VICREPWGT19</th> <th>VICREPWGT20</th> <th>VICREPWGT21</th> <th>VICREPWGT22</th> <th>VICREPWGT23</th> <th>VICREPWGT24</th> <th>VICREPWGT25</th> <th>VICREPWGT26</th> <th>VICREPWGT27</th> <th>VICREPWGT28</th> <th>VICREPWGT29</th> <th>VICREPWGT30</th> <th>VICREPWGT31</th> <th>VICREPWGT32</th> <th>VICREPWGT33</th> <th>VICREPWGT34</th> <th>VICREPWGT35</th> <th>VICREPWGT36</th> <th>VICREPWGT37</th> <th>VICREPWGT38</th> <th>VICREPWGT39</th> <th>VICREPWGT40</th> <th>VICREPWGT41</th> <th>VICREPWGT42</th> <th>VICREPWGT43</th> <th>VICREPWGT44</th> <th>VICREPWGT45</th> <th>VICREPWGT46</th> <th>VICREPWGT47</th> <th>VICREPWGT48</th> <th>VICREPWGT49</th> <th>VICREPWGT50</th> <th>VICREPWGT51</th> <th>VICREPWGT52</th> <th>VICREPWGT53</th> <th>VICREPWGT54</th> <th>VICREPWGT55</th> <th>VICREPWGT56</th> <th>VICREPWGT57</th> <th>VICREPWGT58</th> <th>VICREPWGT59</th> <th>VICREPWGT60</th> <th>VICREPWGT61</th> <th>VICREPWGT62</th> <th>VICREPWGT63</th> <th>VICREPWGT64</th> <th>VICREPWGT65</th> <th>VICREPWGT66</th> <th>VICREPWGT67</th> <th>VICREPWGT68</th> <th>VICREPWGT69</th> <th>VICREPWGT70</th> <th>VICREPWGT71</th> <th>VICREPWGT72</th> <th>VICREPWGT73</th> <th>VICREPWGT74</th> <th>VICREPWGT75</th> <th>VICREPWGT76</th> <th>VICREPWGT77</th> <th>VICREPWGT78</th> <th>VICREPWGT79</th> <th>VICREPWGT80</th> <th>VICREPWGT81</th> <th>VICREPWGT82</th> <th>VICREPWGT83</th> <th>VICREPWGT84</th> <th>VICREPWGT85</th> <th>VICREPWGT86</th> <th>VICREPWGT87</th> <th>VICREPWGT88</th> <th>VICREPWGT89</th> <th>VICREPWGT90</th> <th>VICREPWGT91</th> <th>VICREPWGT92</th> <th>VICREPWGT93</th> <th>VICREPWGT94</th> <th>VICREPWGT95</th> <th>VICREPWGT96</th> <th>VICREPWGT97</th> <th>VICREPWGT98</th> <th>VICREPWGT99</th> <th>VICREPWGT100</th> <th>VICREPWGT101</th> <th>VICREPWGT102</th> <th>VICREPWGT103</th> <th>VICREPWGT104</th> <th>VICREPWGT105</th> <th>VICREPWGT106</th> <th>VICREPWGT107</th> <th>VICREPWGT108</th> <th>VICREPWGT109</th> <th>VICREPWGT110</th> <th>VICREPWGT111</th> <th>VICREPWGT112</th> <th>VICREPWGT113</th> <th>VICREPWGT114</th> <th>VICREPWGT115</th> <th>VICREPWGT116</th> <th>VICREPWGT117</th> <th>VICREPWGT118</th> <th>VICREPWGT119</th> <th>VICREPWGT120</th> <th>VICREPWGT121</th> <th>VICREPWGT122</th> <th>VICREPWGT123</th> <th>VICREPWGT124</th> <th>VICREPWGT125</th> <th>VICREPWGT126</th> <th>VICREPWGT127</th> <th>VICREPWGT128</th> <th>VICREPWGT129</th> <th>VICREPWGT130</th> <th>VICREPWGT131</th> <th>VICREPWGT132</th> <th>VICREPWGT133</th> <th>VICREPWGT134</th> <th>VICREPWGT135</th> <th>VICREPWGT136</th> <th>VICREPWGT137</th> <th>VICREPWGT138</th> <th>VICREPWGT139</th> <th>VICREPWGT140</th> <th>VICREPWGT141</th> <th>VICREPWGT142</th> <th>VICREPWGT143</th> <th>VICREPWGT144</th> <th>VICREPWGT145</th> <th>VICREPWGT146</th> <th>VICREPWGT147</th> <th>VICREPWGT148</th> <th>VICREPWGT149</th> <th>VICREPWGT150</th> <th>VICREPWGT151</th> <th>VICREPWGT152</th> <th>VICREPWGT153</th> <th>VICREPWGT154</th> <th>VICREPWGT155</th> <th>VICREPWGT156</th> <th>VICREPWGT157</th> <th>VICREPWGT158</th> <th>VICREPWGT159</th> <th>VICREPWGT160</th>\n",
       "        </tr>\n",
       "    </thead>\n",
       "    <tbody>\n",
       "        <tr>\n",
       "            <td>4    </td> <td>2016.1</td> <td>2620015796913004292888136</td> <td>262001579691300429288813601</td> <td>22   </td> <td>161  </td> <td>26   </td> <td>20015796913004292888</td> <td>1    </td> <td>36   </td> <td>1    </td> <td>1    </td> <td>36   </td> <td>1    </td> <td>9    </td> <td>11   </td> <td>2015 </td> <td>1    </td> <td>1    </td> <td>9    </td> <td>9    </td> <td>2     </td> <td>3    </td> <td>9    </td> <td>2     </td> <td>1    </td> <td>2    </td> <td>1    </td> <td>9    </td> <td>2    </td> <td>9    </td> <td>9    </td> <td>9    </td> <td>9    </td> <td>9    </td> <td>9    </td> <td>9    </td> <td>9    </td> <td>9    </td> <td>9    </td> <td>9    </td> <td>3    </td> <td>9     </td> <td>9     </td> <td>9     </td> <td>9    </td> <td>1    </td> <td>2    </td> <td>2    </td> <td>9    </td> <td>9    </td> <td>9    </td> <td>9    </td> <td>9    </td> <td>9    </td> <td>9    </td> <td>9    </td> <td>9    </td> <td>9    </td> <td>9    </td> <td>9    </td> <td>9    </td> <td>9    </td> <td>9    </td> <td>9    </td> <td>9    </td> <td>9    </td> <td>9    </td> <td>9    </td> <td>9    </td> <td>9    </td> <td>9    </td> <td>9    </td> <td>9    </td> <td>9    </td> <td>9    </td> <td>9    </td> <td>9    </td> <td>9    </td> <td>9    </td> <td>9    </td> <td>9    </td> <td>9    </td> <td>9    </td> <td>9    </td> <td>9    </td> <td>9    </td> <td>9    </td> <td>9    </td> <td>9    </td> <td>9    </td> <td>9    </td> <td>9    </td> <td>9    </td> <td>9    </td> <td>9    </td> <td>9    </td> <td>9    </td> <td>9    </td> <td>9    </td> <td>9    </td> <td>9    </td> <td>9    </td> <td>9    </td> <td>9    </td> <td>9    </td> <td>9    </td> <td>9    </td> <td>9    </td> <td>9    </td> <td>9    </td> <td>9    </td> <td>9    </td> <td>9    </td> <td>9    </td> <td>9    </td> <td>9    </td> <td>9    </td> <td>9    </td> <td>9    </td> <td>9    </td> <td>9    </td> <td>9    </td> <td>9    </td> <td>9    </td> <td>9    </td> <td>9    </td> <td>99   </td> <td>99   </td> <td>99   </td> <td>9    </td> <td>9    </td> <td>9    </td> <td>9    </td> <td>9    </td> <td>9    </td> <td>9    </td> <td>9    </td> <td>9    </td> <td>9    </td> <td>9    </td> <td>999  </td> <td>9    </td> <td>99999</td> <td>9      </td> <td>9      </td> <td>9      </td> <td>9      </td> <td>9      </td> <td>9      </td> <td>9      </td> <td>9      </td> <td>9      </td> <td>9       </td> <td>9       </td> <td>9       </td> <td>9       </td> <td>9       </td> <td>9       </td> <td>9       </td> <td>9       </td> <td>9       </td> <td>9       </td> <td>9       </td> <td>9       </td> <td>9       </td> <td>9       </td> <td>9       </td> <td>9       </td> <td>9       </td> <td>9       </td> <td>9       </td> <td>9       </td> <td>9       </td> <td>9       </td> <td>9       </td> <td>9       </td> <td>9       </td> <td>9       </td> <td>9     </td> <td>9    </td> <td>9    </td> <td>9    </td> <td>9    </td> <td>9    </td> <td>9    </td> <td>9    </td> <td>9    </td> <td>9    </td> <td>9    </td> <td>9    </td> <td>9    </td> <td>9    </td> <td>9    </td> <td>9    </td> <td>9    </td> <td>9    </td> <td>9    </td> <td>9    </td> <td>9    </td> <td>9    </td> <td>9    </td> <td>9    </td> <td>9    </td> <td>9    </td> <td>9    </td> <td>9    </td> <td>9    </td> <td>9    </td> <td>9    </td> <td>9    </td> <td>9    </td> <td>9    </td> <td>9    </td> <td>9    </td> <td>9    </td> <td>9    </td> <td>9    </td> <td>9    </td> <td>9    </td> <td>9    </td> <td>9    </td> <td>9    </td> <td>9    </td> <td>9    </td> <td>9    </td> <td>9    </td> <td>9    </td> <td>9    </td> <td>9    </td> <td>9    </td> <td>9    </td> <td>9    </td> <td>9    </td> <td>9    </td> <td>9    </td> <td>9    </td> <td>9    </td> <td>9    </td> <td>9    </td> <td>9    </td> <td>9    </td> <td>9    </td> <td>99   </td> <td>99   </td> <td>99   </td> <td>99   </td> <td>9    </td> <td>9    </td> <td>1    </td> <td>3    </td> <td>1    </td> <td>0    </td> <td>0    </td> <td>1    </td> <td>0    </td> <td>0    </td> <td>0    </td> <td>0    </td> <td>0    </td> <td>0    </td> <td>0    </td> <td>0    </td> <td>9    </td> <td>9    </td> <td>9    </td> <td>9    </td> <td>9    </td> <td>9    </td> <td>9    </td> <td>9    </td> <td>9    </td> <td>9    </td> <td>9    </td> <td>9    </td> <td>9    </td> <td>9    </td> <td>9     </td> <td>9    </td> <td>9    </td> <td>9    </td> <td>9    </td> <td>9    </td> <td>9    </td> <td>9    </td> <td>99   </td> <td>9     </td> <td>9     </td> <td>9     </td> <td>9     </td> <td>9     </td> <td>9     </td> <td>9     </td> <td>9     </td> <td>9    </td> <td>99   </td> <td>9    </td> <td>9    </td> <td>9    </td> <td>9    </td> <td>9     </td> <td>9     </td> <td>9    </td> <td>9    </td> <td>9    </td> <td>9    </td> <td>9    </td> <td>9    </td> <td>9    </td> <td>9    </td> <td>9    </td> <td>9    </td> <td>9    </td> <td>9    </td> <td>9    </td> <td>9    </td> <td>9    </td> <td>9    </td> <td>9    </td> <td>9    </td> <td>9    </td> <td>9    </td> <td>9    </td> <td>9    </td> <td>9    </td> <td>9    </td> <td>9    </td> <td>9     </td> <td>9     </td> <td>9     </td> <td>9     </td> <td>9     </td> <td>9    </td> <td>9    </td> <td>9    </td> <td>9    </td> <td>9     </td> <td>9     </td> <td>9     </td> <td>9    </td> <td>9    </td> <td>9     </td> <td>9    </td> <td>1    </td> <td>1    </td> <td>9    </td> <td>9    </td> <td>9    </td> <td>9    </td> <td>9    </td> <td>9    </td> <td>9    </td> <td>9    </td> <td>9    </td> <td>9    </td> <td>9    </td> <td>9    </td> <td>9    </td> <td>9    </td> <td>9    </td> <td>9    </td> <td>9    </td> <td>9    </td> <td>9    </td> <td>9    </td> <td>9    </td> <td>9    </td> <td>99   </td> <td>99   </td> <td>99   </td> <td>9    </td> <td>9    </td> <td>9    </td> <td>9    </td> <td>99   </td> <td>99   </td> <td>99   </td> <td>0    </td> <td>1    </td> <td>0    </td> <td>0    </td> <td>0    </td> <td>0    </td> <td>0    </td> <td>0    </td> <td>0    </td> <td>0    </td> <td>0    </td> <td>0    </td> <td>0    </td> <td>0    </td> <td>0    </td> <td>0    </td> <td>0    </td> <td>0    </td> <td>0    </td> <td>0    </td> <td>0    </td> <td>0    </td> <td>0    </td> <td>1    </td> <td>0    </td> <td>0    </td> <td>0    </td> <td>0    </td> <td>0    </td> <td>0    </td> <td>1    </td> <td>99   </td> <td>99   </td> <td>99   </td> <td>9    </td> <td>9    </td> <td>2    </td> <td>999   </td> <td>999   </td> <td>9    </td> <td>9    </td> <td>2    </td> <td>99   </td> <td>99   </td> <td>99   </td> <td>400  </td> <td>1    </td> <td>0    </td> <td>1    </td> <td>0    </td> <td>0    </td> <td>0    </td> <td>0    </td> <td>0    </td> <td>0    </td> <td>3    </td> <td>99999</td> <td>9    </td> <td>9    </td> <td>9    </td> <td>9    </td> <td>9    </td> <td>9    </td> <td>9    </td> <td>9    </td> <td>9    </td> <td>99999</td> <td>2     </td> <td>2    </td> <td>9    </td> <td>99999</td> <td>99999</td> <td>9    </td> <td>9    </td> <td>9    </td> <td>9    </td> <td>9    </td> <td>9    </td> <td>9    </td> <td>9    </td> <td>2    </td> <td>9    </td> <td>1    </td> <td>0    </td> <td>0    </td> <td>0    </td> <td>0    </td> <td>0    </td> <td>1    </td> <td>0    </td> <td>0    </td> <td>0    </td> <td>0    </td> <td>0    </td> <td>0    </td> <td>0    </td> <td>0    </td> <td>0    </td> <td>0    </td> <td>0    </td> <td>1    </td> <td>0    </td> <td>0    </td> <td>6    </td> <td>9    </td> <td>9    </td> <td>9    </td> <td>9    </td> <td>9    </td> <td>9    </td> <td>9    </td> <td>9    </td> <td>9    </td> <td>9    </td> <td>9    </td> <td>9    </td> <td>9    </td> <td>9    </td> <td>99   </td> <td>9    </td> <td>9    </td> <td>9    </td> <td>9    </td> <td>9    </td> <td>9    </td> <td>9    </td> <td>9    </td> <td>9    </td> <td>9    </td> <td>9    </td> <td>9    </td> <td>9    </td> <td>9    </td> <td>9    </td> <td>9    </td> <td>9    </td> <td>9    </td> <td>9    </td> <td>9    </td> <td>9    </td> <td>9    </td> <td>9    </td> <td>9    </td> <td>9    </td> <td>9    </td> <td>9    </td> <td>9    </td> <td>9    </td> <td>2    </td> <td>9    </td> <td>9    </td> <td>9    </td> <td>9    </td> <td>9    </td> <td>9    </td> <td>9    </td> <td>9    </td> <td>9    </td> <td>9    </td> <td>9    </td> <td>1    </td> <td>9    </td> <td>9     </td> <td>9     </td> <td>9    </td> <td>99    </td> <td>99    </td> <td>9    </td> <td>9    </td> <td>9    </td> <td>9     </td> <td>9    </td> <td>999  </td> <td>9    </td> <td>99999</td> <td>1    </td> <td>0    </td> <td>0    </td> <td>0    </td> <td>0    </td> <td>0    </td> <td>1    </td> <td>0    </td> <td>999  </td> <td>9    </td> <td>99999</td> <td>2    </td> <td>999  </td> <td>99   </td> <td>999  </td> <td>9    </td> <td>99   </td> <td>99   </td> <td>99   </td> <td>99   </td> <td>9    </td> <td>9    </td> <td>9    </td> <td>9    </td> <td>9    </td> <td>9    </td> <td>9    </td> <td>9    </td> <td>9    </td> <td>9    </td> <td>9    </td> <td>9    </td> <td>9     </td> <td>9     </td> <td>9     </td> <td>9     </td> <td>9     </td> <td>9     </td> <td>9     </td> <td>9     </td> <td>9     </td> <td>9    </td> <td>9    </td> <td>9    </td> <td>99   </td> <td>2      </td> <td>9     </td> <td>9     </td> <td>9     </td> <td>9     </td> <td>9     </td> <td>9     </td> <td>9     </td> <td>9     </td> <td>9       </td> <td>9       </td> <td>9       </td> <td>9       </td> <td>9       </td> <td>9       </td> <td>9       </td> <td>9       </td> <td>9       </td> <td>1       </td> <td>2       </td> <td>2      </td> <td>2      </td> <td>2      </td> <td>2      </td> <td>1      </td> <td>2       </td> <td>-2   </td> <td>2592.04       </td> <td>32   </td> <td>32   </td> <td>2592.04 </td> <td>0   </td> <td>2015 </td> <td>2592.04</td> <td>2592.04      </td> <td>2587.33   </td> <td>2619.05   </td> <td>2601.03   </td> <td>761.204   </td> <td>2529.52   </td> <td>4366.99   </td> <td>778.974   </td> <td>2524.85   </td> <td>4353.69   </td> <td>2569.38    </td> <td>768.396    </td> <td>2610.07    </td> <td>2541.38    </td> <td>2574.42    </td> <td>4307.83    </td> <td>794.643    </td> <td>4309.31    </td> <td>781.483    </td> <td>4447.33    </td> <td>2587.03    </td> <td>2596.9     </td> <td>2577.39    </td> <td>2631.7     </td> <td>4383.61    </td> <td>2644.14    </td> <td>760.696    </td> <td>4453.13    </td> <td>2575.86    </td> <td>739.573    </td> <td>2557.66    </td> <td>4475.11    </td> <td>2575.2     </td> <td>2595.22    </td> <td>2563.57    </td> <td>784.561    </td> <td>4444.77    </td> <td>755.986    </td> <td>4374.04    </td> <td>765.523    </td> <td>2553.29    </td> <td>2641       </td> <td>2668.67    </td> <td>2687.71    </td> <td>4296.57    </td> <td>2638.3     </td> <td>749.035    </td> <td>4508.19    </td> <td>2611.76    </td> <td>764.496    </td> <td>2525.22    </td> <td>4430.26    </td> <td>2594.05    </td> <td>2640.82    </td> <td>2664.91    </td> <td>789.847    </td> <td>4313.07    </td> <td>738.599    </td> <td>4454.5     </td> <td>758.52     </td> <td>2563.28    </td> <td>2580.44    </td> <td>2532.05    </td> <td>2540.94    </td> <td>761.791    </td> <td>2562.72    </td> <td>4497.76    </td> <td>778.589    </td> <td>2523.02    </td> <td>4333.42    </td> <td>760.255    </td> <td>4277.4     </td> <td>764.655    </td> <td>4545.25    </td> <td>2503.83    </td> <td>4465.31    </td> <td>797.358    </td> <td>4399.61    </td> <td>748.286    </td> <td>2661.55    </td> <td>765.197    </td> <td>4469.03    </td> <td>2655.5     </td> <td>2632.09    </td> <td>4419.06    </td> <td>2605.79    </td> <td>743.741    </td> <td>4440.96    </td> <td>2549.42    </td> <td>749.837    </td> <td>4510.61    </td> <td>773.003    </td> <td>2577.9     </td> <td>2602.86    </td> <td>2556.66    </td> <td>4305.82    </td> <td>770.539    </td> <td>2650.18    </td> <td>4252.52    </td> <td>2646.88    </td> <td>749.417     </td> <td>2627.44     </td> <td>2562.15     </td> <td>2579.05     </td> <td>778.452     </td> <td>2611.48     </td> <td>4456.77     </td> <td>772.52      </td> <td>2567.54     </td> <td>4344.4      </td> <td>2546.24     </td> <td>796.207     </td> <td>2586.94     </td> <td>2593.27     </td> <td>2574.56     </td> <td>4423.35     </td> <td>737.538     </td> <td>4476.67     </td> <td>744.58      </td> <td>4411.38     </td> <td>2535.25     </td> <td>2586.28     </td> <td>2615.9      </td> <td>2529.06     </td> <td>756.522     </td> <td>2639.66     </td> <td>4524.31     </td> <td>739.779     </td> <td>2589.45     </td> <td>4445.11     </td> <td>2563.19     </td> <td>793.181     </td> <td>2615.62     </td> <td>2593.46     </td> <td>2575.42     </td> <td>4364.52     </td> <td>776.455     </td> <td>4274.08     </td> <td>729.263     </td> <td>4520.62     </td> <td>2555.99     </td> <td>2563.68     </td> <td>2610.45     </td> <td>2662.69     </td> <td>4359.93     </td> <td>2652.3      </td> <td>753.889     </td> <td>4388.79     </td> <td>2569.21     </td> <td>769.273     </td> <td>2606.94     </td> <td>4431.01     </td> <td>2553.8      </td> <td>2662        </td> <td>2660.8      </td> <td>759.164     </td> <td>4279.85     </td> <td>779.196     </td> <td>4317.3      </td> <td>779.876     </td> <td>2671.73     </td> <td>2587.33   </td> <td>2619.05   </td> <td>2601.03   </td> <td>761.204   </td> <td>2529.52   </td> <td>4366.99   </td> <td>778.974   </td> <td>2524.85   </td> <td>4353.69   </td> <td>2569.38    </td> <td>768.396    </td> <td>2610.07    </td> <td>2541.38    </td> <td>2574.42    </td> <td>4307.83    </td> <td>794.643    </td> <td>4309.31    </td> <td>781.483    </td> <td>4447.33    </td> <td>2587.03    </td> <td>2596.9     </td> <td>2577.39    </td> <td>2631.7     </td> <td>4383.61    </td> <td>2644.14    </td> <td>760.696    </td> <td>4453.13    </td> <td>2575.86    </td> <td>739.573    </td> <td>2557.66    </td> <td>4475.11    </td> <td>2575.2     </td> <td>2595.22    </td> <td>2563.57    </td> <td>784.561    </td> <td>4444.77    </td> <td>755.986    </td> <td>4374.04    </td> <td>765.523    </td> <td>2553.29    </td> <td>2641       </td> <td>2668.67    </td> <td>2687.71    </td> <td>4296.57    </td> <td>2638.3     </td> <td>749.035    </td> <td>4508.19    </td> <td>2611.76    </td> <td>764.496    </td> <td>2525.22    </td> <td>4430.26    </td> <td>2594.05    </td> <td>2640.82    </td> <td>2664.91    </td> <td>789.847    </td> <td>4313.07    </td> <td>738.599    </td> <td>4454.5     </td> <td>758.52     </td> <td>2563.28    </td> <td>2580.44    </td> <td>2532.05    </td> <td>2540.94    </td> <td>761.791    </td> <td>2562.72    </td> <td>4497.76    </td> <td>778.589    </td> <td>2523.02    </td> <td>4333.42    </td> <td>760.255    </td> <td>4277.4     </td> <td>764.655    </td> <td>4545.25    </td> <td>2503.83    </td> <td>4465.31    </td> <td>797.358    </td> <td>4399.61    </td> <td>748.286    </td> <td>2661.55    </td> <td>765.197    </td> <td>4469.03    </td> <td>2655.5     </td> <td>2632.09    </td> <td>4419.06    </td> <td>2605.79    </td> <td>743.741    </td> <td>4440.96    </td> <td>2549.42    </td> <td>749.837    </td> <td>4510.61    </td> <td>773.003    </td> <td>2577.9     </td> <td>2602.86    </td> <td>2556.66    </td> <td>4305.82    </td> <td>770.539    </td> <td>2650.18    </td> <td>4252.52    </td> <td>2646.88    </td> <td>749.417     </td> <td>2627.44     </td> <td>2562.15     </td> <td>2579.05     </td> <td>778.452     </td> <td>2611.48     </td> <td>4456.77     </td> <td>772.52      </td> <td>2567.54     </td> <td>4344.4      </td> <td>2546.24     </td> <td>796.207     </td> <td>2586.94     </td> <td>2593.27     </td> <td>2574.56     </td> <td>4423.35     </td> <td>737.538     </td> <td>4476.67     </td> <td>744.58      </td> <td>4411.38     </td> <td>2535.25     </td> <td>2586.28     </td> <td>2615.9      </td> <td>2529.06     </td> <td>756.522     </td> <td>2639.66     </td> <td>4524.31     </td> <td>739.779     </td> <td>2589.45     </td> <td>4445.11     </td> <td>2563.19     </td> <td>793.181     </td> <td>2615.62     </td> <td>2593.46     </td> <td>2575.42     </td> <td>4364.52     </td> <td>776.455     </td> <td>4274.08     </td> <td>729.263     </td> <td>4520.62     </td> <td>2555.99     </td> <td>2563.68     </td> <td>2610.45     </td> <td>2662.69     </td> <td>4359.93     </td> <td>2652.3      </td> <td>753.889     </td> <td>4388.79     </td> <td>2569.21     </td> <td>769.273     </td> <td>2606.94     </td> <td>4431.01     </td> <td>2553.8      </td> <td>2662        </td> <td>2660.8      </td> <td>759.164     </td> <td>4279.85     </td> <td>779.196     </td> <td>4317.3      </td> <td>779.876     </td> <td>2671.73     </td>\n",
       "        </tr>\n",
       "    </tbody>\n",
       "        <tr>\n",
       "            <td>4    </td> <td>2016.1</td> <td>2620015796913004292888136</td> <td>262001579691300429288813601</td> <td>22   </td> <td>161  </td> <td>26   </td> <td>20015796913004292888</td> <td>1    </td> <td>36   </td> <td>1    </td> <td>1    </td> <td>37   </td> <td>1    </td> <td>9    </td> <td>12   </td> <td>2015 </td> <td>1    </td> <td>1    </td> <td>9    </td> <td>9    </td> <td>3     </td> <td>3    </td> <td>9    </td> <td>2     </td> <td>1    </td> <td>2    </td> <td>2    </td> <td>1    </td> <td>1    </td> <td>1    </td> <td>0    </td> <td>0    </td> <td>0    </td> <td>0    </td> <td>1    </td> <td>0    </td> <td>0    </td> <td>0    </td> <td>0    </td> <td>0    </td> <td>99   </td> <td>9     </td> <td>9     </td> <td>9     </td> <td>9    </td> <td>1    </td> <td>2    </td> <td>2    </td> <td>9    </td> <td>9    </td> <td>9    </td> <td>9    </td> <td>9    </td> <td>9    </td> <td>9    </td> <td>9    </td> <td>9    </td> <td>9    </td> <td>9    </td> <td>9    </td> <td>9    </td> <td>9    </td> <td>9    </td> <td>9    </td> <td>9    </td> <td>9    </td> <td>9    </td> <td>9    </td> <td>9    </td> <td>9    </td> <td>9    </td> <td>9    </td> <td>9    </td> <td>9    </td> <td>9    </td> <td>9    </td> <td>9    </td> <td>9    </td> <td>9    </td> <td>9    </td> <td>9    </td> <td>9    </td> <td>9    </td> <td>9    </td> <td>9    </td> <td>9    </td> <td>9    </td> <td>9    </td> <td>9    </td> <td>9    </td> <td>9    </td> <td>9    </td> <td>9    </td> <td>9    </td> <td>9    </td> <td>9    </td> <td>9    </td> <td>9    </td> <td>9    </td> <td>9    </td> <td>9    </td> <td>9    </td> <td>9    </td> <td>9    </td> <td>9    </td> <td>9    </td> <td>9    </td> <td>9    </td> <td>9    </td> <td>9    </td> <td>9    </td> <td>9    </td> <td>9    </td> <td>9    </td> <td>9    </td> <td>9    </td> <td>9    </td> <td>9    </td> <td>9    </td> <td>9    </td> <td>9    </td> <td>9    </td> <td>9    </td> <td>9    </td> <td>9    </td> <td>9    </td> <td>99   </td> <td>99   </td> <td>99   </td> <td>9    </td> <td>9    </td> <td>9    </td> <td>9    </td> <td>9    </td> <td>9    </td> <td>9    </td> <td>9    </td> <td>9    </td> <td>9    </td> <td>9    </td> <td>999  </td> <td>9    </td> <td>99999</td> <td>9      </td> <td>9      </td> <td>9      </td> <td>9      </td> <td>9      </td> <td>9      </td> <td>9      </td> <td>9      </td> <td>9      </td> <td>9       </td> <td>9       </td> <td>9       </td> <td>9       </td> <td>9       </td> <td>9       </td> <td>9       </td> <td>9       </td> <td>9       </td> <td>9       </td> <td>9       </td> <td>9       </td> <td>9       </td> <td>9       </td> <td>9       </td> <td>9       </td> <td>9       </td> <td>9       </td> <td>9       </td> <td>9       </td> <td>9       </td> <td>9       </td> <td>9       </td> <td>9       </td> <td>9       </td> <td>9       </td> <td>9     </td> <td>9    </td> <td>9    </td> <td>9    </td> <td>9    </td> <td>9    </td> <td>9    </td> <td>9    </td> <td>9    </td> <td>9    </td> <td>9    </td> <td>9    </td> <td>9    </td> <td>9    </td> <td>9    </td> <td>9    </td> <td>9    </td> <td>9    </td> <td>9    </td> <td>9    </td> <td>9    </td> <td>9    </td> <td>9    </td> <td>9    </td> <td>9    </td> <td>9    </td> <td>9    </td> <td>9    </td> <td>9    </td> <td>9    </td> <td>9    </td> <td>9    </td> <td>9    </td> <td>9    </td> <td>9    </td> <td>9    </td> <td>9    </td> <td>9    </td> <td>9    </td> <td>9    </td> <td>9    </td> <td>9    </td> <td>9    </td> <td>9    </td> <td>9    </td> <td>9    </td> <td>9    </td> <td>9    </td> <td>9    </td> <td>9    </td> <td>9    </td> <td>9    </td> <td>9    </td> <td>9    </td> <td>9    </td> <td>9    </td> <td>9    </td> <td>9    </td> <td>9    </td> <td>9    </td> <td>9    </td> <td>9    </td> <td>9    </td> <td>9    </td> <td>99   </td> <td>99   </td> <td>99   </td> <td>99   </td> <td>9    </td> <td>9    </td> <td>2    </td> <td>9    </td> <td>9    </td> <td>9    </td> <td>9    </td> <td>9    </td> <td>9    </td> <td>9    </td> <td>9    </td> <td>9    </td> <td>9    </td> <td>9    </td> <td>9    </td> <td>9    </td> <td>9    </td> <td>9    </td> <td>9    </td> <td>9    </td> <td>9    </td> <td>9    </td> <td>9    </td> <td>9    </td> <td>9    </td> <td>9    </td> <td>9    </td> <td>9    </td> <td>9    </td> <td>9    </td> <td>9     </td> <td>9    </td> <td>9    </td> <td>9    </td> <td>9    </td> <td>9    </td> <td>9    </td> <td>9    </td> <td>99   </td> <td>9     </td> <td>9     </td> <td>9     </td> <td>9     </td> <td>9     </td> <td>9     </td> <td>9     </td> <td>9     </td> <td>9    </td> <td>99   </td> <td>9    </td> <td>9    </td> <td>9    </td> <td>9    </td> <td>9     </td> <td>9     </td> <td>9    </td> <td>9    </td> <td>9    </td> <td>9    </td> <td>9    </td> <td>9    </td> <td>9    </td> <td>9    </td> <td>9    </td> <td>9    </td> <td>9    </td> <td>9    </td> <td>9    </td> <td>9    </td> <td>9    </td> <td>9    </td> <td>9    </td> <td>9    </td> <td>9    </td> <td>9    </td> <td>9    </td> <td>9    </td> <td>9    </td> <td>9    </td> <td>9    </td> <td>9     </td> <td>9     </td> <td>9     </td> <td>9     </td> <td>9     </td> <td>9    </td> <td>9    </td> <td>9    </td> <td>9    </td> <td>9     </td> <td>9     </td> <td>9     </td> <td>9    </td> <td>9    </td> <td>9     </td> <td>9    </td> <td>2    </td> <td>2    </td> <td>3    </td> <td>2    </td> <td>9    </td> <td>9    </td> <td>9    </td> <td>9    </td> <td>9    </td> <td>9    </td> <td>9    </td> <td>9    </td> <td>9    </td> <td>9    </td> <td>9    </td> <td>9    </td> <td>9    </td> <td>9    </td> <td>9    </td> <td>9    </td> <td>9    </td> <td>9    </td> <td>9    </td> <td>9    </td> <td>99   </td> <td>99   </td> <td>99   </td> <td>9    </td> <td>9    </td> <td>9    </td> <td>9    </td> <td>99   </td> <td>99   </td> <td>99   </td> <td>99999</td> <td>9    </td> <td>9    </td> <td>9    </td> <td>9    </td> <td>9    </td> <td>9    </td> <td>9    </td> <td>9    </td> <td>9    </td> <td>9    </td> <td>9    </td> <td>9    </td> <td>9    </td> <td>9    </td> <td>9    </td> <td>9    </td> <td>9    </td> <td>9    </td> <td>9    </td> <td>9    </td> <td>9    </td> <td>9    </td> <td>9    </td> <td>9    </td> <td>9    </td> <td>9    </td> <td>9    </td> <td>9    </td> <td>9    </td> <td>9    </td> <td>99   </td> <td>99   </td> <td>99   </td> <td>9    </td> <td>9    </td> <td>9    </td> <td>999   </td> <td>999   </td> <td>9    </td> <td>9    </td> <td>9    </td> <td>99   </td> <td>99   </td> <td>99   </td> <td>99999</td> <td>9    </td> <td>9    </td> <td>9    </td> <td>9    </td> <td>9    </td> <td>9    </td> <td>9    </td> <td>9    </td> <td>9    </td> <td>9    </td> <td>99999</td> <td>9    </td> <td>9    </td> <td>9    </td> <td>9    </td> <td>9    </td> <td>9    </td> <td>9    </td> <td>9    </td> <td>9    </td> <td>99999</td> <td>9     </td> <td>1    </td> <td>8    </td> <td>99998</td> <td>99998</td> <td>8    </td> <td>8    </td> <td>8    </td> <td>8    </td> <td>8    </td> <td>8    </td> <td>8    </td> <td>8    </td> <td>2    </td> <td>9    </td> <td>1    </td> <td>0    </td> <td>0    </td> <td>1    </td> <td>0    </td> <td>0    </td> <td>0    </td> <td>0    </td> <td>0    </td> <td>0    </td> <td>0    </td> <td>0    </td> <td>0    </td> <td>0    </td> <td>0    </td> <td>0    </td> <td>0    </td> <td>0    </td> <td>0    </td> <td>0    </td> <td>0    </td> <td>3    </td> <td>9    </td> <td>9    </td> <td>9    </td> <td>9    </td> <td>9    </td> <td>9    </td> <td>9    </td> <td>9    </td> <td>9    </td> <td>9    </td> <td>9    </td> <td>9    </td> <td>9    </td> <td>9    </td> <td>99   </td> <td>9    </td> <td>9    </td> <td>9    </td> <td>9    </td> <td>9    </td> <td>9    </td> <td>9    </td> <td>9    </td> <td>9    </td> <td>9    </td> <td>9    </td> <td>9    </td> <td>9    </td> <td>9    </td> <td>9    </td> <td>9    </td> <td>9    </td> <td>9    </td> <td>9    </td> <td>9    </td> <td>9    </td> <td>9    </td> <td>9    </td> <td>9    </td> <td>9    </td> <td>9    </td> <td>9    </td> <td>9    </td> <td>9    </td> <td>2    </td> <td>9    </td> <td>9    </td> <td>9    </td> <td>9    </td> <td>9    </td> <td>9    </td> <td>9    </td> <td>9    </td> <td>9    </td> <td>9    </td> <td>11   </td> <td>1    </td> <td>9    </td> <td>9     </td> <td>9     </td> <td>9    </td> <td>99    </td> <td>99    </td> <td>9    </td> <td>9    </td> <td>9    </td> <td>9     </td> <td>9    </td> <td>999  </td> <td>9    </td> <td>99999</td> <td>1    </td> <td>0    </td> <td>0    </td> <td>0    </td> <td>0    </td> <td>0    </td> <td>1    </td> <td>0    </td> <td>999  </td> <td>9    </td> <td>99999</td> <td>2    </td> <td>999  </td> <td>99   </td> <td>999  </td> <td>9    </td> <td>99   </td> <td>99   </td> <td>99   </td> <td>99   </td> <td>9    </td> <td>9    </td> <td>9    </td> <td>9    </td> <td>9    </td> <td>9    </td> <td>9    </td> <td>9    </td> <td>9    </td> <td>9    </td> <td>9    </td> <td>9    </td> <td>9     </td> <td>9     </td> <td>9     </td> <td>9     </td> <td>9     </td> <td>9     </td> <td>9     </td> <td>9     </td> <td>9     </td> <td>9    </td> <td>9    </td> <td>9    </td> <td>99   </td> <td>2      </td> <td>9     </td> <td>9     </td> <td>9     </td> <td>9     </td> <td>9     </td> <td>9     </td> <td>9     </td> <td>9     </td> <td>9       </td> <td>9       </td> <td>9       </td> <td>9       </td> <td>9       </td> <td>9       </td> <td>9       </td> <td>9       </td> <td>9       </td> <td>1       </td> <td>2       </td> <td>2      </td> <td>2      </td> <td>2      </td> <td>2      </td> <td>1      </td> <td>2       </td> <td>-2   </td> <td>2592.04       </td> <td>33   </td> <td>33   </td> <td>2592.04 </td> <td>0   </td> <td>2015 </td> <td>2592.04</td> <td>2592.04      </td> <td>2587.33   </td> <td>2619.05   </td> <td>2601.03   </td> <td>761.204   </td> <td>2529.52   </td> <td>4366.99   </td> <td>778.974   </td> <td>2524.85   </td> <td>4353.69   </td> <td>2569.38    </td> <td>768.396    </td> <td>2610.07    </td> <td>2541.38    </td> <td>2574.42    </td> <td>4307.83    </td> <td>794.643    </td> <td>4309.31    </td> <td>781.483    </td> <td>4447.33    </td> <td>2587.03    </td> <td>2596.9     </td> <td>2577.39    </td> <td>2631.7     </td> <td>4383.61    </td> <td>2644.14    </td> <td>760.696    </td> <td>4453.13    </td> <td>2575.86    </td> <td>739.573    </td> <td>2557.66    </td> <td>4475.11    </td> <td>2575.2     </td> <td>2595.22    </td> <td>2563.57    </td> <td>784.561    </td> <td>4444.77    </td> <td>755.986    </td> <td>4374.04    </td> <td>765.523    </td> <td>2553.29    </td> <td>2641       </td> <td>2668.67    </td> <td>2687.71    </td> <td>4296.57    </td> <td>2638.3     </td> <td>749.035    </td> <td>4508.19    </td> <td>2611.76    </td> <td>764.496    </td> <td>2525.22    </td> <td>4430.26    </td> <td>2594.05    </td> <td>2640.82    </td> <td>2664.91    </td> <td>789.847    </td> <td>4313.07    </td> <td>738.599    </td> <td>4454.5     </td> <td>758.52     </td> <td>2563.28    </td> <td>2580.44    </td> <td>2532.05    </td> <td>2540.94    </td> <td>761.791    </td> <td>2562.72    </td> <td>4497.76    </td> <td>778.589    </td> <td>2523.02    </td> <td>4333.42    </td> <td>760.255    </td> <td>4277.4     </td> <td>764.655    </td> <td>4545.25    </td> <td>2503.83    </td> <td>4465.31    </td> <td>797.358    </td> <td>4399.61    </td> <td>748.286    </td> <td>2661.55    </td> <td>765.197    </td> <td>4469.03    </td> <td>2655.5     </td> <td>2632.09    </td> <td>4419.06    </td> <td>2605.79    </td> <td>743.741    </td> <td>4440.96    </td> <td>2549.42    </td> <td>749.837    </td> <td>4510.61    </td> <td>773.003    </td> <td>2577.9     </td> <td>2602.86    </td> <td>2556.66    </td> <td>4305.82    </td> <td>770.539    </td> <td>2650.18    </td> <td>4252.52    </td> <td>2646.88    </td> <td>749.417     </td> <td>2627.44     </td> <td>2562.15     </td> <td>2579.05     </td> <td>778.452     </td> <td>2611.48     </td> <td>4456.77     </td> <td>772.52      </td> <td>2567.54     </td> <td>4344.4      </td> <td>2546.24     </td> <td>796.207     </td> <td>2586.94     </td> <td>2593.27     </td> <td>2574.56     </td> <td>4423.35     </td> <td>737.538     </td> <td>4476.67     </td> <td>744.58      </td> <td>4411.38     </td> <td>2535.25     </td> <td>2586.28     </td> <td>2615.9      </td> <td>2529.06     </td> <td>756.522     </td> <td>2639.66     </td> <td>4524.31     </td> <td>739.779     </td> <td>2589.45     </td> <td>4445.11     </td> <td>2563.19     </td> <td>793.181     </td> <td>2615.62     </td> <td>2593.46     </td> <td>2575.42     </td> <td>4364.52     </td> <td>776.455     </td> <td>4274.08     </td> <td>729.263     </td> <td>4520.62     </td> <td>2555.99     </td> <td>2563.68     </td> <td>2610.45     </td> <td>2662.69     </td> <td>4359.93     </td> <td>2652.3      </td> <td>753.889     </td> <td>4388.79     </td> <td>2569.21     </td> <td>769.273     </td> <td>2606.94     </td> <td>4431.01     </td> <td>2553.8      </td> <td>2662        </td> <td>2660.8      </td> <td>759.164     </td> <td>4279.85     </td> <td>779.196     </td> <td>4317.3      </td> <td>779.876     </td> <td>2671.73     </td> <td>2587.33   </td> <td>2619.05   </td> <td>2601.03   </td> <td>761.204   </td> <td>2529.52   </td> <td>4366.99   </td> <td>778.974   </td> <td>2524.85   </td> <td>4353.69   </td> <td>2569.38    </td> <td>768.396    </td> <td>2610.07    </td> <td>2541.38    </td> <td>2574.42    </td> <td>4307.83    </td> <td>794.643    </td> <td>4309.31    </td> <td>781.483    </td> <td>4447.33    </td> <td>2587.03    </td> <td>2596.9     </td> <td>2577.39    </td> <td>2631.7     </td> <td>4383.61    </td> <td>2644.14    </td> <td>760.696    </td> <td>4453.13    </td> <td>2575.86    </td> <td>739.573    </td> <td>2557.66    </td> <td>4475.11    </td> <td>2575.2     </td> <td>2595.22    </td> <td>2563.57    </td> <td>784.561    </td> <td>4444.77    </td> <td>755.986    </td> <td>4374.04    </td> <td>765.523    </td> <td>2553.29    </td> <td>2641       </td> <td>2668.67    </td> <td>2687.71    </td> <td>4296.57    </td> <td>2638.3     </td> <td>749.035    </td> <td>4508.19    </td> <td>2611.76    </td> <td>764.496    </td> <td>2525.22    </td> <td>4430.26    </td> <td>2594.05    </td> <td>2640.82    </td> <td>2664.91    </td> <td>789.847    </td> <td>4313.07    </td> <td>738.599    </td> <td>4454.5     </td> <td>758.52     </td> <td>2563.28    </td> <td>2580.44    </td> <td>2532.05    </td> <td>2540.94    </td> <td>761.791    </td> <td>2562.72    </td> <td>4497.76    </td> <td>778.589    </td> <td>2523.02    </td> <td>4333.42    </td> <td>760.255    </td> <td>4277.4     </td> <td>764.655    </td> <td>4545.25    </td> <td>2503.83    </td> <td>4465.31    </td> <td>797.358    </td> <td>4399.61    </td> <td>748.286    </td> <td>2661.55    </td> <td>765.197    </td> <td>4469.03    </td> <td>2655.5     </td> <td>2632.09    </td> <td>4419.06    </td> <td>2605.79    </td> <td>743.741    </td> <td>4440.96    </td> <td>2549.42    </td> <td>749.837    </td> <td>4510.61    </td> <td>773.003    </td> <td>2577.9     </td> <td>2602.86    </td> <td>2556.66    </td> <td>4305.82    </td> <td>770.539    </td> <td>2650.18    </td> <td>4252.52    </td> <td>2646.88    </td> <td>749.417     </td> <td>2627.44     </td> <td>2562.15     </td> <td>2579.05     </td> <td>778.452     </td> <td>2611.48     </td> <td>4456.77     </td> <td>772.52      </td> <td>2567.54     </td> <td>4344.4      </td> <td>2546.24     </td> <td>796.207     </td> <td>2586.94     </td> <td>2593.27     </td> <td>2574.56     </td> <td>4423.35     </td> <td>737.538     </td> <td>4476.67     </td> <td>744.58      </td> <td>4411.38     </td> <td>2535.25     </td> <td>2586.28     </td> <td>2615.9      </td> <td>2529.06     </td> <td>756.522     </td> <td>2639.66     </td> <td>4524.31     </td> <td>739.779     </td> <td>2589.45     </td> <td>4445.11     </td> <td>2563.19     </td> <td>793.181     </td> <td>2615.62     </td> <td>2593.46     </td> <td>2575.42     </td> <td>4364.52     </td> <td>776.455     </td> <td>4274.08     </td> <td>729.263     </td> <td>4520.62     </td> <td>2555.99     </td> <td>2563.68     </td> <td>2610.45     </td> <td>2662.69     </td> <td>4359.93     </td> <td>2652.3      </td> <td>753.889     </td> <td>4388.79     </td> <td>2569.21     </td> <td>769.273     </td> <td>2606.94     </td> <td>4431.01     </td> <td>2553.8      </td> <td>2662        </td> <td>2660.8      </td> <td>759.164     </td> <td>4279.85     </td> <td>779.196     </td> <td>4317.3      </td> <td>779.876     </td> <td>2671.73     </td>\n",
       "        </tr>\n",
       "    </tbody>\n",
       "        <tr>\n",
       "            <td>4    </td> <td>2016.1</td> <td>2620070583454793290442215</td> <td>262007058345479329044221501</td> <td>63   </td> <td>161  </td> <td>26   </td> <td>20070583454793290442</td> <td>2    </td> <td>15   </td> <td>1    </td> <td>1    </td> <td>37   </td> <td>1    </td> <td>9    </td> <td>11   </td> <td>2015 </td> <td>2    </td> <td>1    </td> <td>9    </td> <td>9    </td> <td>3     </td> <td>3    </td> <td>9    </td> <td>2     </td> <td>1    </td> <td>2    </td> <td>2    </td> <td>1    </td> <td>2    </td> <td>9    </td> <td>9    </td> <td>9    </td> <td>9    </td> <td>9    </td> <td>9    </td> <td>9    </td> <td>9    </td> <td>9    </td> <td>9    </td> <td>9    </td> <td>3    </td> <td>9     </td> <td>9     </td> <td>9     </td> <td>9    </td> <td>1    </td> <td>1    </td> <td>1    </td> <td>2    </td> <td>2    </td> <td>2    </td> <td>2    </td> <td>9    </td> <td>9    </td> <td>9    </td> <td>9    </td> <td>9    </td> <td>9    </td> <td>9    </td> <td>9    </td> <td>9    </td> <td>2    </td> <td>2    </td> <td>2    </td> <td>2    </td> <td>2    </td> <td>2    </td> <td>1    </td> <td>0    </td> <td>1    </td> <td>0    </td> <td>0    </td> <td>0    </td> <td>0    </td> <td>0    </td> <td>0    </td> <td>0    </td> <td>1    </td> <td>0    </td> <td>9    </td> <td>9    </td> <td>9    </td> <td>9    </td> <td>9    </td> <td>9    </td> <td>9    </td> <td>9    </td> <td>9    </td> <td>9    </td> <td>9    </td> <td>9    </td> <td>9    </td> <td>9    </td> <td>9    </td> <td>9    </td> <td>9    </td> <td>9    </td> <td>9    </td> <td>9    </td> <td>9    </td> <td>9    </td> <td>9    </td> <td>9    </td> <td>9    </td> <td>9    </td> <td>9    </td> <td>9    </td> <td>9    </td> <td>9    </td> <td>9    </td> <td>9    </td> <td>9    </td> <td>9    </td> <td>9    </td> <td>9    </td> <td>9    </td> <td>9    </td> <td>9    </td> <td>9    </td> <td>9    </td> <td>9    </td> <td>9    </td> <td>9    </td> <td>9    </td> <td>9    </td> <td>9    </td> <td>99   </td> <td>99   </td> <td>99   </td> <td>9    </td> <td>9    </td> <td>9    </td> <td>9    </td> <td>9    </td> <td>9    </td> <td>9    </td> <td>9    </td> <td>9    </td> <td>9    </td> <td>9    </td> <td>999  </td> <td>9    </td> <td>99999</td> <td>9      </td> <td>9      </td> <td>9      </td> <td>9      </td> <td>9      </td> <td>9      </td> <td>9      </td> <td>9      </td> <td>9      </td> <td>9       </td> <td>9       </td> <td>9       </td> <td>9       </td> <td>9       </td> <td>9       </td> <td>9       </td> <td>9       </td> <td>9       </td> <td>9       </td> <td>9       </td> <td>9       </td> <td>9       </td> <td>9       </td> <td>9       </td> <td>9       </td> <td>9       </td> <td>9       </td> <td>9       </td> <td>9       </td> <td>9       </td> <td>9       </td> <td>9       </td> <td>9       </td> <td>9       </td> <td>9       </td> <td>9     </td> <td>1    </td> <td>9    </td> <td>1    </td> <td>0    </td> <td>0    </td> <td>0    </td> <td>0    </td> <td>0    </td> <td>0    </td> <td>0    </td> <td>0    </td> <td>1    </td> <td>0    </td> <td>0    </td> <td>0    </td> <td>0    </td> <td>0    </td> <td>0    </td> <td>0    </td> <td>0    </td> <td>9    </td> <td>9    </td> <td>9    </td> <td>9    </td> <td>9    </td> <td>1    </td> <td>1    </td> <td>0    </td> <td>1    </td> <td>0    </td> <td>1    </td> <td>0    </td> <td>0    </td> <td>0    </td> <td>2    </td> <td>9    </td> <td>9    </td> <td>9    </td> <td>9    </td> <td>9    </td> <td>9    </td> <td>9    </td> <td>9    </td> <td>1    </td> <td>1    </td> <td>1    </td> <td>0    </td> <td>1    </td> <td>0    </td> <td>0    </td> <td>0    </td> <td>0    </td> <td>0    </td> <td>2    </td> <td>9    </td> <td>9    </td> <td>9    </td> <td>9    </td> <td>9    </td> <td>9    </td> <td>9    </td> <td>9    </td> <td>2    </td> <td>99   </td> <td>99   </td> <td>99   </td> <td>99   </td> <td>2    </td> <td>9    </td> <td>9    </td> <td>9    </td> <td>9    </td> <td>9    </td> <td>9    </td> <td>9    </td> <td>9    </td> <td>9    </td> <td>9    </td> <td>9    </td> <td>9    </td> <td>9    </td> <td>9    </td> <td>9    </td> <td>9    </td> <td>9    </td> <td>9    </td> <td>9    </td> <td>9    </td> <td>9    </td> <td>9    </td> <td>9    </td> <td>9    </td> <td>9    </td> <td>1    </td> <td>9    </td> <td>1    </td> <td>4    </td> <td>2     </td> <td>3    </td> <td>3    </td> <td>9    </td> <td>2    </td> <td>3    </td> <td>9    </td> <td>9    </td> <td>99   </td> <td>1     </td> <td>0     </td> <td>1     </td> <td>0     </td> <td>0     </td> <td>0     </td> <td>0     </td> <td>0     </td> <td>3    </td> <td>99   </td> <td>9    </td> <td>9    </td> <td>9    </td> <td>9    </td> <td>9     </td> <td>9     </td> <td>9    </td> <td>9    </td> <td>9    </td> <td>9    </td> <td>9    </td> <td>9    </td> <td>9    </td> <td>9    </td> <td>9    </td> <td>9    </td> <td>9    </td> <td>9    </td> <td>9    </td> <td>9    </td> <td>9    </td> <td>9    </td> <td>9    </td> <td>9    </td> <td>9    </td> <td>9    </td> <td>9    </td> <td>9    </td> <td>9    </td> <td>9    </td> <td>9    </td> <td>9     </td> <td>9     </td> <td>9     </td> <td>9     </td> <td>9     </td> <td>9    </td> <td>9    </td> <td>9    </td> <td>9    </td> <td>9     </td> <td>9     </td> <td>9     </td> <td>9    </td> <td>9    </td> <td>9     </td> <td>9    </td> <td>2    </td> <td>2    </td> <td>1    </td> <td>1    </td> <td>1    </td> <td>0    </td> <td>0    </td> <td>0    </td> <td>0    </td> <td>0    </td> <td>0    </td> <td>0    </td> <td>0    </td> <td>0    </td> <td>0    </td> <td>0    </td> <td>0    </td> <td>0    </td> <td>0    </td> <td>0    </td> <td>0    </td> <td>1    </td> <td>0    </td> <td>2    </td> <td>40   </td> <td>99   </td> <td>99   </td> <td>2    </td> <td>9    </td> <td>9    </td> <td>2    </td> <td>99   </td> <td>99   </td> <td>99   </td> <td>99999</td> <td>9    </td> <td>9    </td> <td>9    </td> <td>9    </td> <td>9    </td> <td>9    </td> <td>9    </td> <td>9    </td> <td>9    </td> <td>9    </td> <td>9    </td> <td>9    </td> <td>9    </td> <td>9    </td> <td>9    </td> <td>9    </td> <td>9    </td> <td>9    </td> <td>9    </td> <td>9    </td> <td>9    </td> <td>9    </td> <td>9    </td> <td>9    </td> <td>9    </td> <td>9    </td> <td>9    </td> <td>9    </td> <td>9    </td> <td>9    </td> <td>99   </td> <td>99   </td> <td>99   </td> <td>9    </td> <td>9    </td> <td>9    </td> <td>999   </td> <td>999   </td> <td>9    </td> <td>9    </td> <td>9    </td> <td>99   </td> <td>99   </td> <td>99   </td> <td>99999</td> <td>9    </td> <td>9    </td> <td>9    </td> <td>9    </td> <td>9    </td> <td>9    </td> <td>9    </td> <td>9    </td> <td>9    </td> <td>9    </td> <td>99999</td> <td>9    </td> <td>9    </td> <td>9    </td> <td>9    </td> <td>9    </td> <td>9    </td> <td>9    </td> <td>9    </td> <td>9    </td> <td>99999</td> <td>9     </td> <td>2    </td> <td>9    </td> <td>99999</td> <td>99999</td> <td>9    </td> <td>9    </td> <td>9    </td> <td>9    </td> <td>9    </td> <td>9    </td> <td>9    </td> <td>9    </td> <td>1    </td> <td>1    </td> <td>9    </td> <td>9    </td> <td>9    </td> <td>9    </td> <td>9    </td> <td>9    </td> <td>9    </td> <td>9    </td> <td>9    </td> <td>9    </td> <td>9    </td> <td>9    </td> <td>9    </td> <td>9    </td> <td>9    </td> <td>9    </td> <td>9    </td> <td>9    </td> <td>9    </td> <td>9    </td> <td>9    </td> <td>99   </td> <td>1    </td> <td>1    </td> <td>0    </td> <td>0    </td> <td>0    </td> <td>1    </td> <td>0    </td> <td>0    </td> <td>0    </td> <td>1    </td> <td>1    </td> <td>0    </td> <td>0    </td> <td>0    </td> <td>5    </td> <td>1    </td> <td>2    </td> <td>1    </td> <td>1    </td> <td>1    </td> <td>0    </td> <td>0    </td> <td>0    </td> <td>0    </td> <td>0    </td> <td>0    </td> <td>0    </td> <td>0    </td> <td>2    </td> <td>9    </td> <td>9    </td> <td>9    </td> <td>9    </td> <td>9    </td> <td>9    </td> <td>9    </td> <td>9    </td> <td>9    </td> <td>9    </td> <td>9    </td> <td>9    </td> <td>9    </td> <td>1    </td> <td>3    </td> <td>2    </td> <td>9    </td> <td>2    </td> <td>9    </td> <td>9    </td> <td>9    </td> <td>9    </td> <td>9    </td> <td>9    </td> <td>9    </td> <td>2    </td> <td>9    </td> <td>1    </td> <td>9    </td> <td>9     </td> <td>9     </td> <td>9    </td> <td>99    </td> <td>99    </td> <td>9    </td> <td>9    </td> <td>9    </td> <td>9     </td> <td>9    </td> <td>999  </td> <td>9    </td> <td>99999</td> <td>1    </td> <td>0    </td> <td>0    </td> <td>0    </td> <td>0    </td> <td>0    </td> <td>1    </td> <td>0    </td> <td>999  </td> <td>9    </td> <td>99999</td> <td>2    </td> <td>999  </td> <td>99   </td> <td>999  </td> <td>9    </td> <td>99   </td> <td>99   </td> <td>99   </td> <td>99   </td> <td>9    </td> <td>9    </td> <td>9    </td> <td>9    </td> <td>9    </td> <td>9    </td> <td>9    </td> <td>9    </td> <td>9    </td> <td>9    </td> <td>9    </td> <td>9    </td> <td>9     </td> <td>9     </td> <td>9     </td> <td>9     </td> <td>9     </td> <td>9     </td> <td>9     </td> <td>9     </td> <td>9     </td> <td>9    </td> <td>9    </td> <td>9    </td> <td>99   </td> <td>2      </td> <td>9     </td> <td>9     </td> <td>9     </td> <td>9     </td> <td>9     </td> <td>9     </td> <td>9     </td> <td>9     </td> <td>9       </td> <td>9       </td> <td>9       </td> <td>9       </td> <td>9       </td> <td>9       </td> <td>9       </td> <td>9       </td> <td>9       </td> <td>2       </td> <td>2       </td> <td>2      </td> <td>2      </td> <td>2      </td> <td>2      </td> <td>2      </td> <td>9       </td> <td>-2   </td> <td>3233.21       </td> <td>39   </td> <td>59   </td> <td>3233.21 </td> <td>0   </td> <td>2015 </td> <td>3233.21</td> <td>3233.21      </td> <td>3224.49   </td> <td>5271.12   </td> <td>3112.13   </td> <td>5080.35   </td> <td>997.587   </td> <td>5597.76   </td> <td>3314.44   </td> <td>5388.05   </td> <td>2919.59   </td> <td>964.549    </td> <td>940.77     </td> <td>3264.75    </td> <td>3426.56    </td> <td>3270.55    </td> <td>3038.28    </td> <td>5316.71    </td> <td>3219.97    </td> <td>935.508    </td> <td>965.53     </td> <td>3495.93    </td> <td>3359.82    </td> <td>5624.43    </td> <td>3209.38    </td> <td>5097.62    </td> <td>998.898    </td> <td>5767.38    </td> <td>3202.81    </td> <td>5380.03    </td> <td>3000.46    </td> <td>894.339    </td> <td>1118.36    </td> <td>3377.07    </td> <td>3290.54    </td> <td>3079.97    </td> <td>3062       </td> <td>5552.26    </td> <td>3156.77    </td> <td>949.935    </td> <td>1060.88    </td> <td>3293.58    </td> <td>3168.19    </td> <td>5461.06    </td> <td>3400.48    </td> <td>5074.81    </td> <td>971.275    </td> <td>5800.72    </td> <td>3200.58    </td> <td>5506.39    </td> <td>3211.99    </td> <td>994.21     </td> <td>949.336    </td> <td>3109.76    </td> <td>3634.57    </td> <td>3137.83    </td> <td>3438.44    </td> <td>5654.3     </td> <td>3494.37    </td> <td>961.416    </td> <td>923.328    </td> <td>3484.61    </td> <td>3182.84    </td> <td>5639.04    </td> <td>3353.26    </td> <td>5332.93    </td> <td>941.555    </td> <td>5304.03    </td> <td>3274.18    </td> <td>5350.5     </td> <td>3179.91    </td> <td>5640.32    </td> <td>3367.03    </td> <td>968.592    </td> <td>989.46     </td> <td>3184.14    </td> <td>3155.87    </td> <td>5673.77    </td> <td>3396.61    </td> <td>904.602    </td> <td>986.973    </td> <td>5462.04    </td> <td>3222.48    </td> <td>5636       </td> <td>3171       </td> <td>953.12     </td> <td>5442.5     </td> <td>932.183    </td> <td>3150.31    </td> <td>3179.74    </td> <td>3174.85    </td> <td>5490.36    </td> <td>3055.83    </td> <td>3119.63    </td> <td>3371.31    </td> <td>3175.55    </td> <td>935.77     </td> <td>3174.1     </td> <td>3224.41    </td> <td>5303.73    </td> <td>926.981    </td> <td>5724.19     </td> <td>3235.34     </td> <td>925.232     </td> <td>3222.91     </td> <td>948.764     </td> <td>6065.67     </td> <td>985.687     </td> <td>3054.3      </td> <td>994.53      </td> <td>3284.5      </td> <td>5581.14     </td> <td>5650.43     </td> <td>3318.11     </td> <td>3252.75     </td> <td>3272.75     </td> <td>3157.76     </td> <td>936.443     </td> <td>3296.68     </td> <td>5045        </td> <td>5378.16     </td> <td>3196.9      </td> <td>3032.81     </td> <td>933.237     </td> <td>3108        </td> <td>988.658     </td> <td>5096.83     </td> <td>972.925     </td> <td>3510.88     </td> <td>1001.52     </td> <td>3512.29     </td> <td>5893.78     </td> <td>5579.1      </td> <td>3152.53     </td> <td>3176.58     </td> <td>3474        </td> <td>3279.87     </td> <td>961.223     </td> <td>3236.53     </td> <td>5928.94     </td> <td>5920.23     </td> <td>3573.5      </td> <td>3218.25     </td> <td>996.952     </td> <td>3276.2      </td> <td>1024.33     </td> <td>5562.29     </td> <td>906.659     </td> <td>3087.95     </td> <td>983.35      </td> <td>3435.1      </td> <td>5501.05     </td> <td>5570.63     </td> <td>3367.96     </td> <td>2886.62     </td> <td>3230.97     </td> <td>3081.57     </td> <td>961.696     </td> <td>3373.01     </td> <td>5439.26     </td> <td>5241.99     </td> <td>3010.52     </td> <td>3224.49   </td> <td>5271.12   </td> <td>3112.13   </td> <td>5080.35   </td> <td>997.587   </td> <td>5597.76   </td> <td>3314.44   </td> <td>5388.05   </td> <td>2919.59   </td> <td>964.549    </td> <td>940.77     </td> <td>3264.75    </td> <td>3426.56    </td> <td>3270.55    </td> <td>3038.28    </td> <td>5316.71    </td> <td>3219.97    </td> <td>935.508    </td> <td>965.53     </td> <td>3495.93    </td> <td>3359.82    </td> <td>5624.43    </td> <td>3209.38    </td> <td>5097.62    </td> <td>998.898    </td> <td>5767.38    </td> <td>3202.81    </td> <td>5380.03    </td> <td>3000.46    </td> <td>894.339    </td> <td>1118.36    </td> <td>3377.07    </td> <td>3290.54    </td> <td>3079.97    </td> <td>3062       </td> <td>5552.26    </td> <td>3156.77    </td> <td>949.935    </td> <td>1060.88    </td> <td>3293.58    </td> <td>3168.19    </td> <td>5461.06    </td> <td>3400.48    </td> <td>5074.81    </td> <td>971.275    </td> <td>5800.72    </td> <td>3200.58    </td> <td>5506.39    </td> <td>3211.99    </td> <td>994.21     </td> <td>949.336    </td> <td>3109.76    </td> <td>3634.57    </td> <td>3137.83    </td> <td>3438.44    </td> <td>5654.3     </td> <td>3494.37    </td> <td>961.416    </td> <td>923.328    </td> <td>3484.61    </td> <td>3182.84    </td> <td>5639.04    </td> <td>3353.26    </td> <td>5332.93    </td> <td>941.555    </td> <td>5304.03    </td> <td>3274.18    </td> <td>5350.5     </td> <td>3179.91    </td> <td>5640.32    </td> <td>3367.03    </td> <td>968.592    </td> <td>989.46     </td> <td>3184.14    </td> <td>3155.87    </td> <td>5673.77    </td> <td>3396.61    </td> <td>904.602    </td> <td>986.973    </td> <td>5462.04    </td> <td>3222.48    </td> <td>5636       </td> <td>3171       </td> <td>953.12     </td> <td>5442.5     </td> <td>932.183    </td> <td>3150.31    </td> <td>3179.74    </td> <td>3174.85    </td> <td>5490.36    </td> <td>3055.83    </td> <td>3119.63    </td> <td>3371.31    </td> <td>3175.55    </td> <td>935.77     </td> <td>3174.1     </td> <td>3224.41    </td> <td>5303.73    </td> <td>926.981    </td> <td>5724.19     </td> <td>3235.34     </td> <td>925.232     </td> <td>3222.91     </td> <td>948.764     </td> <td>6065.67     </td> <td>985.687     </td> <td>3054.3      </td> <td>994.53      </td> <td>3284.5      </td> <td>5581.14     </td> <td>5650.43     </td> <td>3318.11     </td> <td>3252.75     </td> <td>3272.75     </td> <td>3157.76     </td> <td>936.443     </td> <td>3296.68     </td> <td>5045        </td> <td>5378.16     </td> <td>3196.9      </td> <td>3032.81     </td> <td>933.237     </td> <td>3108        </td> <td>988.658     </td> <td>5096.83     </td> <td>972.925     </td> <td>3510.88     </td> <td>1001.52     </td> <td>3512.29     </td> <td>5893.78     </td> <td>5579.1      </td> <td>3152.53     </td> <td>3176.58     </td> <td>3474        </td> <td>3279.87     </td> <td>961.223     </td> <td>3236.53     </td> <td>5928.94     </td> <td>5920.23     </td> <td>3573.5      </td> <td>3218.25     </td> <td>996.952     </td> <td>3276.2      </td> <td>1024.33     </td> <td>5562.29     </td> <td>906.659     </td> <td>3087.95     </td> <td>983.35      </td> <td>3435.1      </td> <td>5501.05     </td> <td>5570.63     </td> <td>3367.96     </td> <td>2886.62     </td> <td>3230.97     </td> <td>3081.57     </td> <td>961.696     </td> <td>3373.01     </td> <td>5439.26     </td> <td>5241.99     </td> <td>3010.52     </td>\n",
       "        </tr>\n",
       "    </tbody>\n",
       "        <tr>\n",
       "            <td>4    </td> <td>2016.1</td> <td>2620078700191953294220436</td> <td>262007870019195329422043603</td> <td>83   </td> <td>161  </td> <td>26   </td> <td>20078700191953294220</td> <td>4    </td> <td>36   </td> <td>2    </td> <td>3    </td> <td>36   </td> <td>1    </td> <td>9    </td> <td>10   </td> <td>2015 </td> <td>1    </td> <td>1    </td> <td>9    </td> <td>9    </td> <td>9     </td> <td>3    </td> <td>9    </td> <td>2     </td> <td>21   </td> <td>9    </td> <td>9    </td> <td>9    </td> <td>9    </td> <td>9    </td> <td>9    </td> <td>9    </td> <td>9    </td> <td>9    </td> <td>9    </td> <td>9    </td> <td>9    </td> <td>9    </td> <td>9    </td> <td>9    </td> <td>99   </td> <td>9     </td> <td>9     </td> <td>9     </td> <td>2    </td> <td>4    </td> <td>2    </td> <td>2    </td> <td>9    </td> <td>9    </td> <td>9    </td> <td>9    </td> <td>9    </td> <td>9    </td> <td>9    </td> <td>9    </td> <td>9    </td> <td>9    </td> <td>9    </td> <td>9    </td> <td>9    </td> <td>9    </td> <td>9    </td> <td>9    </td> <td>9    </td> <td>9    </td> <td>9    </td> <td>9    </td> <td>9    </td> <td>9    </td> <td>9    </td> <td>9    </td> <td>9    </td> <td>9    </td> <td>9    </td> <td>9    </td> <td>9    </td> <td>9    </td> <td>9    </td> <td>9    </td> <td>9    </td> <td>9    </td> <td>9    </td> <td>9    </td> <td>9    </td> <td>9    </td> <td>9    </td> <td>9    </td> <td>9    </td> <td>9    </td> <td>9    </td> <td>9    </td> <td>9    </td> <td>9    </td> <td>9    </td> <td>9    </td> <td>9    </td> <td>9    </td> <td>9    </td> <td>9    </td> <td>9    </td> <td>9    </td> <td>9    </td> <td>9    </td> <td>9    </td> <td>9    </td> <td>9    </td> <td>9    </td> <td>9    </td> <td>9    </td> <td>9    </td> <td>9    </td> <td>9    </td> <td>9    </td> <td>9    </td> <td>9    </td> <td>9    </td> <td>9    </td> <td>9    </td> <td>9    </td> <td>9    </td> <td>9    </td> <td>9    </td> <td>9    </td> <td>9    </td> <td>9    </td> <td>99   </td> <td>99   </td> <td>99   </td> <td>9    </td> <td>9    </td> <td>9    </td> <td>9    </td> <td>9    </td> <td>9    </td> <td>9    </td> <td>9    </td> <td>9    </td> <td>9    </td> <td>9    </td> <td>999  </td> <td>9    </td> <td>99999</td> <td>9      </td> <td>9      </td> <td>9      </td> <td>9      </td> <td>9      </td> <td>9      </td> <td>9      </td> <td>9      </td> <td>9      </td> <td>9       </td> <td>9       </td> <td>9       </td> <td>9       </td> <td>9       </td> <td>9       </td> <td>9       </td> <td>9       </td> <td>9       </td> <td>9       </td> <td>9       </td> <td>9       </td> <td>9       </td> <td>9       </td> <td>9       </td> <td>9       </td> <td>9       </td> <td>9       </td> <td>9       </td> <td>9       </td> <td>9       </td> <td>9       </td> <td>9       </td> <td>9       </td> <td>9       </td> <td>9       </td> <td>9     </td> <td>9    </td> <td>9    </td> <td>9    </td> <td>9    </td> <td>9    </td> <td>9    </td> <td>9    </td> <td>9    </td> <td>9    </td> <td>9    </td> <td>9    </td> <td>9    </td> <td>9    </td> <td>9    </td> <td>9    </td> <td>9    </td> <td>9    </td> <td>9    </td> <td>9    </td> <td>9    </td> <td>9    </td> <td>9    </td> <td>9    </td> <td>9    </td> <td>9    </td> <td>9    </td> <td>9    </td> <td>9    </td> <td>9    </td> <td>9    </td> <td>9    </td> <td>9    </td> <td>9    </td> <td>9    </td> <td>9    </td> <td>9    </td> <td>9    </td> <td>9    </td> <td>9    </td> <td>9    </td> <td>9    </td> <td>9    </td> <td>9    </td> <td>9    </td> <td>9    </td> <td>9    </td> <td>9    </td> <td>9    </td> <td>9    </td> <td>9    </td> <td>9    </td> <td>9    </td> <td>9    </td> <td>9    </td> <td>9    </td> <td>9    </td> <td>9    </td> <td>9    </td> <td>9    </td> <td>9    </td> <td>9    </td> <td>9    </td> <td>9    </td> <td>99   </td> <td>99   </td> <td>99   </td> <td>99   </td> <td>9    </td> <td>9    </td> <td>2    </td> <td>9    </td> <td>9    </td> <td>9    </td> <td>9    </td> <td>9    </td> <td>9    </td> <td>9    </td> <td>9    </td> <td>9    </td> <td>9    </td> <td>9    </td> <td>9    </td> <td>9    </td> <td>9    </td> <td>9    </td> <td>9    </td> <td>9    </td> <td>9    </td> <td>9    </td> <td>9    </td> <td>9    </td> <td>9    </td> <td>9    </td> <td>9    </td> <td>9    </td> <td>9    </td> <td>9    </td> <td>9     </td> <td>9    </td> <td>9    </td> <td>9    </td> <td>9    </td> <td>9    </td> <td>9    </td> <td>9    </td> <td>99   </td> <td>9     </td> <td>9     </td> <td>9     </td> <td>9     </td> <td>9     </td> <td>9     </td> <td>9     </td> <td>9     </td> <td>9    </td> <td>99   </td> <td>9    </td> <td>9    </td> <td>9    </td> <td>9    </td> <td>9     </td> <td>9     </td> <td>9    </td> <td>9    </td> <td>9    </td> <td>9    </td> <td>9    </td> <td>9    </td> <td>9    </td> <td>9    </td> <td>9    </td> <td>9    </td> <td>9    </td> <td>9    </td> <td>9    </td> <td>9    </td> <td>9    </td> <td>9    </td> <td>9    </td> <td>9    </td> <td>9    </td> <td>9    </td> <td>9    </td> <td>9    </td> <td>9    </td> <td>9    </td> <td>9    </td> <td>9     </td> <td>9     </td> <td>9     </td> <td>9     </td> <td>9     </td> <td>9    </td> <td>9    </td> <td>9    </td> <td>9    </td> <td>9     </td> <td>9     </td> <td>9     </td> <td>9    </td> <td>9    </td> <td>9     </td> <td>9    </td> <td>1    </td> <td>1    </td> <td>9    </td> <td>9    </td> <td>9    </td> <td>9    </td> <td>9    </td> <td>9    </td> <td>9    </td> <td>9    </td> <td>9    </td> <td>9    </td> <td>9    </td> <td>9    </td> <td>9    </td> <td>9    </td> <td>9    </td> <td>9    </td> <td>9    </td> <td>9    </td> <td>9    </td> <td>9    </td> <td>9    </td> <td>9    </td> <td>99   </td> <td>99   </td> <td>99   </td> <td>9    </td> <td>9    </td> <td>9    </td> <td>9    </td> <td>99   </td> <td>99   </td> <td>99   </td> <td>0    </td> <td>1    </td> <td>0    </td> <td>0    </td> <td>0    </td> <td>0    </td> <td>0    </td> <td>0    </td> <td>0    </td> <td>0    </td> <td>0    </td> <td>0    </td> <td>0    </td> <td>0    </td> <td>0    </td> <td>0    </td> <td>0    </td> <td>0    </td> <td>0    </td> <td>0    </td> <td>1    </td> <td>0    </td> <td>0    </td> <td>0    </td> <td>0    </td> <td>0    </td> <td>0    </td> <td>0    </td> <td>0    </td> <td>0    </td> <td>1    </td> <td>99   </td> <td>99   </td> <td>99   </td> <td>9    </td> <td>9    </td> <td>1    </td> <td>999   </td> <td>999   </td> <td>9    </td> <td>9    </td> <td>2    </td> <td>99   </td> <td>99   </td> <td>99   </td> <td>99998</td> <td>1    </td> <td>0    </td> <td>0    </td> <td>0    </td> <td>0    </td> <td>0    </td> <td>0    </td> <td>0    </td> <td>8    </td> <td>3    </td> <td>99999</td> <td>9    </td> <td>9    </td> <td>9    </td> <td>9    </td> <td>9    </td> <td>9    </td> <td>9    </td> <td>9    </td> <td>9    </td> <td>99999</td> <td>2     </td> <td>2    </td> <td>9    </td> <td>99999</td> <td>99999</td> <td>9    </td> <td>9    </td> <td>9    </td> <td>9    </td> <td>9    </td> <td>9    </td> <td>9    </td> <td>9    </td> <td>2    </td> <td>9    </td> <td>1    </td> <td>0    </td> <td>0    </td> <td>0    </td> <td>0    </td> <td>0    </td> <td>0    </td> <td>1    </td> <td>1    </td> <td>1    </td> <td>0    </td> <td>0    </td> <td>0    </td> <td>0    </td> <td>0    </td> <td>0    </td> <td>0    </td> <td>0    </td> <td>1    </td> <td>0    </td> <td>0    </td> <td>18   </td> <td>9    </td> <td>9    </td> <td>9    </td> <td>9    </td> <td>9    </td> <td>9    </td> <td>9    </td> <td>9    </td> <td>9    </td> <td>9    </td> <td>9    </td> <td>9    </td> <td>9    </td> <td>9    </td> <td>99   </td> <td>9    </td> <td>9    </td> <td>9    </td> <td>9    </td> <td>9    </td> <td>9    </td> <td>9    </td> <td>9    </td> <td>9    </td> <td>9    </td> <td>9    </td> <td>9    </td> <td>9    </td> <td>9    </td> <td>9    </td> <td>9    </td> <td>9    </td> <td>9    </td> <td>9    </td> <td>9    </td> <td>9    </td> <td>9    </td> <td>9    </td> <td>9    </td> <td>9    </td> <td>9    </td> <td>9    </td> <td>9    </td> <td>9    </td> <td>2    </td> <td>9    </td> <td>9    </td> <td>9    </td> <td>9    </td> <td>9    </td> <td>9    </td> <td>9    </td> <td>9    </td> <td>9    </td> <td>9    </td> <td>1    </td> <td>1    </td> <td>9    </td> <td>2     </td> <td>4     </td> <td>1    </td> <td>2     </td> <td>40    </td> <td>4    </td> <td>2    </td> <td>1    </td> <td>1     </td> <td>9    </td> <td>999  </td> <td>9    </td> <td>99999</td> <td>1    </td> <td>0    </td> <td>0    </td> <td>0    </td> <td>0    </td> <td>0    </td> <td>1    </td> <td>0    </td> <td>999  </td> <td>9    </td> <td>99999</td> <td>2    </td> <td>999  </td> <td>99   </td> <td>999  </td> <td>9    </td> <td>99   </td> <td>99   </td> <td>99   </td> <td>99   </td> <td>9    </td> <td>9    </td> <td>9    </td> <td>9    </td> <td>9    </td> <td>9    </td> <td>9    </td> <td>9    </td> <td>9    </td> <td>9    </td> <td>9    </td> <td>9    </td> <td>9     </td> <td>9     </td> <td>9     </td> <td>9     </td> <td>9     </td> <td>9     </td> <td>9     </td> <td>9     </td> <td>9     </td> <td>9    </td> <td>9    </td> <td>9    </td> <td>99   </td> <td>3      </td> <td>9     </td> <td>9     </td> <td>9     </td> <td>9     </td> <td>9     </td> <td>9     </td> <td>9     </td> <td>9     </td> <td>9       </td> <td>9       </td> <td>9       </td> <td>9       </td> <td>9       </td> <td>9       </td> <td>9       </td> <td>9       </td> <td>9       </td> <td>2       </td> <td>2       </td> <td>2      </td> <td>2      </td> <td>2      </td> <td>2      </td> <td>2      </td> <td>9       </td> <td>-2   </td> <td>2516.11       </td> <td>28   </td> <td>58   </td> <td>2516.11 </td> <td>0   </td> <td>2015 </td> <td>2516.11</td> <td>2516.11      </td> <td>1172.86   </td> <td>1272.87   </td> <td>3993.4    </td> <td>1004.89   </td> <td>4007.94   </td> <td>1147.35   </td> <td>4335.35   </td> <td>4501.82   </td> <td>3974.74   </td> <td>3602.5     </td> <td>1231.24    </td> <td>1159.22    </td> <td>3939.37    </td> <td>4031.23    </td> <td>1198.04    </td> <td>4272.69    </td> <td>3622.83    </td> <td>1146.99    </td> <td>1264.37    </td> <td>1343.79    </td> <td>1177.88    </td> <td>1176.12    </td> <td>3811.29    </td> <td>1021.81    </td> <td>3834.66    </td> <td>983.567    </td> <td>4046.25    </td> <td>3793.44    </td> <td>3330.56    </td> <td>3654.74    </td> <td>1217.48    </td> <td>1264.89    </td> <td>3732.12    </td> <td>4056.08    </td> <td>1271.85    </td> <td>3985.39    </td> <td>3923.24    </td> <td>981.738    </td> <td>1051.98    </td> <td>1150.81    </td> <td>1244.3     </td> <td>1192.52    </td> <td>4213.54    </td> <td>1070.1     </td> <td>3973.34    </td> <td>1068.43    </td> <td>4365.11    </td> <td>3723.17    </td> <td>3527.16    </td> <td>3835.27    </td> <td>1206.48    </td> <td>1397.92    </td> <td>3704.26    </td> <td>4336.79    </td> <td>1267.91    </td> <td>4421.7     </td> <td>4222.31    </td> <td>998.684    </td> <td>1106.35    </td> <td>1256.45    </td> <td>1145.88    </td> <td>1086.07    </td> <td>3867.48    </td> <td>974.306    </td> <td>3778.2     </td> <td>1181.18    </td> <td>4391.25    </td> <td>4165.04    </td> <td>3775.29    </td> <td>3185.4     </td> <td>1097.93    </td> <td>1069.33    </td> <td>3716.01    </td> <td>3624.54    </td> <td>1110.63    </td> <td>4145.49    </td> <td>3696.68    </td> <td>1125.12    </td> <td>1265.54    </td> <td>1173.49    </td> <td>1155.24    </td> <td>1234.9     </td> <td>3328.19    </td> <td>1088.81    </td> <td>3265.06    </td> <td>1177.75    </td> <td>3657.55    </td> <td>4408.5     </td> <td>4124.26    </td> <td>3584.43    </td> <td>1269.75    </td> <td>1010.25    </td> <td>3616.34    </td> <td>3800.18    </td> <td>1208.48    </td> <td>3682.96    </td> <td>4059.38    </td> <td>1321.51    </td> <td>1257.83    </td> <td>1046.6      </td> <td>1222.62     </td> <td>1240.5      </td> <td>3323.75     </td> <td>1322.91     </td> <td>3540.62     </td> <td>1073.48     </td> <td>3489.44     </td> <td>3931.95     </td> <td>3851.49     </td> <td>4354.62     </td> <td>1342.83     </td> <td>1219.46     </td> <td>3777.85     </td> <td>4350.48     </td> <td>1344.26     </td> <td>3847.07     </td> <td>4726.63     </td> <td>1137.76     </td> <td>1127.54     </td> <td>1099.17     </td> <td>1185.82     </td> <td>1145.81     </td> <td>3475.02     </td> <td>1266.7      </td> <td>3201.44     </td> <td>1144.08     </td> <td>3616.99     </td> <td>3779.29     </td> <td>3774.15     </td> <td>3878.71     </td> <td>1268.45     </td> <td>1134.82     </td> <td>3610.08     </td> <td>3718.15     </td> <td>1195.75     </td> <td>3851.85     </td> <td>4641.05     </td> <td>1090.94     </td> <td>1130.09     </td> <td>999.6       </td> <td>1172        </td> <td>1223.79     </td> <td>3473.56     </td> <td>1195.76     </td> <td>3332.87     </td> <td>1280.11     </td> <td>3961.63     </td> <td>4372.18     </td> <td>4296.33     </td> <td>3773.37     </td> <td>1291.48     </td> <td>1012.19     </td> <td>3615.08     </td> <td>3923.7      </td> <td>1165.63     </td> <td>4037.8      </td> <td>4400.45     </td> <td>1383.79     </td> <td>1338.7      </td> <td>1159.51     </td> <td>1172.86   </td> <td>1272.87   </td> <td>3993.4    </td> <td>1004.89   </td> <td>4007.94   </td> <td>1147.35   </td> <td>4335.35   </td> <td>4501.82   </td> <td>3974.74   </td> <td>3602.5     </td> <td>1231.24    </td> <td>1159.22    </td> <td>3939.37    </td> <td>4031.23    </td> <td>1198.04    </td> <td>4272.69    </td> <td>3622.83    </td> <td>1146.99    </td> <td>1264.37    </td> <td>1343.79    </td> <td>1177.88    </td> <td>1176.12    </td> <td>3811.29    </td> <td>1021.81    </td> <td>3834.66    </td> <td>983.567    </td> <td>4046.25    </td> <td>3793.44    </td> <td>3330.56    </td> <td>3654.74    </td> <td>1217.48    </td> <td>1264.89    </td> <td>3732.12    </td> <td>4056.08    </td> <td>1271.85    </td> <td>3985.39    </td> <td>3923.24    </td> <td>981.738    </td> <td>1051.98    </td> <td>1150.81    </td> <td>1244.3     </td> <td>1192.52    </td> <td>4213.54    </td> <td>1070.1     </td> <td>3973.34    </td> <td>1068.43    </td> <td>4365.11    </td> <td>3723.17    </td> <td>3527.16    </td> <td>3835.27    </td> <td>1206.48    </td> <td>1397.92    </td> <td>3704.26    </td> <td>4336.79    </td> <td>1267.91    </td> <td>4421.7     </td> <td>4222.31    </td> <td>998.684    </td> <td>1106.35    </td> <td>1256.45    </td> <td>1145.88    </td> <td>1086.07    </td> <td>3867.48    </td> <td>974.306    </td> <td>3778.2     </td> <td>1181.18    </td> <td>4391.25    </td> <td>4165.04    </td> <td>3775.29    </td> <td>3185.4     </td> <td>1097.93    </td> <td>1069.33    </td> <td>3716.01    </td> <td>3624.54    </td> <td>1110.63    </td> <td>4145.49    </td> <td>3696.68    </td> <td>1125.12    </td> <td>1265.54    </td> <td>1173.49    </td> <td>1155.24    </td> <td>1234.9     </td> <td>3328.19    </td> <td>1088.81    </td> <td>3265.06    </td> <td>1177.75    </td> <td>3657.55    </td> <td>4408.5     </td> <td>4124.26    </td> <td>3584.43    </td> <td>1269.75    </td> <td>1010.25    </td> <td>3616.34    </td> <td>3800.18    </td> <td>1208.48    </td> <td>3682.96    </td> <td>4059.38    </td> <td>1321.51    </td> <td>1257.83    </td> <td>1046.6      </td> <td>1222.62     </td> <td>1240.5      </td> <td>3323.75     </td> <td>1322.91     </td> <td>3540.62     </td> <td>1073.48     </td> <td>3489.44     </td> <td>3931.95     </td> <td>3851.49     </td> <td>4354.62     </td> <td>1342.83     </td> <td>1219.46     </td> <td>3777.85     </td> <td>4350.48     </td> <td>1344.26     </td> <td>3847.07     </td> <td>4726.63     </td> <td>1137.76     </td> <td>1127.54     </td> <td>1099.17     </td> <td>1185.82     </td> <td>1145.81     </td> <td>3475.02     </td> <td>1266.7      </td> <td>3201.44     </td> <td>1144.08     </td> <td>3616.99     </td> <td>3779.29     </td> <td>3774.15     </td> <td>3878.71     </td> <td>1268.45     </td> <td>1134.82     </td> <td>3610.08     </td> <td>3718.15     </td> <td>1195.75     </td> <td>3851.85     </td> <td>4641.05     </td> <td>1090.94     </td> <td>1130.09     </td> <td>999.6       </td> <td>1172        </td> <td>1223.79     </td> <td>3473.56     </td> <td>1195.76     </td> <td>3332.87     </td> <td>1280.11     </td> <td>3961.63     </td> <td>4372.18     </td> <td>4296.33     </td> <td>3773.37     </td> <td>1291.48     </td> <td>1012.19     </td> <td>3615.08     </td> <td>3923.7      </td> <td>1165.63     </td> <td>4037.8      </td> <td>4400.45     </td> <td>1383.79     </td> <td>1338.7      </td> <td>1159.51     </td>\n",
       "        </tr>\n",
       "    </tbody>\n",
       "        <tr>\n",
       "            <td>4    </td> <td>2016.1</td> <td>2620122214474542295393116</td> <td>262012221447454229539311601</td> <td>128  </td> <td>161  </td> <td>26   </td> <td>20122214474542295393</td> <td>1    </td> <td>16   </td> <td>1    </td> <td>1    </td> <td>36   </td> <td>1    </td> <td>9    </td> <td>7    </td> <td>2015 </td> <td>1    </td> <td>1    </td> <td>9    </td> <td>9    </td> <td>7     </td> <td>3    </td> <td>9    </td> <td>2     </td> <td>5    </td> <td>9    </td> <td>9    </td> <td>9    </td> <td>9    </td> <td>9    </td> <td>9    </td> <td>9    </td> <td>9    </td> <td>9    </td> <td>9    </td> <td>9    </td> <td>9    </td> <td>9    </td> <td>9    </td> <td>9    </td> <td>99   </td> <td>9     </td> <td>9     </td> <td>9     </td> <td>2    </td> <td>1    </td> <td>2    </td> <td>2    </td> <td>9    </td> <td>9    </td> <td>9    </td> <td>9    </td> <td>9    </td> <td>9    </td> <td>9    </td> <td>9    </td> <td>9    </td> <td>9    </td> <td>9    </td> <td>9    </td> <td>9    </td> <td>9    </td> <td>9    </td> <td>9    </td> <td>9    </td> <td>9    </td> <td>9    </td> <td>9    </td> <td>9    </td> <td>9    </td> <td>9    </td> <td>9    </td> <td>9    </td> <td>9    </td> <td>9    </td> <td>9    </td> <td>9    </td> <td>9    </td> <td>9    </td> <td>9    </td> <td>9    </td> <td>9    </td> <td>9    </td> <td>9    </td> <td>9    </td> <td>9    </td> <td>9    </td> <td>9    </td> <td>9    </td> <td>9    </td> <td>9    </td> <td>9    </td> <td>9    </td> <td>9    </td> <td>9    </td> <td>9    </td> <td>9    </td> <td>9    </td> <td>9    </td> <td>9    </td> <td>9    </td> <td>9    </td> <td>9    </td> <td>9    </td> <td>9    </td> <td>9    </td> <td>9    </td> <td>9    </td> <td>9    </td> <td>9    </td> <td>9    </td> <td>9    </td> <td>9    </td> <td>9    </td> <td>9    </td> <td>9    </td> <td>9    </td> <td>9    </td> <td>9    </td> <td>9    </td> <td>9    </td> <td>9    </td> <td>9    </td> <td>9    </td> <td>9    </td> <td>9    </td> <td>99   </td> <td>99   </td> <td>99   </td> <td>9    </td> <td>9    </td> <td>9    </td> <td>9    </td> <td>9    </td> <td>9    </td> <td>9    </td> <td>9    </td> <td>9    </td> <td>9    </td> <td>9    </td> <td>999  </td> <td>9    </td> <td>99999</td> <td>9      </td> <td>9      </td> <td>9      </td> <td>9      </td> <td>9      </td> <td>9      </td> <td>9      </td> <td>9      </td> <td>9      </td> <td>9       </td> <td>9       </td> <td>9       </td> <td>9       </td> <td>9       </td> <td>9       </td> <td>9       </td> <td>9       </td> <td>9       </td> <td>9       </td> <td>9       </td> <td>9       </td> <td>9       </td> <td>9       </td> <td>9       </td> <td>9       </td> <td>9       </td> <td>9       </td> <td>9       </td> <td>9       </td> <td>9       </td> <td>9       </td> <td>9       </td> <td>9       </td> <td>9       </td> <td>9       </td> <td>9     </td> <td>9    </td> <td>9    </td> <td>9    </td> <td>9    </td> <td>9    </td> <td>9    </td> <td>9    </td> <td>9    </td> <td>9    </td> <td>9    </td> <td>9    </td> <td>9    </td> <td>9    </td> <td>9    </td> <td>9    </td> <td>9    </td> <td>9    </td> <td>9    </td> <td>9    </td> <td>9    </td> <td>9    </td> <td>9    </td> <td>9    </td> <td>9    </td> <td>9    </td> <td>9    </td> <td>9    </td> <td>9    </td> <td>9    </td> <td>9    </td> <td>9    </td> <td>9    </td> <td>9    </td> <td>9    </td> <td>9    </td> <td>9    </td> <td>9    </td> <td>9    </td> <td>9    </td> <td>9    </td> <td>9    </td> <td>9    </td> <td>9    </td> <td>9    </td> <td>9    </td> <td>9    </td> <td>9    </td> <td>9    </td> <td>9    </td> <td>9    </td> <td>9    </td> <td>9    </td> <td>9    </td> <td>9    </td> <td>9    </td> <td>9    </td> <td>9    </td> <td>9    </td> <td>9    </td> <td>9    </td> <td>9    </td> <td>9    </td> <td>9    </td> <td>99   </td> <td>99   </td> <td>99   </td> <td>99   </td> <td>9    </td> <td>9    </td> <td>2    </td> <td>9    </td> <td>9    </td> <td>9    </td> <td>9    </td> <td>9    </td> <td>9    </td> <td>9    </td> <td>9    </td> <td>9    </td> <td>9    </td> <td>9    </td> <td>9    </td> <td>9    </td> <td>9    </td> <td>9    </td> <td>9    </td> <td>9    </td> <td>9    </td> <td>9    </td> <td>9    </td> <td>9    </td> <td>9    </td> <td>9    </td> <td>9    </td> <td>9    </td> <td>9    </td> <td>9    </td> <td>9     </td> <td>9    </td> <td>9    </td> <td>9    </td> <td>9    </td> <td>9    </td> <td>9    </td> <td>9    </td> <td>99   </td> <td>9     </td> <td>9     </td> <td>9     </td> <td>9     </td> <td>9     </td> <td>9     </td> <td>9     </td> <td>9     </td> <td>9    </td> <td>99   </td> <td>9    </td> <td>9    </td> <td>9    </td> <td>9    </td> <td>9     </td> <td>9     </td> <td>9    </td> <td>9    </td> <td>9    </td> <td>9    </td> <td>9    </td> <td>9    </td> <td>9    </td> <td>9    </td> <td>9    </td> <td>9    </td> <td>9    </td> <td>9    </td> <td>9    </td> <td>9    </td> <td>9    </td> <td>9    </td> <td>9    </td> <td>9    </td> <td>9    </td> <td>9    </td> <td>9    </td> <td>9    </td> <td>9    </td> <td>9    </td> <td>9    </td> <td>9     </td> <td>9     </td> <td>9     </td> <td>9     </td> <td>9     </td> <td>9    </td> <td>9    </td> <td>9    </td> <td>9    </td> <td>9     </td> <td>9     </td> <td>9     </td> <td>9    </td> <td>9    </td> <td>9     </td> <td>9    </td> <td>1    </td> <td>1    </td> <td>9    </td> <td>9    </td> <td>9    </td> <td>9    </td> <td>9    </td> <td>9    </td> <td>9    </td> <td>9    </td> <td>9    </td> <td>9    </td> <td>9    </td> <td>9    </td> <td>9    </td> <td>9    </td> <td>9    </td> <td>9    </td> <td>9    </td> <td>9    </td> <td>9    </td> <td>9    </td> <td>9    </td> <td>9    </td> <td>99   </td> <td>99   </td> <td>99   </td> <td>9    </td> <td>9    </td> <td>9    </td> <td>9    </td> <td>99   </td> <td>99   </td> <td>99   </td> <td>0    </td> <td>1    </td> <td>0    </td> <td>0    </td> <td>0    </td> <td>0    </td> <td>0    </td> <td>0    </td> <td>0    </td> <td>0    </td> <td>0    </td> <td>0    </td> <td>0    </td> <td>0    </td> <td>1    </td> <td>0    </td> <td>0    </td> <td>0    </td> <td>0    </td> <td>0    </td> <td>0    </td> <td>0    </td> <td>0    </td> <td>0    </td> <td>0    </td> <td>0    </td> <td>0    </td> <td>0    </td> <td>0    </td> <td>0    </td> <td>1    </td> <td>99   </td> <td>99   </td> <td>99   </td> <td>9    </td> <td>9    </td> <td>2    </td> <td>999   </td> <td>999   </td> <td>9    </td> <td>9    </td> <td>2    </td> <td>99   </td> <td>99   </td> <td>99   </td> <td>50   </td> <td>1    </td> <td>0    </td> <td>0    </td> <td>1    </td> <td>0    </td> <td>0    </td> <td>0    </td> <td>0    </td> <td>0    </td> <td>3    </td> <td>99999</td> <td>9    </td> <td>9    </td> <td>9    </td> <td>9    </td> <td>9    </td> <td>9    </td> <td>9    </td> <td>9    </td> <td>9    </td> <td>99999</td> <td>2     </td> <td>2    </td> <td>9    </td> <td>99999</td> <td>99999</td> <td>9    </td> <td>9    </td> <td>9    </td> <td>9    </td> <td>9    </td> <td>9    </td> <td>9    </td> <td>9    </td> <td>1    </td> <td>1    </td> <td>9    </td> <td>9    </td> <td>9    </td> <td>9    </td> <td>9    </td> <td>9    </td> <td>9    </td> <td>9    </td> <td>9    </td> <td>9    </td> <td>9    </td> <td>9    </td> <td>9    </td> <td>9    </td> <td>9    </td> <td>9    </td> <td>9    </td> <td>9    </td> <td>9    </td> <td>9    </td> <td>9    </td> <td>99   </td> <td>1    </td> <td>0    </td> <td>0    </td> <td>0    </td> <td>0    </td> <td>0    </td> <td>0    </td> <td>0    </td> <td>0    </td> <td>0    </td> <td>0    </td> <td>0    </td> <td>1    </td> <td>0    </td> <td>22   </td> <td>1    </td> <td>3    </td> <td>1    </td> <td>1    </td> <td>0    </td> <td>0    </td> <td>0    </td> <td>0    </td> <td>0    </td> <td>0    </td> <td>0    </td> <td>0    </td> <td>0    </td> <td>2    </td> <td>9    </td> <td>9    </td> <td>9    </td> <td>9    </td> <td>9    </td> <td>9    </td> <td>9    </td> <td>9    </td> <td>9    </td> <td>9    </td> <td>9    </td> <td>9    </td> <td>9    </td> <td>2    </td> <td>2    </td> <td>2    </td> <td>9    </td> <td>2    </td> <td>9    </td> <td>9    </td> <td>9    </td> <td>9    </td> <td>9    </td> <td>9    </td> <td>9    </td> <td>2    </td> <td>8    </td> <td>1    </td> <td>9    </td> <td>9     </td> <td>9     </td> <td>9    </td> <td>99    </td> <td>99    </td> <td>9    </td> <td>9    </td> <td>9    </td> <td>9     </td> <td>9    </td> <td>999  </td> <td>9    </td> <td>99999</td> <td>1    </td> <td>0    </td> <td>0    </td> <td>0    </td> <td>0    </td> <td>0    </td> <td>1    </td> <td>0    </td> <td>999  </td> <td>9    </td> <td>99999</td> <td>2    </td> <td>999  </td> <td>99   </td> <td>999  </td> <td>9    </td> <td>99   </td> <td>99   </td> <td>99   </td> <td>99   </td> <td>9    </td> <td>9    </td> <td>9    </td> <td>9    </td> <td>9    </td> <td>9    </td> <td>9    </td> <td>9    </td> <td>9    </td> <td>9    </td> <td>9    </td> <td>9    </td> <td>9     </td> <td>9     </td> <td>9     </td> <td>9     </td> <td>9     </td> <td>9     </td> <td>9     </td> <td>9     </td> <td>9     </td> <td>9    </td> <td>9    </td> <td>9    </td> <td>99   </td> <td>2      </td> <td>9     </td> <td>9     </td> <td>9     </td> <td>9     </td> <td>9     </td> <td>9     </td> <td>9     </td> <td>9     </td> <td>9       </td> <td>9       </td> <td>9       </td> <td>9       </td> <td>9       </td> <td>9       </td> <td>9       </td> <td>9       </td> <td>9       </td> <td>2       </td> <td>2       </td> <td>2      </td> <td>1      </td> <td>2      </td> <td>2      </td> <td>1      </td> <td>2       </td> <td>-2   </td> <td>1109.33       </td> <td>36   </td> <td>56   </td> <td>1109.33 </td> <td>0   </td> <td>2015 </td> <td>1109.33</td> <td>1109.33      </td> <td>1107.41   </td> <td>1883.78   </td> <td>1104.66   </td> <td>1101.85   </td> <td>324.135   </td> <td>1114.36   </td> <td>1113.97   </td> <td>1113.67   </td> <td>1118.03   </td> <td>331.218    </td> <td>1108       </td> <td>1114.33    </td> <td>1892.89    </td> <td>1888.48    </td> <td>324.593    </td> <td>333.95     </td> <td>1912.35    </td> <td>1112.9     </td> <td>330.216    </td> <td>1857.52    </td> <td>1119.16    </td> <td>328.98     </td> <td>1118.37    </td> <td>1126.52    </td> <td>1866.62    </td> <td>1108.55    </td> <td>1094.65    </td> <td>1114.03    </td> <td>1083.74    </td> <td>1844.77    </td> <td>1102.5     </td> <td>1094.62    </td> <td>323.473    </td> <td>318.298    </td> <td>1936.75    </td> <td>1890.03    </td> <td>331.965    </td> <td>1118.3     </td> <td>1853.94    </td> <td>317.16     </td> <td>1099.37    </td> <td>331.34     </td> <td>1093.9     </td> <td>1102.31    </td> <td>1899.02    </td> <td>1116.36    </td> <td>1102.74    </td> <td>1111.09    </td> <td>1092.32    </td> <td>1896.94    </td> <td>1108.29    </td> <td>1091.15    </td> <td>317.609    </td> <td>335.042    </td> <td>1892.94    </td> <td>1909.35    </td> <td>333.994    </td> <td>1126.04    </td> <td>1911.01    </td> <td>320.848    </td> <td>1098.35    </td> <td>1863.67    </td> <td>1112.73    </td> <td>1118.31    </td> <td>325.217    </td> <td>1133.21    </td> <td>1134.51    </td> <td>1111.44    </td> <td>1078.15    </td> <td>324.598    </td> <td>1107.11    </td> <td>1123.35    </td> <td>1893.76    </td> <td>1889.75    </td> <td>320.033    </td> <td>323.736    </td> <td>1899.89    </td> <td>1120.51    </td> <td>324.828    </td> <td>1874.97    </td> <td>1098.92    </td> <td>1942.88    </td> <td>1122.28    </td> <td>1140.75    </td> <td>333.264    </td> <td>1108.52    </td> <td>1092.45    </td> <td>1093.28    </td> <td>1120.21    </td> <td>316.951    </td> <td>1110.33    </td> <td>1112.09    </td> <td>1922.88    </td> <td>1831.2     </td> <td>318.973    </td> <td>330.315    </td> <td>1890.95    </td> <td>1088.67    </td> <td>326.41     </td> <td>1906.8      </td> <td>1128.74     </td> <td>323.503     </td> <td>1121.5      </td> <td>1119.93     </td> <td>1854.22     </td> <td>1092.59     </td> <td>1128.8      </td> <td>1114.49     </td> <td>1152.98     </td> <td>1843.36     </td> <td>1090.69     </td> <td>1108.75     </td> <td>317.86      </td> <td>317.138     </td> <td>1855.4      </td> <td>1914.8      </td> <td>327.885     </td> <td>1106.87     </td> <td>1881.61     </td> <td>333.093     </td> <td>1118.71     </td> <td>332.94      </td> <td>1120.02     </td> <td>1099.27     </td> <td>1926.29     </td> <td>1120.55     </td> <td>1106.29     </td> <td>1100.15     </td> <td>1083.3      </td> <td>1865.74     </td> <td>1116.1      </td> <td>1097.05     </td> <td>320.539     </td> <td>327.487     </td> <td>1930.62     </td> <td>1880.9      </td> <td>316.354     </td> <td>1125.83     </td> <td>1860.69     </td> <td>323.873     </td> <td>1120.71     </td> <td>1900.01     </td> <td>1161.49     </td> <td>1127.84     </td> <td>321.892     </td> <td>1101.6      </td> <td>1132        </td> <td>1108.12     </td> <td>1106.36     </td> <td>322.096     </td> <td>1108.37     </td> <td>1106.33     </td> <td>1932.11     </td> <td>1879.91     </td> <td>322.074     </td> <td>334.408     </td> <td>1876.57     </td> <td>1111.7      </td> <td>325.471     </td> <td>1911.94     </td> <td>1107.41   </td> <td>1883.78   </td> <td>1104.66   </td> <td>1101.85   </td> <td>324.135   </td> <td>1114.36   </td> <td>1113.97   </td> <td>1113.67   </td> <td>1118.03   </td> <td>331.218    </td> <td>1108       </td> <td>1114.33    </td> <td>1892.89    </td> <td>1888.48    </td> <td>324.593    </td> <td>333.95     </td> <td>1912.35    </td> <td>1112.9     </td> <td>330.216    </td> <td>1857.52    </td> <td>1119.16    </td> <td>328.98     </td> <td>1118.37    </td> <td>1126.52    </td> <td>1866.62    </td> <td>1108.55    </td> <td>1094.65    </td> <td>1114.03    </td> <td>1083.74    </td> <td>1844.77    </td> <td>1102.5     </td> <td>1094.62    </td> <td>323.473    </td> <td>318.298    </td> <td>1936.75    </td> <td>1890.03    </td> <td>331.965    </td> <td>1118.3     </td> <td>1853.94    </td> <td>317.16     </td> <td>1099.37    </td> <td>331.34     </td> <td>1093.9     </td> <td>1102.31    </td> <td>1899.02    </td> <td>1116.36    </td> <td>1102.74    </td> <td>1111.09    </td> <td>1092.32    </td> <td>1896.94    </td> <td>1108.29    </td> <td>1091.15    </td> <td>317.609    </td> <td>335.042    </td> <td>1892.94    </td> <td>1909.35    </td> <td>333.994    </td> <td>1126.04    </td> <td>1911.01    </td> <td>320.848    </td> <td>1098.35    </td> <td>1863.67    </td> <td>1112.73    </td> <td>1118.31    </td> <td>325.217    </td> <td>1133.21    </td> <td>1134.51    </td> <td>1111.44    </td> <td>1078.15    </td> <td>324.598    </td> <td>1107.11    </td> <td>1123.35    </td> <td>1893.76    </td> <td>1889.75    </td> <td>320.033    </td> <td>323.736    </td> <td>1899.89    </td> <td>1120.51    </td> <td>324.828    </td> <td>1874.97    </td> <td>1098.92    </td> <td>1942.88    </td> <td>1122.28    </td> <td>1140.75    </td> <td>333.264    </td> <td>1108.52    </td> <td>1092.45    </td> <td>1093.28    </td> <td>1120.21    </td> <td>316.951    </td> <td>1110.33    </td> <td>1112.09    </td> <td>1922.88    </td> <td>1831.2     </td> <td>318.973    </td> <td>330.315    </td> <td>1890.95    </td> <td>1088.67    </td> <td>326.41     </td> <td>1906.8      </td> <td>1128.74     </td> <td>323.503     </td> <td>1121.5      </td> <td>1119.93     </td> <td>1854.22     </td> <td>1092.59     </td> <td>1128.8      </td> <td>1114.49     </td> <td>1152.98     </td> <td>1843.36     </td> <td>1090.69     </td> <td>1108.75     </td> <td>317.86      </td> <td>317.138     </td> <td>1855.4      </td> <td>1914.8      </td> <td>327.885     </td> <td>1106.87     </td> <td>1881.61     </td> <td>333.093     </td> <td>1118.71     </td> <td>332.94      </td> <td>1120.02     </td> <td>1099.27     </td> <td>1926.29     </td> <td>1120.55     </td> <td>1106.29     </td> <td>1100.15     </td> <td>1083.3      </td> <td>1865.74     </td> <td>1116.1      </td> <td>1097.05     </td> <td>320.539     </td> <td>327.487     </td> <td>1930.62     </td> <td>1880.9      </td> <td>316.354     </td> <td>1125.83     </td> <td>1860.69     </td> <td>323.873     </td> <td>1120.71     </td> <td>1900.01     </td> <td>1161.49     </td> <td>1127.84     </td> <td>321.892     </td> <td>1101.6      </td> <td>1132        </td> <td>1108.12     </td> <td>1106.36     </td> <td>322.096     </td> <td>1108.37     </td> <td>1106.33     </td> <td>1932.11     </td> <td>1879.91     </td> <td>322.074     </td> <td>334.408     </td> <td>1876.57     </td> <td>1111.7      </td> <td>325.471     </td> <td>1911.94     </td>\n",
       "        </tr>\n",
       "    </tbody>\n",
       "        <tr>\n",
       "            <td>4    </td> <td>2016.1</td> <td>2620122214474542295393116</td> <td>262012221447454229539311601</td> <td>128  </td> <td>161  </td> <td>26   </td> <td>20122214474542295393</td> <td>1    </td> <td>16   </td> <td>1    </td> <td>1    </td> <td>39   </td> <td>1    </td> <td>9    </td> <td>8    </td> <td>2015 </td> <td>1    </td> <td>1    </td> <td>9    </td> <td>9    </td> <td>9     </td> <td>5    </td> <td>1    </td> <td>2     </td> <td>21   </td> <td>9    </td> <td>9    </td> <td>9    </td> <td>9    </td> <td>9    </td> <td>9    </td> <td>9    </td> <td>9    </td> <td>9    </td> <td>9    </td> <td>9    </td> <td>9    </td> <td>9    </td> <td>9    </td> <td>9    </td> <td>99   </td> <td>9     </td> <td>9     </td> <td>9     </td> <td>2    </td> <td>3    </td> <td>2    </td> <td>2    </td> <td>9    </td> <td>9    </td> <td>9    </td> <td>9    </td> <td>9    </td> <td>9    </td> <td>9    </td> <td>9    </td> <td>9    </td> <td>9    </td> <td>9    </td> <td>9    </td> <td>9    </td> <td>9    </td> <td>9    </td> <td>9    </td> <td>9    </td> <td>9    </td> <td>9    </td> <td>9    </td> <td>9    </td> <td>9    </td> <td>9    </td> <td>9    </td> <td>9    </td> <td>9    </td> <td>9    </td> <td>9    </td> <td>9    </td> <td>9    </td> <td>9    </td> <td>9    </td> <td>9    </td> <td>9    </td> <td>9    </td> <td>9    </td> <td>9    </td> <td>9    </td> <td>9    </td> <td>9    </td> <td>9    </td> <td>9    </td> <td>9    </td> <td>9    </td> <td>9    </td> <td>9    </td> <td>9    </td> <td>9    </td> <td>9    </td> <td>9    </td> <td>9    </td> <td>9    </td> <td>9    </td> <td>9    </td> <td>9    </td> <td>9    </td> <td>9    </td> <td>9    </td> <td>9    </td> <td>9    </td> <td>9    </td> <td>9    </td> <td>9    </td> <td>9    </td> <td>9    </td> <td>9    </td> <td>9    </td> <td>9    </td> <td>9    </td> <td>9    </td> <td>9    </td> <td>9    </td> <td>9    </td> <td>9    </td> <td>9    </td> <td>9    </td> <td>9    </td> <td>9    </td> <td>99   </td> <td>99   </td> <td>99   </td> <td>9    </td> <td>9    </td> <td>9    </td> <td>9    </td> <td>9    </td> <td>9    </td> <td>9    </td> <td>9    </td> <td>9    </td> <td>9    </td> <td>9    </td> <td>999  </td> <td>9    </td> <td>99999</td> <td>9      </td> <td>9      </td> <td>9      </td> <td>9      </td> <td>9      </td> <td>9      </td> <td>9      </td> <td>9      </td> <td>9      </td> <td>9       </td> <td>9       </td> <td>9       </td> <td>9       </td> <td>9       </td> <td>9       </td> <td>9       </td> <td>9       </td> <td>9       </td> <td>9       </td> <td>9       </td> <td>9       </td> <td>9       </td> <td>9       </td> <td>9       </td> <td>9       </td> <td>9       </td> <td>9       </td> <td>9       </td> <td>9       </td> <td>9       </td> <td>9       </td> <td>9       </td> <td>9       </td> <td>9       </td> <td>9       </td> <td>9     </td> <td>9    </td> <td>9    </td> <td>9    </td> <td>9    </td> <td>9    </td> <td>9    </td> <td>9    </td> <td>9    </td> <td>9    </td> <td>9    </td> <td>9    </td> <td>9    </td> <td>9    </td> <td>9    </td> <td>9    </td> <td>9    </td> <td>9    </td> <td>9    </td> <td>9    </td> <td>9    </td> <td>9    </td> <td>9    </td> <td>9    </td> <td>9    </td> <td>9    </td> <td>9    </td> <td>9    </td> <td>9    </td> <td>9    </td> <td>9    </td> <td>9    </td> <td>9    </td> <td>9    </td> <td>9    </td> <td>9    </td> <td>9    </td> <td>9    </td> <td>9    </td> <td>9    </td> <td>9    </td> <td>9    </td> <td>9    </td> <td>9    </td> <td>9    </td> <td>9    </td> <td>9    </td> <td>9    </td> <td>9    </td> <td>9    </td> <td>9    </td> <td>9    </td> <td>9    </td> <td>9    </td> <td>9    </td> <td>9    </td> <td>9    </td> <td>9    </td> <td>9    </td> <td>9    </td> <td>9    </td> <td>9    </td> <td>9    </td> <td>9    </td> <td>99   </td> <td>99   </td> <td>99   </td> <td>99   </td> <td>9    </td> <td>9    </td> <td>2    </td> <td>9    </td> <td>9    </td> <td>9    </td> <td>9    </td> <td>9    </td> <td>9    </td> <td>9    </td> <td>9    </td> <td>9    </td> <td>9    </td> <td>9    </td> <td>9    </td> <td>9    </td> <td>9    </td> <td>9    </td> <td>9    </td> <td>9    </td> <td>9    </td> <td>9    </td> <td>9    </td> <td>9    </td> <td>9    </td> <td>9    </td> <td>9    </td> <td>9    </td> <td>9    </td> <td>9    </td> <td>9     </td> <td>9    </td> <td>9    </td> <td>9    </td> <td>9    </td> <td>9    </td> <td>9    </td> <td>9    </td> <td>99   </td> <td>9     </td> <td>9     </td> <td>9     </td> <td>9     </td> <td>9     </td> <td>9     </td> <td>9     </td> <td>9     </td> <td>9    </td> <td>99   </td> <td>9    </td> <td>9    </td> <td>9    </td> <td>9    </td> <td>9     </td> <td>9     </td> <td>9    </td> <td>9    </td> <td>9    </td> <td>9    </td> <td>9    </td> <td>9    </td> <td>9    </td> <td>9    </td> <td>9    </td> <td>9    </td> <td>9    </td> <td>9    </td> <td>9    </td> <td>9    </td> <td>9    </td> <td>9    </td> <td>9    </td> <td>9    </td> <td>9    </td> <td>9    </td> <td>9    </td> <td>9    </td> <td>9    </td> <td>9    </td> <td>9    </td> <td>9     </td> <td>9     </td> <td>9     </td> <td>9     </td> <td>9     </td> <td>9    </td> <td>9    </td> <td>9    </td> <td>9    </td> <td>9     </td> <td>9     </td> <td>9     </td> <td>9    </td> <td>9    </td> <td>9     </td> <td>9    </td> <td>1    </td> <td>1    </td> <td>9    </td> <td>9    </td> <td>9    </td> <td>9    </td> <td>9    </td> <td>9    </td> <td>9    </td> <td>9    </td> <td>9    </td> <td>9    </td> <td>9    </td> <td>9    </td> <td>9    </td> <td>9    </td> <td>9    </td> <td>9    </td> <td>9    </td> <td>9    </td> <td>9    </td> <td>9    </td> <td>9    </td> <td>9    </td> <td>99   </td> <td>99   </td> <td>99   </td> <td>9    </td> <td>9    </td> <td>9    </td> <td>9    </td> <td>99   </td> <td>99   </td> <td>99   </td> <td>0    </td> <td>1    </td> <td>0    </td> <td>0    </td> <td>0    </td> <td>0    </td> <td>0    </td> <td>0    </td> <td>1    </td> <td>0    </td> <td>0    </td> <td>0    </td> <td>0    </td> <td>0    </td> <td>0    </td> <td>0    </td> <td>0    </td> <td>0    </td> <td>0    </td> <td>0    </td> <td>0    </td> <td>0    </td> <td>0    </td> <td>0    </td> <td>0    </td> <td>0    </td> <td>0    </td> <td>0    </td> <td>0    </td> <td>0    </td> <td>3    </td> <td>2    </td> <td>99   </td> <td>99   </td> <td>9    </td> <td>9    </td> <td>1    </td> <td>999   </td> <td>999   </td> <td>9    </td> <td>9    </td> <td>2    </td> <td>99   </td> <td>99   </td> <td>99   </td> <td>99998</td> <td>1    </td> <td>0    </td> <td>0    </td> <td>0    </td> <td>0    </td> <td>0    </td> <td>0    </td> <td>0    </td> <td>8    </td> <td>8    </td> <td>99998</td> <td>8    </td> <td>8    </td> <td>8    </td> <td>8    </td> <td>8    </td> <td>8    </td> <td>8    </td> <td>8    </td> <td>2    </td> <td>99999</td> <td>8     </td> <td>2    </td> <td>9    </td> <td>99999</td> <td>99999</td> <td>9    </td> <td>9    </td> <td>9    </td> <td>9    </td> <td>9    </td> <td>9    </td> <td>9    </td> <td>9    </td> <td>2    </td> <td>9    </td> <td>1    </td> <td>0    </td> <td>0    </td> <td>0    </td> <td>0    </td> <td>0    </td> <td>0    </td> <td>1    </td> <td>0    </td> <td>0    </td> <td>0    </td> <td>0    </td> <td>0    </td> <td>0    </td> <td>0    </td> <td>0    </td> <td>0    </td> <td>0    </td> <td>0    </td> <td>0    </td> <td>0    </td> <td>7    </td> <td>9    </td> <td>9    </td> <td>9    </td> <td>9    </td> <td>9    </td> <td>9    </td> <td>9    </td> <td>9    </td> <td>9    </td> <td>9    </td> <td>9    </td> <td>9    </td> <td>9    </td> <td>9    </td> <td>99   </td> <td>9    </td> <td>9    </td> <td>9    </td> <td>9    </td> <td>9    </td> <td>9    </td> <td>9    </td> <td>9    </td> <td>9    </td> <td>9    </td> <td>9    </td> <td>9    </td> <td>9    </td> <td>9    </td> <td>9    </td> <td>9    </td> <td>9    </td> <td>9    </td> <td>9    </td> <td>9    </td> <td>9    </td> <td>9    </td> <td>9    </td> <td>9    </td> <td>9    </td> <td>9    </td> <td>9    </td> <td>9    </td> <td>9    </td> <td>2    </td> <td>9    </td> <td>9    </td> <td>9    </td> <td>9    </td> <td>9    </td> <td>9    </td> <td>9    </td> <td>9    </td> <td>9    </td> <td>9    </td> <td>5    </td> <td>1    </td> <td>9    </td> <td>9     </td> <td>9     </td> <td>9    </td> <td>99    </td> <td>99    </td> <td>9    </td> <td>9    </td> <td>9    </td> <td>9     </td> <td>9    </td> <td>999  </td> <td>9    </td> <td>99999</td> <td>1    </td> <td>0    </td> <td>0    </td> <td>0    </td> <td>0    </td> <td>0    </td> <td>1    </td> <td>0    </td> <td>999  </td> <td>9    </td> <td>99999</td> <td>2    </td> <td>999  </td> <td>99   </td> <td>999  </td> <td>9    </td> <td>99   </td> <td>99   </td> <td>99   </td> <td>99   </td> <td>9    </td> <td>9    </td> <td>9    </td> <td>9    </td> <td>9    </td> <td>9    </td> <td>9    </td> <td>9    </td> <td>9    </td> <td>9    </td> <td>9    </td> <td>9    </td> <td>9     </td> <td>9     </td> <td>9     </td> <td>9     </td> <td>9     </td> <td>9     </td> <td>9     </td> <td>9     </td> <td>9     </td> <td>9    </td> <td>9    </td> <td>9    </td> <td>99   </td> <td>2      </td> <td>9     </td> <td>9     </td> <td>9     </td> <td>9     </td> <td>9     </td> <td>9     </td> <td>9     </td> <td>9     </td> <td>9       </td> <td>9       </td> <td>9       </td> <td>9       </td> <td>9       </td> <td>9       </td> <td>9       </td> <td>9       </td> <td>9       </td> <td>2       </td> <td>2       </td> <td>2      </td> <td>1      </td> <td>2      </td> <td>2      </td> <td>1      </td> <td>2       </td> <td>-2   </td> <td>1109.33       </td> <td>28   </td> <td>58   </td> <td>1109.33 </td> <td>0   </td> <td>2015 </td> <td>1109.33</td> <td>1109.33      </td> <td>1107.41   </td> <td>1883.78   </td> <td>1104.66   </td> <td>1101.85   </td> <td>324.135   </td> <td>1114.36   </td> <td>1113.97   </td> <td>1113.67   </td> <td>1118.03   </td> <td>331.218    </td> <td>1108       </td> <td>1114.33    </td> <td>1892.89    </td> <td>1888.48    </td> <td>324.593    </td> <td>333.95     </td> <td>1912.35    </td> <td>1112.9     </td> <td>330.216    </td> <td>1857.52    </td> <td>1119.16    </td> <td>328.98     </td> <td>1118.37    </td> <td>1126.52    </td> <td>1866.62    </td> <td>1108.55    </td> <td>1094.65    </td> <td>1114.03    </td> <td>1083.74    </td> <td>1844.77    </td> <td>1102.5     </td> <td>1094.62    </td> <td>323.473    </td> <td>318.298    </td> <td>1936.75    </td> <td>1890.03    </td> <td>331.965    </td> <td>1118.3     </td> <td>1853.94    </td> <td>317.16     </td> <td>1099.37    </td> <td>331.34     </td> <td>1093.9     </td> <td>1102.31    </td> <td>1899.02    </td> <td>1116.36    </td> <td>1102.74    </td> <td>1111.09    </td> <td>1092.32    </td> <td>1896.94    </td> <td>1108.29    </td> <td>1091.15    </td> <td>317.609    </td> <td>335.042    </td> <td>1892.94    </td> <td>1909.35    </td> <td>333.994    </td> <td>1126.04    </td> <td>1911.01    </td> <td>320.848    </td> <td>1098.35    </td> <td>1863.67    </td> <td>1112.73    </td> <td>1118.31    </td> <td>325.217    </td> <td>1133.21    </td> <td>1134.51    </td> <td>1111.44    </td> <td>1078.15    </td> <td>324.598    </td> <td>1107.11    </td> <td>1123.35    </td> <td>1893.76    </td> <td>1889.75    </td> <td>320.033    </td> <td>323.736    </td> <td>1899.89    </td> <td>1120.51    </td> <td>324.828    </td> <td>1874.97    </td> <td>1098.92    </td> <td>1942.88    </td> <td>1122.28    </td> <td>1140.75    </td> <td>333.264    </td> <td>1108.52    </td> <td>1092.45    </td> <td>1093.28    </td> <td>1120.21    </td> <td>316.951    </td> <td>1110.33    </td> <td>1112.09    </td> <td>1922.88    </td> <td>1831.2     </td> <td>318.973    </td> <td>330.315    </td> <td>1890.95    </td> <td>1088.67    </td> <td>326.41     </td> <td>1906.8      </td> <td>1128.74     </td> <td>323.503     </td> <td>1121.5      </td> <td>1119.93     </td> <td>1854.22     </td> <td>1092.59     </td> <td>1128.8      </td> <td>1114.49     </td> <td>1152.98     </td> <td>1843.36     </td> <td>1090.69     </td> <td>1108.75     </td> <td>317.86      </td> <td>317.138     </td> <td>1855.4      </td> <td>1914.8      </td> <td>327.885     </td> <td>1106.87     </td> <td>1881.61     </td> <td>333.093     </td> <td>1118.71     </td> <td>332.94      </td> <td>1120.02     </td> <td>1099.27     </td> <td>1926.29     </td> <td>1120.55     </td> <td>1106.29     </td> <td>1100.15     </td> <td>1083.3      </td> <td>1865.74     </td> <td>1116.1      </td> <td>1097.05     </td> <td>320.539     </td> <td>327.487     </td> <td>1930.62     </td> <td>1880.9      </td> <td>316.354     </td> <td>1125.83     </td> <td>1860.69     </td> <td>323.873     </td> <td>1120.71     </td> <td>1900.01     </td> <td>1161.49     </td> <td>1127.84     </td> <td>321.892     </td> <td>1101.6      </td> <td>1132        </td> <td>1108.12     </td> <td>1106.36     </td> <td>322.096     </td> <td>1108.37     </td> <td>1106.33     </td> <td>1932.11     </td> <td>1879.91     </td> <td>322.074     </td> <td>334.408     </td> <td>1876.57     </td> <td>1111.7      </td> <td>325.471     </td> <td>1911.94     </td> <td>1107.41   </td> <td>1883.78   </td> <td>1104.66   </td> <td>1101.85   </td> <td>324.135   </td> <td>1114.36   </td> <td>1113.97   </td> <td>1113.67   </td> <td>1118.03   </td> <td>331.218    </td> <td>1108       </td> <td>1114.33    </td> <td>1892.89    </td> <td>1888.48    </td> <td>324.593    </td> <td>333.95     </td> <td>1912.35    </td> <td>1112.9     </td> <td>330.216    </td> <td>1857.52    </td> <td>1119.16    </td> <td>328.98     </td> <td>1118.37    </td> <td>1126.52    </td> <td>1866.62    </td> <td>1108.55    </td> <td>1094.65    </td> <td>1114.03    </td> <td>1083.74    </td> <td>1844.77    </td> <td>1102.5     </td> <td>1094.62    </td> <td>323.473    </td> <td>318.298    </td> <td>1936.75    </td> <td>1890.03    </td> <td>331.965    </td> <td>1118.3     </td> <td>1853.94    </td> <td>317.16     </td> <td>1099.37    </td> <td>331.34     </td> <td>1093.9     </td> <td>1102.31    </td> <td>1899.02    </td> <td>1116.36    </td> <td>1102.74    </td> <td>1111.09    </td> <td>1092.32    </td> <td>1896.94    </td> <td>1108.29    </td> <td>1091.15    </td> <td>317.609    </td> <td>335.042    </td> <td>1892.94    </td> <td>1909.35    </td> <td>333.994    </td> <td>1126.04    </td> <td>1911.01    </td> <td>320.848    </td> <td>1098.35    </td> <td>1863.67    </td> <td>1112.73    </td> <td>1118.31    </td> <td>325.217    </td> <td>1133.21    </td> <td>1134.51    </td> <td>1111.44    </td> <td>1078.15    </td> <td>324.598    </td> <td>1107.11    </td> <td>1123.35    </td> <td>1893.76    </td> <td>1889.75    </td> <td>320.033    </td> <td>323.736    </td> <td>1899.89    </td> <td>1120.51    </td> <td>324.828    </td> <td>1874.97    </td> <td>1098.92    </td> <td>1942.88    </td> <td>1122.28    </td> <td>1140.75    </td> <td>333.264    </td> <td>1108.52    </td> <td>1092.45    </td> <td>1093.28    </td> <td>1120.21    </td> <td>316.951    </td> <td>1110.33    </td> <td>1112.09    </td> <td>1922.88    </td> <td>1831.2     </td> <td>318.973    </td> <td>330.315    </td> <td>1890.95    </td> <td>1088.67    </td> <td>326.41     </td> <td>1906.8      </td> <td>1128.74     </td> <td>323.503     </td> <td>1121.5      </td> <td>1119.93     </td> <td>1854.22     </td> <td>1092.59     </td> <td>1128.8      </td> <td>1114.49     </td> <td>1152.98     </td> <td>1843.36     </td> <td>1090.69     </td> <td>1108.75     </td> <td>317.86      </td> <td>317.138     </td> <td>1855.4      </td> <td>1914.8      </td> <td>327.885     </td> <td>1106.87     </td> <td>1881.61     </td> <td>333.093     </td> <td>1118.71     </td> <td>332.94      </td> <td>1120.02     </td> <td>1099.27     </td> <td>1926.29     </td> <td>1120.55     </td> <td>1106.29     </td> <td>1100.15     </td> <td>1083.3      </td> <td>1865.74     </td> <td>1116.1      </td> <td>1097.05     </td> <td>320.539     </td> <td>327.487     </td> <td>1930.62     </td> <td>1880.9      </td> <td>316.354     </td> <td>1125.83     </td> <td>1860.69     </td> <td>323.873     </td> <td>1120.71     </td> <td>1900.01     </td> <td>1161.49     </td> <td>1127.84     </td> <td>321.892     </td> <td>1101.6      </td> <td>1132        </td> <td>1108.12     </td> <td>1106.36     </td> <td>322.096     </td> <td>1108.37     </td> <td>1106.33     </td> <td>1932.11     </td> <td>1879.91     </td> <td>322.074     </td> <td>334.408     </td> <td>1876.57     </td> <td>1111.7      </td> <td>325.471     </td> <td>1911.94     </td>\n",
       "        </tr>\n",
       "    </tbody>\n",
       "        <tr>\n",
       "            <td>4    </td> <td>2016.1</td> <td>2620122214474542295393116</td> <td>262012221447454229539311601</td> <td>128  </td> <td>161  </td> <td>26   </td> <td>20122214474542295393</td> <td>1    </td> <td>16   </td> <td>1    </td> <td>1    </td> <td>41   </td> <td>1    </td> <td>9    </td> <td>10   </td> <td>2015 </td> <td>1    </td> <td>1    </td> <td>9    </td> <td>9    </td> <td>1     </td> <td>3    </td> <td>9    </td> <td>2     </td> <td>7    </td> <td>9    </td> <td>9    </td> <td>9    </td> <td>9    </td> <td>9    </td> <td>9    </td> <td>9    </td> <td>9    </td> <td>9    </td> <td>9    </td> <td>9    </td> <td>9    </td> <td>9    </td> <td>9    </td> <td>9    </td> <td>99   </td> <td>9     </td> <td>9     </td> <td>9     </td> <td>2    </td> <td>2    </td> <td>1    </td> <td>1    </td> <td>1    </td> <td>1    </td> <td>1    </td> <td>1    </td> <td>1    </td> <td>0    </td> <td>0    </td> <td>0    </td> <td>0    </td> <td>0    </td> <td>1    </td> <td>0    </td> <td>0    </td> <td>2    </td> <td>2    </td> <td>1    </td> <td>1    </td> <td>9    </td> <td>9    </td> <td>9    </td> <td>9    </td> <td>9    </td> <td>9    </td> <td>9    </td> <td>9    </td> <td>9    </td> <td>9    </td> <td>9    </td> <td>9    </td> <td>9    </td> <td>9    </td> <td>3    </td> <td>0    </td> <td>0    </td> <td>0    </td> <td>0    </td> <td>0    </td> <td>0    </td> <td>1    </td> <td>0    </td> <td>0    </td> <td>1    </td> <td>0    </td> <td>0    </td> <td>0    </td> <td>0    </td> <td>0    </td> <td>9    </td> <td>9    </td> <td>9    </td> <td>9    </td> <td>9    </td> <td>9    </td> <td>9    </td> <td>9    </td> <td>9    </td> <td>9    </td> <td>9    </td> <td>9    </td> <td>9    </td> <td>9    </td> <td>9    </td> <td>9    </td> <td>9    </td> <td>9    </td> <td>9    </td> <td>9    </td> <td>9    </td> <td>9    </td> <td>9    </td> <td>9    </td> <td>9    </td> <td>9    </td> <td>9    </td> <td>9    </td> <td>9    </td> <td>9    </td> <td>9    </td> <td>99   </td> <td>99   </td> <td>99   </td> <td>9    </td> <td>9    </td> <td>9    </td> <td>9    </td> <td>9    </td> <td>9    </td> <td>9    </td> <td>9    </td> <td>9    </td> <td>9    </td> <td>9    </td> <td>999  </td> <td>9    </td> <td>99999</td> <td>1      </td> <td>1      </td> <td>4      </td> <td>1      </td> <td>1      </td> <td>1      </td> <td>1      </td> <td>1      </td> <td>1      </td> <td>1       </td> <td>2       </td> <td>2       </td> <td>9       </td> <td>9       </td> <td>9       </td> <td>9       </td> <td>9       </td> <td>9       </td> <td>9       </td> <td>1       </td> <td>1       </td> <td>1       </td> <td>1       </td> <td>1       </td> <td>2       </td> <td>1       </td> <td>2       </td> <td>2       </td> <td>9       </td> <td>9       </td> <td>9       </td> <td>9       </td> <td>9       </td> <td>9       </td> <td>9       </td> <td>9     </td> <td>2    </td> <td>2    </td> <td>9    </td> <td>9    </td> <td>9    </td> <td>9    </td> <td>9    </td> <td>9    </td> <td>9    </td> <td>9    </td> <td>9    </td> <td>9    </td> <td>9    </td> <td>9    </td> <td>9    </td> <td>9    </td> <td>9    </td> <td>9    </td> <td>9    </td> <td>9    </td> <td>9    </td> <td>9    </td> <td>9    </td> <td>9    </td> <td>9    </td> <td>9    </td> <td>9    </td> <td>9    </td> <td>9    </td> <td>9    </td> <td>9    </td> <td>9    </td> <td>9    </td> <td>9    </td> <td>9    </td> <td>9    </td> <td>9    </td> <td>9    </td> <td>9    </td> <td>9    </td> <td>9    </td> <td>9    </td> <td>9    </td> <td>2    </td> <td>9    </td> <td>9    </td> <td>9    </td> <td>9    </td> <td>9    </td> <td>9    </td> <td>9    </td> <td>9    </td> <td>9    </td> <td>9    </td> <td>9    </td> <td>9    </td> <td>9    </td> <td>9    </td> <td>9    </td> <td>9    </td> <td>9    </td> <td>9    </td> <td>9    </td> <td>99   </td> <td>99   </td> <td>99   </td> <td>99   </td> <td>2    </td> <td>9    </td> <td>9    </td> <td>9    </td> <td>9    </td> <td>9    </td> <td>9    </td> <td>9    </td> <td>9    </td> <td>9    </td> <td>9    </td> <td>9    </td> <td>9    </td> <td>9    </td> <td>9    </td> <td>9    </td> <td>9    </td> <td>9    </td> <td>9    </td> <td>9    </td> <td>9    </td> <td>9    </td> <td>9    </td> <td>9    </td> <td>9    </td> <td>9    </td> <td>1    </td> <td>9    </td> <td>1    </td> <td>5    </td> <td>2     </td> <td>2    </td> <td>3    </td> <td>9    </td> <td>1    </td> <td>9    </td> <td>2    </td> <td>9    </td> <td>11   </td> <td>1     </td> <td>1     </td> <td>0     </td> <td>0     </td> <td>0     </td> <td>0     </td> <td>0     </td> <td>0     </td> <td>2    </td> <td>99   </td> <td>9    </td> <td>9    </td> <td>9    </td> <td>9    </td> <td>9     </td> <td>9     </td> <td>9    </td> <td>9    </td> <td>9    </td> <td>9    </td> <td>9    </td> <td>9    </td> <td>9    </td> <td>9    </td> <td>9    </td> <td>9    </td> <td>9    </td> <td>9    </td> <td>9    </td> <td>9    </td> <td>9    </td> <td>9    </td> <td>9    </td> <td>9    </td> <td>9    </td> <td>9    </td> <td>9    </td> <td>9    </td> <td>9    </td> <td>9    </td> <td>9    </td> <td>9     </td> <td>9     </td> <td>9     </td> <td>9     </td> <td>9     </td> <td>9    </td> <td>9    </td> <td>9    </td> <td>9    </td> <td>9     </td> <td>9     </td> <td>9     </td> <td>9    </td> <td>9    </td> <td>9     </td> <td>9    </td> <td>2    </td> <td>2    </td> <td>2    </td> <td>2    </td> <td>9    </td> <td>9    </td> <td>9    </td> <td>9    </td> <td>9    </td> <td>9    </td> <td>9    </td> <td>9    </td> <td>9    </td> <td>9    </td> <td>9    </td> <td>9    </td> <td>9    </td> <td>9    </td> <td>9    </td> <td>9    </td> <td>9    </td> <td>9    </td> <td>9    </td> <td>9    </td> <td>99   </td> <td>99   </td> <td>99   </td> <td>9    </td> <td>9    </td> <td>9    </td> <td>9    </td> <td>99   </td> <td>99   </td> <td>99   </td> <td>99999</td> <td>9    </td> <td>9    </td> <td>9    </td> <td>9    </td> <td>9    </td> <td>9    </td> <td>9    </td> <td>9    </td> <td>9    </td> <td>9    </td> <td>9    </td> <td>9    </td> <td>9    </td> <td>9    </td> <td>9    </td> <td>9    </td> <td>9    </td> <td>9    </td> <td>9    </td> <td>9    </td> <td>9    </td> <td>9    </td> <td>9    </td> <td>9    </td> <td>9    </td> <td>9    </td> <td>9    </td> <td>9    </td> <td>9    </td> <td>9    </td> <td>99   </td> <td>99   </td> <td>99   </td> <td>9    </td> <td>9    </td> <td>9    </td> <td>999   </td> <td>999   </td> <td>9    </td> <td>9    </td> <td>9    </td> <td>99   </td> <td>99   </td> <td>99   </td> <td>99999</td> <td>9    </td> <td>9    </td> <td>9    </td> <td>9    </td> <td>9    </td> <td>9    </td> <td>9    </td> <td>9    </td> <td>9    </td> <td>9    </td> <td>99999</td> <td>9    </td> <td>9    </td> <td>9    </td> <td>9    </td> <td>9    </td> <td>9    </td> <td>9    </td> <td>9    </td> <td>9    </td> <td>99999</td> <td>9     </td> <td>2    </td> <td>9    </td> <td>99999</td> <td>99999</td> <td>9    </td> <td>9    </td> <td>9    </td> <td>9    </td> <td>9    </td> <td>9    </td> <td>9    </td> <td>9    </td> <td>1    </td> <td>1    </td> <td>9    </td> <td>9    </td> <td>9    </td> <td>9    </td> <td>9    </td> <td>9    </td> <td>9    </td> <td>9    </td> <td>9    </td> <td>9    </td> <td>9    </td> <td>9    </td> <td>9    </td> <td>9    </td> <td>9    </td> <td>9    </td> <td>9    </td> <td>9    </td> <td>9    </td> <td>9    </td> <td>9    </td> <td>99   </td> <td>1    </td> <td>0    </td> <td>0    </td> <td>0    </td> <td>0    </td> <td>1    </td> <td>0    </td> <td>0    </td> <td>0    </td> <td>0    </td> <td>0    </td> <td>0    </td> <td>0    </td> <td>0    </td> <td>5    </td> <td>2    </td> <td>9    </td> <td>9    </td> <td>9    </td> <td>9    </td> <td>9    </td> <td>9    </td> <td>9    </td> <td>9    </td> <td>9    </td> <td>9    </td> <td>9    </td> <td>9    </td> <td>2    </td> <td>9    </td> <td>9    </td> <td>9    </td> <td>9    </td> <td>9    </td> <td>9    </td> <td>9    </td> <td>9    </td> <td>9    </td> <td>9    </td> <td>9    </td> <td>9    </td> <td>9    </td> <td>2    </td> <td>2    </td> <td>2    </td> <td>9    </td> <td>2    </td> <td>9    </td> <td>9    </td> <td>9    </td> <td>9    </td> <td>9    </td> <td>9    </td> <td>9    </td> <td>2    </td> <td>7    </td> <td>1    </td> <td>9    </td> <td>9     </td> <td>9     </td> <td>9    </td> <td>99    </td> <td>99    </td> <td>9    </td> <td>9    </td> <td>9    </td> <td>9     </td> <td>9    </td> <td>999  </td> <td>9    </td> <td>99999</td> <td>1    </td> <td>0    </td> <td>0    </td> <td>0    </td> <td>0    </td> <td>0    </td> <td>1    </td> <td>0    </td> <td>999  </td> <td>9    </td> <td>99999</td> <td>2    </td> <td>999  </td> <td>99   </td> <td>999  </td> <td>9    </td> <td>99   </td> <td>99   </td> <td>99   </td> <td>99   </td> <td>9    </td> <td>9    </td> <td>9    </td> <td>9    </td> <td>9    </td> <td>9    </td> <td>9    </td> <td>9    </td> <td>9    </td> <td>9    </td> <td>9    </td> <td>9    </td> <td>9     </td> <td>9     </td> <td>9     </td> <td>9     </td> <td>9     </td> <td>9     </td> <td>9     </td> <td>9     </td> <td>9     </td> <td>9    </td> <td>9    </td> <td>9    </td> <td>99   </td> <td>2      </td> <td>9     </td> <td>9     </td> <td>9     </td> <td>9     </td> <td>9     </td> <td>9     </td> <td>9     </td> <td>9     </td> <td>9       </td> <td>9       </td> <td>9       </td> <td>9       </td> <td>9       </td> <td>9       </td> <td>9       </td> <td>9       </td> <td>9       </td> <td>2       </td> <td>2       </td> <td>2      </td> <td>1      </td> <td>2      </td> <td>2      </td> <td>1      </td> <td>2       </td> <td>-2   </td> <td>1206.94       </td> <td>12   </td> <td>12   </td> <td>1206.94 </td> <td>0   </td> <td>2015 </td> <td>1206.94</td> <td>1206.94      </td> <td>1201.52   </td> <td>2048.23   </td> <td>1204.14   </td> <td>1198.12   </td> <td>353.431   </td> <td>1211.99   </td> <td>1215.21   </td> <td>1213.92   </td> <td>1220.39   </td> <td>360.689    </td> <td>1207.27    </td> <td>1215.12    </td> <td>2058.05    </td> <td>2058.53    </td> <td>353.733    </td> <td>365.45     </td> <td>2083.41    </td> <td>1208.86    </td> <td>358.57     </td> <td>2034.15    </td> <td>1217.21    </td> <td>355.834    </td> <td>1220.51    </td> <td>1215.62    </td> <td>2016.09    </td> <td>1203.01    </td> <td>1208.77    </td> <td>1213.2     </td> <td>1179.46    </td> <td>2007.72    </td> <td>1192.62    </td> <td>1182.44    </td> <td>353.241    </td> <td>346.584    </td> <td>2113.91    </td> <td>2077.55    </td> <td>361.262    </td> <td>1215.55    </td> <td>2015.96    </td> <td>343.691    </td> <td>1198.23    </td> <td>357.639    </td> <td>1189.05    </td> <td>1195.24    </td> <td>2068.6     </td> <td>1213.96    </td> <td>1206.03    </td> <td>1210.39    </td> <td>1193.37    </td> <td>2072.27    </td> <td>1202.22    </td> <td>1181.45    </td> <td>345.534    </td> <td>364.216    </td> <td>2068.05    </td> <td>2091.25    </td> <td>362.783    </td> <td>1226.23    </td> <td>2061.82    </td> <td>349.103    </td> <td>1195.51    </td> <td>2031.52    </td> <td>1214.16    </td> <td>1213.78    </td> <td>354.683    </td> <td>1226.68    </td> <td>1235.62    </td> <td>1218.88    </td> <td>1180.8     </td> <td>353.973    </td> <td>1200.04    </td> <td>1226.64    </td> <td>2077.97    </td> <td>2056.47    </td> <td>348.654    </td> <td>353.929    </td> <td>2065.47    </td> <td>1219.81    </td> <td>351.108    </td> <td>2036.48    </td> <td>1202.85    </td> <td>2124.53    </td> <td>1224.59    </td> <td>1248.32    </td> <td>363.408    </td> <td>1206.6     </td> <td>1184.23    </td> <td>1195.11    </td> <td>1221.09    </td> <td>346.822    </td> <td>1213.21    </td> <td>1212.38    </td> <td>2095.44    </td> <td>1996.23    </td> <td>346.88     </td> <td>358.557    </td> <td>2057.2     </td> <td>1185.12    </td> <td>356.174    </td> <td>2078.61     </td> <td>1229.48     </td> <td>349.937     </td> <td>1221.14     </td> <td>1226.54     </td> <td>2022.75     </td> <td>1193.32     </td> <td>1228.83     </td> <td>1207.79     </td> <td>1242.22     </td> <td>2002.04     </td> <td>1191.81     </td> <td>1203.63     </td> <td>344.712     </td> <td>344.106     </td> <td>2017.87     </td> <td>2074.54     </td> <td>357.38      </td> <td>1201.3      </td> <td>2058.08     </td> <td>360.174     </td> <td>1219.15     </td> <td>363.543     </td> <td>1223.23     </td> <td>1198.56     </td> <td>2092.97     </td> <td>1223.89     </td> <td>1197.54     </td> <td>1208.1      </td> <td>1176.92     </td> <td>2023.58     </td> <td>1216.8      </td> <td>1190.14     </td> <td>347.892     </td> <td>357.251     </td> <td>2089.11     </td> <td>2024.29     </td> <td>342.735     </td> <td>1226.87     </td> <td>2024.64     </td> <td>351.475     </td> <td>1216.88     </td> <td>2078.61     </td> <td>1257.76     </td> <td>1230.3      </td> <td>349.642     </td> <td>1196.46     </td> <td>1220.6      </td> <td>1199.98     </td> <td>1205.87     </td> <td>350.783     </td> <td>1206.59     </td> <td>1212.3      </td> <td>2091.21     </td> <td>2047.76     </td> <td>349.663     </td> <td>360.684     </td> <td>2043.44     </td> <td>1206.87     </td> <td>351.536     </td> <td>2078.13     </td> <td>1201.52   </td> <td>2048.23   </td> <td>1204.14   </td> <td>1198.12   </td> <td>353.431   </td> <td>1211.99   </td> <td>1215.21   </td> <td>1213.92   </td> <td>1220.39   </td> <td>360.689    </td> <td>1207.27    </td> <td>1215.12    </td> <td>2058.05    </td> <td>2058.53    </td> <td>353.733    </td> <td>365.45     </td> <td>2083.41    </td> <td>1208.86    </td> <td>358.57     </td> <td>2034.15    </td> <td>1217.21    </td> <td>355.834    </td> <td>1220.51    </td> <td>1215.62    </td> <td>2016.09    </td> <td>1203.01    </td> <td>1208.77    </td> <td>1213.2     </td> <td>1179.46    </td> <td>2007.72    </td> <td>1192.62    </td> <td>1182.44    </td> <td>353.241    </td> <td>346.584    </td> <td>2113.91    </td> <td>2077.55    </td> <td>361.262    </td> <td>1215.55    </td> <td>2015.96    </td> <td>343.691    </td> <td>1198.23    </td> <td>357.639    </td> <td>1189.05    </td> <td>1195.24    </td> <td>2068.6     </td> <td>1213.96    </td> <td>1206.03    </td> <td>1210.39    </td> <td>1193.37    </td> <td>2072.27    </td> <td>1202.22    </td> <td>1181.45    </td> <td>345.534    </td> <td>364.216    </td> <td>2068.05    </td> <td>2091.25    </td> <td>362.783    </td> <td>1226.23    </td> <td>2061.82    </td> <td>349.103    </td> <td>1195.51    </td> <td>2031.52    </td> <td>1214.16    </td> <td>1213.78    </td> <td>354.683    </td> <td>1226.68    </td> <td>1235.62    </td> <td>1218.88    </td> <td>1180.8     </td> <td>353.973    </td> <td>1200.04    </td> <td>1226.64    </td> <td>2077.97    </td> <td>2056.47    </td> <td>348.654    </td> <td>353.929    </td> <td>2065.47    </td> <td>1219.81    </td> <td>351.108    </td> <td>2036.48    </td> <td>1202.85    </td> <td>2124.53    </td> <td>1224.59    </td> <td>1248.32    </td> <td>363.408    </td> <td>1206.6     </td> <td>1184.23    </td> <td>1195.11    </td> <td>1221.09    </td> <td>346.822    </td> <td>1213.21    </td> <td>1212.38    </td> <td>2095.44    </td> <td>1996.23    </td> <td>346.88     </td> <td>358.557    </td> <td>2057.2     </td> <td>1185.12    </td> <td>356.174    </td> <td>2078.61     </td> <td>1229.48     </td> <td>349.937     </td> <td>1221.14     </td> <td>1226.54     </td> <td>2022.75     </td> <td>1193.32     </td> <td>1228.83     </td> <td>1207.79     </td> <td>1242.22     </td> <td>2002.04     </td> <td>1191.81     </td> <td>1203.63     </td> <td>344.712     </td> <td>344.106     </td> <td>2017.87     </td> <td>2074.54     </td> <td>357.38      </td> <td>1201.3      </td> <td>2058.08     </td> <td>360.174     </td> <td>1219.15     </td> <td>363.543     </td> <td>1223.23     </td> <td>1198.56     </td> <td>2092.97     </td> <td>1223.89     </td> <td>1197.54     </td> <td>1208.1      </td> <td>1176.92     </td> <td>2023.58     </td> <td>1216.8      </td> <td>1190.14     </td> <td>347.892     </td> <td>357.251     </td> <td>2089.11     </td> <td>2024.29     </td> <td>342.735     </td> <td>1226.87     </td> <td>2024.64     </td> <td>351.475     </td> <td>1216.88     </td> <td>2078.61     </td> <td>1257.76     </td> <td>1230.3      </td> <td>349.642     </td> <td>1196.46     </td> <td>1220.6      </td> <td>1199.98     </td> <td>1205.87     </td> <td>350.783     </td> <td>1206.59     </td> <td>1212.3      </td> <td>2091.21     </td> <td>2047.76     </td> <td>349.663     </td> <td>360.684     </td> <td>2043.44     </td> <td>1206.87     </td> <td>351.536     </td> <td>2078.13     </td>\n",
       "        </tr>\n",
       "    </tbody>\n",
       "        <tr>\n",
       "            <td>4    </td> <td>2016.1</td> <td>2620122214474542295393116</td> <td>262012221447454229539311601</td> <td>128  </td> <td>161  </td> <td>26   </td> <td>20122214474542295393</td> <td>1    </td> <td>16   </td> <td>1    </td> <td>1    </td> <td>42   </td> <td>1    </td> <td>9    </td> <td>11   </td> <td>2015 </td> <td>1    </td> <td>1    </td> <td>9    </td> <td>9    </td> <td>3     </td> <td>3    </td> <td>9    </td> <td>2     </td> <td>7    </td> <td>9    </td> <td>9    </td> <td>9    </td> <td>9    </td> <td>9    </td> <td>9    </td> <td>9    </td> <td>9    </td> <td>9    </td> <td>9    </td> <td>9    </td> <td>9    </td> <td>9    </td> <td>9    </td> <td>9    </td> <td>99   </td> <td>9     </td> <td>9     </td> <td>9     </td> <td>2    </td> <td>2    </td> <td>1    </td> <td>1    </td> <td>1    </td> <td>1    </td> <td>1    </td> <td>1    </td> <td>1    </td> <td>0    </td> <td>0    </td> <td>0    </td> <td>0    </td> <td>0    </td> <td>1    </td> <td>0    </td> <td>0    </td> <td>1    </td> <td>1    </td> <td>9    </td> <td>9    </td> <td>9    </td> <td>9    </td> <td>9    </td> <td>9    </td> <td>9    </td> <td>9    </td> <td>9    </td> <td>9    </td> <td>9    </td> <td>9    </td> <td>9    </td> <td>9    </td> <td>9    </td> <td>9    </td> <td>9    </td> <td>9    </td> <td>9    </td> <td>9    </td> <td>9    </td> <td>9    </td> <td>9    </td> <td>9    </td> <td>9    </td> <td>9    </td> <td>9    </td> <td>9    </td> <td>9    </td> <td>9    </td> <td>9    </td> <td>9    </td> <td>1    </td> <td>0    </td> <td>0    </td> <td>0    </td> <td>0    </td> <td>0    </td> <td>0    </td> <td>0    </td> <td>0    </td> <td>0    </td> <td>0    </td> <td>0    </td> <td>0    </td> <td>0    </td> <td>1    </td> <td>0    </td> <td>2    </td> <td>1    </td> <td>0    </td> <td>0    </td> <td>0    </td> <td>0    </td> <td>0    </td> <td>0    </td> <td>0    </td> <td>0    </td> <td>0    </td> <td>1    </td> <td>0    </td> <td>0    </td> <td>2    </td> <td>99   </td> <td>99   </td> <td>99   </td> <td>2    </td> <td>9    </td> <td>9    </td> <td>9    </td> <td>9    </td> <td>9    </td> <td>9    </td> <td>9    </td> <td>9    </td> <td>9    </td> <td>9    </td> <td>999  </td> <td>9    </td> <td>99999</td> <td>2      </td> <td>1      </td> <td>4      </td> <td>1      </td> <td>1      </td> <td>1      </td> <td>1      </td> <td>1      </td> <td>1      </td> <td>1       </td> <td>2       </td> <td>2       </td> <td>9       </td> <td>9       </td> <td>9       </td> <td>9       </td> <td>9       </td> <td>9       </td> <td>9       </td> <td>1       </td> <td>1       </td> <td>1       </td> <td>1       </td> <td>1       </td> <td>2       </td> <td>1       </td> <td>2       </td> <td>2       </td> <td>9       </td> <td>9       </td> <td>9       </td> <td>9       </td> <td>9       </td> <td>9       </td> <td>9       </td> <td>9     </td> <td>2    </td> <td>2    </td> <td>9    </td> <td>9    </td> <td>9    </td> <td>9    </td> <td>9    </td> <td>9    </td> <td>9    </td> <td>9    </td> <td>9    </td> <td>9    </td> <td>9    </td> <td>9    </td> <td>9    </td> <td>9    </td> <td>9    </td> <td>9    </td> <td>9    </td> <td>9    </td> <td>9    </td> <td>9    </td> <td>9    </td> <td>9    </td> <td>9    </td> <td>9    </td> <td>9    </td> <td>9    </td> <td>9    </td> <td>9    </td> <td>9    </td> <td>9    </td> <td>9    </td> <td>9    </td> <td>9    </td> <td>9    </td> <td>9    </td> <td>9    </td> <td>9    </td> <td>9    </td> <td>9    </td> <td>9    </td> <td>9    </td> <td>2    </td> <td>9    </td> <td>9    </td> <td>9    </td> <td>9    </td> <td>9    </td> <td>9    </td> <td>9    </td> <td>9    </td> <td>9    </td> <td>9    </td> <td>9    </td> <td>9    </td> <td>9    </td> <td>9    </td> <td>9    </td> <td>9    </td> <td>9    </td> <td>9    </td> <td>9    </td> <td>99   </td> <td>99   </td> <td>99   </td> <td>99   </td> <td>2    </td> <td>9    </td> <td>9    </td> <td>9    </td> <td>9    </td> <td>9    </td> <td>9    </td> <td>9    </td> <td>9    </td> <td>9    </td> <td>9    </td> <td>9    </td> <td>9    </td> <td>9    </td> <td>9    </td> <td>9    </td> <td>9    </td> <td>9    </td> <td>9    </td> <td>9    </td> <td>9    </td> <td>9    </td> <td>9    </td> <td>9    </td> <td>9    </td> <td>9    </td> <td>1    </td> <td>9    </td> <td>1    </td> <td>5    </td> <td>2     </td> <td>2    </td> <td>3    </td> <td>9    </td> <td>1    </td> <td>9    </td> <td>2    </td> <td>9    </td> <td>11   </td> <td>1     </td> <td>1     </td> <td>0     </td> <td>0     </td> <td>0     </td> <td>0     </td> <td>0     </td> <td>0     </td> <td>1    </td> <td>99   </td> <td>9    </td> <td>9    </td> <td>9    </td> <td>9    </td> <td>9     </td> <td>9     </td> <td>9    </td> <td>9    </td> <td>9    </td> <td>9    </td> <td>9    </td> <td>9    </td> <td>9    </td> <td>9    </td> <td>9    </td> <td>9    </td> <td>9    </td> <td>9    </td> <td>9    </td> <td>9    </td> <td>9    </td> <td>9    </td> <td>9    </td> <td>9    </td> <td>9    </td> <td>9    </td> <td>9    </td> <td>9    </td> <td>9    </td> <td>9    </td> <td>9    </td> <td>9     </td> <td>9     </td> <td>9     </td> <td>9     </td> <td>9     </td> <td>9    </td> <td>9    </td> <td>9    </td> <td>9    </td> <td>9     </td> <td>9     </td> <td>9     </td> <td>9    </td> <td>9    </td> <td>9     </td> <td>9    </td> <td>2    </td> <td>2    </td> <td>2    </td> <td>2    </td> <td>9    </td> <td>9    </td> <td>9    </td> <td>9    </td> <td>9    </td> <td>9    </td> <td>9    </td> <td>9    </td> <td>9    </td> <td>9    </td> <td>9    </td> <td>9    </td> <td>9    </td> <td>9    </td> <td>9    </td> <td>9    </td> <td>9    </td> <td>9    </td> <td>9    </td> <td>9    </td> <td>99   </td> <td>99   </td> <td>99   </td> <td>9    </td> <td>9    </td> <td>9    </td> <td>9    </td> <td>99   </td> <td>99   </td> <td>99   </td> <td>99999</td> <td>9    </td> <td>9    </td> <td>9    </td> <td>9    </td> <td>9    </td> <td>9    </td> <td>9    </td> <td>9    </td> <td>9    </td> <td>9    </td> <td>9    </td> <td>9    </td> <td>9    </td> <td>9    </td> <td>9    </td> <td>9    </td> <td>9    </td> <td>9    </td> <td>9    </td> <td>9    </td> <td>9    </td> <td>9    </td> <td>9    </td> <td>9    </td> <td>9    </td> <td>9    </td> <td>9    </td> <td>9    </td> <td>9    </td> <td>9    </td> <td>99   </td> <td>99   </td> <td>99   </td> <td>9    </td> <td>9    </td> <td>9    </td> <td>999   </td> <td>999   </td> <td>9    </td> <td>9    </td> <td>9    </td> <td>99   </td> <td>99   </td> <td>99   </td> <td>99999</td> <td>9    </td> <td>9    </td> <td>9    </td> <td>9    </td> <td>9    </td> <td>9    </td> <td>9    </td> <td>9    </td> <td>9    </td> <td>9    </td> <td>99999</td> <td>9    </td> <td>9    </td> <td>9    </td> <td>9    </td> <td>9    </td> <td>9    </td> <td>9    </td> <td>9    </td> <td>9    </td> <td>99999</td> <td>9     </td> <td>2    </td> <td>9    </td> <td>99999</td> <td>99999</td> <td>9    </td> <td>9    </td> <td>9    </td> <td>9    </td> <td>9    </td> <td>9    </td> <td>9    </td> <td>9    </td> <td>2    </td> <td>9    </td> <td>1    </td> <td>0    </td> <td>0    </td> <td>0    </td> <td>0    </td> <td>0    </td> <td>0    </td> <td>0    </td> <td>0    </td> <td>0    </td> <td>0    </td> <td>0    </td> <td>0    </td> <td>0    </td> <td>0    </td> <td>0    </td> <td>1    </td> <td>0    </td> <td>0    </td> <td>0    </td> <td>0    </td> <td>16   </td> <td>9    </td> <td>9    </td> <td>9    </td> <td>9    </td> <td>9    </td> <td>9    </td> <td>9    </td> <td>9    </td> <td>9    </td> <td>9    </td> <td>9    </td> <td>9    </td> <td>9    </td> <td>9    </td> <td>99   </td> <td>9    </td> <td>9    </td> <td>9    </td> <td>9    </td> <td>9    </td> <td>9    </td> <td>9    </td> <td>9    </td> <td>9    </td> <td>9    </td> <td>9    </td> <td>9    </td> <td>9    </td> <td>9    </td> <td>9    </td> <td>9    </td> <td>9    </td> <td>9    </td> <td>9    </td> <td>9    </td> <td>9    </td> <td>9    </td> <td>9    </td> <td>9    </td> <td>9    </td> <td>9    </td> <td>9    </td> <td>9    </td> <td>9    </td> <td>2    </td> <td>9    </td> <td>9    </td> <td>9    </td> <td>9    </td> <td>9    </td> <td>9    </td> <td>9    </td> <td>9    </td> <td>9    </td> <td>9    </td> <td>9    </td> <td>1    </td> <td>9    </td> <td>9     </td> <td>9     </td> <td>9    </td> <td>99    </td> <td>99    </td> <td>9    </td> <td>9    </td> <td>9    </td> <td>9     </td> <td>2    </td> <td>999  </td> <td>9    </td> <td>99999</td> <td>1    </td> <td>0    </td> <td>0    </td> <td>0    </td> <td>0    </td> <td>0    </td> <td>1    </td> <td>0    </td> <td>999  </td> <td>9    </td> <td>99999</td> <td>2    </td> <td>999  </td> <td>99   </td> <td>999  </td> <td>9    </td> <td>99   </td> <td>99   </td> <td>99   </td> <td>99   </td> <td>9    </td> <td>9    </td> <td>9    </td> <td>9    </td> <td>9    </td> <td>9    </td> <td>9    </td> <td>9    </td> <td>9    </td> <td>9    </td> <td>9    </td> <td>9    </td> <td>9     </td> <td>9     </td> <td>9     </td> <td>9     </td> <td>9     </td> <td>9     </td> <td>9     </td> <td>9     </td> <td>9     </td> <td>9    </td> <td>9    </td> <td>9    </td> <td>99   </td> <td>2      </td> <td>9     </td> <td>9     </td> <td>9     </td> <td>9     </td> <td>9     </td> <td>9     </td> <td>9     </td> <td>9     </td> <td>9       </td> <td>9       </td> <td>9       </td> <td>9       </td> <td>9       </td> <td>9       </td> <td>9       </td> <td>9       </td> <td>9       </td> <td>2       </td> <td>2       </td> <td>2      </td> <td>1      </td> <td>2      </td> <td>2      </td> <td>1      </td> <td>2       </td> <td>-2   </td> <td>1206.94       </td> <td>11   </td> <td>11   </td> <td>1206.94 </td> <td>0   </td> <td>2015 </td> <td>1206.94</td> <td>1206.94      </td> <td>1201.52   </td> <td>2048.23   </td> <td>1204.14   </td> <td>1198.12   </td> <td>353.431   </td> <td>1211.99   </td> <td>1215.21   </td> <td>1213.92   </td> <td>1220.39   </td> <td>360.689    </td> <td>1207.27    </td> <td>1215.12    </td> <td>2058.05    </td> <td>2058.53    </td> <td>353.733    </td> <td>365.45     </td> <td>2083.41    </td> <td>1208.86    </td> <td>358.57     </td> <td>2034.15    </td> <td>1217.21    </td> <td>355.834    </td> <td>1220.51    </td> <td>1215.62    </td> <td>2016.09    </td> <td>1203.01    </td> <td>1208.77    </td> <td>1213.2     </td> <td>1179.46    </td> <td>2007.72    </td> <td>1192.62    </td> <td>1182.44    </td> <td>353.241    </td> <td>346.584    </td> <td>2113.91    </td> <td>2077.55    </td> <td>361.262    </td> <td>1215.55    </td> <td>2015.96    </td> <td>343.691    </td> <td>1198.23    </td> <td>357.639    </td> <td>1189.05    </td> <td>1195.24    </td> <td>2068.6     </td> <td>1213.96    </td> <td>1206.03    </td> <td>1210.39    </td> <td>1193.37    </td> <td>2072.27    </td> <td>1202.22    </td> <td>1181.45    </td> <td>345.534    </td> <td>364.216    </td> <td>2068.05    </td> <td>2091.25    </td> <td>362.783    </td> <td>1226.23    </td> <td>2061.82    </td> <td>349.103    </td> <td>1195.51    </td> <td>2031.52    </td> <td>1214.16    </td> <td>1213.78    </td> <td>354.683    </td> <td>1226.68    </td> <td>1235.62    </td> <td>1218.88    </td> <td>1180.8     </td> <td>353.973    </td> <td>1200.04    </td> <td>1226.64    </td> <td>2077.97    </td> <td>2056.47    </td> <td>348.654    </td> <td>353.929    </td> <td>2065.47    </td> <td>1219.81    </td> <td>351.108    </td> <td>2036.48    </td> <td>1202.85    </td> <td>2124.53    </td> <td>1224.59    </td> <td>1248.32    </td> <td>363.408    </td> <td>1206.6     </td> <td>1184.23    </td> <td>1195.11    </td> <td>1221.09    </td> <td>346.822    </td> <td>1213.21    </td> <td>1212.38    </td> <td>2095.44    </td> <td>1996.23    </td> <td>346.88     </td> <td>358.557    </td> <td>2057.2     </td> <td>1185.12    </td> <td>356.174    </td> <td>2078.61     </td> <td>1229.48     </td> <td>349.937     </td> <td>1221.14     </td> <td>1226.54     </td> <td>2022.75     </td> <td>1193.32     </td> <td>1228.83     </td> <td>1207.79     </td> <td>1242.22     </td> <td>2002.04     </td> <td>1191.81     </td> <td>1203.63     </td> <td>344.712     </td> <td>344.106     </td> <td>2017.87     </td> <td>2074.54     </td> <td>357.38      </td> <td>1201.3      </td> <td>2058.08     </td> <td>360.174     </td> <td>1219.15     </td> <td>363.543     </td> <td>1223.23     </td> <td>1198.56     </td> <td>2092.97     </td> <td>1223.89     </td> <td>1197.54     </td> <td>1208.1      </td> <td>1176.92     </td> <td>2023.58     </td> <td>1216.8      </td> <td>1190.14     </td> <td>347.892     </td> <td>357.251     </td> <td>2089.11     </td> <td>2024.29     </td> <td>342.735     </td> <td>1226.87     </td> <td>2024.64     </td> <td>351.475     </td> <td>1216.88     </td> <td>2078.61     </td> <td>1257.76     </td> <td>1230.3      </td> <td>349.642     </td> <td>1196.46     </td> <td>1220.6      </td> <td>1199.98     </td> <td>1205.87     </td> <td>350.783     </td> <td>1206.59     </td> <td>1212.3      </td> <td>2091.21     </td> <td>2047.76     </td> <td>349.663     </td> <td>360.684     </td> <td>2043.44     </td> <td>1206.87     </td> <td>351.536     </td> <td>2078.13     </td> <td>1201.52   </td> <td>2048.23   </td> <td>1204.14   </td> <td>1198.12   </td> <td>353.431   </td> <td>1211.99   </td> <td>1215.21   </td> <td>1213.92   </td> <td>1220.39   </td> <td>360.689    </td> <td>1207.27    </td> <td>1215.12    </td> <td>2058.05    </td> <td>2058.53    </td> <td>353.733    </td> <td>365.45     </td> <td>2083.41    </td> <td>1208.86    </td> <td>358.57     </td> <td>2034.15    </td> <td>1217.21    </td> <td>355.834    </td> <td>1220.51    </td> <td>1215.62    </td> <td>2016.09    </td> <td>1203.01    </td> <td>1208.77    </td> <td>1213.2     </td> <td>1179.46    </td> <td>2007.72    </td> <td>1192.62    </td> <td>1182.44    </td> <td>353.241    </td> <td>346.584    </td> <td>2113.91    </td> <td>2077.55    </td> <td>361.262    </td> <td>1215.55    </td> <td>2015.96    </td> <td>343.691    </td> <td>1198.23    </td> <td>357.639    </td> <td>1189.05    </td> <td>1195.24    </td> <td>2068.6     </td> <td>1213.96    </td> <td>1206.03    </td> <td>1210.39    </td> <td>1193.37    </td> <td>2072.27    </td> <td>1202.22    </td> <td>1181.45    </td> <td>345.534    </td> <td>364.216    </td> <td>2068.05    </td> <td>2091.25    </td> <td>362.783    </td> <td>1226.23    </td> <td>2061.82    </td> <td>349.103    </td> <td>1195.51    </td> <td>2031.52    </td> <td>1214.16    </td> <td>1213.78    </td> <td>354.683    </td> <td>1226.68    </td> <td>1235.62    </td> <td>1218.88    </td> <td>1180.8     </td> <td>353.973    </td> <td>1200.04    </td> <td>1226.64    </td> <td>2077.97    </td> <td>2056.47    </td> <td>348.654    </td> <td>353.929    </td> <td>2065.47    </td> <td>1219.81    </td> <td>351.108    </td> <td>2036.48    </td> <td>1202.85    </td> <td>2124.53    </td> <td>1224.59    </td> <td>1248.32    </td> <td>363.408    </td> <td>1206.6     </td> <td>1184.23    </td> <td>1195.11    </td> <td>1221.09    </td> <td>346.822    </td> <td>1213.21    </td> <td>1212.38    </td> <td>2095.44    </td> <td>1996.23    </td> <td>346.88     </td> <td>358.557    </td> <td>2057.2     </td> <td>1185.12    </td> <td>356.174    </td> <td>2078.61     </td> <td>1229.48     </td> <td>349.937     </td> <td>1221.14     </td> <td>1226.54     </td> <td>2022.75     </td> <td>1193.32     </td> <td>1228.83     </td> <td>1207.79     </td> <td>1242.22     </td> <td>2002.04     </td> <td>1191.81     </td> <td>1203.63     </td> <td>344.712     </td> <td>344.106     </td> <td>2017.87     </td> <td>2074.54     </td> <td>357.38      </td> <td>1201.3      </td> <td>2058.08     </td> <td>360.174     </td> <td>1219.15     </td> <td>363.543     </td> <td>1223.23     </td> <td>1198.56     </td> <td>2092.97     </td> <td>1223.89     </td> <td>1197.54     </td> <td>1208.1      </td> <td>1176.92     </td> <td>2023.58     </td> <td>1216.8      </td> <td>1190.14     </td> <td>347.892     </td> <td>357.251     </td> <td>2089.11     </td> <td>2024.29     </td> <td>342.735     </td> <td>1226.87     </td> <td>2024.64     </td> <td>351.475     </td> <td>1216.88     </td> <td>2078.61     </td> <td>1257.76     </td> <td>1230.3      </td> <td>349.642     </td> <td>1196.46     </td> <td>1220.6      </td> <td>1199.98     </td> <td>1205.87     </td> <td>350.783     </td> <td>1206.59     </td> <td>1212.3      </td> <td>2091.21     </td> <td>2047.76     </td> <td>349.663     </td> <td>360.684     </td> <td>2043.44     </td> <td>1206.87     </td> <td>351.536     </td> <td>2078.13     </td>\n",
       "        </tr>\n",
       "    </tbody>\n",
       "        <tr>\n",
       "            <td>4    </td> <td>2016.1</td> <td>2620122510951642292893215</td> <td>262012251095164229289321501</td> <td>131  </td> <td>161  </td> <td>26   </td> <td>20122510951642292893</td> <td>2    </td> <td>15   </td> <td>1    </td> <td>1    </td> <td>36   </td> <td>1    </td> <td>9    </td> <td>11   </td> <td>2015 </td> <td>1    </td> <td>1    </td> <td>9    </td> <td>9    </td> <td>2     </td> <td>3    </td> <td>9    </td> <td>2     </td> <td>21   </td> <td>9    </td> <td>9    </td> <td>9    </td> <td>9    </td> <td>9    </td> <td>9    </td> <td>9    </td> <td>9    </td> <td>9    </td> <td>9    </td> <td>9    </td> <td>9    </td> <td>9    </td> <td>9    </td> <td>9    </td> <td>99   </td> <td>9     </td> <td>9     </td> <td>9     </td> <td>2    </td> <td>2    </td> <td>2    </td> <td>2    </td> <td>9    </td> <td>9    </td> <td>9    </td> <td>9    </td> <td>9    </td> <td>9    </td> <td>9    </td> <td>9    </td> <td>9    </td> <td>9    </td> <td>9    </td> <td>9    </td> <td>9    </td> <td>9    </td> <td>9    </td> <td>9    </td> <td>9    </td> <td>9    </td> <td>9    </td> <td>9    </td> <td>9    </td> <td>9    </td> <td>9    </td> <td>9    </td> <td>9    </td> <td>9    </td> <td>9    </td> <td>9    </td> <td>9    </td> <td>9    </td> <td>9    </td> <td>9    </td> <td>9    </td> <td>9    </td> <td>9    </td> <td>9    </td> <td>9    </td> <td>9    </td> <td>9    </td> <td>9    </td> <td>9    </td> <td>9    </td> <td>9    </td> <td>9    </td> <td>9    </td> <td>9    </td> <td>9    </td> <td>9    </td> <td>9    </td> <td>9    </td> <td>9    </td> <td>9    </td> <td>9    </td> <td>9    </td> <td>9    </td> <td>9    </td> <td>9    </td> <td>9    </td> <td>9    </td> <td>9    </td> <td>9    </td> <td>9    </td> <td>9    </td> <td>9    </td> <td>9    </td> <td>9    </td> <td>9    </td> <td>9    </td> <td>9    </td> <td>9    </td> <td>9    </td> <td>9    </td> <td>9    </td> <td>9    </td> <td>9    </td> <td>9    </td> <td>9    </td> <td>9    </td> <td>99   </td> <td>99   </td> <td>99   </td> <td>9    </td> <td>9    </td> <td>9    </td> <td>9    </td> <td>9    </td> <td>9    </td> <td>9    </td> <td>9    </td> <td>9    </td> <td>9    </td> <td>9    </td> <td>999  </td> <td>9    </td> <td>99999</td> <td>9      </td> <td>9      </td> <td>9      </td> <td>9      </td> <td>9      </td> <td>9      </td> <td>9      </td> <td>9      </td> <td>9      </td> <td>9       </td> <td>9       </td> <td>9       </td> <td>9       </td> <td>9       </td> <td>9       </td> <td>9       </td> <td>9       </td> <td>9       </td> <td>9       </td> <td>9       </td> <td>9       </td> <td>9       </td> <td>9       </td> <td>9       </td> <td>9       </td> <td>9       </td> <td>9       </td> <td>9       </td> <td>9       </td> <td>9       </td> <td>9       </td> <td>9       </td> <td>9       </td> <td>9       </td> <td>9       </td> <td>9     </td> <td>9    </td> <td>9    </td> <td>9    </td> <td>9    </td> <td>9    </td> <td>9    </td> <td>9    </td> <td>9    </td> <td>9    </td> <td>9    </td> <td>9    </td> <td>9    </td> <td>9    </td> <td>9    </td> <td>9    </td> <td>9    </td> <td>9    </td> <td>9    </td> <td>9    </td> <td>9    </td> <td>9    </td> <td>9    </td> <td>9    </td> <td>9    </td> <td>9    </td> <td>9    </td> <td>9    </td> <td>9    </td> <td>9    </td> <td>9    </td> <td>9    </td> <td>9    </td> <td>9    </td> <td>9    </td> <td>9    </td> <td>9    </td> <td>9    </td> <td>9    </td> <td>9    </td> <td>9    </td> <td>9    </td> <td>9    </td> <td>9    </td> <td>9    </td> <td>9    </td> <td>9    </td> <td>9    </td> <td>9    </td> <td>9    </td> <td>9    </td> <td>9    </td> <td>9    </td> <td>9    </td> <td>9    </td> <td>9    </td> <td>9    </td> <td>9    </td> <td>9    </td> <td>9    </td> <td>9    </td> <td>9    </td> <td>9    </td> <td>9    </td> <td>99   </td> <td>99   </td> <td>99   </td> <td>99   </td> <td>9    </td> <td>9    </td> <td>2    </td> <td>9    </td> <td>9    </td> <td>9    </td> <td>9    </td> <td>9    </td> <td>9    </td> <td>9    </td> <td>9    </td> <td>9    </td> <td>9    </td> <td>9    </td> <td>9    </td> <td>9    </td> <td>9    </td> <td>9    </td> <td>9    </td> <td>9    </td> <td>9    </td> <td>9    </td> <td>9    </td> <td>9    </td> <td>9    </td> <td>9    </td> <td>9    </td> <td>9    </td> <td>9    </td> <td>9    </td> <td>9     </td> <td>9    </td> <td>9    </td> <td>9    </td> <td>9    </td> <td>9    </td> <td>9    </td> <td>9    </td> <td>99   </td> <td>9     </td> <td>9     </td> <td>9     </td> <td>9     </td> <td>9     </td> <td>9     </td> <td>9     </td> <td>9     </td> <td>9    </td> <td>99   </td> <td>9    </td> <td>9    </td> <td>9    </td> <td>9    </td> <td>9     </td> <td>9     </td> <td>9    </td> <td>9    </td> <td>9    </td> <td>9    </td> <td>9    </td> <td>9    </td> <td>9    </td> <td>9    </td> <td>9    </td> <td>9    </td> <td>9    </td> <td>9    </td> <td>9    </td> <td>9    </td> <td>9    </td> <td>9    </td> <td>9    </td> <td>9    </td> <td>9    </td> <td>9    </td> <td>9    </td> <td>9    </td> <td>9    </td> <td>9    </td> <td>9    </td> <td>9     </td> <td>9     </td> <td>9     </td> <td>9     </td> <td>9     </td> <td>9    </td> <td>9    </td> <td>9    </td> <td>9    </td> <td>9     </td> <td>9     </td> <td>9     </td> <td>9    </td> <td>9    </td> <td>9     </td> <td>9    </td> <td>1    </td> <td>1    </td> <td>9    </td> <td>9    </td> <td>9    </td> <td>9    </td> <td>9    </td> <td>9    </td> <td>9    </td> <td>9    </td> <td>9    </td> <td>9    </td> <td>9    </td> <td>9    </td> <td>9    </td> <td>9    </td> <td>9    </td> <td>9    </td> <td>9    </td> <td>9    </td> <td>9    </td> <td>9    </td> <td>9    </td> <td>9    </td> <td>99   </td> <td>99   </td> <td>99   </td> <td>9    </td> <td>9    </td> <td>9    </td> <td>9    </td> <td>99   </td> <td>99   </td> <td>99   </td> <td>0    </td> <td>1    </td> <td>0    </td> <td>0    </td> <td>0    </td> <td>0    </td> <td>0    </td> <td>0    </td> <td>0    </td> <td>0    </td> <td>0    </td> <td>1    </td> <td>0    </td> <td>0    </td> <td>0    </td> <td>0    </td> <td>0    </td> <td>0    </td> <td>0    </td> <td>0    </td> <td>0    </td> <td>0    </td> <td>0    </td> <td>0    </td> <td>0    </td> <td>0    </td> <td>0    </td> <td>0    </td> <td>0    </td> <td>0    </td> <td>1    </td> <td>99   </td> <td>99   </td> <td>99   </td> <td>9    </td> <td>9    </td> <td>2    </td> <td>999   </td> <td>999   </td> <td>9    </td> <td>9    </td> <td>2    </td> <td>99   </td> <td>99   </td> <td>99   </td> <td>300  </td> <td>1    </td> <td>1    </td> <td>0    </td> <td>0    </td> <td>0    </td> <td>0    </td> <td>0    </td> <td>0    </td> <td>0    </td> <td>3    </td> <td>99999</td> <td>9    </td> <td>9    </td> <td>9    </td> <td>9    </td> <td>9    </td> <td>9    </td> <td>9    </td> <td>9    </td> <td>9    </td> <td>99999</td> <td>3     </td> <td>2    </td> <td>9    </td> <td>99999</td> <td>99999</td> <td>9    </td> <td>9    </td> <td>9    </td> <td>9    </td> <td>9    </td> <td>9    </td> <td>9    </td> <td>9    </td> <td>1    </td> <td>1    </td> <td>9    </td> <td>9    </td> <td>9    </td> <td>9    </td> <td>9    </td> <td>9    </td> <td>9    </td> <td>9    </td> <td>9    </td> <td>9    </td> <td>9    </td> <td>9    </td> <td>9    </td> <td>9    </td> <td>9    </td> <td>9    </td> <td>9    </td> <td>9    </td> <td>9    </td> <td>9    </td> <td>9    </td> <td>99   </td> <td>1    </td> <td>0    </td> <td>0    </td> <td>0    </td> <td>0    </td> <td>0    </td> <td>0    </td> <td>0    </td> <td>0    </td> <td>0    </td> <td>0    </td> <td>0    </td> <td>1    </td> <td>0    </td> <td>22   </td> <td>1    </td> <td>1    </td> <td>1    </td> <td>0    </td> <td>1    </td> <td>0    </td> <td>0    </td> <td>0    </td> <td>0    </td> <td>0    </td> <td>0    </td> <td>0    </td> <td>0    </td> <td>2    </td> <td>9    </td> <td>9    </td> <td>9    </td> <td>9    </td> <td>9    </td> <td>9    </td> <td>9    </td> <td>9    </td> <td>9    </td> <td>9    </td> <td>9    </td> <td>9    </td> <td>9    </td> <td>2    </td> <td>2    </td> <td>2    </td> <td>9    </td> <td>2    </td> <td>9    </td> <td>9    </td> <td>9    </td> <td>9    </td> <td>9    </td> <td>9    </td> <td>9    </td> <td>2    </td> <td>2    </td> <td>1    </td> <td>9    </td> <td>9     </td> <td>9     </td> <td>9    </td> <td>99    </td> <td>99    </td> <td>9    </td> <td>9    </td> <td>9    </td> <td>9     </td> <td>9    </td> <td>999  </td> <td>9    </td> <td>99999</td> <td>1    </td> <td>0    </td> <td>0    </td> <td>0    </td> <td>0    </td> <td>0    </td> <td>1    </td> <td>0    </td> <td>999  </td> <td>9    </td> <td>99999</td> <td>2    </td> <td>999  </td> <td>3    </td> <td>999  </td> <td>9    </td> <td>99   </td> <td>99   </td> <td>99   </td> <td>99   </td> <td>9    </td> <td>9    </td> <td>9    </td> <td>9    </td> <td>9    </td> <td>9    </td> <td>9    </td> <td>9    </td> <td>9    </td> <td>9    </td> <td>9    </td> <td>9    </td> <td>9     </td> <td>9     </td> <td>9     </td> <td>9     </td> <td>9     </td> <td>9     </td> <td>9     </td> <td>9     </td> <td>9     </td> <td>9    </td> <td>9    </td> <td>9    </td> <td>99   </td> <td>2      </td> <td>9     </td> <td>9     </td> <td>9     </td> <td>9     </td> <td>9     </td> <td>9     </td> <td>9     </td> <td>9     </td> <td>9       </td> <td>9       </td> <td>9       </td> <td>9       </td> <td>9       </td> <td>9       </td> <td>9       </td> <td>9       </td> <td>9       </td> <td>2       </td> <td>2       </td> <td>2      </td> <td>2      </td> <td>2      </td> <td>2      </td> <td>2      </td> <td>9       </td> <td>-2   </td> <td>2873.39       </td> <td>27   </td> <td>57   </td> <td>2873.39 </td> <td>0   </td> <td>2015 </td> <td>2873.39</td> <td>2873.39      </td> <td>2884.82   </td> <td>859.282   </td> <td>2953.92   </td> <td>2886.05   </td> <td>2645.5    </td> <td>808.395   </td> <td>832.639   </td> <td>2938.9    </td> <td>3066.46   </td> <td>2893.46    </td> <td>2824.15    </td> <td>5019.98    </td> <td>879.879    </td> <td>3031.77    </td> <td>4970.51    </td> <td>5158.03    </td> <td>4884.03    </td> <td>2875.79    </td> <td>822.106    </td> <td>4776.71    </td> <td>2777.06    </td> <td>853.031    </td> <td>2826.57    </td> <td>2771.94    </td> <td>2940.14    </td> <td>857.062    </td> <td>859.716    </td> <td>2772.1     </td> <td>2740.16    </td> <td>2967.07    </td> <td>2860.47    </td> <td>4654.18    </td> <td>822.062    </td> <td>2899.47    </td> <td>4923.47    </td> <td>4937.69    </td> <td>4925.52    </td> <td>2889.84    </td> <td>805.339    </td> <td>4866.26    </td> <td>2852.48    </td> <td>822.189    </td> <td>3018.21    </td> <td>2948.22    </td> <td>2895.85    </td> <td>831.194    </td> <td>846.45     </td> <td>2859.01    </td> <td>2889.91    </td> <td>2882.67    </td> <td>2902.73    </td> <td>4831.32    </td> <td>845.037    </td> <td>2871.47    </td> <td>5171.19    </td> <td>5057.34    </td> <td>4978.59    </td> <td>2889.72    </td> <td>857.589    </td> <td>4951.62    </td> <td>2821.3     </td> <td>815.597    </td> <td>2937.48    </td> <td>2993.46    </td> <td>2963.33    </td> <td>822.109    </td> <td>814.813    </td> <td>2740       </td> <td>2795.6     </td> <td>5026.57    </td> <td>4705.83    </td> <td>2884.91    </td> <td>841.981    </td> <td>2852.35    </td> <td>4637.64    </td> <td>4820.78    </td> <td>4992.94    </td> <td>3088.91    </td> <td>3023.2     </td> <td>902.361    </td> <td>872.669    </td> <td>2862.45    </td> <td>3090.33    </td> <td>2724.57    </td> <td>2926.09    </td> <td>861.681    </td> <td>846.902    </td> <td>2913.88    </td> <td>4967.8     </td> <td>4898.08    </td> <td>4986.81    </td> <td>4959.6     </td> <td>856.767    </td> <td>2862.8     </td> <td>4688.49    </td> <td>5052.44    </td> <td>2871.1     </td> <td>2883.69    </td> <td>2968.64    </td> <td>860.276     </td> <td>2759.26     </td> <td>837.508     </td> <td>3049        </td> <td>3001.05     </td> <td>2807.21     </td> <td>838.78      </td> <td>833.257     </td> <td>2726.95     </td> <td>2911.39     </td> <td>2971.92     </td> <td>2903        </td> <td>4700.43     </td> <td>837.166     </td> <td>2835.94     </td> <td>4705.91     </td> <td>5103.08     </td> <td>4773.85     </td> <td>2928.26     </td> <td>828.742     </td> <td>4676.01     </td> <td>2879.96     </td> <td>838.254     </td> <td>2867.68     </td> <td>2902.1      </td> <td>2773.44     </td> <td>836.748     </td> <td>870.785     </td> <td>2787.63     </td> <td>2868.97     </td> <td>2899.62     </td> <td>2803.93     </td> <td>5088.08     </td> <td>822.852     </td> <td>2908.68     </td> <td>4940.44     </td> <td>4754.23     </td> <td>5120.75     </td> <td>2939.81     </td> <td>880.598     </td> <td>5125.04     </td> <td>2843.85     </td> <td>857.643     </td> <td>2852.45     </td> <td>2914.44     </td> <td>2778.33     </td> <td>821.102     </td> <td>848.844     </td> <td>2838.12     </td> <td>2756.25     </td> <td>2770.85     </td> <td>2964.4      </td> <td>4650.39     </td> <td>846.781     </td> <td>2861.58     </td> <td>4916.72     </td> <td>5082.57     </td> <td>4983.99     </td> <td>2778.39     </td> <td>865.537     </td> <td>4939.89     </td> <td>2884.82   </td> <td>859.282   </td> <td>2953.92   </td> <td>2886.05   </td> <td>2645.5    </td> <td>808.395   </td> <td>832.639   </td> <td>2938.9    </td> <td>3066.46   </td> <td>2893.46    </td> <td>2824.15    </td> <td>5019.98    </td> <td>879.879    </td> <td>3031.77    </td> <td>4970.51    </td> <td>5158.03    </td> <td>4884.03    </td> <td>2875.79    </td> <td>822.106    </td> <td>4776.71    </td> <td>2777.06    </td> <td>853.031    </td> <td>2826.57    </td> <td>2771.94    </td> <td>2940.14    </td> <td>857.062    </td> <td>859.716    </td> <td>2772.1     </td> <td>2740.16    </td> <td>2967.07    </td> <td>2860.47    </td> <td>4654.18    </td> <td>822.062    </td> <td>2899.47    </td> <td>4923.47    </td> <td>4937.69    </td> <td>4925.52    </td> <td>2889.84    </td> <td>805.339    </td> <td>4866.26    </td> <td>2852.48    </td> <td>822.189    </td> <td>3018.21    </td> <td>2948.22    </td> <td>2895.85    </td> <td>831.194    </td> <td>846.45     </td> <td>2859.01    </td> <td>2889.91    </td> <td>2882.67    </td> <td>2902.73    </td> <td>4831.32    </td> <td>845.037    </td> <td>2871.47    </td> <td>5171.19    </td> <td>5057.34    </td> <td>4978.59    </td> <td>2889.72    </td> <td>857.589    </td> <td>4951.62    </td> <td>2821.3     </td> <td>815.597    </td> <td>2937.48    </td> <td>2993.46    </td> <td>2963.33    </td> <td>822.109    </td> <td>814.813    </td> <td>2740       </td> <td>2795.6     </td> <td>5026.57    </td> <td>4705.83    </td> <td>2884.91    </td> <td>841.981    </td> <td>2852.35    </td> <td>4637.64    </td> <td>4820.78    </td> <td>4992.94    </td> <td>3088.91    </td> <td>3023.2     </td> <td>902.361    </td> <td>872.669    </td> <td>2862.45    </td> <td>3090.33    </td> <td>2724.57    </td> <td>2926.09    </td> <td>861.681    </td> <td>846.902    </td> <td>2913.88    </td> <td>4967.8     </td> <td>4898.08    </td> <td>4986.81    </td> <td>4959.6     </td> <td>856.767    </td> <td>2862.8     </td> <td>4688.49    </td> <td>5052.44    </td> <td>2871.1     </td> <td>2883.69    </td> <td>2968.64    </td> <td>860.276     </td> <td>2759.26     </td> <td>837.508     </td> <td>3049        </td> <td>3001.05     </td> <td>2807.21     </td> <td>838.78      </td> <td>833.257     </td> <td>2726.95     </td> <td>2911.39     </td> <td>2971.92     </td> <td>2903        </td> <td>4700.43     </td> <td>837.166     </td> <td>2835.94     </td> <td>4705.91     </td> <td>5103.08     </td> <td>4773.85     </td> <td>2928.26     </td> <td>828.742     </td> <td>4676.01     </td> <td>2879.96     </td> <td>838.254     </td> <td>2867.68     </td> <td>2902.1      </td> <td>2773.44     </td> <td>836.748     </td> <td>870.785     </td> <td>2787.63     </td> <td>2868.97     </td> <td>2899.62     </td> <td>2803.93     </td> <td>5088.08     </td> <td>822.852     </td> <td>2908.68     </td> <td>4940.44     </td> <td>4754.23     </td> <td>5120.75     </td> <td>2939.81     </td> <td>880.598     </td> <td>5125.04     </td> <td>2843.85     </td> <td>857.643     </td> <td>2852.45     </td> <td>2914.44     </td> <td>2778.33     </td> <td>821.102     </td> <td>848.844     </td> <td>2838.12     </td> <td>2756.25     </td> <td>2770.85     </td> <td>2964.4      </td> <td>4650.39     </td> <td>846.781     </td> <td>2861.58     </td> <td>4916.72     </td> <td>5082.57     </td> <td>4983.99     </td> <td>2778.39     </td> <td>865.537     </td> <td>4939.89     </td>\n",
       "        </tr>\n",
       "    </tbody>\n",
       "        <tr>\n",
       "            <td>4    </td> <td>2016.1</td> <td>2620222270196053292920116</td> <td>262022227019605329292011602</td> <td>204  </td> <td>161  </td> <td>26   </td> <td>20222270196053292920</td> <td>1    </td> <td>16   </td> <td>2    </td> <td>2    </td> <td>36   </td> <td>1    </td> <td>9    </td> <td>9    </td> <td>2015 </td> <td>1    </td> <td>1    </td> <td>9    </td> <td>9    </td> <td>3     </td> <td>3    </td> <td>9    </td> <td>2     </td> <td>5    </td> <td>9    </td> <td>9    </td> <td>9    </td> <td>9    </td> <td>9    </td> <td>9    </td> <td>9    </td> <td>9    </td> <td>9    </td> <td>9    </td> <td>9    </td> <td>9    </td> <td>9    </td> <td>9    </td> <td>9    </td> <td>99   </td> <td>9     </td> <td>9     </td> <td>9     </td> <td>2    </td> <td>1    </td> <td>2    </td> <td>2    </td> <td>9    </td> <td>9    </td> <td>9    </td> <td>9    </td> <td>9    </td> <td>9    </td> <td>9    </td> <td>9    </td> <td>9    </td> <td>9    </td> <td>9    </td> <td>9    </td> <td>9    </td> <td>9    </td> <td>9    </td> <td>9    </td> <td>9    </td> <td>9    </td> <td>9    </td> <td>9    </td> <td>9    </td> <td>9    </td> <td>9    </td> <td>9    </td> <td>9    </td> <td>9    </td> <td>9    </td> <td>9    </td> <td>9    </td> <td>9    </td> <td>9    </td> <td>9    </td> <td>9    </td> <td>9    </td> <td>9    </td> <td>9    </td> <td>9    </td> <td>9    </td> <td>9    </td> <td>9    </td> <td>9    </td> <td>9    </td> <td>9    </td> <td>9    </td> <td>9    </td> <td>9    </td> <td>9    </td> <td>9    </td> <td>9    </td> <td>9    </td> <td>9    </td> <td>9    </td> <td>9    </td> <td>9    </td> <td>9    </td> <td>9    </td> <td>9    </td> <td>9    </td> <td>9    </td> <td>9    </td> <td>9    </td> <td>9    </td> <td>9    </td> <td>9    </td> <td>9    </td> <td>9    </td> <td>9    </td> <td>9    </td> <td>9    </td> <td>9    </td> <td>9    </td> <td>9    </td> <td>9    </td> <td>9    </td> <td>9    </td> <td>9    </td> <td>9    </td> <td>9    </td> <td>99   </td> <td>99   </td> <td>99   </td> <td>9    </td> <td>9    </td> <td>9    </td> <td>9    </td> <td>9    </td> <td>9    </td> <td>9    </td> <td>9    </td> <td>9    </td> <td>9    </td> <td>9    </td> <td>999  </td> <td>9    </td> <td>99999</td> <td>9      </td> <td>9      </td> <td>9      </td> <td>9      </td> <td>9      </td> <td>9      </td> <td>9      </td> <td>9      </td> <td>9      </td> <td>9       </td> <td>9       </td> <td>9       </td> <td>9       </td> <td>9       </td> <td>9       </td> <td>9       </td> <td>9       </td> <td>9       </td> <td>9       </td> <td>9       </td> <td>9       </td> <td>9       </td> <td>9       </td> <td>9       </td> <td>9       </td> <td>9       </td> <td>9       </td> <td>9       </td> <td>9       </td> <td>9       </td> <td>9       </td> <td>9       </td> <td>9       </td> <td>9       </td> <td>9       </td> <td>9     </td> <td>9    </td> <td>9    </td> <td>9    </td> <td>9    </td> <td>9    </td> <td>9    </td> <td>9    </td> <td>9    </td> <td>9    </td> <td>9    </td> <td>9    </td> <td>9    </td> <td>9    </td> <td>9    </td> <td>9    </td> <td>9    </td> <td>9    </td> <td>9    </td> <td>9    </td> <td>9    </td> <td>9    </td> <td>9    </td> <td>9    </td> <td>9    </td> <td>9    </td> <td>9    </td> <td>9    </td> <td>9    </td> <td>9    </td> <td>9    </td> <td>9    </td> <td>9    </td> <td>9    </td> <td>9    </td> <td>9    </td> <td>9    </td> <td>9    </td> <td>9    </td> <td>9    </td> <td>9    </td> <td>9    </td> <td>9    </td> <td>9    </td> <td>9    </td> <td>9    </td> <td>9    </td> <td>9    </td> <td>9    </td> <td>9    </td> <td>9    </td> <td>9    </td> <td>9    </td> <td>9    </td> <td>9    </td> <td>9    </td> <td>9    </td> <td>9    </td> <td>9    </td> <td>9    </td> <td>9    </td> <td>9    </td> <td>9    </td> <td>9    </td> <td>99   </td> <td>99   </td> <td>99   </td> <td>99   </td> <td>9    </td> <td>9    </td> <td>2    </td> <td>9    </td> <td>9    </td> <td>9    </td> <td>9    </td> <td>9    </td> <td>9    </td> <td>9    </td> <td>9    </td> <td>9    </td> <td>9    </td> <td>9    </td> <td>9    </td> <td>9    </td> <td>9    </td> <td>9    </td> <td>9    </td> <td>9    </td> <td>9    </td> <td>9    </td> <td>9    </td> <td>9    </td> <td>9    </td> <td>9    </td> <td>9    </td> <td>9    </td> <td>9    </td> <td>9    </td> <td>9     </td> <td>9    </td> <td>9    </td> <td>9    </td> <td>9    </td> <td>9    </td> <td>9    </td> <td>9    </td> <td>99   </td> <td>9     </td> <td>9     </td> <td>9     </td> <td>9     </td> <td>9     </td> <td>9     </td> <td>9     </td> <td>9     </td> <td>9    </td> <td>99   </td> <td>9    </td> <td>9    </td> <td>9    </td> <td>9    </td> <td>9     </td> <td>9     </td> <td>9    </td> <td>9    </td> <td>9    </td> <td>9    </td> <td>9    </td> <td>9    </td> <td>9    </td> <td>9    </td> <td>9    </td> <td>9    </td> <td>9    </td> <td>9    </td> <td>9    </td> <td>9    </td> <td>9    </td> <td>9    </td> <td>9    </td> <td>9    </td> <td>9    </td> <td>9    </td> <td>9    </td> <td>9    </td> <td>9    </td> <td>9    </td> <td>9    </td> <td>9     </td> <td>9     </td> <td>9     </td> <td>9     </td> <td>9     </td> <td>9    </td> <td>9    </td> <td>9    </td> <td>9    </td> <td>9     </td> <td>9     </td> <td>9     </td> <td>9    </td> <td>9    </td> <td>9     </td> <td>9    </td> <td>1    </td> <td>1    </td> <td>9    </td> <td>9    </td> <td>9    </td> <td>9    </td> <td>9    </td> <td>9    </td> <td>9    </td> <td>9    </td> <td>9    </td> <td>9    </td> <td>9    </td> <td>9    </td> <td>9    </td> <td>9    </td> <td>9    </td> <td>9    </td> <td>9    </td> <td>9    </td> <td>9    </td> <td>9    </td> <td>9    </td> <td>9    </td> <td>99   </td> <td>99   </td> <td>99   </td> <td>9    </td> <td>9    </td> <td>9    </td> <td>9    </td> <td>99   </td> <td>99   </td> <td>99   </td> <td>0    </td> <td>1    </td> <td>0    </td> <td>0    </td> <td>0    </td> <td>0    </td> <td>0    </td> <td>0    </td> <td>0    </td> <td>0    </td> <td>0    </td> <td>1    </td> <td>0    </td> <td>0    </td> <td>0    </td> <td>0    </td> <td>0    </td> <td>0    </td> <td>0    </td> <td>0    </td> <td>0    </td> <td>0    </td> <td>0    </td> <td>0    </td> <td>0    </td> <td>0    </td> <td>0    </td> <td>0    </td> <td>0    </td> <td>0    </td> <td>8    </td> <td>98   </td> <td>99   </td> <td>99   </td> <td>9    </td> <td>9    </td> <td>2    </td> <td>999   </td> <td>999   </td> <td>9    </td> <td>9    </td> <td>2    </td> <td>99   </td> <td>99   </td> <td>99   </td> <td>99998</td> <td>1    </td> <td>0    </td> <td>0    </td> <td>0    </td> <td>0    </td> <td>0    </td> <td>0    </td> <td>0    </td> <td>8    </td> <td>3    </td> <td>99999</td> <td>9    </td> <td>9    </td> <td>9    </td> <td>9    </td> <td>9    </td> <td>9    </td> <td>9    </td> <td>9    </td> <td>9    </td> <td>99999</td> <td>8     </td> <td>2    </td> <td>9    </td> <td>99999</td> <td>99999</td> <td>9    </td> <td>9    </td> <td>9    </td> <td>9    </td> <td>9    </td> <td>9    </td> <td>9    </td> <td>9    </td> <td>2    </td> <td>9    </td> <td>1    </td> <td>0    </td> <td>0    </td> <td>0    </td> <td>0    </td> <td>0    </td> <td>0    </td> <td>0    </td> <td>0    </td> <td>0    </td> <td>0    </td> <td>0    </td> <td>0    </td> <td>0    </td> <td>0    </td> <td>0    </td> <td>0    </td> <td>1    </td> <td>0    </td> <td>0    </td> <td>0    </td> <td>17   </td> <td>9    </td> <td>9    </td> <td>9    </td> <td>9    </td> <td>9    </td> <td>9    </td> <td>9    </td> <td>9    </td> <td>9    </td> <td>9    </td> <td>9    </td> <td>9    </td> <td>9    </td> <td>9    </td> <td>99   </td> <td>9    </td> <td>9    </td> <td>9    </td> <td>9    </td> <td>9    </td> <td>9    </td> <td>9    </td> <td>9    </td> <td>9    </td> <td>9    </td> <td>9    </td> <td>9    </td> <td>9    </td> <td>9    </td> <td>9    </td> <td>9    </td> <td>9    </td> <td>9    </td> <td>9    </td> <td>9    </td> <td>9    </td> <td>9    </td> <td>9    </td> <td>9    </td> <td>9    </td> <td>9    </td> <td>9    </td> <td>9    </td> <td>9    </td> <td>2    </td> <td>9    </td> <td>9    </td> <td>9    </td> <td>9    </td> <td>9    </td> <td>9    </td> <td>9    </td> <td>9    </td> <td>9    </td> <td>9    </td> <td>1    </td> <td>1    </td> <td>9    </td> <td>2     </td> <td>4     </td> <td>1    </td> <td>10    </td> <td>31    </td> <td>2    </td> <td>2    </td> <td>1    </td> <td>2     </td> <td>9    </td> <td>999  </td> <td>9    </td> <td>99999</td> <td>1    </td> <td>0    </td> <td>0    </td> <td>0    </td> <td>0    </td> <td>0    </td> <td>1    </td> <td>0    </td> <td>999  </td> <td>9    </td> <td>99999</td> <td>2    </td> <td>999  </td> <td>99   </td> <td>999  </td> <td>9    </td> <td>99   </td> <td>99   </td> <td>99   </td> <td>99   </td> <td>9    </td> <td>9    </td> <td>9    </td> <td>9    </td> <td>9    </td> <td>9    </td> <td>9    </td> <td>9    </td> <td>9    </td> <td>9    </td> <td>9    </td> <td>9    </td> <td>9     </td> <td>9     </td> <td>9     </td> <td>9     </td> <td>9     </td> <td>9     </td> <td>9     </td> <td>9     </td> <td>9     </td> <td>9    </td> <td>9    </td> <td>9    </td> <td>99   </td> <td>2      </td> <td>9     </td> <td>9     </td> <td>9     </td> <td>9     </td> <td>9     </td> <td>9     </td> <td>9     </td> <td>9     </td> <td>9       </td> <td>9       </td> <td>9       </td> <td>9       </td> <td>9       </td> <td>9       </td> <td>9       </td> <td>9       </td> <td>9       </td> <td>2       </td> <td>2       </td> <td>2      </td> <td>2      </td> <td>2      </td> <td>2      </td> <td>2      </td> <td>9       </td> <td>-2   </td> <td>3567.66       </td> <td>38   </td> <td>58   </td> <td>3567.66 </td> <td>0   </td> <td>2015 </td> <td>3567.66</td> <td>3567.66      </td> <td>3558.04   </td> <td>3623.07   </td> <td>3688.74   </td> <td>3377.37   </td> <td>3603.58   </td> <td>6121.45   </td> <td>1113.63   </td> <td>3610.29   </td> <td>5433.58   </td> <td>6249.14    </td> <td>6120.48    </td> <td>3388.71    </td> <td>1055.01    </td> <td>6486.42    </td> <td>990.587    </td> <td>3289.58    </td> <td>3416.99    </td> <td>3437.46    </td> <td>1083.33    </td> <td>1160.57    </td> <td>1030.48    </td> <td>6021.99    </td> <td>5658.56    </td> <td>1024.51    </td> <td>5939.8     </td> <td>3586.69    </td> <td>3502.14    </td> <td>1074       </td> <td>3308.66    </td> <td>3508.91    </td> <td>4087.89    </td> <td>6139.24    </td> <td>3785.88    </td> <td>3389.46    </td> <td>3282.74    </td> <td>6034.08    </td> <td>1019.35    </td> <td>1039.96    </td> <td>3633.47    </td> <td>3794.56    </td> <td>6141.52    </td> <td>1062.21    </td> <td>1085.4     </td> <td>5171.31    </td> <td>1072.58    </td> <td>3606.9     </td> <td>3585.01    </td> <td>6213.68    </td> <td>3539.67    </td> <td>3634.08    </td> <td>3641.33    </td> <td>1102.1     </td> <td>3912.92    </td> <td>3444.31    </td> <td>3534.69    </td> <td>1017.97    </td> <td>6191.45    </td> <td>5842.34    </td> <td>3527.02    </td> <td>3849.91    </td> <td>3665.06    </td> <td>3624.27    </td> <td>3503.35    </td> <td>3476.59    </td> <td>3566.74    </td> <td>1021.53    </td> <td>6268.97    </td> <td>3669.92    </td> <td>1049.03    </td> <td>3692.38    </td> <td>3620.87    </td> <td>3760.83    </td> <td>1148.6     </td> <td>1072.82    </td> <td>6066.81    </td> <td>3785.85    </td> <td>3701.36    </td> <td>3385       </td> <td>5963.63    </td> <td>3647.37    </td> <td>3496.77    </td> <td>1116.76    </td> <td>3808.39    </td> <td>3442.27    </td> <td>3759.36    </td> <td>5473.91    </td> <td>1030.71    </td> <td>3539.04    </td> <td>3600.27    </td> <td>5975.39    </td> <td>1047.35    </td> <td>3434.07    </td> <td>1062.21    </td> <td>6018.17    </td> <td>3410.25    </td> <td>3739.36    </td> <td>1074.98    </td> <td>5519.53    </td> <td>1015.95    </td> <td>3712.93     </td> <td>1032.31     </td> <td>5822.47     </td> <td>5700.65     </td> <td>1058.74     </td> <td>6225.06     </td> <td>3534.96     </td> <td>3440.99     </td> <td>1048.27     </td> <td>3596.44     </td> <td>3607.23     </td> <td>3513.8      </td> <td>5728.59     </td> <td>3652.1      </td> <td>3293.33     </td> <td>3572.32     </td> <td>6001.24     </td> <td>1030.21     </td> <td>1042.75     </td> <td>3378.32     </td> <td>3623.22     </td> <td>5902.97     </td> <td>1097.31     </td> <td>1024.65     </td> <td>5842.24     </td> <td>1025.33     </td> <td>3662.06     </td> <td>3573.43     </td> <td>6142.08     </td> <td>3756.96     </td> <td>3706.36     </td> <td>3664.63     </td> <td>1023.29     </td> <td>3350.21     </td> <td>3848.7      </td> <td>3489.01     </td> <td>1038.42     </td> <td>6078.01     </td> <td>6341.38     </td> <td>3715.72     </td> <td>3694.95     </td> <td>3651.51     </td> <td>3734.46     </td> <td>3372.47     </td> <td>4041.18     </td> <td>3497.75     </td> <td>1014.28     </td> <td>5930.81     </td> <td>3845.5      </td> <td>1141.94     </td> <td>1045.44     </td> <td>1097.98     </td> <td>3828.89     </td> <td>6079.93     </td> <td>1044.3      </td> <td>5931.25     </td> <td>3577.52     </td> <td>3870.69     </td> <td>3847.9      </td> <td>5816.95     </td> <td>5947.23     </td> <td>3558.04   </td> <td>3623.07   </td> <td>3688.74   </td> <td>3377.37   </td> <td>3603.58   </td> <td>6121.45   </td> <td>1113.63   </td> <td>3610.29   </td> <td>5433.58   </td> <td>6249.14    </td> <td>6120.48    </td> <td>3388.71    </td> <td>1055.01    </td> <td>6486.42    </td> <td>990.587    </td> <td>3289.58    </td> <td>3416.99    </td> <td>3437.46    </td> <td>1083.33    </td> <td>1160.57    </td> <td>1030.48    </td> <td>6021.99    </td> <td>5658.56    </td> <td>1024.51    </td> <td>5939.8     </td> <td>3586.69    </td> <td>3502.14    </td> <td>1074       </td> <td>3308.66    </td> <td>3508.91    </td> <td>4087.89    </td> <td>6139.24    </td> <td>3785.88    </td> <td>3389.46    </td> <td>3282.74    </td> <td>6034.08    </td> <td>1019.35    </td> <td>1039.96    </td> <td>3633.47    </td> <td>3794.56    </td> <td>6141.52    </td> <td>1062.21    </td> <td>1085.4     </td> <td>5171.31    </td> <td>1072.58    </td> <td>3606.9     </td> <td>3585.01    </td> <td>6213.68    </td> <td>3539.67    </td> <td>3634.08    </td> <td>3641.33    </td> <td>1102.1     </td> <td>3912.92    </td> <td>3444.31    </td> <td>3534.69    </td> <td>1017.97    </td> <td>6191.45    </td> <td>5842.34    </td> <td>3527.02    </td> <td>3849.91    </td> <td>3665.06    </td> <td>3624.27    </td> <td>3503.35    </td> <td>3476.59    </td> <td>3566.74    </td> <td>1021.53    </td> <td>6268.97    </td> <td>3669.92    </td> <td>1049.03    </td> <td>3692.38    </td> <td>3620.87    </td> <td>3760.83    </td> <td>1148.6     </td> <td>1072.82    </td> <td>6066.81    </td> <td>3785.85    </td> <td>3701.36    </td> <td>3385       </td> <td>5963.63    </td> <td>3647.37    </td> <td>3496.77    </td> <td>1116.76    </td> <td>3808.39    </td> <td>3442.27    </td> <td>3759.36    </td> <td>5473.91    </td> <td>1030.71    </td> <td>3539.04    </td> <td>3600.27    </td> <td>5975.39    </td> <td>1047.35    </td> <td>3434.07    </td> <td>1062.21    </td> <td>6018.17    </td> <td>3410.25    </td> <td>3739.36    </td> <td>1074.98    </td> <td>5519.53    </td> <td>1015.95    </td> <td>3712.93     </td> <td>1032.31     </td> <td>5822.47     </td> <td>5700.65     </td> <td>1058.74     </td> <td>6225.06     </td> <td>3534.96     </td> <td>3440.99     </td> <td>1048.27     </td> <td>3596.44     </td> <td>3607.23     </td> <td>3513.8      </td> <td>5728.59     </td> <td>3652.1      </td> <td>3293.33     </td> <td>3572.32     </td> <td>6001.24     </td> <td>1030.21     </td> <td>1042.75     </td> <td>3378.32     </td> <td>3623.22     </td> <td>5902.97     </td> <td>1097.31     </td> <td>1024.65     </td> <td>5842.24     </td> <td>1025.33     </td> <td>3662.06     </td> <td>3573.43     </td> <td>6142.08     </td> <td>3756.96     </td> <td>3706.36     </td> <td>3664.63     </td> <td>1023.29     </td> <td>3350.21     </td> <td>3848.7      </td> <td>3489.01     </td> <td>1038.42     </td> <td>6078.01     </td> <td>6341.38     </td> <td>3715.72     </td> <td>3694.95     </td> <td>3651.51     </td> <td>3734.46     </td> <td>3372.47     </td> <td>4041.18     </td> <td>3497.75     </td> <td>1014.28     </td> <td>5930.81     </td> <td>3845.5      </td> <td>1141.94     </td> <td>1045.44     </td> <td>1097.98     </td> <td>3828.89     </td> <td>6079.93     </td> <td>1044.3      </td> <td>5931.25     </td> <td>3577.52     </td> <td>3870.69     </td> <td>3847.9      </td> <td>5816.95     </td> <td>5947.23     </td>\n",
       "        </tr>\n",
       "    </tbody>\n",
       "</table>\n",
       "<p>... (12961 rows omitted)</p"
      ],
      "text/plain": [
       "V4001 | YEARQ  | IDHH                      | IDPER                       | V4002 | V4003 | V4004 | V4005                | V4006 | V4008 | V4009 | V4010 | V4011 | V4012 | V4013 | V4014 | V4015 | V4016 | V4017 | V4018 | V4019 | V4021B | V4022 | V4023 | V4023B | V4024 | V4025 | V4026 | V4027 | V4028 | V4029 | V4030 | V4031 | V4032 | V4033 | V4034 | V4035 | V4036 | V4037 | V4038 | V4039 | V4040 | V4041A | V4041B | V4041C | V4042 | V4043 | V4044 | V4045 | V4046 | V4047 | V4048 | V4049 | V4050 | V4051 | V4052 | V4053 | V4054 | V4055 | V4056 | V4057 | V4058 | V4059 | V4060 | V4061 | V4062 | V4063 | V4064 | V4065 | V4066 | V4067 | V4068 | V4069 | V4070 | V4071 | V4072 | V4073 | V4074 | V4075 | V4076 | V4077 | V4078 | V4079 | V4080 | V4081 | V4082 | V4083 | V4084 | V4085 | V4086 | V4087 | V4088 | V4089 | V4090 | V4091 | V4092 | V4093 | V4094 | V4095 | V4096 | V4097 | V4098 | V4099 | V4100 | V4101 | V4102 | V4103 | V4104 | V4105 | V4106 | V4107 | V4108 | V4109 | V4110 | V4111 | V4112 | V4113 | V4114 | V4115 | V4116 | V4117 | V4118 | V4119 | V4120 | V4121 | V4122 | V4123 | V4124 | V4125 | V4126 | V4127 | V4128 | V4129 | V4130 | V4131 | V4132 | V4133 | V4134 | V4135 | V4136 | V4137 | V4138 | V4139 | V4140 | V4140B1 | V4140B2 | V4140B3 | V4140B4 | V4140B5 | V4140B6 | V4140B7 | V4140B8 | V4140B9 | V4140B10 | V4140B11 | V4140B12 | V4140B13 | V4140B14 | V4140B15 | V4140B16 | V4140B17 | V4140B18 | V4140B19 | V4140B20 | V4140B21 | V4140B22 | V4140B23 | V4140B24 | V4140B25 | V4140B26 | V4140B27 | V4140B28 | V4140B29 | V4140B30 | V4140B31 | V4140B32 | V4140B33 | V4140B34 | V4140B35 | V4140A | V4141 | V4142 | V4143 | V4144 | V4145 | V4146 | V4147 | V4148 | V4149 | V4150 | V4151 | V4152 | V4153 | V4154 | V4155 | V4156 | V4157 | V4158 | V4159 | V4160 | V4161 | V4162 | V4163 | V4164 | V4165 | V4166 | V4167 | V4168 | V4169 | V4170 | V4171 | V4172 | V4173 | V4174 | V4175 | V4176 | V4177 | V4178 | V4179 | V4180 | V4181 | V4182 | V4183 | V4184 | V4185 | V4186 | V4187 | V4188 | V4189 | V4190 | V4191 | V4192 | V4193 | V4194 | V4195 | V4196 | V4197 | V4198 | V4199 | V4200 | V4201 | V4202 | V4203 | V4204 | V4205 | V4206 | V4207 | V4208 | V4209 | V4210 | V4211 | V4212 | V4213 | V4214 | V4215 | V4216 | V4217 | V4218 | V4219 | V4220 | V4221 | V4222 | V4223 | V4224 | V4225 | V4226 | V4227 | V4228 | V4229 | V4230 | V4231 | V4232 | V4233 | V4234 | V4235 | V4236 | V4237 | V4237A | V4238 | V4239 | V4240 | V4241 | V4242 | V4243 | V4244 | V4245 | V4246A | V4246B | V4246C | V4246D | V4246E | V4246F | V4246G | V4246H | V4247 | V4248 | V4249 | V4250 | V4251 | V4252 | V4252A | V4252B | V4253 | V4254 | V4255 | V4256 | V4257 | V4258 | V4259 | V4260 | V4261 | V4262 | V4263 | V4264 | V4265 | V4266 | V4267 | V4268 | V4269 | V4270 | V4271 | V4272 | V4273 | V4274 | V4275 | V4276 | V4277 | V4277A | V4277B | V4277C | V4277D | V4277E | V4278 | V4279 | V4280 | V4281 | V4282A | V4282B | V4282C | V4283 | V4284 | V4285A | V4286 | V4287 | V4288 | V4289 | V4290 | V4291 | V4292 | V4293 | V4294 | V4295 | V4296 | V4297 | V4298 | V4299 | V4300 | V4301 | V4302 | V4303 | V4304 | V4305 | V4306 | V4307 | V4308 | V4309 | V4310 | V4311 | V4312 | V4313 | V4314 | V4315 | V4316 | V4317 | V4318 | V4319 | V4320 | V4321 | V4322 | V4323 | V4324 | V4325 | V4326 | V4327 | V4328 | V4329 | V4330 | V4331 | V4332 | V4333 | V4334 | V4335 | V4336 | V4337 | V4338 | V4339 | V4340 | V4341 | V4342 | V4343 | V4344 | V4345 | V4346 | V4347 | V4348 | V4349 | V4350 | V4351 | V4352 | V4353 | V4354 | V4355 | V4356 | V4357 | V4357A | V4357B | V4358 | V4359 | V4360 | V4361 | V4362 | V4363 | V4364 | V4365 | V4366 | V4367 | V4368 | V4369 | V4370 | V4371 | V4372 | V4373 | V4374 | V4375 | V4376 | V4377 | V4378 | V4379 | V4380 | V4381 | V4382 | V4383 | V4384 | V4385 | V4386A | V4387 | V4388 | V4389 | V4390 | V4391 | V4392 | V4393 | V4394 | V4395 | V4396 | V4397 | V4398 | V4399 | V4400 | V4401 | V4402 | V4403 | V4404 | V4405 | V4406 | V4407 | V4408 | V4409 | V4410 | V4411 | V4412 | V4413 | V4414 | V4415 | V4416 | V4417 | V4418 | V4419 | V4420 | V4421 | V4422 | V4423 | V4424 | V4425 | V4426 | V4427 | V4428 | V4429 | V4430 | V4431 | V4432 | V4433 | V4434 | V4435 | V4436 | V4437 | V4438 | V4439 | V4440 | V4441 | V4442 | V4443 | V4444 | V4445 | V4446 | V4447 | V4448 | V4449 | V4450 | V4451 | V4452 | V4453 | V4454 | V4455 | V4456 | V4457 | V4458 | V4459 | V4460 | V4461 | V4462 | V4463 | V4464 | V4465 | V4466 | V4467 | V4468 | V4469 | V4470 | V4471 | V4472 | V4473 | V4474 | V4475 | V4476 | V4477 | V4478 | V4479 | V4480 | V4481A | V4481B | V4482 | V4482A | V4482B | V4483 | V4484 | V4485 | V4485A | V4486 | V4487 | V4488 | V4489 | V4490 | V4491 | V4492 | V4493 | V4494 | V4495 | V4496 | V4497 | V4498 | V4499 | V4500 | V4501 | V4502 | V4503 | V4504 | V4505 | V4506 | V4507 | V4508 | V4509 | V4510 | V4511 | V4512 | V4513 | V4514 | V4515 | V4516 | V4517 | V4518 | V4519 | V4520 | V4522 | V4522A | V4522B | V4522C | V4522D | V4522E | V4522F | V4522G | V4522H | V4522I | V4523 | V4524 | V4525 | V4526 | V4526AA | V4526A | V4526B | V4526C | V4526D | V4526E | V4526F | V4526G | V4526H | V4526HA1 | V4526HA2 | V4526HA3 | V4526HA4 | V4526HA5 | V4526HA6 | V4526HA7 | V4526HA8 | V4526HA9 | V4526H3A | V4526H3B | V4526H4 | V4526H5 | V4526H6 | V4526H7 | V4526H9 | V4526H10 | V4527 | SERIES_IWEIGHT | V4528 | V4529 | WGTVICCY | HELD | V4531 | V4532   | SERIES_WEIGHT | INCREPWGT1 | INCREPWGT2 | INCREPWGT3 | INCREPWGT4 | INCREPWGT5 | INCREPWGT6 | INCREPWGT7 | INCREPWGT8 | INCREPWGT9 | INCREPWGT10 | INCREPWGT11 | INCREPWGT12 | INCREPWGT13 | INCREPWGT14 | INCREPWGT15 | INCREPWGT16 | INCREPWGT17 | INCREPWGT18 | INCREPWGT19 | INCREPWGT20 | INCREPWGT21 | INCREPWGT22 | INCREPWGT23 | INCREPWGT24 | INCREPWGT25 | INCREPWGT26 | INCREPWGT27 | INCREPWGT28 | INCREPWGT29 | INCREPWGT30 | INCREPWGT31 | INCREPWGT32 | INCREPWGT33 | INCREPWGT34 | INCREPWGT35 | INCREPWGT36 | INCREPWGT37 | INCREPWGT38 | INCREPWGT39 | INCREPWGT40 | INCREPWGT41 | INCREPWGT42 | INCREPWGT43 | INCREPWGT44 | INCREPWGT45 | INCREPWGT46 | INCREPWGT47 | INCREPWGT48 | INCREPWGT49 | INCREPWGT50 | INCREPWGT51 | INCREPWGT52 | INCREPWGT53 | INCREPWGT54 | INCREPWGT55 | INCREPWGT56 | INCREPWGT57 | INCREPWGT58 | INCREPWGT59 | INCREPWGT60 | INCREPWGT61 | INCREPWGT62 | INCREPWGT63 | INCREPWGT64 | INCREPWGT65 | INCREPWGT66 | INCREPWGT67 | INCREPWGT68 | INCREPWGT69 | INCREPWGT70 | INCREPWGT71 | INCREPWGT72 | INCREPWGT73 | INCREPWGT74 | INCREPWGT75 | INCREPWGT76 | INCREPWGT77 | INCREPWGT78 | INCREPWGT79 | INCREPWGT80 | INCREPWGT81 | INCREPWGT82 | INCREPWGT83 | INCREPWGT84 | INCREPWGT85 | INCREPWGT86 | INCREPWGT87 | INCREPWGT88 | INCREPWGT89 | INCREPWGT90 | INCREPWGT91 | INCREPWGT92 | INCREPWGT93 | INCREPWGT94 | INCREPWGT95 | INCREPWGT96 | INCREPWGT97 | INCREPWGT98 | INCREPWGT99 | INCREPWGT100 | INCREPWGT101 | INCREPWGT102 | INCREPWGT103 | INCREPWGT104 | INCREPWGT105 | INCREPWGT106 | INCREPWGT107 | INCREPWGT108 | INCREPWGT109 | INCREPWGT110 | INCREPWGT111 | INCREPWGT112 | INCREPWGT113 | INCREPWGT114 | INCREPWGT115 | INCREPWGT116 | INCREPWGT117 | INCREPWGT118 | INCREPWGT119 | INCREPWGT120 | INCREPWGT121 | INCREPWGT122 | INCREPWGT123 | INCREPWGT124 | INCREPWGT125 | INCREPWGT126 | INCREPWGT127 | INCREPWGT128 | INCREPWGT129 | INCREPWGT130 | INCREPWGT131 | INCREPWGT132 | INCREPWGT133 | INCREPWGT134 | INCREPWGT135 | INCREPWGT136 | INCREPWGT137 | INCREPWGT138 | INCREPWGT139 | INCREPWGT140 | INCREPWGT141 | INCREPWGT142 | INCREPWGT143 | INCREPWGT144 | INCREPWGT145 | INCREPWGT146 | INCREPWGT147 | INCREPWGT148 | INCREPWGT149 | INCREPWGT150 | INCREPWGT151 | INCREPWGT152 | INCREPWGT153 | INCREPWGT154 | INCREPWGT155 | INCREPWGT156 | INCREPWGT157 | INCREPWGT158 | INCREPWGT159 | INCREPWGT160 | VICREPWGT1 | VICREPWGT2 | VICREPWGT3 | VICREPWGT4 | VICREPWGT5 | VICREPWGT6 | VICREPWGT7 | VICREPWGT8 | VICREPWGT9 | VICREPWGT10 | VICREPWGT11 | VICREPWGT12 | VICREPWGT13 | VICREPWGT14 | VICREPWGT15 | VICREPWGT16 | VICREPWGT17 | VICREPWGT18 | VICREPWGT19 | VICREPWGT20 | VICREPWGT21 | VICREPWGT22 | VICREPWGT23 | VICREPWGT24 | VICREPWGT25 | VICREPWGT26 | VICREPWGT27 | VICREPWGT28 | VICREPWGT29 | VICREPWGT30 | VICREPWGT31 | VICREPWGT32 | VICREPWGT33 | VICREPWGT34 | VICREPWGT35 | VICREPWGT36 | VICREPWGT37 | VICREPWGT38 | VICREPWGT39 | VICREPWGT40 | VICREPWGT41 | VICREPWGT42 | VICREPWGT43 | VICREPWGT44 | VICREPWGT45 | VICREPWGT46 | VICREPWGT47 | VICREPWGT48 | VICREPWGT49 | VICREPWGT50 | VICREPWGT51 | VICREPWGT52 | VICREPWGT53 | VICREPWGT54 | VICREPWGT55 | VICREPWGT56 | VICREPWGT57 | VICREPWGT58 | VICREPWGT59 | VICREPWGT60 | VICREPWGT61 | VICREPWGT62 | VICREPWGT63 | VICREPWGT64 | VICREPWGT65 | VICREPWGT66 | VICREPWGT67 | VICREPWGT68 | VICREPWGT69 | VICREPWGT70 | VICREPWGT71 | VICREPWGT72 | VICREPWGT73 | VICREPWGT74 | VICREPWGT75 | VICREPWGT76 | VICREPWGT77 | VICREPWGT78 | VICREPWGT79 | VICREPWGT80 | VICREPWGT81 | VICREPWGT82 | VICREPWGT83 | VICREPWGT84 | VICREPWGT85 | VICREPWGT86 | VICREPWGT87 | VICREPWGT88 | VICREPWGT89 | VICREPWGT90 | VICREPWGT91 | VICREPWGT92 | VICREPWGT93 | VICREPWGT94 | VICREPWGT95 | VICREPWGT96 | VICREPWGT97 | VICREPWGT98 | VICREPWGT99 | VICREPWGT100 | VICREPWGT101 | VICREPWGT102 | VICREPWGT103 | VICREPWGT104 | VICREPWGT105 | VICREPWGT106 | VICREPWGT107 | VICREPWGT108 | VICREPWGT109 | VICREPWGT110 | VICREPWGT111 | VICREPWGT112 | VICREPWGT113 | VICREPWGT114 | VICREPWGT115 | VICREPWGT116 | VICREPWGT117 | VICREPWGT118 | VICREPWGT119 | VICREPWGT120 | VICREPWGT121 | VICREPWGT122 | VICREPWGT123 | VICREPWGT124 | VICREPWGT125 | VICREPWGT126 | VICREPWGT127 | VICREPWGT128 | VICREPWGT129 | VICREPWGT130 | VICREPWGT131 | VICREPWGT132 | VICREPWGT133 | VICREPWGT134 | VICREPWGT135 | VICREPWGT136 | VICREPWGT137 | VICREPWGT138 | VICREPWGT139 | VICREPWGT140 | VICREPWGT141 | VICREPWGT142 | VICREPWGT143 | VICREPWGT144 | VICREPWGT145 | VICREPWGT146 | VICREPWGT147 | VICREPWGT148 | VICREPWGT149 | VICREPWGT150 | VICREPWGT151 | VICREPWGT152 | VICREPWGT153 | VICREPWGT154 | VICREPWGT155 | VICREPWGT156 | VICREPWGT157 | VICREPWGT158 | VICREPWGT159 | VICREPWGT160\n",
       "4     | 2016.1 | 2620015796913004292888136 | 262001579691300429288813601 | 22    | 161   | 26    | 20015796913004292888 | 1     | 36    | 1     | 1     | 36    | 1     | 9     | 11    | 2015  | 1     | 1     | 9     | 9     | 2      | 3     | 9     | 2      | 1     | 2     | 1     | 9     | 2     | 9     | 9     | 9     | 9     | 9     | 9     | 9     | 9     | 9     | 9     | 9     | 3     | 9      | 9      | 9      | 9     | 1     | 2     | 2     | 9     | 9     | 9     | 9     | 9     | 9     | 9     | 9     | 9     | 9     | 9     | 9     | 9     | 9     | 9     | 9     | 9     | 9     | 9     | 9     | 9     | 9     | 9     | 9     | 9     | 9     | 9     | 9     | 9     | 9     | 9     | 9     | 9     | 9     | 9     | 9     | 9     | 9     | 9     | 9     | 9     | 9     | 9     | 9     | 9     | 9     | 9     | 9     | 9     | 9     | 9     | 9     | 9     | 9     | 9     | 9     | 9     | 9     | 9     | 9     | 9     | 9     | 9     | 9     | 9     | 9     | 9     | 9     | 9     | 9     | 9     | 9     | 9     | 9     | 9     | 9     | 9     | 9     | 99    | 99    | 99    | 9     | 9     | 9     | 9     | 9     | 9     | 9     | 9     | 9     | 9     | 9     | 999   | 9     | 99999 | 9       | 9       | 9       | 9       | 9       | 9       | 9       | 9       | 9       | 9        | 9        | 9        | 9        | 9        | 9        | 9        | 9        | 9        | 9        | 9        | 9        | 9        | 9        | 9        | 9        | 9        | 9        | 9        | 9        | 9        | 9        | 9        | 9        | 9        | 9        | 9      | 9     | 9     | 9     | 9     | 9     | 9     | 9     | 9     | 9     | 9     | 9     | 9     | 9     | 9     | 9     | 9     | 9     | 9     | 9     | 9     | 9     | 9     | 9     | 9     | 9     | 9     | 9     | 9     | 9     | 9     | 9     | 9     | 9     | 9     | 9     | 9     | 9     | 9     | 9     | 9     | 9     | 9     | 9     | 9     | 9     | 9     | 9     | 9     | 9     | 9     | 9     | 9     | 9     | 9     | 9     | 9     | 9     | 9     | 9     | 9     | 9     | 9     | 9     | 99    | 99    | 99    | 99    | 9     | 9     | 1     | 3     | 1     | 0     | 0     | 1     | 0     | 0     | 0     | 0     | 0     | 0     | 0     | 0     | 9     | 9     | 9     | 9     | 9     | 9     | 9     | 9     | 9     | 9     | 9     | 9     | 9     | 9     | 9      | 9     | 9     | 9     | 9     | 9     | 9     | 9     | 99    | 9      | 9      | 9      | 9      | 9      | 9      | 9      | 9      | 9     | 99    | 9     | 9     | 9     | 9     | 9      | 9      | 9     | 9     | 9     | 9     | 9     | 9     | 9     | 9     | 9     | 9     | 9     | 9     | 9     | 9     | 9     | 9     | 9     | 9     | 9     | 9     | 9     | 9     | 9     | 9     | 9     | 9      | 9      | 9      | 9      | 9      | 9     | 9     | 9     | 9     | 9      | 9      | 9      | 9     | 9     | 9      | 9     | 1     | 1     | 9     | 9     | 9     | 9     | 9     | 9     | 9     | 9     | 9     | 9     | 9     | 9     | 9     | 9     | 9     | 9     | 9     | 9     | 9     | 9     | 9     | 9     | 99    | 99    | 99    | 9     | 9     | 9     | 9     | 99    | 99    | 99    | 0     | 1     | 0     | 0     | 0     | 0     | 0     | 0     | 0     | 0     | 0     | 0     | 0     | 0     | 0     | 0     | 0     | 0     | 0     | 0     | 0     | 0     | 0     | 1     | 0     | 0     | 0     | 0     | 0     | 0     | 1     | 99    | 99    | 99    | 9     | 9     | 2     | 999    | 999    | 9     | 9     | 2     | 99    | 99    | 99    | 400   | 1     | 0     | 1     | 0     | 0     | 0     | 0     | 0     | 0     | 3     | 99999 | 9     | 9     | 9     | 9     | 9     | 9     | 9     | 9     | 9     | 99999 | 2      | 2     | 9     | 99999 | 99999 | 9     | 9     | 9     | 9     | 9     | 9     | 9     | 9     | 2     | 9     | 1     | 0     | 0     | 0     | 0     | 0     | 1     | 0     | 0     | 0     | 0     | 0     | 0     | 0     | 0     | 0     | 0     | 0     | 1     | 0     | 0     | 6     | 9     | 9     | 9     | 9     | 9     | 9     | 9     | 9     | 9     | 9     | 9     | 9     | 9     | 9     | 99    | 9     | 9     | 9     | 9     | 9     | 9     | 9     | 9     | 9     | 9     | 9     | 9     | 9     | 9     | 9     | 9     | 9     | 9     | 9     | 9     | 9     | 9     | 9     | 9     | 9     | 9     | 9     | 9     | 9     | 2     | 9     | 9     | 9     | 9     | 9     | 9     | 9     | 9     | 9     | 9     | 9     | 1     | 9     | 9      | 9      | 9     | 99     | 99     | 9     | 9     | 9     | 9      | 9     | 999   | 9     | 99999 | 1     | 0     | 0     | 0     | 0     | 0     | 1     | 0     | 999   | 9     | 99999 | 2     | 999   | 99    | 999   | 9     | 99    | 99    | 99    | 99    | 9     | 9     | 9     | 9     | 9     | 9     | 9     | 9     | 9     | 9     | 9     | 9     | 9      | 9      | 9      | 9      | 9      | 9      | 9      | 9      | 9      | 9     | 9     | 9     | 99    | 2       | 9      | 9      | 9      | 9      | 9      | 9      | 9      | 9      | 9        | 9        | 9        | 9        | 9        | 9        | 9        | 9        | 9        | 1        | 2        | 2       | 2       | 2       | 2       | 1       | 2        | -2    | 2592.04        | 32    | 32    | 2592.04  | 0    | 2015  | 2592.04 | 2592.04       | 2587.33    | 2619.05    | 2601.03    | 761.204    | 2529.52    | 4366.99    | 778.974    | 2524.85    | 4353.69    | 2569.38     | 768.396     | 2610.07     | 2541.38     | 2574.42     | 4307.83     | 794.643     | 4309.31     | 781.483     | 4447.33     | 2587.03     | 2596.9      | 2577.39     | 2631.7      | 4383.61     | 2644.14     | 760.696     | 4453.13     | 2575.86     | 739.573     | 2557.66     | 4475.11     | 2575.2      | 2595.22     | 2563.57     | 784.561     | 4444.77     | 755.986     | 4374.04     | 765.523     | 2553.29     | 2641        | 2668.67     | 2687.71     | 4296.57     | 2638.3      | 749.035     | 4508.19     | 2611.76     | 764.496     | 2525.22     | 4430.26     | 2594.05     | 2640.82     | 2664.91     | 789.847     | 4313.07     | 738.599     | 4454.5      | 758.52      | 2563.28     | 2580.44     | 2532.05     | 2540.94     | 761.791     | 2562.72     | 4497.76     | 778.589     | 2523.02     | 4333.42     | 760.255     | 4277.4      | 764.655     | 4545.25     | 2503.83     | 4465.31     | 797.358     | 4399.61     | 748.286     | 2661.55     | 765.197     | 4469.03     | 2655.5      | 2632.09     | 4419.06     | 2605.79     | 743.741     | 4440.96     | 2549.42     | 749.837     | 4510.61     | 773.003     | 2577.9      | 2602.86     | 2556.66     | 4305.82     | 770.539     | 2650.18     | 4252.52     | 2646.88     | 749.417      | 2627.44      | 2562.15      | 2579.05      | 778.452      | 2611.48      | 4456.77      | 772.52       | 2567.54      | 4344.4       | 2546.24      | 796.207      | 2586.94      | 2593.27      | 2574.56      | 4423.35      | 737.538      | 4476.67      | 744.58       | 4411.38      | 2535.25      | 2586.28      | 2615.9       | 2529.06      | 756.522      | 2639.66      | 4524.31      | 739.779      | 2589.45      | 4445.11      | 2563.19      | 793.181      | 2615.62      | 2593.46      | 2575.42      | 4364.52      | 776.455      | 4274.08      | 729.263      | 4520.62      | 2555.99      | 2563.68      | 2610.45      | 2662.69      | 4359.93      | 2652.3       | 753.889      | 4388.79      | 2569.21      | 769.273      | 2606.94      | 4431.01      | 2553.8       | 2662         | 2660.8       | 759.164      | 4279.85      | 779.196      | 4317.3       | 779.876      | 2671.73      | 2587.33    | 2619.05    | 2601.03    | 761.204    | 2529.52    | 4366.99    | 778.974    | 2524.85    | 4353.69    | 2569.38     | 768.396     | 2610.07     | 2541.38     | 2574.42     | 4307.83     | 794.643     | 4309.31     | 781.483     | 4447.33     | 2587.03     | 2596.9      | 2577.39     | 2631.7      | 4383.61     | 2644.14     | 760.696     | 4453.13     | 2575.86     | 739.573     | 2557.66     | 4475.11     | 2575.2      | 2595.22     | 2563.57     | 784.561     | 4444.77     | 755.986     | 4374.04     | 765.523     | 2553.29     | 2641        | 2668.67     | 2687.71     | 4296.57     | 2638.3      | 749.035     | 4508.19     | 2611.76     | 764.496     | 2525.22     | 4430.26     | 2594.05     | 2640.82     | 2664.91     | 789.847     | 4313.07     | 738.599     | 4454.5      | 758.52      | 2563.28     | 2580.44     | 2532.05     | 2540.94     | 761.791     | 2562.72     | 4497.76     | 778.589     | 2523.02     | 4333.42     | 760.255     | 4277.4      | 764.655     | 4545.25     | 2503.83     | 4465.31     | 797.358     | 4399.61     | 748.286     | 2661.55     | 765.197     | 4469.03     | 2655.5      | 2632.09     | 4419.06     | 2605.79     | 743.741     | 4440.96     | 2549.42     | 749.837     | 4510.61     | 773.003     | 2577.9      | 2602.86     | 2556.66     | 4305.82     | 770.539     | 2650.18     | 4252.52     | 2646.88     | 749.417      | 2627.44      | 2562.15      | 2579.05      | 778.452      | 2611.48      | 4456.77      | 772.52       | 2567.54      | 4344.4       | 2546.24      | 796.207      | 2586.94      | 2593.27      | 2574.56      | 4423.35      | 737.538      | 4476.67      | 744.58       | 4411.38      | 2535.25      | 2586.28      | 2615.9       | 2529.06      | 756.522      | 2639.66      | 4524.31      | 739.779      | 2589.45      | 4445.11      | 2563.19      | 793.181      | 2615.62      | 2593.46      | 2575.42      | 4364.52      | 776.455      | 4274.08      | 729.263      | 4520.62      | 2555.99      | 2563.68      | 2610.45      | 2662.69      | 4359.93      | 2652.3       | 753.889      | 4388.79      | 2569.21      | 769.273      | 2606.94      | 4431.01      | 2553.8       | 2662         | 2660.8       | 759.164      | 4279.85      | 779.196      | 4317.3       | 779.876      | 2671.73\n",
       "4     | 2016.1 | 2620015796913004292888136 | 262001579691300429288813601 | 22    | 161   | 26    | 20015796913004292888 | 1     | 36    | 1     | 1     | 37    | 1     | 9     | 12    | 2015  | 1     | 1     | 9     | 9     | 3      | 3     | 9     | 2      | 1     | 2     | 2     | 1     | 1     | 1     | 0     | 0     | 0     | 0     | 1     | 0     | 0     | 0     | 0     | 0     | 99    | 9      | 9      | 9      | 9     | 1     | 2     | 2     | 9     | 9     | 9     | 9     | 9     | 9     | 9     | 9     | 9     | 9     | 9     | 9     | 9     | 9     | 9     | 9     | 9     | 9     | 9     | 9     | 9     | 9     | 9     | 9     | 9     | 9     | 9     | 9     | 9     | 9     | 9     | 9     | 9     | 9     | 9     | 9     | 9     | 9     | 9     | 9     | 9     | 9     | 9     | 9     | 9     | 9     | 9     | 9     | 9     | 9     | 9     | 9     | 9     | 9     | 9     | 9     | 9     | 9     | 9     | 9     | 9     | 9     | 9     | 9     | 9     | 9     | 9     | 9     | 9     | 9     | 9     | 9     | 9     | 9     | 9     | 9     | 9     | 9     | 99    | 99    | 99    | 9     | 9     | 9     | 9     | 9     | 9     | 9     | 9     | 9     | 9     | 9     | 999   | 9     | 99999 | 9       | 9       | 9       | 9       | 9       | 9       | 9       | 9       | 9       | 9        | 9        | 9        | 9        | 9        | 9        | 9        | 9        | 9        | 9        | 9        | 9        | 9        | 9        | 9        | 9        | 9        | 9        | 9        | 9        | 9        | 9        | 9        | 9        | 9        | 9        | 9      | 9     | 9     | 9     | 9     | 9     | 9     | 9     | 9     | 9     | 9     | 9     | 9     | 9     | 9     | 9     | 9     | 9     | 9     | 9     | 9     | 9     | 9     | 9     | 9     | 9     | 9     | 9     | 9     | 9     | 9     | 9     | 9     | 9     | 9     | 9     | 9     | 9     | 9     | 9     | 9     | 9     | 9     | 9     | 9     | 9     | 9     | 9     | 9     | 9     | 9     | 9     | 9     | 9     | 9     | 9     | 9     | 9     | 9     | 9     | 9     | 9     | 9     | 9     | 99    | 99    | 99    | 99    | 9     | 9     | 2     | 9     | 9     | 9     | 9     | 9     | 9     | 9     | 9     | 9     | 9     | 9     | 9     | 9     | 9     | 9     | 9     | 9     | 9     | 9     | 9     | 9     | 9     | 9     | 9     | 9     | 9     | 9     | 9      | 9     | 9     | 9     | 9     | 9     | 9     | 9     | 99    | 9      | 9      | 9      | 9      | 9      | 9      | 9      | 9      | 9     | 99    | 9     | 9     | 9     | 9     | 9      | 9      | 9     | 9     | 9     | 9     | 9     | 9     | 9     | 9     | 9     | 9     | 9     | 9     | 9     | 9     | 9     | 9     | 9     | 9     | 9     | 9     | 9     | 9     | 9     | 9     | 9     | 9      | 9      | 9      | 9      | 9      | 9     | 9     | 9     | 9     | 9      | 9      | 9      | 9     | 9     | 9      | 9     | 2     | 2     | 3     | 2     | 9     | 9     | 9     | 9     | 9     | 9     | 9     | 9     | 9     | 9     | 9     | 9     | 9     | 9     | 9     | 9     | 9     | 9     | 9     | 9     | 99    | 99    | 99    | 9     | 9     | 9     | 9     | 99    | 99    | 99    | 99999 | 9     | 9     | 9     | 9     | 9     | 9     | 9     | 9     | 9     | 9     | 9     | 9     | 9     | 9     | 9     | 9     | 9     | 9     | 9     | 9     | 9     | 9     | 9     | 9     | 9     | 9     | 9     | 9     | 9     | 9     | 99    | 99    | 99    | 9     | 9     | 9     | 999    | 999    | 9     | 9     | 9     | 99    | 99    | 99    | 99999 | 9     | 9     | 9     | 9     | 9     | 9     | 9     | 9     | 9     | 9     | 99999 | 9     | 9     | 9     | 9     | 9     | 9     | 9     | 9     | 9     | 99999 | 9      | 1     | 8     | 99998 | 99998 | 8     | 8     | 8     | 8     | 8     | 8     | 8     | 8     | 2     | 9     | 1     | 0     | 0     | 1     | 0     | 0     | 0     | 0     | 0     | 0     | 0     | 0     | 0     | 0     | 0     | 0     | 0     | 0     | 0     | 0     | 0     | 3     | 9     | 9     | 9     | 9     | 9     | 9     | 9     | 9     | 9     | 9     | 9     | 9     | 9     | 9     | 99    | 9     | 9     | 9     | 9     | 9     | 9     | 9     | 9     | 9     | 9     | 9     | 9     | 9     | 9     | 9     | 9     | 9     | 9     | 9     | 9     | 9     | 9     | 9     | 9     | 9     | 9     | 9     | 9     | 9     | 2     | 9     | 9     | 9     | 9     | 9     | 9     | 9     | 9     | 9     | 9     | 11    | 1     | 9     | 9      | 9      | 9     | 99     | 99     | 9     | 9     | 9     | 9      | 9     | 999   | 9     | 99999 | 1     | 0     | 0     | 0     | 0     | 0     | 1     | 0     | 999   | 9     | 99999 | 2     | 999   | 99    | 999   | 9     | 99    | 99    | 99    | 99    | 9     | 9     | 9     | 9     | 9     | 9     | 9     | 9     | 9     | 9     | 9     | 9     | 9      | 9      | 9      | 9      | 9      | 9      | 9      | 9      | 9      | 9     | 9     | 9     | 99    | 2       | 9      | 9      | 9      | 9      | 9      | 9      | 9      | 9      | 9        | 9        | 9        | 9        | 9        | 9        | 9        | 9        | 9        | 1        | 2        | 2       | 2       | 2       | 2       | 1       | 2        | -2    | 2592.04        | 33    | 33    | 2592.04  | 0    | 2015  | 2592.04 | 2592.04       | 2587.33    | 2619.05    | 2601.03    | 761.204    | 2529.52    | 4366.99    | 778.974    | 2524.85    | 4353.69    | 2569.38     | 768.396     | 2610.07     | 2541.38     | 2574.42     | 4307.83     | 794.643     | 4309.31     | 781.483     | 4447.33     | 2587.03     | 2596.9      | 2577.39     | 2631.7      | 4383.61     | 2644.14     | 760.696     | 4453.13     | 2575.86     | 739.573     | 2557.66     | 4475.11     | 2575.2      | 2595.22     | 2563.57     | 784.561     | 4444.77     | 755.986     | 4374.04     | 765.523     | 2553.29     | 2641        | 2668.67     | 2687.71     | 4296.57     | 2638.3      | 749.035     | 4508.19     | 2611.76     | 764.496     | 2525.22     | 4430.26     | 2594.05     | 2640.82     | 2664.91     | 789.847     | 4313.07     | 738.599     | 4454.5      | 758.52      | 2563.28     | 2580.44     | 2532.05     | 2540.94     | 761.791     | 2562.72     | 4497.76     | 778.589     | 2523.02     | 4333.42     | 760.255     | 4277.4      | 764.655     | 4545.25     | 2503.83     | 4465.31     | 797.358     | 4399.61     | 748.286     | 2661.55     | 765.197     | 4469.03     | 2655.5      | 2632.09     | 4419.06     | 2605.79     | 743.741     | 4440.96     | 2549.42     | 749.837     | 4510.61     | 773.003     | 2577.9      | 2602.86     | 2556.66     | 4305.82     | 770.539     | 2650.18     | 4252.52     | 2646.88     | 749.417      | 2627.44      | 2562.15      | 2579.05      | 778.452      | 2611.48      | 4456.77      | 772.52       | 2567.54      | 4344.4       | 2546.24      | 796.207      | 2586.94      | 2593.27      | 2574.56      | 4423.35      | 737.538      | 4476.67      | 744.58       | 4411.38      | 2535.25      | 2586.28      | 2615.9       | 2529.06      | 756.522      | 2639.66      | 4524.31      | 739.779      | 2589.45      | 4445.11      | 2563.19      | 793.181      | 2615.62      | 2593.46      | 2575.42      | 4364.52      | 776.455      | 4274.08      | 729.263      | 4520.62      | 2555.99      | 2563.68      | 2610.45      | 2662.69      | 4359.93      | 2652.3       | 753.889      | 4388.79      | 2569.21      | 769.273      | 2606.94      | 4431.01      | 2553.8       | 2662         | 2660.8       | 759.164      | 4279.85      | 779.196      | 4317.3       | 779.876      | 2671.73      | 2587.33    | 2619.05    | 2601.03    | 761.204    | 2529.52    | 4366.99    | 778.974    | 2524.85    | 4353.69    | 2569.38     | 768.396     | 2610.07     | 2541.38     | 2574.42     | 4307.83     | 794.643     | 4309.31     | 781.483     | 4447.33     | 2587.03     | 2596.9      | 2577.39     | 2631.7      | 4383.61     | 2644.14     | 760.696     | 4453.13     | 2575.86     | 739.573     | 2557.66     | 4475.11     | 2575.2      | 2595.22     | 2563.57     | 784.561     | 4444.77     | 755.986     | 4374.04     | 765.523     | 2553.29     | 2641        | 2668.67     | 2687.71     | 4296.57     | 2638.3      | 749.035     | 4508.19     | 2611.76     | 764.496     | 2525.22     | 4430.26     | 2594.05     | 2640.82     | 2664.91     | 789.847     | 4313.07     | 738.599     | 4454.5      | 758.52      | 2563.28     | 2580.44     | 2532.05     | 2540.94     | 761.791     | 2562.72     | 4497.76     | 778.589     | 2523.02     | 4333.42     | 760.255     | 4277.4      | 764.655     | 4545.25     | 2503.83     | 4465.31     | 797.358     | 4399.61     | 748.286     | 2661.55     | 765.197     | 4469.03     | 2655.5      | 2632.09     | 4419.06     | 2605.79     | 743.741     | 4440.96     | 2549.42     | 749.837     | 4510.61     | 773.003     | 2577.9      | 2602.86     | 2556.66     | 4305.82     | 770.539     | 2650.18     | 4252.52     | 2646.88     | 749.417      | 2627.44      | 2562.15      | 2579.05      | 778.452      | 2611.48      | 4456.77      | 772.52       | 2567.54      | 4344.4       | 2546.24      | 796.207      | 2586.94      | 2593.27      | 2574.56      | 4423.35      | 737.538      | 4476.67      | 744.58       | 4411.38      | 2535.25      | 2586.28      | 2615.9       | 2529.06      | 756.522      | 2639.66      | 4524.31      | 739.779      | 2589.45      | 4445.11      | 2563.19      | 793.181      | 2615.62      | 2593.46      | 2575.42      | 4364.52      | 776.455      | 4274.08      | 729.263      | 4520.62      | 2555.99      | 2563.68      | 2610.45      | 2662.69      | 4359.93      | 2652.3       | 753.889      | 4388.79      | 2569.21      | 769.273      | 2606.94      | 4431.01      | 2553.8       | 2662         | 2660.8       | 759.164      | 4279.85      | 779.196      | 4317.3       | 779.876      | 2671.73\n",
       "4     | 2016.1 | 2620070583454793290442215 | 262007058345479329044221501 | 63    | 161   | 26    | 20070583454793290442 | 2     | 15    | 1     | 1     | 37    | 1     | 9     | 11    | 2015  | 2     | 1     | 9     | 9     | 3      | 3     | 9     | 2      | 1     | 2     | 2     | 1     | 2     | 9     | 9     | 9     | 9     | 9     | 9     | 9     | 9     | 9     | 9     | 9     | 3     | 9      | 9      | 9      | 9     | 1     | 1     | 1     | 2     | 2     | 2     | 2     | 9     | 9     | 9     | 9     | 9     | 9     | 9     | 9     | 9     | 2     | 2     | 2     | 2     | 2     | 2     | 1     | 0     | 1     | 0     | 0     | 0     | 0     | 0     | 0     | 0     | 1     | 0     | 9     | 9     | 9     | 9     | 9     | 9     | 9     | 9     | 9     | 9     | 9     | 9     | 9     | 9     | 9     | 9     | 9     | 9     | 9     | 9     | 9     | 9     | 9     | 9     | 9     | 9     | 9     | 9     | 9     | 9     | 9     | 9     | 9     | 9     | 9     | 9     | 9     | 9     | 9     | 9     | 9     | 9     | 9     | 9     | 9     | 9     | 9     | 99    | 99    | 99    | 9     | 9     | 9     | 9     | 9     | 9     | 9     | 9     | 9     | 9     | 9     | 999   | 9     | 99999 | 9       | 9       | 9       | 9       | 9       | 9       | 9       | 9       | 9       | 9        | 9        | 9        | 9        | 9        | 9        | 9        | 9        | 9        | 9        | 9        | 9        | 9        | 9        | 9        | 9        | 9        | 9        | 9        | 9        | 9        | 9        | 9        | 9        | 9        | 9        | 9      | 1     | 9     | 1     | 0     | 0     | 0     | 0     | 0     | 0     | 0     | 0     | 1     | 0     | 0     | 0     | 0     | 0     | 0     | 0     | 0     | 9     | 9     | 9     | 9     | 9     | 1     | 1     | 0     | 1     | 0     | 1     | 0     | 0     | 0     | 2     | 9     | 9     | 9     | 9     | 9     | 9     | 9     | 9     | 1     | 1     | 1     | 0     | 1     | 0     | 0     | 0     | 0     | 0     | 2     | 9     | 9     | 9     | 9     | 9     | 9     | 9     | 9     | 2     | 99    | 99    | 99    | 99    | 2     | 9     | 9     | 9     | 9     | 9     | 9     | 9     | 9     | 9     | 9     | 9     | 9     | 9     | 9     | 9     | 9     | 9     | 9     | 9     | 9     | 9     | 9     | 9     | 9     | 9     | 1     | 9     | 1     | 4     | 2      | 3     | 3     | 9     | 2     | 3     | 9     | 9     | 99    | 1      | 0      | 1      | 0      | 0      | 0      | 0      | 0      | 3     | 99    | 9     | 9     | 9     | 9     | 9      | 9      | 9     | 9     | 9     | 9     | 9     | 9     | 9     | 9     | 9     | 9     | 9     | 9     | 9     | 9     | 9     | 9     | 9     | 9     | 9     | 9     | 9     | 9     | 9     | 9     | 9     | 9      | 9      | 9      | 9      | 9      | 9     | 9     | 9     | 9     | 9      | 9      | 9      | 9     | 9     | 9      | 9     | 2     | 2     | 1     | 1     | 1     | 0     | 0     | 0     | 0     | 0     | 0     | 0     | 0     | 0     | 0     | 0     | 0     | 0     | 0     | 0     | 0     | 1     | 0     | 2     | 40    | 99    | 99    | 2     | 9     | 9     | 2     | 99    | 99    | 99    | 99999 | 9     | 9     | 9     | 9     | 9     | 9     | 9     | 9     | 9     | 9     | 9     | 9     | 9     | 9     | 9     | 9     | 9     | 9     | 9     | 9     | 9     | 9     | 9     | 9     | 9     | 9     | 9     | 9     | 9     | 9     | 99    | 99    | 99    | 9     | 9     | 9     | 999    | 999    | 9     | 9     | 9     | 99    | 99    | 99    | 99999 | 9     | 9     | 9     | 9     | 9     | 9     | 9     | 9     | 9     | 9     | 99999 | 9     | 9     | 9     | 9     | 9     | 9     | 9     | 9     | 9     | 99999 | 9      | 2     | 9     | 99999 | 99999 | 9     | 9     | 9     | 9     | 9     | 9     | 9     | 9     | 1     | 1     | 9     | 9     | 9     | 9     | 9     | 9     | 9     | 9     | 9     | 9     | 9     | 9     | 9     | 9     | 9     | 9     | 9     | 9     | 9     | 9     | 9     | 99    | 1     | 1     | 0     | 0     | 0     | 1     | 0     | 0     | 0     | 1     | 1     | 0     | 0     | 0     | 5     | 1     | 2     | 1     | 1     | 1     | 0     | 0     | 0     | 0     | 0     | 0     | 0     | 0     | 2     | 9     | 9     | 9     | 9     | 9     | 9     | 9     | 9     | 9     | 9     | 9     | 9     | 9     | 1     | 3     | 2     | 9     | 2     | 9     | 9     | 9     | 9     | 9     | 9     | 9     | 2     | 9     | 1     | 9     | 9      | 9      | 9     | 99     | 99     | 9     | 9     | 9     | 9      | 9     | 999   | 9     | 99999 | 1     | 0     | 0     | 0     | 0     | 0     | 1     | 0     | 999   | 9     | 99999 | 2     | 999   | 99    | 999   | 9     | 99    | 99    | 99    | 99    | 9     | 9     | 9     | 9     | 9     | 9     | 9     | 9     | 9     | 9     | 9     | 9     | 9      | 9      | 9      | 9      | 9      | 9      | 9      | 9      | 9      | 9     | 9     | 9     | 99    | 2       | 9      | 9      | 9      | 9      | 9      | 9      | 9      | 9      | 9        | 9        | 9        | 9        | 9        | 9        | 9        | 9        | 9        | 2        | 2        | 2       | 2       | 2       | 2       | 2       | 9        | -2    | 3233.21        | 39    | 59    | 3233.21  | 0    | 2015  | 3233.21 | 3233.21       | 3224.49    | 5271.12    | 3112.13    | 5080.35    | 997.587    | 5597.76    | 3314.44    | 5388.05    | 2919.59    | 964.549     | 940.77      | 3264.75     | 3426.56     | 3270.55     | 3038.28     | 5316.71     | 3219.97     | 935.508     | 965.53      | 3495.93     | 3359.82     | 5624.43     | 3209.38     | 5097.62     | 998.898     | 5767.38     | 3202.81     | 5380.03     | 3000.46     | 894.339     | 1118.36     | 3377.07     | 3290.54     | 3079.97     | 3062        | 5552.26     | 3156.77     | 949.935     | 1060.88     | 3293.58     | 3168.19     | 5461.06     | 3400.48     | 5074.81     | 971.275     | 5800.72     | 3200.58     | 5506.39     | 3211.99     | 994.21      | 949.336     | 3109.76     | 3634.57     | 3137.83     | 3438.44     | 5654.3      | 3494.37     | 961.416     | 923.328     | 3484.61     | 3182.84     | 5639.04     | 3353.26     | 5332.93     | 941.555     | 5304.03     | 3274.18     | 5350.5      | 3179.91     | 5640.32     | 3367.03     | 968.592     | 989.46      | 3184.14     | 3155.87     | 5673.77     | 3396.61     | 904.602     | 986.973     | 5462.04     | 3222.48     | 5636        | 3171        | 953.12      | 5442.5      | 932.183     | 3150.31     | 3179.74     | 3174.85     | 5490.36     | 3055.83     | 3119.63     | 3371.31     | 3175.55     | 935.77      | 3174.1      | 3224.41     | 5303.73     | 926.981     | 5724.19      | 3235.34      | 925.232      | 3222.91      | 948.764      | 6065.67      | 985.687      | 3054.3       | 994.53       | 3284.5       | 5581.14      | 5650.43      | 3318.11      | 3252.75      | 3272.75      | 3157.76      | 936.443      | 3296.68      | 5045         | 5378.16      | 3196.9       | 3032.81      | 933.237      | 3108         | 988.658      | 5096.83      | 972.925      | 3510.88      | 1001.52      | 3512.29      | 5893.78      | 5579.1       | 3152.53      | 3176.58      | 3474         | 3279.87      | 961.223      | 3236.53      | 5928.94      | 5920.23      | 3573.5       | 3218.25      | 996.952      | 3276.2       | 1024.33      | 5562.29      | 906.659      | 3087.95      | 983.35       | 3435.1       | 5501.05      | 5570.63      | 3367.96      | 2886.62      | 3230.97      | 3081.57      | 961.696      | 3373.01      | 5439.26      | 5241.99      | 3010.52      | 3224.49    | 5271.12    | 3112.13    | 5080.35    | 997.587    | 5597.76    | 3314.44    | 5388.05    | 2919.59    | 964.549     | 940.77      | 3264.75     | 3426.56     | 3270.55     | 3038.28     | 5316.71     | 3219.97     | 935.508     | 965.53      | 3495.93     | 3359.82     | 5624.43     | 3209.38     | 5097.62     | 998.898     | 5767.38     | 3202.81     | 5380.03     | 3000.46     | 894.339     | 1118.36     | 3377.07     | 3290.54     | 3079.97     | 3062        | 5552.26     | 3156.77     | 949.935     | 1060.88     | 3293.58     | 3168.19     | 5461.06     | 3400.48     | 5074.81     | 971.275     | 5800.72     | 3200.58     | 5506.39     | 3211.99     | 994.21      | 949.336     | 3109.76     | 3634.57     | 3137.83     | 3438.44     | 5654.3      | 3494.37     | 961.416     | 923.328     | 3484.61     | 3182.84     | 5639.04     | 3353.26     | 5332.93     | 941.555     | 5304.03     | 3274.18     | 5350.5      | 3179.91     | 5640.32     | 3367.03     | 968.592     | 989.46      | 3184.14     | 3155.87     | 5673.77     | 3396.61     | 904.602     | 986.973     | 5462.04     | 3222.48     | 5636        | 3171        | 953.12      | 5442.5      | 932.183     | 3150.31     | 3179.74     | 3174.85     | 5490.36     | 3055.83     | 3119.63     | 3371.31     | 3175.55     | 935.77      | 3174.1      | 3224.41     | 5303.73     | 926.981     | 5724.19      | 3235.34      | 925.232      | 3222.91      | 948.764      | 6065.67      | 985.687      | 3054.3       | 994.53       | 3284.5       | 5581.14      | 5650.43      | 3318.11      | 3252.75      | 3272.75      | 3157.76      | 936.443      | 3296.68      | 5045         | 5378.16      | 3196.9       | 3032.81      | 933.237      | 3108         | 988.658      | 5096.83      | 972.925      | 3510.88      | 1001.52      | 3512.29      | 5893.78      | 5579.1       | 3152.53      | 3176.58      | 3474         | 3279.87      | 961.223      | 3236.53      | 5928.94      | 5920.23      | 3573.5       | 3218.25      | 996.952      | 3276.2       | 1024.33      | 5562.29      | 906.659      | 3087.95      | 983.35       | 3435.1       | 5501.05      | 5570.63      | 3367.96      | 2886.62      | 3230.97      | 3081.57      | 961.696      | 3373.01      | 5439.26      | 5241.99      | 3010.52\n",
       "4     | 2016.1 | 2620078700191953294220436 | 262007870019195329422043603 | 83    | 161   | 26    | 20078700191953294220 | 4     | 36    | 2     | 3     | 36    | 1     | 9     | 10    | 2015  | 1     | 1     | 9     | 9     | 9      | 3     | 9     | 2      | 21    | 9     | 9     | 9     | 9     | 9     | 9     | 9     | 9     | 9     | 9     | 9     | 9     | 9     | 9     | 9     | 99    | 9      | 9      | 9      | 2     | 4     | 2     | 2     | 9     | 9     | 9     | 9     | 9     | 9     | 9     | 9     | 9     | 9     | 9     | 9     | 9     | 9     | 9     | 9     | 9     | 9     | 9     | 9     | 9     | 9     | 9     | 9     | 9     | 9     | 9     | 9     | 9     | 9     | 9     | 9     | 9     | 9     | 9     | 9     | 9     | 9     | 9     | 9     | 9     | 9     | 9     | 9     | 9     | 9     | 9     | 9     | 9     | 9     | 9     | 9     | 9     | 9     | 9     | 9     | 9     | 9     | 9     | 9     | 9     | 9     | 9     | 9     | 9     | 9     | 9     | 9     | 9     | 9     | 9     | 9     | 9     | 9     | 9     | 9     | 9     | 9     | 99    | 99    | 99    | 9     | 9     | 9     | 9     | 9     | 9     | 9     | 9     | 9     | 9     | 9     | 999   | 9     | 99999 | 9       | 9       | 9       | 9       | 9       | 9       | 9       | 9       | 9       | 9        | 9        | 9        | 9        | 9        | 9        | 9        | 9        | 9        | 9        | 9        | 9        | 9        | 9        | 9        | 9        | 9        | 9        | 9        | 9        | 9        | 9        | 9        | 9        | 9        | 9        | 9      | 9     | 9     | 9     | 9     | 9     | 9     | 9     | 9     | 9     | 9     | 9     | 9     | 9     | 9     | 9     | 9     | 9     | 9     | 9     | 9     | 9     | 9     | 9     | 9     | 9     | 9     | 9     | 9     | 9     | 9     | 9     | 9     | 9     | 9     | 9     | 9     | 9     | 9     | 9     | 9     | 9     | 9     | 9     | 9     | 9     | 9     | 9     | 9     | 9     | 9     | 9     | 9     | 9     | 9     | 9     | 9     | 9     | 9     | 9     | 9     | 9     | 9     | 9     | 99    | 99    | 99    | 99    | 9     | 9     | 2     | 9     | 9     | 9     | 9     | 9     | 9     | 9     | 9     | 9     | 9     | 9     | 9     | 9     | 9     | 9     | 9     | 9     | 9     | 9     | 9     | 9     | 9     | 9     | 9     | 9     | 9     | 9     | 9      | 9     | 9     | 9     | 9     | 9     | 9     | 9     | 99    | 9      | 9      | 9      | 9      | 9      | 9      | 9      | 9      | 9     | 99    | 9     | 9     | 9     | 9     | 9      | 9      | 9     | 9     | 9     | 9     | 9     | 9     | 9     | 9     | 9     | 9     | 9     | 9     | 9     | 9     | 9     | 9     | 9     | 9     | 9     | 9     | 9     | 9     | 9     | 9     | 9     | 9      | 9      | 9      | 9      | 9      | 9     | 9     | 9     | 9     | 9      | 9      | 9      | 9     | 9     | 9      | 9     | 1     | 1     | 9     | 9     | 9     | 9     | 9     | 9     | 9     | 9     | 9     | 9     | 9     | 9     | 9     | 9     | 9     | 9     | 9     | 9     | 9     | 9     | 9     | 9     | 99    | 99    | 99    | 9     | 9     | 9     | 9     | 99    | 99    | 99    | 0     | 1     | 0     | 0     | 0     | 0     | 0     | 0     | 0     | 0     | 0     | 0     | 0     | 0     | 0     | 0     | 0     | 0     | 0     | 0     | 1     | 0     | 0     | 0     | 0     | 0     | 0     | 0     | 0     | 0     | 1     | 99    | 99    | 99    | 9     | 9     | 1     | 999    | 999    | 9     | 9     | 2     | 99    | 99    | 99    | 99998 | 1     | 0     | 0     | 0     | 0     | 0     | 0     | 0     | 8     | 3     | 99999 | 9     | 9     | 9     | 9     | 9     | 9     | 9     | 9     | 9     | 99999 | 2      | 2     | 9     | 99999 | 99999 | 9     | 9     | 9     | 9     | 9     | 9     | 9     | 9     | 2     | 9     | 1     | 0     | 0     | 0     | 0     | 0     | 0     | 1     | 1     | 1     | 0     | 0     | 0     | 0     | 0     | 0     | 0     | 0     | 1     | 0     | 0     | 18    | 9     | 9     | 9     | 9     | 9     | 9     | 9     | 9     | 9     | 9     | 9     | 9     | 9     | 9     | 99    | 9     | 9     | 9     | 9     | 9     | 9     | 9     | 9     | 9     | 9     | 9     | 9     | 9     | 9     | 9     | 9     | 9     | 9     | 9     | 9     | 9     | 9     | 9     | 9     | 9     | 9     | 9     | 9     | 9     | 2     | 9     | 9     | 9     | 9     | 9     | 9     | 9     | 9     | 9     | 9     | 1     | 1     | 9     | 2      | 4      | 1     | 2      | 40     | 4     | 2     | 1     | 1      | 9     | 999   | 9     | 99999 | 1     | 0     | 0     | 0     | 0     | 0     | 1     | 0     | 999   | 9     | 99999 | 2     | 999   | 99    | 999   | 9     | 99    | 99    | 99    | 99    | 9     | 9     | 9     | 9     | 9     | 9     | 9     | 9     | 9     | 9     | 9     | 9     | 9      | 9      | 9      | 9      | 9      | 9      | 9      | 9      | 9      | 9     | 9     | 9     | 99    | 3       | 9      | 9      | 9      | 9      | 9      | 9      | 9      | 9      | 9        | 9        | 9        | 9        | 9        | 9        | 9        | 9        | 9        | 2        | 2        | 2       | 2       | 2       | 2       | 2       | 9        | -2    | 2516.11        | 28    | 58    | 2516.11  | 0    | 2015  | 2516.11 | 2516.11       | 1172.86    | 1272.87    | 3993.4     | 1004.89    | 4007.94    | 1147.35    | 4335.35    | 4501.82    | 3974.74    | 3602.5      | 1231.24     | 1159.22     | 3939.37     | 4031.23     | 1198.04     | 4272.69     | 3622.83     | 1146.99     | 1264.37     | 1343.79     | 1177.88     | 1176.12     | 3811.29     | 1021.81     | 3834.66     | 983.567     | 4046.25     | 3793.44     | 3330.56     | 3654.74     | 1217.48     | 1264.89     | 3732.12     | 4056.08     | 1271.85     | 3985.39     | 3923.24     | 981.738     | 1051.98     | 1150.81     | 1244.3      | 1192.52     | 4213.54     | 1070.1      | 3973.34     | 1068.43     | 4365.11     | 3723.17     | 3527.16     | 3835.27     | 1206.48     | 1397.92     | 3704.26     | 4336.79     | 1267.91     | 4421.7      | 4222.31     | 998.684     | 1106.35     | 1256.45     | 1145.88     | 1086.07     | 3867.48     | 974.306     | 3778.2      | 1181.18     | 4391.25     | 4165.04     | 3775.29     | 3185.4      | 1097.93     | 1069.33     | 3716.01     | 3624.54     | 1110.63     | 4145.49     | 3696.68     | 1125.12     | 1265.54     | 1173.49     | 1155.24     | 1234.9      | 3328.19     | 1088.81     | 3265.06     | 1177.75     | 3657.55     | 4408.5      | 4124.26     | 3584.43     | 1269.75     | 1010.25     | 3616.34     | 3800.18     | 1208.48     | 3682.96     | 4059.38     | 1321.51     | 1257.83     | 1046.6       | 1222.62      | 1240.5       | 3323.75      | 1322.91      | 3540.62      | 1073.48      | 3489.44      | 3931.95      | 3851.49      | 4354.62      | 1342.83      | 1219.46      | 3777.85      | 4350.48      | 1344.26      | 3847.07      | 4726.63      | 1137.76      | 1127.54      | 1099.17      | 1185.82      | 1145.81      | 3475.02      | 1266.7       | 3201.44      | 1144.08      | 3616.99      | 3779.29      | 3774.15      | 3878.71      | 1268.45      | 1134.82      | 3610.08      | 3718.15      | 1195.75      | 3851.85      | 4641.05      | 1090.94      | 1130.09      | 999.6        | 1172         | 1223.79      | 3473.56      | 1195.76      | 3332.87      | 1280.11      | 3961.63      | 4372.18      | 4296.33      | 3773.37      | 1291.48      | 1012.19      | 3615.08      | 3923.7       | 1165.63      | 4037.8       | 4400.45      | 1383.79      | 1338.7       | 1159.51      | 1172.86    | 1272.87    | 3993.4     | 1004.89    | 4007.94    | 1147.35    | 4335.35    | 4501.82    | 3974.74    | 3602.5      | 1231.24     | 1159.22     | 3939.37     | 4031.23     | 1198.04     | 4272.69     | 3622.83     | 1146.99     | 1264.37     | 1343.79     | 1177.88     | 1176.12     | 3811.29     | 1021.81     | 3834.66     | 983.567     | 4046.25     | 3793.44     | 3330.56     | 3654.74     | 1217.48     | 1264.89     | 3732.12     | 4056.08     | 1271.85     | 3985.39     | 3923.24     | 981.738     | 1051.98     | 1150.81     | 1244.3      | 1192.52     | 4213.54     | 1070.1      | 3973.34     | 1068.43     | 4365.11     | 3723.17     | 3527.16     | 3835.27     | 1206.48     | 1397.92     | 3704.26     | 4336.79     | 1267.91     | 4421.7      | 4222.31     | 998.684     | 1106.35     | 1256.45     | 1145.88     | 1086.07     | 3867.48     | 974.306     | 3778.2      | 1181.18     | 4391.25     | 4165.04     | 3775.29     | 3185.4      | 1097.93     | 1069.33     | 3716.01     | 3624.54     | 1110.63     | 4145.49     | 3696.68     | 1125.12     | 1265.54     | 1173.49     | 1155.24     | 1234.9      | 3328.19     | 1088.81     | 3265.06     | 1177.75     | 3657.55     | 4408.5      | 4124.26     | 3584.43     | 1269.75     | 1010.25     | 3616.34     | 3800.18     | 1208.48     | 3682.96     | 4059.38     | 1321.51     | 1257.83     | 1046.6       | 1222.62      | 1240.5       | 3323.75      | 1322.91      | 3540.62      | 1073.48      | 3489.44      | 3931.95      | 3851.49      | 4354.62      | 1342.83      | 1219.46      | 3777.85      | 4350.48      | 1344.26      | 3847.07      | 4726.63      | 1137.76      | 1127.54      | 1099.17      | 1185.82      | 1145.81      | 3475.02      | 1266.7       | 3201.44      | 1144.08      | 3616.99      | 3779.29      | 3774.15      | 3878.71      | 1268.45      | 1134.82      | 3610.08      | 3718.15      | 1195.75      | 3851.85      | 4641.05      | 1090.94      | 1130.09      | 999.6        | 1172         | 1223.79      | 3473.56      | 1195.76      | 3332.87      | 1280.11      | 3961.63      | 4372.18      | 4296.33      | 3773.37      | 1291.48      | 1012.19      | 3615.08      | 3923.7       | 1165.63      | 4037.8       | 4400.45      | 1383.79      | 1338.7       | 1159.51\n",
       "4     | 2016.1 | 2620122214474542295393116 | 262012221447454229539311601 | 128   | 161   | 26    | 20122214474542295393 | 1     | 16    | 1     | 1     | 36    | 1     | 9     | 7     | 2015  | 1     | 1     | 9     | 9     | 7      | 3     | 9     | 2      | 5     | 9     | 9     | 9     | 9     | 9     | 9     | 9     | 9     | 9     | 9     | 9     | 9     | 9     | 9     | 9     | 99    | 9      | 9      | 9      | 2     | 1     | 2     | 2     | 9     | 9     | 9     | 9     | 9     | 9     | 9     | 9     | 9     | 9     | 9     | 9     | 9     | 9     | 9     | 9     | 9     | 9     | 9     | 9     | 9     | 9     | 9     | 9     | 9     | 9     | 9     | 9     | 9     | 9     | 9     | 9     | 9     | 9     | 9     | 9     | 9     | 9     | 9     | 9     | 9     | 9     | 9     | 9     | 9     | 9     | 9     | 9     | 9     | 9     | 9     | 9     | 9     | 9     | 9     | 9     | 9     | 9     | 9     | 9     | 9     | 9     | 9     | 9     | 9     | 9     | 9     | 9     | 9     | 9     | 9     | 9     | 9     | 9     | 9     | 9     | 9     | 9     | 99    | 99    | 99    | 9     | 9     | 9     | 9     | 9     | 9     | 9     | 9     | 9     | 9     | 9     | 999   | 9     | 99999 | 9       | 9       | 9       | 9       | 9       | 9       | 9       | 9       | 9       | 9        | 9        | 9        | 9        | 9        | 9        | 9        | 9        | 9        | 9        | 9        | 9        | 9        | 9        | 9        | 9        | 9        | 9        | 9        | 9        | 9        | 9        | 9        | 9        | 9        | 9        | 9      | 9     | 9     | 9     | 9     | 9     | 9     | 9     | 9     | 9     | 9     | 9     | 9     | 9     | 9     | 9     | 9     | 9     | 9     | 9     | 9     | 9     | 9     | 9     | 9     | 9     | 9     | 9     | 9     | 9     | 9     | 9     | 9     | 9     | 9     | 9     | 9     | 9     | 9     | 9     | 9     | 9     | 9     | 9     | 9     | 9     | 9     | 9     | 9     | 9     | 9     | 9     | 9     | 9     | 9     | 9     | 9     | 9     | 9     | 9     | 9     | 9     | 9     | 9     | 99    | 99    | 99    | 99    | 9     | 9     | 2     | 9     | 9     | 9     | 9     | 9     | 9     | 9     | 9     | 9     | 9     | 9     | 9     | 9     | 9     | 9     | 9     | 9     | 9     | 9     | 9     | 9     | 9     | 9     | 9     | 9     | 9     | 9     | 9      | 9     | 9     | 9     | 9     | 9     | 9     | 9     | 99    | 9      | 9      | 9      | 9      | 9      | 9      | 9      | 9      | 9     | 99    | 9     | 9     | 9     | 9     | 9      | 9      | 9     | 9     | 9     | 9     | 9     | 9     | 9     | 9     | 9     | 9     | 9     | 9     | 9     | 9     | 9     | 9     | 9     | 9     | 9     | 9     | 9     | 9     | 9     | 9     | 9     | 9      | 9      | 9      | 9      | 9      | 9     | 9     | 9     | 9     | 9      | 9      | 9      | 9     | 9     | 9      | 9     | 1     | 1     | 9     | 9     | 9     | 9     | 9     | 9     | 9     | 9     | 9     | 9     | 9     | 9     | 9     | 9     | 9     | 9     | 9     | 9     | 9     | 9     | 9     | 9     | 99    | 99    | 99    | 9     | 9     | 9     | 9     | 99    | 99    | 99    | 0     | 1     | 0     | 0     | 0     | 0     | 0     | 0     | 0     | 0     | 0     | 0     | 0     | 0     | 1     | 0     | 0     | 0     | 0     | 0     | 0     | 0     | 0     | 0     | 0     | 0     | 0     | 0     | 0     | 0     | 1     | 99    | 99    | 99    | 9     | 9     | 2     | 999    | 999    | 9     | 9     | 2     | 99    | 99    | 99    | 50    | 1     | 0     | 0     | 1     | 0     | 0     | 0     | 0     | 0     | 3     | 99999 | 9     | 9     | 9     | 9     | 9     | 9     | 9     | 9     | 9     | 99999 | 2      | 2     | 9     | 99999 | 99999 | 9     | 9     | 9     | 9     | 9     | 9     | 9     | 9     | 1     | 1     | 9     | 9     | 9     | 9     | 9     | 9     | 9     | 9     | 9     | 9     | 9     | 9     | 9     | 9     | 9     | 9     | 9     | 9     | 9     | 9     | 9     | 99    | 1     | 0     | 0     | 0     | 0     | 0     | 0     | 0     | 0     | 0     | 0     | 0     | 1     | 0     | 22    | 1     | 3     | 1     | 1     | 0     | 0     | 0     | 0     | 0     | 0     | 0     | 0     | 0     | 2     | 9     | 9     | 9     | 9     | 9     | 9     | 9     | 9     | 9     | 9     | 9     | 9     | 9     | 2     | 2     | 2     | 9     | 2     | 9     | 9     | 9     | 9     | 9     | 9     | 9     | 2     | 8     | 1     | 9     | 9      | 9      | 9     | 99     | 99     | 9     | 9     | 9     | 9      | 9     | 999   | 9     | 99999 | 1     | 0     | 0     | 0     | 0     | 0     | 1     | 0     | 999   | 9     | 99999 | 2     | 999   | 99    | 999   | 9     | 99    | 99    | 99    | 99    | 9     | 9     | 9     | 9     | 9     | 9     | 9     | 9     | 9     | 9     | 9     | 9     | 9      | 9      | 9      | 9      | 9      | 9      | 9      | 9      | 9      | 9     | 9     | 9     | 99    | 2       | 9      | 9      | 9      | 9      | 9      | 9      | 9      | 9      | 9        | 9        | 9        | 9        | 9        | 9        | 9        | 9        | 9        | 2        | 2        | 2       | 1       | 2       | 2       | 1       | 2        | -2    | 1109.33        | 36    | 56    | 1109.33  | 0    | 2015  | 1109.33 | 1109.33       | 1107.41    | 1883.78    | 1104.66    | 1101.85    | 324.135    | 1114.36    | 1113.97    | 1113.67    | 1118.03    | 331.218     | 1108        | 1114.33     | 1892.89     | 1888.48     | 324.593     | 333.95      | 1912.35     | 1112.9      | 330.216     | 1857.52     | 1119.16     | 328.98      | 1118.37     | 1126.52     | 1866.62     | 1108.55     | 1094.65     | 1114.03     | 1083.74     | 1844.77     | 1102.5      | 1094.62     | 323.473     | 318.298     | 1936.75     | 1890.03     | 331.965     | 1118.3      | 1853.94     | 317.16      | 1099.37     | 331.34      | 1093.9      | 1102.31     | 1899.02     | 1116.36     | 1102.74     | 1111.09     | 1092.32     | 1896.94     | 1108.29     | 1091.15     | 317.609     | 335.042     | 1892.94     | 1909.35     | 333.994     | 1126.04     | 1911.01     | 320.848     | 1098.35     | 1863.67     | 1112.73     | 1118.31     | 325.217     | 1133.21     | 1134.51     | 1111.44     | 1078.15     | 324.598     | 1107.11     | 1123.35     | 1893.76     | 1889.75     | 320.033     | 323.736     | 1899.89     | 1120.51     | 324.828     | 1874.97     | 1098.92     | 1942.88     | 1122.28     | 1140.75     | 333.264     | 1108.52     | 1092.45     | 1093.28     | 1120.21     | 316.951     | 1110.33     | 1112.09     | 1922.88     | 1831.2      | 318.973     | 330.315     | 1890.95     | 1088.67     | 326.41      | 1906.8       | 1128.74      | 323.503      | 1121.5       | 1119.93      | 1854.22      | 1092.59      | 1128.8       | 1114.49      | 1152.98      | 1843.36      | 1090.69      | 1108.75      | 317.86       | 317.138      | 1855.4       | 1914.8       | 327.885      | 1106.87      | 1881.61      | 333.093      | 1118.71      | 332.94       | 1120.02      | 1099.27      | 1926.29      | 1120.55      | 1106.29      | 1100.15      | 1083.3       | 1865.74      | 1116.1       | 1097.05      | 320.539      | 327.487      | 1930.62      | 1880.9       | 316.354      | 1125.83      | 1860.69      | 323.873      | 1120.71      | 1900.01      | 1161.49      | 1127.84      | 321.892      | 1101.6       | 1132         | 1108.12      | 1106.36      | 322.096      | 1108.37      | 1106.33      | 1932.11      | 1879.91      | 322.074      | 334.408      | 1876.57      | 1111.7       | 325.471      | 1911.94      | 1107.41    | 1883.78    | 1104.66    | 1101.85    | 324.135    | 1114.36    | 1113.97    | 1113.67    | 1118.03    | 331.218     | 1108        | 1114.33     | 1892.89     | 1888.48     | 324.593     | 333.95      | 1912.35     | 1112.9      | 330.216     | 1857.52     | 1119.16     | 328.98      | 1118.37     | 1126.52     | 1866.62     | 1108.55     | 1094.65     | 1114.03     | 1083.74     | 1844.77     | 1102.5      | 1094.62     | 323.473     | 318.298     | 1936.75     | 1890.03     | 331.965     | 1118.3      | 1853.94     | 317.16      | 1099.37     | 331.34      | 1093.9      | 1102.31     | 1899.02     | 1116.36     | 1102.74     | 1111.09     | 1092.32     | 1896.94     | 1108.29     | 1091.15     | 317.609     | 335.042     | 1892.94     | 1909.35     | 333.994     | 1126.04     | 1911.01     | 320.848     | 1098.35     | 1863.67     | 1112.73     | 1118.31     | 325.217     | 1133.21     | 1134.51     | 1111.44     | 1078.15     | 324.598     | 1107.11     | 1123.35     | 1893.76     | 1889.75     | 320.033     | 323.736     | 1899.89     | 1120.51     | 324.828     | 1874.97     | 1098.92     | 1942.88     | 1122.28     | 1140.75     | 333.264     | 1108.52     | 1092.45     | 1093.28     | 1120.21     | 316.951     | 1110.33     | 1112.09     | 1922.88     | 1831.2      | 318.973     | 330.315     | 1890.95     | 1088.67     | 326.41      | 1906.8       | 1128.74      | 323.503      | 1121.5       | 1119.93      | 1854.22      | 1092.59      | 1128.8       | 1114.49      | 1152.98      | 1843.36      | 1090.69      | 1108.75      | 317.86       | 317.138      | 1855.4       | 1914.8       | 327.885      | 1106.87      | 1881.61      | 333.093      | 1118.71      | 332.94       | 1120.02      | 1099.27      | 1926.29      | 1120.55      | 1106.29      | 1100.15      | 1083.3       | 1865.74      | 1116.1       | 1097.05      | 320.539      | 327.487      | 1930.62      | 1880.9       | 316.354      | 1125.83      | 1860.69      | 323.873      | 1120.71      | 1900.01      | 1161.49      | 1127.84      | 321.892      | 1101.6       | 1132         | 1108.12      | 1106.36      | 322.096      | 1108.37      | 1106.33      | 1932.11      | 1879.91      | 322.074      | 334.408      | 1876.57      | 1111.7       | 325.471      | 1911.94\n",
       "4     | 2016.1 | 2620122214474542295393116 | 262012221447454229539311601 | 128   | 161   | 26    | 20122214474542295393 | 1     | 16    | 1     | 1     | 39    | 1     | 9     | 8     | 2015  | 1     | 1     | 9     | 9     | 9      | 5     | 1     | 2      | 21    | 9     | 9     | 9     | 9     | 9     | 9     | 9     | 9     | 9     | 9     | 9     | 9     | 9     | 9     | 9     | 99    | 9      | 9      | 9      | 2     | 3     | 2     | 2     | 9     | 9     | 9     | 9     | 9     | 9     | 9     | 9     | 9     | 9     | 9     | 9     | 9     | 9     | 9     | 9     | 9     | 9     | 9     | 9     | 9     | 9     | 9     | 9     | 9     | 9     | 9     | 9     | 9     | 9     | 9     | 9     | 9     | 9     | 9     | 9     | 9     | 9     | 9     | 9     | 9     | 9     | 9     | 9     | 9     | 9     | 9     | 9     | 9     | 9     | 9     | 9     | 9     | 9     | 9     | 9     | 9     | 9     | 9     | 9     | 9     | 9     | 9     | 9     | 9     | 9     | 9     | 9     | 9     | 9     | 9     | 9     | 9     | 9     | 9     | 9     | 9     | 9     | 99    | 99    | 99    | 9     | 9     | 9     | 9     | 9     | 9     | 9     | 9     | 9     | 9     | 9     | 999   | 9     | 99999 | 9       | 9       | 9       | 9       | 9       | 9       | 9       | 9       | 9       | 9        | 9        | 9        | 9        | 9        | 9        | 9        | 9        | 9        | 9        | 9        | 9        | 9        | 9        | 9        | 9        | 9        | 9        | 9        | 9        | 9        | 9        | 9        | 9        | 9        | 9        | 9      | 9     | 9     | 9     | 9     | 9     | 9     | 9     | 9     | 9     | 9     | 9     | 9     | 9     | 9     | 9     | 9     | 9     | 9     | 9     | 9     | 9     | 9     | 9     | 9     | 9     | 9     | 9     | 9     | 9     | 9     | 9     | 9     | 9     | 9     | 9     | 9     | 9     | 9     | 9     | 9     | 9     | 9     | 9     | 9     | 9     | 9     | 9     | 9     | 9     | 9     | 9     | 9     | 9     | 9     | 9     | 9     | 9     | 9     | 9     | 9     | 9     | 9     | 9     | 99    | 99    | 99    | 99    | 9     | 9     | 2     | 9     | 9     | 9     | 9     | 9     | 9     | 9     | 9     | 9     | 9     | 9     | 9     | 9     | 9     | 9     | 9     | 9     | 9     | 9     | 9     | 9     | 9     | 9     | 9     | 9     | 9     | 9     | 9      | 9     | 9     | 9     | 9     | 9     | 9     | 9     | 99    | 9      | 9      | 9      | 9      | 9      | 9      | 9      | 9      | 9     | 99    | 9     | 9     | 9     | 9     | 9      | 9      | 9     | 9     | 9     | 9     | 9     | 9     | 9     | 9     | 9     | 9     | 9     | 9     | 9     | 9     | 9     | 9     | 9     | 9     | 9     | 9     | 9     | 9     | 9     | 9     | 9     | 9      | 9      | 9      | 9      | 9      | 9     | 9     | 9     | 9     | 9      | 9      | 9      | 9     | 9     | 9      | 9     | 1     | 1     | 9     | 9     | 9     | 9     | 9     | 9     | 9     | 9     | 9     | 9     | 9     | 9     | 9     | 9     | 9     | 9     | 9     | 9     | 9     | 9     | 9     | 9     | 99    | 99    | 99    | 9     | 9     | 9     | 9     | 99    | 99    | 99    | 0     | 1     | 0     | 0     | 0     | 0     | 0     | 0     | 1     | 0     | 0     | 0     | 0     | 0     | 0     | 0     | 0     | 0     | 0     | 0     | 0     | 0     | 0     | 0     | 0     | 0     | 0     | 0     | 0     | 0     | 3     | 2     | 99    | 99    | 9     | 9     | 1     | 999    | 999    | 9     | 9     | 2     | 99    | 99    | 99    | 99998 | 1     | 0     | 0     | 0     | 0     | 0     | 0     | 0     | 8     | 8     | 99998 | 8     | 8     | 8     | 8     | 8     | 8     | 8     | 8     | 2     | 99999 | 8      | 2     | 9     | 99999 | 99999 | 9     | 9     | 9     | 9     | 9     | 9     | 9     | 9     | 2     | 9     | 1     | 0     | 0     | 0     | 0     | 0     | 0     | 1     | 0     | 0     | 0     | 0     | 0     | 0     | 0     | 0     | 0     | 0     | 0     | 0     | 0     | 7     | 9     | 9     | 9     | 9     | 9     | 9     | 9     | 9     | 9     | 9     | 9     | 9     | 9     | 9     | 99    | 9     | 9     | 9     | 9     | 9     | 9     | 9     | 9     | 9     | 9     | 9     | 9     | 9     | 9     | 9     | 9     | 9     | 9     | 9     | 9     | 9     | 9     | 9     | 9     | 9     | 9     | 9     | 9     | 9     | 2     | 9     | 9     | 9     | 9     | 9     | 9     | 9     | 9     | 9     | 9     | 5     | 1     | 9     | 9      | 9      | 9     | 99     | 99     | 9     | 9     | 9     | 9      | 9     | 999   | 9     | 99999 | 1     | 0     | 0     | 0     | 0     | 0     | 1     | 0     | 999   | 9     | 99999 | 2     | 999   | 99    | 999   | 9     | 99    | 99    | 99    | 99    | 9     | 9     | 9     | 9     | 9     | 9     | 9     | 9     | 9     | 9     | 9     | 9     | 9      | 9      | 9      | 9      | 9      | 9      | 9      | 9      | 9      | 9     | 9     | 9     | 99    | 2       | 9      | 9      | 9      | 9      | 9      | 9      | 9      | 9      | 9        | 9        | 9        | 9        | 9        | 9        | 9        | 9        | 9        | 2        | 2        | 2       | 1       | 2       | 2       | 1       | 2        | -2    | 1109.33        | 28    | 58    | 1109.33  | 0    | 2015  | 1109.33 | 1109.33       | 1107.41    | 1883.78    | 1104.66    | 1101.85    | 324.135    | 1114.36    | 1113.97    | 1113.67    | 1118.03    | 331.218     | 1108        | 1114.33     | 1892.89     | 1888.48     | 324.593     | 333.95      | 1912.35     | 1112.9      | 330.216     | 1857.52     | 1119.16     | 328.98      | 1118.37     | 1126.52     | 1866.62     | 1108.55     | 1094.65     | 1114.03     | 1083.74     | 1844.77     | 1102.5      | 1094.62     | 323.473     | 318.298     | 1936.75     | 1890.03     | 331.965     | 1118.3      | 1853.94     | 317.16      | 1099.37     | 331.34      | 1093.9      | 1102.31     | 1899.02     | 1116.36     | 1102.74     | 1111.09     | 1092.32     | 1896.94     | 1108.29     | 1091.15     | 317.609     | 335.042     | 1892.94     | 1909.35     | 333.994     | 1126.04     | 1911.01     | 320.848     | 1098.35     | 1863.67     | 1112.73     | 1118.31     | 325.217     | 1133.21     | 1134.51     | 1111.44     | 1078.15     | 324.598     | 1107.11     | 1123.35     | 1893.76     | 1889.75     | 320.033     | 323.736     | 1899.89     | 1120.51     | 324.828     | 1874.97     | 1098.92     | 1942.88     | 1122.28     | 1140.75     | 333.264     | 1108.52     | 1092.45     | 1093.28     | 1120.21     | 316.951     | 1110.33     | 1112.09     | 1922.88     | 1831.2      | 318.973     | 330.315     | 1890.95     | 1088.67     | 326.41      | 1906.8       | 1128.74      | 323.503      | 1121.5       | 1119.93      | 1854.22      | 1092.59      | 1128.8       | 1114.49      | 1152.98      | 1843.36      | 1090.69      | 1108.75      | 317.86       | 317.138      | 1855.4       | 1914.8       | 327.885      | 1106.87      | 1881.61      | 333.093      | 1118.71      | 332.94       | 1120.02      | 1099.27      | 1926.29      | 1120.55      | 1106.29      | 1100.15      | 1083.3       | 1865.74      | 1116.1       | 1097.05      | 320.539      | 327.487      | 1930.62      | 1880.9       | 316.354      | 1125.83      | 1860.69      | 323.873      | 1120.71      | 1900.01      | 1161.49      | 1127.84      | 321.892      | 1101.6       | 1132         | 1108.12      | 1106.36      | 322.096      | 1108.37      | 1106.33      | 1932.11      | 1879.91      | 322.074      | 334.408      | 1876.57      | 1111.7       | 325.471      | 1911.94      | 1107.41    | 1883.78    | 1104.66    | 1101.85    | 324.135    | 1114.36    | 1113.97    | 1113.67    | 1118.03    | 331.218     | 1108        | 1114.33     | 1892.89     | 1888.48     | 324.593     | 333.95      | 1912.35     | 1112.9      | 330.216     | 1857.52     | 1119.16     | 328.98      | 1118.37     | 1126.52     | 1866.62     | 1108.55     | 1094.65     | 1114.03     | 1083.74     | 1844.77     | 1102.5      | 1094.62     | 323.473     | 318.298     | 1936.75     | 1890.03     | 331.965     | 1118.3      | 1853.94     | 317.16      | 1099.37     | 331.34      | 1093.9      | 1102.31     | 1899.02     | 1116.36     | 1102.74     | 1111.09     | 1092.32     | 1896.94     | 1108.29     | 1091.15     | 317.609     | 335.042     | 1892.94     | 1909.35     | 333.994     | 1126.04     | 1911.01     | 320.848     | 1098.35     | 1863.67     | 1112.73     | 1118.31     | 325.217     | 1133.21     | 1134.51     | 1111.44     | 1078.15     | 324.598     | 1107.11     | 1123.35     | 1893.76     | 1889.75     | 320.033     | 323.736     | 1899.89     | 1120.51     | 324.828     | 1874.97     | 1098.92     | 1942.88     | 1122.28     | 1140.75     | 333.264     | 1108.52     | 1092.45     | 1093.28     | 1120.21     | 316.951     | 1110.33     | 1112.09     | 1922.88     | 1831.2      | 318.973     | 330.315     | 1890.95     | 1088.67     | 326.41      | 1906.8       | 1128.74      | 323.503      | 1121.5       | 1119.93      | 1854.22      | 1092.59      | 1128.8       | 1114.49      | 1152.98      | 1843.36      | 1090.69      | 1108.75      | 317.86       | 317.138      | 1855.4       | 1914.8       | 327.885      | 1106.87      | 1881.61      | 333.093      | 1118.71      | 332.94       | 1120.02      | 1099.27      | 1926.29      | 1120.55      | 1106.29      | 1100.15      | 1083.3       | 1865.74      | 1116.1       | 1097.05      | 320.539      | 327.487      | 1930.62      | 1880.9       | 316.354      | 1125.83      | 1860.69      | 323.873      | 1120.71      | 1900.01      | 1161.49      | 1127.84      | 321.892      | 1101.6       | 1132         | 1108.12      | 1106.36      | 322.096      | 1108.37      | 1106.33      | 1932.11      | 1879.91      | 322.074      | 334.408      | 1876.57      | 1111.7       | 325.471      | 1911.94\n",
       "4     | 2016.1 | 2620122214474542295393116 | 262012221447454229539311601 | 128   | 161   | 26    | 20122214474542295393 | 1     | 16    | 1     | 1     | 41    | 1     | 9     | 10    | 2015  | 1     | 1     | 9     | 9     | 1      | 3     | 9     | 2      | 7     | 9     | 9     | 9     | 9     | 9     | 9     | 9     | 9     | 9     | 9     | 9     | 9     | 9     | 9     | 9     | 99    | 9      | 9      | 9      | 2     | 2     | 1     | 1     | 1     | 1     | 1     | 1     | 1     | 0     | 0     | 0     | 0     | 0     | 1     | 0     | 0     | 2     | 2     | 1     | 1     | 9     | 9     | 9     | 9     | 9     | 9     | 9     | 9     | 9     | 9     | 9     | 9     | 9     | 9     | 3     | 0     | 0     | 0     | 0     | 0     | 0     | 1     | 0     | 0     | 1     | 0     | 0     | 0     | 0     | 0     | 9     | 9     | 9     | 9     | 9     | 9     | 9     | 9     | 9     | 9     | 9     | 9     | 9     | 9     | 9     | 9     | 9     | 9     | 9     | 9     | 9     | 9     | 9     | 9     | 9     | 9     | 9     | 9     | 9     | 9     | 9     | 99    | 99    | 99    | 9     | 9     | 9     | 9     | 9     | 9     | 9     | 9     | 9     | 9     | 9     | 999   | 9     | 99999 | 1       | 1       | 4       | 1       | 1       | 1       | 1       | 1       | 1       | 1        | 2        | 2        | 9        | 9        | 9        | 9        | 9        | 9        | 9        | 1        | 1        | 1        | 1        | 1        | 2        | 1        | 2        | 2        | 9        | 9        | 9        | 9        | 9        | 9        | 9        | 9      | 2     | 2     | 9     | 9     | 9     | 9     | 9     | 9     | 9     | 9     | 9     | 9     | 9     | 9     | 9     | 9     | 9     | 9     | 9     | 9     | 9     | 9     | 9     | 9     | 9     | 9     | 9     | 9     | 9     | 9     | 9     | 9     | 9     | 9     | 9     | 9     | 9     | 9     | 9     | 9     | 9     | 9     | 9     | 2     | 9     | 9     | 9     | 9     | 9     | 9     | 9     | 9     | 9     | 9     | 9     | 9     | 9     | 9     | 9     | 9     | 9     | 9     | 9     | 99    | 99    | 99    | 99    | 2     | 9     | 9     | 9     | 9     | 9     | 9     | 9     | 9     | 9     | 9     | 9     | 9     | 9     | 9     | 9     | 9     | 9     | 9     | 9     | 9     | 9     | 9     | 9     | 9     | 9     | 1     | 9     | 1     | 5     | 2      | 2     | 3     | 9     | 1     | 9     | 2     | 9     | 11    | 1      | 1      | 0      | 0      | 0      | 0      | 0      | 0      | 2     | 99    | 9     | 9     | 9     | 9     | 9      | 9      | 9     | 9     | 9     | 9     | 9     | 9     | 9     | 9     | 9     | 9     | 9     | 9     | 9     | 9     | 9     | 9     | 9     | 9     | 9     | 9     | 9     | 9     | 9     | 9     | 9     | 9      | 9      | 9      | 9      | 9      | 9     | 9     | 9     | 9     | 9      | 9      | 9      | 9     | 9     | 9      | 9     | 2     | 2     | 2     | 2     | 9     | 9     | 9     | 9     | 9     | 9     | 9     | 9     | 9     | 9     | 9     | 9     | 9     | 9     | 9     | 9     | 9     | 9     | 9     | 9     | 99    | 99    | 99    | 9     | 9     | 9     | 9     | 99    | 99    | 99    | 99999 | 9     | 9     | 9     | 9     | 9     | 9     | 9     | 9     | 9     | 9     | 9     | 9     | 9     | 9     | 9     | 9     | 9     | 9     | 9     | 9     | 9     | 9     | 9     | 9     | 9     | 9     | 9     | 9     | 9     | 9     | 99    | 99    | 99    | 9     | 9     | 9     | 999    | 999    | 9     | 9     | 9     | 99    | 99    | 99    | 99999 | 9     | 9     | 9     | 9     | 9     | 9     | 9     | 9     | 9     | 9     | 99999 | 9     | 9     | 9     | 9     | 9     | 9     | 9     | 9     | 9     | 99999 | 9      | 2     | 9     | 99999 | 99999 | 9     | 9     | 9     | 9     | 9     | 9     | 9     | 9     | 1     | 1     | 9     | 9     | 9     | 9     | 9     | 9     | 9     | 9     | 9     | 9     | 9     | 9     | 9     | 9     | 9     | 9     | 9     | 9     | 9     | 9     | 9     | 99    | 1     | 0     | 0     | 0     | 0     | 1     | 0     | 0     | 0     | 0     | 0     | 0     | 0     | 0     | 5     | 2     | 9     | 9     | 9     | 9     | 9     | 9     | 9     | 9     | 9     | 9     | 9     | 9     | 2     | 9     | 9     | 9     | 9     | 9     | 9     | 9     | 9     | 9     | 9     | 9     | 9     | 9     | 2     | 2     | 2     | 9     | 2     | 9     | 9     | 9     | 9     | 9     | 9     | 9     | 2     | 7     | 1     | 9     | 9      | 9      | 9     | 99     | 99     | 9     | 9     | 9     | 9      | 9     | 999   | 9     | 99999 | 1     | 0     | 0     | 0     | 0     | 0     | 1     | 0     | 999   | 9     | 99999 | 2     | 999   | 99    | 999   | 9     | 99    | 99    | 99    | 99    | 9     | 9     | 9     | 9     | 9     | 9     | 9     | 9     | 9     | 9     | 9     | 9     | 9      | 9      | 9      | 9      | 9      | 9      | 9      | 9      | 9      | 9     | 9     | 9     | 99    | 2       | 9      | 9      | 9      | 9      | 9      | 9      | 9      | 9      | 9        | 9        | 9        | 9        | 9        | 9        | 9        | 9        | 9        | 2        | 2        | 2       | 1       | 2       | 2       | 1       | 2        | -2    | 1206.94        | 12    | 12    | 1206.94  | 0    | 2015  | 1206.94 | 1206.94       | 1201.52    | 2048.23    | 1204.14    | 1198.12    | 353.431    | 1211.99    | 1215.21    | 1213.92    | 1220.39    | 360.689     | 1207.27     | 1215.12     | 2058.05     | 2058.53     | 353.733     | 365.45      | 2083.41     | 1208.86     | 358.57      | 2034.15     | 1217.21     | 355.834     | 1220.51     | 1215.62     | 2016.09     | 1203.01     | 1208.77     | 1213.2      | 1179.46     | 2007.72     | 1192.62     | 1182.44     | 353.241     | 346.584     | 2113.91     | 2077.55     | 361.262     | 1215.55     | 2015.96     | 343.691     | 1198.23     | 357.639     | 1189.05     | 1195.24     | 2068.6      | 1213.96     | 1206.03     | 1210.39     | 1193.37     | 2072.27     | 1202.22     | 1181.45     | 345.534     | 364.216     | 2068.05     | 2091.25     | 362.783     | 1226.23     | 2061.82     | 349.103     | 1195.51     | 2031.52     | 1214.16     | 1213.78     | 354.683     | 1226.68     | 1235.62     | 1218.88     | 1180.8      | 353.973     | 1200.04     | 1226.64     | 2077.97     | 2056.47     | 348.654     | 353.929     | 2065.47     | 1219.81     | 351.108     | 2036.48     | 1202.85     | 2124.53     | 1224.59     | 1248.32     | 363.408     | 1206.6      | 1184.23     | 1195.11     | 1221.09     | 346.822     | 1213.21     | 1212.38     | 2095.44     | 1996.23     | 346.88      | 358.557     | 2057.2      | 1185.12     | 356.174     | 2078.61      | 1229.48      | 349.937      | 1221.14      | 1226.54      | 2022.75      | 1193.32      | 1228.83      | 1207.79      | 1242.22      | 2002.04      | 1191.81      | 1203.63      | 344.712      | 344.106      | 2017.87      | 2074.54      | 357.38       | 1201.3       | 2058.08      | 360.174      | 1219.15      | 363.543      | 1223.23      | 1198.56      | 2092.97      | 1223.89      | 1197.54      | 1208.1       | 1176.92      | 2023.58      | 1216.8       | 1190.14      | 347.892      | 357.251      | 2089.11      | 2024.29      | 342.735      | 1226.87      | 2024.64      | 351.475      | 1216.88      | 2078.61      | 1257.76      | 1230.3       | 349.642      | 1196.46      | 1220.6       | 1199.98      | 1205.87      | 350.783      | 1206.59      | 1212.3       | 2091.21      | 2047.76      | 349.663      | 360.684      | 2043.44      | 1206.87      | 351.536      | 2078.13      | 1201.52    | 2048.23    | 1204.14    | 1198.12    | 353.431    | 1211.99    | 1215.21    | 1213.92    | 1220.39    | 360.689     | 1207.27     | 1215.12     | 2058.05     | 2058.53     | 353.733     | 365.45      | 2083.41     | 1208.86     | 358.57      | 2034.15     | 1217.21     | 355.834     | 1220.51     | 1215.62     | 2016.09     | 1203.01     | 1208.77     | 1213.2      | 1179.46     | 2007.72     | 1192.62     | 1182.44     | 353.241     | 346.584     | 2113.91     | 2077.55     | 361.262     | 1215.55     | 2015.96     | 343.691     | 1198.23     | 357.639     | 1189.05     | 1195.24     | 2068.6      | 1213.96     | 1206.03     | 1210.39     | 1193.37     | 2072.27     | 1202.22     | 1181.45     | 345.534     | 364.216     | 2068.05     | 2091.25     | 362.783     | 1226.23     | 2061.82     | 349.103     | 1195.51     | 2031.52     | 1214.16     | 1213.78     | 354.683     | 1226.68     | 1235.62     | 1218.88     | 1180.8      | 353.973     | 1200.04     | 1226.64     | 2077.97     | 2056.47     | 348.654     | 353.929     | 2065.47     | 1219.81     | 351.108     | 2036.48     | 1202.85     | 2124.53     | 1224.59     | 1248.32     | 363.408     | 1206.6      | 1184.23     | 1195.11     | 1221.09     | 346.822     | 1213.21     | 1212.38     | 2095.44     | 1996.23     | 346.88      | 358.557     | 2057.2      | 1185.12     | 356.174     | 2078.61      | 1229.48      | 349.937      | 1221.14      | 1226.54      | 2022.75      | 1193.32      | 1228.83      | 1207.79      | 1242.22      | 2002.04      | 1191.81      | 1203.63      | 344.712      | 344.106      | 2017.87      | 2074.54      | 357.38       | 1201.3       | 2058.08      | 360.174      | 1219.15      | 363.543      | 1223.23      | 1198.56      | 2092.97      | 1223.89      | 1197.54      | 1208.1       | 1176.92      | 2023.58      | 1216.8       | 1190.14      | 347.892      | 357.251      | 2089.11      | 2024.29      | 342.735      | 1226.87      | 2024.64      | 351.475      | 1216.88      | 2078.61      | 1257.76      | 1230.3       | 349.642      | 1196.46      | 1220.6       | 1199.98      | 1205.87      | 350.783      | 1206.59      | 1212.3       | 2091.21      | 2047.76      | 349.663      | 360.684      | 2043.44      | 1206.87      | 351.536      | 2078.13\n",
       "4     | 2016.1 | 2620122214474542295393116 | 262012221447454229539311601 | 128   | 161   | 26    | 20122214474542295393 | 1     | 16    | 1     | 1     | 42    | 1     | 9     | 11    | 2015  | 1     | 1     | 9     | 9     | 3      | 3     | 9     | 2      | 7     | 9     | 9     | 9     | 9     | 9     | 9     | 9     | 9     | 9     | 9     | 9     | 9     | 9     | 9     | 9     | 99    | 9      | 9      | 9      | 2     | 2     | 1     | 1     | 1     | 1     | 1     | 1     | 1     | 0     | 0     | 0     | 0     | 0     | 1     | 0     | 0     | 1     | 1     | 9     | 9     | 9     | 9     | 9     | 9     | 9     | 9     | 9     | 9     | 9     | 9     | 9     | 9     | 9     | 9     | 9     | 9     | 9     | 9     | 9     | 9     | 9     | 9     | 9     | 9     | 9     | 9     | 9     | 9     | 9     | 9     | 1     | 0     | 0     | 0     | 0     | 0     | 0     | 0     | 0     | 0     | 0     | 0     | 0     | 0     | 1     | 0     | 2     | 1     | 0     | 0     | 0     | 0     | 0     | 0     | 0     | 0     | 0     | 1     | 0     | 0     | 2     | 99    | 99    | 99    | 2     | 9     | 9     | 9     | 9     | 9     | 9     | 9     | 9     | 9     | 9     | 999   | 9     | 99999 | 2       | 1       | 4       | 1       | 1       | 1       | 1       | 1       | 1       | 1        | 2        | 2        | 9        | 9        | 9        | 9        | 9        | 9        | 9        | 1        | 1        | 1        | 1        | 1        | 2        | 1        | 2        | 2        | 9        | 9        | 9        | 9        | 9        | 9        | 9        | 9      | 2     | 2     | 9     | 9     | 9     | 9     | 9     | 9     | 9     | 9     | 9     | 9     | 9     | 9     | 9     | 9     | 9     | 9     | 9     | 9     | 9     | 9     | 9     | 9     | 9     | 9     | 9     | 9     | 9     | 9     | 9     | 9     | 9     | 9     | 9     | 9     | 9     | 9     | 9     | 9     | 9     | 9     | 9     | 2     | 9     | 9     | 9     | 9     | 9     | 9     | 9     | 9     | 9     | 9     | 9     | 9     | 9     | 9     | 9     | 9     | 9     | 9     | 9     | 99    | 99    | 99    | 99    | 2     | 9     | 9     | 9     | 9     | 9     | 9     | 9     | 9     | 9     | 9     | 9     | 9     | 9     | 9     | 9     | 9     | 9     | 9     | 9     | 9     | 9     | 9     | 9     | 9     | 9     | 1     | 9     | 1     | 5     | 2      | 2     | 3     | 9     | 1     | 9     | 2     | 9     | 11    | 1      | 1      | 0      | 0      | 0      | 0      | 0      | 0      | 1     | 99    | 9     | 9     | 9     | 9     | 9      | 9      | 9     | 9     | 9     | 9     | 9     | 9     | 9     | 9     | 9     | 9     | 9     | 9     | 9     | 9     | 9     | 9     | 9     | 9     | 9     | 9     | 9     | 9     | 9     | 9     | 9     | 9      | 9      | 9      | 9      | 9      | 9     | 9     | 9     | 9     | 9      | 9      | 9      | 9     | 9     | 9      | 9     | 2     | 2     | 2     | 2     | 9     | 9     | 9     | 9     | 9     | 9     | 9     | 9     | 9     | 9     | 9     | 9     | 9     | 9     | 9     | 9     | 9     | 9     | 9     | 9     | 99    | 99    | 99    | 9     | 9     | 9     | 9     | 99    | 99    | 99    | 99999 | 9     | 9     | 9     | 9     | 9     | 9     | 9     | 9     | 9     | 9     | 9     | 9     | 9     | 9     | 9     | 9     | 9     | 9     | 9     | 9     | 9     | 9     | 9     | 9     | 9     | 9     | 9     | 9     | 9     | 9     | 99    | 99    | 99    | 9     | 9     | 9     | 999    | 999    | 9     | 9     | 9     | 99    | 99    | 99    | 99999 | 9     | 9     | 9     | 9     | 9     | 9     | 9     | 9     | 9     | 9     | 99999 | 9     | 9     | 9     | 9     | 9     | 9     | 9     | 9     | 9     | 99999 | 9      | 2     | 9     | 99999 | 99999 | 9     | 9     | 9     | 9     | 9     | 9     | 9     | 9     | 2     | 9     | 1     | 0     | 0     | 0     | 0     | 0     | 0     | 0     | 0     | 0     | 0     | 0     | 0     | 0     | 0     | 0     | 1     | 0     | 0     | 0     | 0     | 16    | 9     | 9     | 9     | 9     | 9     | 9     | 9     | 9     | 9     | 9     | 9     | 9     | 9     | 9     | 99    | 9     | 9     | 9     | 9     | 9     | 9     | 9     | 9     | 9     | 9     | 9     | 9     | 9     | 9     | 9     | 9     | 9     | 9     | 9     | 9     | 9     | 9     | 9     | 9     | 9     | 9     | 9     | 9     | 9     | 2     | 9     | 9     | 9     | 9     | 9     | 9     | 9     | 9     | 9     | 9     | 9     | 1     | 9     | 9      | 9      | 9     | 99     | 99     | 9     | 9     | 9     | 9      | 2     | 999   | 9     | 99999 | 1     | 0     | 0     | 0     | 0     | 0     | 1     | 0     | 999   | 9     | 99999 | 2     | 999   | 99    | 999   | 9     | 99    | 99    | 99    | 99    | 9     | 9     | 9     | 9     | 9     | 9     | 9     | 9     | 9     | 9     | 9     | 9     | 9      | 9      | 9      | 9      | 9      | 9      | 9      | 9      | 9      | 9     | 9     | 9     | 99    | 2       | 9      | 9      | 9      | 9      | 9      | 9      | 9      | 9      | 9        | 9        | 9        | 9        | 9        | 9        | 9        | 9        | 9        | 2        | 2        | 2       | 1       | 2       | 2       | 1       | 2        | -2    | 1206.94        | 11    | 11    | 1206.94  | 0    | 2015  | 1206.94 | 1206.94       | 1201.52    | 2048.23    | 1204.14    | 1198.12    | 353.431    | 1211.99    | 1215.21    | 1213.92    | 1220.39    | 360.689     | 1207.27     | 1215.12     | 2058.05     | 2058.53     | 353.733     | 365.45      | 2083.41     | 1208.86     | 358.57      | 2034.15     | 1217.21     | 355.834     | 1220.51     | 1215.62     | 2016.09     | 1203.01     | 1208.77     | 1213.2      | 1179.46     | 2007.72     | 1192.62     | 1182.44     | 353.241     | 346.584     | 2113.91     | 2077.55     | 361.262     | 1215.55     | 2015.96     | 343.691     | 1198.23     | 357.639     | 1189.05     | 1195.24     | 2068.6      | 1213.96     | 1206.03     | 1210.39     | 1193.37     | 2072.27     | 1202.22     | 1181.45     | 345.534     | 364.216     | 2068.05     | 2091.25     | 362.783     | 1226.23     | 2061.82     | 349.103     | 1195.51     | 2031.52     | 1214.16     | 1213.78     | 354.683     | 1226.68     | 1235.62     | 1218.88     | 1180.8      | 353.973     | 1200.04     | 1226.64     | 2077.97     | 2056.47     | 348.654     | 353.929     | 2065.47     | 1219.81     | 351.108     | 2036.48     | 1202.85     | 2124.53     | 1224.59     | 1248.32     | 363.408     | 1206.6      | 1184.23     | 1195.11     | 1221.09     | 346.822     | 1213.21     | 1212.38     | 2095.44     | 1996.23     | 346.88      | 358.557     | 2057.2      | 1185.12     | 356.174     | 2078.61      | 1229.48      | 349.937      | 1221.14      | 1226.54      | 2022.75      | 1193.32      | 1228.83      | 1207.79      | 1242.22      | 2002.04      | 1191.81      | 1203.63      | 344.712      | 344.106      | 2017.87      | 2074.54      | 357.38       | 1201.3       | 2058.08      | 360.174      | 1219.15      | 363.543      | 1223.23      | 1198.56      | 2092.97      | 1223.89      | 1197.54      | 1208.1       | 1176.92      | 2023.58      | 1216.8       | 1190.14      | 347.892      | 357.251      | 2089.11      | 2024.29      | 342.735      | 1226.87      | 2024.64      | 351.475      | 1216.88      | 2078.61      | 1257.76      | 1230.3       | 349.642      | 1196.46      | 1220.6       | 1199.98      | 1205.87      | 350.783      | 1206.59      | 1212.3       | 2091.21      | 2047.76      | 349.663      | 360.684      | 2043.44      | 1206.87      | 351.536      | 2078.13      | 1201.52    | 2048.23    | 1204.14    | 1198.12    | 353.431    | 1211.99    | 1215.21    | 1213.92    | 1220.39    | 360.689     | 1207.27     | 1215.12     | 2058.05     | 2058.53     | 353.733     | 365.45      | 2083.41     | 1208.86     | 358.57      | 2034.15     | 1217.21     | 355.834     | 1220.51     | 1215.62     | 2016.09     | 1203.01     | 1208.77     | 1213.2      | 1179.46     | 2007.72     | 1192.62     | 1182.44     | 353.241     | 346.584     | 2113.91     | 2077.55     | 361.262     | 1215.55     | 2015.96     | 343.691     | 1198.23     | 357.639     | 1189.05     | 1195.24     | 2068.6      | 1213.96     | 1206.03     | 1210.39     | 1193.37     | 2072.27     | 1202.22     | 1181.45     | 345.534     | 364.216     | 2068.05     | 2091.25     | 362.783     | 1226.23     | 2061.82     | 349.103     | 1195.51     | 2031.52     | 1214.16     | 1213.78     | 354.683     | 1226.68     | 1235.62     | 1218.88     | 1180.8      | 353.973     | 1200.04     | 1226.64     | 2077.97     | 2056.47     | 348.654     | 353.929     | 2065.47     | 1219.81     | 351.108     | 2036.48     | 1202.85     | 2124.53     | 1224.59     | 1248.32     | 363.408     | 1206.6      | 1184.23     | 1195.11     | 1221.09     | 346.822     | 1213.21     | 1212.38     | 2095.44     | 1996.23     | 346.88      | 358.557     | 2057.2      | 1185.12     | 356.174     | 2078.61      | 1229.48      | 349.937      | 1221.14      | 1226.54      | 2022.75      | 1193.32      | 1228.83      | 1207.79      | 1242.22      | 2002.04      | 1191.81      | 1203.63      | 344.712      | 344.106      | 2017.87      | 2074.54      | 357.38       | 1201.3       | 2058.08      | 360.174      | 1219.15      | 363.543      | 1223.23      | 1198.56      | 2092.97      | 1223.89      | 1197.54      | 1208.1       | 1176.92      | 2023.58      | 1216.8       | 1190.14      | 347.892      | 357.251      | 2089.11      | 2024.29      | 342.735      | 1226.87      | 2024.64      | 351.475      | 1216.88      | 2078.61      | 1257.76      | 1230.3       | 349.642      | 1196.46      | 1220.6       | 1199.98      | 1205.87      | 350.783      | 1206.59      | 1212.3       | 2091.21      | 2047.76      | 349.663      | 360.684      | 2043.44      | 1206.87      | 351.536      | 2078.13\n",
       "4     | 2016.1 | 2620122510951642292893215 | 262012251095164229289321501 | 131   | 161   | 26    | 20122510951642292893 | 2     | 15    | 1     | 1     | 36    | 1     | 9     | 11    | 2015  | 1     | 1     | 9     | 9     | 2      | 3     | 9     | 2      | 21    | 9     | 9     | 9     | 9     | 9     | 9     | 9     | 9     | 9     | 9     | 9     | 9     | 9     | 9     | 9     | 99    | 9      | 9      | 9      | 2     | 2     | 2     | 2     | 9     | 9     | 9     | 9     | 9     | 9     | 9     | 9     | 9     | 9     | 9     | 9     | 9     | 9     | 9     | 9     | 9     | 9     | 9     | 9     | 9     | 9     | 9     | 9     | 9     | 9     | 9     | 9     | 9     | 9     | 9     | 9     | 9     | 9     | 9     | 9     | 9     | 9     | 9     | 9     | 9     | 9     | 9     | 9     | 9     | 9     | 9     | 9     | 9     | 9     | 9     | 9     | 9     | 9     | 9     | 9     | 9     | 9     | 9     | 9     | 9     | 9     | 9     | 9     | 9     | 9     | 9     | 9     | 9     | 9     | 9     | 9     | 9     | 9     | 9     | 9     | 9     | 9     | 99    | 99    | 99    | 9     | 9     | 9     | 9     | 9     | 9     | 9     | 9     | 9     | 9     | 9     | 999   | 9     | 99999 | 9       | 9       | 9       | 9       | 9       | 9       | 9       | 9       | 9       | 9        | 9        | 9        | 9        | 9        | 9        | 9        | 9        | 9        | 9        | 9        | 9        | 9        | 9        | 9        | 9        | 9        | 9        | 9        | 9        | 9        | 9        | 9        | 9        | 9        | 9        | 9      | 9     | 9     | 9     | 9     | 9     | 9     | 9     | 9     | 9     | 9     | 9     | 9     | 9     | 9     | 9     | 9     | 9     | 9     | 9     | 9     | 9     | 9     | 9     | 9     | 9     | 9     | 9     | 9     | 9     | 9     | 9     | 9     | 9     | 9     | 9     | 9     | 9     | 9     | 9     | 9     | 9     | 9     | 9     | 9     | 9     | 9     | 9     | 9     | 9     | 9     | 9     | 9     | 9     | 9     | 9     | 9     | 9     | 9     | 9     | 9     | 9     | 9     | 9     | 99    | 99    | 99    | 99    | 9     | 9     | 2     | 9     | 9     | 9     | 9     | 9     | 9     | 9     | 9     | 9     | 9     | 9     | 9     | 9     | 9     | 9     | 9     | 9     | 9     | 9     | 9     | 9     | 9     | 9     | 9     | 9     | 9     | 9     | 9      | 9     | 9     | 9     | 9     | 9     | 9     | 9     | 99    | 9      | 9      | 9      | 9      | 9      | 9      | 9      | 9      | 9     | 99    | 9     | 9     | 9     | 9     | 9      | 9      | 9     | 9     | 9     | 9     | 9     | 9     | 9     | 9     | 9     | 9     | 9     | 9     | 9     | 9     | 9     | 9     | 9     | 9     | 9     | 9     | 9     | 9     | 9     | 9     | 9     | 9      | 9      | 9      | 9      | 9      | 9     | 9     | 9     | 9     | 9      | 9      | 9      | 9     | 9     | 9      | 9     | 1     | 1     | 9     | 9     | 9     | 9     | 9     | 9     | 9     | 9     | 9     | 9     | 9     | 9     | 9     | 9     | 9     | 9     | 9     | 9     | 9     | 9     | 9     | 9     | 99    | 99    | 99    | 9     | 9     | 9     | 9     | 99    | 99    | 99    | 0     | 1     | 0     | 0     | 0     | 0     | 0     | 0     | 0     | 0     | 0     | 1     | 0     | 0     | 0     | 0     | 0     | 0     | 0     | 0     | 0     | 0     | 0     | 0     | 0     | 0     | 0     | 0     | 0     | 0     | 1     | 99    | 99    | 99    | 9     | 9     | 2     | 999    | 999    | 9     | 9     | 2     | 99    | 99    | 99    | 300   | 1     | 1     | 0     | 0     | 0     | 0     | 0     | 0     | 0     | 3     | 99999 | 9     | 9     | 9     | 9     | 9     | 9     | 9     | 9     | 9     | 99999 | 3      | 2     | 9     | 99999 | 99999 | 9     | 9     | 9     | 9     | 9     | 9     | 9     | 9     | 1     | 1     | 9     | 9     | 9     | 9     | 9     | 9     | 9     | 9     | 9     | 9     | 9     | 9     | 9     | 9     | 9     | 9     | 9     | 9     | 9     | 9     | 9     | 99    | 1     | 0     | 0     | 0     | 0     | 0     | 0     | 0     | 0     | 0     | 0     | 0     | 1     | 0     | 22    | 1     | 1     | 1     | 0     | 1     | 0     | 0     | 0     | 0     | 0     | 0     | 0     | 0     | 2     | 9     | 9     | 9     | 9     | 9     | 9     | 9     | 9     | 9     | 9     | 9     | 9     | 9     | 2     | 2     | 2     | 9     | 2     | 9     | 9     | 9     | 9     | 9     | 9     | 9     | 2     | 2     | 1     | 9     | 9      | 9      | 9     | 99     | 99     | 9     | 9     | 9     | 9      | 9     | 999   | 9     | 99999 | 1     | 0     | 0     | 0     | 0     | 0     | 1     | 0     | 999   | 9     | 99999 | 2     | 999   | 3     | 999   | 9     | 99    | 99    | 99    | 99    | 9     | 9     | 9     | 9     | 9     | 9     | 9     | 9     | 9     | 9     | 9     | 9     | 9      | 9      | 9      | 9      | 9      | 9      | 9      | 9      | 9      | 9     | 9     | 9     | 99    | 2       | 9      | 9      | 9      | 9      | 9      | 9      | 9      | 9      | 9        | 9        | 9        | 9        | 9        | 9        | 9        | 9        | 9        | 2        | 2        | 2       | 2       | 2       | 2       | 2       | 9        | -2    | 2873.39        | 27    | 57    | 2873.39  | 0    | 2015  | 2873.39 | 2873.39       | 2884.82    | 859.282    | 2953.92    | 2886.05    | 2645.5     | 808.395    | 832.639    | 2938.9     | 3066.46    | 2893.46     | 2824.15     | 5019.98     | 879.879     | 3031.77     | 4970.51     | 5158.03     | 4884.03     | 2875.79     | 822.106     | 4776.71     | 2777.06     | 853.031     | 2826.57     | 2771.94     | 2940.14     | 857.062     | 859.716     | 2772.1      | 2740.16     | 2967.07     | 2860.47     | 4654.18     | 822.062     | 2899.47     | 4923.47     | 4937.69     | 4925.52     | 2889.84     | 805.339     | 4866.26     | 2852.48     | 822.189     | 3018.21     | 2948.22     | 2895.85     | 831.194     | 846.45      | 2859.01     | 2889.91     | 2882.67     | 2902.73     | 4831.32     | 845.037     | 2871.47     | 5171.19     | 5057.34     | 4978.59     | 2889.72     | 857.589     | 4951.62     | 2821.3      | 815.597     | 2937.48     | 2993.46     | 2963.33     | 822.109     | 814.813     | 2740        | 2795.6      | 5026.57     | 4705.83     | 2884.91     | 841.981     | 2852.35     | 4637.64     | 4820.78     | 4992.94     | 3088.91     | 3023.2      | 902.361     | 872.669     | 2862.45     | 3090.33     | 2724.57     | 2926.09     | 861.681     | 846.902     | 2913.88     | 4967.8      | 4898.08     | 4986.81     | 4959.6      | 856.767     | 2862.8      | 4688.49     | 5052.44     | 2871.1      | 2883.69     | 2968.64     | 860.276      | 2759.26      | 837.508      | 3049         | 3001.05      | 2807.21      | 838.78       | 833.257      | 2726.95      | 2911.39      | 2971.92      | 2903         | 4700.43      | 837.166      | 2835.94      | 4705.91      | 5103.08      | 4773.85      | 2928.26      | 828.742      | 4676.01      | 2879.96      | 838.254      | 2867.68      | 2902.1       | 2773.44      | 836.748      | 870.785      | 2787.63      | 2868.97      | 2899.62      | 2803.93      | 5088.08      | 822.852      | 2908.68      | 4940.44      | 4754.23      | 5120.75      | 2939.81      | 880.598      | 5125.04      | 2843.85      | 857.643      | 2852.45      | 2914.44      | 2778.33      | 821.102      | 848.844      | 2838.12      | 2756.25      | 2770.85      | 2964.4       | 4650.39      | 846.781      | 2861.58      | 4916.72      | 5082.57      | 4983.99      | 2778.39      | 865.537      | 4939.89      | 2884.82    | 859.282    | 2953.92    | 2886.05    | 2645.5     | 808.395    | 832.639    | 2938.9     | 3066.46    | 2893.46     | 2824.15     | 5019.98     | 879.879     | 3031.77     | 4970.51     | 5158.03     | 4884.03     | 2875.79     | 822.106     | 4776.71     | 2777.06     | 853.031     | 2826.57     | 2771.94     | 2940.14     | 857.062     | 859.716     | 2772.1      | 2740.16     | 2967.07     | 2860.47     | 4654.18     | 822.062     | 2899.47     | 4923.47     | 4937.69     | 4925.52     | 2889.84     | 805.339     | 4866.26     | 2852.48     | 822.189     | 3018.21     | 2948.22     | 2895.85     | 831.194     | 846.45      | 2859.01     | 2889.91     | 2882.67     | 2902.73     | 4831.32     | 845.037     | 2871.47     | 5171.19     | 5057.34     | 4978.59     | 2889.72     | 857.589     | 4951.62     | 2821.3      | 815.597     | 2937.48     | 2993.46     | 2963.33     | 822.109     | 814.813     | 2740        | 2795.6      | 5026.57     | 4705.83     | 2884.91     | 841.981     | 2852.35     | 4637.64     | 4820.78     | 4992.94     | 3088.91     | 3023.2      | 902.361     | 872.669     | 2862.45     | 3090.33     | 2724.57     | 2926.09     | 861.681     | 846.902     | 2913.88     | 4967.8      | 4898.08     | 4986.81     | 4959.6      | 856.767     | 2862.8      | 4688.49     | 5052.44     | 2871.1      | 2883.69     | 2968.64     | 860.276      | 2759.26      | 837.508      | 3049         | 3001.05      | 2807.21      | 838.78       | 833.257      | 2726.95      | 2911.39      | 2971.92      | 2903         | 4700.43      | 837.166      | 2835.94      | 4705.91      | 5103.08      | 4773.85      | 2928.26      | 828.742      | 4676.01      | 2879.96      | 838.254      | 2867.68      | 2902.1       | 2773.44      | 836.748      | 870.785      | 2787.63      | 2868.97      | 2899.62      | 2803.93      | 5088.08      | 822.852      | 2908.68      | 4940.44      | 4754.23      | 5120.75      | 2939.81      | 880.598      | 5125.04      | 2843.85      | 857.643      | 2852.45      | 2914.44      | 2778.33      | 821.102      | 848.844      | 2838.12      | 2756.25      | 2770.85      | 2964.4       | 4650.39      | 846.781      | 2861.58      | 4916.72      | 5082.57      | 4983.99      | 2778.39      | 865.537      | 4939.89\n",
       "4     | 2016.1 | 2620222270196053292920116 | 262022227019605329292011602 | 204   | 161   | 26    | 20222270196053292920 | 1     | 16    | 2     | 2     | 36    | 1     | 9     | 9     | 2015  | 1     | 1     | 9     | 9     | 3      | 3     | 9     | 2      | 5     | 9     | 9     | 9     | 9     | 9     | 9     | 9     | 9     | 9     | 9     | 9     | 9     | 9     | 9     | 9     | 99    | 9      | 9      | 9      | 2     | 1     | 2     | 2     | 9     | 9     | 9     | 9     | 9     | 9     | 9     | 9     | 9     | 9     | 9     | 9     | 9     | 9     | 9     | 9     | 9     | 9     | 9     | 9     | 9     | 9     | 9     | 9     | 9     | 9     | 9     | 9     | 9     | 9     | 9     | 9     | 9     | 9     | 9     | 9     | 9     | 9     | 9     | 9     | 9     | 9     | 9     | 9     | 9     | 9     | 9     | 9     | 9     | 9     | 9     | 9     | 9     | 9     | 9     | 9     | 9     | 9     | 9     | 9     | 9     | 9     | 9     | 9     | 9     | 9     | 9     | 9     | 9     | 9     | 9     | 9     | 9     | 9     | 9     | 9     | 9     | 9     | 99    | 99    | 99    | 9     | 9     | 9     | 9     | 9     | 9     | 9     | 9     | 9     | 9     | 9     | 999   | 9     | 99999 | 9       | 9       | 9       | 9       | 9       | 9       | 9       | 9       | 9       | 9        | 9        | 9        | 9        | 9        | 9        | 9        | 9        | 9        | 9        | 9        | 9        | 9        | 9        | 9        | 9        | 9        | 9        | 9        | 9        | 9        | 9        | 9        | 9        | 9        | 9        | 9      | 9     | 9     | 9     | 9     | 9     | 9     | 9     | 9     | 9     | 9     | 9     | 9     | 9     | 9     | 9     | 9     | 9     | 9     | 9     | 9     | 9     | 9     | 9     | 9     | 9     | 9     | 9     | 9     | 9     | 9     | 9     | 9     | 9     | 9     | 9     | 9     | 9     | 9     | 9     | 9     | 9     | 9     | 9     | 9     | 9     | 9     | 9     | 9     | 9     | 9     | 9     | 9     | 9     | 9     | 9     | 9     | 9     | 9     | 9     | 9     | 9     | 9     | 9     | 99    | 99    | 99    | 99    | 9     | 9     | 2     | 9     | 9     | 9     | 9     | 9     | 9     | 9     | 9     | 9     | 9     | 9     | 9     | 9     | 9     | 9     | 9     | 9     | 9     | 9     | 9     | 9     | 9     | 9     | 9     | 9     | 9     | 9     | 9      | 9     | 9     | 9     | 9     | 9     | 9     | 9     | 99    | 9      | 9      | 9      | 9      | 9      | 9      | 9      | 9      | 9     | 99    | 9     | 9     | 9     | 9     | 9      | 9      | 9     | 9     | 9     | 9     | 9     | 9     | 9     | 9     | 9     | 9     | 9     | 9     | 9     | 9     | 9     | 9     | 9     | 9     | 9     | 9     | 9     | 9     | 9     | 9     | 9     | 9      | 9      | 9      | 9      | 9      | 9     | 9     | 9     | 9     | 9      | 9      | 9      | 9     | 9     | 9      | 9     | 1     | 1     | 9     | 9     | 9     | 9     | 9     | 9     | 9     | 9     | 9     | 9     | 9     | 9     | 9     | 9     | 9     | 9     | 9     | 9     | 9     | 9     | 9     | 9     | 99    | 99    | 99    | 9     | 9     | 9     | 9     | 99    | 99    | 99    | 0     | 1     | 0     | 0     | 0     | 0     | 0     | 0     | 0     | 0     | 0     | 1     | 0     | 0     | 0     | 0     | 0     | 0     | 0     | 0     | 0     | 0     | 0     | 0     | 0     | 0     | 0     | 0     | 0     | 0     | 8     | 98    | 99    | 99    | 9     | 9     | 2     | 999    | 999    | 9     | 9     | 2     | 99    | 99    | 99    | 99998 | 1     | 0     | 0     | 0     | 0     | 0     | 0     | 0     | 8     | 3     | 99999 | 9     | 9     | 9     | 9     | 9     | 9     | 9     | 9     | 9     | 99999 | 8      | 2     | 9     | 99999 | 99999 | 9     | 9     | 9     | 9     | 9     | 9     | 9     | 9     | 2     | 9     | 1     | 0     | 0     | 0     | 0     | 0     | 0     | 0     | 0     | 0     | 0     | 0     | 0     | 0     | 0     | 0     | 0     | 1     | 0     | 0     | 0     | 17    | 9     | 9     | 9     | 9     | 9     | 9     | 9     | 9     | 9     | 9     | 9     | 9     | 9     | 9     | 99    | 9     | 9     | 9     | 9     | 9     | 9     | 9     | 9     | 9     | 9     | 9     | 9     | 9     | 9     | 9     | 9     | 9     | 9     | 9     | 9     | 9     | 9     | 9     | 9     | 9     | 9     | 9     | 9     | 9     | 2     | 9     | 9     | 9     | 9     | 9     | 9     | 9     | 9     | 9     | 9     | 1     | 1     | 9     | 2      | 4      | 1     | 10     | 31     | 2     | 2     | 1     | 2      | 9     | 999   | 9     | 99999 | 1     | 0     | 0     | 0     | 0     | 0     | 1     | 0     | 999   | 9     | 99999 | 2     | 999   | 99    | 999   | 9     | 99    | 99    | 99    | 99    | 9     | 9     | 9     | 9     | 9     | 9     | 9     | 9     | 9     | 9     | 9     | 9     | 9      | 9      | 9      | 9      | 9      | 9      | 9      | 9      | 9      | 9     | 9     | 9     | 99    | 2       | 9      | 9      | 9      | 9      | 9      | 9      | 9      | 9      | 9        | 9        | 9        | 9        | 9        | 9        | 9        | 9        | 9        | 2        | 2        | 2       | 2       | 2       | 2       | 2       | 9        | -2    | 3567.66        | 38    | 58    | 3567.66  | 0    | 2015  | 3567.66 | 3567.66       | 3558.04    | 3623.07    | 3688.74    | 3377.37    | 3603.58    | 6121.45    | 1113.63    | 3610.29    | 5433.58    | 6249.14     | 6120.48     | 3388.71     | 1055.01     | 6486.42     | 990.587     | 3289.58     | 3416.99     | 3437.46     | 1083.33     | 1160.57     | 1030.48     | 6021.99     | 5658.56     | 1024.51     | 5939.8      | 3586.69     | 3502.14     | 1074        | 3308.66     | 3508.91     | 4087.89     | 6139.24     | 3785.88     | 3389.46     | 3282.74     | 6034.08     | 1019.35     | 1039.96     | 3633.47     | 3794.56     | 6141.52     | 1062.21     | 1085.4      | 5171.31     | 1072.58     | 3606.9      | 3585.01     | 6213.68     | 3539.67     | 3634.08     | 3641.33     | 1102.1      | 3912.92     | 3444.31     | 3534.69     | 1017.97     | 6191.45     | 5842.34     | 3527.02     | 3849.91     | 3665.06     | 3624.27     | 3503.35     | 3476.59     | 3566.74     | 1021.53     | 6268.97     | 3669.92     | 1049.03     | 3692.38     | 3620.87     | 3760.83     | 1148.6      | 1072.82     | 6066.81     | 3785.85     | 3701.36     | 3385        | 5963.63     | 3647.37     | 3496.77     | 1116.76     | 3808.39     | 3442.27     | 3759.36     | 5473.91     | 1030.71     | 3539.04     | 3600.27     | 5975.39     | 1047.35     | 3434.07     | 1062.21     | 6018.17     | 3410.25     | 3739.36     | 1074.98     | 5519.53     | 1015.95     | 3712.93      | 1032.31      | 5822.47      | 5700.65      | 1058.74      | 6225.06      | 3534.96      | 3440.99      | 1048.27      | 3596.44      | 3607.23      | 3513.8       | 5728.59      | 3652.1       | 3293.33      | 3572.32      | 6001.24      | 1030.21      | 1042.75      | 3378.32      | 3623.22      | 5902.97      | 1097.31      | 1024.65      | 5842.24      | 1025.33      | 3662.06      | 3573.43      | 6142.08      | 3756.96      | 3706.36      | 3664.63      | 1023.29      | 3350.21      | 3848.7       | 3489.01      | 1038.42      | 6078.01      | 6341.38      | 3715.72      | 3694.95      | 3651.51      | 3734.46      | 3372.47      | 4041.18      | 3497.75      | 1014.28      | 5930.81      | 3845.5       | 1141.94      | 1045.44      | 1097.98      | 3828.89      | 6079.93      | 1044.3       | 5931.25      | 3577.52      | 3870.69      | 3847.9       | 5816.95      | 5947.23      | 3558.04    | 3623.07    | 3688.74    | 3377.37    | 3603.58    | 6121.45    | 1113.63    | 3610.29    | 5433.58    | 6249.14     | 6120.48     | 3388.71     | 1055.01     | 6486.42     | 990.587     | 3289.58     | 3416.99     | 3437.46     | 1083.33     | 1160.57     | 1030.48     | 6021.99     | 5658.56     | 1024.51     | 5939.8      | 3586.69     | 3502.14     | 1074        | 3308.66     | 3508.91     | 4087.89     | 6139.24     | 3785.88     | 3389.46     | 3282.74     | 6034.08     | 1019.35     | 1039.96     | 3633.47     | 3794.56     | 6141.52     | 1062.21     | 1085.4      | 5171.31     | 1072.58     | 3606.9      | 3585.01     | 6213.68     | 3539.67     | 3634.08     | 3641.33     | 1102.1      | 3912.92     | 3444.31     | 3534.69     | 1017.97     | 6191.45     | 5842.34     | 3527.02     | 3849.91     | 3665.06     | 3624.27     | 3503.35     | 3476.59     | 3566.74     | 1021.53     | 6268.97     | 3669.92     | 1049.03     | 3692.38     | 3620.87     | 3760.83     | 1148.6      | 1072.82     | 6066.81     | 3785.85     | 3701.36     | 3385        | 5963.63     | 3647.37     | 3496.77     | 1116.76     | 3808.39     | 3442.27     | 3759.36     | 5473.91     | 1030.71     | 3539.04     | 3600.27     | 5975.39     | 1047.35     | 3434.07     | 1062.21     | 6018.17     | 3410.25     | 3739.36     | 1074.98     | 5519.53     | 1015.95     | 3712.93      | 1032.31      | 5822.47      | 5700.65      | 1058.74      | 6225.06      | 3534.96      | 3440.99      | 1048.27      | 3596.44      | 3607.23      | 3513.8       | 5728.59      | 3652.1       | 3293.33      | 3572.32      | 6001.24      | 1030.21      | 1042.75      | 3378.32      | 3623.22      | 5902.97      | 1097.31      | 1024.65      | 5842.24      | 1025.33      | 3662.06      | 3573.43      | 6142.08      | 3756.96      | 3706.36      | 3664.63      | 1023.29      | 3350.21      | 3848.7       | 3489.01      | 1038.42      | 6078.01      | 6341.38      | 3715.72      | 3694.95      | 3651.51      | 3734.46      | 3372.47      | 4041.18      | 3497.75      | 1014.28      | 5930.81      | 3845.5       | 1141.94      | 1045.44      | 1097.98      | 3828.89      | 6079.93      | 1044.3       | 5931.25      | 3577.52      | 3870.69      | 3847.9       | 5816.95      | 5947.23\n",
       "... (12961 rows omitted)"
      ]
     },
     "execution_count": 4,
     "metadata": {},
     "output_type": "execute_result"
    }
   ],
   "source": [
    "Table.read_table('../data/incident/DS0004/36828-0004-Data.tsv', delimiter='\\t')"
   ]
  },
  {
   "cell_type": "markdown",
   "metadata": {},
   "source": [
    "This table shows players in the NBA, their position, team, and salary (in millions of dollars) for each player. To create this table, we have drawn the data from the file at <a href=\"http://inferentialthinking.com/notebooks/nba_salaries.csv\">this link</a>, called `nba_salaries.csv`. In general, to import data from a `.csv` file, we write **`Table.read_table(\"file_name\")`.**\n",
    "\n",
    "However, we can also create our own tables from scratch without having to import data from another file. Let's say we have two arrays, one with a list of fruits, and another with a list of their price at the Berkeley Student Food Collective. Then, we can create a new `Table` with each of these arrays as columns with the `with_columns` method:"
   ]
  },
  {
   "cell_type": "code",
   "execution_count": 27,
   "metadata": {},
   "outputs": [
    {
     "data": {
      "text/html": [
       "<table border=\"1\" class=\"dataframe\">\n",
       "    <thead>\n",
       "        <tr>\n",
       "            <th>Fruit</th> <th>Price ($)</th>\n",
       "        </tr>\n",
       "    </thead>\n",
       "    <tbody>\n",
       "        <tr>\n",
       "            <td>Apple </td> <td>1        </td>\n",
       "        </tr>\n",
       "    </tbody>\n",
       "        <tr>\n",
       "            <td>Orange</td> <td>0.75     </td>\n",
       "        </tr>\n",
       "    </tbody>\n",
       "        <tr>\n",
       "            <td>Banana</td> <td>0.5      </td>\n",
       "        </tr>\n",
       "    </tbody>\n",
       "</table>"
      ],
      "text/plain": [
       "Fruit  | Price ($)\n",
       "Apple  | 1\n",
       "Orange | 0.75\n",
       "Banana | 0.5"
      ]
     },
     "execution_count": 27,
     "metadata": {},
     "output_type": "execute_result"
    }
   ],
   "source": [
    "fruit_names = make_array(\"Apple\", \"Orange\", \"Banana\")\n",
    "fruit_prices = make_array(1, 0.75, 0.5)\n",
    "fruit_table = Table().with_columns(\"Fruit\", fruit_names,\n",
    "                                  \"Price ($)\", fruit_prices)\n",
    "fruit_table"
   ]
  },
  {
   "cell_type": "markdown",
   "metadata": {},
   "source": [
    "The **`with_columns`** method takes in pairs of column labels and arrays, and creates a new table with each array as a column of the table. Finally, to create a new table (with no columns or rows), we simply write"
   ]
  },
  {
   "cell_type": "code",
   "execution_count": 18,
   "metadata": {},
   "outputs": [
    {
     "data": {
      "text/html": [
       "<table border=\"1\" class=\"dataframe\">\n",
       "    <thead>\n",
       "        <tr>\n",
       "            \n",
       "        </tr>\n",
       "    </thead>\n",
       "    <tbody>\n",
       "</table>"
      ],
      "text/plain": []
     },
     "execution_count": 18,
     "metadata": {},
     "output_type": "execute_result"
    }
   ],
   "source": [
    "empty_table = Table()\n",
    "empty_table"
   ]
  },
  {
   "cell_type": "markdown",
   "metadata": {},
   "source": [
    "We typically start off with empty tables when we need to add rows inside for loops, which we'll see later."
   ]
  },
  {
   "cell_type": "markdown",
   "metadata": {},
   "source": [
    "## Accessing Values"
   ]
  },
  {
   "cell_type": "markdown",
   "metadata": {},
   "source": [
    "Often, it is useful to access only the rows, columns, or values related to our analysis. We'll look at several ways to cut down our table into smaller, more digestible parts.\n",
    "\n",
    "Let's go back to our table of NBA players."
   ]
  },
  {
   "cell_type": "markdown",
   "metadata": {},
   "source": [
    "** Exercise 1 **\n",
    "\n",
    "Below, assign a variable named `nba_salaries` to the data from the `nba_salaries.csv` file at http://inferentialthinking.com/notebooks/nba_salaries.csv, then display the table. (Hint: use the `read_table` function from the previous section)."
   ]
  },
  {
   "cell_type": "code",
   "execution_count": 5,
   "metadata": {
    "collapsed": true
   },
   "outputs": [],
   "source": [
    "# YOUR CODE HERE\n",
    "\n",
    "nba_salaries = Table.read_table(\"http://inferentialthinking.com/notebooks/nba_salaries.csv\")"
   ]
  },
  {
   "cell_type": "markdown",
   "metadata": {},
   "source": [
    "Notice that not all of the rows are displayed--in fact, there are over 400 rows in the table! By default, we are shown the first 10 rows.\n",
    "\n",
    "However, let's say we wanted to see only the first _five_ rows of this table. We can do this by using the **`take`** function; it takes in a list or range of numbers, and creates a new table with rows from the original table whose indices are given in the array or range. Remember that in Python, indices start at 0! Below are a few examples:"
   ]
  },
  {
   "cell_type": "code",
   "execution_count": 6,
   "metadata": {},
   "outputs": [
    {
     "data": {
      "text/html": [
       "<table border=\"1\" class=\"dataframe\">\n",
       "    <thead>\n",
       "        <tr>\n",
       "            <th>PLAYER</th> <th>POSITION</th> <th>TEAM</th> <th>'15-'16 SALARY</th>\n",
       "        </tr>\n",
       "    </thead>\n",
       "    <tbody>\n",
       "        <tr>\n",
       "            <td>Al Horford     </td> <td>C       </td> <td>Atlanta Hawks</td> <td>12            </td>\n",
       "        </tr>\n",
       "    </tbody>\n",
       "        <tr>\n",
       "            <td>Jeff Teague    </td> <td>PG      </td> <td>Atlanta Hawks</td> <td>8             </td>\n",
       "        </tr>\n",
       "    </tbody>\n",
       "        <tr>\n",
       "            <td>Thabo Sefolosha</td> <td>SF      </td> <td>Atlanta Hawks</td> <td>4             </td>\n",
       "        </tr>\n",
       "    </tbody>\n",
       "</table>"
      ],
      "text/plain": [
       "PLAYER          | POSITION | TEAM          | '15-'16 SALARY\n",
       "Al Horford      | C        | Atlanta Hawks | 12\n",
       "Jeff Teague     | PG       | Atlanta Hawks | 8\n",
       "Thabo Sefolosha | SF       | Atlanta Hawks | 4"
      ]
     },
     "execution_count": 6,
     "metadata": {},
     "output_type": "execute_result"
    }
   ],
   "source": [
    "nba_salaries.take([1, 3, 5]) # Takes rows with indices 1, 3, and 5 (the 2nd, 4th, and 6th rows)"
   ]
  },
  {
   "cell_type": "code",
   "execution_count": 7,
   "metadata": {},
   "outputs": [
    {
     "data": {
      "text/html": [
       "<table border=\"1\" class=\"dataframe\">\n",
       "    <thead>\n",
       "        <tr>\n",
       "            <th>PLAYER</th> <th>POSITION</th> <th>TEAM</th> <th>'15-'16 SALARY</th>\n",
       "        </tr>\n",
       "    </thead>\n",
       "    <tbody>\n",
       "        <tr>\n",
       "            <td>Kent Bazemore</td> <td>SF      </td> <td>Atlanta Hawks</td> <td>2             </td>\n",
       "        </tr>\n",
       "    </tbody>\n",
       "</table>"
      ],
      "text/plain": [
       "PLAYER        | POSITION | TEAM          | '15-'16 SALARY\n",
       "Kent Bazemore | SF       | Atlanta Hawks | 2"
      ]
     },
     "execution_count": 7,
     "metadata": {},
     "output_type": "execute_result"
    }
   ],
   "source": [
    "nba_salaries.take(7) # Takes the row with index 7 (8th row)"
   ]
  },
  {
   "cell_type": "code",
   "execution_count": 8,
   "metadata": {},
   "outputs": [
    {
     "data": {
      "text/html": [
       "<table border=\"1\" class=\"dataframe\">\n",
       "    <thead>\n",
       "        <tr>\n",
       "            <th>PLAYER</th> <th>POSITION</th> <th>TEAM</th> <th>'15-'16 SALARY</th>\n",
       "        </tr>\n",
       "    </thead>\n",
       "    <tbody>\n",
       "        <tr>\n",
       "            <td>Paul Millsap   </td> <td>PF      </td> <td>Atlanta Hawks</td> <td>18.6717       </td>\n",
       "        </tr>\n",
       "    </tbody>\n",
       "        <tr>\n",
       "            <td>Al Horford     </td> <td>C       </td> <td>Atlanta Hawks</td> <td>12            </td>\n",
       "        </tr>\n",
       "    </tbody>\n",
       "        <tr>\n",
       "            <td>Tiago Splitter </td> <td>C       </td> <td>Atlanta Hawks</td> <td>9.75625       </td>\n",
       "        </tr>\n",
       "    </tbody>\n",
       "        <tr>\n",
       "            <td>Jeff Teague    </td> <td>PG      </td> <td>Atlanta Hawks</td> <td>8             </td>\n",
       "        </tr>\n",
       "    </tbody>\n",
       "        <tr>\n",
       "            <td>Kyle Korver    </td> <td>SG      </td> <td>Atlanta Hawks</td> <td>5.74648       </td>\n",
       "        </tr>\n",
       "    </tbody>\n",
       "        <tr>\n",
       "            <td>Thabo Sefolosha</td> <td>SF      </td> <td>Atlanta Hawks</td> <td>4             </td>\n",
       "        </tr>\n",
       "    </tbody>\n",
       "        <tr>\n",
       "            <td>Mike Scott     </td> <td>PF      </td> <td>Atlanta Hawks</td> <td>3.33333       </td>\n",
       "        </tr>\n",
       "    </tbody>\n",
       "</table>"
      ],
      "text/plain": [
       "PLAYER          | POSITION | TEAM          | '15-'16 SALARY\n",
       "Paul Millsap    | PF       | Atlanta Hawks | 18.6717\n",
       "Al Horford      | C        | Atlanta Hawks | 12\n",
       "Tiago Splitter  | C        | Atlanta Hawks | 9.75625\n",
       "Jeff Teague     | PG       | Atlanta Hawks | 8\n",
       "Kyle Korver     | SG       | Atlanta Hawks | 5.74648\n",
       "Thabo Sefolosha | SF       | Atlanta Hawks | 4\n",
       "Mike Scott      | PF       | Atlanta Hawks | 3.33333"
      ]
     },
     "execution_count": 8,
     "metadata": {},
     "output_type": "execute_result"
    }
   ],
   "source": [
    "nba_salaries.take(np.arange(7)) # Takes the row with indices 0, 1, ... 6"
   ]
  },
  {
   "cell_type": "markdown",
   "metadata": {},
   "source": [
    "Similarly, we can also choose to display certain columns of the table. There are two methods to accomplish this, and both methods take in lists of either column indices or column labels:\n",
    "- The **`select`** method creates a new table with only the columns indicated in the parameters.\n",
    "- The **`drop`** method creates a new table with all columns _except_ those indicated by the parameters (i.e. the parameters are dropped).\n",
    "\n",
    "Some examples:"
   ]
  },
  {
   "cell_type": "code",
   "execution_count": 9,
   "metadata": {},
   "outputs": [
    {
     "data": {
      "text/html": [
       "<table border=\"1\" class=\"dataframe\">\n",
       "    <thead>\n",
       "        <tr>\n",
       "            <th>PLAYER</th> <th>'15-'16 SALARY</th>\n",
       "        </tr>\n",
       "    </thead>\n",
       "    <tbody>\n",
       "        <tr>\n",
       "            <td>Paul Millsap    </td> <td>18.6717       </td>\n",
       "        </tr>\n",
       "    </tbody>\n",
       "        <tr>\n",
       "            <td>Al Horford      </td> <td>12            </td>\n",
       "        </tr>\n",
       "    </tbody>\n",
       "        <tr>\n",
       "            <td>Tiago Splitter  </td> <td>9.75625       </td>\n",
       "        </tr>\n",
       "    </tbody>\n",
       "        <tr>\n",
       "            <td>Jeff Teague     </td> <td>8             </td>\n",
       "        </tr>\n",
       "    </tbody>\n",
       "        <tr>\n",
       "            <td>Kyle Korver     </td> <td>5.74648       </td>\n",
       "        </tr>\n",
       "    </tbody>\n",
       "        <tr>\n",
       "            <td>Thabo Sefolosha </td> <td>4             </td>\n",
       "        </tr>\n",
       "    </tbody>\n",
       "        <tr>\n",
       "            <td>Mike Scott      </td> <td>3.33333       </td>\n",
       "        </tr>\n",
       "    </tbody>\n",
       "        <tr>\n",
       "            <td>Kent Bazemore   </td> <td>2             </td>\n",
       "        </tr>\n",
       "    </tbody>\n",
       "        <tr>\n",
       "            <td>Dennis Schroder </td> <td>1.7634        </td>\n",
       "        </tr>\n",
       "    </tbody>\n",
       "        <tr>\n",
       "            <td>Tim Hardaway Jr.</td> <td>1.30452       </td>\n",
       "        </tr>\n",
       "    </tbody>\n",
       "</table>\n",
       "<p>... (407 rows omitted)</p"
      ],
      "text/plain": [
       "PLAYER           | '15-'16 SALARY\n",
       "Paul Millsap     | 18.6717\n",
       "Al Horford       | 12\n",
       "Tiago Splitter   | 9.75625\n",
       "Jeff Teague      | 8\n",
       "Kyle Korver      | 5.74648\n",
       "Thabo Sefolosha  | 4\n",
       "Mike Scott       | 3.33333\n",
       "Kent Bazemore    | 2\n",
       "Dennis Schroder  | 1.7634\n",
       "Tim Hardaway Jr. | 1.30452\n",
       "... (407 rows omitted)"
      ]
     },
     "execution_count": 9,
     "metadata": {},
     "output_type": "execute_result"
    }
   ],
   "source": [
    "nba_salaries.select([\"PLAYER\", \"'15-'16 SALARY\"]) # Selects only \"PLAYER\" and \"'15-'16 SALARY\" columns"
   ]
  },
  {
   "cell_type": "code",
   "execution_count": 14,
   "metadata": {},
   "outputs": [
    {
     "data": {
      "text/html": [
       "<table border=\"1\" class=\"dataframe\">\n",
       "    <thead>\n",
       "        <tr>\n",
       "            <th>PLAYER</th> <th>POSITION</th> <th>TEAM</th> <th>'15-'16 SALARY</th>\n",
       "        </tr>\n",
       "    </thead>\n",
       "    <tbody>\n",
       "        <tr>\n",
       "            <td>Al Horford</td> <td>C       </td> <td>Atlanta Hawks</td> <td>12            </td>\n",
       "        </tr>\n",
       "    </tbody>\n",
       "</table>"
      ],
      "text/plain": [
       "PLAYER     | POSITION | TEAM          | '15-'16 SALARY\n",
       "Al Horford | C        | Atlanta Hawks | 12"
      ]
     },
     "execution_count": 14,
     "metadata": {},
     "output_type": "execute_result"
    }
   ],
   "source": [
    "nba_salaries.take([1]) # What does this line of code do again?"
   ]
  },
  {
   "cell_type": "code",
   "execution_count": 15,
   "metadata": {},
   "outputs": [
    {
     "data": {
      "text/html": [
       "<table border=\"1\" class=\"dataframe\">\n",
       "    <thead>\n",
       "        <tr>\n",
       "            <th>PLAYER</th> <th>TEAM</th>\n",
       "        </tr>\n",
       "    </thead>\n",
       "    <tbody>\n",
       "        <tr>\n",
       "            <td>Paul Millsap    </td> <td>Atlanta Hawks</td>\n",
       "        </tr>\n",
       "    </tbody>\n",
       "        <tr>\n",
       "            <td>Al Horford      </td> <td>Atlanta Hawks</td>\n",
       "        </tr>\n",
       "    </tbody>\n",
       "        <tr>\n",
       "            <td>Tiago Splitter  </td> <td>Atlanta Hawks</td>\n",
       "        </tr>\n",
       "    </tbody>\n",
       "        <tr>\n",
       "            <td>Jeff Teague     </td> <td>Atlanta Hawks</td>\n",
       "        </tr>\n",
       "    </tbody>\n",
       "        <tr>\n",
       "            <td>Kyle Korver     </td> <td>Atlanta Hawks</td>\n",
       "        </tr>\n",
       "    </tbody>\n",
       "        <tr>\n",
       "            <td>Thabo Sefolosha </td> <td>Atlanta Hawks</td>\n",
       "        </tr>\n",
       "    </tbody>\n",
       "        <tr>\n",
       "            <td>Mike Scott      </td> <td>Atlanta Hawks</td>\n",
       "        </tr>\n",
       "    </tbody>\n",
       "        <tr>\n",
       "            <td>Kent Bazemore   </td> <td>Atlanta Hawks</td>\n",
       "        </tr>\n",
       "    </tbody>\n",
       "        <tr>\n",
       "            <td>Dennis Schroder </td> <td>Atlanta Hawks</td>\n",
       "        </tr>\n",
       "    </tbody>\n",
       "        <tr>\n",
       "            <td>Tim Hardaway Jr.</td> <td>Atlanta Hawks</td>\n",
       "        </tr>\n",
       "    </tbody>\n",
       "</table>\n",
       "<p>... (407 rows omitted)</p"
      ],
      "text/plain": [
       "PLAYER           | TEAM\n",
       "Paul Millsap     | Atlanta Hawks\n",
       "Al Horford       | Atlanta Hawks\n",
       "Tiago Splitter   | Atlanta Hawks\n",
       "Jeff Teague      | Atlanta Hawks\n",
       "Kyle Korver      | Atlanta Hawks\n",
       "Thabo Sefolosha  | Atlanta Hawks\n",
       "Mike Scott       | Atlanta Hawks\n",
       "Kent Bazemore    | Atlanta Hawks\n",
       "Dennis Schroder  | Atlanta Hawks\n",
       "Tim Hardaway Jr. | Atlanta Hawks\n",
       "... (407 rows omitted)"
      ]
     },
     "execution_count": 15,
     "metadata": {},
     "output_type": "execute_result"
    }
   ],
   "source": [
    "nba_salaries.drop([1, 3]) # Drops the columns with indices 1 and 3 (\"POSITION\" and \"'15-'16 SALARY\" columns)"
   ]
  },
  {
   "cell_type": "code",
   "execution_count": 16,
   "metadata": {},
   "outputs": [
    {
     "data": {
      "text/html": [
       "<table border=\"1\" class=\"dataframe\">\n",
       "    <thead>\n",
       "        <tr>\n",
       "            <th>PLAYER</th> <th>'15-'16 SALARY</th>\n",
       "        </tr>\n",
       "    </thead>\n",
       "    <tbody>\n",
       "        <tr>\n",
       "            <td>Al Horford     </td> <td>12            </td>\n",
       "        </tr>\n",
       "    </tbody>\n",
       "        <tr>\n",
       "            <td>Jeff Teague    </td> <td>8             </td>\n",
       "        </tr>\n",
       "    </tbody>\n",
       "        <tr>\n",
       "            <td>Thabo Sefolosha</td> <td>4             </td>\n",
       "        </tr>\n",
       "    </tbody>\n",
       "        <tr>\n",
       "            <td>Kent Bazemore  </td> <td>2             </td>\n",
       "        </tr>\n",
       "    </tbody>\n",
       "</table>"
      ],
      "text/plain": [
       "PLAYER          | '15-'16 SALARY\n",
       "Al Horford      | 12\n",
       "Jeff Teague     | 8\n",
       "Thabo Sefolosha | 4\n",
       "Kent Bazemore   | 2"
      ]
     },
     "execution_count": 16,
     "metadata": {},
     "output_type": "execute_result"
    }
   ],
   "source": [
    "nba_salaries.select([0, 3]).take([1, 3, 5, 7]) # Select only columns with indices 0 and 3, \n",
    "                                               # then only the rows with indices 1, 3, 5, 7"
   ]
  },
  {
   "cell_type": "markdown",
   "metadata": {},
   "source": [
    "** Exercise 2**\n",
    "\n",
    "To make sure you understand the `take`, `select`, and `drop` functions, try creating a new Table with only the columns of the player name and the position, with only the first 3 rows:"
   ]
  },
  {
   "cell_type": "code",
   "execution_count": null,
   "metadata": {
    "collapsed": true
   },
   "outputs": [],
   "source": [
    "# YOUR CODE HERE"
   ]
  },
  {
   "cell_type": "markdown",
   "metadata": {},
   "source": [
    "Finally, the **`where`** function is similar to the `take` function in that you choose certain rows; however, rather than specifying the indices of the selected rows, we give two arguments:\n",
    "- A column label\n",
    "- A condition that each row should match, called the _predicate_ \n",
    "\n",
    "In other words, we call the `where` function like so: `table_name.where(column_name, predicate)`.\n",
    "\n",
    "There are many types of predicates, but some of the more common ones that you are likely to use are:\n",
    "\n",
    "|Predicate|Example|Result|\n",
    "|-|-|-|\n",
    "|`are.equal_to`|`are.equal_to(50)`|Find rows with values equal to 50|\n",
    "|`are.not_equal_to`|`are.not_equal_to(50)`|Find rows with values not equal to 50|\n",
    "|`are.above`|`are.above(50)`|Find rows with values above (and not equal to) 50|\n",
    "|`are.above_or_equal_to`|`are.above_or_equal_to(50)`|Find rows with values above 50 or equal to 50|\n",
    "|`are.below`|`are.below(50)`|Find rows with values below 50|\n",
    "|`are.between`|`are.between(2, 10)`|Find rows with values above or equal to 2 and below 10|\n",
    "\n",
    "Here are some examples of using the `where` function:"
   ]
  },
  {
   "cell_type": "code",
   "execution_count": 35,
   "metadata": {},
   "outputs": [
    {
     "data": {
      "text/html": [
       "<table border=\"1\" class=\"dataframe\">\n",
       "    <thead>\n",
       "        <tr>\n",
       "            <th>PLAYER</th> <th>POSITION</th> <th>TEAM</th> <th>'15-'16 SALARY</th>\n",
       "        </tr>\n",
       "    </thead>\n",
       "    <tbody>\n",
       "        <tr>\n",
       "            <td>Klay Thompson    </td> <td>SG      </td> <td>Golden State Warriors</td> <td>15.501        </td>\n",
       "        </tr>\n",
       "    </tbody>\n",
       "        <tr>\n",
       "            <td>Draymond Green   </td> <td>PF      </td> <td>Golden State Warriors</td> <td>14.2609       </td>\n",
       "        </tr>\n",
       "    </tbody>\n",
       "        <tr>\n",
       "            <td>Andrew Bogut     </td> <td>C       </td> <td>Golden State Warriors</td> <td>13.8          </td>\n",
       "        </tr>\n",
       "    </tbody>\n",
       "        <tr>\n",
       "            <td>Andre Iguodala   </td> <td>SF      </td> <td>Golden State Warriors</td> <td>11.7105       </td>\n",
       "        </tr>\n",
       "    </tbody>\n",
       "        <tr>\n",
       "            <td>Stephen Curry    </td> <td>PG      </td> <td>Golden State Warriors</td> <td>11.3708       </td>\n",
       "        </tr>\n",
       "    </tbody>\n",
       "        <tr>\n",
       "            <td>Jason Thompson   </td> <td>PF      </td> <td>Golden State Warriors</td> <td>7.00847       </td>\n",
       "        </tr>\n",
       "    </tbody>\n",
       "        <tr>\n",
       "            <td>Shaun Livingston </td> <td>PG      </td> <td>Golden State Warriors</td> <td>5.54373       </td>\n",
       "        </tr>\n",
       "    </tbody>\n",
       "        <tr>\n",
       "            <td>Harrison Barnes  </td> <td>SF      </td> <td>Golden State Warriors</td> <td>3.8734        </td>\n",
       "        </tr>\n",
       "    </tbody>\n",
       "        <tr>\n",
       "            <td>Marreese Speights</td> <td>C       </td> <td>Golden State Warriors</td> <td>3.815         </td>\n",
       "        </tr>\n",
       "    </tbody>\n",
       "        <tr>\n",
       "            <td>Leandro Barbosa  </td> <td>SG      </td> <td>Golden State Warriors</td> <td>2.5           </td>\n",
       "        </tr>\n",
       "    </tbody>\n",
       "</table>\n",
       "<p>... (4 rows omitted)</p"
      ],
      "text/plain": [
       "PLAYER            | POSITION | TEAM                  | '15-'16 SALARY\n",
       "Klay Thompson     | SG       | Golden State Warriors | 15.501\n",
       "Draymond Green    | PF       | Golden State Warriors | 14.2609\n",
       "Andrew Bogut      | C        | Golden State Warriors | 13.8\n",
       "Andre Iguodala    | SF       | Golden State Warriors | 11.7105\n",
       "Stephen Curry     | PG       | Golden State Warriors | 11.3708\n",
       "Jason Thompson    | PF       | Golden State Warriors | 7.00847\n",
       "Shaun Livingston  | PG       | Golden State Warriors | 5.54373\n",
       "Harrison Barnes   | SF       | Golden State Warriors | 3.8734\n",
       "Marreese Speights | C        | Golden State Warriors | 3.815\n",
       "Leandro Barbosa   | SG       | Golden State Warriors | 2.5\n",
       "... (4 rows omitted)"
      ]
     },
     "execution_count": 35,
     "metadata": {},
     "output_type": "execute_result"
    }
   ],
   "source": [
    "nba_salaries.where(\"TEAM\", are.equal_to(\"Golden State Warriors\")) # Rows where team is equal to \"Golden State Warriors\""
   ]
  },
  {
   "cell_type": "code",
   "execution_count": 36,
   "metadata": {},
   "outputs": [
    {
     "data": {
      "text/html": [
       "<table border=\"1\" class=\"dataframe\">\n",
       "    <thead>\n",
       "        <tr>\n",
       "            <th>PLAYER</th> <th>POSITION</th> <th>TEAM</th> <th>'15-'16 SALARY</th>\n",
       "        </tr>\n",
       "    </thead>\n",
       "    <tbody>\n",
       "        <tr>\n",
       "            <td>Paul Millsap   </td> <td>PF      </td> <td>Atlanta Hawks </td> <td>18.6717       </td>\n",
       "        </tr>\n",
       "    </tbody>\n",
       "        <tr>\n",
       "            <td>Al Horford     </td> <td>C       </td> <td>Atlanta Hawks </td> <td>12            </td>\n",
       "        </tr>\n",
       "    </tbody>\n",
       "        <tr>\n",
       "            <td>Tiago Splitter </td> <td>C       </td> <td>Atlanta Hawks </td> <td>9.75625       </td>\n",
       "        </tr>\n",
       "    </tbody>\n",
       "        <tr>\n",
       "            <td>Jeff Teague    </td> <td>PG      </td> <td>Atlanta Hawks </td> <td>8             </td>\n",
       "        </tr>\n",
       "    </tbody>\n",
       "        <tr>\n",
       "            <td>Thabo Sefolosha</td> <td>SF      </td> <td>Atlanta Hawks </td> <td>4             </td>\n",
       "        </tr>\n",
       "    </tbody>\n",
       "        <tr>\n",
       "            <td>Mike Scott     </td> <td>PF      </td> <td>Atlanta Hawks </td> <td>3.33333       </td>\n",
       "        </tr>\n",
       "    </tbody>\n",
       "        <tr>\n",
       "            <td>Kent Bazemore  </td> <td>SF      </td> <td>Atlanta Hawks </td> <td>2             </td>\n",
       "        </tr>\n",
       "    </tbody>\n",
       "        <tr>\n",
       "            <td>Dennis Schroder</td> <td>PG      </td> <td>Atlanta Hawks </td> <td>1.7634        </td>\n",
       "        </tr>\n",
       "    </tbody>\n",
       "        <tr>\n",
       "            <td>Walter Tavares </td> <td>C       </td> <td>Atlanta Hawks </td> <td>1             </td>\n",
       "        </tr>\n",
       "    </tbody>\n",
       "        <tr>\n",
       "            <td>Avery Bradley  </td> <td>PG      </td> <td>Boston Celtics</td> <td>7.73034       </td>\n",
       "        </tr>\n",
       "    </tbody>\n",
       "</table>\n",
       "<p>... (311 rows omitted)</p"
      ],
      "text/plain": [
       "PLAYER          | POSITION | TEAM           | '15-'16 SALARY\n",
       "Paul Millsap    | PF       | Atlanta Hawks  | 18.6717\n",
       "Al Horford      | C        | Atlanta Hawks  | 12\n",
       "Tiago Splitter  | C        | Atlanta Hawks  | 9.75625\n",
       "Jeff Teague     | PG       | Atlanta Hawks  | 8\n",
       "Thabo Sefolosha | SF       | Atlanta Hawks  | 4\n",
       "Mike Scott      | PF       | Atlanta Hawks  | 3.33333\n",
       "Kent Bazemore   | SF       | Atlanta Hawks  | 2\n",
       "Dennis Schroder | PG       | Atlanta Hawks  | 1.7634\n",
       "Walter Tavares  | C        | Atlanta Hawks  | 1\n",
       "Avery Bradley   | PG       | Boston Celtics | 7.73034\n",
       "... (311 rows omitted)"
      ]
     },
     "execution_count": 36,
     "metadata": {},
     "output_type": "execute_result"
    }
   ],
   "source": [
    "nba_salaries.where(\"POSITION\", are.not_equal_to(\"SG\")) # Rows where position is not equal to \"SG\""
   ]
  },
  {
   "cell_type": "code",
   "execution_count": 19,
   "metadata": {},
   "outputs": [
    {
     "data": {
      "text/html": [
       "<table border=\"1\" class=\"dataframe\">\n",
       "    <thead>\n",
       "        <tr>\n",
       "            <th>PLAYER</th> <th>TEAM</th> <th>'15-'16 SALARY</th>\n",
       "        </tr>\n",
       "    </thead>\n",
       "    <tbody>\n",
       "        <tr>\n",
       "            <td>Joe Johnson    </td> <td>Brooklyn Nets        </td> <td>24.8949       </td>\n",
       "        </tr>\n",
       "    </tbody>\n",
       "        <tr>\n",
       "            <td>Derrick Rose   </td> <td>Chicago Bulls        </td> <td>20.0931       </td>\n",
       "        </tr>\n",
       "    </tbody>\n",
       "        <tr>\n",
       "            <td>LeBron James   </td> <td>Cleveland Cavaliers  </td> <td>22.9705       </td>\n",
       "        </tr>\n",
       "    </tbody>\n",
       "        <tr>\n",
       "            <td>Dwight Howard  </td> <td>Houston Rockets      </td> <td>22.3594       </td>\n",
       "        </tr>\n",
       "    </tbody>\n",
       "        <tr>\n",
       "            <td>Chris Paul     </td> <td>Los Angeles Clippers </td> <td>21.4687       </td>\n",
       "        </tr>\n",
       "    </tbody>\n",
       "        <tr>\n",
       "            <td>Kobe Bryant    </td> <td>Los Angeles Lakers   </td> <td>25            </td>\n",
       "        </tr>\n",
       "    </tbody>\n",
       "        <tr>\n",
       "            <td>Chris Bosh     </td> <td>Miami Heat           </td> <td>22.1927       </td>\n",
       "        </tr>\n",
       "    </tbody>\n",
       "        <tr>\n",
       "            <td>Dwyane Wade    </td> <td>Miami Heat           </td> <td>20            </td>\n",
       "        </tr>\n",
       "    </tbody>\n",
       "        <tr>\n",
       "            <td>Carmelo Anthony</td> <td>New York Knicks      </td> <td>22.875        </td>\n",
       "        </tr>\n",
       "    </tbody>\n",
       "        <tr>\n",
       "            <td>Kevin Durant   </td> <td>Oklahoma City Thunder</td> <td>20.1586       </td>\n",
       "        </tr>\n",
       "    </tbody>\n",
       "</table>"
      ],
      "text/plain": [
       "PLAYER          | TEAM                  | '15-'16 SALARY\n",
       "Joe Johnson     | Brooklyn Nets         | 24.8949\n",
       "Derrick Rose    | Chicago Bulls         | 20.0931\n",
       "LeBron James    | Cleveland Cavaliers   | 22.9705\n",
       "Dwight Howard   | Houston Rockets       | 22.3594\n",
       "Chris Paul      | Los Angeles Clippers  | 21.4687\n",
       "Kobe Bryant     | Los Angeles Lakers    | 25\n",
       "Chris Bosh      | Miami Heat            | 22.1927\n",
       "Dwyane Wade     | Miami Heat            | 20\n",
       "Carmelo Anthony | New York Knicks       | 22.875\n",
       "Kevin Durant    | Oklahoma City Thunder | 20.1586"
      ]
     },
     "execution_count": 19,
     "metadata": {},
     "output_type": "execute_result"
    }
   ],
   "source": [
    "nba_salaries.where(3, are.above_or_equal_to(20)).select(0, 2, 3) # Rows where salary is greater than or equal to 20,\n",
    "                                                              # then select only the player, team, and salary columns"
   ]
  },
  {
   "cell_type": "markdown",
   "metadata": {},
   "source": [
    "** Exercise 3 **\n",
    "\n",
    "Now you try: assign the variable `heat_high_pay` to a Table with players from the Miami Heat AND who earned $20 million or more during the '15-'16 season, with the team name dropped. (Hint: there are three \"steps\" to get your final result, and you should get 2 rows at the end!)"
   ]
  },
  {
   "cell_type": "code",
   "execution_count": null,
   "metadata": {
    "collapsed": true
   },
   "outputs": [],
   "source": [
    "# YOUR CODE HERE"
   ]
  },
  {
   "cell_type": "markdown",
   "metadata": {},
   "source": [
    "## Working With Data"
   ]
  },
  {
   "cell_type": "markdown",
   "metadata": {},
   "source": [
    "Using the methods that we have learned, we can now dive into calculating statistics from data in tables. Two useful _attributes_ (variables, not methods!) of tables are **`num_rows`** and **`num_columns`**. They store the number of rows and the number of columns in a given table, respectively. For example:"
   ]
  },
  {
   "cell_type": "code",
   "execution_count": 20,
   "metadata": {},
   "outputs": [
    {
     "name": "stdout",
     "output_type": "stream",
     "text": [
      "Number of rows:  417\n",
      "Numbers of columns:  4\n"
     ]
    }
   ],
   "source": [
    "num_players = nba_salaries.num_rows\n",
    "print(\"Number of rows: \", num_players)\n",
    "num_attributes = nba_salaries.num_columns\n",
    "print(\"Numbers of columns: \", num_attributes)"
   ]
  },
  {
   "cell_type": "markdown",
   "metadata": {},
   "source": [
    "Notice that we do _not_ put `()` after `num_rows` and `num_columns`, as we did for other methods.\n",
    "\n",
    "Using all of the methods we have learned in this notebook, we have many interesting ways of finding out new information about NBA players in the 2015-2016 season. For example, let's say we wanted to find out the proportion of players who were paid more than $10 million in the '15-'16 season. Our train of thought might go something like this:\n",
    "\n",
    "1. Create a new table, but select only the rows where the salary is more than $10 million.\n",
    "2. Find the number of rows in this new table.\n",
    "3. Divide this number by the total number of players in the table to get the proportion.\n",
    "\n",
    "Now, we can translate this into code:"
   ]
  },
  {
   "cell_type": "code",
   "execution_count": 39,
   "metadata": {},
   "outputs": [
    {
     "data": {
      "text/plain": [
       "0.16546762589928057"
      ]
     },
     "execution_count": 39,
     "metadata": {},
     "output_type": "execute_result"
    }
   ],
   "source": [
    "paid_10_or_higher_table = nba_salaries.where(3, are.above(10)) # Step 1\n",
    "paid_10_or_higher = paid_10_or_higher_table.num_rows # Step 2\n",
    "proportion_paid_10 = paid_10_or_higher / nba_salaries.num_rows # Step 3\n",
    "proportion_paid_10"
   ]
  },
  {
   "cell_type": "markdown",
   "metadata": {},
   "source": [
    "** Exercise 4 **\n",
    "\n",
    "As an exercise, find out the proportion of point guards (i.e. the \"Position\" is \"PG\") in the table `nba_salaries`. From what you know about typical basketball team position proportions, is this number close to what you expected?"
   ]
  },
  {
   "cell_type": "code",
   "execution_count": 41,
   "metadata": {
    "collapsed": true
   },
   "outputs": [],
   "source": [
    "# YOUR CODE HERE"
   ]
  },
  {
   "cell_type": "markdown",
   "metadata": {},
   "source": [
    "Another way we can process data in tables is to apply functions to columns. We can select one column from a table as an array with the **`column`** method. For example, `nba_salaries.column(\"PLAYER\")` would return an _array_ of player names.\n",
    "\n",
    "Let's say we wanted to find the average salary of all NBA players in the '15-'16 season. Taking arrays makes this quite straightforward; we simply need to select the column of salaries, then apply the `np.mean` function to the array:"
   ]
  },
  {
   "cell_type": "code",
   "execution_count": 42,
   "metadata": {},
   "outputs": [
    {
     "data": {
      "text/plain": [
       "5.0748144820143883"
      ]
     },
     "execution_count": 42,
     "metadata": {},
     "output_type": "execute_result"
    }
   ],
   "source": [
    "salary_array = nba_salaries.column(3)\n",
    "avg_salary = np.mean(salary_array)\n",
    "avg_salary"
   ]
  },
  {
   "cell_type": "markdown",
   "metadata": {},
   "source": [
    "We see that the average salary for NBA players in the '15-'16 season was just above $5 million.\n",
    "\n",
    "** Exercise 5 **\n",
    "\n",
    "Now you try: what is the _range_ (the maximum minus the minimum) of the salary of NBA players? (Hint: the `max` and `min` functions might be handy)\n",
    "\n",
    "Feel free to use the `salary_array` from above."
   ]
  },
  {
   "cell_type": "code",
   "execution_count": 43,
   "metadata": {
    "collapsed": true
   },
   "outputs": [],
   "source": [
    "# YOUR CODE HERE"
   ]
  },
  {
   "cell_type": "markdown",
   "metadata": {},
   "source": [
    "Finally, it can be very useful to sort our tables according to some column. The `sort` function does exactly that; it takes the column that you want to sort by. By default, the `sort` function sorts the table in _ascending_ order of the data in the column indicated; however, you can change this by setting the optional parameter `descending=True`.\n",
    "\n",
    "Below are some examples:"
   ]
  },
  {
   "cell_type": "code",
   "execution_count": 44,
   "metadata": {},
   "outputs": [
    {
     "data": {
      "text/html": [
       "<table border=\"1\" class=\"dataframe\">\n",
       "    <thead>\n",
       "        <tr>\n",
       "            <th>PLAYER</th> <th>POSITION</th> <th>TEAM</th> <th>'15-'16 SALARY</th>\n",
       "        </tr>\n",
       "    </thead>\n",
       "    <tbody>\n",
       "        <tr>\n",
       "            <td>Aaron Brooks   </td> <td>PG      </td> <td>Chicago Bulls         </td> <td>2.25          </td>\n",
       "        </tr>\n",
       "    </tbody>\n",
       "        <tr>\n",
       "            <td>Aaron Gordon   </td> <td>PF      </td> <td>Orlando Magic         </td> <td>4.17168       </td>\n",
       "        </tr>\n",
       "    </tbody>\n",
       "        <tr>\n",
       "            <td>Aaron Harrison </td> <td>SG      </td> <td>Charlotte Hornets     </td> <td>0.525093      </td>\n",
       "        </tr>\n",
       "    </tbody>\n",
       "        <tr>\n",
       "            <td>Adreian Payne  </td> <td>PF      </td> <td>Minnesota Timberwolves</td> <td>1.93884       </td>\n",
       "        </tr>\n",
       "    </tbody>\n",
       "        <tr>\n",
       "            <td>Al Horford     </td> <td>C       </td> <td>Atlanta Hawks         </td> <td>12            </td>\n",
       "        </tr>\n",
       "    </tbody>\n",
       "        <tr>\n",
       "            <td>Al Jefferson   </td> <td>C       </td> <td>Charlotte Hornets     </td> <td>13.5          </td>\n",
       "        </tr>\n",
       "    </tbody>\n",
       "        <tr>\n",
       "            <td>Al-Farouq Aminu</td> <td>SF      </td> <td>Portland Trail Blazers</td> <td>8.04289       </td>\n",
       "        </tr>\n",
       "    </tbody>\n",
       "        <tr>\n",
       "            <td>Alan Anderson  </td> <td>SG      </td> <td>Washington Wizards    </td> <td>4             </td>\n",
       "        </tr>\n",
       "    </tbody>\n",
       "        <tr>\n",
       "            <td>Alec Burks     </td> <td>SG      </td> <td>Utah Jazz             </td> <td>9.46348       </td>\n",
       "        </tr>\n",
       "    </tbody>\n",
       "        <tr>\n",
       "            <td>Alex Len       </td> <td>C       </td> <td>Phoenix Suns          </td> <td>3.80712       </td>\n",
       "        </tr>\n",
       "    </tbody>\n",
       "</table>\n",
       "<p>... (407 rows omitted)</p"
      ],
      "text/plain": [
       "PLAYER          | POSITION | TEAM                   | '15-'16 SALARY\n",
       "Aaron Brooks    | PG       | Chicago Bulls          | 2.25\n",
       "Aaron Gordon    | PF       | Orlando Magic          | 4.17168\n",
       "Aaron Harrison  | SG       | Charlotte Hornets      | 0.525093\n",
       "Adreian Payne   | PF       | Minnesota Timberwolves | 1.93884\n",
       "Al Horford      | C        | Atlanta Hawks          | 12\n",
       "Al Jefferson    | C        | Charlotte Hornets      | 13.5\n",
       "Al-Farouq Aminu | SF       | Portland Trail Blazers | 8.04289\n",
       "Alan Anderson   | SG       | Washington Wizards     | 4\n",
       "Alec Burks      | SG       | Utah Jazz              | 9.46348\n",
       "Alex Len        | C        | Phoenix Suns           | 3.80712\n",
       "... (407 rows omitted)"
      ]
     },
     "execution_count": 44,
     "metadata": {},
     "output_type": "execute_result"
    }
   ],
   "source": [
    "nba_salaries.sort(\"PLAYER\") # Sort table by name in alphabetical (ascending) order"
   ]
  },
  {
   "cell_type": "code",
   "execution_count": 45,
   "metadata": {},
   "outputs": [
    {
     "data": {
      "text/html": [
       "<table border=\"1\" class=\"dataframe\">\n",
       "    <thead>\n",
       "        <tr>\n",
       "            <th>PLAYER</th> <th>POSITION</th> <th>TEAM</th> <th>'15-'16 SALARY</th>\n",
       "        </tr>\n",
       "    </thead>\n",
       "    <tbody>\n",
       "        <tr>\n",
       "            <td>Kobe Bryant    </td> <td>SF      </td> <td>Los Angeles Lakers   </td> <td>25            </td>\n",
       "        </tr>\n",
       "    </tbody>\n",
       "        <tr>\n",
       "            <td>Joe Johnson    </td> <td>SF      </td> <td>Brooklyn Nets        </td> <td>24.8949       </td>\n",
       "        </tr>\n",
       "    </tbody>\n",
       "        <tr>\n",
       "            <td>LeBron James   </td> <td>SF      </td> <td>Cleveland Cavaliers  </td> <td>22.9705       </td>\n",
       "        </tr>\n",
       "    </tbody>\n",
       "        <tr>\n",
       "            <td>Carmelo Anthony</td> <td>SF      </td> <td>New York Knicks      </td> <td>22.875        </td>\n",
       "        </tr>\n",
       "    </tbody>\n",
       "        <tr>\n",
       "            <td>Dwight Howard  </td> <td>C       </td> <td>Houston Rockets      </td> <td>22.3594       </td>\n",
       "        </tr>\n",
       "    </tbody>\n",
       "        <tr>\n",
       "            <td>Chris Bosh     </td> <td>PF      </td> <td>Miami Heat           </td> <td>22.1927       </td>\n",
       "        </tr>\n",
       "    </tbody>\n",
       "        <tr>\n",
       "            <td>Chris Paul     </td> <td>PG      </td> <td>Los Angeles Clippers </td> <td>21.4687       </td>\n",
       "        </tr>\n",
       "    </tbody>\n",
       "        <tr>\n",
       "            <td>Kevin Durant   </td> <td>SF      </td> <td>Oklahoma City Thunder</td> <td>20.1586       </td>\n",
       "        </tr>\n",
       "    </tbody>\n",
       "        <tr>\n",
       "            <td>Derrick Rose   </td> <td>PG      </td> <td>Chicago Bulls        </td> <td>20.0931       </td>\n",
       "        </tr>\n",
       "    </tbody>\n",
       "        <tr>\n",
       "            <td>Dwyane Wade    </td> <td>SG      </td> <td>Miami Heat           </td> <td>20            </td>\n",
       "        </tr>\n",
       "    </tbody>\n",
       "</table>\n",
       "<p>... (407 rows omitted)</p"
      ],
      "text/plain": [
       "PLAYER          | POSITION | TEAM                  | '15-'16 SALARY\n",
       "Kobe Bryant     | SF       | Los Angeles Lakers    | 25\n",
       "Joe Johnson     | SF       | Brooklyn Nets         | 24.8949\n",
       "LeBron James    | SF       | Cleveland Cavaliers   | 22.9705\n",
       "Carmelo Anthony | SF       | New York Knicks       | 22.875\n",
       "Dwight Howard   | C        | Houston Rockets       | 22.3594\n",
       "Chris Bosh      | PF       | Miami Heat            | 22.1927\n",
       "Chris Paul      | PG       | Los Angeles Clippers  | 21.4687\n",
       "Kevin Durant    | SF       | Oklahoma City Thunder | 20.1586\n",
       "Derrick Rose    | PG       | Chicago Bulls         | 20.0931\n",
       "Dwyane Wade     | SG       | Miami Heat            | 20\n",
       "... (407 rows omitted)"
      ]
     },
     "execution_count": 45,
     "metadata": {},
     "output_type": "execute_result"
    }
   ],
   "source": [
    "nba_salaries.sort(3, descending=True) # Sort table by salary in descending order (highest salary at top)"
   ]
  },
  {
   "cell_type": "markdown",
   "metadata": {},
   "source": [
    "As a final exercise, this will combine methods that you have learned throughout this notebook. Take it one step at a time!\n",
    "\n",
    "** Exercise 6 **\n",
    "\n",
    "Create a new table with the 5 of the most highly paid point guards (\"Position is \"PG\") in the '15-'16 season. These players may NOT be from the Chicago Bulls. Also, only leave the player name and team name in your final result.\n",
    "\n",
    "Hint: In no particular order, you may need to use the `sort`, `take`, `where`, and `select` functions."
   ]
  },
  {
   "cell_type": "code",
   "execution_count": null,
   "metadata": {
    "collapsed": true
   },
   "outputs": [],
   "source": [
    "# YOUR CODE HERE"
   ]
  },
  {
   "cell_type": "markdown",
   "metadata": {},
   "source": [
    "## Summary"
   ]
  },
  {
   "cell_type": "markdown",
   "metadata": {},
   "source": [
    "As a summary, here are the functions we learned about during this notebook:\n",
    "    \n",
    "|Name|Example|Purpose|\n",
    "|-|-|-|\n",
    "|`Table`|`Table()`|Create an empty table, usually to extend with data|\n",
    "|`Table.read_table`|`Table.read_table(\"my_data.csv\")`|Create a table from a data file|\n",
    "|`with_columns`|`tbl = Table().with_columns(\"N\", np.arange(5), \"2*N\", np.arange(0, 10, 2))`|Create a copy of a table with more columns|\n",
    "|`column`|`tbl.column(\"N\")`|Create an array containing the elements of a column|\n",
    "|`sort`|`tbl.sort(\"N\")`|Create a copy of a table sorted by the values in a column|\n",
    "|`where`|`tbl.where(\"N\", are.above(2))`|Create a copy of a table with only the rows that match some *predicate*|\n",
    "|`num_rows`|`tbl.num_rows`|Compute the number of rows in a table|\n",
    "|`num_columns`|`tbl.num_columns`|Compute the number of columns in a table|\n",
    "|`select`|`tbl.select(\"N\")`|Create a copy of a table with only some of the columns|\n",
    "|`drop`|`tbl.drop(\"2*N\")`|Create a copy of a table without some of the columns|\n",
    "|`take`|`tbl.take(np.arange(0, 6, 2))`|Create a copy of the table with only the rows whose indices are in the given array|"
   ]
  },
  {
   "cell_type": "markdown",
   "metadata": {},
   "source": [
    "## Bibliography\n",
    "---\n",
    "Some examples adapted from the UC Berkeley Data 8 textbook, <a href=\"https://www.inferentialthinking.com\">*Inferential Thinking*</a>.\n",
    "\n",
    "Authors:\n",
    "- Shriya Vohra\n",
    "- Scott Lee\n",
    "- Pancham Yadav"
   ]
  },
  {
   "cell_type": "markdown",
   "metadata": {},
   "source": [
    "#### Creating tables\n",
    "\n",
    "The rows and columns of a table are essentially a collection of lists stacked on top/next to each other. For example, if I wanted to store the top 10 movies and their ratings in a datatable, I could create 10 lists that each contain a rating and a corresponding title, and these lists would be the rows of the table:"
   ]
  },
  {
   "cell_type": "code",
   "execution_count": null,
   "metadata": {
    "collapsed": true
   },
   "outputs": [],
   "source": [
    "top_10_movies = pd.DataFrame(data=np.array(\n",
    "            [[9.2, 'The Shawshank Redemption (1994)'],\n",
    "            [9.2, 'The Godfather (1972)'],\n",
    "            [9., 'The Godfather: Part II (1974)'],\n",
    "            [8.9, 'Pulp Fiction (1994)'],\n",
    "            [8.9, \"Schindler's List (1993)\"],\n",
    "            [8.9, 'The Lord of the Rings: The Return of the King (2003)'],\n",
    "            [8.9, '12 Angry Men (1957)'],\n",
    "            [8.9, 'The Dark Knight (2008)'],\n",
    "            [8.9, 'Il buono, il brutto, il cattivo (1966)'],\n",
    "            [8.8, 'The Lord of the Rings: The Fellowship of the Ring (2001)']]), columns=[\"Rating\", \"Movie\"])\n",
    "top_10_movies"
   ]
  },
  {
   "cell_type": "markdown",
   "metadata": {},
   "source": [
    "Alternatively, we can store data in a dictionary instead of in lists. A dictionary keeps a mapping of keys to a set of values, and each key is unique. Using our top 10 movies example, we could create a dictionary that contains ratings a key, and movie titles as another key."
   ]
  },
  {
   "cell_type": "code",
   "execution_count": null,
   "metadata": {
    "collapsed": true
   },
   "outputs": [],
   "source": [
    "top_10_movies_dict = {\"Rating\" : [9.2, 9.2, 9., 8.9, 8.9, 8.9, 8.9, 8.9, 8.9, 8.8], \n",
    "                      \"Movie\" : ['The Shawshank Redemption (1994)',\n",
    "                                'The Godfather (1972)',\n",
    "                                'The Godfather: Part II (1974)',\n",
    "                                'Pulp Fiction (1994)',\n",
    "                                \"Schindler's List (1993)\",\n",
    "                                'The Lord of the Rings: The Return of the King (2003)',\n",
    "                                '12 Angry Men (1957)',\n",
    "                                'The Dark Knight (2008)',\n",
    "                                'Il buono, il brutto, il cattivo (1966)',\n",
    "                                'The Lord of the Rings: The Fellowship of the Ring (2001)']}"
   ]
  },
  {
   "cell_type": "markdown",
   "metadata": {},
   "source": [
    "Now, we can use this dictionary to create a table with columns `Rating` and `Movie`"
   ]
  },
  {
   "cell_type": "code",
   "execution_count": null,
   "metadata": {
    "collapsed": true
   },
   "outputs": [],
   "source": [
    "top_10_movies_2 = pd.DataFrame(data=top_10_movies_dict, columns=[\"Rating\", \"Movie\"])\n",
    "top_10_movies_2"
   ]
  },
  {
   "cell_type": "markdown",
   "metadata": {},
   "source": [
    "Notice how both ways return the same table! However, the list method created the table by essentially taking the lists and making up the rows of the table, while the dictionary method took the keys from the dictionary to make up the columns of the table. In this way, dataframes can be viewed as a collection of basic data structures, either through collecting rows or columns. "
   ]
  },
  {
   "cell_type": "markdown",
   "metadata": {},
   "source": [
    "#### Reading in Dataframes\n",
    "\n",
    "Luckily for you, most datatables in this course will be premade and given to you in a form that is easily read into a pandas method, which creates the table for you. A common file type that is used for economic data is a Comma-Separated Values (.csv) file, which stores tabular data. It is not necessary for you to know exactly how .csv files store data, but you should know how to read a file in as a pandas dataframe. You can use the \"read_csv\" method from pandas, which takes in one parameter which is the path to the csv file you are reading in."
   ]
  },
  {
   "cell_type": "markdown",
   "metadata": {},
   "source": [
    "We will read in a .csv file that contains quarterly real GDI, real GDP, and nominal GDP data in the U.S. from 1947 to the present."
   ]
  },
  {
   "cell_type": "code",
   "execution_count": null,
   "metadata": {
    "collapsed": true
   },
   "outputs": [],
   "source": [
    "# Run this cell to read in the table\n",
    "accounts = pd.read_csv(\"data/Quarterly_Accounts.csv\")"
   ]
  },
  {
   "cell_type": "markdown",
   "metadata": {},
   "source": [
    "The `pd.read_csv` function expects a path to a .csv file as its input, and will return a data table created from the data contained in the csv.\n",
    "We have provided `Quarterly_Accouunts.csv` in the data directory, which is all contained in the current working directory (aka the folder this assignment is contained in). For this reason, we must specify to the `read_csv` function that it should look for the csv in the data directory, and the `/` indicates that `Quarterly_Accounts.csv` can be found there. \n",
    "\n",
    "Here is a sample of some of the rows in this datatable:"
   ]
  },
  {
   "cell_type": "code",
   "execution_count": null,
   "metadata": {
    "collapsed": true
   },
   "outputs": [],
   "source": [
    "accounts.head()"
   ]
  },
  {
   "cell_type": "markdown",
   "metadata": {},
   "source": [
    "#### Indexing Dataframes\n",
    "\n",
    "Oftentimes, tables will contain a lot of extraneous data that muddles our data tables, making it more difficult to quickly and accurately obtain the data we need. To correct for this, we can select out columns or rows that we need by indexing our dataframes. "
   ]
  },
  {
   "cell_type": "markdown",
   "metadata": {},
   "source": [
    "The easiest way to index into a table is with square bracket notation. Suppose you wanted to obtain all of the Real GDP data from the data. Using a single pair of square brackets, you could index the table for `\"Real GDP\"`"
   ]
  },
  {
   "cell_type": "code",
   "execution_count": null,
   "metadata": {
    "collapsed": true
   },
   "outputs": [],
   "source": [
    "# Run this cell and see what it outputs\n",
    "accounts[\"Real GDP\"]"
   ]
  },
  {
   "cell_type": "markdown",
   "metadata": {},
   "source": [
    "Notice how the above cell returns an array of all the real GDP values in their original order.\n",
    "Now, if you wanted to get the first real GDP value from this array, you could index it with another pair of square brackets:"
   ]
  },
  {
   "cell_type": "code",
   "execution_count": null,
   "metadata": {
    "collapsed": true
   },
   "outputs": [],
   "source": [
    "accounts[\"Real GDP\"][0]"
   ]
  },
  {
   "cell_type": "markdown",
   "metadata": {},
   "source": [
    "Pandas columns have many of the same properties as numpy arrays. Keep in mind that pandas dataframes, as well as many other data structures, are zero-indexed, meaning indexes start at 0 and end at the number of elements minus one. "
   ]
  },
  {
   "cell_type": "markdown",
   "metadata": {},
   "source": [
    "If you wanted to create a new datatable with select columns from the original table, you can index with double brackets."
   ]
  },
  {
   "cell_type": "code",
   "execution_count": null,
   "metadata": {
    "collapsed": true
   },
   "outputs": [],
   "source": [
    "## Note: .head() returns the first five rows of the table\n",
    "accounts[[\"Year\", \"Quarter\", \"Real GDP\", \"Real GDI\"]].head()"
   ]
  },
  {
   "cell_type": "markdown",
   "metadata": {},
   "source": [
    "You can also use column indices instead of names."
   ]
  },
  {
   "cell_type": "code",
   "execution_count": null,
   "metadata": {
    "collapsed": true
   },
   "outputs": [],
   "source": [
    "accounts[[0, 1, 2, 3]].head()"
   ]
  },
  {
   "cell_type": "markdown",
   "metadata": {},
   "source": [
    "Alternatively, you can also get rid of columns you dont need using `.drop()`"
   ]
  },
  {
   "cell_type": "code",
   "execution_count": null,
   "metadata": {
    "collapsed": true
   },
   "outputs": [],
   "source": [
    "accounts.drop(\"Nominal GDP\", axis=1).head()"
   ]
  },
  {
   "cell_type": "markdown",
   "metadata": {},
   "source": [
    "Finally, you can use square bracket notation to index rows by their indices with a single set of brackets. You must specify a range of values for which you want to index. For example, if I wanted the 20th to 30th rows of `accounts`:"
   ]
  },
  {
   "cell_type": "code",
   "execution_count": null,
   "metadata": {
    "collapsed": true
   },
   "outputs": [],
   "source": [
    "accounts[20:31]"
   ]
  },
  {
   "cell_type": "markdown",
   "metadata": {},
   "source": [
    "#### Filtering Data\n",
    "\n",
    "As you can tell from the previous, indexing rows based on indices is only useful when you know the specific set of rows that you need, and you can only really get a range of entries. Working with data often involves huge datasets, making it inefficient and sometimes impossible to know exactly what indices to be looking at. On top of that, most data analysis concerns itself with looking for patterns or specific conditions in the data, which is impossible to look for with simple index based sorting.   "
   ]
  },
  {
   "cell_type": "markdown",
   "metadata": {},
   "source": [
    "Thankfully, you can also use square bracket notation to filter out data based on a condition. Suppose we only wanted real GDP and nominal GDP data from the 21st century:"
   ]
  },
  {
   "cell_type": "code",
   "execution_count": null,
   "metadata": {
    "collapsed": true
   },
   "outputs": [],
   "source": [
    "accounts[accounts[\"Year\"] >= 2000][[\"Real GDP\", \"Nominal GDP\"]]"
   ]
  },
  {
   "cell_type": "markdown",
   "metadata": {},
   "source": [
    "The `accounts` table is being indexed by the condition `accounts[\"Year\"] >= 2000`, which returns a table where only rows that have a \"Year\" greater than $2000$ is returned. We then index this table with the double bracket notation from the previous section to only get the real GDP and nominal GDP columns."
   ]
  },
  {
   "cell_type": "markdown",
   "metadata": {},
   "source": [
    "Suppose now we wanted a table with data from the first quarter, and where the real GDP was less than 5000 or nominal GDP is greater than 15,000."
   ]
  },
  {
   "cell_type": "code",
   "execution_count": null,
   "metadata": {
    "collapsed": true
   },
   "outputs": [],
   "source": [
    "accounts[(accounts[\"Quarter\"] == \"Q1\") & ((accounts[\"Real GDP\"] < 5000) | (accounts[\"Nominal GDP\"] > 15000))]"
   ]
  },
  {
   "cell_type": "markdown",
   "metadata": {},
   "source": [
    "Many different conditions can be included to filter, and you can use `&` and `|` operators to connect them together. Make sure to include parantheses for each condition!"
   ]
  },
  {
   "cell_type": "markdown",
   "metadata": {},
   "source": [
    "Another way to reorganize data to make it more convenient is to sort the data by the values in a specific column. For example, if we wanted to find the highest real GDP since 1947, we could sort the table for real GDP:"
   ]
  },
  {
   "cell_type": "code",
   "execution_count": null,
   "metadata": {
    "collapsed": true
   },
   "outputs": [],
   "source": [
    "accounts.sort_values(\"Real GDP\")"
   ]
  },
  {
   "cell_type": "markdown",
   "metadata": {},
   "source": [
    "But wait! The table looks like it's sorted in increasing order. This is because `sort_values` defaults to ordering the column in ascending order. To correct this, add in the extra optional parameter"
   ]
  },
  {
   "cell_type": "code",
   "execution_count": null,
   "metadata": {
    "collapsed": true
   },
   "outputs": [],
   "source": [
    "accounts.sort_values(\"Real GDP\", ascending=False)"
   ]
  },
  {
   "cell_type": "markdown",
   "metadata": {},
   "source": [
    "Now we can clearly see that the highest real GDP was attained in the first quarter of this year, and had a value of 16903.2"
   ]
  },
  {
   "cell_type": "markdown",
   "metadata": {},
   "source": [
    "#### Useful Functions for Numeric Data\n",
    "\n",
    "Here are a few useful functions when dealing with numeric data columns.\n",
    "To find the minimum value in a column, call `min()` on a column of the table."
   ]
  },
  {
   "cell_type": "code",
   "execution_count": null,
   "metadata": {
    "collapsed": true
   },
   "outputs": [],
   "source": [
    "accounts[\"Real GDP\"].min()"
   ]
  },
  {
   "cell_type": "markdown",
   "metadata": {},
   "source": [
    "To find the maximum value, call `max()`."
   ]
  },
  {
   "cell_type": "code",
   "execution_count": null,
   "metadata": {
    "collapsed": true
   },
   "outputs": [],
   "source": [
    "accounts[\"Nominal GDP\"].max()"
   ]
  },
  {
   "cell_type": "markdown",
   "metadata": {},
   "source": [
    "And to find the average value of a column, use `mean()`."
   ]
  },
  {
   "cell_type": "code",
   "execution_count": null,
   "metadata": {
    "collapsed": true
   },
   "outputs": [],
   "source": [
    "accounts[\"Real GDI\"].mean()"
   ]
  },
  {
   "cell_type": "markdown",
   "metadata": {},
   "source": [
    "### Part 3: Visualization <a id='viz'></a>"
   ]
  },
  {
   "cell_type": "markdown",
   "metadata": {},
   "source": [
    "Now that you can read in data and manipulate it, you are now ready to learn about how to visualize data. To begin, run the cells below to import the required packages we will be using."
   ]
  },
  {
   "cell_type": "code",
   "execution_count": null,
   "metadata": {
    "collapsed": true
   },
   "outputs": [],
   "source": [
    "%matplotlib inline\n",
    "import matplotlib.pyplot as plt"
   ]
  },
  {
   "cell_type": "markdown",
   "metadata": {},
   "source": [
    "We will be using US unemployment data from [FRED](https://fred.stlouisfed.org/) to show what we can do with data. The statement below will put the csv file into a pandas DataFrame."
   ]
  },
  {
   "cell_type": "code",
   "execution_count": null,
   "metadata": {
    "collapsed": true
   },
   "outputs": [],
   "source": [
    "unemployment_data = pd.read_csv(\"data/detailed_unemployment.csv\")\n",
    "unemployment_data.head()"
   ]
  },
  {
   "cell_type": "markdown",
   "metadata": {},
   "source": [
    "One of the advantages of pandas is its built-in plotting methods. We can simply call `.plot()` on a dataframe to plot columns against one another. All that we have to do is specify which column to plot on which axis. Something special that pandas does is attempt to automatically parse dates into something that it can understand and order them sequentially.\n",
    "\n",
    "**Sidenote:** `total_unemployed` is a percent."
   ]
  },
  {
   "cell_type": "code",
   "execution_count": null,
   "metadata": {
    "collapsed": true
   },
   "outputs": [],
   "source": [
    "unemployment_data.plot(x='date', y='total_unemployed')"
   ]
  },
  {
   "cell_type": "markdown",
   "metadata": {},
   "source": [
    "The base package for most plotting in Python is `matplotlib`. Below we will look at how to plot with it. First we will extract the columns that we are interested in, then plot them in a scatter plot. Note that `plt` is the common convention for `matplotlib.pyplot`."
   ]
  },
  {
   "cell_type": "code",
   "execution_count": null,
   "metadata": {
    "collapsed": true
   },
   "outputs": [],
   "source": [
    "total_unemployed = unemployment_data['total_unemployed']\n",
    "not_labor = unemployment_data['not_in_labor_searched_for_work']\n",
    "\n",
    "#Plot the data by inputting the x and y axis\n",
    "plt.scatter(total_unemployed, not_labor)\n",
    "\n",
    "# we can then go on to customize the plot with labels\n",
    "plt.xlabel(\"Percent Unemployed\")\n",
    "plt.ylabel(\"Total Not In Labor, Searched for Work\")"
   ]
  },
  {
   "cell_type": "markdown",
   "metadata": {},
   "source": [
    "Though matplotlib is sometimes considered an \"ugly\" plotting tool, it is powerful. It is highly customizable and is the foundation for most Python plotting libraries. Check out the [documentation](https://matplotlib.org/api/pyplot_summary.html) to get a sense of all of the things you can do with it, which extend far beyond scatter and line plots. An arguably more attractive package is [seaborn](https://seaborn.pydata.org/), which we will go over in future notebooks."
   ]
  },
  {
   "cell_type": "markdown",
   "metadata": {},
   "source": [
    "#### Question 5: Plotting\n",
    "\n",
    "Try plotting the total percent of people unemployed vs those unemployed for more than 15 weeks."
   ]
  },
  {
   "cell_type": "code",
   "execution_count": null,
   "metadata": {
    "collapsed": true
   },
   "outputs": [],
   "source": [
    "total_unemployed = ...\n",
    "unemp_15_weeks = ...\n",
    "\n",
    "plt.scatter(total_unemployed, unemp_15_weeks)\n",
    "plt.xlabel(...)\n",
    "plt.ylabel(...)\n",
    "\n",
    "# note: plt.show() is the equivalent of print, but for graphs\n",
    "plt.show()"
   ]
  },
  {
   "cell_type": "code",
   "execution_count": null,
   "metadata": {
    "collapsed": true
   },
   "outputs": [],
   "source": [
    "ok.grade('q05')"
   ]
  },
  {
   "cell_type": "markdown",
   "metadata": {},
   "source": [
    "## Macroeconomics <a id='econ'></a>\n",
    "\n",
    "These questions are a mixture of math review and questions directly related to the reading from the textbook. There will be no OK tests available feedback, but these questions will be autograded. \n",
    "\n",
    "For questions that are to be answered numerically, there is a code cell that starts with __# ANSWER__ and has a variable currently set to underscores. Replace those underscores with your final answer. It is okay to make other computations in that cell and others, so long a the given variable matches your answer.\n",
    "\n",
    "For free response questions, write your answers in the provided markdown cell that starts with <font color='blue'> ANSWER:</font>. Do not change the heading, and write your entire answer in that one cell."
   ]
  },
  {
   "cell_type": "markdown",
   "metadata": {},
   "source": [
    "### Chapter 1: Introduction to Macroeconomics <a id='chapter 1'></a>"
   ]
  },
  {
   "cell_type": "markdown",
   "metadata": {},
   "source": [
    "#### Suppose a quantity grows at a steady proportional rate of 3% per year. \n",
    "How long will it take to double?"
   ]
  },
  {
   "cell_type": "code",
   "execution_count": null,
   "metadata": {
    "collapsed": true
   },
   "outputs": [],
   "source": [
    "# ANSWER\n",
    "TIME_TO_DOUBLE = ___"
   ]
  },
  {
   "cell_type": "markdown",
   "metadata": {},
   "source": [
    "Quadruple?"
   ]
  },
  {
   "cell_type": "code",
   "execution_count": null,
   "metadata": {
    "collapsed": true
   },
   "outputs": [],
   "source": [
    "# ANSWER\n",
    "TIME_TO_QUADRUPLE = ___"
   ]
  },
  {
   "cell_type": "markdown",
   "metadata": {},
   "source": [
    "Grow 1024-fold?"
   ]
  },
  {
   "cell_type": "code",
   "execution_count": null,
   "metadata": {
    "collapsed": true
   },
   "outputs": [],
   "source": [
    "# ANSWER\n",
    "TIME_TO_1024 = ___"
   ]
  },
  {
   "cell_type": "markdown",
   "metadata": {},
   "source": [
    "#### Suppose we have a quantity x(t) that varies over time following the equation: $\\frac{dx(t)}{dt} = -(0.06)t + 0.36$"
   ]
  },
  {
   "cell_type": "markdown",
   "metadata": {},
   "source": [
    "Without integrating the equation:\n",
    "\n",
    "\n",
    "$1.$ Tell me what the long-run steady-state value of $x$--that is, the limit of $x$ as $t$ approaches in infinity--is going to be."
   ]
  },
  {
   "cell_type": "code",
   "execution_count": null,
   "metadata": {
    "collapsed": true
   },
   "outputs": [],
   "source": [
    "steady_state_val = ___"
   ]
  },
  {
   "cell_type": "markdown",
   "metadata": {},
   "source": [
    "$2.$ Suppose that the value of $x$ at time $t=0$, $x(0)$ equals 12. Once again, without integrating the equation, tell me how long it will take x to close half the distance between its initial value of 12 and its steady-state value. "
   ]
  },
  {
   "cell_type": "code",
   "execution_count": null,
   "metadata": {
    "collapsed": true
   },
   "outputs": [],
   "source": [
    "half_dist_time = ___"
   ]
  },
  {
   "cell_type": "markdown",
   "metadata": {},
   "source": [
    "$3.$ How long will it take to close 3/4 of the distance? "
   ]
  },
  {
   "cell_type": "code",
   "execution_count": null,
   "metadata": {
    "collapsed": true
   },
   "outputs": [],
   "source": [
    "three_fourth_time = ___"
   ]
  },
  {
   "cell_type": "markdown",
   "metadata": {},
   "source": [
    "$4.$ $7/8$ of the distance? "
   ]
  },
  {
   "cell_type": "code",
   "execution_count": null,
   "metadata": {
    "collapsed": true
   },
   "outputs": [],
   "source": [
    "seven_eighth_time = ___"
   ]
  },
  {
   "cell_type": "markdown",
   "metadata": {},
   "source": [
    "$5.$ $15/16$ of the distance?"
   ]
  },
  {
   "cell_type": "code",
   "execution_count": null,
   "metadata": {
    "collapsed": true
   },
   "outputs": [],
   "source": [
    "fifteen_sixteenth = ___"
   ]
  },
  {
   "cell_type": "markdown",
   "metadata": {},
   "source": [
    "Now you are allowed to integrate $\\frac{dx(t)}{dt} = -(0.06)t + 0.36$.\n",
    "\n",
    "$1.$ Write down and solve the indefinite integral."
   ]
  },
  {
   "cell_type": "markdown",
   "metadata": {},
   "source": [
    "<font color='blue'> ANSWER:"
   ]
  },
  {
   "cell_type": "markdown",
   "metadata": {},
   "source": [
    "$2.$ Write down and solve the definite integral for the initial condition $x(0) = 12$."
   ]
  },
  {
   "cell_type": "markdown",
   "metadata": {},
   "source": [
    "<font color='blue'> ANSWER:"
   ]
  },
  {
   "cell_type": "markdown",
   "metadata": {},
   "source": [
    "$3.$ Write down and solve the definite integral for the initial condition $x(0) = 6$."
   ]
  },
  {
   "cell_type": "markdown",
   "metadata": {},
   "source": [
    "<font color='blue'> ANSWER:"
   ]
  },
  {
   "cell_type": "markdown",
   "metadata": {},
   "source": [
    "#### Suppose we have a quantity $z = (\\frac{x}{y})^\\beta$\n",
    "\n",
    "Suppose $x$ is growing at 4% per year and that $\\beta=1/4$:\n",
    "\n",
    "$1.$ How fast is $z$ growing if $y$ is growing at 0% per year? "
   ]
  },
  {
   "cell_type": "code",
   "execution_count": null,
   "metadata": {
    "collapsed": true
   },
   "outputs": [],
   "source": [
    "zero_per_growth = ___"
   ]
  },
  {
   "cell_type": "markdown",
   "metadata": {},
   "source": [
    "$2.$ If $y$ is growing at 2% per year?"
   ]
  },
  {
   "cell_type": "code",
   "execution_count": null,
   "metadata": {
    "collapsed": true
   },
   "outputs": [],
   "source": [
    "two_per_growth = ___"
   ]
  },
  {
   "cell_type": "markdown",
   "metadata": {},
   "source": [
    "$3.$ If $y$ is growing at 4% per year?"
   ]
  },
  {
   "cell_type": "code",
   "execution_count": null,
   "metadata": {
    "collapsed": true
   },
   "outputs": [],
   "source": [
    "four_per_growth = ___"
   ]
  },
  {
   "cell_type": "markdown",
   "metadata": {},
   "source": [
    "#### Rule of 72 (Use it for the next four questions)\n",
    "\n",
    "1. If a quantity grows at about 3% per year, how long will it take to double?"
   ]
  },
  {
   "cell_type": "code",
   "execution_count": null,
   "metadata": {
    "collapsed": true
   },
   "outputs": [],
   "source": [
    "time_to_double = ___"
   ]
  },
  {
   "cell_type": "markdown",
   "metadata": {},
   "source": [
    "$2.$ If a quantity shrinks at about 4% per year, how long will it take it to halve itself?"
   ]
  },
  {
   "cell_type": "code",
   "execution_count": null,
   "metadata": {
    "collapsed": true
   },
   "outputs": [],
   "source": [
    "time_to_half = ___"
   ]
  },
  {
   "cell_type": "markdown",
   "metadata": {},
   "source": [
    "$3.$ If a quantity doubles five times, how large is it relative to its original value?"
   ]
  },
  {
   "cell_type": "code",
   "execution_count": null,
   "metadata": {
    "collapsed": true
   },
   "outputs": [],
   "source": [
    "doubled_five_times_ratio = ___"
   ]
  },
  {
   "cell_type": "markdown",
   "metadata": {},
   "source": [
    "$4.$ If a quantity halves itself three times, how large is it relative to its original value?"
   ]
  },
  {
   "cell_type": "code",
   "execution_count": null,
   "metadata": {
    "collapsed": true
   },
   "outputs": [],
   "source": [
    "halved_three_times_ratio = ___"
   ]
  },
  {
   "cell_type": "markdown",
   "metadata": {},
   "source": [
    "#### Interactive Model for Rule of 72"
   ]
  },
  {
   "cell_type": "markdown",
   "metadata": {},
   "source": [
    "In future problem sets, you will build models of your own, but for now, look over this code. Its a simple model that shows what happens as you adjust a single parameter (the interest rate) and its effect on the outcome (the time to double). First we need to make sure all of our packages are imported."
   ]
  },
  {
   "cell_type": "code",
   "execution_count": null,
   "metadata": {
    "collapsed": true
   },
   "outputs": [],
   "source": [
    "import matplotlib.pyplot as plt\n",
    "import numpy as np\n",
    "from ipywidgets import interact, IntSlider\n",
    "%matplotlib inline"
   ]
  },
  {
   "cell_type": "markdown",
   "metadata": {},
   "source": [
    "Our model is going to be graph that shows what happens as the interest rate varies."
   ]
  },
  {
   "cell_type": "code",
   "execution_count": null,
   "metadata": {
    "collapsed": true
   },
   "outputs": [],
   "source": [
    "def graph_rule_of_72(interest_rate):\n",
    "    # np.linspace takes values evenly spaced between a stop and end point. In this case,\n",
    "    # will take 30 values between 1 and 10. These will be our x values in the graph.\n",
    "    x = np.linspace(1,10,30)\n",
    "    \n",
    "    # Here we create are corresponding y values\n",
    "    y = 72 / x\n",
    "    \n",
    "    print('Time to double:', 72 / interest_rate, 'years')\n",
    "    \n",
    "    # graphing our lines\n",
    "    plt.plot(x,y)\n",
    "    # graphing the specific point for our interest_rate\n",
    "    plt.scatter(interest_rate, 72 / interest_rate, c='r')\n",
    "    \n",
    "    plt.xlabel('interest rate (%)')\n",
    "    plt.ylabel('time (years)')\n",
    "    plt.show()"
   ]
  },
  {
   "cell_type": "markdown",
   "metadata": {},
   "source": [
    "When we call `interact`, select the function that we want to interact with (`graph_rule_of_72`) and tell it what the value we want its parameters to take on. In this case, `graph_rule_of_72` only takes one parameter, `interest_rate`, and we choose to put an adjustable slider there. You can check out the [ipywidget examples](https://github.com/jupyter-widgets/ipywidgets/blob/master/docs/source/examples/Index.ipynb) for more uses."
   ]
  },
  {
   "cell_type": "code",
   "execution_count": null,
   "metadata": {
    "collapsed": true,
    "scrolled": false
   },
   "outputs": [],
   "source": [
    "interact(graph_rule_of_72, interest_rate=IntSlider(min=1,max=10,step=1))"
   ]
  },
  {
   "cell_type": "markdown",
   "metadata": {},
   "source": [
    "#### Why do DeLong and Olney think that the interest rate and the level of the stock market are important macroeconomic variables?"
   ]
  },
  {
   "cell_type": "markdown",
   "metadata": {},
   "source": [
    "<font color='blue'> ANSWER:"
   ]
  },
  {
   "cell_type": "markdown",
   "metadata": {},
   "source": [
    "#### What are the principal flaws in using national product per worker as a measure of material welfare? Given these flaws, why do we use it anyway?"
   ]
  },
  {
   "cell_type": "markdown",
   "metadata": {},
   "source": [
    "<font color='blue'> ANSWER:"
   ]
  },
  {
   "cell_type": "markdown",
   "metadata": {},
   "source": [
    "#### What is the difference between the nominal interest rate and the real interest rate? Why do DeLong and Olney think that the real interest rate is more important?"
   ]
  },
  {
   "cell_type": "markdown",
   "metadata": {},
   "source": [
    "<font color='blue'> ANSWER:"
   ]
  },
  {
   "cell_type": "markdown",
   "metadata": {},
   "source": [
    "### Chapter 2: Measuring the Macroeconomy <a id='chapter 2'></a>"
   ]
  },
  {
   "cell_type": "markdown",
   "metadata": {},
   "source": [
    "#### National Income and Product Accounting\n",
    "\n",
    "Explain whether or not, why, and how the following items are included in the calculations of national product:\n",
    "\n",
    "$1.$ Increases in business inventories. "
   ]
  },
  {
   "cell_type": "markdown",
   "metadata": {},
   "source": [
    "<font color='blue'> ANSWER:"
   ]
  },
  {
   "cell_type": "markdown",
   "metadata": {},
   "source": [
    "$2.$ Fees earned by real estate agents on selling existing homes."
   ]
  },
  {
   "cell_type": "markdown",
   "metadata": {},
   "source": [
    "<font color='blue'> ANSWER:"
   ]
  },
  {
   "cell_type": "markdown",
   "metadata": {},
   "source": [
    "$3.$ Social Security checks written by the government. "
   ]
  },
  {
   "cell_type": "markdown",
   "metadata": {},
   "source": [
    "<font color='blue'> ANSWER:"
   ]
  },
  {
   "cell_type": "markdown",
   "metadata": {},
   "source": [
    "$4.$ Building of a new dam by the Army Corps of Engineers."
   ]
  },
  {
   "cell_type": "markdown",
   "metadata": {},
   "source": [
    "<font color='blue'> ANSWER:"
   ]
  },
  {
   "cell_type": "markdown",
   "metadata": {},
   "source": [
    "$5.$ Interest that your parents pay on the mortgage they have on their house."
   ]
  },
  {
   "cell_type": "markdown",
   "metadata": {},
   "source": [
    "<font color='blue'> ANSWER:"
   ]
  },
  {
   "cell_type": "markdown",
   "metadata": {},
   "source": [
    "$6.$ Purchases of foreign-made trucks by American residents"
   ]
  },
  {
   "cell_type": "markdown",
   "metadata": {},
   "source": [
    "<font color='blue'> ANSWER:"
   ]
  },
  {
   "cell_type": "markdown",
   "metadata": {},
   "source": [
    "#### In or Out of National Product? And Why\n",
    "\n",
    "Explain whether or not, why, and how the following items are included in the calculation of national product:\n",
    "\n",
    "$1.$ The sale for \\$25,000 of an automobile that cost \\$20,000 to manufacture that had been produced here at home last year and carried over in inventory."
   ]
  },
  {
   "cell_type": "markdown",
   "metadata": {},
   "source": [
    "<font color='blue'> ANSWER:"
   ]
  },
  {
   "cell_type": "markdown",
   "metadata": {},
   "source": [
    "$2.$ The sale for \\$35,000 of an automobile that cost \\$25,000 to manufacture newly- made at home this year."
   ]
  },
  {
   "cell_type": "markdown",
   "metadata": {},
   "source": [
    "<font color='blue'> ANSWER:"
   ]
  },
  {
   "cell_type": "markdown",
   "metadata": {},
   "source": [
    "$3.$ The sale for \\$45,000 of an automobile that cost \\$30,000 to manufacture that was newly-made abroad this year and imported."
   ]
  },
  {
   "cell_type": "markdown",
   "metadata": {},
   "source": [
    "<font color='blue'> ANSWER:"
   ]
  },
  {
   "cell_type": "markdown",
   "metadata": {},
   "source": [
    "$4.$ The sale for \\$25,000 of an automobile that cost \\$20,000 to manufacture that was made abroad and imported last year."
   ]
  },
  {
   "cell_type": "markdown",
   "metadata": {},
   "source": [
    "<font color='blue'> ANSWER:"
   ]
  },
  {
   "cell_type": "markdown",
   "metadata": {},
   "source": [
    "#### In or Out of National Product? And Why II\n",
    "\n",
    "Explain whether or not, why, and how the following items are included in the calculation of GDP:\n",
    "\n",
    "$1.$ The purchase for \\$500 of a dishwasher produced here at home this year."
   ]
  },
  {
   "cell_type": "markdown",
   "metadata": {},
   "source": [
    "<font color='blue'> ANSWER:"
   ]
  },
  {
   "cell_type": "markdown",
   "metadata": {},
   "source": [
    "$2.$ The purchase for $500 of a dishwasher made abroad this year."
   ]
  },
  {
   "cell_type": "markdown",
   "metadata": {},
   "source": [
    "<font color='blue'> ANSWER:"
   ]
  },
  {
   "cell_type": "markdown",
   "metadata": {},
   "source": [
    "$3.$ The purchase for $500 of a used dishwasher."
   ]
  },
  {
   "cell_type": "markdown",
   "metadata": {},
   "source": [
    "<font color='blue'> ANSWER:"
   ]
  },
  {
   "cell_type": "markdown",
   "metadata": {},
   "source": [
    "$4.$ The manufacture of a new dishwasher here at home for $500 of a dishwasher that\n",
    "then nobody wants to buy."
   ]
  },
  {
   "cell_type": "markdown",
   "metadata": {},
   "source": [
    "<font color='blue'> ANSWER:"
   ]
  },
  {
   "cell_type": "markdown",
   "metadata": {},
   "source": [
    "#### Components of National Income and Product\n",
    "\n",
    "Suppose that the appliance store buys a refrigerator from the manufacturer on December 15, 2018 for \\$600, and that you then buy that refrigerator on January 15, 2019 for \\$1000:\n",
    "\n",
    "$1.$ What is the contribution to GDP in 2018? "
   ]
  },
  {
   "cell_type": "code",
   "execution_count": null,
   "metadata": {
    "collapsed": true
   },
   "outputs": [],
   "source": [
    "contribution_2018 = ___"
   ]
  },
  {
   "cell_type": "markdown",
   "metadata": {},
   "source": [
    "$2.$ How is the refrigerator accounted for in the NIPA in 2019?"
   ]
  },
  {
   "cell_type": "markdown",
   "metadata": {},
   "source": [
    "<font color='blue'> ANSWER:"
   ]
  },
  {
   "cell_type": "markdown",
   "metadata": {},
   "source": [
    "$3.$ What is the contribution to GDP in 2018?"
   ]
  },
  {
   "cell_type": "code",
   "execution_count": null,
   "metadata": {
    "collapsed": true
   },
   "outputs": [],
   "source": [
    "contribution_2019 = ___"
   ]
  },
  {
   "cell_type": "markdown",
   "metadata": {},
   "source": [
    "$4.$ How is the refrigerator accounted for in the NIPA in 2019?"
   ]
  },
  {
   "cell_type": "markdown",
   "metadata": {},
   "source": [
    "<font color='blue'> ANSWER:"
   ]
  },
  {
   "cell_type": "code",
   "execution_count": null,
   "metadata": {
    "collapsed": true
   },
   "outputs": [],
   "source": [
    "# These lines are reading in CSV files and creating dataframes from then, you don't have to change about them!\n",
    "unemployment = pd.read_csv(\"data/Unemployment.csv\")\n",
    "quarterly_acc = pd.read_csv(\"data/Quarterly_Accounts.csv\")\n",
    "from_2007 = quarterly_acc.loc[(quarterly_acc[\"Year\"].isin(np.arange(2007, 2018)))]"
   ]
  },
  {
   "cell_type": "markdown",
   "metadata": {},
   "source": [
    "### Estimating National Product\n",
    "\n",
    "The Bureau of Economic Analysis measures national product in two different ways: as total expenditure on the economy’s output of goods and services and as the total income of everyone in the economy. Since – as you learned in earlier courses – these two things are the same, the two approaches should give the same answer. But in practice they do not.\n",
    "\n",
    "We have provided a data table `quarterly_gdp` that contains quarterly data on real GDP measured on the expenditure side (referred to in the National Income and Product Accounts as “Real Gross Domestic Product, chained dollars”) and real GDP measured on the income side (referred to as “Real Gross Domestic Income, chained dollars”). The table refers to Real Gross Dometic Product as \"Real GDP\" and to Real Gross Dometic Income as \"Real GDI\", and they are measured in billions of dollars. (Note: You will not have to use Nominal GDP)"
   ]
  },
  {
   "cell_type": "markdown",
   "metadata": {},
   "source": [
    "Another table, `from_2007`, has been created from `quarterly_gdp`, and includes information from 2007 to 2017. \n",
    "Below is a snippet from `from_2007`:"
   ]
  },
  {
   "cell_type": "code",
   "execution_count": null,
   "metadata": {
    "collapsed": true
   },
   "outputs": [],
   "source": [
    "from_2007.head(10)"
   ]
  },
  {
   "cell_type": "markdown",
   "metadata": {},
   "source": [
    "$1.$ Compute the growth rate at an annual rate of each of the two series by quarter for\n",
    "2007:Q1–2012:Q4."
   ]
  },
  {
   "cell_type": "code",
   "execution_count": null,
   "metadata": {
    "collapsed": true
   },
   "outputs": [],
   "source": [
    "gdi_rate = ___\n",
    "gdp_rate = ___"
   ]
  },
  {
   "cell_type": "markdown",
   "metadata": {},
   "source": [
    "$2.$ Describe any two things you see when you compare the two series that you find\n",
    "interesting, and explain why you find them interesting."
   ]
  },
  {
   "cell_type": "markdown",
   "metadata": {},
   "source": [
    "<font color='blue'> ANSWER:"
   ]
  },
  {
   "cell_type": "markdown",
   "metadata": {},
   "source": [
    "#### Calculating Real Magnitudes:\n",
    "\n",
    "$1.$ When you calculate real national product, do you do so by dividing nominal national product by the price level or by subtracting the price level from nominal national product? "
   ]
  },
  {
   "cell_type": "markdown",
   "metadata": {},
   "source": [
    "<font color='blue'> ANSWER:"
   ]
  },
  {
   "cell_type": "markdown",
   "metadata": {},
   "source": [
    "$2.$ When you calculate the real interest rate, do you do so by dividing the nominal interest rate by the price level or by subtracting the inflation rate from the nominal interest rate? "
   ]
  },
  {
   "cell_type": "markdown",
   "metadata": {},
   "source": [
    "<font color='blue'> ANSWER:"
   ]
  },
  {
   "cell_type": "markdown",
   "metadata": {},
   "source": [
    "$3.$ Are your answers to (a) and (b) the same? Why or why not?"
   ]
  },
  {
   "cell_type": "markdown",
   "metadata": {},
   "source": [
    "<font color='blue'> ANSWER:"
   ]
  },
  {
   "cell_type": "markdown",
   "metadata": {},
   "source": [
    "### Unemployment Rate\n",
    "\n",
    "Use the `unemployment` table provided to answer the following questions. ***All numbers (other than percents) are in the thousands.***"
   ]
  },
  {
   "cell_type": "markdown",
   "metadata": {},
   "source": [
    "Here are the first five entries of the table."
   ]
  },
  {
   "cell_type": "code",
   "execution_count": null,
   "metadata": {
    "collapsed": true
   },
   "outputs": [],
   "source": [
    "unemployment.head()"
   ]
  },
  {
   "cell_type": "markdown",
   "metadata": {},
   "source": [
    "#### What, roughly, was the highest level the U.S. unemployment rate (measured as Percent Unemployed of Labor Force in the table) reached in:\n",
    "\n",
    "$1.$ The 20th century?"
   ]
  },
  {
   "cell_type": "code",
   "execution_count": null,
   "metadata": {
    "collapsed": true
   },
   "outputs": [],
   "source": [
    "unemployment_20th = ___"
   ]
  },
  {
   "cell_type": "markdown",
   "metadata": {},
   "source": [
    "$2.$ The past fifty years? "
   ]
  },
  {
   "cell_type": "code",
   "execution_count": null,
   "metadata": {
    "collapsed": true
   },
   "outputs": [],
   "source": [
    "unemployment_past_50 = ___"
   ]
  },
  {
   "cell_type": "markdown",
   "metadata": {},
   "source": [
    "$3.$ The twenty years before 2006?"
   ]
  },
  {
   "cell_type": "code",
   "execution_count": null,
   "metadata": {
    "collapsed": true
   },
   "outputs": [],
   "source": [
    "unemployment_before_2006 = ___"
   ]
  },
  {
   "cell_type": "markdown",
   "metadata": {},
   "source": [
    "$4.$ Given your answers to (1) through (3), Do you think there is a connection between your answer to the question above and the fact that Federal Reserve Chair Alan Greenspan received a five-minute standing ovation at the end of the first of many events marking his retirement in 2005?"
   ]
  },
  {
   "cell_type": "markdown",
   "metadata": {},
   "source": [
    "<font color='blue'> ANSWER:"
   ]
  },
  {
   "cell_type": "markdown",
   "metadata": {},
   "source": [
    "#### The State of the Labor Market\n",
    "\n",
    "$1.$ About how many people lose or quit their jobs in an average year?"
   ]
  },
  {
   "cell_type": "code",
   "execution_count": null,
   "metadata": {
    "collapsed": true
   },
   "outputs": [],
   "source": [
    "average_quitters = ___"
   ]
  },
  {
   "cell_type": "markdown",
   "metadata": {},
   "source": [
    "$2.$ About how many people get jobs in an average year?"
   ]
  },
  {
   "cell_type": "code",
   "execution_count": null,
   "metadata": {
    "collapsed": true
   },
   "outputs": [],
   "source": [
    "average_getters = ___"
   ]
  },
  {
   "cell_type": "markdown",
   "metadata": {},
   "source": [
    "$3.$ About how many people are unemployed in an average year?"
   ]
  },
  {
   "cell_type": "code",
   "execution_count": null,
   "metadata": {
    "collapsed": true
   },
   "outputs": [],
   "source": [
    "average_unemployed = ___"
   ]
  },
  {
   "cell_type": "markdown",
   "metadata": {},
   "source": [
    "$4.$ About how many people are at work in an average year?"
   ]
  },
  {
   "cell_type": "code",
   "execution_count": null,
   "metadata": {
    "collapsed": true
   },
   "outputs": [],
   "source": [
    "average_workers = ___"
   ]
  },
  {
   "cell_type": "markdown",
   "metadata": {},
   "source": [
    "$5.$ About how many people are unemployed now?"
   ]
  },
  {
   "cell_type": "code",
   "execution_count": null,
   "metadata": {
    "collapsed": true
   },
   "outputs": [],
   "source": [
    "unemployed_now = ___"
   ]
  },
  {
   "cell_type": "markdown",
   "metadata": {},
   "source": [
    "#### National Income Accounting:\n",
    "\n",
    "$1.$ What was the level of real GDP in 2005 dollars in 1970?"
   ]
  },
  {
   "cell_type": "code",
   "execution_count": null,
   "metadata": {
    "collapsed": true
   },
   "outputs": [],
   "source": [
    "real_gdp_2005 = ___"
   ]
  },
  {
   "cell_type": "markdown",
   "metadata": {},
   "source": [
    "$2.$ What was the rate of inflation in the United States in 2000?"
   ]
  },
  {
   "cell_type": "code",
   "execution_count": null,
   "metadata": {
    "collapsed": true
   },
   "outputs": [],
   "source": [
    "inflation_rate_2000 = ___"
   ]
  },
  {
   "cell_type": "markdown",
   "metadata": {},
   "source": [
    "$3.$ Explain whether or not, how, and why the following items are included in the calculation of GDP: (i) rent you pay on an apartment, (ii) purchase of a used textbook, (iii) purchase of a new tank by the Department of Defense, (iv) watching an advertisement on youtube."
   ]
  },
  {
   "cell_type": "markdown",
   "metadata": {},
   "source": [
    "<font color='blue'> ANSWER:"
   ]
  },
  {
   "cell_type": "markdown",
   "metadata": {},
   "source": [
    "Congratulations, you have finished your first assignment for Econ 101B! Run the cell below to submit all of your work. Make sure to check on OK to make sure that it has uploaded."
   ]
  },
  {
   "cell_type": "code",
   "execution_count": null,
   "metadata": {
    "collapsed": true
   },
   "outputs": [],
   "source": [
    "_ = ok.submit()"
   ]
  },
  {
   "cell_type": "markdown",
   "metadata": {},
   "source": [
    "Some materials this notebook were taken from [Data 8](http://data8.org/), [CS 61A](http://cs61a.org/), and  [DS Modules](http://data.berkeley.edu/education/modules) lessons."
   ]
  }
 ],
 "metadata": {
  "anaconda-cloud": {},
  "kernelspec": {
   "display_name": "Python 3",
   "language": "python",
   "name": "python3"
  },
  "language_info": {
   "codemirror_mode": {
    "name": "ipython",
    "version": 3
   },
   "file_extension": ".py",
   "mimetype": "text/x-python",
   "name": "python",
   "nbconvert_exporter": "python",
   "pygments_lexer": "ipython3",
   "version": "3.6.1"
  }
 },
 "nbformat": 4,
 "nbformat_minor": 1
}
