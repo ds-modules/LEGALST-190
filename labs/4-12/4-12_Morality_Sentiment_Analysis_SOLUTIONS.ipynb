{
 "cells": [
  {
   "cell_type": "markdown",
   "metadata": {},
   "source": [
    "# [LEGALST-190] Lab 4/12: Morality and Sentiment Analysis"
   ]
  },
  {
   "cell_type": "markdown",
   "metadata": {},
   "source": [
    "This lab will cover morality and sentiment analysis using the *Moral Foundations Theory* with dictionary-based analysis, connecting to topic modeling and classifications ideas from previous labs.\n",
    "\n",
    "### Table of Contents\n",
    "[The Data](#section data)<br>\n",
    "[Goal and Question](#section goal)<br>\n",
    "1 - [Text Pre-processing](#section 1)<br>\n",
    "2 - [Polarity](#section 2)<br>\n",
    "3 - [Moral Foundations Theory](#section 3)<br>\n",
    "4 - [Non-negative matrix factorization](#section 4)<br>\n",
    "\n",
    "**Dependencies:**"
   ]
  },
  {
   "cell_type": "code",
   "execution_count": 1,
   "metadata": {},
   "outputs": [
    {
     "name": "stdout",
     "output_type": "stream",
     "text": [
      "Requirement already satisfied: textblob in /srv/app/venv/lib/python3.6/site-packages\n",
      "Requirement already satisfied: nltk>=3.1 in /srv/app/venv/lib/python3.6/site-packages (from textblob)\n",
      "Requirement already satisfied: six in /srv/app/venv/lib/python3.6/site-packages (from nltk>=3.1->textblob)\n"
     ]
    }
   ],
   "source": [
    "import numpy as np\n",
    "import pandas as pd\n",
    "import matplotlib.pyplot as plt\n",
    "%matplotlib inline\n",
    "import json\n",
    "\n",
    "from sklearn.decomposition import NMF, LatentDirichletAllocation\n",
    "from sklearn.feature_extraction.text import TfidfVectorizer, CountVectorizer\n",
    "\n",
    "import nltk\n",
    "from nltk.stem.snowball import SnowballStemmer\n",
    "\n",
    "import seaborn as sns\n",
    "\n",
    "!pip install textblob\n",
    "from textblob import TextBlob"
   ]
  },
  {
   "cell_type": "markdown",
   "metadata": {},
   "source": [
    "----\n",
    "## The Data<a id='section data'></a>\n",
    "\n",
    "For this lab, we'll use the Old Bailey dataset, something you all should be familiar with now. The size of the dataset is also rather large so we will compare two year-long periods, one from before 1827 and one after. Read the question to better understand why we look at 1827."
   ]
  },
  {
   "cell_type": "markdown",
   "metadata": {},
   "source": [
    "## Goal and Question<a id='section goal'></a>\n",
    "\n",
    "The goal of today's lab is to explore sentiment analysis with three different approaches – [polarity scoring](#section 2), [topic-specific dictionary methods](#section 3), and [topic modeling](#section 4).\n",
    "\n",
    "We'll look at sentiment in the context of the following question: \n",
    "\n",
    "**Did the way judges, prosecutors, and witnesses talk about moral culpability change after the Bloody Code was mostly repealed in 1827 (at the leading edge of a wave of legal reform in England)?**\n",
    "\n",
    "*Note: this is a question that could encompass an entire research project. Today's lab uses a very small subset of data due to datahub memory limitations, and skips over many of the steps needed for truly robust conclusions. *\n",
    "\n",
    "Something to think about: What are some things you would need to consider before answering this question?\n",
    "\n",
    "----"
   ]
  },
  {
   "cell_type": "markdown",
   "metadata": {},
   "source": [
    "## Section 1: Text Pre-processing<a id='section 1'></a>\n",
    "\n",
    "### Before we start\n",
    "This dataset we are about to look at is incredibly large, so to avoid crashing our datahub kernel, we only consider two years: 1822 and 1832. These two years were chosen as periods that were equally far from 1827 (when the Bloody Code was mostly repealed), while not being so far from each other that we'd expect to see major language usage change due only to time.\n"
   ]
  },
  {
   "cell_type": "markdown",
   "metadata": {},
   "source": [
    "----\n",
    "\n",
    "### Getting started\n",
    "\n",
    "Let's get working with the data."
   ]
  },
  {
   "cell_type": "code",
   "execution_count": 2,
   "metadata": {},
   "outputs": [
    {
     "data": {
      "text/html": [
       "<div>\n",
       "<table border=\"1\" class=\"dataframe\">\n",
       "  <thead>\n",
       "    <tr style=\"text-align: right;\">\n",
       "      <th></th>\n",
       "      <th>year</th>\n",
       "      <th>transcript</th>\n",
       "    </tr>\n",
       "    <tr>\n",
       "      <th>trial_id</th>\n",
       "      <th></th>\n",
       "      <th></th>\n",
       "    </tr>\n",
       "  </thead>\n",
       "  <tbody>\n",
       "    <tr>\n",
       "      <th>t18170115-1</th>\n",
       "      <td>1822</td>\n",
       "      <td>PETER JOHNSON was indicted for being at large,...</td>\n",
       "    </tr>\n",
       "    <tr>\n",
       "      <th>t18170115-2</th>\n",
       "      <td>1822</td>\n",
       "      <td>BENJAMIN HEARNE was indicted for burglariously...</td>\n",
       "    </tr>\n",
       "    <tr>\n",
       "      <th>t18170115-3</th>\n",
       "      <td>1822</td>\n",
       "      <td>JOHN DAVIS and JAMES LEMON , were indicted for...</td>\n",
       "    </tr>\n",
       "    <tr>\n",
       "      <th>t18170115-4</th>\n",
       "      <td>1822</td>\n",
       "      <td>RICHARD WILTSHIRE and SUSAN PAR-SONS , were in...</td>\n",
       "    </tr>\n",
       "    <tr>\n",
       "      <th>t18170115-5</th>\n",
       "      <td>1822</td>\n",
       "      <td>MARY JOHNSTON was indicted for burglariously b...</td>\n",
       "    </tr>\n",
       "  </tbody>\n",
       "</table>\n",
       "</div>"
      ],
      "text/plain": [
       "             year                                         transcript\n",
       "trial_id                                                            \n",
       "t18170115-1  1822  PETER JOHNSON was indicted for being at large,...\n",
       "t18170115-2  1822  BENJAMIN HEARNE was indicted for burglariously...\n",
       "t18170115-3  1822  JOHN DAVIS and JAMES LEMON , were indicted for...\n",
       "t18170115-4  1822  RICHARD WILTSHIRE and SUSAN PAR-SONS , were in...\n",
       "t18170115-5  1822  MARY JOHNSTON was indicted for burglariously b..."
      ]
     },
     "execution_count": 2,
     "metadata": {},
     "output_type": "execute_result"
    }
   ],
   "source": [
    "# contains Old Bailey trial data from 1822 and 1832\n",
    "old_bailey = pd.read_csv('data/obc_1822_1832.csv', index_col='trial_id')\n",
    "# select only the columns we need for this lab \n",
    "old_bailey = old_bailey.loc[:, ['year', 'transcript']]\n",
    "old_bailey.head()"
   ]
  },
  {
   "cell_type": "markdown",
   "metadata": {},
   "source": [
    "Awesome! We now have data we can work with. Before we start anything, we must clean the text!\n",
    "\n",
    "Just to review, we want to process our text by:<br>\n",
    "1) Lowercasing the words<br>\n",
    "2) Cleaning up punctuation<br>\n",
    "3) Splitting into individual words<br>\n",
    "4) Stemming the word tokens<br>\n",
    "\n",
    "For the sake of time (and to get to the good stuff), we've provided the pre-processing code below. This a big data set, so the code will take up to a minute to run."
   ]
  },
  {
   "cell_type": "code",
   "execution_count": 3,
   "metadata": {},
   "outputs": [
    {
     "data": {
      "text/html": [
       "<div>\n",
       "<table border=\"1\" class=\"dataframe\">\n",
       "  <thead>\n",
       "    <tr style=\"text-align: right;\">\n",
       "      <th></th>\n",
       "      <th>year</th>\n",
       "      <th>transcript</th>\n",
       "      <th>tokens</th>\n",
       "      <th>stemmed_tokens</th>\n",
       "    </tr>\n",
       "    <tr>\n",
       "      <th>trial_id</th>\n",
       "      <th></th>\n",
       "      <th></th>\n",
       "      <th></th>\n",
       "      <th></th>\n",
       "    </tr>\n",
       "  </thead>\n",
       "  <tbody>\n",
       "    <tr>\n",
       "      <th>t18170115-1</th>\n",
       "      <td>1822</td>\n",
       "      <td>PETER JOHNSON was indicted for being at large,...</td>\n",
       "      <td>[peter, johnson, was, indicted, for, being, at...</td>\n",
       "      <td>[peter, johnson, was, indict, for, be, at, lar...</td>\n",
       "    </tr>\n",
       "    <tr>\n",
       "      <th>t18170115-2</th>\n",
       "      <td>1822</td>\n",
       "      <td>BENJAMIN HEARNE was indicted for burglariously...</td>\n",
       "      <td>[benjamin, hearne, was, indicted, for, burglar...</td>\n",
       "      <td>[benjamin, hearn, was, indict, for, burglari, ...</td>\n",
       "    </tr>\n",
       "    <tr>\n",
       "      <th>t18170115-3</th>\n",
       "      <td>1822</td>\n",
       "      <td>JOHN DAVIS and JAMES LEMON , were indicted for...</td>\n",
       "      <td>[john, davis, and, james, lemon, were, indicte...</td>\n",
       "      <td>[john, davi, and, jame, lemon, were, indict, f...</td>\n",
       "    </tr>\n",
       "    <tr>\n",
       "      <th>t18170115-4</th>\n",
       "      <td>1822</td>\n",
       "      <td>RICHARD WILTSHIRE and SUSAN PAR-SONS , were in...</td>\n",
       "      <td>[richard, wiltshire, and, susan, par, sons, we...</td>\n",
       "      <td>[richard, wiltshir, and, susan, par, son, were...</td>\n",
       "    </tr>\n",
       "    <tr>\n",
       "      <th>t18170115-5</th>\n",
       "      <td>1822</td>\n",
       "      <td>MARY JOHNSTON was indicted for burglariously b...</td>\n",
       "      <td>[mary, johnston, was, indicted, for, burglario...</td>\n",
       "      <td>[mari, johnston, was, indict, for, burglari, b...</td>\n",
       "    </tr>\n",
       "  </tbody>\n",
       "</table>\n",
       "</div>"
      ],
      "text/plain": [
       "             year                                         transcript  \\\n",
       "trial_id                                                               \n",
       "t18170115-1  1822  PETER JOHNSON was indicted for being at large,...   \n",
       "t18170115-2  1822  BENJAMIN HEARNE was indicted for burglariously...   \n",
       "t18170115-3  1822  JOHN DAVIS and JAMES LEMON , were indicted for...   \n",
       "t18170115-4  1822  RICHARD WILTSHIRE and SUSAN PAR-SONS , were in...   \n",
       "t18170115-5  1822  MARY JOHNSTON was indicted for burglariously b...   \n",
       "\n",
       "                                                        tokens  \\\n",
       "trial_id                                                         \n",
       "t18170115-1  [peter, johnson, was, indicted, for, being, at...   \n",
       "t18170115-2  [benjamin, hearne, was, indicted, for, burglar...   \n",
       "t18170115-3  [john, davis, and, james, lemon, were, indicte...   \n",
       "t18170115-4  [richard, wiltshire, and, susan, par, sons, we...   \n",
       "t18170115-5  [mary, johnston, was, indicted, for, burglario...   \n",
       "\n",
       "                                                stemmed_tokens  \n",
       "trial_id                                                        \n",
       "t18170115-1  [peter, johnson, was, indict, for, be, at, lar...  \n",
       "t18170115-2  [benjamin, hearn, was, indict, for, burglari, ...  \n",
       "t18170115-3  [john, davi, and, jame, lemon, were, indict, f...  \n",
       "t18170115-4  [richard, wiltshir, and, susan, par, son, were...  \n",
       "t18170115-5  [mari, johnston, was, indict, for, burglari, b...  "
      ]
     },
     "execution_count": 3,
     "metadata": {},
     "output_type": "execute_result"
    }
   ],
   "source": [
    "# pre-process the data\n",
    "lower_cased = old_bailey['transcript'].str.lower()\n",
    "punct_re = r'[^\\w\\s]'\n",
    "lower_no_punc = lower_cased.str.replace(punct_re, ' ')\n",
    "tokens = lower_no_punc.str.split()\n",
    "old_bailey['tokens'] = tokens\n",
    "stemmer = SnowballStemmer('english')\n",
    "stem_lists = []\n",
    "\n",
    "for token_list in old_bailey['tokens']:\n",
    "    stem_lists.append([stemmer.stem(wd) for wd in token_list])\n",
    "\n",
    "old_bailey['stemmed_tokens'] = stem_lists\n",
    "\n",
    "\n",
    "old_bailey.head()"
   ]
  },
  {
   "cell_type": "markdown",
   "metadata": {},
   "source": [
    "----\n",
    "\n",
    "## Section 2: Polarity <a id='section 2'></a>\n",
    "\n",
    "One way to measure the tone of a text is to look at the text **polarity**: a measure of how positive or negative it is perceived to be. For example, a sentence like \"I love Berkeley!\" would be considered positive, while a sentence like \"Stanford is terrible!\" would be negative. And, because polarity is represented as a scale, some words have stronger positive or negative sentiment than others- \"I like data science\" is positive, but not as positive as \"I love data science.\"\n",
    "\n",
    "We will use the [TextBlob](https://textblob.readthedocs.io/en/dev/quickstart.html#sentiment-analysis) tools to analyze the sentiment of Old Bailey. TextBlob provides access to many common text-processing operations, and includes a  lexicon and rule-based sentiment analysis tool.\n",
    "\n",
    "A TextBlob is created around string of text:"
   ]
  },
  {
   "cell_type": "code",
   "execution_count": 4,
   "metadata": {},
   "outputs": [
    {
     "data": {
      "text/plain": [
       "TextBlob(\"This is a super exciting, totally awesome test sentence.\")"
      ]
     },
     "execution_count": 4,
     "metadata": {},
     "output_type": "execute_result"
    }
   ],
   "source": [
    "# creates a sentiment analyzer\n",
    "blob = TextBlob(\"This is a super exciting, totally awesome test sentence.\")\n",
    "blob"
   ]
  },
  {
   "cell_type": "markdown",
   "metadata": {},
   "source": [
    "We can access the sentiment by using `.sentiment`."
   ]
  },
  {
   "cell_type": "code",
   "execution_count": 5,
   "metadata": {},
   "outputs": [
    {
     "data": {
      "text/plain": [
       "Sentiment(polarity=0.5444444444444444, subjectivity=0.8222222222222223)"
      ]
     },
     "execution_count": 5,
     "metadata": {},
     "output_type": "execute_result"
    }
   ],
   "source": [
    "blob.sentiment"
   ]
  },
  {
   "cell_type": "markdown",
   "metadata": {},
   "source": [
    "`sentiment` returns two values: the **polarity** and the **subjectivity**. The polarity ranges between -1 and 1 where -1 is a very negative text and 1 is a very positive text. Subjectivity ranges between 0 and 1 where 0 is a very objective text and 1 is a very subjective text (i.e. one that can be interpreted many different ways). You can get the polarity by using `.polarity`."
   ]
  },
  {
   "cell_type": "code",
   "execution_count": 6,
   "metadata": {},
   "outputs": [
    {
     "data": {
      "text/plain": [
       "0.5444444444444444"
      ]
     },
     "execution_count": 6,
     "metadata": {},
     "output_type": "execute_result"
    }
   ],
   "source": [
    "blob.sentiment.polarity"
   ]
  },
  {
   "cell_type": "markdown",
   "metadata": {},
   "source": [
    "Polarity is calculated fairly simply: TextBlob accesses a dictionary of words that have been assigned polarity and subjectivity scores, looks up each word in the given text, and averages over the sentence. It also employs a few rules, such as changing the polarity of a word that comes after a negation."
   ]
  },
  {
   "cell_type": "code",
   "execution_count": 7,
   "metadata": {},
   "outputs": [
    {
     "name": "stdout",
     "output_type": "stream",
     "text": [
      "0.8\n",
      "0.0\n",
      "-0.4\n"
     ]
    }
   ],
   "source": [
    "happy = TextBlob('Happy')\n",
    "print(happy.sentiment.polarity)\n",
    "\n",
    "negation = TextBlob('Not')\n",
    "print(negation.sentiment.polarity)\n",
    "\n",
    "negated_happy = TextBlob('Not happy')\n",
    "print(negated_happy.sentiment.polarity)"
   ]
  },
  {
   "cell_type": "markdown",
   "metadata": {},
   "source": [
    "**QUESTION:** Try calculating the polarity scores of a few of your own sentences in the cell below."
   ]
  },
  {
   "cell_type": "code",
   "execution_count": 8,
   "metadata": {},
   "outputs": [
    {
     "data": {
      "text/plain": [
       "Ellipsis"
      ]
     },
     "execution_count": 8,
     "metadata": {},
     "output_type": "execute_result"
    }
   ],
   "source": [
    "# test the polarity scoring for different sentences\n",
    "my_blob = ...\n",
    "..."
   ]
  },
  {
   "cell_type": "markdown",
   "metadata": {},
   "source": [
    "Next, we want to get the average polarity for each transcript. \n",
    "\n",
    "**EXERCISE:** define a function that will take in a string of text and return the polarity of that text."
   ]
  },
  {
   "cell_type": "code",
   "execution_count": 9,
   "metadata": {},
   "outputs": [],
   "source": [
    "def get_polarity(text):\n",
    "    \"\"\"Return the polarity of TEXT\"\"\"\n",
    "    ...\n",
    "    return ..."
   ]
  },
  {
   "cell_type": "code",
   "execution_count": 10,
   "metadata": {},
   "outputs": [],
   "source": [
    "# SOLUTION\n",
    "def get_polarity(text):\n",
    "    \"\"\"Return the polarity of TEXT\"\"\"\n",
    "    blob = TextBlob(text)\n",
    "    return blob.sentiment.polarity"
   ]
  },
  {
   "cell_type": "markdown",
   "metadata": {},
   "source": [
    "**EXERCISE**: Using `.apply` and your `get_polarity` function, get the polarity of every transcript in the Old Bailey data."
   ]
  },
  {
   "cell_type": "code",
   "execution_count": 11,
   "metadata": {},
   "outputs": [],
   "source": [
    "polarities = ..."
   ]
  },
  {
   "cell_type": "code",
   "execution_count": 12,
   "metadata": {},
   "outputs": [],
   "source": [
    "# SOLUTION\n",
    "polarities = old_bailey['transcript'].apply(get_polarity)"
   ]
  },
  {
   "cell_type": "code",
   "execution_count": 13,
   "metadata": {
    "scrolled": true
   },
   "outputs": [
    {
     "data": {
      "text/html": [
       "<div>\n",
       "<table border=\"1\" class=\"dataframe\">\n",
       "  <thead>\n",
       "    <tr style=\"text-align: right;\">\n",
       "      <th></th>\n",
       "      <th>year</th>\n",
       "      <th>transcript</th>\n",
       "      <th>tokens</th>\n",
       "      <th>stemmed_tokens</th>\n",
       "      <th>polarity</th>\n",
       "    </tr>\n",
       "    <tr>\n",
       "      <th>trial_id</th>\n",
       "      <th></th>\n",
       "      <th></th>\n",
       "      <th></th>\n",
       "      <th></th>\n",
       "      <th></th>\n",
       "    </tr>\n",
       "  </thead>\n",
       "  <tbody>\n",
       "    <tr>\n",
       "      <th>t18170115-1</th>\n",
       "      <td>1822</td>\n",
       "      <td>PETER JOHNSON was indicted for being at large,...</td>\n",
       "      <td>[peter, johnson, was, indicted, for, being, at...</td>\n",
       "      <td>[peter, johnson, was, indict, for, be, at, lar...</td>\n",
       "      <td>-0.128571</td>\n",
       "    </tr>\n",
       "    <tr>\n",
       "      <th>t18170115-2</th>\n",
       "      <td>1822</td>\n",
       "      <td>BENJAMIN HEARNE was indicted for burglariously...</td>\n",
       "      <td>[benjamin, hearne, was, indicted, for, burglar...</td>\n",
       "      <td>[benjamin, hearn, was, indict, for, burglari, ...</td>\n",
       "      <td>0.075000</td>\n",
       "    </tr>\n",
       "    <tr>\n",
       "      <th>t18170115-3</th>\n",
       "      <td>1822</td>\n",
       "      <td>JOHN DAVIS and JAMES LEMON , were indicted for...</td>\n",
       "      <td>[john, davis, and, james, lemon, were, indicte...</td>\n",
       "      <td>[john, davi, and, jame, lemon, were, indict, f...</td>\n",
       "      <td>-0.027721</td>\n",
       "    </tr>\n",
       "    <tr>\n",
       "      <th>t18170115-4</th>\n",
       "      <td>1822</td>\n",
       "      <td>RICHARD WILTSHIRE and SUSAN PAR-SONS , were in...</td>\n",
       "      <td>[richard, wiltshire, and, susan, par, sons, we...</td>\n",
       "      <td>[richard, wiltshir, and, susan, par, son, were...</td>\n",
       "      <td>0.074495</td>\n",
       "    </tr>\n",
       "    <tr>\n",
       "      <th>t18170115-5</th>\n",
       "      <td>1822</td>\n",
       "      <td>MARY JOHNSTON was indicted for burglariously b...</td>\n",
       "      <td>[mary, johnston, was, indicted, for, burglario...</td>\n",
       "      <td>[mari, johnston, was, indict, for, burglari, b...</td>\n",
       "      <td>-0.033333</td>\n",
       "    </tr>\n",
       "  </tbody>\n",
       "</table>\n",
       "</div>"
      ],
      "text/plain": [
       "             year                                         transcript  \\\n",
       "trial_id                                                               \n",
       "t18170115-1  1822  PETER JOHNSON was indicted for being at large,...   \n",
       "t18170115-2  1822  BENJAMIN HEARNE was indicted for burglariously...   \n",
       "t18170115-3  1822  JOHN DAVIS and JAMES LEMON , were indicted for...   \n",
       "t18170115-4  1822  RICHARD WILTSHIRE and SUSAN PAR-SONS , were in...   \n",
       "t18170115-5  1822  MARY JOHNSTON was indicted for burglariously b...   \n",
       "\n",
       "                                                        tokens  \\\n",
       "trial_id                                                         \n",
       "t18170115-1  [peter, johnson, was, indicted, for, being, at...   \n",
       "t18170115-2  [benjamin, hearne, was, indicted, for, burglar...   \n",
       "t18170115-3  [john, davis, and, james, lemon, were, indicte...   \n",
       "t18170115-4  [richard, wiltshire, and, susan, par, sons, we...   \n",
       "t18170115-5  [mary, johnston, was, indicted, for, burglario...   \n",
       "\n",
       "                                                stemmed_tokens  polarity  \n",
       "trial_id                                                                  \n",
       "t18170115-1  [peter, johnson, was, indict, for, be, at, lar... -0.128571  \n",
       "t18170115-2  [benjamin, hearn, was, indict, for, burglari, ...  0.075000  \n",
       "t18170115-3  [john, davi, and, jame, lemon, were, indict, f... -0.027721  \n",
       "t18170115-4  [richard, wiltshir, and, susan, par, son, were...  0.074495  \n",
       "t18170115-5  [mari, johnston, was, indict, for, burglari, b... -0.033333  "
      ]
     },
     "execution_count": 13,
     "metadata": {},
     "output_type": "execute_result"
    }
   ],
   "source": [
    "# add the polarities as a column\n",
    "old_bailey['polarity'] = polarities\n",
    "old_bailey.head()"
   ]
  },
  {
   "cell_type": "markdown",
   "metadata": {},
   "source": [
    "**QUESTION:** \n",
    "- What was the most negative transcript/transcripts?\n",
    "- What was the most positive transcript/transcripts?\n"
   ]
  },
  {
   "cell_type": "code",
   "execution_count": 14,
   "metadata": {},
   "outputs": [
    {
     "data": {
      "text/plain": [
       "Ellipsis"
      ]
     },
     "execution_count": 14,
     "metadata": {},
     "output_type": "execute_result"
    }
   ],
   "source": [
    "# find the transcript with the highest polarity\n",
    "most_pos = ...\n",
    "most_pos"
   ]
  },
  {
   "cell_type": "code",
   "execution_count": 15,
   "metadata": {},
   "outputs": [
    {
     "name": "stdout",
     "output_type": "stream",
     "text": [
      "trial_id\n",
      "t18170917-281    WILLIAM ROBINSON was indicted for stealing, on...\n",
      "Name: transcript, dtype: object\n"
     ]
    }
   ],
   "source": [
    "# SOLUTION\n",
    "# find the transcript with the highest polarity\n",
    "most_pos = old_bailey[old_bailey.polarity == old_bailey.polarity.max()]\n",
    "\n",
    "print(most_pos.transcript)"
   ]
  },
  {
   "cell_type": "code",
   "execution_count": 16,
   "metadata": {},
   "outputs": [
    {
     "data": {
      "text/plain": [
       "Ellipsis"
      ]
     },
     "execution_count": 16,
     "metadata": {},
     "output_type": "execute_result"
    }
   ],
   "source": [
    "# find the transcript with the lowest polarity\n",
    "most_neg = ...\n",
    "most_neg"
   ]
  },
  {
   "cell_type": "code",
   "execution_count": 17,
   "metadata": {},
   "outputs": [
    {
     "name": "stdout",
     "output_type": "stream",
     "text": [
      "trial_id\n",
      "t18170219-9      JOSEPH FOLLIT and THOMAS WILLIAM PENTON , were...\n",
      "t18170416-45     SARAH HOWELL was indicted for feloniously and ...\n",
      "t18170416-46     MARTHA THATCHER was indicted for the like offe...\n",
      "t18170416-47     SUSAN COURTNEY was indicted for the like offen...\n",
      "t18170416-48     MICHAEL FORD was indicted for the like offence...\n",
      "t18170416-49     JAMES BUTLER was indicted for feloniously and ...\n",
      "t18170416-50     ALEXANDER MARCUS was indicted for the like off...\n",
      "t18170416-51     NESSEN JACOBSON was indicted for the like offe...\n",
      "t18170416-182    JAMES JOHNSON was indicted for stealing, on th...\n",
      "t18170702-39     BENJAMIN BROWN and THOMAS NEWMAN , were indict...\n",
      "t18170702-40     THOMAS EDWARDS was indicted for feloniously di...\n",
      "t18320517-245    FRANCIS HENRY PEMELLER was indicted for steali...\n",
      "t18320705-243    ANN BRYANT was indicted for stealing, on the 6...\n",
      "t18320906-165    GARRETT REDMOND COTTER was indicted for embezz...\n",
      "t18320906-268    SARAH LANE was indicted for a misdemeanor . - ...\n",
      "t18321129-228    JOHN SMITH was indicted for stealing, on the 3...\n",
      "Name: transcript, dtype: object\n"
     ]
    }
   ],
   "source": [
    "# SOLUTION\n",
    "# find the transcript with the lowest polarity\n",
    "most_neg = old_bailey[old_bailey.polarity == old_bailey.polarity.min()]\n",
    "\n",
    "print(most_neg.transcript)"
   ]
  },
  {
   "cell_type": "markdown",
   "metadata": {},
   "source": [
    "**EXERCISE:** Let's take a look at violin plots of these two datasets to better compare how the average compound polarity is distributed for each of the two years, before and after 1827.\n",
    "\n",
    "To show both years at once, it's easiest to use the Seaborn (abbreviated as `sns`) visualization library function. `y` is set to the name of the variable (a string) whose distributions we want to see. `x` is set to the name of the variable (also a string)that we want to compare distributions for . `data` is set to the dataframe (not a string) with all the values. "
   ]
  },
  {
   "cell_type": "code",
   "execution_count": 18,
   "metadata": {},
   "outputs": [],
   "source": [
    "# uncomment the next line and fill in the code to create the violin plots\n",
    "#sns.violinplot(x=..., y=..., data=...)"
   ]
  },
  {
   "cell_type": "code",
   "execution_count": 19,
   "metadata": {},
   "outputs": [
    {
     "data": {
      "image/png": "[encoded data removed]",
      "text/plain": [
       "<matplotlib.figure.Figure at 0x7fe24dc10eb8>"
      ]
     },
     "metadata": {},
     "output_type": "display_data"
    }
   ],
   "source": [
    "#SOLUTION\n",
    "sns.violinplot(x=\"year\", y=\"polarity\", data=old_bailey);"
   ]
  },
  {
   "cell_type": "markdown",
   "metadata": {},
   "source": [
    "**QUESTION:** What does this plot show us? \n",
    "\n",
    "What are some advantages to using polarity as a way to measure moral tone? What are some issues with this approach? Consider also how these answers might change for a different data set."
   ]
  },
  {
   "cell_type": "markdown",
   "metadata": {},
   "source": [
    "*Write your answer here.*"
   ]
  },
  {
   "cell_type": "markdown",
   "metadata": {},
   "source": [
    "**SOLUTION**\n",
    "The plot shows that the violin plots are about the same shape and have about the same median around 0.\n",
    "\n",
    "Polarity is a nice metric because it's easy to calculate and interpret. It might run into issues because it will ignore words that aren't in its dictionary; this is especially an issue for this data, which has text from almost 200 years ago and may contain a significant number of more archaic words."
   ]
  },
  {
   "cell_type": "markdown",
   "metadata": {},
   "source": [
    "----\n",
    "## Section 3: Moral Foundations Theory<a id='section 3'></a>\n",
    "\n",
    "Another approach is to create specialized dictionaries containing specific words of interest to try to analyze sentiment from a particular angle (i.e. use a **dictionary method**). One set of researchers did just that from the perspective of [Moral Foundations Theory](http://moralfoundations.org/). We will now use it to see if we can understand more about the moral tone of Old Bailey transcripts than by using general polarity. You should be doing something like this for your homework. We will be using a provided moral foundations dictionary."
   ]
  },
  {
   "cell_type": "code",
   "execution_count": 20,
   "metadata": {},
   "outputs": [],
   "source": [
    "with open('data/haidt_dict.json') as json_data:\n",
    "    mft_dict = json.load(json_data)"
   ]
  },
  {
   "cell_type": "markdown",
   "metadata": {},
   "source": [
    "Moral Foundations Theory posits that there are five (with an occasional sixth) innane, universal psychological foundations of morality, and that those foundations shape human cultures and institutions (including legal). The keys of the dictionary correspond to the five foundations."
   ]
  },
  {
   "cell_type": "code",
   "execution_count": 21,
   "metadata": {},
   "outputs": [
    {
     "data": {
      "text/plain": [
       "['authority/subversion',\n",
       " 'care/harm',\n",
       " 'fairness/cheating',\n",
       " 'loyalty/betrayal',\n",
       " 'sanctity/degradation']"
      ]
     },
     "execution_count": 21,
     "metadata": {},
     "output_type": "execute_result"
    }
   ],
   "source": [
    "#look at the keys of the dictionary provided\n",
    "keys = mft_dict.keys()\n",
    "list(keys)"
   ]
  },
  {
   "cell_type": "markdown",
   "metadata": {},
   "source": [
    "And the values of the dictionary are lists of words associated with each foundation."
   ]
  },
  {
   "cell_type": "code",
   "execution_count": 22,
   "metadata": {},
   "outputs": [
    {
     "data": {
      "text/plain": [
       "['preserve',\n",
       " 'loyal',\n",
       " 'betray',\n",
       " 'treason',\n",
       " 'traitor',\n",
       " 'treacher',\n",
       " 'disloyal',\n",
       " 'apostasy',\n",
       " 'apostate',\n",
       " 'deserted',\n",
       " 'deserter',\n",
       " 'deserting',\n",
       " 'obey',\n",
       " 'obedien',\n",
       " 'duty',\n",
       " 'law',\n",
       " 'lawful',\n",
       " 'legal',\n",
       " 'duti',\n",
       " 'honor',\n",
       " 'respect',\n",
       " 'respectful',\n",
       " 'respected',\n",
       " 'respects',\n",
       " 'order',\n",
       " 'father',\n",
       " 'mother',\n",
       " 'motherl',\n",
       " 'mothering',\n",
       " 'mothers',\n",
       " 'tradition',\n",
       " 'hierarch',\n",
       " 'authorit',\n",
       " 'permit',\n",
       " 'permission',\n",
       " 'status',\n",
       " 'rank',\n",
       " 'leader',\n",
       " 'class',\n",
       " 'bourgeoisie',\n",
       " 'caste',\n",
       " 'position',\n",
       " 'complian',\n",
       " 'command',\n",
       " 'supremacy',\n",
       " 'control',\n",
       " 'submi',\n",
       " 'allegian',\n",
       " 'serve',\n",
       " 'abide',\n",
       " 'defere',\n",
       " 'defer',\n",
       " 'revere',\n",
       " 'venerat',\n",
       " 'comply',\n",
       " 'defian',\n",
       " 'rebel',\n",
       " 'dissent',\n",
       " 'subver',\n",
       " 'disrespect',\n",
       " 'disobe',\n",
       " 'sediti',\n",
       " 'agitat',\n",
       " 'insubordinat',\n",
       " 'illegal',\n",
       " 'lawless',\n",
       " 'insurgent',\n",
       " 'mutinous',\n",
       " 'defy',\n",
       " 'dissident',\n",
       " 'unfaithful',\n",
       " 'alienate',\n",
       " 'defector',\n",
       " 'heretic',\n",
       " 'nonconformist',\n",
       " 'oppose',\n",
       " 'protest',\n",
       " 'refuse',\n",
       " 'denounce',\n",
       " 'remonstrate',\n",
       " 'riot',\n",
       " 'obstruct']"
      ]
     },
     "execution_count": 22,
     "metadata": {},
     "output_type": "execute_result"
    }
   ],
   "source": [
    "mft_dict[list(keys)[0]] #one example of the values provided for the first key"
   ]
  },
  {
   "cell_type": "markdown",
   "metadata": {},
   "source": [
    "### Calculating Percentages \n",
    "\n",
    "In this approach, we'll use the frequency of Moral Foundations-related words as a measure of how the transcripts talk about morality and see if there's a difference between pre- and post-1827 trends. \n",
    "\n",
    "As a first step, we need to know the total number of words in each transcript. \n",
    "\n",
    "**EXERCISE:** Add a column to `old_bailey` with the number of words corresponding to each transcript."
   ]
  },
  {
   "cell_type": "code",
   "execution_count": 23,
   "metadata": {},
   "outputs": [
    {
     "data": {
      "text/html": [
       "<div>\n",
       "<table border=\"1\" class=\"dataframe\">\n",
       "  <thead>\n",
       "    <tr style=\"text-align: right;\">\n",
       "      <th></th>\n",
       "      <th>year</th>\n",
       "      <th>transcript</th>\n",
       "      <th>tokens</th>\n",
       "      <th>stemmed_tokens</th>\n",
       "      <th>polarity</th>\n",
       "      <th>total_words</th>\n",
       "    </tr>\n",
       "    <tr>\n",
       "      <th>trial_id</th>\n",
       "      <th></th>\n",
       "      <th></th>\n",
       "      <th></th>\n",
       "      <th></th>\n",
       "      <th></th>\n",
       "      <th></th>\n",
       "    </tr>\n",
       "  </thead>\n",
       "  <tbody>\n",
       "    <tr>\n",
       "      <th>t18170115-1</th>\n",
       "      <td>1822</td>\n",
       "      <td>PETER JOHNSON was indicted for being at large,...</td>\n",
       "      <td>[peter, johnson, was, indicted, for, being, at...</td>\n",
       "      <td>[peter, johnson, was, indict, for, be, at, lar...</td>\n",
       "      <td>-0.128571</td>\n",
       "      <td>Ellipsis</td>\n",
       "    </tr>\n",
       "    <tr>\n",
       "      <th>t18170115-2</th>\n",
       "      <td>1822</td>\n",
       "      <td>BENJAMIN HEARNE was indicted for burglariously...</td>\n",
       "      <td>[benjamin, hearne, was, indicted, for, burglar...</td>\n",
       "      <td>[benjamin, hearn, was, indict, for, burglari, ...</td>\n",
       "      <td>0.075000</td>\n",
       "      <td>Ellipsis</td>\n",
       "    </tr>\n",
       "    <tr>\n",
       "      <th>t18170115-3</th>\n",
       "      <td>1822</td>\n",
       "      <td>JOHN DAVIS and JAMES LEMON , were indicted for...</td>\n",
       "      <td>[john, davis, and, james, lemon, were, indicte...</td>\n",
       "      <td>[john, davi, and, jame, lemon, were, indict, f...</td>\n",
       "      <td>-0.027721</td>\n",
       "      <td>Ellipsis</td>\n",
       "    </tr>\n",
       "    <tr>\n",
       "      <th>t18170115-4</th>\n",
       "      <td>1822</td>\n",
       "      <td>RICHARD WILTSHIRE and SUSAN PAR-SONS , were in...</td>\n",
       "      <td>[richard, wiltshire, and, susan, par, sons, we...</td>\n",
       "      <td>[richard, wiltshir, and, susan, par, son, were...</td>\n",
       "      <td>0.074495</td>\n",
       "      <td>Ellipsis</td>\n",
       "    </tr>\n",
       "    <tr>\n",
       "      <th>t18170115-5</th>\n",
       "      <td>1822</td>\n",
       "      <td>MARY JOHNSTON was indicted for burglariously b...</td>\n",
       "      <td>[mary, johnston, was, indicted, for, burglario...</td>\n",
       "      <td>[mari, johnston, was, indict, for, burglari, b...</td>\n",
       "      <td>-0.033333</td>\n",
       "      <td>Ellipsis</td>\n",
       "    </tr>\n",
       "  </tbody>\n",
       "</table>\n",
       "</div>"
      ],
      "text/plain": [
       "             year                                         transcript  \\\n",
       "trial_id                                                               \n",
       "t18170115-1  1822  PETER JOHNSON was indicted for being at large,...   \n",
       "t18170115-2  1822  BENJAMIN HEARNE was indicted for burglariously...   \n",
       "t18170115-3  1822  JOHN DAVIS and JAMES LEMON , were indicted for...   \n",
       "t18170115-4  1822  RICHARD WILTSHIRE and SUSAN PAR-SONS , were in...   \n",
       "t18170115-5  1822  MARY JOHNSTON was indicted for burglariously b...   \n",
       "\n",
       "                                                        tokens  \\\n",
       "trial_id                                                         \n",
       "t18170115-1  [peter, johnson, was, indicted, for, being, at...   \n",
       "t18170115-2  [benjamin, hearne, was, indicted, for, burglar...   \n",
       "t18170115-3  [john, davis, and, james, lemon, were, indicte...   \n",
       "t18170115-4  [richard, wiltshire, and, susan, par, sons, we...   \n",
       "t18170115-5  [mary, johnston, was, indicted, for, burglario...   \n",
       "\n",
       "                                                stemmed_tokens  polarity  \\\n",
       "trial_id                                                                   \n",
       "t18170115-1  [peter, johnson, was, indict, for, be, at, lar... -0.128571   \n",
       "t18170115-2  [benjamin, hearn, was, indict, for, burglari, ...  0.075000   \n",
       "t18170115-3  [john, davi, and, jame, lemon, were, indict, f... -0.027721   \n",
       "t18170115-4  [richard, wiltshir, and, susan, par, son, were...  0.074495   \n",
       "t18170115-5  [mari, johnston, was, indict, for, burglari, b... -0.033333   \n",
       "\n",
       "            total_words  \n",
       "trial_id                 \n",
       "t18170115-1    Ellipsis  \n",
       "t18170115-2    Ellipsis  \n",
       "t18170115-3    Ellipsis  \n",
       "t18170115-4    Ellipsis  \n",
       "t18170115-5    Ellipsis  "
      ]
     },
     "execution_count": 23,
     "metadata": {},
     "output_type": "execute_result"
    }
   ],
   "source": [
    "# create a new column called 'total_words'\n",
    "old_bailey['total_words'] = ...\n",
    "old_bailey.head()"
   ]
  },
  {
   "cell_type": "code",
   "execution_count": 24,
   "metadata": {},
   "outputs": [
    {
     "data": {
      "text/html": [
       "<div>\n",
       "<table border=\"1\" class=\"dataframe\">\n",
       "  <thead>\n",
       "    <tr style=\"text-align: right;\">\n",
       "      <th></th>\n",
       "      <th>year</th>\n",
       "      <th>transcript</th>\n",
       "      <th>tokens</th>\n",
       "      <th>stemmed_tokens</th>\n",
       "      <th>polarity</th>\n",
       "      <th>total_words</th>\n",
       "    </tr>\n",
       "    <tr>\n",
       "      <th>trial_id</th>\n",
       "      <th></th>\n",
       "      <th></th>\n",
       "      <th></th>\n",
       "      <th></th>\n",
       "      <th></th>\n",
       "      <th></th>\n",
       "    </tr>\n",
       "  </thead>\n",
       "  <tbody>\n",
       "    <tr>\n",
       "      <th>t18170115-1</th>\n",
       "      <td>1822</td>\n",
       "      <td>PETER JOHNSON was indicted for being at large,...</td>\n",
       "      <td>[peter, johnson, was, indicted, for, being, at...</td>\n",
       "      <td>[peter, johnson, was, indict, for, be, at, lar...</td>\n",
       "      <td>-0.128571</td>\n",
       "      <td>45</td>\n",
       "    </tr>\n",
       "    <tr>\n",
       "      <th>t18170115-2</th>\n",
       "      <td>1822</td>\n",
       "      <td>BENJAMIN HEARNE was indicted for burglariously...</td>\n",
       "      <td>[benjamin, hearne, was, indicted, for, burglar...</td>\n",
       "      <td>[benjamin, hearn, was, indict, for, burglari, ...</td>\n",
       "      <td>0.075000</td>\n",
       "      <td>382</td>\n",
       "    </tr>\n",
       "    <tr>\n",
       "      <th>t18170115-3</th>\n",
       "      <td>1822</td>\n",
       "      <td>JOHN DAVIS and JAMES LEMON , were indicted for...</td>\n",
       "      <td>[john, davis, and, james, lemon, were, indicte...</td>\n",
       "      <td>[john, davi, and, jame, lemon, were, indict, f...</td>\n",
       "      <td>-0.027721</td>\n",
       "      <td>981</td>\n",
       "    </tr>\n",
       "    <tr>\n",
       "      <th>t18170115-4</th>\n",
       "      <td>1822</td>\n",
       "      <td>RICHARD WILTSHIRE and SUSAN PAR-SONS , were in...</td>\n",
       "      <td>[richard, wiltshire, and, susan, par, sons, we...</td>\n",
       "      <td>[richard, wiltshir, and, susan, par, son, were...</td>\n",
       "      <td>0.074495</td>\n",
       "      <td>372</td>\n",
       "    </tr>\n",
       "    <tr>\n",
       "      <th>t18170115-5</th>\n",
       "      <td>1822</td>\n",
       "      <td>MARY JOHNSTON was indicted for burglariously b...</td>\n",
       "      <td>[mary, johnston, was, indicted, for, burglario...</td>\n",
       "      <td>[mari, johnston, was, indict, for, burglari, b...</td>\n",
       "      <td>-0.033333</td>\n",
       "      <td>963</td>\n",
       "    </tr>\n",
       "  </tbody>\n",
       "</table>\n",
       "</div>"
      ],
      "text/plain": [
       "             year                                         transcript  \\\n",
       "trial_id                                                               \n",
       "t18170115-1  1822  PETER JOHNSON was indicted for being at large,...   \n",
       "t18170115-2  1822  BENJAMIN HEARNE was indicted for burglariously...   \n",
       "t18170115-3  1822  JOHN DAVIS and JAMES LEMON , were indicted for...   \n",
       "t18170115-4  1822  RICHARD WILTSHIRE and SUSAN PAR-SONS , were in...   \n",
       "t18170115-5  1822  MARY JOHNSTON was indicted for burglariously b...   \n",
       "\n",
       "                                                        tokens  \\\n",
       "trial_id                                                         \n",
       "t18170115-1  [peter, johnson, was, indicted, for, being, at...   \n",
       "t18170115-2  [benjamin, hearne, was, indicted, for, burglar...   \n",
       "t18170115-3  [john, davis, and, james, lemon, were, indicte...   \n",
       "t18170115-4  [richard, wiltshire, and, susan, par, sons, we...   \n",
       "t18170115-5  [mary, johnston, was, indicted, for, burglario...   \n",
       "\n",
       "                                                stemmed_tokens  polarity  \\\n",
       "trial_id                                                                   \n",
       "t18170115-1  [peter, johnson, was, indict, for, be, at, lar... -0.128571   \n",
       "t18170115-2  [benjamin, hearn, was, indict, for, burglari, ...  0.075000   \n",
       "t18170115-3  [john, davi, and, jame, lemon, were, indict, f... -0.027721   \n",
       "t18170115-4  [richard, wiltshir, and, susan, par, son, were...  0.074495   \n",
       "t18170115-5  [mari, johnston, was, indict, for, burglari, b... -0.033333   \n",
       "\n",
       "             total_words  \n",
       "trial_id                  \n",
       "t18170115-1           45  \n",
       "t18170115-2          382  \n",
       "t18170115-3          981  \n",
       "t18170115-4          372  \n",
       "t18170115-5          963  "
      ]
     },
     "execution_count": 24,
     "metadata": {},
     "output_type": "execute_result"
    }
   ],
   "source": [
    "# SOLUTION\n",
    "old_bailey['total_words'] = old_bailey['tokens'].apply(len)\n",
    "old_bailey.head()"
   ]
  },
  {
   "cell_type": "markdown",
   "metadata": {},
   "source": [
    "Next, we need to calculate the number of matches to entries in our dictionary for each foundation for each speech.\n",
    "\n",
    "Run the next cell to add six new columns to `old_bailey`, one per foundation, that show the number of word matches. This cell will also likely take some time to run (no more than a minute). Note that by now, you have the skills to write all the code in the next cell- we're just giving it to you because it's long, fiddly, and writing nested for-loops is not the focus of this lab. Make sure you know what it does before you move on, though."
   ]
  },
  {
   "cell_type": "code",
   "execution_count": 31,
   "metadata": {},
   "outputs": [
    {
     "data": {
      "text/html": [
       "<div>\n",
       "<table border=\"1\" class=\"dataframe\">\n",
       "  <thead>\n",
       "    <tr style=\"text-align: right;\">\n",
       "      <th></th>\n",
       "      <th>year</th>\n",
       "      <th>transcript</th>\n",
       "      <th>tokens</th>\n",
       "      <th>stemmed_tokens</th>\n",
       "      <th>polarity</th>\n",
       "      <th>total_words</th>\n",
       "      <th>authority/subversion</th>\n",
       "      <th>care/harm</th>\n",
       "      <th>fairness/cheating</th>\n",
       "      <th>loyalty/betrayal</th>\n",
       "      <th>sanctity/degradation</th>\n",
       "    </tr>\n",
       "    <tr>\n",
       "      <th>trial_id</th>\n",
       "      <th></th>\n",
       "      <th></th>\n",
       "      <th></th>\n",
       "      <th></th>\n",
       "      <th></th>\n",
       "      <th></th>\n",
       "      <th></th>\n",
       "      <th></th>\n",
       "      <th></th>\n",
       "      <th></th>\n",
       "      <th></th>\n",
       "    </tr>\n",
       "  </thead>\n",
       "  <tbody>\n",
       "    <tr>\n",
       "      <th>t18170115-1</th>\n",
       "      <td>1822</td>\n",
       "      <td>PETER JOHNSON was indicted for being at large,...</td>\n",
       "      <td>[peter, johnson, was, indicted, for, being, at...</td>\n",
       "      <td>[peter, johnson, was, indict, for, be, at, lar...</td>\n",
       "      <td>-0.128571</td>\n",
       "      <td>45</td>\n",
       "      <td>1.0</td>\n",
       "      <td>0.0</td>\n",
       "      <td>0.0</td>\n",
       "      <td>0.0</td>\n",
       "      <td>0.0</td>\n",
       "    </tr>\n",
       "    <tr>\n",
       "      <th>t18170115-2</th>\n",
       "      <td>1822</td>\n",
       "      <td>BENJAMIN HEARNE was indicted for burglariously...</td>\n",
       "      <td>[benjamin, hearne, was, indicted, for, burglar...</td>\n",
       "      <td>[benjamin, hearn, was, indict, for, burglari, ...</td>\n",
       "      <td>0.075000</td>\n",
       "      <td>382</td>\n",
       "      <td>0.0</td>\n",
       "      <td>1.0</td>\n",
       "      <td>0.0</td>\n",
       "      <td>0.0</td>\n",
       "      <td>0.0</td>\n",
       "    </tr>\n",
       "    <tr>\n",
       "      <th>t18170115-3</th>\n",
       "      <td>1822</td>\n",
       "      <td>JOHN DAVIS and JAMES LEMON , were indicted for...</td>\n",
       "      <td>[john, davis, and, james, lemon, were, indicte...</td>\n",
       "      <td>[john, davi, and, jame, lemon, were, indict, f...</td>\n",
       "      <td>-0.027721</td>\n",
       "      <td>981</td>\n",
       "      <td>0.0</td>\n",
       "      <td>0.0</td>\n",
       "      <td>0.0</td>\n",
       "      <td>0.0</td>\n",
       "      <td>0.0</td>\n",
       "    </tr>\n",
       "    <tr>\n",
       "      <th>t18170115-4</th>\n",
       "      <td>1822</td>\n",
       "      <td>RICHARD WILTSHIRE and SUSAN PAR-SONS , were in...</td>\n",
       "      <td>[richard, wiltshire, and, susan, par, sons, we...</td>\n",
       "      <td>[richard, wiltshir, and, susan, par, son, were...</td>\n",
       "      <td>0.074495</td>\n",
       "      <td>372</td>\n",
       "      <td>0.0</td>\n",
       "      <td>0.0</td>\n",
       "      <td>0.0</td>\n",
       "      <td>0.0</td>\n",
       "      <td>0.0</td>\n",
       "    </tr>\n",
       "    <tr>\n",
       "      <th>t18170115-5</th>\n",
       "      <td>1822</td>\n",
       "      <td>MARY JOHNSTON was indicted for burglariously b...</td>\n",
       "      <td>[mary, johnston, was, indicted, for, burglario...</td>\n",
       "      <td>[mari, johnston, was, indict, for, burglari, b...</td>\n",
       "      <td>-0.033333</td>\n",
       "      <td>963</td>\n",
       "      <td>1.0</td>\n",
       "      <td>0.0</td>\n",
       "      <td>0.0</td>\n",
       "      <td>0.0</td>\n",
       "      <td>0.0</td>\n",
       "    </tr>\n",
       "  </tbody>\n",
       "</table>\n",
       "</div>"
      ],
      "text/plain": [
       "             year                                         transcript  \\\n",
       "trial_id                                                               \n",
       "t18170115-1  1822  PETER JOHNSON was indicted for being at large,...   \n",
       "t18170115-2  1822  BENJAMIN HEARNE was indicted for burglariously...   \n",
       "t18170115-3  1822  JOHN DAVIS and JAMES LEMON , were indicted for...   \n",
       "t18170115-4  1822  RICHARD WILTSHIRE and SUSAN PAR-SONS , were in...   \n",
       "t18170115-5  1822  MARY JOHNSTON was indicted for burglariously b...   \n",
       "\n",
       "                                                        tokens  \\\n",
       "trial_id                                                         \n",
       "t18170115-1  [peter, johnson, was, indicted, for, being, at...   \n",
       "t18170115-2  [benjamin, hearne, was, indicted, for, burglar...   \n",
       "t18170115-3  [john, davis, and, james, lemon, were, indicte...   \n",
       "t18170115-4  [richard, wiltshire, and, susan, par, sons, we...   \n",
       "t18170115-5  [mary, johnston, was, indicted, for, burglario...   \n",
       "\n",
       "                                                stemmed_tokens  polarity  \\\n",
       "trial_id                                                                   \n",
       "t18170115-1  [peter, johnson, was, indict, for, be, at, lar... -0.128571   \n",
       "t18170115-2  [benjamin, hearn, was, indict, for, burglari, ...  0.075000   \n",
       "t18170115-3  [john, davi, and, jame, lemon, were, indict, f... -0.027721   \n",
       "t18170115-4  [richard, wiltshir, and, susan, par, son, were...  0.074495   \n",
       "t18170115-5  [mari, johnston, was, indict, for, burglari, b... -0.033333   \n",
       "\n",
       "             total_words  authority/subversion  care/harm  fairness/cheating  \\\n",
       "trial_id                                                                       \n",
       "t18170115-1           45                   1.0        0.0                0.0   \n",
       "t18170115-2          382                   0.0        1.0                0.0   \n",
       "t18170115-3          981                   0.0        0.0                0.0   \n",
       "t18170115-4          372                   0.0        0.0                0.0   \n",
       "t18170115-5          963                   1.0        0.0                0.0   \n",
       "\n",
       "             loyalty/betrayal  sanctity/degradation  \n",
       "trial_id                                             \n",
       "t18170115-1               0.0                   0.0  \n",
       "t18170115-2               0.0                   0.0  \n",
       "t18170115-3               0.0                   0.0  \n",
       "t18170115-4               0.0                   0.0  \n",
       "t18170115-5               0.0                   0.0  "
      ]
     },
     "execution_count": 31,
     "metadata": {},
     "output_type": "execute_result"
    }
   ],
   "source": [
    "# Will take a bit of time to run due to the large size.\n",
    "\n",
    "# do the following code for each foundation\n",
    "for foundation in mft_dict.keys():\n",
    "    # create a new, empty column\n",
    "    num_match_words = np.zeros(len(old_bailey))\n",
    "    stems = mft_dict[foundation]\n",
    "    \n",
    "    # do the following code for each foundation word\n",
    "    for stem in stems:\n",
    "        # find related word matches\n",
    "        wd_count = np.array([sum([wd == stem for wd in transcript])for transcript in old_bailey['stemmed_tokens']])\n",
    "        # add the number of matches to the total\n",
    "        num_match_words += wd_count\n",
    "        \n",
    "    # create a new column for each foundation with the number of related words per transcript\n",
    "    old_bailey[foundation] = num_match_words\n",
    "\n",
    "old_bailey.head()"
   ]
  },
  {
   "cell_type": "markdown",
   "metadata": {},
   "source": [
    "**EXERCISE:** The columns for each foundation currently contain the number of words related to that foundation for each of the trials. Calculate the *percentage* of foundation words per trial by dividing the number of matched words by the number of total words and multiplying by 100."
   ]
  },
  {
   "cell_type": "code",
   "execution_count": 32,
   "metadata": {},
   "outputs": [
    {
     "data": {
      "text/html": [
       "<div>\n",
       "<table border=\"1\" class=\"dataframe\">\n",
       "  <thead>\n",
       "    <tr style=\"text-align: right;\">\n",
       "      <th></th>\n",
       "      <th>year</th>\n",
       "      <th>transcript</th>\n",
       "      <th>tokens</th>\n",
       "      <th>stemmed_tokens</th>\n",
       "      <th>polarity</th>\n",
       "      <th>total_words</th>\n",
       "      <th>authority/subversion</th>\n",
       "      <th>care/harm</th>\n",
       "      <th>fairness/cheating</th>\n",
       "      <th>loyalty/betrayal</th>\n",
       "      <th>sanctity/degradation</th>\n",
       "    </tr>\n",
       "    <tr>\n",
       "      <th>trial_id</th>\n",
       "      <th></th>\n",
       "      <th></th>\n",
       "      <th></th>\n",
       "      <th></th>\n",
       "      <th></th>\n",
       "      <th></th>\n",
       "      <th></th>\n",
       "      <th></th>\n",
       "      <th></th>\n",
       "      <th></th>\n",
       "      <th></th>\n",
       "    </tr>\n",
       "  </thead>\n",
       "  <tbody>\n",
       "    <tr>\n",
       "      <th>t18170115-1</th>\n",
       "      <td>1822</td>\n",
       "      <td>PETER JOHNSON was indicted for being at large,...</td>\n",
       "      <td>[peter, johnson, was, indicted, for, being, at...</td>\n",
       "      <td>[peter, johnson, was, indict, for, be, at, lar...</td>\n",
       "      <td>-0.128571</td>\n",
       "      <td>45</td>\n",
       "      <td>1.0</td>\n",
       "      <td>0.0</td>\n",
       "      <td>0.0</td>\n",
       "      <td>0.0</td>\n",
       "      <td>0.0</td>\n",
       "    </tr>\n",
       "    <tr>\n",
       "      <th>t18170115-2</th>\n",
       "      <td>1822</td>\n",
       "      <td>BENJAMIN HEARNE was indicted for burglariously...</td>\n",
       "      <td>[benjamin, hearne, was, indicted, for, burglar...</td>\n",
       "      <td>[benjamin, hearn, was, indict, for, burglari, ...</td>\n",
       "      <td>0.075000</td>\n",
       "      <td>382</td>\n",
       "      <td>0.0</td>\n",
       "      <td>1.0</td>\n",
       "      <td>0.0</td>\n",
       "      <td>0.0</td>\n",
       "      <td>0.0</td>\n",
       "    </tr>\n",
       "    <tr>\n",
       "      <th>t18170115-3</th>\n",
       "      <td>1822</td>\n",
       "      <td>JOHN DAVIS and JAMES LEMON , were indicted for...</td>\n",
       "      <td>[john, davis, and, james, lemon, were, indicte...</td>\n",
       "      <td>[john, davi, and, jame, lemon, were, indict, f...</td>\n",
       "      <td>-0.027721</td>\n",
       "      <td>981</td>\n",
       "      <td>0.0</td>\n",
       "      <td>0.0</td>\n",
       "      <td>0.0</td>\n",
       "      <td>0.0</td>\n",
       "      <td>0.0</td>\n",
       "    </tr>\n",
       "    <tr>\n",
       "      <th>t18170115-4</th>\n",
       "      <td>1822</td>\n",
       "      <td>RICHARD WILTSHIRE and SUSAN PAR-SONS , were in...</td>\n",
       "      <td>[richard, wiltshire, and, susan, par, sons, we...</td>\n",
       "      <td>[richard, wiltshir, and, susan, par, son, were...</td>\n",
       "      <td>0.074495</td>\n",
       "      <td>372</td>\n",
       "      <td>0.0</td>\n",
       "      <td>0.0</td>\n",
       "      <td>0.0</td>\n",
       "      <td>0.0</td>\n",
       "      <td>0.0</td>\n",
       "    </tr>\n",
       "    <tr>\n",
       "      <th>t18170115-5</th>\n",
       "      <td>1822</td>\n",
       "      <td>MARY JOHNSTON was indicted for burglariously b...</td>\n",
       "      <td>[mary, johnston, was, indicted, for, burglario...</td>\n",
       "      <td>[mari, johnston, was, indict, for, burglari, b...</td>\n",
       "      <td>-0.033333</td>\n",
       "      <td>963</td>\n",
       "      <td>1.0</td>\n",
       "      <td>0.0</td>\n",
       "      <td>0.0</td>\n",
       "      <td>0.0</td>\n",
       "      <td>0.0</td>\n",
       "    </tr>\n",
       "  </tbody>\n",
       "</table>\n",
       "</div>"
      ],
      "text/plain": [
       "             year                                         transcript  \\\n",
       "trial_id                                                               \n",
       "t18170115-1  1822  PETER JOHNSON was indicted for being at large,...   \n",
       "t18170115-2  1822  BENJAMIN HEARNE was indicted for burglariously...   \n",
       "t18170115-3  1822  JOHN DAVIS and JAMES LEMON , were indicted for...   \n",
       "t18170115-4  1822  RICHARD WILTSHIRE and SUSAN PAR-SONS , were in...   \n",
       "t18170115-5  1822  MARY JOHNSTON was indicted for burglariously b...   \n",
       "\n",
       "                                                        tokens  \\\n",
       "trial_id                                                         \n",
       "t18170115-1  [peter, johnson, was, indicted, for, being, at...   \n",
       "t18170115-2  [benjamin, hearne, was, indicted, for, burglar...   \n",
       "t18170115-3  [john, davis, and, james, lemon, were, indicte...   \n",
       "t18170115-4  [richard, wiltshire, and, susan, par, sons, we...   \n",
       "t18170115-5  [mary, johnston, was, indicted, for, burglario...   \n",
       "\n",
       "                                                stemmed_tokens  polarity  \\\n",
       "trial_id                                                                   \n",
       "t18170115-1  [peter, johnson, was, indict, for, be, at, lar... -0.128571   \n",
       "t18170115-2  [benjamin, hearn, was, indict, for, burglari, ...  0.075000   \n",
       "t18170115-3  [john, davi, and, jame, lemon, were, indict, f... -0.027721   \n",
       "t18170115-4  [richard, wiltshir, and, susan, par, son, were...  0.074495   \n",
       "t18170115-5  [mari, johnston, was, indict, for, burglari, b... -0.033333   \n",
       "\n",
       "             total_words  authority/subversion  care/harm  fairness/cheating  \\\n",
       "trial_id                                                                       \n",
       "t18170115-1           45                   1.0        0.0                0.0   \n",
       "t18170115-2          382                   0.0        1.0                0.0   \n",
       "t18170115-3          981                   0.0        0.0                0.0   \n",
       "t18170115-4          372                   0.0        0.0                0.0   \n",
       "t18170115-5          963                   1.0        0.0                0.0   \n",
       "\n",
       "             loyalty/betrayal  sanctity/degradation  \n",
       "trial_id                                             \n",
       "t18170115-1               0.0                   0.0  \n",
       "t18170115-2               0.0                   0.0  \n",
       "t18170115-3               0.0                   0.0  \n",
       "t18170115-4               0.0                   0.0  \n",
       "t18170115-5               0.0                   0.0  "
      ]
     },
     "execution_count": 32,
     "metadata": {},
     "output_type": "execute_result"
    }
   ],
   "source": [
    "# do this for each foundation column\n",
    "for foundation in mft_dict.keys():\n",
    "    old_bailey[foundation] = old_bailey[foundation] # fill in your code to transform the values here\n",
    "\n",
    "old_bailey.head()"
   ]
  },
  {
   "cell_type": "code",
   "execution_count": 33,
   "metadata": {},
   "outputs": [
    {
     "data": {
      "text/html": [
       "<div>\n",
       "<table border=\"1\" class=\"dataframe\">\n",
       "  <thead>\n",
       "    <tr style=\"text-align: right;\">\n",
       "      <th></th>\n",
       "      <th>year</th>\n",
       "      <th>transcript</th>\n",
       "      <th>tokens</th>\n",
       "      <th>stemmed_tokens</th>\n",
       "      <th>polarity</th>\n",
       "      <th>total_words</th>\n",
       "      <th>authority/subversion</th>\n",
       "      <th>care/harm</th>\n",
       "      <th>fairness/cheating</th>\n",
       "      <th>loyalty/betrayal</th>\n",
       "      <th>sanctity/degradation</th>\n",
       "    </tr>\n",
       "    <tr>\n",
       "      <th>trial_id</th>\n",
       "      <th></th>\n",
       "      <th></th>\n",
       "      <th></th>\n",
       "      <th></th>\n",
       "      <th></th>\n",
       "      <th></th>\n",
       "      <th></th>\n",
       "      <th></th>\n",
       "      <th></th>\n",
       "      <th></th>\n",
       "      <th></th>\n",
       "    </tr>\n",
       "  </thead>\n",
       "  <tbody>\n",
       "    <tr>\n",
       "      <th>t18170115-1</th>\n",
       "      <td>1822</td>\n",
       "      <td>PETER JOHNSON was indicted for being at large,...</td>\n",
       "      <td>[peter, johnson, was, indicted, for, being, at...</td>\n",
       "      <td>[peter, johnson, was, indict, for, be, at, lar...</td>\n",
       "      <td>-0.128571</td>\n",
       "      <td>45</td>\n",
       "      <td>2.222222</td>\n",
       "      <td>0.00000</td>\n",
       "      <td>0.0</td>\n",
       "      <td>0.0</td>\n",
       "      <td>0.0</td>\n",
       "    </tr>\n",
       "    <tr>\n",
       "      <th>t18170115-2</th>\n",
       "      <td>1822</td>\n",
       "      <td>BENJAMIN HEARNE was indicted for burglariously...</td>\n",
       "      <td>[benjamin, hearne, was, indicted, for, burglar...</td>\n",
       "      <td>[benjamin, hearn, was, indict, for, burglari, ...</td>\n",
       "      <td>0.075000</td>\n",
       "      <td>382</td>\n",
       "      <td>0.000000</td>\n",
       "      <td>0.26178</td>\n",
       "      <td>0.0</td>\n",
       "      <td>0.0</td>\n",
       "      <td>0.0</td>\n",
       "    </tr>\n",
       "    <tr>\n",
       "      <th>t18170115-3</th>\n",
       "      <td>1822</td>\n",
       "      <td>JOHN DAVIS and JAMES LEMON , were indicted for...</td>\n",
       "      <td>[john, davis, and, james, lemon, were, indicte...</td>\n",
       "      <td>[john, davi, and, jame, lemon, were, indict, f...</td>\n",
       "      <td>-0.027721</td>\n",
       "      <td>981</td>\n",
       "      <td>0.000000</td>\n",
       "      <td>0.00000</td>\n",
       "      <td>0.0</td>\n",
       "      <td>0.0</td>\n",
       "      <td>0.0</td>\n",
       "    </tr>\n",
       "    <tr>\n",
       "      <th>t18170115-4</th>\n",
       "      <td>1822</td>\n",
       "      <td>RICHARD WILTSHIRE and SUSAN PAR-SONS , were in...</td>\n",
       "      <td>[richard, wiltshire, and, susan, par, sons, we...</td>\n",
       "      <td>[richard, wiltshir, and, susan, par, son, were...</td>\n",
       "      <td>0.074495</td>\n",
       "      <td>372</td>\n",
       "      <td>0.000000</td>\n",
       "      <td>0.00000</td>\n",
       "      <td>0.0</td>\n",
       "      <td>0.0</td>\n",
       "      <td>0.0</td>\n",
       "    </tr>\n",
       "    <tr>\n",
       "      <th>t18170115-5</th>\n",
       "      <td>1822</td>\n",
       "      <td>MARY JOHNSTON was indicted for burglariously b...</td>\n",
       "      <td>[mary, johnston, was, indicted, for, burglario...</td>\n",
       "      <td>[mari, johnston, was, indict, for, burglari, b...</td>\n",
       "      <td>-0.033333</td>\n",
       "      <td>963</td>\n",
       "      <td>0.103842</td>\n",
       "      <td>0.00000</td>\n",
       "      <td>0.0</td>\n",
       "      <td>0.0</td>\n",
       "      <td>0.0</td>\n",
       "    </tr>\n",
       "  </tbody>\n",
       "</table>\n",
       "</div>"
      ],
      "text/plain": [
       "             year                                         transcript  \\\n",
       "trial_id                                                               \n",
       "t18170115-1  1822  PETER JOHNSON was indicted for being at large,...   \n",
       "t18170115-2  1822  BENJAMIN HEARNE was indicted for burglariously...   \n",
       "t18170115-3  1822  JOHN DAVIS and JAMES LEMON , were indicted for...   \n",
       "t18170115-4  1822  RICHARD WILTSHIRE and SUSAN PAR-SONS , were in...   \n",
       "t18170115-5  1822  MARY JOHNSTON was indicted for burglariously b...   \n",
       "\n",
       "                                                        tokens  \\\n",
       "trial_id                                                         \n",
       "t18170115-1  [peter, johnson, was, indicted, for, being, at...   \n",
       "t18170115-2  [benjamin, hearne, was, indicted, for, burglar...   \n",
       "t18170115-3  [john, davis, and, james, lemon, were, indicte...   \n",
       "t18170115-4  [richard, wiltshire, and, susan, par, sons, we...   \n",
       "t18170115-5  [mary, johnston, was, indicted, for, burglario...   \n",
       "\n",
       "                                                stemmed_tokens  polarity  \\\n",
       "trial_id                                                                   \n",
       "t18170115-1  [peter, johnson, was, indict, for, be, at, lar... -0.128571   \n",
       "t18170115-2  [benjamin, hearn, was, indict, for, burglari, ...  0.075000   \n",
       "t18170115-3  [john, davi, and, jame, lemon, were, indict, f... -0.027721   \n",
       "t18170115-4  [richard, wiltshir, and, susan, par, son, were...  0.074495   \n",
       "t18170115-5  [mari, johnston, was, indict, for, burglari, b... -0.033333   \n",
       "\n",
       "             total_words  authority/subversion  care/harm  fairness/cheating  \\\n",
       "trial_id                                                                       \n",
       "t18170115-1           45              2.222222    0.00000                0.0   \n",
       "t18170115-2          382              0.000000    0.26178                0.0   \n",
       "t18170115-3          981              0.000000    0.00000                0.0   \n",
       "t18170115-4          372              0.000000    0.00000                0.0   \n",
       "t18170115-5          963              0.103842    0.00000                0.0   \n",
       "\n",
       "             loyalty/betrayal  sanctity/degradation  \n",
       "trial_id                                             \n",
       "t18170115-1               0.0                   0.0  \n",
       "t18170115-2               0.0                   0.0  \n",
       "t18170115-3               0.0                   0.0  \n",
       "t18170115-4               0.0                   0.0  \n",
       "t18170115-5               0.0                   0.0  "
      ]
     },
     "execution_count": 33,
     "metadata": {},
     "output_type": "execute_result"
    }
   ],
   "source": [
    "#SOLUTION\n",
    "for foundation in mft_dict.keys():\n",
    "    old_bailey[foundation] = (old_bailey[foundation] / old_bailey['total_words']) * 100\n",
    "\n",
    "old_bailey.head()"
   ]
  },
  {
   "cell_type": "markdown",
   "metadata": {},
   "source": [
    "Let's compare the average percentage of foundation words per transcript for the two dates, 1822, and 1832.\n",
    "\n",
    "**EXERCISE**: Create a dataframe that only has columns for the five foundations plus the year. Then, use the pandas dataframe function `groupby` to group rows by the year, and call the `mean` function on the `groupby` output to get the averages for each foundation."
   ]
  },
  {
   "cell_type": "code",
   "execution_count": 34,
   "metadata": {},
   "outputs": [
    {
     "data": {
      "text/plain": [
       "Ellipsis"
      ]
     },
     "execution_count": 34,
     "metadata": {},
     "output_type": "execute_result"
    }
   ],
   "source": [
    "# the names of the columns we want to keep\n",
    "mft_columns = ['authority/subversion', 'care/harm', 'fairness/cheating', 'loyalty/betrayal',\n",
    " 'sanctity/degradation', 'year']\n",
    "\n",
    "# create a data frame with only the above columns included\n",
    "mft_df = ...\n",
    "\n",
    "# groups the rows of mft_df by year, then take the mean\n",
    "foundation_avgs = ...\n",
    "\n",
    "foundation_avgs"
   ]
  },
  {
   "cell_type": "code",
   "execution_count": 35,
   "metadata": {},
   "outputs": [
    {
     "data": {
      "text/html": [
       "<div>\n",
       "<table border=\"1\" class=\"dataframe\">\n",
       "  <thead>\n",
       "    <tr style=\"text-align: right;\">\n",
       "      <th></th>\n",
       "      <th>authority/subversion</th>\n",
       "      <th>care/harm</th>\n",
       "      <th>fairness/cheating</th>\n",
       "      <th>loyalty/betrayal</th>\n",
       "      <th>sanctity/degradation</th>\n",
       "    </tr>\n",
       "    <tr>\n",
       "      <th>year</th>\n",
       "      <th></th>\n",
       "      <th></th>\n",
       "      <th></th>\n",
       "      <th></th>\n",
       "      <th></th>\n",
       "    </tr>\n",
       "  </thead>\n",
       "  <tbody>\n",
       "    <tr>\n",
       "      <th>1822</th>\n",
       "      <td>0.078470</td>\n",
       "      <td>0.205310</td>\n",
       "      <td>0.014769</td>\n",
       "      <td>0.013650</td>\n",
       "      <td>0.027381</td>\n",
       "    </tr>\n",
       "    <tr>\n",
       "      <th>1832</th>\n",
       "      <td>0.146665</td>\n",
       "      <td>0.099239</td>\n",
       "      <td>0.013073</td>\n",
       "      <td>0.012185</td>\n",
       "      <td>0.042233</td>\n",
       "    </tr>\n",
       "  </tbody>\n",
       "</table>\n",
       "</div>"
      ],
      "text/plain": [
       "      authority/subversion  care/harm  fairness/cheating  loyalty/betrayal  \\\n",
       "year                                                                         \n",
       "1822              0.078470   0.205310           0.014769          0.013650   \n",
       "1832              0.146665   0.099239           0.013073          0.012185   \n",
       "\n",
       "      sanctity/degradation  \n",
       "year                        \n",
       "1822              0.027381  \n",
       "1832              0.042233  "
      ]
     },
     "execution_count": 35,
     "metadata": {},
     "output_type": "execute_result"
    }
   ],
   "source": [
    "# SOLUTION\n",
    "# the names of the columns we want to keep\n",
    "mft_columns = ['authority/subversion', 'care/harm', 'fairness/cheating', 'loyalty/betrayal',\n",
    " 'sanctity/degradation', 'year']\n",
    "\n",
    "# create a data frame with only the above columns included\n",
    "mft_df = old_bailey.loc[:, mft_columns]\n",
    "\n",
    "# groups the rows by year, then take the mean\n",
    "foundation_avgs = mft_df.groupby('year').mean()\n",
    "\n",
    "foundation_avgs"
   ]
  },
  {
   "cell_type": "markdown",
   "metadata": {},
   "source": [
    "Next, create a bar graph. The simplest way is to call `.plot.barh()` on your dataframe of the averages. \n",
    "\n",
    "Also try calling `.transpose()` on your averages dataframe, then making a bar graph of that. The transpose function flips the rows and columns and can make it easier to compare the percentages."
   ]
  },
  {
   "cell_type": "code",
   "execution_count": 36,
   "metadata": {},
   "outputs": [],
   "source": [
    "# create a bar graph\n",
    "..."
   ]
  },
  {
   "cell_type": "code",
   "execution_count": 37,
   "metadata": {},
   "outputs": [
    {
     "data": {
      "text/plain": [
       "<matplotlib.axes._subplots.AxesSubplot at 0x7fe24dc68f98>"
      ]
     },
     "execution_count": 37,
     "metadata": {},
     "output_type": "execute_result"
    },
    {
     "data": {
      "image/png": "[encoded data removed]",
      "text/plain": [
       "<matplotlib.figure.Figure at 0x7fe24dbd1ac8>"
      ]
     },
     "metadata": {},
     "output_type": "display_data"
    }
   ],
   "source": [
    "# SOLUTION\n",
    "# create a bar graph\n",
    "foundation_avgs.transpose().plot.barh()"
   ]
  },
  {
   "cell_type": "markdown",
   "metadata": {},
   "source": [
    "**QUESTION:** What do you see from the bar graphs you created? \n",
    "\n",
    "Why would this be a good approach to answering the question of how talk about morality changed between these two periods? What are some limitations of this approach (Hint: look at the values on the graphs you calculated, and remember: these are *percentages*, not proportions)?"
   ]
  },
  {
   "cell_type": "markdown",
   "metadata": {},
   "source": [
    "*Write your answer here.*"
   ]
  },
  {
   "cell_type": "markdown",
   "metadata": {},
   "source": [
    "*Potential answer: The proportion of care/harm words is greater before the repeal, and the proportion of authority/subversion words is greater after the repeal. Rarity of words means results may not be significant. And, since this dictionary was not designed specifically for this data set, it also may be missing relevant words.*"
   ]
  },
  {
   "cell_type": "markdown",
   "metadata": {},
   "source": [
    "----\n",
    "## Section 4: Non-negative matrix factorization<a id='section 4'></a>\n",
    "\n",
    "In this section, you can get an idea of sentiment using topic modeling algorithms, something you touched on in the 4/10 lab earlier this week, to help look for patterns.\n",
    "\n",
    "On Tuesday, you explored Latent Dirichlet Allocation (LDA) in gensim to look for topics in a corpus. Non-negative matrix factorization (NMF), not included in gensim, is another such way to look for topics in unstructured text data. The two methods differ in what kinds of math they use 'under the hood': LDA relies on probabilistic graphical modeling, while NMF uses linear algebra. \n",
    "\n",
    "We want to generate the topics found for 1822 and 1832 trials, look for topics related to tone or morality, and see if there's a difference between the two.\n",
    "\n",
    "Run the cell below to make two lists: one list of the trial transcripts for each year."
   ]
  },
  {
   "cell_type": "code",
   "execution_count": 38,
   "metadata": {},
   "outputs": [],
   "source": [
    "# trial transcripts for 1822\n",
    "transcripts_1822 = old_bailey[old_bailey['year'] == 1822]['transcript']\n",
    "\n",
    "# trial transcripts for 1832\n",
    "transcripts_1832 = old_bailey[old_bailey['year'] == 1832]['transcript']"
   ]
  },
  {
   "cell_type": "markdown",
   "metadata": {},
   "source": [
    "We'll start by looking at 1822. The following cell creates the tfidf vectorizer, fits the text data, and assigns the list of feature name (i.e. the words in the document) to `tfidf_feature_names_1822`.\n",
    "\n",
    "Check out the [documentation for TfidfVectorizer](http://scikit-learn.org/stable/modules/generated/sklearn.feature_extraction.text.TfidfVectorizer.html) if you need a refresher on what it does."
   ]
  },
  {
   "cell_type": "code",
   "execution_count": 39,
   "metadata": {},
   "outputs": [],
   "source": [
    "# create the vectorizer\n",
    "tfidf_vectorizer_1822 = TfidfVectorizer(max_df=0.95, min_df=2, max_features=1000, stop_words='english')\n",
    "# fit the data\n",
    "tfidf_1822 = tfidf_vectorizer_1822.fit_transform(transcripts_1822)\n",
    "# get the feature names\n",
    "tfidf_feature_names_1822 = tfidf_vectorizer_1822.get_feature_names()"
   ]
  },
  {
   "cell_type": "markdown",
   "metadata": {},
   "source": [
    "**EXERCISE:** Create the TfidfVectorizer, fit_transform the data, and get the feature names for 1832."
   ]
  },
  {
   "cell_type": "code",
   "execution_count": 40,
   "metadata": {},
   "outputs": [],
   "source": [
    "# create the vectorizer\n",
    "tfidf_vectorizer_1832 = ...\n",
    "# fit the data\n",
    "tfidf_1832 = ...\n",
    "# get the feature names\n",
    "tfidf_feature_names_1832 = ..."
   ]
  },
  {
   "cell_type": "code",
   "execution_count": 41,
   "metadata": {},
   "outputs": [],
   "source": [
    "# SOLUTION\n",
    "tfidf_vectorizer_1832 = TfidfVectorizer(max_df=0.95, min_df=2, max_features=1000, stop_words='english')\n",
    "tfidf_1832 = tfidf_vectorizer_1832.fit_transform(transcripts_1832)\n",
    "tfidf_feature_names_1832 = tfidf_vectorizer_1832.get_feature_names()"
   ]
  },
  {
   "cell_type": "markdown",
   "metadata": {},
   "source": [
    "As mentioned previously the algorithms are not able to automatically determine the number of topics and this value must be set when running the algorithm. Initialising NMF with ‘nndsvd’ rather than random initialisation improves the time it takes for NMF to converge.`random_state` gives the seed for the random number generator to use: this lets us reproduce our results in the future.\n"
   ]
  },
  {
   "cell_type": "code",
   "execution_count": 42,
   "metadata": {},
   "outputs": [],
   "source": [
    "num_topics = 20\n",
    "# Run NMF for 1822\n",
    "nmf_1822 = NMF(n_components=num_topics, random_state=1, init='nndsvd').fit(tfidf_1822)"
   ]
  },
  {
   "cell_type": "markdown",
   "metadata": {},
   "source": [
    "**EXERCISE:** Run NMF using `num_topics` for the number of components on the data from 1832."
   ]
  },
  {
   "cell_type": "code",
   "execution_count": 43,
   "metadata": {},
   "outputs": [],
   "source": [
    "# Run NMF for 1832\n",
    "nmf_1832 = ..."
   ]
  },
  {
   "cell_type": "code",
   "execution_count": 44,
   "metadata": {},
   "outputs": [],
   "source": [
    "# SOLUTION\n",
    "nmf_1832 = NMF(n_components=num_topics, random_state=1, init='nndsvd').fit(tfidf_1832)"
   ]
  },
  {
   "cell_type": "markdown",
   "metadata": {},
   "source": [
    "We've provided you the function to display the topics shown by the NMF."
   ]
  },
  {
   "cell_type": "code",
   "execution_count": 46,
   "metadata": {},
   "outputs": [
    {
     "name": "stdout",
     "output_type": "stream",
     "text": [
      "Topic 0:\n",
      "said asked did told went came prisoner man examined cross\n",
      "Topic 1:\n",
      "value 1s things 2s pair 6d indictment articles box stated\n",
      "Topic 2:\n",
      "notes note bank 1l money book pocket 5l paid 10l\n",
      "Topic 3:\n",
      "forged note england pleaded possession bank having fourteen knowing feloniously\n",
      "Topic 4:\n",
      "watch chain prisoner key value seals person prosecutor ran watchman\n",
      "Topic 5:\n",
      "offence pleaded like fourteen transported years recorder prisoner middlesex second\n",
      "Topic 6:\n",
      "common sergeant london henry january september discharged david fined james\n",
      "Topic 7:\n",
      "handkerchief pocket person hand turned saw round felt life gentleman\n",
      "Topic 8:\n",
      "shoes pair boots shoemaker shop stockings wilson bought william breeches\n",
      "Topic 9:\n",
      "shop saw door prisoner privately man yards ran cotton coat\n",
      "Topic 10:\n",
      "acquitted appearing prosecutor middlesex value second recorder stealing goods prosecutrix\n",
      "Topic 11:\n",
      "august prisoner pledged goods pledge months confined pawnbroker 4th produced\n",
      "Topic 12:\n",
      "lead fixed house roof building belonging cut certain prisoners saw\n",
      "Topic 13:\n",
      "evidence second middlesex reynolds john joseph recorder justice offence burrough\n",
      "Topic 14:\n",
      "july prisoner william goods smith john james live fourth saw\n",
      "Topic 15:\n",
      "march february april prisoner john property thomas confined recorder sworn\n",
      "Topic 16:\n",
      "october goods prisoner john recorder thomas 20th stealing william value\n",
      "Topic 17:\n",
      "june secured goods prisoner wright 6th clock 11th william recorder\n",
      "Topic 18:\n",
      "house door went room bed clock open stairs night burglariously\n",
      "Topic 19:\n",
      "november garrow pledged goods second pawnbroker baron prisoner william produced\n"
     ]
    }
   ],
   "source": [
    "def display_topics(model, feature_names, num_top_words):\n",
    "    \"\"\"Displays NUM_TOP_WORDS topics for MODEL \"\"\"\n",
    "    for topic_idx, topic in enumerate(model.components_):\n",
    "        print(\"Topic %d:\" % (topic_idx))\n",
    "        print(\" \".join([feature_names[i]\n",
    "                        for i in topic.argsort()[:-num_top_words - 1:-1]]))\n",
    "\n",
    "# the number of words to display per topic\n",
    "num_top_words = 10\n",
    "\n",
    "# display the topics for 1822\n",
    "display_topics(nmf_1822, tfidf_feature_names_1822, num_top_words)\n"
   ]
  },
  {
   "cell_type": "code",
   "execution_count": 47,
   "metadata": {},
   "outputs": [
    {
     "name": "stdout",
     "output_type": "stream",
     "text": [
      "Topic 0:\n",
      "house went door room bed clock night stairs open came\n",
      "Topic 1:\n",
      "handkerchief pocket prisoner saw person felt turned gentleman took hand\n",
      "Topic 2:\n",
      "value 1s 6d 2s pair 5s articles goods 4s things\n",
      "Topic 3:\n",
      "shop prisoner saw took ran street door william yards aged\n",
      "Topic 4:\n",
      "watch prisoner chain seal prosecutor key value person june hand\n",
      "Topic 5:\n",
      "shoes pair pairs shoemaker william shoe george prisoner 21st joseph\n",
      "Topic 6:\n",
      "money half shillings sovereign crowns monies crown prisoner shilling pocket\n",
      "Topic 7:\n",
      "pleaded sergeant jury middlesex common new mr court arabin confined\n",
      "Topic 8:\n",
      "mr did prisoner examined cross paid know time received money\n",
      "Topic 9:\n",
      "coat prisoner waistcoat cab april street william george september charles\n",
      "Topic 10:\n",
      "said asked went came did told man got going wanted\n",
      "Topic 11:\n",
      "box prisoner key things handkerchiefs room articles stockings said searched\n",
      "Topic 12:\n",
      "boots pair trousers shop prisoners shoemaker thomas took 24th 12th\n",
      "Topic 13:\n",
      "purse sovereigns pocket hand bag note person 5l saw felt\n",
      "Topic 14:\n",
      "pawned prisoner pawnbroker duplicates spoon sheet duplicate missed room spoons\n",
      "Topic 15:\n",
      "august prisoner necklace hat john 11th shawl transported jacket 30th\n",
      "Topic 16:\n",
      "cart horse saw stable hay yard mare morning clock bag\n",
      "Topic 17:\n",
      "july 7th prisoner 21st james cap live property john goods\n",
      "Topic 18:\n",
      "books printed book jones 9th october yards 7th house john\n",
      "Topic 19:\n",
      "february john cheese 8th goods stealing henry appear 21st prisoner\n"
     ]
    }
   ],
   "source": [
    "# display the topics for 1832\n",
    "display_topics(nmf_1832, tfidf_feature_names_1832, num_top_words)"
   ]
  },
  {
   "cell_type": "markdown",
   "metadata": {},
   "source": [
    "As in LDA, it often takes some hyperparameter tuning before you get a coherent set of topics. Go back and tune the parameters for tfidf and NMF to see if you can get topics that show something about the moral sentiment of the transcripts. `num_topics` usually makes the most dramatic difference.\n",
    "\n",
    "Once you've compared several sets of topics, answer the next question:"
   ]
  },
  {
   "cell_type": "markdown",
   "metadata": {},
   "source": [
    "**QUESTION:** What did the best set of topics you found tell you about the tone of the documents for the two periods? Why might this approach be a good way to study sentiment? What are some issues with this approach?"
   ]
  },
  {
   "cell_type": "markdown",
   "metadata": {},
   "source": [
    "*Write your answer here.*"
   ]
  },
  {
   "cell_type": "markdown",
   "metadata": {},
   "source": [
    "*Potential answer: NMF can be good for uncovering patterns in unstructured data without imposing structure like in dictionary methods. But, unstructured data means you might have to dig a lot to find relevant topics.*"
   ]
  },
  {
   "cell_type": "markdown",
   "metadata": {},
   "source": [
    "----\n",
    "Fantastic! Now you know how to approach sentiment analysis several ways using general sentiment analysis with `VADER`, Moral Foundations Theory, and Non-negative matrix factorization.\n",
    "\n",
    "Ultimately, there were limitations to all of these methods. In your homework, you'll explore how to generate your own dictionary to try to overcome some of these limitations.\n",
    "\n",
    "----"
   ]
  },
  {
   "cell_type": "markdown",
   "metadata": {},
   "source": [
    "## Bibliography\n",
    "\n",
    "\n",
    " - Moral Foundations Theory background and dictionary: *Jesse Graham and Jonathan Haidt http://moralfoundations.org/*\n",
    " - Moral Foundations analysis code adapted from *https://github.com/ds-modules/XRHETOR-R1A/blob/master/02-Moral-Foundations-Analysis/02-Moral-Foundations-Analysis.ipynb*\n",
    " - NMF code and explanation adapted from *Aneesha Bakharia. 'Topic Modeling With Scikit-Learn.' https://medium.com/mlreview/topic-modeling-with-scikit-learn-e80d33668730*\n",
    "\n",
    "----\n",
    "Notebook developed by: Gibson Chu, Keeley Takimoto\n",
    "\n",
    "Data Science Modules: http://data.berkeley.edu/education/modules"
   ]
  }
 ],
 "metadata": {
  "kernelspec": {
   "display_name": "Python 3",
   "language": "python",
   "name": "python3"
  },
  "language_info": {
   "codemirror_mode": {
    "name": "ipython",
    "version": 3
   },
   "file_extension": ".py",
   "mimetype": "text/x-python",
   "name": "python",
   "nbconvert_exporter": "python",
   "pygments_lexer": "ipython3",
   "version": "3.6.4"
  }
 },
 "nbformat": 4,
 "nbformat_minor": 2
}
