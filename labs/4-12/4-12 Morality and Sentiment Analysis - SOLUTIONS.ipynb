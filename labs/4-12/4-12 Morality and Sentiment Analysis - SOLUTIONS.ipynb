{
 "cells": [
  {
   "cell_type": "markdown",
   "metadata": {},
   "source": [
    "# [LEGALST-190] Lab 4/12: Morality and Sentiment Analysis"
   ]
  },
  {
   "cell_type": "markdown",
   "metadata": {},
   "source": [
    "This lab will cover morality and sentiment analysis using the *Moral Foundations Theory* with dictionary-based analysis, connecting to topic modeling and classifications ideas from previous labs.\n",
    "\n",
    "### Table of Contents\n",
    "[The Data](#section data)<br>\n",
    "[Goal and Question](#section goal)<br>\n",
    "1 - [Text Pre-processing](#section 1)<br>\n",
    "2 - [General Sentiment Analysis](#section 2)<br>\n",
    "3 - [Moral Foundations Theory](#section 3)<br>\n",
    "4 - [Non-negative matrix factorization](#section 4)<br>\n",
    "\n",
    "**Dependencies:**"
   ]
  },
  {
   "cell_type": "code",
   "execution_count": 21,
   "metadata": {},
   "outputs": [
    {
     "name": "stdout",
     "output_type": "stream",
     "text": [
      "Collecting vaderSentiment\n",
      "  Downloading vaderSentiment-2.5-py2.py3-none-any.whl (102kB)\n",
      "\u001b[K    100% |████████████████████████████████| 112kB 1.5MB/s ta 0:00:01\n",
      "\u001b[?25hInstalling collected packages: vaderSentiment\n",
      "Successfully installed vaderSentiment-2.5\n"
     ]
    }
   ],
   "source": [
    "import numpy as np\n",
    "import pandas as pd\n",
    "import seaborn as sns\n",
    "import json\n",
    "\n",
    "from sklearn.decomposition import NMF, LatentDirichletAllocation\n",
    "from sklearn.feature_extraction.text import TfidfVectorizer, CountVectorizer\n",
    "\n",
    "import nltk\n",
    "from nltk.stem.snowball import SnowballStemmer\n",
    "from nltk.corpus import stopwords\n",
    "\n",
    "!pip install vaderSentiment\n",
    "from vaderSentiment.vaderSentiment import SentimentIntensityAnalyzer"
   ]
  },
  {
   "cell_type": "markdown",
   "metadata": {},
   "source": [
    "----\n",
    "## The Data<a id='section data'></a>\n",
    "\n",
    "For this lab, we'll use the Old Bailey dataset, something you all should be familiar with now. The size of the dataset is also rather large so we will compare two year-long periods, one from before 1827 and one after. Read the question to better understand why we look at 1827."
   ]
  },
  {
   "cell_type": "markdown",
   "metadata": {},
   "source": [
    "## Goal and Question<a id='section goal'></a>\n",
    "\n",
    "The goal of today's lab is to explore sentiment analysis with three different approaches – [polarity scoring](#section 2), [topic-specific dictionary methods](#section 3), and [topic modeling](#section 4).\n",
    "\n",
    "We'll look at sentiment in the context of the following question: \n",
    "\n",
    "**Did the way judges, prosecutors, and witnesses talk about moral culpability change after the Bloody Code was mostly repealed in 1827 (at the leading edge of a wave of legal reform in England)?**\n",
    "\n",
    "*Note: this is a question that could encompass an entire research project. Today's lab uses a very small subset of data due to datahub memory limitations, and skips over many of the steps needed for truly robust conclusions. *\n",
    "\n",
    "Something to think about: What are some things you would need to consider before answering this question?\n",
    "\n",
    "----"
   ]
  },
  {
   "cell_type": "markdown",
   "metadata": {},
   "source": [
    "## Section 1: Text Pre-processing<a id='section 1'></a>\n",
    "\n",
    "### Before we start\n",
    "This dataset we are about to look at is incredibly large, so for this lab, we only consider two years: 1822 and 1832.\n",
    "\n",
    "**Question 1.1:** Why are we looking at these two years?"
   ]
  },
  {
   "cell_type": "markdown",
   "metadata": {},
   "source": [
    "*Write your answer here.*"
   ]
  },
  {
   "cell_type": "markdown",
   "metadata": {},
   "source": [
    "----\n",
    "\n",
    "### Getting started\n",
    "\n",
    "Let's get working with the data."
   ]
  },
  {
   "cell_type": "code",
   "execution_count": 2,
   "metadata": {},
   "outputs": [],
   "source": [
    "# contains Old Bailey trial data from 1822 and 1832\n",
    "old_bailey = pd.read_csv('data/obc_1822_1832.csv', index_col='trial_id')\n"
   ]
  },
  {
   "cell_type": "markdown",
   "metadata": {},
   "source": [
    "Awesome! We now have data we can work with. Before we start anything, we must clean the text!\n",
    "\n",
    "Just to review, we want to process our text by:<br>\n",
    "1) Lowercasing the words<br>\n",
    "2) Cleaning up punctuation<br>\n",
    "3) Creating a list of tokens<br>\n",
    "\n",
    "<a id='gensim'></a>**Question 1.5:** Clean up the data based on these steps. \n",
    "\n",
    "*Note: as a general practice, it's a good idea not to modify the data in-place, in case you need it later. Instead, put your cleaned data in a new column where each value is a list of the tokens.*"
   ]
  },
  {
   "cell_type": "code",
   "execution_count": null,
   "metadata": {},
   "outputs": [],
   "source": [
    "# clean the transcripts"
   ]
  },
  {
   "cell_type": "code",
   "execution_count": 9,
   "metadata": {},
   "outputs": [
    {
     "data": {
      "text/html": [
       "<div>\n",
       "<table border=\"1\" class=\"dataframe\">\n",
       "  <thead>\n",
       "    <tr style=\"text-align: right;\">\n",
       "      <th></th>\n",
       "      <th>offense</th>\n",
       "      <th>offense_subcategory</th>\n",
       "      <th>punishment</th>\n",
       "      <th>punishment_subcategory</th>\n",
       "      <th>session</th>\n",
       "      <th>transcript</th>\n",
       "      <th>verdict</th>\n",
       "      <th>verdict_subcategory</th>\n",
       "      <th>year</th>\n",
       "      <th>tokens</th>\n",
       "    </tr>\n",
       "    <tr>\n",
       "      <th>trial_id</th>\n",
       "      <th></th>\n",
       "      <th></th>\n",
       "      <th></th>\n",
       "      <th></th>\n",
       "      <th></th>\n",
       "      <th></th>\n",
       "      <th></th>\n",
       "      <th></th>\n",
       "      <th></th>\n",
       "      <th></th>\n",
       "    </tr>\n",
       "  </thead>\n",
       "  <tbody>\n",
       "    <tr>\n",
       "      <th>t18170115-1</th>\n",
       "      <td>miscellaneous</td>\n",
       "      <td>returnFromTransportation</td>\n",
       "      <td>death</td>\n",
       "      <td>none</td>\n",
       "      <td>18170115</td>\n",
       "      <td>PETER JOHNSON was indicted for being at large,...</td>\n",
       "      <td>guilty</td>\n",
       "      <td>pleadedGuilty</td>\n",
       "      <td>1822</td>\n",
       "      <td>[peter, johnson, was, indicted, for, being, at...</td>\n",
       "    </tr>\n",
       "    <tr>\n",
       "      <th>t18170115-2</th>\n",
       "      <td>theft</td>\n",
       "      <td>burglary</td>\n",
       "      <td>transport</td>\n",
       "      <td>none</td>\n",
       "      <td>18170115</td>\n",
       "      <td>BENJAMIN HEARNE was indicted for burglariously...</td>\n",
       "      <td>guilty</td>\n",
       "      <td>lesserOffence</td>\n",
       "      <td>1822</td>\n",
       "      <td>[benjamin, hearne, was, indicted, for, burglar...</td>\n",
       "    </tr>\n",
       "    <tr>\n",
       "      <th>t18170115-3</th>\n",
       "      <td>theft</td>\n",
       "      <td>housebreaking</td>\n",
       "      <td>uncategorized</td>\n",
       "      <td>none</td>\n",
       "      <td>18170115</td>\n",
       "      <td>JOHN DAVIS and JAMES LEMON , were indicted for...</td>\n",
       "      <td>specialVerdict</td>\n",
       "      <td>none</td>\n",
       "      <td>1822</td>\n",
       "      <td>[john, davis, and, james, lemon, were, indicte...</td>\n",
       "    </tr>\n",
       "    <tr>\n",
       "      <th>t18170115-4</th>\n",
       "      <td>theft</td>\n",
       "      <td>pocketpicking</td>\n",
       "      <td>uncategorized</td>\n",
       "      <td>none</td>\n",
       "      <td>18170115</td>\n",
       "      <td>RICHARD WILTSHIRE and SUSAN PAR-SONS , were in...</td>\n",
       "      <td>notGuilty</td>\n",
       "      <td>none</td>\n",
       "      <td>1822</td>\n",
       "      <td>[richard, wiltshire, and, susan, par, sons, we...</td>\n",
       "    </tr>\n",
       "    <tr>\n",
       "      <th>t18170115-5</th>\n",
       "      <td>theft</td>\n",
       "      <td>burglary</td>\n",
       "      <td>death</td>\n",
       "      <td>none</td>\n",
       "      <td>18170115</td>\n",
       "      <td>MARY JOHNSTON was indicted for burglariously b...</td>\n",
       "      <td>guilty</td>\n",
       "      <td>withRecommendation</td>\n",
       "      <td>1822</td>\n",
       "      <td>[mary, johnston, was, indicted, for, burglario...</td>\n",
       "    </tr>\n",
       "  </tbody>\n",
       "</table>\n",
       "</div>"
      ],
      "text/plain": [
       "                   offense       offense_subcategory     punishment  \\\n",
       "trial_id                                                              \n",
       "t18170115-1  miscellaneous  returnFromTransportation          death   \n",
       "t18170115-2          theft                  burglary      transport   \n",
       "t18170115-3          theft             housebreaking  uncategorized   \n",
       "t18170115-4          theft             pocketpicking  uncategorized   \n",
       "t18170115-5          theft                  burglary          death   \n",
       "\n",
       "            punishment_subcategory   session  \\\n",
       "trial_id                                       \n",
       "t18170115-1                   none  18170115   \n",
       "t18170115-2                   none  18170115   \n",
       "t18170115-3                   none  18170115   \n",
       "t18170115-4                   none  18170115   \n",
       "t18170115-5                   none  18170115   \n",
       "\n",
       "                                                    transcript  \\\n",
       "trial_id                                                         \n",
       "t18170115-1  PETER JOHNSON was indicted for being at large,...   \n",
       "t18170115-2  BENJAMIN HEARNE was indicted for burglariously...   \n",
       "t18170115-3  JOHN DAVIS and JAMES LEMON , were indicted for...   \n",
       "t18170115-4  RICHARD WILTSHIRE and SUSAN PAR-SONS , were in...   \n",
       "t18170115-5  MARY JOHNSTON was indicted for burglariously b...   \n",
       "\n",
       "                    verdict verdict_subcategory  year  \\\n",
       "trial_id                                                \n",
       "t18170115-1          guilty       pleadedGuilty  1822   \n",
       "t18170115-2          guilty       lesserOffence  1822   \n",
       "t18170115-3  specialVerdict                none  1822   \n",
       "t18170115-4       notGuilty                none  1822   \n",
       "t18170115-5          guilty  withRecommendation  1822   \n",
       "\n",
       "                                                        tokens  \n",
       "trial_id                                                        \n",
       "t18170115-1  [peter, johnson, was, indicted, for, being, at...  \n",
       "t18170115-2  [benjamin, hearne, was, indicted, for, burglar...  \n",
       "t18170115-3  [john, davis, and, james, lemon, were, indicte...  \n",
       "t18170115-4  [richard, wiltshire, and, susan, par, sons, we...  \n",
       "t18170115-5  [mary, johnston, was, indicted, for, burglario...  "
      ]
     },
     "execution_count": 9,
     "metadata": {},
     "output_type": "execute_result"
    }
   ],
   "source": [
    "#SOLUTION\n",
    "lower_cased = old_bailey['transcript'].str.lower()\n",
    "punct_re = r'[^\\w\\s]'\n",
    "lower_no_punc = lower_cased.str.replace(punct_re, ' ')\n",
    "tokens = lower_no_punc.str.split()\n",
    "old_bailey['tokens'] = tokens\n",
    "old_bailey.head()"
   ]
  },
  {
   "cell_type": "markdown",
   "metadata": {},
   "source": [
    "----\n",
    "\n",
    "## Section 2: General Sentiment Analysis<a id='section 2'></a>\n",
    "\n",
    "One way to measure the tone of a text is to look at the text **polarity**: a measure of how positive or negative it is perceived to be. For example, a sentence like \"I love Berkeley!\" would be considered positive, while a sentence like \"Stanfurd is terrible!\" would be negative. And, because polarity is represented as a scale, some words have stronger positive or negative sentiment than others- \"I like data science\" is positive, but not as positive as \"I love data science.\"\n",
    "\n",
    "We will use the [VADER (Valence Aware Dictionary and sEntiment Reasoner)](https://github.com/cjhutto/vaderSentiment) lexicon to analyze the sentiment of Old Bailey. VADER is a lexicon and rule-based sentiment analysis tool that is specifically attuned to sentiments expressed in social media which may or may not be great for our usage.\n",
    "\n",
    "The VADER lexicon gives the sentiment of individual words. Run the following cell to show the first few rows of the lexicon. "
   ]
  },
  {
   "cell_type": "code",
   "execution_count": 33,
   "metadata": {},
   "outputs": [
    {
     "name": "stdout",
     "output_type": "stream",
     "text": [
      "$:\t-1.5\t0.80623\t[-1, -1, -1, -1, -3, -1, -3, -1, -2, -1]\n",
      "%)\t-0.4\t1.0198\t[-1, 0, -1, 0, 0, -2, -1, 2, -1, 0]\n",
      "%-)\t-1.5\t1.43178\t[-2, 0, -2, -2, -1, 2, -2, -3, -2, -3]\n",
      "&-:\t-0.4\t1.42829\t[-3, -1, 0, 0, -1, -1, -1, 2, -1, 2]\n",
      "&:\t-0.7\t0.64031\t[0, -1, -1, -1, 1, -1, -1, -1, -1, -1]\n",
      "( '}{' )\t1.6\t0.66332\t[1, 2, 2, 1, 1, 2, 2, 1, 3, 1]\n",
      "(%\t-0.9\t0.9434\t[0, 0, 1, -1, -1, -1, -2, -2, -1, -2]\n",
      "('-:\t2.2\t1.16619\t[4, 1, 4, 3, 1, 2, 3, 1, 2, 1]\n",
      "(':\t2.3\t0.9\t[1, 3, 3, 2, 2, 4, 2, 3, 1, 2]\n",
      "((-:\t2.1\t0.53852\t[2, 2, 2, 1, 2, 3, 2, 2, 3, 2]\n",
      "\n"
     ]
    }
   ],
   "source": [
    "print(''.join(open(\"data/vader_lexicon.txt\").readlines()[:10]))"
   ]
  },
  {
   "cell_type": "markdown",
   "metadata": {},
   "source": [
    "As you can see, the lexicon contains emojis too (probably not common in early-19th century court transcripts)! The first column of the lexicon is the *token*, or the word itself. The second column is the *polarity* of the word, or how positive / negative it is.\n",
    "\n",
    "Before we get started, it's important to consider how the lexicon was created. From the documentation:\n",
    "\n",
    ">Sentiment ratings [were] from 10 independent human raters (all pre-screened, trained, and quality checked for optimal inter-rater reliability). Over 9,000 token features were rated on a scale from \"[–4] Extremely Negative\" to \"[4] Extremely Positive\", with allowance for \"[0] Neutral (or Neither, N/A)\".\n",
    "\n",
    "To analyze sentiment, create an analyzer using `SentimentIntensityAnalyzer()`"
   ]
  },
  {
   "cell_type": "code",
   "execution_count": 30,
   "metadata": {},
   "outputs": [
    {
     "data": {
      "text/plain": [
       "{'compound': 0.9195, 'neg': 0.0, 'neu': 0.235, 'pos': 0.765}"
      ]
     },
     "execution_count": 30,
     "metadata": {},
     "output_type": "execute_result"
    }
   ],
   "source": [
    "# creates a sentiment analyzer\n",
    "analyzer = SentimentIntensityAnalyzer()"
   ]
  },
  {
   "cell_type": "markdown",
   "metadata": {},
   "source": [
    "The analyzer's method `.polarity_scores` returns polarity for a given sentence."
   ]
  },
  {
   "cell_type": "code",
   "execution_count": 37,
   "metadata": {},
   "outputs": [
    {
     "data": {
      "text/plain": [
       "{'compound': 0.9195, 'neg': 0.0, 'neu': 0.235, 'pos': 0.765}"
      ]
     },
     "execution_count": 37,
     "metadata": {},
     "output_type": "execute_result"
    }
   ],
   "source": [
    "# get the polarity\n",
    "example_scores = analyzer.polarity_scores(\"This is a super exciting, totally awesome test sentence.\")\n",
    "example_scores"
   ]
  },
  {
   "cell_type": "markdown",
   "metadata": {},
   "source": [
    "The VADER docs explain the scoring best:\n",
    "   >*The compound score is computed by summing the valence scores of each word in the lexicon, adjusted according to the rules, and then normalized to be between -1 (most extreme negative) and +1 (most extreme positive)...It is also useful for researchers who would like to set standardized thresholds for classifying sentences as either positive, neutral, or negative. Typical threshold values (used in the literature cited on this page) are:*\n",
    "\n",
    "        positive sentiment: compound score >= 0.05\n",
    "        neutral sentiment: (compound score > -0.05) and (compound score < 0.05)\n",
    "        negative sentiment: compound score <= -0.05\n",
    "\n",
    ">    *The pos, neu, and neg scores are ratios for proportions of text that fall in each category (so these should all add up to be 1... or close to it with float operation). These are the most useful metrics if you want multidimensional measures of sentiment for a given sentence.*\n",
    "\n",
    "We're most interested in the compound score. Since `polarity_scores` returns a dictionary, we can get the compound score like so:"
   ]
  },
  {
   "cell_type": "code",
   "execution_count": 38,
   "metadata": {},
   "outputs": [
    {
     "data": {
      "text/plain": [
       "0.9195"
      ]
     },
     "execution_count": 38,
     "metadata": {},
     "output_type": "execute_result"
    }
   ],
   "source": [
    "# extract the compound score\n",
    "example_scores['compound']"
   ]
  },
  {
   "cell_type": "markdown",
   "metadata": {},
   "source": [
    "Back to our transcripts. First, since the analyzer operates on sentences we'll need to tokenize our texts into sentences.\n",
    "\n",
    "**Question:** Create a column in `old_bailey` called `sent_tokens` that contains a list of the sentences in each transcript. \n",
    "\n",
    "Hint: `.apply` can be used on a column to apply a function to every value in the column, and `sent_tokenize` splits a string into a list of individual sentences."
   ]
  },
  {
   "cell_type": "code",
   "execution_count": 35,
   "metadata": {},
   "outputs": [],
   "source": [
    "from nltk.tokenize import sent_tokenize\n",
    "old_bailey['sent_tokens'] = old_bailey['transcript'].apply(sent_tokenize)"
   ]
  },
  {
   "cell_type": "markdown",
   "metadata": {},
   "source": [
    "Next, we want to get the average polarity for each transcript. This takes \n",
    "\n",
    "1. "
   ]
  },
  {
   "cell_type": "code",
   "execution_count": 39,
   "metadata": {},
   "outputs": [],
   "source": [
    "# empty list where we'll collect the average polarity of each transcript\n",
    "avg_transcript_polarity = []\n",
    "\n",
    "# iterate through the transcripts\n",
    "for transcript in old_bailey['sent_tokens']:\n",
    "    # a list of the compound polarity scores of this transcript's sentences\n",
    "    compound_scores = []\n",
    "    # the number of sentences in this transcript\n",
    "    num_sentences = len(sent_list)\n",
    "    #iterate through the sentences in this transcript\n",
    "    for sentence in transcript:\n",
    "        # get the polarity scores of the sentence\n",
    "        scores = analyzer.polarity_scores(sentence)\n",
    "        # get the compound score of the sentence\n",
    "        compound = scores['compound']\n",
    "        # add the compound score to the list of scores\n",
    "        compound_scores.append(compound)\n",
    "    # get the average of the compound scores\n",
    "    avg_compound = compound_sum / num_sentences\n",
    "    # add the average to the list of averages\n",
    "    avg_transcript_polarity.append(avg_compound)"
   ]
  },
  {
   "cell_type": "code",
   "execution_count": 41,
   "metadata": {},
   "outputs": [
    {
     "data": {
      "text/html": [
       "<div>\n",
       "<table border=\"1\" class=\"dataframe\">\n",
       "  <thead>\n",
       "    <tr style=\"text-align: right;\">\n",
       "      <th></th>\n",
       "      <th>offense</th>\n",
       "      <th>offense_subcategory</th>\n",
       "      <th>punishment</th>\n",
       "      <th>punishment_subcategory</th>\n",
       "      <th>session</th>\n",
       "      <th>transcript</th>\n",
       "      <th>verdict</th>\n",
       "      <th>verdict_subcategory</th>\n",
       "      <th>year</th>\n",
       "      <th>tokens</th>\n",
       "      <th>authority/subversion</th>\n",
       "      <th>care/harm</th>\n",
       "      <th>fairness/cheating</th>\n",
       "      <th>loyalty/betrayal</th>\n",
       "      <th>sanctity/degradation</th>\n",
       "      <th>total_words</th>\n",
       "      <th>sent_tokens</th>\n",
       "      <th>avg_polarity</th>\n",
       "      <th>avg_compound_polarity</th>\n",
       "    </tr>\n",
       "    <tr>\n",
       "      <th>trial_id</th>\n",
       "      <th></th>\n",
       "      <th></th>\n",
       "      <th></th>\n",
       "      <th></th>\n",
       "      <th></th>\n",
       "      <th></th>\n",
       "      <th></th>\n",
       "      <th></th>\n",
       "      <th></th>\n",
       "      <th></th>\n",
       "      <th></th>\n",
       "      <th></th>\n",
       "      <th></th>\n",
       "      <th></th>\n",
       "      <th></th>\n",
       "      <th></th>\n",
       "      <th></th>\n",
       "      <th></th>\n",
       "      <th></th>\n",
       "    </tr>\n",
       "  </thead>\n",
       "  <tbody>\n",
       "    <tr>\n",
       "      <th>t18170115-1</th>\n",
       "      <td>miscellaneous</td>\n",
       "      <td>returnFromTransportation</td>\n",
       "      <td>death</td>\n",
       "      <td>none</td>\n",
       "      <td>18170115</td>\n",
       "      <td>PETER JOHNSON was indicted for being at large,...</td>\n",
       "      <td>guilty</td>\n",
       "      <td>pleadedGuilty</td>\n",
       "      <td>1822</td>\n",
       "      <td>[peter, johnson, was, indicted, for, being, at...</td>\n",
       "      <td>2.222222</td>\n",
       "      <td>0.000000</td>\n",
       "      <td>0.000000</td>\n",
       "      <td>0.0</td>\n",
       "      <td>0.0</td>\n",
       "      <td>45</td>\n",
       "      <td>[PETER JOHNSON was indicted for being at large...</td>\n",
       "      <td>-0.304333</td>\n",
       "      <td>-0.304333</td>\n",
       "    </tr>\n",
       "    <tr>\n",
       "      <th>t18170115-2</th>\n",
       "      <td>theft</td>\n",
       "      <td>burglary</td>\n",
       "      <td>transport</td>\n",
       "      <td>none</td>\n",
       "      <td>18170115</td>\n",
       "      <td>BENJAMIN HEARNE was indicted for burglariously...</td>\n",
       "      <td>guilty</td>\n",
       "      <td>lesserOffence</td>\n",
       "      <td>1822</td>\n",
       "      <td>[benjamin, hearne, was, indicted, for, burglar...</td>\n",
       "      <td>0.000000</td>\n",
       "      <td>0.523560</td>\n",
       "      <td>0.261780</td>\n",
       "      <td>0.0</td>\n",
       "      <td>0.0</td>\n",
       "      <td>382</td>\n",
       "      <td>[BENJAMIN HEARNE was indicted for burglariousl...</td>\n",
       "      <td>0.017689</td>\n",
       "      <td>0.017689</td>\n",
       "    </tr>\n",
       "    <tr>\n",
       "      <th>t18170115-3</th>\n",
       "      <td>theft</td>\n",
       "      <td>housebreaking</td>\n",
       "      <td>uncategorized</td>\n",
       "      <td>none</td>\n",
       "      <td>18170115</td>\n",
       "      <td>JOHN DAVIS and JAMES LEMON , were indicted for...</td>\n",
       "      <td>specialVerdict</td>\n",
       "      <td>none</td>\n",
       "      <td>1822</td>\n",
       "      <td>[john, davis, and, james, lemon, were, indicte...</td>\n",
       "      <td>0.101937</td>\n",
       "      <td>0.203874</td>\n",
       "      <td>0.101937</td>\n",
       "      <td>0.0</td>\n",
       "      <td>0.0</td>\n",
       "      <td>981</td>\n",
       "      <td>[JOHN DAVIS and JAMES LEMON , were indicted fo...</td>\n",
       "      <td>-0.162076</td>\n",
       "      <td>-0.162076</td>\n",
       "    </tr>\n",
       "    <tr>\n",
       "      <th>t18170115-4</th>\n",
       "      <td>theft</td>\n",
       "      <td>pocketpicking</td>\n",
       "      <td>uncategorized</td>\n",
       "      <td>none</td>\n",
       "      <td>18170115</td>\n",
       "      <td>RICHARD WILTSHIRE and SUSAN PAR-SONS , were in...</td>\n",
       "      <td>notGuilty</td>\n",
       "      <td>none</td>\n",
       "      <td>1822</td>\n",
       "      <td>[richard, wiltshire, and, susan, par, sons, we...</td>\n",
       "      <td>0.000000</td>\n",
       "      <td>0.537634</td>\n",
       "      <td>0.268817</td>\n",
       "      <td>0.0</td>\n",
       "      <td>0.0</td>\n",
       "      <td>372</td>\n",
       "      <td>[RICHARD WILTSHIRE and SUSAN PAR-SONS , were i...</td>\n",
       "      <td>-0.068257</td>\n",
       "      <td>-0.068257</td>\n",
       "    </tr>\n",
       "    <tr>\n",
       "      <th>t18170115-5</th>\n",
       "      <td>theft</td>\n",
       "      <td>burglary</td>\n",
       "      <td>death</td>\n",
       "      <td>none</td>\n",
       "      <td>18170115</td>\n",
       "      <td>MARY JOHNSTON was indicted for burglariously b...</td>\n",
       "      <td>guilty</td>\n",
       "      <td>withRecommendation</td>\n",
       "      <td>1822</td>\n",
       "      <td>[mary, johnston, was, indicted, for, burglario...</td>\n",
       "      <td>0.103842</td>\n",
       "      <td>0.000000</td>\n",
       "      <td>0.103842</td>\n",
       "      <td>0.0</td>\n",
       "      <td>0.0</td>\n",
       "      <td>963</td>\n",
       "      <td>[MARY JOHNSTON was indicted for burglariously ...</td>\n",
       "      <td>-0.167620</td>\n",
       "      <td>-0.167620</td>\n",
       "    </tr>\n",
       "  </tbody>\n",
       "</table>\n",
       "</div>"
      ],
      "text/plain": [
       "                   offense       offense_subcategory     punishment  \\\n",
       "trial_id                                                              \n",
       "t18170115-1  miscellaneous  returnFromTransportation          death   \n",
       "t18170115-2          theft                  burglary      transport   \n",
       "t18170115-3          theft             housebreaking  uncategorized   \n",
       "t18170115-4          theft             pocketpicking  uncategorized   \n",
       "t18170115-5          theft                  burglary          death   \n",
       "\n",
       "            punishment_subcategory   session  \\\n",
       "trial_id                                       \n",
       "t18170115-1                   none  18170115   \n",
       "t18170115-2                   none  18170115   \n",
       "t18170115-3                   none  18170115   \n",
       "t18170115-4                   none  18170115   \n",
       "t18170115-5                   none  18170115   \n",
       "\n",
       "                                                    transcript  \\\n",
       "trial_id                                                         \n",
       "t18170115-1  PETER JOHNSON was indicted for being at large,...   \n",
       "t18170115-2  BENJAMIN HEARNE was indicted for burglariously...   \n",
       "t18170115-3  JOHN DAVIS and JAMES LEMON , were indicted for...   \n",
       "t18170115-4  RICHARD WILTSHIRE and SUSAN PAR-SONS , were in...   \n",
       "t18170115-5  MARY JOHNSTON was indicted for burglariously b...   \n",
       "\n",
       "                    verdict verdict_subcategory  year  \\\n",
       "trial_id                                                \n",
       "t18170115-1          guilty       pleadedGuilty  1822   \n",
       "t18170115-2          guilty       lesserOffence  1822   \n",
       "t18170115-3  specialVerdict                none  1822   \n",
       "t18170115-4       notGuilty                none  1822   \n",
       "t18170115-5          guilty  withRecommendation  1822   \n",
       "\n",
       "                                                        tokens  \\\n",
       "trial_id                                                         \n",
       "t18170115-1  [peter, johnson, was, indicted, for, being, at...   \n",
       "t18170115-2  [benjamin, hearne, was, indicted, for, burglar...   \n",
       "t18170115-3  [john, davis, and, james, lemon, were, indicte...   \n",
       "t18170115-4  [richard, wiltshire, and, susan, par, sons, we...   \n",
       "t18170115-5  [mary, johnston, was, indicted, for, burglario...   \n",
       "\n",
       "             authority/subversion  care/harm  fairness/cheating  \\\n",
       "trial_id                                                          \n",
       "t18170115-1              2.222222   0.000000           0.000000   \n",
       "t18170115-2              0.000000   0.523560           0.261780   \n",
       "t18170115-3              0.101937   0.203874           0.101937   \n",
       "t18170115-4              0.000000   0.537634           0.268817   \n",
       "t18170115-5              0.103842   0.000000           0.103842   \n",
       "\n",
       "             loyalty/betrayal  sanctity/degradation  total_words  \\\n",
       "trial_id                                                           \n",
       "t18170115-1               0.0                   0.0           45   \n",
       "t18170115-2               0.0                   0.0          382   \n",
       "t18170115-3               0.0                   0.0          981   \n",
       "t18170115-4               0.0                   0.0          372   \n",
       "t18170115-5               0.0                   0.0          963   \n",
       "\n",
       "                                                   sent_tokens  avg_polarity  \\\n",
       "trial_id                                                                       \n",
       "t18170115-1  [PETER JOHNSON was indicted for being at large...     -0.304333   \n",
       "t18170115-2  [BENJAMIN HEARNE was indicted for burglariousl...      0.017689   \n",
       "t18170115-3  [JOHN DAVIS and JAMES LEMON , were indicted fo...     -0.162076   \n",
       "t18170115-4  [RICHARD WILTSHIRE and SUSAN PAR-SONS , were i...     -0.068257   \n",
       "t18170115-5  [MARY JOHNSTON was indicted for burglariously ...     -0.167620   \n",
       "\n",
       "             avg_compound_polarity  \n",
       "trial_id                            \n",
       "t18170115-1              -0.304333  \n",
       "t18170115-2               0.017689  \n",
       "t18170115-3              -0.162076  \n",
       "t18170115-4              -0.068257  \n",
       "t18170115-5              -0.167620  "
      ]
     },
     "execution_count": 41,
     "metadata": {},
     "output_type": "execute_result"
    }
   ],
   "source": [
    "old_bailey['avg_compound_polarity'] = avg_transcript_polarity\n",
    "old_bailey.head()"
   ]
  },
  {
   "cell_type": "markdown",
   "metadata": {},
   "source": [
    "**QUESTION:** \n",
    "- What was the most negative transcript?\n",
    "- What was the most positive transcript?\n"
   ]
  },
  {
   "cell_type": "code",
   "execution_count": 52,
   "metadata": {},
   "outputs": [
    {
     "name": "stdout",
     "output_type": "stream",
     "text": [
      "GEORGE ROWE was indicted for burglariously breaking and entering the dwelling-house of William James Paul , and burglariously stealing therein six fowls, value 12s., his property .The prosecutor not appearing, the prisoner was ACQUITTED .Second Middlesex Jury, before Mr. Baron Graham .\n",
      "\n",
      "\n",
      "MONTAGUE LEWIS was indicted for stealing, on the 19th of November, ten pair of stockings, value 15s., the goods of Samuel Everington , privately in his shop .The witnesses not appearing, the prisoner was ACQUITTED .Second Middlesex Jury, before Mr. Barron Garrow.\n",
      "\n",
      "\n",
      "JOHN JETTER was indicted for stealing, on the 6th of November, one handkerchief, value 5s., the goods of James Wait , from his person .The prosecutor not appearing, the prisoner was ACQUITTED .Second Middlesex Jury, before Mr. Baron Garrow.\n",
      "\n",
      "\n"
     ]
    }
   ],
   "source": [
    "# find the transcript with the highest average compound polarity\n",
    "most_pos = old_bailey[old_bailey['avg_compound_polarity'] == old_bailey['avg_compound_polarity'].max()]\n",
    "\n",
    "for t in most_pos['transcript']:\n",
    "    print(t)\n",
    "    print('\\n')"
   ]
  },
  {
   "cell_type": "code",
   "execution_count": null,
   "metadata": {},
   "outputs": [],
   "source": [
    "print('Most negative statement 1840:')\n",
    "for t in after_1827.sort_values('polarity').head()['transcript']:\n",
    "    print('\\n  ', t)"
   ]
  },
  {
   "cell_type": "markdown",
   "metadata": {},
   "source": [
    "**Question 2.4:** Let's take a look at violin plots of these two datasets to better compare how the sentiment is between the two dates, before and after 1827."
   ]
  },
  {
   "cell_type": "code",
   "execution_count": 56,
   "metadata": {},
   "outputs": [
    {
     "data": {
      "image/png": "[encoded data removed]",
      "text/plain": [
       "<matplotlib.figure.Figure at 0x7f8badae2198>"
      ]
     },
     "metadata": {},
     "output_type": "display_data"
    }
   ],
   "source": [
    "#SOLUTION\n",
    "old_bailey_violin = sns.violinplot(x=\"year\", y=\"avg_compound_polarity\", data=old_bailey)"
   ]
  },
  {
   "cell_type": "markdown",
   "metadata": {},
   "source": [
    "What does this plot show us?\n",
    "\n",
    "What are some pros and cons to this approach?"
   ]
  },
  {
   "cell_type": "markdown",
   "metadata": {},
   "source": [
    "*Write your answer here.*"
   ]
  },
  {
   "cell_type": "markdown",
   "metadata": {},
   "source": [
    "----\n",
    "## Section 3: Moral Foundations Theory<a id='section 3'></a>\n",
    "\n",
    "Something to consider when looking at sentiment, outside of just general polarity like we did in the last section, people can create specialized dictionaries containing specific words of interest to try to analyze sentiment from a particular angle. One organization, the [Moral Foundations Theory](http://moralfoundations.org/), took this approach and we will now use it to see if we can understand Old Bailey's sentiment better. You should be doing something like this for your homework. We will be using a provided moral foundations dictionary."
   ]
  },
  {
   "cell_type": "code",
   "execution_count": 6,
   "metadata": {},
   "outputs": [],
   "source": [
    "with open('data/haidt_dict.json') as json_data:\n",
    "    haidt_dict = json.load(json_data)"
   ]
  },
  {
   "cell_type": "code",
   "execution_count": null,
   "metadata": {},
   "outputs": [],
   "source": [
    "#look at the keys of the dictionary provided\n",
    "keys = haidt_dict.keys()\n",
    "list(keys)"
   ]
  },
  {
   "cell_type": "code",
   "execution_count": null,
   "metadata": {},
   "outputs": [],
   "source": [
    "haidt_dict[list(keys)[0]] #one example of the values provided for the first key"
   ]
  },
  {
   "cell_type": "markdown",
   "metadata": {},
   "source": [
    "**Question 3.1**: Read through the document and write what you think."
   ]
  },
  {
   "cell_type": "markdown",
   "metadata": {},
   "source": [
    "*Write your answer here.*"
   ]
  },
  {
   "cell_type": "markdown",
   "metadata": {},
   "source": [
    "Now that we have our `old_bailey` data and a dictionary, we can start our exploratory analysis.\n",
    "\n",
    "To get a sense of how Moral Foundations words were used in statements, we'll do three things:\n",
    "\n",
    "1) Count the occurances of words from our dictionary in each statement<br>\n",
    "2) Calculate how often words from each category are used by in each year<br>\n",
    "3) Plot the percents on a bar graph<br>\n",
    "\n",
    "Think about what you know about Moral Foundations Theory."
   ]
  },
  {
   "cell_type": "markdown",
   "metadata": {},
   "source": [
    "### Calculating Percentages \n",
    "\n",
    "We're interesting in knowing the percent of words that correspond to a Moral Foundation in speeches- in other words, how often statements contained words related to a specific foundation.\n",
    "\n",
    "(Bonus question: why don't we just use the number of Moral Foundation words instead of the percent as our test statistic?)\n",
    "\n",
    "**Question 3.2:** To calculate the percent, we'll first need the total number of words in each statement."
   ]
  },
  {
   "cell_type": "code",
   "execution_count": 7,
   "metadata": {},
   "outputs": [],
   "source": [
    "stemmer = SnowballStemmer('english')\n",
    "stem_lists = []\n",
    "\n",
    "for token_list in old_bailey['tokens']:\n",
    "    stem_lists.append([stemmer.stem(wd) for wd in token_list])\n",
    "    \n"
   ]
  },
  {
   "cell_type": "code",
   "execution_count": null,
   "metadata": {},
   "outputs": [],
   "source": [
    "old_bailey['stemmed_tokens'] = stem_lists\n",
    "old_bailey.head()"
   ]
  },
  {
   "cell_type": "code",
   "execution_count": null,
   "metadata": {},
   "outputs": [],
   "source": [
    "# create a new column called 'total_words'\n",
    "old_bailey['total_words'] = ...\n",
    "old_bailey.head()"
   ]
  },
  {
   "cell_type": "code",
   "execution_count": 11,
   "metadata": {},
   "outputs": [
    {
     "data": {
      "text/html": [
       "<div>\n",
       "<table border=\"1\" class=\"dataframe\">\n",
       "  <thead>\n",
       "    <tr style=\"text-align: right;\">\n",
       "      <th></th>\n",
       "      <th>offense</th>\n",
       "      <th>offense_subcategory</th>\n",
       "      <th>punishment</th>\n",
       "      <th>punishment_subcategory</th>\n",
       "      <th>session</th>\n",
       "      <th>transcript</th>\n",
       "      <th>verdict</th>\n",
       "      <th>verdict_subcategory</th>\n",
       "      <th>year</th>\n",
       "      <th>tokens</th>\n",
       "      <th>authority/subversion</th>\n",
       "      <th>care/harm</th>\n",
       "      <th>fairness/cheating</th>\n",
       "      <th>loyalty/betrayal</th>\n",
       "      <th>sanctity/degradation</th>\n",
       "      <th>total_words</th>\n",
       "    </tr>\n",
       "    <tr>\n",
       "      <th>trial_id</th>\n",
       "      <th></th>\n",
       "      <th></th>\n",
       "      <th></th>\n",
       "      <th></th>\n",
       "      <th></th>\n",
       "      <th></th>\n",
       "      <th></th>\n",
       "      <th></th>\n",
       "      <th></th>\n",
       "      <th></th>\n",
       "      <th></th>\n",
       "      <th></th>\n",
       "      <th></th>\n",
       "      <th></th>\n",
       "      <th></th>\n",
       "      <th></th>\n",
       "    </tr>\n",
       "  </thead>\n",
       "  <tbody>\n",
       "    <tr>\n",
       "      <th>t18170115-1</th>\n",
       "      <td>miscellaneous</td>\n",
       "      <td>returnFromTransportation</td>\n",
       "      <td>death</td>\n",
       "      <td>none</td>\n",
       "      <td>18170115</td>\n",
       "      <td>PETER JOHNSON was indicted for being at large,...</td>\n",
       "      <td>guilty</td>\n",
       "      <td>pleadedGuilty</td>\n",
       "      <td>1822</td>\n",
       "      <td>[peter, johnson, was, indicted, for, being, at...</td>\n",
       "      <td>1.0</td>\n",
       "      <td>0.0</td>\n",
       "      <td>0.0</td>\n",
       "      <td>0.0</td>\n",
       "      <td>0.0</td>\n",
       "      <td>45</td>\n",
       "    </tr>\n",
       "    <tr>\n",
       "      <th>t18170115-2</th>\n",
       "      <td>theft</td>\n",
       "      <td>burglary</td>\n",
       "      <td>transport</td>\n",
       "      <td>none</td>\n",
       "      <td>18170115</td>\n",
       "      <td>BENJAMIN HEARNE was indicted for burglariously...</td>\n",
       "      <td>guilty</td>\n",
       "      <td>lesserOffence</td>\n",
       "      <td>1822</td>\n",
       "      <td>[benjamin, hearne, was, indicted, for, burglar...</td>\n",
       "      <td>0.0</td>\n",
       "      <td>2.0</td>\n",
       "      <td>1.0</td>\n",
       "      <td>0.0</td>\n",
       "      <td>0.0</td>\n",
       "      <td>382</td>\n",
       "    </tr>\n",
       "    <tr>\n",
       "      <th>t18170115-3</th>\n",
       "      <td>theft</td>\n",
       "      <td>housebreaking</td>\n",
       "      <td>uncategorized</td>\n",
       "      <td>none</td>\n",
       "      <td>18170115</td>\n",
       "      <td>JOHN DAVIS and JAMES LEMON , were indicted for...</td>\n",
       "      <td>specialVerdict</td>\n",
       "      <td>none</td>\n",
       "      <td>1822</td>\n",
       "      <td>[john, davis, and, james, lemon, were, indicte...</td>\n",
       "      <td>1.0</td>\n",
       "      <td>2.0</td>\n",
       "      <td>1.0</td>\n",
       "      <td>0.0</td>\n",
       "      <td>0.0</td>\n",
       "      <td>981</td>\n",
       "    </tr>\n",
       "    <tr>\n",
       "      <th>t18170115-4</th>\n",
       "      <td>theft</td>\n",
       "      <td>pocketpicking</td>\n",
       "      <td>uncategorized</td>\n",
       "      <td>none</td>\n",
       "      <td>18170115</td>\n",
       "      <td>RICHARD WILTSHIRE and SUSAN PAR-SONS , were in...</td>\n",
       "      <td>notGuilty</td>\n",
       "      <td>none</td>\n",
       "      <td>1822</td>\n",
       "      <td>[richard, wiltshire, and, susan, par, sons, we...</td>\n",
       "      <td>0.0</td>\n",
       "      <td>2.0</td>\n",
       "      <td>1.0</td>\n",
       "      <td>0.0</td>\n",
       "      <td>0.0</td>\n",
       "      <td>372</td>\n",
       "    </tr>\n",
       "    <tr>\n",
       "      <th>t18170115-5</th>\n",
       "      <td>theft</td>\n",
       "      <td>burglary</td>\n",
       "      <td>death</td>\n",
       "      <td>none</td>\n",
       "      <td>18170115</td>\n",
       "      <td>MARY JOHNSTON was indicted for burglariously b...</td>\n",
       "      <td>guilty</td>\n",
       "      <td>withRecommendation</td>\n",
       "      <td>1822</td>\n",
       "      <td>[mary, johnston, was, indicted, for, burglario...</td>\n",
       "      <td>1.0</td>\n",
       "      <td>0.0</td>\n",
       "      <td>1.0</td>\n",
       "      <td>0.0</td>\n",
       "      <td>0.0</td>\n",
       "      <td>963</td>\n",
       "    </tr>\n",
       "  </tbody>\n",
       "</table>\n",
       "</div>"
      ],
      "text/plain": [
       "                   offense       offense_subcategory     punishment  \\\n",
       "trial_id                                                              \n",
       "t18170115-1  miscellaneous  returnFromTransportation          death   \n",
       "t18170115-2          theft                  burglary      transport   \n",
       "t18170115-3          theft             housebreaking  uncategorized   \n",
       "t18170115-4          theft             pocketpicking  uncategorized   \n",
       "t18170115-5          theft                  burglary          death   \n",
       "\n",
       "            punishment_subcategory   session  \\\n",
       "trial_id                                       \n",
       "t18170115-1                   none  18170115   \n",
       "t18170115-2                   none  18170115   \n",
       "t18170115-3                   none  18170115   \n",
       "t18170115-4                   none  18170115   \n",
       "t18170115-5                   none  18170115   \n",
       "\n",
       "                                                    transcript  \\\n",
       "trial_id                                                         \n",
       "t18170115-1  PETER JOHNSON was indicted for being at large,...   \n",
       "t18170115-2  BENJAMIN HEARNE was indicted for burglariously...   \n",
       "t18170115-3  JOHN DAVIS and JAMES LEMON , were indicted for...   \n",
       "t18170115-4  RICHARD WILTSHIRE and SUSAN PAR-SONS , were in...   \n",
       "t18170115-5  MARY JOHNSTON was indicted for burglariously b...   \n",
       "\n",
       "                    verdict verdict_subcategory  year  \\\n",
       "trial_id                                                \n",
       "t18170115-1          guilty       pleadedGuilty  1822   \n",
       "t18170115-2          guilty       lesserOffence  1822   \n",
       "t18170115-3  specialVerdict                none  1822   \n",
       "t18170115-4       notGuilty                none  1822   \n",
       "t18170115-5          guilty  withRecommendation  1822   \n",
       "\n",
       "                                                        tokens  \\\n",
       "trial_id                                                         \n",
       "t18170115-1  [peter, johnson, was, indicted, for, being, at...   \n",
       "t18170115-2  [benjamin, hearne, was, indicted, for, burglar...   \n",
       "t18170115-3  [john, davis, and, james, lemon, were, indicte...   \n",
       "t18170115-4  [richard, wiltshire, and, susan, par, sons, we...   \n",
       "t18170115-5  [mary, johnston, was, indicted, for, burglario...   \n",
       "\n",
       "             authority/subversion  care/harm  fairness/cheating  \\\n",
       "trial_id                                                          \n",
       "t18170115-1                   1.0        0.0                0.0   \n",
       "t18170115-2                   0.0        2.0                1.0   \n",
       "t18170115-3                   1.0        2.0                1.0   \n",
       "t18170115-4                   0.0        2.0                1.0   \n",
       "t18170115-5                   1.0        0.0                1.0   \n",
       "\n",
       "             loyalty/betrayal  sanctity/degradation  total_words  \n",
       "trial_id                                                          \n",
       "t18170115-1               0.0                   0.0           45  \n",
       "t18170115-2               0.0                   0.0          382  \n",
       "t18170115-3               0.0                   0.0          981  \n",
       "t18170115-4               0.0                   0.0          372  \n",
       "t18170115-5               0.0                   0.0          963  "
      ]
     },
     "execution_count": 11,
     "metadata": {},
     "output_type": "execute_result"
    }
   ],
   "source": [
    "# SOLUTION\n",
    "old_bailey['total_words'] = [len(statement) for statement in old_bailey['tokens']]\n",
    "old_bailey.head()"
   ]
  },
  {
   "cell_type": "markdown",
   "metadata": {},
   "source": [
    "Next, we need to calculate the number of matches to entries in our dictionary for each foundation for each speech.\n",
    "\n",
    "Run the next cell to add six new columns to `old_bailey`, one per foundation, that show the number of word matches."
   ]
  },
  {
   "cell_type": "code",
   "execution_count": 10,
   "metadata": {},
   "outputs": [
    {
     "data": {
      "text/html": [
       "<div>\n",
       "<table border=\"1\" class=\"dataframe\">\n",
       "  <thead>\n",
       "    <tr style=\"text-align: right;\">\n",
       "      <th></th>\n",
       "      <th>offense</th>\n",
       "      <th>offense_subcategory</th>\n",
       "      <th>punishment</th>\n",
       "      <th>punishment_subcategory</th>\n",
       "      <th>session</th>\n",
       "      <th>transcript</th>\n",
       "      <th>verdict</th>\n",
       "      <th>verdict_subcategory</th>\n",
       "      <th>year</th>\n",
       "      <th>tokens</th>\n",
       "      <th>authority/subversion</th>\n",
       "      <th>care/harm</th>\n",
       "      <th>fairness/cheating</th>\n",
       "      <th>loyalty/betrayal</th>\n",
       "      <th>sanctity/degradation</th>\n",
       "    </tr>\n",
       "    <tr>\n",
       "      <th>trial_id</th>\n",
       "      <th></th>\n",
       "      <th></th>\n",
       "      <th></th>\n",
       "      <th></th>\n",
       "      <th></th>\n",
       "      <th></th>\n",
       "      <th></th>\n",
       "      <th></th>\n",
       "      <th></th>\n",
       "      <th></th>\n",
       "      <th></th>\n",
       "      <th></th>\n",
       "      <th></th>\n",
       "      <th></th>\n",
       "      <th></th>\n",
       "    </tr>\n",
       "  </thead>\n",
       "  <tbody>\n",
       "    <tr>\n",
       "      <th>t18170115-1</th>\n",
       "      <td>miscellaneous</td>\n",
       "      <td>returnFromTransportation</td>\n",
       "      <td>death</td>\n",
       "      <td>none</td>\n",
       "      <td>18170115</td>\n",
       "      <td>PETER JOHNSON was indicted for being at large,...</td>\n",
       "      <td>guilty</td>\n",
       "      <td>pleadedGuilty</td>\n",
       "      <td>1822</td>\n",
       "      <td>[peter, johnson, was, indicted, for, being, at...</td>\n",
       "      <td>1.0</td>\n",
       "      <td>0.0</td>\n",
       "      <td>0.0</td>\n",
       "      <td>0.0</td>\n",
       "      <td>0.0</td>\n",
       "    </tr>\n",
       "    <tr>\n",
       "      <th>t18170115-2</th>\n",
       "      <td>theft</td>\n",
       "      <td>burglary</td>\n",
       "      <td>transport</td>\n",
       "      <td>none</td>\n",
       "      <td>18170115</td>\n",
       "      <td>BENJAMIN HEARNE was indicted for burglariously...</td>\n",
       "      <td>guilty</td>\n",
       "      <td>lesserOffence</td>\n",
       "      <td>1822</td>\n",
       "      <td>[benjamin, hearne, was, indicted, for, burglar...</td>\n",
       "      <td>0.0</td>\n",
       "      <td>2.0</td>\n",
       "      <td>1.0</td>\n",
       "      <td>0.0</td>\n",
       "      <td>0.0</td>\n",
       "    </tr>\n",
       "    <tr>\n",
       "      <th>t18170115-3</th>\n",
       "      <td>theft</td>\n",
       "      <td>housebreaking</td>\n",
       "      <td>uncategorized</td>\n",
       "      <td>none</td>\n",
       "      <td>18170115</td>\n",
       "      <td>JOHN DAVIS and JAMES LEMON , were indicted for...</td>\n",
       "      <td>specialVerdict</td>\n",
       "      <td>none</td>\n",
       "      <td>1822</td>\n",
       "      <td>[john, davis, and, james, lemon, were, indicte...</td>\n",
       "      <td>1.0</td>\n",
       "      <td>2.0</td>\n",
       "      <td>1.0</td>\n",
       "      <td>0.0</td>\n",
       "      <td>0.0</td>\n",
       "    </tr>\n",
       "    <tr>\n",
       "      <th>t18170115-4</th>\n",
       "      <td>theft</td>\n",
       "      <td>pocketpicking</td>\n",
       "      <td>uncategorized</td>\n",
       "      <td>none</td>\n",
       "      <td>18170115</td>\n",
       "      <td>RICHARD WILTSHIRE and SUSAN PAR-SONS , were in...</td>\n",
       "      <td>notGuilty</td>\n",
       "      <td>none</td>\n",
       "      <td>1822</td>\n",
       "      <td>[richard, wiltshire, and, susan, par, sons, we...</td>\n",
       "      <td>0.0</td>\n",
       "      <td>2.0</td>\n",
       "      <td>1.0</td>\n",
       "      <td>0.0</td>\n",
       "      <td>0.0</td>\n",
       "    </tr>\n",
       "    <tr>\n",
       "      <th>t18170115-5</th>\n",
       "      <td>theft</td>\n",
       "      <td>burglary</td>\n",
       "      <td>death</td>\n",
       "      <td>none</td>\n",
       "      <td>18170115</td>\n",
       "      <td>MARY JOHNSTON was indicted for burglariously b...</td>\n",
       "      <td>guilty</td>\n",
       "      <td>withRecommendation</td>\n",
       "      <td>1822</td>\n",
       "      <td>[mary, johnston, was, indicted, for, burglario...</td>\n",
       "      <td>1.0</td>\n",
       "      <td>0.0</td>\n",
       "      <td>1.0</td>\n",
       "      <td>0.0</td>\n",
       "      <td>0.0</td>\n",
       "    </tr>\n",
       "  </tbody>\n",
       "</table>\n",
       "</div>"
      ],
      "text/plain": [
       "                   offense       offense_subcategory     punishment  \\\n",
       "trial_id                                                              \n",
       "t18170115-1  miscellaneous  returnFromTransportation          death   \n",
       "t18170115-2          theft                  burglary      transport   \n",
       "t18170115-3          theft             housebreaking  uncategorized   \n",
       "t18170115-4          theft             pocketpicking  uncategorized   \n",
       "t18170115-5          theft                  burglary          death   \n",
       "\n",
       "            punishment_subcategory   session  \\\n",
       "trial_id                                       \n",
       "t18170115-1                   none  18170115   \n",
       "t18170115-2                   none  18170115   \n",
       "t18170115-3                   none  18170115   \n",
       "t18170115-4                   none  18170115   \n",
       "t18170115-5                   none  18170115   \n",
       "\n",
       "                                                    transcript  \\\n",
       "trial_id                                                         \n",
       "t18170115-1  PETER JOHNSON was indicted for being at large,...   \n",
       "t18170115-2  BENJAMIN HEARNE was indicted for burglariously...   \n",
       "t18170115-3  JOHN DAVIS and JAMES LEMON , were indicted for...   \n",
       "t18170115-4  RICHARD WILTSHIRE and SUSAN PAR-SONS , were in...   \n",
       "t18170115-5  MARY JOHNSTON was indicted for burglariously b...   \n",
       "\n",
       "                    verdict verdict_subcategory  year  \\\n",
       "trial_id                                                \n",
       "t18170115-1          guilty       pleadedGuilty  1822   \n",
       "t18170115-2          guilty       lesserOffence  1822   \n",
       "t18170115-3  specialVerdict                none  1822   \n",
       "t18170115-4       notGuilty                none  1822   \n",
       "t18170115-5          guilty  withRecommendation  1822   \n",
       "\n",
       "                                                        tokens  \\\n",
       "trial_id                                                         \n",
       "t18170115-1  [peter, johnson, was, indicted, for, being, at...   \n",
       "t18170115-2  [benjamin, hearne, was, indicted, for, burglar...   \n",
       "t18170115-3  [john, davis, and, james, lemon, were, indicte...   \n",
       "t18170115-4  [richard, wiltshire, and, susan, par, sons, we...   \n",
       "t18170115-5  [mary, johnston, was, indicted, for, burglario...   \n",
       "\n",
       "             authority/subversion  care/harm  fairness/cheating  \\\n",
       "trial_id                                                          \n",
       "t18170115-1                   1.0        0.0                0.0   \n",
       "t18170115-2                   0.0        2.0                1.0   \n",
       "t18170115-3                   1.0        2.0                1.0   \n",
       "t18170115-4                   0.0        2.0                1.0   \n",
       "t18170115-5                   1.0        0.0                1.0   \n",
       "\n",
       "             loyalty/betrayal  sanctity/degradation  \n",
       "trial_id                                             \n",
       "t18170115-1               0.0                   0.0  \n",
       "t18170115-2               0.0                   0.0  \n",
       "t18170115-3               0.0                   0.0  \n",
       "t18170115-4               0.0                   0.0  \n",
       "t18170115-5               0.0                   0.0  "
      ]
     },
     "execution_count": 10,
     "metadata": {},
     "output_type": "execute_result"
    }
   ],
   "source": [
    "#Note: much of the following code is not covered in these modules. Read the comments to get a sense of what it does.\n",
    "#Will take a bit of time to run due to the large size.\n",
    "\n",
    "# do the following code for each foundation\n",
    "for foundation in haidt_dict.keys():\n",
    "    # create a new, empty column\n",
    "    num_match_words = np.zeros(len(old_bailey))\n",
    "    stems = haidt_dict[foundation]\n",
    "    \n",
    "    # do the following code for each foundation word\n",
    "    for stem in stems:\n",
    "        # find synonym matches\n",
    "        wd_count = np.array([sum([wd.startswith(stem) for wd in statement]) for statement in old_bailey['tokens']])\n",
    "        # add the number of matches to the total\n",
    "        num_match_words += wd_count\n",
    "        \n",
    "    # create a new column for each foundation with the number of foundation words per speech\n",
    "    old_bailey[foundation] = num_match_words\n",
    "\n",
    "old_bailey.head()"
   ]
  },
  {
   "cell_type": "markdown",
   "metadata": {},
   "source": [
    "**Question 3.3:** To calculate the percentage of foundation words per speech, divide the number of matched words by the number of total words and multiply by 100."
   ]
  },
  {
   "cell_type": "code",
   "execution_count": null,
   "metadata": {},
   "outputs": [],
   "source": [
    "for foundation in haidt_dict.keys():\n",
    "    old_bailey[foundation] = ...\n",
    "\n",
    "old_bailey.head()"
   ]
  },
  {
   "cell_type": "code",
   "execution_count": 12,
   "metadata": {},
   "outputs": [
    {
     "data": {
      "text/html": [
       "<div>\n",
       "<table border=\"1\" class=\"dataframe\">\n",
       "  <thead>\n",
       "    <tr style=\"text-align: right;\">\n",
       "      <th></th>\n",
       "      <th>offense</th>\n",
       "      <th>offense_subcategory</th>\n",
       "      <th>punishment</th>\n",
       "      <th>punishment_subcategory</th>\n",
       "      <th>session</th>\n",
       "      <th>transcript</th>\n",
       "      <th>verdict</th>\n",
       "      <th>verdict_subcategory</th>\n",
       "      <th>year</th>\n",
       "      <th>tokens</th>\n",
       "      <th>authority/subversion</th>\n",
       "      <th>care/harm</th>\n",
       "      <th>fairness/cheating</th>\n",
       "      <th>loyalty/betrayal</th>\n",
       "      <th>sanctity/degradation</th>\n",
       "      <th>total_words</th>\n",
       "    </tr>\n",
       "    <tr>\n",
       "      <th>trial_id</th>\n",
       "      <th></th>\n",
       "      <th></th>\n",
       "      <th></th>\n",
       "      <th></th>\n",
       "      <th></th>\n",
       "      <th></th>\n",
       "      <th></th>\n",
       "      <th></th>\n",
       "      <th></th>\n",
       "      <th></th>\n",
       "      <th></th>\n",
       "      <th></th>\n",
       "      <th></th>\n",
       "      <th></th>\n",
       "      <th></th>\n",
       "      <th></th>\n",
       "    </tr>\n",
       "  </thead>\n",
       "  <tbody>\n",
       "    <tr>\n",
       "      <th>t18170115-1</th>\n",
       "      <td>miscellaneous</td>\n",
       "      <td>returnFromTransportation</td>\n",
       "      <td>death</td>\n",
       "      <td>none</td>\n",
       "      <td>18170115</td>\n",
       "      <td>PETER JOHNSON was indicted for being at large,...</td>\n",
       "      <td>guilty</td>\n",
       "      <td>pleadedGuilty</td>\n",
       "      <td>1822</td>\n",
       "      <td>[peter, johnson, was, indicted, for, being, at...</td>\n",
       "      <td>2.222222</td>\n",
       "      <td>0.000000</td>\n",
       "      <td>0.000000</td>\n",
       "      <td>0.0</td>\n",
       "      <td>0.0</td>\n",
       "      <td>45</td>\n",
       "    </tr>\n",
       "    <tr>\n",
       "      <th>t18170115-2</th>\n",
       "      <td>theft</td>\n",
       "      <td>burglary</td>\n",
       "      <td>transport</td>\n",
       "      <td>none</td>\n",
       "      <td>18170115</td>\n",
       "      <td>BENJAMIN HEARNE was indicted for burglariously...</td>\n",
       "      <td>guilty</td>\n",
       "      <td>lesserOffence</td>\n",
       "      <td>1822</td>\n",
       "      <td>[benjamin, hearne, was, indicted, for, burglar...</td>\n",
       "      <td>0.000000</td>\n",
       "      <td>0.523560</td>\n",
       "      <td>0.261780</td>\n",
       "      <td>0.0</td>\n",
       "      <td>0.0</td>\n",
       "      <td>382</td>\n",
       "    </tr>\n",
       "    <tr>\n",
       "      <th>t18170115-3</th>\n",
       "      <td>theft</td>\n",
       "      <td>housebreaking</td>\n",
       "      <td>uncategorized</td>\n",
       "      <td>none</td>\n",
       "      <td>18170115</td>\n",
       "      <td>JOHN DAVIS and JAMES LEMON , were indicted for...</td>\n",
       "      <td>specialVerdict</td>\n",
       "      <td>none</td>\n",
       "      <td>1822</td>\n",
       "      <td>[john, davis, and, james, lemon, were, indicte...</td>\n",
       "      <td>0.101937</td>\n",
       "      <td>0.203874</td>\n",
       "      <td>0.101937</td>\n",
       "      <td>0.0</td>\n",
       "      <td>0.0</td>\n",
       "      <td>981</td>\n",
       "    </tr>\n",
       "    <tr>\n",
       "      <th>t18170115-4</th>\n",
       "      <td>theft</td>\n",
       "      <td>pocketpicking</td>\n",
       "      <td>uncategorized</td>\n",
       "      <td>none</td>\n",
       "      <td>18170115</td>\n",
       "      <td>RICHARD WILTSHIRE and SUSAN PAR-SONS , were in...</td>\n",
       "      <td>notGuilty</td>\n",
       "      <td>none</td>\n",
       "      <td>1822</td>\n",
       "      <td>[richard, wiltshire, and, susan, par, sons, we...</td>\n",
       "      <td>0.000000</td>\n",
       "      <td>0.537634</td>\n",
       "      <td>0.268817</td>\n",
       "      <td>0.0</td>\n",
       "      <td>0.0</td>\n",
       "      <td>372</td>\n",
       "    </tr>\n",
       "    <tr>\n",
       "      <th>t18170115-5</th>\n",
       "      <td>theft</td>\n",
       "      <td>burglary</td>\n",
       "      <td>death</td>\n",
       "      <td>none</td>\n",
       "      <td>18170115</td>\n",
       "      <td>MARY JOHNSTON was indicted for burglariously b...</td>\n",
       "      <td>guilty</td>\n",
       "      <td>withRecommendation</td>\n",
       "      <td>1822</td>\n",
       "      <td>[mary, johnston, was, indicted, for, burglario...</td>\n",
       "      <td>0.103842</td>\n",
       "      <td>0.000000</td>\n",
       "      <td>0.103842</td>\n",
       "      <td>0.0</td>\n",
       "      <td>0.0</td>\n",
       "      <td>963</td>\n",
       "    </tr>\n",
       "  </tbody>\n",
       "</table>\n",
       "</div>"
      ],
      "text/plain": [
       "                   offense       offense_subcategory     punishment  \\\n",
       "trial_id                                                              \n",
       "t18170115-1  miscellaneous  returnFromTransportation          death   \n",
       "t18170115-2          theft                  burglary      transport   \n",
       "t18170115-3          theft             housebreaking  uncategorized   \n",
       "t18170115-4          theft             pocketpicking  uncategorized   \n",
       "t18170115-5          theft                  burglary          death   \n",
       "\n",
       "            punishment_subcategory   session  \\\n",
       "trial_id                                       \n",
       "t18170115-1                   none  18170115   \n",
       "t18170115-2                   none  18170115   \n",
       "t18170115-3                   none  18170115   \n",
       "t18170115-4                   none  18170115   \n",
       "t18170115-5                   none  18170115   \n",
       "\n",
       "                                                    transcript  \\\n",
       "trial_id                                                         \n",
       "t18170115-1  PETER JOHNSON was indicted for being at large,...   \n",
       "t18170115-2  BENJAMIN HEARNE was indicted for burglariously...   \n",
       "t18170115-3  JOHN DAVIS and JAMES LEMON , were indicted for...   \n",
       "t18170115-4  RICHARD WILTSHIRE and SUSAN PAR-SONS , were in...   \n",
       "t18170115-5  MARY JOHNSTON was indicted for burglariously b...   \n",
       "\n",
       "                    verdict verdict_subcategory  year  \\\n",
       "trial_id                                                \n",
       "t18170115-1          guilty       pleadedGuilty  1822   \n",
       "t18170115-2          guilty       lesserOffence  1822   \n",
       "t18170115-3  specialVerdict                none  1822   \n",
       "t18170115-4       notGuilty                none  1822   \n",
       "t18170115-5          guilty  withRecommendation  1822   \n",
       "\n",
       "                                                        tokens  \\\n",
       "trial_id                                                         \n",
       "t18170115-1  [peter, johnson, was, indicted, for, being, at...   \n",
       "t18170115-2  [benjamin, hearne, was, indicted, for, burglar...   \n",
       "t18170115-3  [john, davis, and, james, lemon, were, indicte...   \n",
       "t18170115-4  [richard, wiltshire, and, susan, par, sons, we...   \n",
       "t18170115-5  [mary, johnston, was, indicted, for, burglario...   \n",
       "\n",
       "             authority/subversion  care/harm  fairness/cheating  \\\n",
       "trial_id                                                          \n",
       "t18170115-1              2.222222   0.000000           0.000000   \n",
       "t18170115-2              0.000000   0.523560           0.261780   \n",
       "t18170115-3              0.101937   0.203874           0.101937   \n",
       "t18170115-4              0.000000   0.537634           0.268817   \n",
       "t18170115-5              0.103842   0.000000           0.103842   \n",
       "\n",
       "             loyalty/betrayal  sanctity/degradation  total_words  \n",
       "trial_id                                                          \n",
       "t18170115-1               0.0                   0.0           45  \n",
       "t18170115-2               0.0                   0.0          382  \n",
       "t18170115-3               0.0                   0.0          981  \n",
       "t18170115-4               0.0                   0.0          372  \n",
       "t18170115-5               0.0                   0.0          963  "
      ]
     },
     "execution_count": 12,
     "metadata": {},
     "output_type": "execute_result"
    }
   ],
   "source": [
    "#SOLUTION\n",
    "for foundation in haidt_dict.keys():\n",
    "    old_bailey[foundation] = (old_bailey[foundation] / old_bailey['total_words']) * 100\n",
    "\n",
    "old_bailey.head()"
   ]
  },
  {
   "cell_type": "markdown",
   "metadata": {},
   "source": [
    "**Question 3.4:** Is there anything strange you notice?"
   ]
  },
  {
   "cell_type": "markdown",
   "metadata": {},
   "source": [
    "*Write your answer here.*"
   ]
  },
  {
   "cell_type": "markdown",
   "metadata": {},
   "source": [
    "Let's separate the two dates, 1810 and 1840, again like we did earlier in the lab. Then we will create two bar graphs.\n",
    "\n",
    "**Question 3.5:** Make a table `transcript_1810` and a table `transcript_1840` so we can compare the two datasets separately. Then create two separate bar graphs for the two datasets."
   ]
  },
  {
   "cell_type": "code",
   "execution_count": null,
   "metadata": {},
   "outputs": [],
   "source": [
    "transcript_1810 = ...\n",
    "\n",
    "# select the foundations columns and calculate the mean percent for each\n",
    "avg_1810_stats = (transcript_1810.loc[:, ...]\n",
    "                 .apply(np.mean)\n",
    "                 .to_frame('1810_percent'))\n",
    "\n",
    "avg_1810_stats"
   ]
  },
  {
   "cell_type": "code",
   "execution_count": 13,
   "metadata": {},
   "outputs": [
    {
     "data": {
      "text/html": [
       "<div>\n",
       "<table border=\"1\" class=\"dataframe\">\n",
       "  <thead>\n",
       "    <tr style=\"text-align: right;\">\n",
       "      <th></th>\n",
       "      <th>1822_percent</th>\n",
       "    </tr>\n",
       "  </thead>\n",
       "  <tbody>\n",
       "    <tr>\n",
       "      <th>authority/subversion</th>\n",
       "      <td>0.108437</td>\n",
       "    </tr>\n",
       "    <tr>\n",
       "      <th>care/harm</th>\n",
       "      <td>0.427047</td>\n",
       "    </tr>\n",
       "    <tr>\n",
       "      <th>fairness/cheating</th>\n",
       "      <td>0.102971</td>\n",
       "    </tr>\n",
       "    <tr>\n",
       "      <th>loyalty/betrayal</th>\n",
       "      <td>0.049865</td>\n",
       "    </tr>\n",
       "    <tr>\n",
       "      <th>sanctity/degradation</th>\n",
       "      <td>0.057021</td>\n",
       "    </tr>\n",
       "  </tbody>\n",
       "</table>\n",
       "</div>"
      ],
      "text/plain": [
       "                      1822_percent\n",
       "authority/subversion      0.108437\n",
       "care/harm                 0.427047\n",
       "fairness/cheating         0.102971\n",
       "loyalty/betrayal          0.049865\n",
       "sanctity/degradation      0.057021"
      ]
     },
     "execution_count": 13,
     "metadata": {},
     "output_type": "execute_result"
    }
   ],
   "source": [
    "#SOLUTION\n",
    "transcript_1822 = old_bailey[old_bailey['year'] == 1822]\n",
    "\n",
    "# select the foundations columns and calculate the mean percent for each\n",
    "avg_1822_stats = (transcript_1822.loc[:, list(haidt_dict.keys())]\n",
    "                 .apply(np.mean)\n",
    "                 .to_frame('1822_percent'))\n",
    "\n",
    "avg_1822_stats"
   ]
  },
  {
   "cell_type": "code",
   "execution_count": null,
   "metadata": {},
   "outputs": [],
   "source": [
    "avg_1810_stats.plot.barh();"
   ]
  },
  {
   "cell_type": "code",
   "execution_count": null,
   "metadata": {},
   "outputs": [],
   "source": [
    "transcript_1840 = ...\n",
    "\n",
    "# select the foundations columns and calculate the mean percent for each\n",
    "avg_1840_stats = (transcript_1840.loc[:, ...]\n",
    "                 .apply(np.mean)\n",
    "                 .to_frame('1840_percent'))\n",
    "\n",
    "avg_1840_stats"
   ]
  },
  {
   "cell_type": "code",
   "execution_count": 15,
   "metadata": {},
   "outputs": [
    {
     "data": {
      "text/html": [
       "<div>\n",
       "<table border=\"1\" class=\"dataframe\">\n",
       "  <thead>\n",
       "    <tr style=\"text-align: right;\">\n",
       "      <th></th>\n",
       "      <th>1832_percent</th>\n",
       "    </tr>\n",
       "  </thead>\n",
       "  <tbody>\n",
       "    <tr>\n",
       "      <th>authority/subversion</th>\n",
       "      <td>0.183081</td>\n",
       "    </tr>\n",
       "    <tr>\n",
       "      <th>care/harm</th>\n",
       "      <td>0.326695</td>\n",
       "    </tr>\n",
       "    <tr>\n",
       "      <th>fairness/cheating</th>\n",
       "      <td>0.031621</td>\n",
       "    </tr>\n",
       "    <tr>\n",
       "      <th>loyalty/betrayal</th>\n",
       "      <td>0.050915</td>\n",
       "    </tr>\n",
       "    <tr>\n",
       "      <th>sanctity/degradation</th>\n",
       "      <td>0.088442</td>\n",
       "    </tr>\n",
       "  </tbody>\n",
       "</table>\n",
       "</div>"
      ],
      "text/plain": [
       "                      1832_percent\n",
       "authority/subversion      0.183081\n",
       "care/harm                 0.326695\n",
       "fairness/cheating         0.031621\n",
       "loyalty/betrayal          0.050915\n",
       "sanctity/degradation      0.088442"
      ]
     },
     "execution_count": 15,
     "metadata": {},
     "output_type": "execute_result"
    }
   ],
   "source": [
    "#SOLUTION\n",
    "transcript_1832 = old_bailey[old_bailey['year'] == 1832]\n",
    "\n",
    "# select the foundations columns and calculate the mean percent for each\n",
    "avg_1832_stats = (transcript_1832.loc[:, list(haidt_dict.keys())]\n",
    "                 .apply(np.mean)\n",
    "                 .to_frame('1832_percent'))\n",
    "\n",
    "avg_1832_stats"
   ]
  },
  {
   "cell_type": "code",
   "execution_count": null,
   "metadata": {},
   "outputs": [],
   "source": [
    "avg_1832_stats.plot.barh();"
   ]
  },
  {
   "cell_type": "code",
   "execution_count": null,
   "metadata": {},
   "outputs": [],
   "source": [
    "all_avg_stats = ...\n",
    "all_avg_stats"
   ]
  },
  {
   "cell_type": "code",
   "execution_count": 17,
   "metadata": {},
   "outputs": [
    {
     "data": {
      "text/html": [
       "<div>\n",
       "<table border=\"1\" class=\"dataframe\">\n",
       "  <thead>\n",
       "    <tr style=\"text-align: right;\">\n",
       "      <th></th>\n",
       "      <th>1832_percent</th>\n",
       "      <th>1822_percent</th>\n",
       "    </tr>\n",
       "  </thead>\n",
       "  <tbody>\n",
       "    <tr>\n",
       "      <th>authority/subversion</th>\n",
       "      <td>0.183081</td>\n",
       "      <td>0.108437</td>\n",
       "    </tr>\n",
       "    <tr>\n",
       "      <th>care/harm</th>\n",
       "      <td>0.326695</td>\n",
       "      <td>0.427047</td>\n",
       "    </tr>\n",
       "    <tr>\n",
       "      <th>fairness/cheating</th>\n",
       "      <td>0.031621</td>\n",
       "      <td>0.102971</td>\n",
       "    </tr>\n",
       "    <tr>\n",
       "      <th>loyalty/betrayal</th>\n",
       "      <td>0.050915</td>\n",
       "      <td>0.049865</td>\n",
       "    </tr>\n",
       "    <tr>\n",
       "      <th>sanctity/degradation</th>\n",
       "      <td>0.088442</td>\n",
       "      <td>0.057021</td>\n",
       "    </tr>\n",
       "  </tbody>\n",
       "</table>\n",
       "</div>"
      ],
      "text/plain": [
       "                      1832_percent  1822_percent\n",
       "authority/subversion      0.183081      0.108437\n",
       "care/harm                 0.326695      0.427047\n",
       "fairness/cheating         0.031621      0.102971\n",
       "loyalty/betrayal          0.050915      0.049865\n",
       "sanctity/degradation      0.088442      0.057021"
      ]
     },
     "execution_count": 17,
     "metadata": {},
     "output_type": "execute_result"
    }
   ],
   "source": [
    "#SOLUTION\n",
    "all_avg_stats = avg_1832_stats.join(avg_1822_stats)\n",
    "all_avg_stats"
   ]
  },
  {
   "cell_type": "code",
   "execution_count": 18,
   "metadata": {},
   "outputs": [
    {
     "data": {
      "image/png": "[encoded data removed]",
      "text/plain": [
       "<matplotlib.figure.Figure at 0x7f8bc85ff208>"
      ]
     },
     "metadata": {},
     "output_type": "display_data"
    }
   ],
   "source": [
    "all_avg_stats.plot.barh();"
   ]
  },
  {
   "cell_type": "markdown",
   "metadata": {},
   "source": [
    "**Question 3.6:** What are some pros of this method? Cons?"
   ]
  },
  {
   "cell_type": "markdown",
   "metadata": {},
   "source": [
    "*Write your answer here.*"
   ]
  },
  {
   "cell_type": "markdown",
   "metadata": {},
   "source": [
    "*Potential answer: Rarity of words means results may not be significant.*"
   ]
  },
  {
   "cell_type": "markdown",
   "metadata": {},
   "source": [
    "----\n",
    "## Section 4: Non-negative matrix factorization<a id='section 4'></a>\n",
    "\n",
    "In this section, you can get an idea of sentiment using topic modeling algorithsm, something you touched on in the 4/10 lab earlier this week, to help look for patterns.\n",
    "\n",
    "The creation of the bag of words matrix is very easy in Scikit Learn with all of the heavy lifting done by the feature extraction functionality provided for text datasets. A tf-idf transformer is applied to the bag of words matrix that NMF must process with the TfidfVectorizer. Stop words are removed and the number of terms included in the bag of words matrix is restricted to the top 1000.\n",
    "\n",
    "**Question 4.1:** Fill in the elipses so we can create a tfidf for our NMF.\n",
    "\n",
    "**Hint:** Look up the code for TfidfVEctorizer to better understand what this code is doing. "
   ]
  },
  {
   "cell_type": "code",
   "execution_count": null,
   "metadata": {},
   "outputs": [],
   "source": [
    "no_features = ...\n",
    "\n",
    "# NMF is able to use tf-idf\n",
    "tfidf_vectorizer = TfidfVectorizer(max_df=0.95, min_df=2, max_features=..., stop_words='english')\n",
    "tfidf = tfidf_vectorizer.fit_transform(...) #add the column with the statements\n",
    "tfidf_feature_names = tfidf_vectorizer.get_feature_names()"
   ]
  },
  {
   "cell_type": "code",
   "execution_count": null,
   "metadata": {},
   "outputs": [],
   "source": [
    "#SOLUTION\n",
    "no_features = 1000\n",
    "\n",
    "# NMF is able to use tf-idf\n",
    "tfidf_vectorizer = TfidfVectorizer(max_df=0.95, min_df=2, max_features=no_features, stop_words='english')\n",
    "tfidf = tfidf_vectorizer.fit_transform(old_bailey['transcript'])\n",
    "tfidf_feature_names = tfidf_vectorizer.get_feature_names()"
   ]
  },
  {
   "cell_type": "markdown",
   "metadata": {},
   "source": [
    "As mentioned previously the algorithms are not able to automatically determine the number of topics and this value must be set when running the algorithm. Initialising the W and H matrices in NMF with ‘nndsvd’ rather than random initialisation improves the time it takes for NMF to converge.\n",
    "\n",
    "**Question 4.2:** Fill in the number of components we use and what we are fitting our NMF on."
   ]
  },
  {
   "cell_type": "code",
   "execution_count": null,
   "metadata": {},
   "outputs": [],
   "source": [
    "no_topics = 20\n",
    "# Run NMF\n",
    "nmf = NMF(n_components=..., random_state=1, alpha=.1, l1_ratio=.5, init='nndsvd').fit(...)"
   ]
  },
  {
   "cell_type": "code",
   "execution_count": null,
   "metadata": {},
   "outputs": [],
   "source": [
    "#SOLUTION\n",
    "no_topics = 20\n",
    "# Run NMF\n",
    "nmf = NMF(n_components=no_topics, random_state=1, alpha=.1, l1_ratio=.5, init='nndsvd').fit(tfidf)"
   ]
  },
  {
   "cell_type": "markdown",
   "metadata": {},
   "source": [
    "We've provided you the function to display the topics shown by the NMF."
   ]
  },
  {
   "cell_type": "code",
   "execution_count": null,
   "metadata": {},
   "outputs": [],
   "source": [
    "def display_topics(model, feature_names, no_top_words):\n",
    "    for topic_idx, topic in enumerate(model.components_):\n",
    "        print(\"Topic %d:\" % (topic_idx))\n",
    "        print(\" \".join([feature_names[i]\n",
    "                        for i in topic.argsort()[:-no_top_words - 1:-1]]))\n",
    "\n",
    "no_top_words = 10\n",
    "display_topics(nmf, tfidf_feature_names, no_top_words)"
   ]
  },
  {
   "cell_type": "markdown",
   "metadata": {},
   "source": [
    "**Question 4.3:** Now what did you think of this approach? It should be similar to what you learned before so we don't go into too much depth with it. Are there any pros and cons you might consider?"
   ]
  },
  {
   "cell_type": "markdown",
   "metadata": {},
   "source": [
    "*Write your answer here.*"
   ]
  },
  {
   "cell_type": "markdown",
   "metadata": {},
   "source": [
    "*Potential answer: Unstructured data means you might have to dig a lot to find relevant topics.*"
   ]
  },
  {
   "cell_type": "markdown",
   "metadata": {},
   "source": [
    "----\n",
    "Fantastic! Now you know how to cover morality and sentiment analysis two ways using general sentiment analysis with `VADER`, Moral Foundations Theory, and Non-negative matrix factorization.\n",
    "\n",
    "Now see if you can answer our main question of today: \n",
    "\n",
    "**Question:** Did the way judges, prosecutors, and witnesses talk about moral culpability change after the Bloody Code was mostly repealed in 1827 (at the leading edge of a wave of legal reform in England)?\n",
    "\n",
    "----"
   ]
  },
  {
   "cell_type": "markdown",
   "metadata": {},
   "source": [
    "## Bibliography\n",
    "\n",
    " - Work done with text analysis. https://github.com/DS-100/sp18/blob/master/proj/proj1/solution/proj1_solution.ipynb\n",
    " - *Hutto, C.J. & Gilbert, E.E. (2014). VADER: A Parsimonious Rule-based Model for Sentiment Analysis of Social Media Text. Eighth International Conference on Weblogs and Social Media (ICWSM-14). Ann Arbor, MI, June 2014.*\n",
    " - Moral Foundations Theory background: http://moralfoundations.org/\n",
    " - Moral Foundations analysis https://github.com/ds-modules/XRHETOR-R1A/blob/master/02-Moral-Foundations-Analysis/02-Moral-Foundations-Analysis.ipynb\n",
    "- VADER sentiment tools: Hutto, C.J. & Gilbert, E.E. (2014). VADER: A Parsimonious Rule-based Model for\n",
    "Sentiment Analysis of Social Media Text. Eighth International Conference on\n",
    "Weblogs and Social Media (ICWSM-14). Ann Arbor, MI, June 2014.\n",
    "\n",
    "----\n",
    "Notebook developed by: Gibson Chu\n",
    "\n",
    "Data Science Modules: http://data.berkeley.edu/education/modules"
   ]
  }
 ],
 "metadata": {
  "kernelspec": {
   "display_name": "Python 3",
   "language": "python",
   "name": "python3"
  },
  "language_info": {
   "codemirror_mode": {
    "name": "ipython",
    "version": 3
   },
   "file_extension": ".py",
   "mimetype": "text/x-python",
   "name": "python",
   "nbconvert_exporter": "python",
   "pygments_lexer": "ipython3",
   "version": "3.6.1"
  }
 },
 "nbformat": 4,
 "nbformat_minor": 2
}
