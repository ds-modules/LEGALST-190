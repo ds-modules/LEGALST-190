{
 "cells": [
  {
   "cell_type": "markdown",
   "metadata": {},
   "source": [
    "# 2-22\n",
    "---\n",
    "\n",
    "This lab will introduce the regression methods available in the scikit-learn extension to scipy, focusing on ordinary least squares linear regression, LASSO, and Ridge regression.\n",
    "\n",
    "*Estimated Time: 45 minutes*\n",
    "\n",
    "---\n",
    "\n",
    "\n",
    "### Table of Contents\n",
    "\n",
    "\n",
    "1 - [The Test-Train Split](#section 1)<br>\n",
    "\n",
    "2 - [Linear Regression](#section 2)<br>\n",
    "\n",
    "3 - [LASSO Regression](#section 3)<br>\n",
    "\n",
    "3 - [Ridge Regression](#section 4)<br>\n",
    "\n",
    "\n",
    "\n",
    "**Dependencies:**"
   ]
  },
  {
   "cell_type": "code",
   "execution_count": 3,
   "metadata": {},
   "outputs": [],
   "source": [
    "import numpy as np\n",
    "from datascience import *\n",
    "import matplotlib.pyplot as plt\n",
    "%matplotlib inline\n",
    "from sklearn.model_selection import train_test_split"
   ]
  },
  {
   "cell_type": "markdown",
   "metadata": {},
   "source": [
    "## The Data: Bike Sharing"
   ]
  },
  {
   "cell_type": "markdown",
   "metadata": {},
   "source": []
  },
  {
   "cell_type": "code",
   "execution_count": 9,
   "metadata": {},
   "outputs": [
    {
     "data": {
      "text/html": [
       "<table border=\"1\" class=\"dataframe\">\n",
       "    <thead>\n",
       "        <tr>\n",
       "            <th>instant</th> <th>dteday</th> <th>season</th> <th>yr</th> <th>mnth</th> <th>holiday</th> <th>weekday</th> <th>workingday</th> <th>weathersit</th> <th>temp</th> <th>atemp</th> <th>hum</th> <th>windspeed</th> <th>casual</th> <th>registered</th> <th>cnt</th>\n",
       "        </tr>\n",
       "    </thead>\n",
       "    <tbody>\n",
       "        <tr>\n",
       "            <td>1      </td> <td>2011-01-01</td> <td>1     </td> <td>0   </td> <td>1   </td> <td>0      </td> <td>6      </td> <td>0         </td> <td>2         </td> <td>0.344167</td> <td>0.363625</td> <td>0.805833</td> <td>0.160446 </td> <td>331   </td> <td>654       </td> <td>985 </td>\n",
       "        </tr>\n",
       "    </tbody>\n",
       "        <tr>\n",
       "            <td>2      </td> <td>2011-01-02</td> <td>1     </td> <td>0   </td> <td>1   </td> <td>0      </td> <td>0      </td> <td>0         </td> <td>2         </td> <td>0.363478</td> <td>0.353739</td> <td>0.696087</td> <td>0.248539 </td> <td>131   </td> <td>670       </td> <td>801 </td>\n",
       "        </tr>\n",
       "    </tbody>\n",
       "        <tr>\n",
       "            <td>3      </td> <td>2011-01-03</td> <td>1     </td> <td>0   </td> <td>1   </td> <td>0      </td> <td>1      </td> <td>1         </td> <td>1         </td> <td>0.196364</td> <td>0.189405</td> <td>0.437273</td> <td>0.248309 </td> <td>120   </td> <td>1229      </td> <td>1349</td>\n",
       "        </tr>\n",
       "    </tbody>\n",
       "        <tr>\n",
       "            <td>4      </td> <td>2011-01-04</td> <td>1     </td> <td>0   </td> <td>1   </td> <td>0      </td> <td>2      </td> <td>1         </td> <td>1         </td> <td>0.2     </td> <td>0.212122</td> <td>0.590435</td> <td>0.160296 </td> <td>108   </td> <td>1454      </td> <td>1562</td>\n",
       "        </tr>\n",
       "    </tbody>\n",
       "        <tr>\n",
       "            <td>5      </td> <td>2011-01-05</td> <td>1     </td> <td>0   </td> <td>1   </td> <td>0      </td> <td>3      </td> <td>1         </td> <td>1         </td> <td>0.226957</td> <td>0.22927 </td> <td>0.436957</td> <td>0.1869   </td> <td>82    </td> <td>1518      </td> <td>1600</td>\n",
       "        </tr>\n",
       "    </tbody>\n",
       "</table>\n",
       "<p>... (726 rows omitted)</p>"
      ],
      "text/plain": [
       "<IPython.core.display.HTML object>"
      ]
     },
     "metadata": {},
     "output_type": "display_data"
    }
   ],
   "source": [
    "day = Table.read_table('data/Bike-Sharing-Dataset/day.csv')\n",
    "\n",
    "day.show(5)"
   ]
  },
  {
   "cell_type": "markdown",
   "metadata": {},
   "source": []
  },
  {
   "cell_type": "code",
   "execution_count": 8,
   "metadata": {},
   "outputs": [
    {
     "data": {
      "text/html": [
       "<table border=\"1\" class=\"dataframe\">\n",
       "    <thead>\n",
       "        <tr>\n",
       "            <th>instant</th> <th>dteday</th> <th>season</th> <th>yr</th> <th>mnth</th> <th>hr</th> <th>holiday</th> <th>weekday</th> <th>workingday</th> <th>weathersit</th> <th>temp</th> <th>atemp</th> <th>hum</th> <th>windspeed</th> <th>casual</th> <th>registered</th> <th>cnt</th>\n",
       "        </tr>\n",
       "    </thead>\n",
       "    <tbody>\n",
       "        <tr>\n",
       "            <td>1      </td> <td>2011-01-01</td> <td>1     </td> <td>0   </td> <td>1   </td> <td>0   </td> <td>0      </td> <td>6      </td> <td>0         </td> <td>1         </td> <td>0.24</td> <td>0.2879</td> <td>0.81</td> <td>0        </td> <td>3     </td> <td>13        </td> <td>16  </td>\n",
       "        </tr>\n",
       "    </tbody>\n",
       "        <tr>\n",
       "            <td>2      </td> <td>2011-01-01</td> <td>1     </td> <td>0   </td> <td>1   </td> <td>1   </td> <td>0      </td> <td>6      </td> <td>0         </td> <td>1         </td> <td>0.22</td> <td>0.2727</td> <td>0.8 </td> <td>0        </td> <td>8     </td> <td>32        </td> <td>40  </td>\n",
       "        </tr>\n",
       "    </tbody>\n",
       "        <tr>\n",
       "            <td>3      </td> <td>2011-01-01</td> <td>1     </td> <td>0   </td> <td>1   </td> <td>2   </td> <td>0      </td> <td>6      </td> <td>0         </td> <td>1         </td> <td>0.22</td> <td>0.2727</td> <td>0.8 </td> <td>0        </td> <td>5     </td> <td>27        </td> <td>32  </td>\n",
       "        </tr>\n",
       "    </tbody>\n",
       "        <tr>\n",
       "            <td>4      </td> <td>2011-01-01</td> <td>1     </td> <td>0   </td> <td>1   </td> <td>3   </td> <td>0      </td> <td>6      </td> <td>0         </td> <td>1         </td> <td>0.24</td> <td>0.2879</td> <td>0.75</td> <td>0        </td> <td>3     </td> <td>10        </td> <td>13  </td>\n",
       "        </tr>\n",
       "    </tbody>\n",
       "        <tr>\n",
       "            <td>5      </td> <td>2011-01-01</td> <td>1     </td> <td>0   </td> <td>1   </td> <td>4   </td> <td>0      </td> <td>6      </td> <td>0         </td> <td>1         </td> <td>0.24</td> <td>0.2879</td> <td>0.75</td> <td>0        </td> <td>0     </td> <td>1         </td> <td>1   </td>\n",
       "        </tr>\n",
       "    </tbody>\n",
       "</table>\n",
       "<p>... (17374 rows omitted)</p>"
      ],
      "text/plain": [
       "<IPython.core.display.HTML object>"
      ]
     },
     "metadata": {},
     "output_type": "display_data"
    }
   ],
   "source": [
    "hour = Table.read_table('data/Bike-Sharing-Dataset/hour.csv')\n",
    "hour.show(5)"
   ]
  },
  {
   "cell_type": "markdown",
   "metadata": {},
   "source": [
    "---\n",
    "## 1. The Test-Train Split  <a id='section 1'></a>"
   ]
  },
  {
   "cell_type": "markdown",
   "metadata": {},
   "source": [
    "https://github.com/ds-modules/core-resources/blob/master/machine-learning/examples/RidgeLassoEN.ipynb\n",
    "\n",
    "https://github.com/dlab-berkeley/python-machine-learning\n",
    "\n",
    "https://github.com/mlberkeley/Data-Science-Decal-Fall-2017/blob/master/Day1-PythonBootcamp/Scikit-Learn_Intro-_Student.ipynb"
   ]
  },
  {
   "cell_type": "code",
   "execution_count": 3,
   "metadata": {
    "collapsed": true
   },
   "outputs": [],
   "source": [
    "# CODE"
   ]
  },
  {
   "cell_type": "markdown",
   "metadata": {},
   "source": [
    "## 2. Linear Regression (Ordinary Least Squares) <a id='section 2'></a>"
   ]
  },
  {
   "cell_type": "markdown",
   "metadata": {},
   "source": [
    "Intro to section 2 here."
   ]
  },
  {
   "cell_type": "code",
   "execution_count": 7,
   "metadata": {
    "collapsed": true
   },
   "outputs": [],
   "source": [
    "# CODE"
   ]
  },
  {
   "cell_type": "markdown",
   "metadata": {},
   "source": [
    "## 3. Ridge Regression <a id='section 3'></a>"
   ]
  },
  {
   "cell_type": "markdown",
   "metadata": {},
   "source": [
    "Intro to section 3 here."
   ]
  },
  {
   "cell_type": "code",
   "execution_count": 8,
   "metadata": {
    "collapsed": true
   },
   "outputs": [],
   "source": [
    "# CODE"
   ]
  },
  {
   "cell_type": "markdown",
   "metadata": {},
   "source": [
    "## 4. LASSO Regression <a id='section 4'></a>"
   ]
  },
  {
   "cell_type": "markdown",
   "metadata": {},
   "source": [
    "Intro to subsection 1 here."
   ]
  },
  {
   "cell_type": "code",
   "execution_count": 9,
   "metadata": {
    "collapsed": true
   },
   "outputs": [],
   "source": [
    "# CODE"
   ]
  },
  {
   "cell_type": "markdown",
   "metadata": {},
   "source": [
    "---\n",
    "\n",
    "## Bibliography"
   ]
  },
  {
   "cell_type": "markdown",
   "metadata": {},
   "source": []
  },
  {
   "cell_type": "markdown",
   "metadata": {},
   "source": [
    "---\n",
    "\n",
    "#### Notes for Notebook Style:\n",
    "\n",
    "- Follow [PEP 8](https://www.python.org/dev/peps/pep-0008/) style guide for Python\n",
    "- No two cells of successive code or Markdown\n",
    "- Run all cells with no errors\n",
    "- Clear all cell output before pushing\n",
    "- Create a binder for the repo on [mybinder.org](http://mybinder.org) and paste the badge to the top of the README markdown file\n",
    "\n",
    "\n",
    "#### Notes for Code Style:\n",
    "- Each line or section of code should be accompanied with a comment\n",
    "- Comments and code lines should not be too long\n",
    "- Naming variables: use descriptive names (titanic vs. data), use underscores, not camel case\n",
    "\n",
    "#### Notes for Visualizations\n",
    "- Graphs should be displayed with titles and label axes\n",
    "\n",
    "#### Example of good code and graphs"
   ]
  },
  {
   "cell_type": "markdown",
   "metadata": {},
   "source": [
    "First, we will learn about basic plotting with pandas and seaborn."
   ]
  },
  {
   "cell_type": "code",
   "execution_count": 26,
   "metadata": {},
   "outputs": [
    {
     "data": {
      "image/png": "[encoded data removed]",
      "text/plain": [
       "<matplotlib.figure.Figure at 0x24518dc5ac8>"
      ]
     },
     "metadata": {},
     "output_type": "display_data"
    }
   ],
   "source": [
    "# Import pandas and seaborn, data science libraries\n",
    "import pandas as pd\n",
    "\n",
    "# Create a DataFrame, or a container of data, with odd numbers\n",
    "numbers = pd.DataFrame([1, 2, 3])\n",
    "\n",
    "# Plots the numbers DataFrame\n",
    "plt.plot(numbers)\n",
    "plt.title(\"numbers Line\") \n",
    "plt.xlabel(\"x-axis\")\n",
    "plt.ylabel(\"y-axis\")\n",
    "plt.show()"
   ]
  },
  {
   "cell_type": "markdown",
   "metadata": {},
   "source": [
    "---\n",
    "Notebook developed by: X, X, X\n",
    "\n",
    "Data Science Modules: http://data.berkeley.edu/education/modules\n"
   ]
  }
 ],
 "metadata": {
  "anaconda-cloud": {},
  "kernelspec": {
   "display_name": "Python 3",
   "language": "python",
   "name": "python3"
  },
  "language_info": {
   "codemirror_mode": {
    "name": "ipython",
    "version": 3
   },
   "file_extension": ".py",
   "mimetype": "text/x-python",
   "name": "python",
   "nbconvert_exporter": "python",
   "pygments_lexer": "ipython3",
   "version": "3.6.1"
  }
 },
 "nbformat": 4,
 "nbformat_minor": 1
}
