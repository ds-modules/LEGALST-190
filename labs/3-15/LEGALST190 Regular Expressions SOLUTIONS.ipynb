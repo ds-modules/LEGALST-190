{
 "cells": [
  {
   "cell_type": "markdown",
   "metadata": {},
   "source": [
    "# [LEGALST-190] Lab 3/15: Regular Expression\n",
    "\n",
    "This lab will cover the basics of regular expression: finding, extracting and manipulating pieces of text based on specific patterns within strings.\n",
    "\n",
    "*Estimated Time: 45 minutes*\n",
    "\n",
    "### Table of Contents\n",
    "\n",
    "[The Data](#section data)<br>\n",
    "\n",
    "[Overview](#section context)<br>\n",
    "\n",
    "0- [Matching with Regular Expressions](#section 0)<br>\n",
    "\n",
    "1 - [Introduction to Essential RegEx](#section 1)<br>\n",
    "\n",
    "&nbsp;&nbsp;&nbsp;&nbsp;&nbsp;&nbsp; 1 - [Special Characters](#subsection 1)\n",
    "\n",
    "&nbsp;&nbsp;&nbsp;&nbsp;&nbsp;&nbsp; 2 - [Quantifiers](#subsection 2)\n",
    "\n",
    "&nbsp;&nbsp;&nbsp;&nbsp;&nbsp;&nbsp; 3 - [Sets](#subsection 3)\n",
    "\n",
    "&nbsp;&nbsp;&nbsp;&nbsp;&nbsp;&nbsp; 4 - [Special Sequences](#subsection 4)\n",
    "\n",
    "&nbsp;&nbsp;&nbsp;&nbsp;&nbsp;&nbsp; 5 - [Groups and Logical OR](#subsection 4)\n",
    "\n",
    "2- [Python RegEx Methods](#section 2)<br>\n",
    "\n",
    "3 - [Valuation Extraction](#section 3)<br>"
   ]
  },
  {
   "cell_type": "markdown",
   "metadata": {},
   "source": [
    "## The Data <a id='data'></a>\n",
    "\n",
    "You will again be working with the Old Bailey data set to practice matching and manipulating pieces of the textual data.\n",
    "\n",
    "\n",
    "## Overview <a id='data'></a>\n",
    "Regular Expressions operations (\"RegEx\") are a very flexible version of the text search function that you find in most text processing software. In those regular search functions, you press `ctrl+F` (or `command+F`) and type in the search phrase you are looking for e.g. \"Congress\". If your software finds an exact match for your search phrase (\"Congress\"), it jumps to its position in the text and you can take it from there.\n",
    "\n",
    "Thinking a bit more abstractly about this, \"Congress\" is nothing else than a very specific search. In it, we ask the search function to report the position where it finds a capital \"C\" followed seven lower case letters (\"o\", \"n\", \"g\", \"r\", \"e\",\"s\",\"s\"), all in a specific order. Depending on your text, it may have been sufficient to let your search function look for all words starting with the captial letter \"C\", or for those words starting with \"C\" and ending with \"ess\". This kind of flexibility is exactly what RegEx provides.\n",
    "\n",
    "RegEx is more flexible than the customary search function as it does not restrict you to spell out the literal word, number or phrase you are looking for. Rather, in RegEx you can describe the necessary characteristics for a match. You can enter these characteristics based on rules and special characters that make RegEx what it is.\n",
    "\n",
    "Regular expressions are useful in a variety of applications, and can be used in different programs and programming languages. We will start by learning the general components of regular expressions, using a simple online tool, Regex101. Then at the end of the workshop, we'll learn how to use regular expressions to conduct devaluation exploration on the Old Bailey dataset - we will look at how often plaintiffs had the amount they were charged with stealing reduced when they were sentenced by matching valuations in the text such as 'value 8s 6p'.\n",
    "\n",
    "__IT IS IMPORTANT to have an experimental mindset as you go through today's practice problems.__ Practice and curiosity are the keys to success! Each indiviual character expression may output a simple pattern, but you will need to explore different combinations to match more and more complicated sets of strings. Feel free to go beyond what the questions ask and test different expressions as you work through this notebook.\n",
    "\n",
    "\n",
    "__Dependencies__: Run the cell below. We will go over what this python library does in the Python Methods section of this lab."
   ]
  },
  {
   "cell_type": "code",
   "execution_count": 3,
   "metadata": {
    "collapsed": true
   },
   "outputs": [],
   "source": [
    "import re"
   ]
  },
  {
   "cell_type": "markdown",
   "metadata": {},
   "source": [
    "---\n",
    "\n",
    "## Introduction to Essential RegEx<a id='section 1'></a>\n",
    "### 0. Matching with Regular Expressions <a id='subsection 0'></a>\n",
    "\n",
    "\n",
    "Before we dive into the different character expressions and their meanings, let's explore what it looks like to match some basic expressions. Open up [Regex101](https://regex101.com/r/Una9U7/4), an online Python regular expression editor. This editor will allow us to input any test string and practice using regular expressions while receiving verification and tips in real-time. There should already be an excerpt from the Old Bailey Set (edited, for the sake of practice problems) in the `Test String` box.\n",
    "\n",
    "You can think of the `Regular Expression` field like the familiar `ctrl+F` search box.\n",
    "Try typing in the following, one at a time, to the `Regular Expression` field:\n",
    "~~~ {.input}\n",
    "1. lowercase letter: d\n",
    "2. uppercase letter: D\n",
    "3. the word:  lady\n",
    "4. the word:  Lady\n",
    "5. the word:  our\n",
    "6. the word:  Our\n",
    "7. a single space\n",
    "8. a single period\n",
    "~~~\n",
    "\n",
    "__Question 1:__ What do you notice?\n",
    "\n",
    "__Your Answer:__"
   ]
  },
  {
   "cell_type": "markdown",
   "metadata": {},
   "source": [
    "*Write your Answer Here:*"
   ]
  },
  {
   "cell_type": "markdown",
   "metadata": {},
   "source": [
    "Note that:\n",
    "1. RegEx is case sensitive: it matches _exactly_ what you tell it to match.\n",
    "2. RegEx looks for the exact order of each character you input into the expression. In the entire text, it found 'our' in 'Hon`our`able' and 'F`our`score'. However, nowhere in the text was there the exact sequence of letters O-u-r starting with a capital 'O', so 'Our' doesn't match anything.\n",
    "3. The space character ` ` highlights all the single spaces in the text.\n",
    "4. the period character `.` matches all the characters in the text, not just the periods... why?\n",
    "\n",
    "This last question takes us now to what is called __special characters__.\n"
   ]
  },
  {
   "cell_type": "markdown",
   "metadata": {},
   "source": [
    "---\n",
    "### 1. Special Characters <a id='subsection 1'></a>\n",
    "\n",
    "Strings are composed of characters, and we are writing patterns to match specific sequences of characters.\n",
    "Various characters have special meaning in regular expressions. When we use these characters in an expression,\n",
    "we aren't matching the identical character, we're using the character as a placeholder for some other character(s)\n",
    "or part(s) of a string.\n",
    "\n",
    "\n",
    "~~~ {.input}\n",
    "\n",
    ".         any single character except newline character\n",
    "^         start of string\n",
    "$         end of entire string\n",
    "\\n        new line\n",
    "\\r        carriage return\n",
    "\\t        tab\n",
    "\n",
    "~~~\n",
    "\n",
    "Note: if you want to actually match a character that happens to be a special character, you have to escape it with a backslash\n",
    "`\\`.\n",
    "\n",
    "__Question 2:__ Try typing the following special characters into the `Regular Expression` field on the same Regex101 site. What happens\n",
    "when you type:\n",
    "\n",
    "1. `Samuel` vs. `^Samuel` vs. `Samuel$`?\n",
    "\n",
    "2. `.` vs. `\\.`\n",
    "\n",
    "3. `the` vs. `th.` vs. `th..` ?\n",
    "\n",
    "__Your Answer:__"
   ]
  },
  {
   "cell_type": "markdown",
   "metadata": {},
   "source": [
    "*Write your Answer Here*:\n",
    "\n",
    "1.\n",
    "\n",
    "2.\n",
    "\n",
    "3."
   ]
  },
  {
   "cell_type": "markdown",
   "metadata": {},
   "source": [
    "SOLUTION:\n",
    "~~~ {.input}\n",
    "1.\n",
    "`Samuel` will match all instances of the pattern `Samuel` in the text\n",
    "`^Samuel` will match only the instances of `Samuel` at the beginning of the text\n",
    "`Samuel$` will match only the instance of `Samuel` at the end of the text\n",
    "\n",
    "2.\n",
    "`.` matches all individual characters in the text \n",
    "`\\.` matches all periods in the text\n",
    "\n",
    "3.\n",
    "`the` matches all instances of the pattern `the` in the text\n",
    "`th.` matches all instances of patterns starting with `th` and ending in any character \n",
    "`th..` matches all instances of patterns starting with `th` any two characters follwing it\n",
    "~~~"
   ]
  },
  {
   "cell_type": "markdown",
   "metadata": {},
   "source": [
    "---\n",
    "### 2. Quantifiers<a id='subsection 2'></a>\n",
    "\n",
    "Some special characters refer to optional characters, to a specific number of characters, or to an open-ended\n",
    "number of characters matching the preceding pattern.\n",
    "\n",
    "~~~ {.input}\n",
    "*        0 or more of the preceding character/expression\n",
    "+        1 or more of the preceding character/expression\n",
    "?        0 or 1 of the preceding character/expression\n",
    "{n}      n copies of the preceding character/expression \n",
    "{n,m}    n to m copies of the preceding character/expression \n",
    "~~~\n",
    "\n",
    "\n",
    "__Question 3:__ For this question, click [here](https://regex101.com/r/ssAUXx/1) to open another Regex101 page.\n",
    "\n",
    "What do the expressions `of`, `of*`, `of+`, `of?`, `of{1}`, `of{1,2}` match? Remember that the quantifier only applies to the character *immediately* preceding it. For example, the `*` in `of*` applies only to the `f`, so the expression looks for a pattern starting with __exactly one__ `o` and __0 or more__ `f`'s.\n",
    "\n",
    "__Your Answer:__"
   ]
  },
  {
   "cell_type": "markdown",
   "metadata": {},
   "source": [
    "*Write your answer here:*"
   ]
  },
  {
   "cell_type": "markdown",
   "metadata": {},
   "source": [
    "SOLUTION:\n",
    "\n",
    "~~~ {.input}\n",
    "\n",
    "- `of`: matches all instances of the pattern `of` in the text\n",
    "- `of+`: matches all intances of a pattern starting with exactly one `o` and 1 or more `f`'s\n",
    "- `of?`: matches all instances of a pattern starting with exactly one `o` and at most one `f` after it.\n",
    "- `of{1}`: matches all instances of a pattern starting with exactly one `o` and exactly one `f`\n",
    "- `of{1,2}`: matches all instances of a pattern starting with exactly one `o` and 1 OR 2 `f`'s after it.\n",
    "\n",
    "~~~"
   ]
  },
  {
   "cell_type": "markdown",
   "metadata": {},
   "source": [
    "---\n",
    "### 3. Sets<a id='subsection 3'></a>\n",
    "\n",
    "A set by itself is merely a __collection__ of characters the computer may choose from to match a __single__ character in a pattern. We can define these sets of characters using `square brackets []`.\n",
    "\n",
    "Within a set of square brackets, you may list characters individually, e.g. `[aeiou]`, or in a range, e.g. `[A-Z]` (note that all regular expressions are case sensitive). \n",
    "\n",
    "\n",
    "You can also create a complement set by excluding certain characters, using `^` as the first character\n",
    "in the set. The set `[^A-Za-z]` will match any character except a letter. All other special characters loose\n",
    "their special meaning inside a set, so the set `[.?]` will look for a literal period or question mark.\n",
    "\n",
    "The set will match only one character contained within that set, so to find sequences of multiple characters from\n",
    "the same set, use a quantifier like `+` or a specific number or number range `{n,m}`.\n",
    "\n",
    "~~~ {.input}\n",
    "[0-9]        any numeric character\n",
    "[a-z]        any lowercase alphabetic character\n",
    "[A-Z]        any uppercase alphabetic character\n",
    "[aeiou]      any vowel (i.e. any character within the brackets)\n",
    "[0-9a-z]     to combine sets, list them one after another \n",
    "[^...]       exclude specific characters\n",
    "~~~\n",
    "\n",
    "__Question 4:__ Let's switch back to the excerpt from the Old Bailey data set (link [here](https://regex101.com/r/Una9U7/2) for convenience). Can you write a regular expression that matches __all consonants__ in the text string? \n",
    "\n",
    "__Your Answer:__"
   ]
  },
  {
   "cell_type": "code",
   "execution_count": 2,
   "metadata": {
    "collapsed": true
   },
   "outputs": [],
   "source": [
    "# YOUR EXPRESSION HERE"
   ]
  },
  {
   "cell_type": "code",
   "execution_count": null,
   "metadata": {
    "collapsed": true
   },
   "outputs": [],
   "source": [
    "#SOLUTION:\n",
    "[^aeiou]"
   ]
  },
  {
   "cell_type": "markdown",
   "metadata": {},
   "source": [
    "---\n",
    "\n",
    "### 4. Special sequences<a id='subsection 4'></a>\n",
    "\n",
    "If we want to define a set of all 26 characters of the alphabet, we would have to write an extremely long expression inside a square bracket. Fortunately, there are several special characters that denote special sequences. These begin with a `\\` followed by a letter.\n",
    "\n",
    "Note that the uppercase version is usually the complement of the lowercase version.\n",
    "\n",
    "~~~ {.input}\n",
    "\\d        Any digit\n",
    "\\D        Any non-digit character\n",
    "\\w        Any alphanumeric character [0-9a-zA-Z_] \n",
    "\\W        Any non-alphanumeric character\n",
    "\\s        Any whitespace (space, tab, new line)\n",
    "\\S        Any non-whitespace character\n",
    "\\b        Matches the beginning or end of a word (does not consume a character)\n",
    "\\B        Matches only when the position is not the beginning or end of a word (does not consume a character)\n",
    "~~~\n",
    "\n",
    "__Question 5:__ Write a regular expression that matches all numbers (without punctuation marks or spaces) in the Old Bailey excerpt. Make sure you are matching whole numbers (i.e. `250`) as opposed to individual digits within the number (i.e. `2`, `5`, `0`).\n",
    "\n",
    "__Your Answer:__"
   ]
  },
  {
   "cell_type": "code",
   "execution_count": null,
   "metadata": {
    "collapsed": true
   },
   "outputs": [],
   "source": [
    "# YOUR EXPRESSION HERE"
   ]
  },
  {
   "cell_type": "code",
   "execution_count": null,
   "metadata": {
    "collapsed": true
   },
   "outputs": [],
   "source": [
    "#SOLUTION\n",
    "\\d+"
   ]
  },
  {
   "cell_type": "markdown",
   "metadata": {},
   "source": [
    "__Question 6:__ Write a regular expression that matches all patterns with __at least__ 2 and __at most__ 3 digit and/or white space characters in the Old Bailey excerpt.\n",
    "\n",
    "__Your Answer:__"
   ]
  },
  {
   "cell_type": "code",
   "execution_count": null,
   "metadata": {
    "collapsed": true
   },
   "outputs": [],
   "source": [
    "#YOUR EXPRESSION HERE"
   ]
  },
  {
   "cell_type": "code",
   "execution_count": null,
   "metadata": {
    "collapsed": true
   },
   "outputs": [],
   "source": [
    "#Solution\n",
    "[\\d\\s]{2,3}"
   ]
  },
  {
   "cell_type": "markdown",
   "metadata": {},
   "source": [
    "---\n",
    "\n",
    "### 5. Groups and Logical OR<a id='subsection 5'></a>\n",
    "\n",
    "Parentheses are used to designate groups of characters, to aid in logical conditions, and to be able to retrieve the\n",
    "contents of certain groups separately.\n",
    "\n",
    "The pipe character `|` serves as a logical OR operator, to match the expression before or after the pipe. Group parentheses\n",
    "can be used to indicate which elements of the expression are being operated on by the `|`.\n",
    "\n",
    "~~~ {.input}\n",
    "|            Logical OR opeator\n",
    "(...)        Matches whatever regular expression is inside the parentheses, and notes the start and end of a group\n",
    "(this|that)  Matches the expression \"this\" or the expression \"that\"\n",
    "~~~\n",
    "\n",
    "__Question 7:__ Write an expression that matches groups of `Samuel` or `Prisoner` in the Old Bailey excerpt.\n",
    "\n",
    "__Your Answer:__"
   ]
  },
  {
   "cell_type": "code",
   "execution_count": 3,
   "metadata": {
    "collapsed": true
   },
   "outputs": [],
   "source": [
    "# YOUR EXPRESSION HERE"
   ]
  },
  {
   "cell_type": "code",
   "execution_count": null,
   "metadata": {
    "collapsed": true
   },
   "outputs": [],
   "source": [
    "#SOLUTION\n",
    "(Samuel|Prisoner)"
   ]
  },
  {
   "cell_type": "markdown",
   "metadata": {},
   "source": [
    "---"
   ]
  },
  {
   "cell_type": "markdown",
   "metadata": {},
   "source": [
    "## Python RegEx Methods <a id='section 2'></a>\n",
    "\n",
    "So how do we actually use RegEx for analysis in Python?\n",
    "\n",
    "Python has a RegEx library called `re` that contains various methods so we can manipulate text using RegEx. The following are some useful Python Methods we may use for text analysis:\n",
    "\n",
    "\n",
    "- ``.findall(pattern, string)``: Checks whether your pattern appears somewhere inside your text (including the start). If so, it returns all phrases that matched your pattern, but not their position.\n",
    "- ``.sub(pattern, repl, string)``: Return the string obtained by replacing the leftmost non-overlapping occurrences of pattern in string by the replacement repl.\n",
    "- ``.split(pattern, string)``: Split string by the occurrences of pattern. If capturing parentheses are used in pattern, then the text of all groups in the pattern are also returned as part of the resulting list.\n",
    "\n",
    "\n",
    "We will only be using the `.findall()` method for the purposes of today's lab, so don't worry if the functionality of each method isn't clear right now. If you are curious about all the module content within the `re` library, take a look at the [documentation for `re`](https://docs.python.org/2/library/re.html) on your own time!"
   ]
  },
  {
   "cell_type": "markdown",
   "metadata": {},
   "source": [
    "---\n",
    "\n",
    "## Extracting Valuation from Old Bailey  <a id='section 3'></a>\n",
    "\n",
    "Let's apply our new RegEx knowledge to extract all valuation information from the text!\n",
    "\n",
    "The next cell simply assigns a long string containing three separate theft cases to a variable called `old_bailey`. Within the text are valuations which indicate the worth of the items stolen. We will use this string, what we can observe about the format of valuation notes in the text, and what we just learned about regular expressions to __find all instances of valuations in the text__. \n",
    "\n",
    "Valuations will look something like: `val. 4 s. 6 d.`\n",
    "\n",
    "*Note:* British Currency before 1971 was divided into pounds (`l`), shillings (`s`), and pennies (`d`) - that's what the letters after the values represent. We want to make sure to keep the values and units together when extracting valuations.\n",
    "\n",
    "__STEP 1__: We will first write expression(s) that will match the valuations.\n",
    "Take a moment to look for a pattern you notice across the valuations:"
   ]
  },
  {
   "cell_type": "code",
   "execution_count": 10,
   "metadata": {
    "collapsed": true
   },
   "outputs": [],
   "source": [
    "old_bailey = \"\"\"\"Samuel Davis, of the Parish of St. James Westminster, was indicted for feloniously Stealing 58 Diamonds set in\n",
    "Silver gilt, value 250 l. the Goods of the Honourable Catherine Lady Herbert, on the 28th of July last. It appeared that the \n",
    "Jewels were put up in a Closet, which was lockt, and the Prisoner being a Coachman in the House, took his opportunity to take \n",
    "them; the Lady, when missing them, offered a Reward of Fourscore Pounds to any that could give any notice of it; upon enquiry, \n",
    "the Lady heard that a Diamond was sold on London-Bridge, and they described the Prisoner who sold it, and pursuing him, found \n",
    "the Prisoner at East-Ham, with all his Goods bundled up ready to be gone, and in his Trunk found all the Diamonds but one, which\n",
    "was found upon him in the Role of his Stocking, when searcht before the Justice. He denied the Fact, saying, He found them upon\n",
    "a great Heap of Rubbish, but could not prove it; and that being but a weak Excuse, the Jury found him guilty. \n",
    "\n",
    "John Emory, was \n",
    "indicted for stealing eleven crown pieces, twenty four half crowns, one Spanish piece, val. 4 s. 6 d. one silk purse, and \n",
    "4 s. 6 d. in silver, the goods of Ann Kempster, in the dwelling house of Walter Jones. December 17. Acquitted. He was a second\n",
    "time indicted for stealing one pair of stockings, val. 6 d. the goods of John Hilliard .\n",
    "\n",
    "GEORGE MORGAN was indicted for that he, about the hour of ten in the night of the 10th of December , being in the dwelling-house\n",
    "of George Brookes , feloniously did steal two hundred and three copper halfpence, five china bowls, value 30s. a tea-caddie, \n",
    "value 5s. a pound of green tea, value 8s. four glass rummers, value 2s. and a wooden drawer, called a till, value 6d. the \n",
    "property of the said George, and that he having committed the said felony about the hour of twelve at night, burglariously \n",
    "did break the dwelling-house of the said George to get out of the same.\"\"\""
   ]
  },
  {
   "cell_type": "markdown",
   "metadata": {},
   "source": [
    "You might notice that there are multiple ways in which valuations are noted. It can take the form:\n",
    "\n",
    "~~~ {.input}\n",
    "value 30s.\n",
    "val. 6 d.\n",
    "4 s. 6 d.\n",
    "~~~\n",
    "\n",
    "...and so on.\n",
    "\n",
    "Fortunately, we only care about the values and the associaed units, so the ommission or abbreviation of the word `value` can be ignored - we only care about:\n",
    "\n",
    "~~~ {.input}\n",
    "30s.\n",
    "6 d.\n",
    "4 s. 6 d.\n",
    "~~~\n",
    "\n",
    "Unfortunately, we can see that the format is still not consistent. The first one has no space between the number and unit, but the second and third do. The first and second have a single number and unit, but the third has two of each.\n",
    "\n",
    "How might you write an expression that would account for the variations in how valuations are written? Can you write a single regular expression that would match all the different forms of valuations exactly? Or do we need to have a few different expressions to account for these differnces, look for each pattern individually, and combine them somehow in the end?\n",
    "\n",
    "Real data is messy. When manipulating real data, you will inevitably encounter inconsistencies and you will need to ask yourself questions such as the above. You will have to figure out how to clean and/or work with the mess. \n",
    "\n",
    "With that in mind, click [here](https://regex101.com/r/2lal6d/1) to open up a new Regex101 with `old_bailey` already in the Test String. We will compose a regular expression, in three parts, that will account for all forms of valuations in the string above.\n",
    "\n",
    "__PART 1: Write an expression__ that matches __all__ valuations of the form `30s.` AND `6 d.`, but does not match _anything else_ (e.g. your expression should not match any dates). Try not to look at the hints on your first attempt! Save this expression __as a string__ in `exp1`.\n",
    "\n",
    "\n",
    "_Hint1:_ Notice the structure of valuations. It begins with a number, then an _optional_ space, then a single letter followed by a period.\n",
    "\n",
    "_Hint2:_ What _quantifier_ allows you to choose _0 or more of the previous character_?\n",
    "\n",
    "_Hint3:_ If you are still stuck, look back to the practice problems and see that we've explored/written expressions to match all components of this expression! It's just a matter of putting it together.\n"
   ]
  },
  {
   "cell_type": "code",
   "execution_count": null,
   "metadata": {
    "collapsed": true
   },
   "outputs": [],
   "source": [
    "#Your Expression Here\n",
    "exp1 = "
   ]
  },
  {
   "cell_type": "code",
   "execution_count": 34,
   "metadata": {
    "collapsed": true
   },
   "outputs": [],
   "source": [
    "#SOLUTION\n",
    "exp1 = '\\d+ ?[a-z]\\.'"
   ]
  },
  {
   "cell_type": "markdown",
   "metadata": {},
   "source": [
    "__PART 2:__ For the third case we found above, there are multiple values and units in the valuation. What can you add to what you came up with above so that we have another expression that matches this specific case? Save this expression as a string in `exp2`."
   ]
  },
  {
   "cell_type": "code",
   "execution_count": null,
   "metadata": {
    "collapsed": true
   },
   "outputs": [],
   "source": [
    "#Your Expression Here\n",
    "exp2 = ..."
   ]
  },
  {
   "cell_type": "code",
   "execution_count": 31,
   "metadata": {
    "collapsed": true
   },
   "outputs": [],
   "source": [
    "#SOLUTION\n",
    "exp2 = '\\d+ [a-z]\\. \\d+ [a-z]\\.'"
   ]
  },
  {
   "cell_type": "markdown",
   "metadata": {},
   "source": [
    "__PART 3:__ Now that you have expressions that account for the different valuation formats, combine it into one long expression that looks for (_hint_) one expression __OR__ the other. Set this expression to `final`. Be careful about the order in which you ask the computer to look for patterns (i.e. should it look for the shorter expression first, or the longer expression first?). Save this final expression as a string in `final`."
   ]
  },
  {
   "cell_type": "code",
   "execution_count": 26,
   "metadata": {
    "collapsed": true
   },
   "outputs": [],
   "source": [
    "#Your Expression Here\n",
    "final = "
   ]
  },
  {
   "cell_type": "code",
   "execution_count": 32,
   "metadata": {},
   "outputs": [],
   "source": [
    "#SOLUTION\n",
    "final = '\\d+ [a-z]\\. \\d+ [a-z]\\.|\\d+ ?[a-z]\\.'"
   ]
  },
  {
   "cell_type": "markdown",
   "metadata": {},
   "source": [
    "__STEP 2:__ Now that you have the right regular expression that would match our valuations, how would you use it to _extract_ all instances of valuations from the text saved in `old_bailey`?\n",
    "\n",
    "Remember, you need to input your regular expression as a __string__ into the method."
   ]
  },
  {
   "cell_type": "code",
   "execution_count": null,
   "metadata": {
    "collapsed": true
   },
   "outputs": [],
   "source": [
    "#Your Expression Here"
   ]
  },
  {
   "cell_type": "code",
   "execution_count": 33,
   "metadata": {},
   "outputs": [
    {
     "data": {
      "text/plain": [
       "['250 l.',\n",
       " '4 s. 6 d.',\n",
       " '4 s. 6 d.',\n",
       " '6 d.',\n",
       " '30s.',\n",
       " '5s.',\n",
       " '8s.',\n",
       " '2s.',\n",
       " '6d.']"
      ]
     },
     "execution_count": 33,
     "metadata": {},
     "output_type": "execute_result"
    }
   ],
   "source": [
    "#SOLUTION\n",
    "re.findall(final, old_bailey)"
   ]
  },
  {
   "cell_type": "markdown",
   "metadata": {},
   "source": [
    "__Congratulations!!__ You've successfully extracted all valuations from our sample. When you are extracting valuations from a larger text for your devaluation exploration, keep in mind all the possible variations in valuation that may not have been covered by our example above. You now have all the skills necessary to tweak the expression to account for such minor variations -- Good Luck!"
   ]
  },
  {
   "cell_type": "markdown",
   "metadata": {},
   "source": [
    "---\n",
    "\n",
    "## Bibliography"
   ]
  },
  {
   "cell_type": "markdown",
   "metadata": {},
   "source": [
    "- The Python Standard Library. (2018, February). Regular Expression Operations. https://docs.python.org/2/library/re.html\n",
    "- Bloy, Marjie. (2006, June). British Currency Before 2971. http://www.victorianweb.org/economics/currency.html\n",
    "- The Proceedings of the Old Bailey. https://www.oldbaileyonline.org/\n",
    "\n",
    "---\n",
    "\n",
    "Notebook Developed by: Keiko Kamei\n",
    "\n",
    "Data Science Modules: http://data.berkeley.edu/education/modules"
   ]
  }
 ],
 "metadata": {
  "anaconda-cloud": {},
  "kernelspec": {
   "display_name": "Python 3",
   "language": "python",
   "name": "python3"
  },
  "language_info": {
   "codemirror_mode": {
    "name": "ipython",
    "version": 3
   },
   "file_extension": ".py",
   "mimetype": "text/x-python",
   "name": "python",
   "nbconvert_exporter": "python",
   "pygments_lexer": "ipython3",
   "version": "3.6.3"
  }
 },
 "nbformat": 4,
 "nbformat_minor": 1
}
