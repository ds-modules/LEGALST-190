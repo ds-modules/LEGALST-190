{
 "cells": [
  {
   "cell_type": "markdown",
   "metadata": {},
   "source": [
    "# [3-22] Exploratory Data Analysis\n",
    "---\n",
    "<img src=\"https://upload.wikimedia.org/wikipedia/commons/b/ba/Data_visualization_process_v1.png\" style=\"width: 500px; height: 400px;\" />\n",
    "\n",
    "\n",
    "This lab covers the Tukey approach to exploratory data analysis, bringing together key concepts and skills from earlier in the course like data visualization and the train-test-validate split. We will also introduce dimensionality reduction in the form of Principal Components Analysis.\n",
    "\n",
    "*Estimated Time: 40 minutes*\n",
    "\n",
    "---\n",
    "\n",
    "### Table of Contents\n",
    "\n",
    "\n",
    "1 - [Intro to Exploratory Data Analysis](#section 1)<br>\n",
    "\n",
    "2 - [EDA and Visualization](#section 2)<br>\n",
    "\n",
    "3 - [Dimensionality Reduction](#section 3)<br>\n",
    "\n",
    "&nbsp;&nbsp;&nbsp;&nbsp;&nbsp;&nbsp; 1 - [Subsection 1](#subsection 1)\n",
    "\n",
    "\n",
    "\n",
    "**Dependencies:**"
   ]
  },
  {
   "cell_type": "code",
   "execution_count": 1,
   "metadata": {},
   "outputs": [],
   "source": [
    "import pandas as pd\n",
    "import numpy as np\n",
    "import matplotlib.pyplot as plt\n",
    "%matplotlib inline\n",
    "import nltk\n",
    "from sklearn.preprocessing import StandardScaler\n",
    "from sklearn.decomposition import PCA\n",
    "import seaborn as sns"
   ]
  },
  {
   "cell_type": "markdown",
   "metadata": {},
   "source": [
    "---\n",
    "## 1. Introduction to Exploratory Data Analysis <a id='section 1'></a>"
   ]
  },
  {
   "cell_type": "markdown",
   "metadata": {},
   "source": [
    "> \"It is important to understand what you CAN DO before you learn to measure how WELL you seem to have done it.\" -John W. Tukey, *Exploratory Data Analysis*\n",
    "\n",
    "Previous labs and many introductory data analysis classes like Data-8 focus on **Confirmatory Data Analysis (CDA)**: the use of statistical methods to see whether the data supports a given hypothesis or model. But, where does the hypothesis come from in the first place?\n",
    "\n",
    "**Exploratory Data Analysis (EDA)** is the process of 'looking at data to see what it seems to say'. Through this process, we hope to accomplish several things:\n",
    "- learn about the overall 'shape' of the data: structure, organization, ranges of values\n",
    "- assess what assumptions we can make about the data as a basis for later statistical inference\n",
    "- figure out the appropriate tools and techniques for analysis \n",
    "- tentatively create testable, appropriate hypotheses or models\n",
    "\n",
    "EDA is complementary to CDA- in fact, CDA is often only possible after having done EDA. This is clear when compared to the methods of natural sciences: a scientist's research starts with making observations about the world, which leads to questions about what they see. Only after observing and wondering can we begin to systematically test our hypotheses. Similarly, every data analysis project you do should begin with EDA.\n",
    "\n",
    "Today, we'll go through the EDA process for speech transcripts from [2016 US Presidential campaigns](http://www.presidency.ucsb.edu/2016_election.php). You'll use many coding skills from previous labs. And because EDA is an exploratory process, there are many ways to approach the code (we'll give some tips and guidance). "
   ]
  },
  {
   "cell_type": "code",
   "execution_count": 2,
   "metadata": {},
   "outputs": [
    {
     "data": {
      "text/html": [
       "<div>\n",
       "<style scoped>\n",
       "    .dataframe tbody tr th:only-of-type {\n",
       "        vertical-align: middle;\n",
       "    }\n",
       "\n",
       "    .dataframe tbody tr th {\n",
       "        vertical-align: top;\n",
       "    }\n",
       "\n",
       "    .dataframe thead th {\n",
       "        text-align: right;\n",
       "    }\n",
       "</style>\n",
       "<table border=\"1\" class=\"dataframe\">\n",
       "  <thead>\n",
       "    <tr style=\"text-align: right;\">\n",
       "      <th></th>\n",
       "      <th>Candidate</th>\n",
       "      <th>Party</th>\n",
       "      <th>Type</th>\n",
       "      <th>Date</th>\n",
       "      <th>Title</th>\n",
       "      <th>Text</th>\n",
       "    </tr>\n",
       "  </thead>\n",
       "  <tbody>\n",
       "    <tr>\n",
       "      <th>0</th>\n",
       "      <td>Jeb Bush</td>\n",
       "      <td>R</td>\n",
       "      <td>speech</td>\n",
       "      <td>June 15, 2015</td>\n",
       "      <td>Remarks Announcing Candidacy for President at ...</td>\n",
       "      <td>Thank you all very much. I always feel welcome...</td>\n",
       "    </tr>\n",
       "    <tr>\n",
       "      <th>1</th>\n",
       "      <td>Jeb Bush</td>\n",
       "      <td>R</td>\n",
       "      <td>speech</td>\n",
       "      <td>July 30, 2015</td>\n",
       "      <td>Remarks to the National Urban League Conferenc...</td>\n",
       "      <td>Thank you all very much. I appreciate your hos...</td>\n",
       "    </tr>\n",
       "    <tr>\n",
       "      <th>2</th>\n",
       "      <td>Jeb Bush</td>\n",
       "      <td>R</td>\n",
       "      <td>speech</td>\n",
       "      <td>August 11, 2015</td>\n",
       "      <td>Remarks at the Ronald Reagan Presidential Libr...</td>\n",
       "      <td>Thank you very much. It's good to be with all ...</td>\n",
       "    </tr>\n",
       "    <tr>\n",
       "      <th>3</th>\n",
       "      <td>Jeb Bush</td>\n",
       "      <td>R</td>\n",
       "      <td>speech</td>\n",
       "      <td>September 9, 2015</td>\n",
       "      <td>Remarks in Garner, North Carolina</td>\n",
       "      <td>Thank you very much. I appreciate your hospita...</td>\n",
       "    </tr>\n",
       "    <tr>\n",
       "      <th>4</th>\n",
       "      <td>Jeb Bush</td>\n",
       "      <td>R</td>\n",
       "      <td>speech</td>\n",
       "      <td>November 2, 2015</td>\n",
       "      <td>Remarks in Tampa, Florida</td>\n",
       "      <td>Thank you. It's great to be in Tampa with so m...</td>\n",
       "    </tr>\n",
       "  </tbody>\n",
       "</table>\n",
       "</div>"
      ],
      "text/plain": [
       "  Candidate Party    Type               Date  \\\n",
       "0  Jeb Bush     R  speech      June 15, 2015   \n",
       "1  Jeb Bush     R  speech      July 30, 2015   \n",
       "2  Jeb Bush     R  speech    August 11, 2015   \n",
       "3  Jeb Bush     R  speech  September 9, 2015   \n",
       "4  Jeb Bush     R  speech   November 2, 2015   \n",
       "\n",
       "                                               Title  \\\n",
       "0  Remarks Announcing Candidacy for President at ...   \n",
       "1  Remarks to the National Urban League Conferenc...   \n",
       "2  Remarks at the Ronald Reagan Presidential Libr...   \n",
       "3                  Remarks in Garner, North Carolina   \n",
       "4                          Remarks in Tampa, Florida   \n",
       "\n",
       "                                                Text  \n",
       "0  Thank you all very much. I always feel welcome...  \n",
       "1  Thank you all very much. I appreciate your hos...  \n",
       "2  Thank you very much. It's good to be with all ...  \n",
       "3  Thank you very much. I appreciate your hospita...  \n",
       "4  Thank you. It's great to be in Tampa with so m...  "
      ]
     },
     "execution_count": 2,
     "metadata": {},
     "output_type": "execute_result"
    }
   ],
   "source": [
    "# load the data\n",
    "campaign = pd.read_csv(\"data/campaign_2016.csv\", index_col=0)\n",
    "campaign.head()"
   ]
  },
  {
   "cell_type": "markdown",
   "metadata": {},
   "source": [
    "A handy way to get basic summary statistics about your data is using the `.describe()` method on your table. Other useful methods are:\n",
    "- `.unique()` to look at a column's unique values\n",
    "- `.value_counts()` to see how often a column's values occur.\n",
    "- `.isnull()` to screen for null values\n",
    "\n",
    "From these few methods, we can immediately see things that will affect future analysis options.\n"
   ]
  },
  {
   "cell_type": "code",
   "execution_count": 3,
   "metadata": {},
   "outputs": [
    {
     "data": {
      "text/html": [
       "<div>\n",
       "<style scoped>\n",
       "    .dataframe tbody tr th:only-of-type {\n",
       "        vertical-align: middle;\n",
       "    }\n",
       "\n",
       "    .dataframe tbody tr th {\n",
       "        vertical-align: top;\n",
       "    }\n",
       "\n",
       "    .dataframe thead th {\n",
       "        text-align: right;\n",
       "    }\n",
       "</style>\n",
       "<table border=\"1\" class=\"dataframe\">\n",
       "  <thead>\n",
       "    <tr style=\"text-align: right;\">\n",
       "      <th></th>\n",
       "      <th>Candidate</th>\n",
       "      <th>Party</th>\n",
       "      <th>Type</th>\n",
       "      <th>Date</th>\n",
       "      <th>Title</th>\n",
       "      <th>Text</th>\n",
       "    </tr>\n",
       "  </thead>\n",
       "  <tbody>\n",
       "    <tr>\n",
       "      <th>count</th>\n",
       "      <td>7485</td>\n",
       "      <td>7485</td>\n",
       "      <td>7485</td>\n",
       "      <td>7485</td>\n",
       "      <td>7485</td>\n",
       "      <td>7361</td>\n",
       "    </tr>\n",
       "    <tr>\n",
       "      <th>unique</th>\n",
       "      <td>21</td>\n",
       "      <td>2</td>\n",
       "      <td>3</td>\n",
       "      <td>1198</td>\n",
       "      <td>7320</td>\n",
       "      <td>7328</td>\n",
       "    </tr>\n",
       "    <tr>\n",
       "      <th>top</th>\n",
       "      <td>Hillary Clinton</td>\n",
       "      <td>R</td>\n",
       "      <td>press release</td>\n",
       "      <td>January 21, 2016</td>\n",
       "      <td>Statement from Hillary Clinton</td>\n",
       "      <td>To view this video please enable JavaScript, a...</td>\n",
       "    </tr>\n",
       "    <tr>\n",
       "      <th>freq</th>\n",
       "      <td>2504</td>\n",
       "      <td>4205</td>\n",
       "      <td>6214</td>\n",
       "      <td>34</td>\n",
       "      <td>18</td>\n",
       "      <td>10</td>\n",
       "    </tr>\n",
       "  </tbody>\n",
       "</table>\n",
       "</div>"
      ],
      "text/plain": [
       "               Candidate Party           Type              Date  \\\n",
       "count               7485  7485           7485              7485   \n",
       "unique                21     2              3              1198   \n",
       "top     Hillary Clinton      R  press release  January 21, 2016   \n",
       "freq                2504  4205           6214                34   \n",
       "\n",
       "                                 Title  \\\n",
       "count                             7485   \n",
       "unique                            7320   \n",
       "top     Statement from Hillary Clinton   \n",
       "freq                                18   \n",
       "\n",
       "                                                     Text  \n",
       "count                                                7361  \n",
       "unique                                               7328  \n",
       "top     To view this video please enable JavaScript, a...  \n",
       "freq                                                   10  "
      ]
     },
     "execution_count": 3,
     "metadata": {},
     "output_type": "execute_result"
    }
   ],
   "source": [
    "# use pandas methods to broadly examine the scope and values of the data\n",
    "\n",
    "# example: look at unique candidates\n",
    "campaign['Candidate'].unique()\n",
    "\n",
    "# example: look at duplicate texts\n",
    "campaign['Text'].value_counts()[campaign['Text'].value_counts() > 1]\n",
    "\n",
    "# example: look at null values\n",
    "campaign[campaign.isnull().any(axis=1)]\n",
    "\n",
    "# example: describe\n",
    "campaign.describe()"
   ]
  },
  {
   "cell_type": "markdown",
   "metadata": {},
   "source": [
    "__EXERCISE__:\n",
    "Name at least two issues seen using `describe`, `unique`, `value_counts`, and `isnull`. Why would each issue affect future analysis?\n",
    "Hint for analyzing `describe`: Which statistics would we expect to be the same for all columns, and are they actually the same? Which column would we expect 'count' to be different from 'unique', and are they?"
   ]
  },
  {
   "cell_type": "markdown",
   "metadata": {},
   "source": [
    "**ANSWER**\n",
    "1. There are 7485 records but only 7361 texts, and only 7328 unique texts. We would expect that every record should have a unique text. This implies there are null or duplicate values.\n",
    "2. A few texts are duplicated (included as both press releases and statements), which could give an erroneous view of the content or frequency of a candidate's speech\n",
    "4. There are 124 null-valued texts. From the titles, we can intuit that these are mostly videos. And, many of the duplicate texts also appear to be videos from their titles. This could affect text analysis: maybe politicians are more likely to talk to certain audiences or about certain topics using videos, which could skew our analysis"
   ]
  },
  {
   "cell_type": "markdown",
   "metadata": {},
   "source": [
    "As you can see, there are a handful of null values in the 'Text' column. Null values can mess up calculations and need to be dealt with by filling them with a dummy value or deleting the row. Because the null values are for text, and because we're most interested in the text content, we'll drop the offending rows. How you deal with null values will vary on a project-by-project basis.\n"
   ]
  },
  {
   "cell_type": "code",
   "execution_count": 4,
   "metadata": {},
   "outputs": [],
   "source": [
    "# drop the null-valued rows with dropna\n",
    "campaign.dropna(inplace=True)\n"
   ]
  },
  {
   "cell_type": "markdown",
   "metadata": {},
   "source": [
    "### Feature extraction\n",
    "Many of numpy and pandas' summary and aggregation methods are built for numerical data, not text. To better understand our data, we use **feature extraction** to create features from transformations of the input features. Some useful features for text would be:\n",
    "- the number of characters per text\n",
    "- the number of words per text\n",
    "- the number of sentences per text\n",
    "- the average length of words per text\n",
    "- the average length of sentences per text\n",
    "\n",
    "You'll find nltk methods like `sent_tokenize` and `word_tokenize` useful (remember the 3/1 lab?). You can also easily use pandas [str methods](https://pandas.pydata.org/pandas-docs/stable/text.html#method-summary).\n",
    "\n",
    "Note: During EDA, it is always best practice to clearly document what transformations you did, and to add transformed data in new columns rather than transforming the data in place. This will save you a lot of trouble if you need to refer to the original data in the future!"
   ]
  },
  {
   "cell_type": "code",
   "execution_count": 5,
   "metadata": {},
   "outputs": [],
   "source": [
    "# extract features from the text data\n",
    "campaign['clean_text'] = campaign['Text'].str.lower()\n",
    "campaign['words'] = campaign['clean_text'].apply(nltk.word_tokenize)\n",
    "campaign['sentences'] = campaign['clean_text'].apply(nltk.sent_tokenize)\n"
   ]
  },
  {
   "cell_type": "code",
   "execution_count": 6,
   "metadata": {},
   "outputs": [],
   "source": [
    "campaign['char_count'] = campaign['clean_text'].str.len()\n",
    "campaign['word_count'] = campaign['words'].str.len()\n",
    "campaign['sentence_count'] = campaign['sentences'].str.len()\n",
    "campaign['avg_word_length'] = campaign['char_count'] / campaign['word_count']\n",
    "campaign['avg_sentence_length'] = campaign['word_count'] / campaign['sentence_count']"
   ]
  },
  {
   "cell_type": "markdown",
   "metadata": {},
   "source": [
    "The 'Date' column currently stores dates as strings, which we can't easily compare on a graph. Fortunately, pandas has a **datetime** object that can be easily ordered. Add a column containing string dates that have been transformed into datetime objects. [There's a function](https://pandas.pydata.org/pandas-docs/stable/generated/pandas.to_datetime.html) that might be helpful here..."
   ]
  },
  {
   "cell_type": "code",
   "execution_count": 7,
   "metadata": {
    "scrolled": true
   },
   "outputs": [
    {
     "data": {
      "text/html": [
       "<div>\n",
       "<style scoped>\n",
       "    .dataframe tbody tr th:only-of-type {\n",
       "        vertical-align: middle;\n",
       "    }\n",
       "\n",
       "    .dataframe tbody tr th {\n",
       "        vertical-align: top;\n",
       "    }\n",
       "\n",
       "    .dataframe thead th {\n",
       "        text-align: right;\n",
       "    }\n",
       "</style>\n",
       "<table border=\"1\" class=\"dataframe\">\n",
       "  <thead>\n",
       "    <tr style=\"text-align: right;\">\n",
       "      <th></th>\n",
       "      <th>Candidate</th>\n",
       "      <th>Party</th>\n",
       "      <th>Type</th>\n",
       "      <th>Date</th>\n",
       "      <th>Title</th>\n",
       "      <th>Text</th>\n",
       "      <th>clean_text</th>\n",
       "      <th>words</th>\n",
       "      <th>sentences</th>\n",
       "      <th>char_count</th>\n",
       "      <th>word_count</th>\n",
       "      <th>sentence_count</th>\n",
       "      <th>avg_word_length</th>\n",
       "      <th>avg_sentence_length</th>\n",
       "      <th>datetime</th>\n",
       "    </tr>\n",
       "  </thead>\n",
       "  <tbody>\n",
       "    <tr>\n",
       "      <th>0</th>\n",
       "      <td>Jeb Bush</td>\n",
       "      <td>R</td>\n",
       "      <td>speech</td>\n",
       "      <td>June 15, 2015</td>\n",
       "      <td>Remarks Announcing Candidacy for President at ...</td>\n",
       "      <td>Thank you all very much. I always feel welcome...</td>\n",
       "      <td>thank you all very much. i always feel welcome...</td>\n",
       "      <td>[thank, you, all, very, much, ., i, always, fe...</td>\n",
       "      <td>[thank you all very much., i always feel welco...</td>\n",
       "      <td>12383</td>\n",
       "      <td>2338</td>\n",
       "      <td>47</td>\n",
       "      <td>5.296407</td>\n",
       "      <td>49.744681</td>\n",
       "      <td>2015-06-15</td>\n",
       "    </tr>\n",
       "    <tr>\n",
       "      <th>1</th>\n",
       "      <td>Jeb Bush</td>\n",
       "      <td>R</td>\n",
       "      <td>speech</td>\n",
       "      <td>July 30, 2015</td>\n",
       "      <td>Remarks to the National Urban League Conferenc...</td>\n",
       "      <td>Thank you all very much. I appreciate your hos...</td>\n",
       "      <td>thank you all very much. i appreciate your hos...</td>\n",
       "      <td>[thank, you, all, very, much, ., i, appreciate...</td>\n",
       "      <td>[thank you all very much., i appreciate your h...</td>\n",
       "      <td>14457</td>\n",
       "      <td>2867</td>\n",
       "      <td>126</td>\n",
       "      <td>5.042553</td>\n",
       "      <td>22.753968</td>\n",
       "      <td>2015-07-30</td>\n",
       "    </tr>\n",
       "    <tr>\n",
       "      <th>2</th>\n",
       "      <td>Jeb Bush</td>\n",
       "      <td>R</td>\n",
       "      <td>speech</td>\n",
       "      <td>August 11, 2015</td>\n",
       "      <td>Remarks at the Ronald Reagan Presidential Libr...</td>\n",
       "      <td>Thank you very much. It's good to be with all ...</td>\n",
       "      <td>thank you very much. it's good to be with all ...</td>\n",
       "      <td>[thank, you, very, much, ., it, 's, good, to, ...</td>\n",
       "      <td>[thank you very much., it's good to be with al...</td>\n",
       "      <td>21283</td>\n",
       "      <td>4061</td>\n",
       "      <td>132</td>\n",
       "      <td>5.240827</td>\n",
       "      <td>30.765152</td>\n",
       "      <td>2015-08-11</td>\n",
       "    </tr>\n",
       "    <tr>\n",
       "      <th>3</th>\n",
       "      <td>Jeb Bush</td>\n",
       "      <td>R</td>\n",
       "      <td>speech</td>\n",
       "      <td>September 9, 2015</td>\n",
       "      <td>Remarks in Garner, North Carolina</td>\n",
       "      <td>Thank you very much. I appreciate your hospita...</td>\n",
       "      <td>thank you very much. i appreciate your hospita...</td>\n",
       "      <td>[thank, you, very, much, ., i, appreciate, you...</td>\n",
       "      <td>[thank you very much., i appreciate your hospi...</td>\n",
       "      <td>10049</td>\n",
       "      <td>2030</td>\n",
       "      <td>92</td>\n",
       "      <td>4.950246</td>\n",
       "      <td>22.065217</td>\n",
       "      <td>2015-09-09</td>\n",
       "    </tr>\n",
       "    <tr>\n",
       "      <th>4</th>\n",
       "      <td>Jeb Bush</td>\n",
       "      <td>R</td>\n",
       "      <td>speech</td>\n",
       "      <td>November 2, 2015</td>\n",
       "      <td>Remarks in Tampa, Florida</td>\n",
       "      <td>Thank you. It's great to be in Tampa with so m...</td>\n",
       "      <td>thank you. it's great to be in tampa with so m...</td>\n",
       "      <td>[thank, you, ., it, 's, great, to, be, in, tam...</td>\n",
       "      <td>[thank you., it's great to be in tampa with so...</td>\n",
       "      <td>14189</td>\n",
       "      <td>2564</td>\n",
       "      <td>37</td>\n",
       "      <td>5.533931</td>\n",
       "      <td>69.297297</td>\n",
       "      <td>2015-11-02</td>\n",
       "    </tr>\n",
       "  </tbody>\n",
       "</table>\n",
       "</div>"
      ],
      "text/plain": [
       "  Candidate Party    Type               Date  \\\n",
       "0  Jeb Bush     R  speech      June 15, 2015   \n",
       "1  Jeb Bush     R  speech      July 30, 2015   \n",
       "2  Jeb Bush     R  speech    August 11, 2015   \n",
       "3  Jeb Bush     R  speech  September 9, 2015   \n",
       "4  Jeb Bush     R  speech   November 2, 2015   \n",
       "\n",
       "                                               Title  \\\n",
       "0  Remarks Announcing Candidacy for President at ...   \n",
       "1  Remarks to the National Urban League Conferenc...   \n",
       "2  Remarks at the Ronald Reagan Presidential Libr...   \n",
       "3                  Remarks in Garner, North Carolina   \n",
       "4                          Remarks in Tampa, Florida   \n",
       "\n",
       "                                                Text  \\\n",
       "0  Thank you all very much. I always feel welcome...   \n",
       "1  Thank you all very much. I appreciate your hos...   \n",
       "2  Thank you very much. It's good to be with all ...   \n",
       "3  Thank you very much. I appreciate your hospita...   \n",
       "4  Thank you. It's great to be in Tampa with so m...   \n",
       "\n",
       "                                          clean_text  \\\n",
       "0  thank you all very much. i always feel welcome...   \n",
       "1  thank you all very much. i appreciate your hos...   \n",
       "2  thank you very much. it's good to be with all ...   \n",
       "3  thank you very much. i appreciate your hospita...   \n",
       "4  thank you. it's great to be in tampa with so m...   \n",
       "\n",
       "                                               words  \\\n",
       "0  [thank, you, all, very, much, ., i, always, fe...   \n",
       "1  [thank, you, all, very, much, ., i, appreciate...   \n",
       "2  [thank, you, very, much, ., it, 's, good, to, ...   \n",
       "3  [thank, you, very, much, ., i, appreciate, you...   \n",
       "4  [thank, you, ., it, 's, great, to, be, in, tam...   \n",
       "\n",
       "                                           sentences  char_count  word_count  \\\n",
       "0  [thank you all very much., i always feel welco...       12383        2338   \n",
       "1  [thank you all very much., i appreciate your h...       14457        2867   \n",
       "2  [thank you very much., it's good to be with al...       21283        4061   \n",
       "3  [thank you very much., i appreciate your hospi...       10049        2030   \n",
       "4  [thank you., it's great to be in tampa with so...       14189        2564   \n",
       "\n",
       "   sentence_count  avg_word_length  avg_sentence_length   datetime  \n",
       "0              47         5.296407            49.744681 2015-06-15  \n",
       "1             126         5.042553            22.753968 2015-07-30  \n",
       "2             132         5.240827            30.765152 2015-08-11  \n",
       "3              92         4.950246            22.065217 2015-09-09  \n",
       "4              37         5.533931            69.297297 2015-11-02  "
      ]
     },
     "execution_count": 7,
     "metadata": {},
     "output_type": "execute_result"
    }
   ],
   "source": [
    "# convert the 'Date' column to type datetime\n",
    "campaign['datetime'] = pd.to_datetime(campaign['Date'])\n",
    "campaign.head()"
   ]
  },
  {
   "cell_type": "markdown",
   "metadata": {},
   "source": [
    "We also might be interested in seeing how candidates use particular words. Using a for loop, create a new column for each topic word containing the number of times the word is used in each text.\n",
    "\n",
    "Hint: take a look at pandas str methods"
   ]
  },
  {
   "cell_type": "code",
   "execution_count": 8,
   "metadata": {},
   "outputs": [],
   "source": [
    "# create list of possible topics\n",
    "topics = ['nuclear', 'peace', ' war',\n",
    "          'north korea', 'russia', 'terror', 'fake news', 'email',\n",
    "          ' poverty', ' human rights', ' abortion', ' refugee', ' immigration',\n",
    "          'equality', ' democracy', ' freedom', 'vote', 'energy', 'oil',  'coal',  ' income',\n",
    "          'economy', 'growth', 'inflation', 'climate change', 'security',\n",
    "          'cyber', 'trade', 'inequality', 'pollution', 'global warming',\n",
    "          'education', 'health', 'infrastructure', 'regulation', 'nutrition', 'transportation',\n",
    "          'violence', 'agriculture', 'crime', 'drugs', 'obesity',\n",
    "          'islam', 'housing', 'sustainable']\n",
    "\n",
    "\n",
    "for i in topics:    \n",
    "    campaign[i] = campaign['clean_text'].str.count(i)\n",
    "\n"
   ]
  },
  {
   "cell_type": "markdown",
   "metadata": {},
   "source": [
    "Now that we have numerical data, try using `describe()` again. What's changed now that there's numerical data? What else can you say about this data set?"
   ]
  },
  {
   "cell_type": "code",
   "execution_count": 9,
   "metadata": {},
   "outputs": [
    {
     "data": {
      "text/html": [
       "<div>\n",
       "<style scoped>\n",
       "    .dataframe tbody tr th:only-of-type {\n",
       "        vertical-align: middle;\n",
       "    }\n",
       "\n",
       "    .dataframe tbody tr th {\n",
       "        vertical-align: top;\n",
       "    }\n",
       "\n",
       "    .dataframe thead th {\n",
       "        text-align: right;\n",
       "    }\n",
       "</style>\n",
       "<table border=\"1\" class=\"dataframe\">\n",
       "  <thead>\n",
       "    <tr style=\"text-align: right;\">\n",
       "      <th></th>\n",
       "      <th>char_count</th>\n",
       "      <th>word_count</th>\n",
       "      <th>sentence_count</th>\n",
       "      <th>avg_word_length</th>\n",
       "      <th>avg_sentence_length</th>\n",
       "      <th>nuclear</th>\n",
       "      <th>peace</th>\n",
       "      <th>war</th>\n",
       "      <th>north korea</th>\n",
       "      <th>russia</th>\n",
       "      <th>...</th>\n",
       "      <th>nutrition</th>\n",
       "      <th>transportation</th>\n",
       "      <th>violence</th>\n",
       "      <th>agriculture</th>\n",
       "      <th>crime</th>\n",
       "      <th>drugs</th>\n",
       "      <th>obesity</th>\n",
       "      <th>islam</th>\n",
       "      <th>housing</th>\n",
       "      <th>sustainable</th>\n",
       "    </tr>\n",
       "  </thead>\n",
       "  <tbody>\n",
       "    <tr>\n",
       "      <th>count</th>\n",
       "      <td>7361.000000</td>\n",
       "      <td>7361.000000</td>\n",
       "      <td>7361.000000</td>\n",
       "      <td>7361.000000</td>\n",
       "      <td>7361.000000</td>\n",
       "      <td>7361.000000</td>\n",
       "      <td>7361.000000</td>\n",
       "      <td>7361.000000</td>\n",
       "      <td>7361.000000</td>\n",
       "      <td>7361.000000</td>\n",
       "      <td>...</td>\n",
       "      <td>7361.000000</td>\n",
       "      <td>7361.000000</td>\n",
       "      <td>7361.000000</td>\n",
       "      <td>7361.000000</td>\n",
       "      <td>7361.000000</td>\n",
       "      <td>7361.000000</td>\n",
       "      <td>7361.000000</td>\n",
       "      <td>7361.000000</td>\n",
       "      <td>7361.000000</td>\n",
       "      <td>7361.000000</td>\n",
       "    </tr>\n",
       "    <tr>\n",
       "      <th>mean</th>\n",
       "      <td>3142.044559</td>\n",
       "      <td>595.762532</td>\n",
       "      <td>21.988453</td>\n",
       "      <td>5.409724</td>\n",
       "      <td>33.379786</td>\n",
       "      <td>0.144274</td>\n",
       "      <td>0.088439</td>\n",
       "      <td>0.474528</td>\n",
       "      <td>0.019698</td>\n",
       "      <td>0.116017</td>\n",
       "      <td>...</td>\n",
       "      <td>0.005298</td>\n",
       "      <td>0.033284</td>\n",
       "      <td>0.088439</td>\n",
       "      <td>0.023366</td>\n",
       "      <td>0.083684</td>\n",
       "      <td>0.047140</td>\n",
       "      <td>0.002038</td>\n",
       "      <td>0.115338</td>\n",
       "      <td>0.101481</td>\n",
       "      <td>0.017117</td>\n",
       "    </tr>\n",
       "    <tr>\n",
       "      <th>std</th>\n",
       "      <td>5218.204517</td>\n",
       "      <td>1047.590364</td>\n",
       "      <td>48.881131</td>\n",
       "      <td>0.523387</td>\n",
       "      <td>32.810391</td>\n",
       "      <td>1.062502</td>\n",
       "      <td>0.728629</td>\n",
       "      <td>2.087992</td>\n",
       "      <td>0.368263</td>\n",
       "      <td>1.537614</td>\n",
       "      <td>...</td>\n",
       "      <td>0.092367</td>\n",
       "      <td>0.285721</td>\n",
       "      <td>0.566912</td>\n",
       "      <td>0.296717</td>\n",
       "      <td>0.823108</td>\n",
       "      <td>0.420378</td>\n",
       "      <td>0.050768</td>\n",
       "      <td>0.778366</td>\n",
       "      <td>0.743924</td>\n",
       "      <td>0.162288</td>\n",
       "    </tr>\n",
       "    <tr>\n",
       "      <th>min</th>\n",
       "      <td>3.000000</td>\n",
       "      <td>1.000000</td>\n",
       "      <td>1.000000</td>\n",
       "      <td>3.000000</td>\n",
       "      <td>1.000000</td>\n",
       "      <td>0.000000</td>\n",
       "      <td>0.000000</td>\n",
       "      <td>0.000000</td>\n",
       "      <td>0.000000</td>\n",
       "      <td>0.000000</td>\n",
       "      <td>...</td>\n",
       "      <td>0.000000</td>\n",
       "      <td>0.000000</td>\n",
       "      <td>0.000000</td>\n",
       "      <td>0.000000</td>\n",
       "      <td>0.000000</td>\n",
       "      <td>0.000000</td>\n",
       "      <td>0.000000</td>\n",
       "      <td>0.000000</td>\n",
       "      <td>0.000000</td>\n",
       "      <td>0.000000</td>\n",
       "    </tr>\n",
       "    <tr>\n",
       "      <th>25%</th>\n",
       "      <td>967.000000</td>\n",
       "      <td>180.000000</td>\n",
       "      <td>6.000000</td>\n",
       "      <td>5.134228</td>\n",
       "      <td>22.923077</td>\n",
       "      <td>0.000000</td>\n",
       "      <td>0.000000</td>\n",
       "      <td>0.000000</td>\n",
       "      <td>0.000000</td>\n",
       "      <td>0.000000</td>\n",
       "      <td>...</td>\n",
       "      <td>0.000000</td>\n",
       "      <td>0.000000</td>\n",
       "      <td>0.000000</td>\n",
       "      <td>0.000000</td>\n",
       "      <td>0.000000</td>\n",
       "      <td>0.000000</td>\n",
       "      <td>0.000000</td>\n",
       "      <td>0.000000</td>\n",
       "      <td>0.000000</td>\n",
       "      <td>0.000000</td>\n",
       "    </tr>\n",
       "    <tr>\n",
       "      <th>50%</th>\n",
       "      <td>1698.000000</td>\n",
       "      <td>313.000000</td>\n",
       "      <td>11.000000</td>\n",
       "      <td>5.407273</td>\n",
       "      <td>28.142857</td>\n",
       "      <td>0.000000</td>\n",
       "      <td>0.000000</td>\n",
       "      <td>0.000000</td>\n",
       "      <td>0.000000</td>\n",
       "      <td>0.000000</td>\n",
       "      <td>...</td>\n",
       "      <td>0.000000</td>\n",
       "      <td>0.000000</td>\n",
       "      <td>0.000000</td>\n",
       "      <td>0.000000</td>\n",
       "      <td>0.000000</td>\n",
       "      <td>0.000000</td>\n",
       "      <td>0.000000</td>\n",
       "      <td>0.000000</td>\n",
       "      <td>0.000000</td>\n",
       "      <td>0.000000</td>\n",
       "    </tr>\n",
       "    <tr>\n",
       "      <th>75%</th>\n",
       "      <td>2898.000000</td>\n",
       "      <td>533.000000</td>\n",
       "      <td>18.000000</td>\n",
       "      <td>5.651852</td>\n",
       "      <td>35.666667</td>\n",
       "      <td>0.000000</td>\n",
       "      <td>0.000000</td>\n",
       "      <td>0.000000</td>\n",
       "      <td>0.000000</td>\n",
       "      <td>0.000000</td>\n",
       "      <td>...</td>\n",
       "      <td>0.000000</td>\n",
       "      <td>0.000000</td>\n",
       "      <td>0.000000</td>\n",
       "      <td>0.000000</td>\n",
       "      <td>0.000000</td>\n",
       "      <td>0.000000</td>\n",
       "      <td>0.000000</td>\n",
       "      <td>0.000000</td>\n",
       "      <td>0.000000</td>\n",
       "      <td>0.000000</td>\n",
       "    </tr>\n",
       "    <tr>\n",
       "      <th>max</th>\n",
       "      <td>81556.000000</td>\n",
       "      <td>15966.000000</td>\n",
       "      <td>877.000000</td>\n",
       "      <td>23.000000</td>\n",
       "      <td>1669.000000</td>\n",
       "      <td>31.000000</td>\n",
       "      <td>29.000000</td>\n",
       "      <td>88.000000</td>\n",
       "      <td>22.000000</td>\n",
       "      <td>79.000000</td>\n",
       "      <td>...</td>\n",
       "      <td>4.000000</td>\n",
       "      <td>10.000000</td>\n",
       "      <td>16.000000</td>\n",
       "      <td>15.000000</td>\n",
       "      <td>54.000000</td>\n",
       "      <td>13.000000</td>\n",
       "      <td>2.000000</td>\n",
       "      <td>21.000000</td>\n",
       "      <td>22.000000</td>\n",
       "      <td>5.000000</td>\n",
       "    </tr>\n",
       "  </tbody>\n",
       "</table>\n",
       "<p>8 rows × 50 columns</p>\n",
       "</div>"
      ],
      "text/plain": [
       "         char_count    word_count  sentence_count  avg_word_length  \\\n",
       "count   7361.000000   7361.000000     7361.000000      7361.000000   \n",
       "mean    3142.044559    595.762532       21.988453         5.409724   \n",
       "std     5218.204517   1047.590364       48.881131         0.523387   \n",
       "min        3.000000      1.000000        1.000000         3.000000   \n",
       "25%      967.000000    180.000000        6.000000         5.134228   \n",
       "50%     1698.000000    313.000000       11.000000         5.407273   \n",
       "75%     2898.000000    533.000000       18.000000         5.651852   \n",
       "max    81556.000000  15966.000000      877.000000        23.000000   \n",
       "\n",
       "       avg_sentence_length      nuclear        peace          war  \\\n",
       "count          7361.000000  7361.000000  7361.000000  7361.000000   \n",
       "mean             33.379786     0.144274     0.088439     0.474528   \n",
       "std              32.810391     1.062502     0.728629     2.087992   \n",
       "min               1.000000     0.000000     0.000000     0.000000   \n",
       "25%              22.923077     0.000000     0.000000     0.000000   \n",
       "50%              28.142857     0.000000     0.000000     0.000000   \n",
       "75%              35.666667     0.000000     0.000000     0.000000   \n",
       "max            1669.000000    31.000000    29.000000    88.000000   \n",
       "\n",
       "       north korea       russia     ...         nutrition  transportation  \\\n",
       "count  7361.000000  7361.000000     ...       7361.000000     7361.000000   \n",
       "mean      0.019698     0.116017     ...          0.005298        0.033284   \n",
       "std       0.368263     1.537614     ...          0.092367        0.285721   \n",
       "min       0.000000     0.000000     ...          0.000000        0.000000   \n",
       "25%       0.000000     0.000000     ...          0.000000        0.000000   \n",
       "50%       0.000000     0.000000     ...          0.000000        0.000000   \n",
       "75%       0.000000     0.000000     ...          0.000000        0.000000   \n",
       "max      22.000000    79.000000     ...          4.000000       10.000000   \n",
       "\n",
       "          violence  agriculture        crime        drugs      obesity  \\\n",
       "count  7361.000000  7361.000000  7361.000000  7361.000000  7361.000000   \n",
       "mean      0.088439     0.023366     0.083684     0.047140     0.002038   \n",
       "std       0.566912     0.296717     0.823108     0.420378     0.050768   \n",
       "min       0.000000     0.000000     0.000000     0.000000     0.000000   \n",
       "25%       0.000000     0.000000     0.000000     0.000000     0.000000   \n",
       "50%       0.000000     0.000000     0.000000     0.000000     0.000000   \n",
       "75%       0.000000     0.000000     0.000000     0.000000     0.000000   \n",
       "max      16.000000    15.000000    54.000000    13.000000     2.000000   \n",
       "\n",
       "             islam      housing  sustainable  \n",
       "count  7361.000000  7361.000000  7361.000000  \n",
       "mean      0.115338     0.101481     0.017117  \n",
       "std       0.778366     0.743924     0.162288  \n",
       "min       0.000000     0.000000     0.000000  \n",
       "25%       0.000000     0.000000     0.000000  \n",
       "50%       0.000000     0.000000     0.000000  \n",
       "75%       0.000000     0.000000     0.000000  \n",
       "max      21.000000    22.000000     5.000000  \n",
       "\n",
       "[8 rows x 50 columns]"
      ]
     },
     "execution_count": 9,
     "metadata": {},
     "output_type": "execute_result"
    }
   ],
   "source": [
    "campaign.describe()"
   ]
  },
  {
   "cell_type": "markdown",
   "metadata": {},
   "source": [
    "## 2. EDA and Visualization <a id='section 2'></a>"
   ]
  },
  {
   "cell_type": "markdown",
   "metadata": {},
   "source": [
    "> \"The greatest value of a picture is when it *forces* us to notice what we never expected to see.\" - John W. Tukey, *Exploratory Data Analysis*\n",
    "\n",
    "Our data set contains almost 7500 records, which is difficult for our brains to parse as a whole. And, this would be considered a fairly small data set by most data science standards. Visualizations are an important tool for summarizing and understanding a data set.\n",
    "\n",
    "In EDA, we're often interested in a few characteristics:\n",
    "- where the data is centered (the mean or median)\n",
    "- how much the data varies from the mean (the spread/variance/standard deviation)\n",
    "- outliers (the min and max)\n",
    "\n",
    "The **box plot** is a useful way to visualize all of these things.\n",
    "<img src=\"https://upload.wikimedia.org/wikipedia/commons/thumb/d/d1/Elements_of_a_boxplot_en.svg/640px-Elements_of_a_boxplot_en.svg.png\" />\n",
    "The rectangular box of the plot holds 50% of the data points. The bottom of the box represents the point that is higher in value than 25% of the data (the lower quartile), and the top of the box represents the point that is higher than 75% of the data (the upper quartile). The whiskers extend on each side to the lowest data point that is within 1.5 times the length of the box (the inter-quartile range, or IQR). All points farther out are graphed as circles (the outliers).\n",
    "\n",
    "We can make box plots with `plt.boxplot`:"
   ]
  },
  {
   "cell_type": "code",
   "execution_count": 11,
   "metadata": {},
   "outputs": [
    {
     "data": {
      "image/png": "[encoded data removed]",
      "text/plain": [
       "<matplotlib.figure.Figure at 0x136325979b0>"
      ]
     },
     "metadata": {},
     "output_type": "display_data"
    }
   ],
   "source": [
    "# make a box plot of the word counts\n",
    "plt.boxplot(campaign['word_count'])\n",
    "plt.ylabel('number words')\n",
    "plt.title('Word Counts');"
   ]
  },
  {
   "cell_type": "markdown",
   "metadata": {},
   "source": [
    "That's an awfully scrunched-up box plot! We can see that over half of our texts contain less than a thousand words, but many texts contain several times that. \n",
    "\n",
    "It may be helpful to sort out the different types of texts. Create a dataframe that only has type 'speech', and another dataframe that only has type 'statement'. Then, make a box plot for each. Compare the box plots for word counts to those for word length, sentence length, or character count."
   ]
  },
  {
   "cell_type": "code",
   "execution_count": 12,
   "metadata": {},
   "outputs": [
    {
     "data": {
      "image/png": "[encoded data removed]",
      "text/plain": [
       "<matplotlib.figure.Figure at 0x13632604278>"
      ]
     },
     "metadata": {},
     "output_type": "display_data"
    }
   ],
   "source": [
    "speeches = campaign[campaign['Type'] == 'speech']\n",
    "plt.boxplot(speeches['word_count'])\n",
    "plt.ylabel('number words')\n",
    "plt.title('speech word count');"
   ]
  },
  {
   "cell_type": "code",
   "execution_count": 13,
   "metadata": {},
   "outputs": [
    {
     "data": {
      "image/png": "[encoded data removed]",
      "text/plain": [
       "<matplotlib.figure.Figure at 0x13632697da0>"
      ]
     },
     "metadata": {},
     "output_type": "display_data"
    }
   ],
   "source": [
    "statements = campaign[campaign['Type'] == 'statement']\n",
    "plt.boxplot(statements['word_count'])\n",
    "plt.ylabel('number words')\n",
    "plt.title('statement word count');"
   ]
  },
  {
   "cell_type": "markdown",
   "metadata": {},
   "source": [
    "__QUESTION__: what can you conclude about the text data from these box plots?"
   ]
  },
  {
   "cell_type": "markdown",
   "metadata": {},
   "source": [
    "**Solution**: Speeches tend to be much longer than statements: over half of speeches are about 2000-5000 words, while about half of statements are under 400 words. Both types are skewed and have many outliers on the higher side."
   ]
  },
  {
   "cell_type": "markdown",
   "metadata": {},
   "source": [
    "Box plots pack a lot of information, but the plots can get muddy if many data points overlap. A **Violin plot** is similar to a box plot, but it also shows the distribution of the data at different values (you can think of it like a smoothed histogram).\n",
    "\n",
    "Look at the word counts, word lengths, and other features using `plt.violinplot`."
   ]
  },
  {
   "cell_type": "code",
   "execution_count": 15,
   "metadata": {},
   "outputs": [
    {
     "data": {
      "image/png": "[encoded data removed]",
      "text/plain": [
       "<matplotlib.figure.Figure at 0x13634a2e898>"
      ]
     },
     "metadata": {},
     "output_type": "display_data"
    }
   ],
   "source": [
    "plt.violinplot(speeches['avg_word_length'])\n",
    "plt.ylabel('word length')\n",
    "plt.xlabel('density')\n",
    "plt.title('average speech word length');"
   ]
  },
  {
   "cell_type": "code",
   "execution_count": 16,
   "metadata": {},
   "outputs": [
    {
     "data": {
      "image/png": "[encoded data removed]",
      "text/plain": [
       "<matplotlib.figure.Figure at 0x13634c853c8>"
      ]
     },
     "metadata": {},
     "output_type": "display_data"
    }
   ],
   "source": [
    "plt.violinplot(statements['avg_word_length'])\n",
    "plt.ylabel('word length')\n",
    "plt.xlabel('density')\n",
    "plt.title('average statement word length');"
   ]
  },
  {
   "cell_type": "markdown",
   "metadata": {},
   "source": [
    "**QUESTION**: What can you see with the violin plot that you couldn't with the box plot?"
   ]
  },
  {
   "cell_type": "markdown",
   "metadata": {},
   "source": [
    "**SOLUTION**: sample: student answers may vary. Statements tend to have slightly longer words than speeches, and words for statements are less varied in average length than for speeches."
   ]
  },
  {
   "cell_type": "markdown",
   "metadata": {},
   "source": [
    "Unexpected or interesting information may also be found by looking at multiple features together, or by looking at subgroups. \n",
    "\n",
    "If you need a refresher on grouping in pandas:\n",
    "\n",
    "1. select the features you need using `.loc[<rows>, <columns>]`. The rows and columns can be a single label, a list of labels, or a range (e.g. `'word_count':` would give you all columns to the right of and including `word_count`).\n",
    "2. call `.groupby` with the label of the feature you want to group by\n",
    "3. call the function you want to use to aggregate the values in each group (e.g. `sum()`, `min()`, `max()`, `mean()`...)\n",
    "\n",
    "For example, here's a bar plot of the average word count in each candidate's speeches using groupby:\n"
   ]
  },
  {
   "cell_type": "code",
   "execution_count": 17,
   "metadata": {},
   "outputs": [
    {
     "data": {
      "image/png": "[encoded data removed]",
      "text/plain": [
       "<matplotlib.figure.Figure at 0x13634c7bc50>"
      ]
     },
     "metadata": {},
     "output_type": "display_data"
    }
   ],
   "source": [
    "by_candidate = (speeches.loc[:, ['Candidate', 'inequality', 'russia', 'nuclear']] # select all rows, only the columns needed\n",
    "            .groupby('Candidate') # make groups of word counts for each candidate\n",
    "            .mean()) # take the average of each group of candidate's word counts\n",
    "\n",
    "by_candidate.plot.bar(figsize=(12, 5)); # make a bar plot; figsize embiggens it\n"
   ]
  },
  {
   "cell_type": "markdown",
   "metadata": {},
   "source": [
    "In the cells below, try creating:\n",
    "- a line plot showing the average number of times the word 'email' was used on each date (use groupby on the `datetime` column, not `Date`)\n",
    "- histograms showing the distribution of `word_length` for Democrats and Republicans\n",
    "- a scatter plot plotting the length of words against the length of sentences for speeches and statements\n",
    "\n",
    "Refer to the [pyplot](https://matplotlib.org/tutorials/introductory/pyplot.html#sphx-glr-tutorials-introductory-pyplot-py) and [pandas dataframe plot](https://pandas.pydata.org/pandas-docs/stable/api.html#api-dataframe-plotting) docs as needed. Feel free to experiment with other groups or features!"
   ]
  },
  {
   "cell_type": "code",
   "execution_count": 19,
   "metadata": {},
   "outputs": [
    {
     "data": {
      "text/plain": [
       "<matplotlib.axes._subplots.AxesSubplot at 0x13634d4c5c0>"
      ]
     },
     "execution_count": 19,
     "metadata": {},
     "output_type": "execute_result"
    },
    {
     "data": {
      "image/png": "[encoded data removed]",
      "text/plain": [
       "<matplotlib.figure.Figure at 0x13634d3f390>"
      ]
     },
     "metadata": {},
     "output_type": "display_data"
    }
   ],
   "source": [
    "by_date = campaign.loc[:, ['datetime', 'email']].groupby('datetime').mean()\n",
    "by_date.plot.line(figsize=(15, 4))"
   ]
  },
  {
   "cell_type": "code",
   "execution_count": 20,
   "metadata": {},
   "outputs": [
    {
     "data": {
      "text/plain": [
       "Party\n",
       "D    [[AxesSubplot(0.125,0.125;0.775x0.755)]]\n",
       "R    [[AxesSubplot(0.125,0.125;0.775x0.755)]]\n",
       "dtype: object"
      ]
     },
     "execution_count": 20,
     "metadata": {},
     "output_type": "execute_result"
    },
    {
     "data": {
      "image/png": "[encoded data removed]",
      "text/plain": [
       "<matplotlib.figure.Figure at 0x13634da50b8>"
      ]
     },
     "metadata": {},
     "output_type": "display_data"
    },
    {
     "data": {
      "image/png": "[encoded data removed]",
      "text/plain": [
       "<matplotlib.figure.Figure at 0x13634ca1860>"
      ]
     },
     "metadata": {},
     "output_type": "display_data"
    }
   ],
   "source": [
    "campaign.loc[:, ['Party', 'avg_word_length']].groupby('Party').hist()\n"
   ]
  },
  {
   "cell_type": "code",
   "execution_count": 30,
   "metadata": {
    "scrolled": true
   },
   "outputs": [
    {
     "data": {
      "image/png": "[encoded data removed]",
      "text/plain": [
       "<matplotlib.figure.Figure at 0x13635e5a940>"
      ]
     },
     "metadata": {},
     "output_type": "display_data"
    }
   ],
   "source": [
    "plt.scatter(speeches['avg_word_length'], speeches['avg_sentence_length'], s=9, c='b')\n",
    "plt.scatter(statements['avg_word_length'], statements['avg_sentence_length'], s=9, c='g')\n",
    "plt.legend(['speeches', 'statements'])\n",
    "plt.ylabel('avg_sentence_length')\n",
    "plt.xlabel('avg_word_length');\n"
   ]
  },
  {
   "cell_type": "markdown",
   "metadata": {},
   "source": [
    "**QUESTION**: What kinds of interesting/suspicious patterns or outliers did you see?\n",
    "Given what you now know about the data set, what kinds of hypotheses could we test on the data?"
   ]
  },
  {
   "cell_type": "markdown",
   "metadata": {},
   "source": [
    "**ANSWER**:"
   ]
  },
  {
   "cell_type": "markdown",
   "metadata": {},
   "source": [
    "## 3. Principal Components Analysis <a id='section 3'></a>"
   ]
  },
  {
   "cell_type": "markdown",
   "metadata": {},
   "source": [
    "We've seen that with text analysis, feature matrices get very large, very fast (remember the tf-idf matrix?). To help us visualize high-dimensional data, we can use **Principal Component Analysis (PCA)**.\n",
    "\n",
    "The goal of PCA is to look for patterns in the data (i.e. correlations between variables). If two variables are strongly correlated, including just one of them in the model might represent the data about as good as if we had them both. PCA looks for variables that account for as much of the variance in the data as possible. This makes it great for **dimensionality reduction**: getting rid of features (dimensions) that don't explain much of the variance in the data so we can more easily manipulate and understand the data.\n",
    "\n",
    "Note: the details of PCA are hard to follow without some knowledge of linear algebra. If you're interested, check out a more in-depth example [here](https://plot.ly/ipython-notebooks/principal-component-analysis/).\n",
    "\n",
    "First, create a table `X` that only has the columns with the extracted numerical features (no string or datetime values) and an array `y` with the classes we want to divide the data into (political parties). "
   ]
  },
  {
   "cell_type": "code",
   "execution_count": 33,
   "metadata": {},
   "outputs": [],
   "source": [
    "# select only the columns with int or float values\n",
    "X = campaign.iloc[:, 9:].drop('datetime', axis=1)\n",
    "\n",
    "# select the column with the party classification\n",
    "y = campaign['Party']"
   ]
  },
  {
   "cell_type": "markdown",
   "metadata": {},
   "source": [
    "Next, we want to standardize X so that all the features have the same scale (i.e. have an average value of 0 and a standard deviation of 1). Do this by creating a `StandardScaler()`, then run its `fit_transform` method on `X`. You should recognize the syntax from other scikit-learn models."
   ]
  },
  {
   "cell_type": "code",
   "execution_count": 34,
   "metadata": {},
   "outputs": [
    {
     "data": {
      "text/plain": [
       "array([[ 1.00013587,  0.99543677,  0.89851767, ...,  0.18318625,\n",
       "         0.24198399,  0.23631245],\n",
       "       [ 0.99543677,  1.00013587,  0.92677697, ...,  0.17962127,\n",
       "         0.23083149,  0.22318672],\n",
       "       [ 0.89851767,  0.92677697,  1.00013587, ...,  0.15573658,\n",
       "         0.20774027,  0.14612541],\n",
       "       ...,\n",
       "       [ 0.18318625,  0.17962127,  0.15573658, ...,  1.00013587,\n",
       "        -0.01036264,  0.03492686],\n",
       "       [ 0.24198399,  0.23083149,  0.20774027, ..., -0.01036264,\n",
       "         1.00013587,  0.05314123],\n",
       "       [ 0.23631245,  0.22318672,  0.14612541, ...,  0.03492686,\n",
       "         0.05314123,  1.00013587]])"
      ]
     },
     "execution_count": 34,
     "metadata": {},
     "output_type": "execute_result"
    }
   ],
   "source": [
    "# scale the data\n",
    "X_std = StandardScaler().fit_transform(X)\n",
    "\n",
    "# look at the covariance matrix\n",
    "np.cov(X_std.T)"
   ]
  },
  {
   "cell_type": "markdown",
   "metadata": {},
   "source": [
    "Finally, construct a `PCA` object (set `n_components=2` so we can graph it in two dimensions) and use its `fit_transform` method on your standardized X to get `Y_pca`: the principal components."
   ]
  },
  {
   "cell_type": "code",
   "execution_count": 36,
   "metadata": {},
   "outputs": [],
   "source": [
    "# make a PCA\n",
    "pca = PCA(n_components=2)\n",
    "\n",
    "# fit the standardized data\n",
    "Y_pca = pca.fit_transform(X_std)"
   ]
  },
  {
   "cell_type": "code",
   "execution_count": 38,
   "metadata": {},
   "outputs": [
    {
     "ename": "ValueError",
     "evalue": "setting an array element with a sequence",
     "output_type": "error",
     "traceback": [
      "\u001b[1;31m---------------------------------------------------------------------------\u001b[0m",
      "\u001b[1;31mValueError\u001b[0m                                Traceback (most recent call last)",
      "\u001b[1;32m<ipython-input-38-5f521f8499b8>\u001b[0m in \u001b[0;36m<module>\u001b[1;34m()\u001b[0m\n\u001b[0;32m      5\u001b[0m \u001b[1;33m\u001b[0m\u001b[0m\n\u001b[0;32m      6\u001b[0m \u001b[1;31m# plot\u001b[0m\u001b[1;33m\u001b[0m\u001b[1;33m\u001b[0m\u001b[0m\n\u001b[1;32m----> 7\u001b[1;33m \u001b[0msns\u001b[0m\u001b[1;33m.\u001b[0m\u001b[0mlmplot\u001b[0m\u001b[1;33m(\u001b[0m\u001b[0mx\u001b[0m \u001b[1;33m=\u001b[0m \u001b[1;34m'component 1'\u001b[0m\u001b[1;33m,\u001b[0m \u001b[0my\u001b[0m \u001b[1;33m=\u001b[0m \u001b[1;34m'component 2'\u001b[0m\u001b[1;33m,\u001b[0m \u001b[0mdata\u001b[0m \u001b[1;33m=\u001b[0m \u001b[0mcomponents\u001b[0m\u001b[1;33m,\u001b[0m \u001b[0mhue\u001b[0m\u001b[1;33m=\u001b[0m\u001b[1;34m'Party'\u001b[0m\u001b[1;33m,\u001b[0m \u001b[0mlegend\u001b[0m\u001b[1;33m=\u001b[0m\u001b[1;32mFalse\u001b[0m\u001b[1;33m,\u001b[0m \u001b[0mfit_reg\u001b[0m\u001b[1;33m=\u001b[0m\u001b[1;32mFalse\u001b[0m\u001b[1;33m,\u001b[0m \u001b[0mcol\u001b[0m\u001b[1;33m=\u001b[0m\u001b[1;33m[\u001b[0m\u001b[1;34m'b'\u001b[0m\u001b[1;33m,\u001b[0m \u001b[1;34m'r'\u001b[0m\u001b[1;33m]\u001b[0m\u001b[1;33m)\u001b[0m\u001b[1;33m\u001b[0m\u001b[0m\n\u001b[0m",
      "\u001b[1;32m~\\Anaconda3\\lib\\site-packages\\seaborn\\regression.py\u001b[0m in \u001b[0;36mlmplot\u001b[1;34m(x, y, data, hue, col, row, palette, col_wrap, size, aspect, markers, sharex, sharey, hue_order, col_order, row_order, legend, legend_out, x_estimator, x_bins, x_ci, scatter, fit_reg, ci, n_boot, units, order, logistic, lowess, robust, logx, x_partial, y_partial, truncate, x_jitter, y_jitter, scatter_kws, line_kws)\u001b[0m\n\u001b[0;32m    549\u001b[0m     \u001b[1;31m# Reduce the dataframe to only needed columns\u001b[0m\u001b[1;33m\u001b[0m\u001b[1;33m\u001b[0m\u001b[0m\n\u001b[0;32m    550\u001b[0m     \u001b[0mneed_cols\u001b[0m \u001b[1;33m=\u001b[0m \u001b[1;33m[\u001b[0m\u001b[0mx\u001b[0m\u001b[1;33m,\u001b[0m \u001b[0my\u001b[0m\u001b[1;33m,\u001b[0m \u001b[0mhue\u001b[0m\u001b[1;33m,\u001b[0m \u001b[0mcol\u001b[0m\u001b[1;33m,\u001b[0m \u001b[0mrow\u001b[0m\u001b[1;33m,\u001b[0m \u001b[0munits\u001b[0m\u001b[1;33m,\u001b[0m \u001b[0mx_partial\u001b[0m\u001b[1;33m,\u001b[0m \u001b[0my_partial\u001b[0m\u001b[1;33m]\u001b[0m\u001b[1;33m\u001b[0m\u001b[0m\n\u001b[1;32m--> 551\u001b[1;33m     \u001b[0mcols\u001b[0m \u001b[1;33m=\u001b[0m \u001b[0mnp\u001b[0m\u001b[1;33m.\u001b[0m\u001b[0munique\u001b[0m\u001b[1;33m(\u001b[0m\u001b[1;33m[\u001b[0m\u001b[0ma\u001b[0m \u001b[1;32mfor\u001b[0m \u001b[0ma\u001b[0m \u001b[1;32min\u001b[0m \u001b[0mneed_cols\u001b[0m \u001b[1;32mif\u001b[0m \u001b[0ma\u001b[0m \u001b[1;32mis\u001b[0m \u001b[1;32mnot\u001b[0m \u001b[1;32mNone\u001b[0m\u001b[1;33m]\u001b[0m\u001b[1;33m)\u001b[0m\u001b[1;33m.\u001b[0m\u001b[0mtolist\u001b[0m\u001b[1;33m(\u001b[0m\u001b[1;33m)\u001b[0m\u001b[1;33m\u001b[0m\u001b[0m\n\u001b[0m\u001b[0;32m    552\u001b[0m     \u001b[0mdata\u001b[0m \u001b[1;33m=\u001b[0m \u001b[0mdata\u001b[0m\u001b[1;33m[\u001b[0m\u001b[0mcols\u001b[0m\u001b[1;33m]\u001b[0m\u001b[1;33m\u001b[0m\u001b[0m\n\u001b[0;32m    553\u001b[0m \u001b[1;33m\u001b[0m\u001b[0m\n",
      "\u001b[1;32m~\\Anaconda3\\lib\\site-packages\\numpy\\lib\\arraysetops.py\u001b[0m in \u001b[0;36munique\u001b[1;34m(ar, return_index, return_inverse, return_counts, axis)\u001b[0m\n\u001b[0;32m    219\u001b[0m \u001b[1;33m\u001b[0m\u001b[0m\n\u001b[0;32m    220\u001b[0m     \"\"\"\n\u001b[1;32m--> 221\u001b[1;33m     \u001b[0mar\u001b[0m \u001b[1;33m=\u001b[0m \u001b[0mnp\u001b[0m\u001b[1;33m.\u001b[0m\u001b[0masanyarray\u001b[0m\u001b[1;33m(\u001b[0m\u001b[0mar\u001b[0m\u001b[1;33m)\u001b[0m\u001b[1;33m\u001b[0m\u001b[0m\n\u001b[0m\u001b[0;32m    222\u001b[0m     \u001b[1;32mif\u001b[0m \u001b[0maxis\u001b[0m \u001b[1;32mis\u001b[0m \u001b[1;32mNone\u001b[0m\u001b[1;33m:\u001b[0m\u001b[1;33m\u001b[0m\u001b[0m\n\u001b[0;32m    223\u001b[0m         \u001b[1;32mreturn\u001b[0m \u001b[0m_unique1d\u001b[0m\u001b[1;33m(\u001b[0m\u001b[0mar\u001b[0m\u001b[1;33m,\u001b[0m \u001b[0mreturn_index\u001b[0m\u001b[1;33m,\u001b[0m \u001b[0mreturn_inverse\u001b[0m\u001b[1;33m,\u001b[0m \u001b[0mreturn_counts\u001b[0m\u001b[1;33m)\u001b[0m\u001b[1;33m\u001b[0m\u001b[0m\n",
      "\u001b[1;32m~\\Anaconda3\\lib\\site-packages\\numpy\\core\\numeric.py\u001b[0m in \u001b[0;36masanyarray\u001b[1;34m(a, dtype, order)\u001b[0m\n\u001b[0;32m    542\u001b[0m \u001b[1;33m\u001b[0m\u001b[0m\n\u001b[0;32m    543\u001b[0m     \"\"\"\n\u001b[1;32m--> 544\u001b[1;33m     \u001b[1;32mreturn\u001b[0m \u001b[0marray\u001b[0m\u001b[1;33m(\u001b[0m\u001b[0ma\u001b[0m\u001b[1;33m,\u001b[0m \u001b[0mdtype\u001b[0m\u001b[1;33m,\u001b[0m \u001b[0mcopy\u001b[0m\u001b[1;33m=\u001b[0m\u001b[1;32mFalse\u001b[0m\u001b[1;33m,\u001b[0m \u001b[0morder\u001b[0m\u001b[1;33m=\u001b[0m\u001b[0morder\u001b[0m\u001b[1;33m,\u001b[0m \u001b[0msubok\u001b[0m\u001b[1;33m=\u001b[0m\u001b[1;32mTrue\u001b[0m\u001b[1;33m)\u001b[0m\u001b[1;33m\u001b[0m\u001b[0m\n\u001b[0m\u001b[0;32m    545\u001b[0m \u001b[1;33m\u001b[0m\u001b[0m\n\u001b[0;32m    546\u001b[0m \u001b[1;33m\u001b[0m\u001b[0m\n",
      "\u001b[1;31mValueError\u001b[0m: setting an array element with a sequence"
     ]
    }
   ],
   "source": [
    "# create a dataframe with the principal components and the classes\n",
    "components = pd.DataFrame({'component 1': Y_pca[:, 0],\n",
    "                          'component 2': Y_pca[:, 1],\n",
    "                          'Party': y})\n",
    "\n",
    "# plot\n",
    "sns.lmplot(x = 'component 1', y = 'component 2', data = components, hue='Party', legend=False, fit_reg=False, col=['b', 'r'])"
   ]
  },
  {
   "cell_type": "code",
   "execution_count": null,
   "metadata": {},
   "outputs": [],
   "source": []
  },
  {
   "cell_type": "code",
   "execution_count": 211,
   "metadata": {},
   "outputs": [],
   "source": [
    "# CODE\n",
    "# Initialize models\n",
    "from sklearn.feature_extraction.text import TfidfVectorizer\n",
    "from sklearn.decomposition import TruncatedSVD\n",
    "\n",
    "vectorizer = TfidfVectorizer(min_df=1)\n",
    "pca = TruncatedSVD(n_components=2)\n",
    "\n",
    "# Fit models\n",
    "X = vectorizer.fit_transform(campaign['clean_text'])\n",
    "X2 = pca.fit_transform(X)\n",
    "\n",
    "\n"
   ]
  },
  {
   "cell_type": "code",
   "execution_count": 215,
   "metadata": {},
   "outputs": [],
   "source": [
    "y2 = campaign['Type']"
   ]
  },
  {
   "cell_type": "code",
   "execution_count": 221,
   "metadata": {},
   "outputs": [
    {
     "data": {
      "text/plain": [
       "<seaborn.axisgrid.FacetGrid at 0x172cb73fba8>"
      ]
     },
     "execution_count": 221,
     "metadata": {},
     "output_type": "execute_result"
    },
    {
     "data": {
      "image/png": "[encoded data removed]",
      "text/plain": [
       "<matplotlib.figure.Figure at 0x172cb73f828>"
      ]
     },
     "metadata": {},
     "output_type": "display_data"
    }
   ],
   "source": [
    "components2 = pd.DataFrame({'component 1': X2[:, 0],\n",
    "                          'component 2': X2[:, 1],\n",
    "                          'Party': y2})\n",
    "sns.lmplot(x = 'component 1', y = 'component 2', data = components2, hue='Party', legend=False, fit_reg=False, palette=\"Blues\")"
   ]
  },
  {
   "cell_type": "code",
   "execution_count": 212,
   "metadata": {},
   "outputs": [
    {
     "data": {
      "text/plain": [
       "array([[0.77055239, 0.20106951],\n",
       "       [0.76648428, 0.20914898],\n",
       "       [0.78300531, 0.13397765],\n",
       "       ...,\n",
       "       [0.40462586, 0.15487028],\n",
       "       [0.77116088, 0.12883307],\n",
       "       [0.64485358, 0.07173808]])"
      ]
     },
     "execution_count": 212,
     "metadata": {},
     "output_type": "execute_result"
    }
   ],
   "source": [
    "X2"
   ]
  },
  {
   "cell_type": "markdown",
   "metadata": {},
   "source": [
    "### Subsection 1 <a id='subsection 1'></a>"
   ]
  },
  {
   "cell_type": "markdown",
   "metadata": {},
   "source": [
    "Intro to subsection 1 here."
   ]
  },
  {
   "cell_type": "code",
   "execution_count": 9,
   "metadata": {
    "collapsed": true
   },
   "outputs": [],
   "source": [
    "# CODE"
   ]
  },
  {
   "cell_type": "markdown",
   "metadata": {},
   "source": [
    "---\n",
    "\n",
    "## Bibliography"
   ]
  },
  {
   "cell_type": "markdown",
   "metadata": {},
   "source": []
  },
  {
   "cell_type": "markdown",
   "metadata": {},
   "source": [
    "---\n",
    "Notebook developed by: Keeley Takimoto\n",
    "\n",
    "Data Science Modules: http://data.berkeley.edu/education/modules\n"
   ]
  }
 ],
 "metadata": {
  "anaconda-cloud": {},
  "kernelspec": {
   "display_name": "Python 3",
   "language": "python",
   "name": "python3"
  },
  "language_info": {
   "codemirror_mode": {
    "name": "ipython",
    "version": 3
   },
   "file_extension": ".py",
   "mimetype": "text/x-python",
   "name": "python",
   "nbconvert_exporter": "python",
   "pygments_lexer": "ipython3",
   "version": "3.6.4"
  }
 },
 "nbformat": 4,
 "nbformat_minor": 1
}
