{
 "cells": [
  {
   "cell_type": "markdown",
   "metadata": {},
   "source": [
    "# SF Crime PSET 1\n",
    "\n",
    "1. [Introduction](#intro)\n",
    "2. [Getting the Data](#data)\n",
    "3. [Descriptive Statistics](#stats)\n",
    "4. [Geographic Information Systems](#gis)\n",
    "5. [Discussion Questions](#dq)"
   ]
  },
  {
   "cell_type": "code",
   "execution_count": 54,
   "metadata": {},
   "outputs": [],
   "source": [
    "# imports\n",
    "import requests\n",
    "from datascience import *\n",
    "import matplotlib.pyplot as plt\n",
    "import datetime\n",
    "%matplotlib inline"
   ]
  },
  {
   "cell_type": "markdown",
   "metadata": {},
   "source": [
    "## 1. Introduction <a id='intro'></a>\n",
    "\n",
    "For this lab, we will be working with the San Francisco Police Department's Incident Database. The dataset contains up-to-date information on incidents reported to the SFPD. Each observation is tagged with information about the incident's location, type of infraaction, and date/time. In this lab you will:\n",
    "\n",
    "1. Download the data through an Application Programming Interface (API)\n",
    "2. Explore the data with summary and descriptive statistics\n",
    "3. Map the incidents\n",
    "\n",
    "Make sure to start early and ask lots of questions! The dataset, along with other publicaly available data, is available at: https://data.sfgov.org/Public-Safety/Police-Department-Incidents/tmnf-yvry"
   ]
  },
  {
   "cell_type": "markdown",
   "metadata": {},
   "source": [
    "## 2. Getting the Data <a id='data'></a>\n",
    "\n",
    "Write code that pulls the data into your environment with an API call. Here is the link to the API: https://data.sfgov.org/resource/PdId.json"
   ]
  },
  {
   "cell_type": "code",
   "execution_count": 55,
   "metadata": {
    "scrolled": false
   },
   "outputs": [
    {
     "data": {
      "text/plain": [
       "[{'address': 'SOUTH VAN NESS AV / 19TH ST',\n",
       "  'category': 'OTHER OFFENSES',\n",
       "  'date': '2017-12-08T00:00:00',\n",
       "  'dayofweek': 'Friday',\n",
       "  'descript': 'TRAFFIC VIOLATION ARREST',\n",
       "  'incidntnum': '170994999',\n",
       "  'location': {'human_address': '{\"address\":\"\",\"city\":\"\",\"state\":\"\",\"zip\":\"\"}',\n",
       "   'latitude': '37.76036569315729',\n",
       "   'longitude': '-122.41702839210588',\n",
       "   'needs_recoding': False},\n",
       "  'pddistrict': 'MISSION',\n",
       "  'pdid': '17099499965010',\n",
       "  'resolution': 'ARREST, BOOKED',\n",
       "  'time': '23:54',\n",
       "  'x': '-122.41702839210588',\n",
       "  'y': '37.76036569315729'},\n",
       " {'address': 'SOUTH VAN NESS AV / 19TH ST',\n",
       "  'category': 'OTHER OFFENSES',\n",
       "  'date': '2017-12-08T00:00:00',\n",
       "  'dayofweek': 'Friday',\n",
       "  'descript': 'DRIVERS LICENSE, SUSPENDED OR REVOKED',\n",
       "  'incidntnum': '170994999',\n",
       "  'location': {'human_address': '{\"address\":\"\",\"city\":\"\",\"state\":\"\",\"zip\":\"\"}',\n",
       "   'latitude': '37.76036569315729',\n",
       "   'longitude': '-122.41702839210588',\n",
       "   'needs_recoding': False},\n",
       "  'pddistrict': 'MISSION',\n",
       "  'pdid': '17099499965016',\n",
       "  'resolution': 'ARREST, BOOKED',\n",
       "  'time': '23:54',\n",
       "  'x': '-122.41702839210588',\n",
       "  'y': '37.76036569315729'},\n",
       " {'address': '1500 Block of SUTTER ST',\n",
       "  'category': 'FRAUD',\n",
       "  'date': '2017-12-08T00:00:00',\n",
       "  'dayofweek': 'Friday',\n",
       "  'descript': 'CREDIT CARD, THEFT BY USE OF',\n",
       "  'incidntnum': '170996155',\n",
       "  'location': {'human_address': '{\"address\":\"\",\"city\":\"\",\"state\":\"\",\"zip\":\"\"}',\n",
       "   'latitude': '37.78707981444431',\n",
       "   'longitude': '-122.42588335814763',\n",
       "   'needs_recoding': False},\n",
       "  'pddistrict': 'NORTHERN',\n",
       "  'pdid': '17099615509320',\n",
       "  'resolution': 'NONE',\n",
       "  'time': '23:50',\n",
       "  'x': '-122.42588335814763',\n",
       "  'y': '37.78707981444431'}]"
      ]
     },
     "execution_count": 55,
     "metadata": {},
     "output_type": "execute_result"
    }
   ],
   "source": [
    "# the url that we want to get our data from\n",
    "data_url = 'https://data.sfgov.org/resource/PdId.json'\n",
    "\n",
    "# making our http request to DATA_URL\n",
    "response = requests.get(data_url)\n",
    "# using the built-in json decoder of the requests library to interpret the text\n",
    "json_response = response.json()\n",
    "json_response[:3]"
   ]
  },
  {
   "cell_type": "code",
   "execution_count": 75,
   "metadata": {},
   "outputs": [
    {
     "data": {
      "text/html": [
       "<table border=\"1\" class=\"dataframe\">\n",
       "    <thead>\n",
       "        <tr>\n",
       "            <th>address</th> <th>category</th> <th>date</th> <th>dayofweek</th> <th>descript</th> <th>incidntnum</th> <th>location</th> <th>pddistrict</th> <th>pdid</th> <th>resolution</th> <th>time</th> <th>x</th> <th>y</th>\n",
       "        </tr>\n",
       "    </thead>\n",
       "    <tbody>\n",
       "        <tr>\n",
       "            <td>SOUTH VAN NESS AV / 19TH ST</td> <td>OTHER OFFENSES</td> <td>2017-12-08T00:00:00</td> <td>Friday   </td> <td>TRAFFIC VIOLATION ARREST             </td> <td>170994999 </td> <td>{'latitude': '37.76036569315729', 'human_address': '{\"ad ...</td> <td>MISSION   </td> <td>17099499965010</td> <td>ARREST, BOOKED</td> <td>23:54</td> <td>-122.41702839210588</td> <td>37.76036569315729</td>\n",
       "        </tr>\n",
       "    </tbody>\n",
       "        <tr>\n",
       "            <td>SOUTH VAN NESS AV / 19TH ST</td> <td>OTHER OFFENSES</td> <td>2017-12-08T00:00:00</td> <td>Friday   </td> <td>DRIVERS LICENSE, SUSPENDED OR REVOKED</td> <td>170994999 </td> <td>{'latitude': '37.76036569315729', 'human_address': '{\"ad ...</td> <td>MISSION   </td> <td>17099499965016</td> <td>ARREST, BOOKED</td> <td>23:54</td> <td>-122.41702839210588</td> <td>37.76036569315729</td>\n",
       "        </tr>\n",
       "    </tbody>\n",
       "        <tr>\n",
       "            <td>1500 Block of SUTTER ST    </td> <td>FRAUD         </td> <td>2017-12-08T00:00:00</td> <td>Friday   </td> <td>CREDIT CARD, THEFT BY USE OF         </td> <td>170996155 </td> <td>{'latitude': '37.78707981444431', 'human_address': '{\"ad ...</td> <td>NORTHERN  </td> <td>17099615509320</td> <td>NONE          </td> <td>23:50</td> <td>-122.42588335814763</td> <td>37.78707981444431</td>\n",
       "        </tr>\n",
       "    </tbody>\n",
       "</table>\n",
       "<p>... (997 rows omitted)</p"
      ],
      "text/plain": [
       "<IPython.core.display.HTML object>"
      ]
     },
     "metadata": {},
     "output_type": "display_data"
    }
   ],
   "source": [
    "# making a table out of our json\n",
    "data = Table.from_records(json_response)\n",
    "data.show(3)"
   ]
  },
  {
   "cell_type": "markdown",
   "metadata": {},
   "source": [
    "<font color='blue'><b>QUESTION: What are the advantages to downloading data this way, instead of with a point-and-click action?</b></font color>"
   ]
  },
  {
   "cell_type": "markdown",
   "metadata": {},
   "source": [
    "## 3. Descriptive Statistics <a id='stats'></a>\n",
    "\n",
    "Plot the number of incidents per year from 2000-2017 (choose the appropriate type of plot). Have crime rates increased or decreased in general? "
   ]
  },
  {
   "cell_type": "code",
   "execution_count": 77,
   "metadata": {
    "scrolled": false
   },
   "outputs": [],
   "source": [
    "# creating a year column from the first four characters of the 'date' column\n",
    "data['year'] = [int(d[:4]) for d in data['date']]"
   ]
  },
  {
   "cell_type": "code",
   "execution_count": 82,
   "metadata": {},
   "outputs": [
    {
     "data": {
      "text/html": [
       "<table border=\"1\" class=\"dataframe\">\n",
       "    <thead>\n",
       "        <tr>\n",
       "            <th>year</th> <th>count</th>\n",
       "        </tr>\n",
       "    </thead>\n",
       "    <tbody>\n",
       "        <tr>\n",
       "            <td>2017</td> <td>1000 </td>\n",
       "        </tr>\n",
       "    </tbody>\n",
       "</table>"
      ],
      "text/plain": [
       "year | count\n",
       "2017 | 1000"
      ]
     },
     "execution_count": 82,
     "metadata": {},
     "output_type": "execute_result"
    }
   ],
   "source": [
    "agg_on_year = data.group('year')\n",
    "agg_on_year"
   ]
  },
  {
   "cell_type": "code",
   "execution_count": 146,
   "metadata": {},
   "outputs": [
    {
     "data": {
      "image/png": "[encoded data removed]",
      "text/plain": [
       "<matplotlib.figure.Figure at 0x7f5700e952b0>"
      ]
     },
     "metadata": {},
     "output_type": "display_data"
    }
   ],
   "source": [
    "agg_on_year.plot('year', 'count')"
   ]
  },
  {
   "cell_type": "markdown",
   "metadata": {},
   "source": [
    "Looking just at 2017, what proportion of the total does each type of crime constitute? Use at least one table and at least one plot to support your answer."
   ]
  },
  {
   "cell_type": "code",
   "execution_count": 98,
   "metadata": {},
   "outputs": [
    {
     "data": {
      "text/html": [
       "<table border=\"1\" class=\"dataframe\">\n",
       "    <thead>\n",
       "        <tr>\n",
       "            <th>category</th> <th>count</th> <th>proportion</th>\n",
       "        </tr>\n",
       "    </thead>\n",
       "    <tbody>\n",
       "        <tr>\n",
       "            <td>LARCENY/THEFT </td> <td>338  </td> <td>0.338     </td>\n",
       "        </tr>\n",
       "    </tbody>\n",
       "        <tr>\n",
       "            <td>NON-CRIMINAL  </td> <td>116  </td> <td>0.116     </td>\n",
       "        </tr>\n",
       "    </tbody>\n",
       "        <tr>\n",
       "            <td>OTHER OFFENSES</td> <td>101  </td> <td>0.101     </td>\n",
       "        </tr>\n",
       "    </tbody>\n",
       "        <tr>\n",
       "            <td>ASSAULT       </td> <td>78   </td> <td>0.078     </td>\n",
       "        </tr>\n",
       "    </tbody>\n",
       "        <tr>\n",
       "            <td>VANDALISM     </td> <td>55   </td> <td>0.055     </td>\n",
       "        </tr>\n",
       "    </tbody>\n",
       "        <tr>\n",
       "            <td>SUSPICIOUS OCC</td> <td>36   </td> <td>0.036     </td>\n",
       "        </tr>\n",
       "    </tbody>\n",
       "        <tr>\n",
       "            <td>WARRANTS      </td> <td>35   </td> <td>0.035     </td>\n",
       "        </tr>\n",
       "    </tbody>\n",
       "        <tr>\n",
       "            <td>VEHICLE THEFT </td> <td>32   </td> <td>0.032     </td>\n",
       "        </tr>\n",
       "    </tbody>\n",
       "        <tr>\n",
       "            <td>PROSTITUTION  </td> <td>32   </td> <td>0.032     </td>\n",
       "        </tr>\n",
       "    </tbody>\n",
       "        <tr>\n",
       "            <td>BURGLARY      </td> <td>32   </td> <td>0.032     </td>\n",
       "        </tr>\n",
       "    </tbody>\n",
       "</table>\n",
       "<p>... (20 rows omitted)</p"
      ],
      "text/plain": [
       "category       | count | proportion\n",
       "LARCENY/THEFT  | 338   | 0.338\n",
       "NON-CRIMINAL   | 116   | 0.116\n",
       "OTHER OFFENSES | 101   | 0.101\n",
       "ASSAULT        | 78    | 0.078\n",
       "VANDALISM      | 55    | 0.055\n",
       "SUSPICIOUS OCC | 36    | 0.036\n",
       "WARRANTS       | 35    | 0.035\n",
       "VEHICLE THEFT  | 32    | 0.032\n",
       "PROSTITUTION   | 32    | 0.032\n",
       "BURGLARY       | 32    | 0.032\n",
       "... (20 rows omitted)"
      ]
     },
     "execution_count": 98,
     "metadata": {},
     "output_type": "execute_result"
    }
   ],
   "source": [
    "agg_by_crime = data.where('year', 2017).group('category')\n",
    "agg_by_crime['proportion'] = [count / sum(agg_by_crime.column('count')) for count in agg_by_crime.column('count')]\n",
    "agg_by_crime.sort('proportion', descending=True)"
   ]
  },
  {
   "cell_type": "code",
   "execution_count": 100,
   "metadata": {},
   "outputs": [
    {
     "data": {
      "image/png": "[encoded data removed]",
      "text/plain": [
       "<matplotlib.figure.Figure at 0x7f5700ba9cc0>"
      ]
     },
     "metadata": {},
     "output_type": "display_data"
    }
   ],
   "source": [
    "agg_by_crime.sort('count', descending=True).barh('category', 'proportion')"
   ]
  },
  {
   "cell_type": "markdown",
   "metadata": {},
   "source": [
    "Is there a relationship between day of week, time, and whether an incident occurs? Bonus: Is there a relationship between day/time and particular types of incidents?"
   ]
  },
  {
   "cell_type": "code",
   "execution_count": 106,
   "metadata": {},
   "outputs": [
    {
     "data": {
      "image/png": "[encoded data removed]",
      "text/plain": [
       "<matplotlib.figure.Figure at 0x7f57008bfa90>"
      ]
     },
     "metadata": {},
     "output_type": "display_data"
    }
   ],
   "source": [
    "data.group('dayofweek').barh('dayofweek')"
   ]
  },
  {
   "cell_type": "code",
   "execution_count": 143,
   "metadata": {},
   "outputs": [],
   "source": [
    "# making an hour column that can be grouped on\n",
    "data['hour'] = [int(t[:2]) for t in data['time']]"
   ]
  },
  {
   "cell_type": "code",
   "execution_count": 144,
   "metadata": {},
   "outputs": [
    {
     "data": {
      "image/png": "[encoded data removed]",
      "text/plain": [
       "<matplotlib.figure.Figure at 0x7f57004df470>"
      ]
     },
     "metadata": {},
     "output_type": "display_data"
    }
   ],
   "source": [
    "data.group('hour').plot('hour', 'count')"
   ]
  },
  {
   "cell_type": "code",
   "execution_count": 145,
   "metadata": {},
   "outputs": [
    {
     "data": {
      "image/png": "[encoded data removed]",
      "text/plain": [
       "<matplotlib.figure.Figure at 0x7f57002dfba8>"
      ]
     },
     "metadata": {},
     "output_type": "display_data"
    }
   ],
   "source": [
    "data.group('hour').bar('hour')"
   ]
  },
  {
   "cell_type": "markdown",
   "metadata": {},
   "source": [
    "Bonus: Are there any other interesting relationships in the data?"
   ]
  },
  {
   "cell_type": "code",
   "execution_count": null,
   "metadata": {},
   "outputs": [],
   "source": []
  },
  {
   "cell_type": "markdown",
   "metadata": {},
   "source": [
    "# 4. Geographic Information Systems (GIS) <a id='gis'></a>\n",
    "\n",
    "Plot individual incidents in 2017 as points on a map of San Francisco. Does crime seem randomly distributed in space, or do incidents tend to cluster close together? Propose an explanation for your conclusion. Bonus: Shade the points by type of crime.\n",
    "\n",
    "Hint: Use the `basemap` extension to the `matplotlib` package!"
   ]
  },
  {
   "cell_type": "code",
   "execution_count": null,
   "metadata": {},
   "outputs": [],
   "source": []
  },
  {
   "cell_type": "markdown",
   "metadata": {},
   "source": [
    "Merge the incidents data with either a Shapefile or GeoJSON file with information on the boundaries of neighborhoods in San Francisco. \n",
    "\n",
    "The neighborhood data is available here: https://data.sfgov.org/Geographic-Locations-and-Boundaries/Analysis-Neighborhoods/p5b7-5n3h\n",
    "\n",
    "The API endpoint: https://data.sfgov.org/resource/xfcw-9evu.json"
   ]
  },
  {
   "cell_type": "code",
   "execution_count": null,
   "metadata": {},
   "outputs": [],
   "source": []
  },
  {
   "cell_type": "markdown",
   "metadata": {},
   "source": [
    "Construct a choropleth map, coloring in each neighborhood by how many incidents it had in 2017. Bonus: Construct several maps that explore differences by day of week, time of year, time of day, etc."
   ]
  },
  {
   "cell_type": "code",
   "execution_count": null,
   "metadata": {},
   "outputs": [],
   "source": []
  },
  {
   "cell_type": "markdown",
   "metadata": {},
   "source": [
    "Do you notice any patters? Are there particular neighborhoods where crime concentrates more heavily?"
   ]
  },
  {
   "cell_type": "code",
   "execution_count": null,
   "metadata": {},
   "outputs": [],
   "source": []
  },
  {
   "cell_type": "markdown",
   "metadata": {},
   "source": [
    "# 5. Discussion Questions <a id='dq'></a>\n",
    "\n",
    "Based on the evidence from this lab assignment, why do you think \"hot spots\" policing became more popular in the last few decades? What are the pros and cons to this kind of approach?\n",
    "\n",
    "What other sorts of data would help improve your analysis?"
   ]
  }
 ],
 "metadata": {
  "kernelspec": {
   "display_name": "Python 3",
   "language": "python",
   "name": "python3"
  },
  "language_info": {
   "codemirror_mode": {
    "name": "ipython",
    "version": 3
   },
   "file_extension": ".py",
   "mimetype": "text/x-python",
   "name": "python",
   "nbconvert_exporter": "python",
   "pygments_lexer": "ipython3",
   "version": "3.6.1"
  }
 },
 "nbformat": 4,
 "nbformat_minor": 2
}
