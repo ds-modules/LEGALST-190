{
 "cells": [
  {
   "cell_type": "markdown",
   "metadata": {},
   "source": [
    "# SF Crime Prediction -- PSET 2\n",
    "\n",
    "1. [Introduction](#intro)\n",
    "2. [Prepare the Data](#data)\n",
    "3. [Train the Model](#train)\n",
    "4. [Test the Model](#test)\n",
    "5. [Generalize to a new Dataset](#generalize)\n",
    "6. [Discussion Questions](#dq)"
   ]
  },
  {
   "cell_type": "markdown",
   "metadata": {},
   "source": [
    "## 1. Introduction <a id='intro'></a>\n",
    "\n",
    "In this lab, you will learn how to make data-driven predictions. We will use the same SFPD Incident Reports data from the last lab. In this lab you will:\n",
    "\n",
    "1. Develop the basic building blocks for how to fit machine learning models to a dataset.\n",
    "2. Perform diagnostics to choose the best machine learning model for prediction.\n",
    "3. Test how accurate you model's predictions are on the SFPD data.\n",
    "4. Generalize you model to a brand new dataset and assess its predictive accuracy.\n",
    "\n",
    "This lab will make extensive use of the scikit-learn package. Be sure to review the documentation and ask questions if anything is unclear!"
   ]
  },
  {
   "cell_type": "markdown",
   "metadata": {},
   "source": [
    "## 2. Prepare the Data to fit Model(s) <a id='data'></a>\n",
    "\n",
    "Download the cleaned data from bCourses. The main objective of this lab will be to develop an algorithm that predicts how many crimes a neighborhood will experience per month."
   ]
  },
  {
   "cell_type": "code",
   "execution_count": null,
   "metadata": {},
   "outputs": [],
   "source": []
  },
  {
   "cell_type": "markdown",
   "metadata": {},
   "source": [
    "Is this a supervised or unsupervised learning problem? Explain your reasoning."
   ]
  },
  {
   "cell_type": "markdown",
   "metadata": {},
   "source": [
    "<font color=blue> Supervised. Data has a labeled-outcome that we are going to want to predict on new data."
   ]
  },
  {
   "cell_type": "markdown",
   "metadata": {},
   "source": [
    "Partition your data into training, validation, and test sets. How much data should be used for each, and why? What are the tradeoffs with various choices?"
   ]
  },
  {
   "cell_type": "code",
   "execution_count": 2,
   "metadata": {},
   "outputs": [
    {
     "ename": "SyntaxError",
     "evalue": "invalid syntax (<ipython-input-2-73774b688ac1>, line 1)",
     "output_type": "error",
     "traceback": [
      "\u001b[0;36m  File \u001b[0;32m\"<ipython-input-2-73774b688ac1>\"\u001b[0;36m, line \u001b[0;32m1\u001b[0m\n\u001b[0;31m    train test split\u001b[0m\n\u001b[0m             ^\u001b[0m\n\u001b[0;31mSyntaxError\u001b[0m\u001b[0;31m:\u001b[0m invalid syntax\n"
     ]
    }
   ],
   "source": [
    "train test split"
   ]
  },
  {
   "cell_type": "markdown",
   "metadata": {},
   "source": [
    "Use the feature selection tools in scikit-learn to determine if there are any features in your dataset that should be excluded prior to model fitting. What is the motivation for this exercise?"
   ]
  },
  {
   "cell_type": "code",
   "execution_count": null,
   "metadata": {},
   "outputs": [],
   "source": []
  },
  {
   "cell_type": "markdown",
   "metadata": {},
   "source": [
    "## 3. Train Model <a id='train'></a>\n",
    "\n",
    "Is this a classification or regression problem? Why?"
   ]
  },
  {
   "cell_type": "code",
   "execution_count": null,
   "metadata": {},
   "outputs": [],
   "source": []
  },
  {
   "cell_type": "markdown",
   "metadata": {},
   "source": [
    "Choose 3 different machine learning/prediction techniques. Detail the basic logic underlying each, and the pros and cons, whether it is parametric or non-parametric, etc. Also discuss why it may be an appropriate choice for this particular problem."
   ]
  },
  {
   "cell_type": "code",
   "execution_count": null,
   "metadata": {},
   "outputs": [],
   "source": []
  },
  {
   "cell_type": "markdown",
   "metadata": {},
   "source": [
    "Train each of the models on your data, and report any relevant summary statistics. How well does each model fit the training data?"
   ]
  },
  {
   "cell_type": "code",
   "execution_count": null,
   "metadata": {},
   "outputs": [],
   "source": []
  },
  {
   "cell_type": "markdown",
   "metadata": {},
   "source": [
    "## 4. Test and Tweak Model <a id='test'></a>\n",
    "\n"
   ]
  },
  {
   "cell_type": "code",
   "execution_count": null,
   "metadata": {},
   "outputs": [],
   "source": []
  },
  {
   "cell_type": "code",
   "execution_count": null,
   "metadata": {},
   "outputs": [],
   "source": []
  },
  {
   "cell_type": "markdown",
   "metadata": {},
   "source": [
    "## 5. Generalize to a new Dataset <a id='generalize'></a>"
   ]
  },
  {
   "cell_type": "markdown",
   "metadata": {},
   "source": [
    "## 6. Discussion Questions <a id='dq'></a>"
   ]
  }
 ],
 "metadata": {
  "kernelspec": {
   "display_name": "Python 3",
   "language": "python",
   "name": "python3"
  },
  "language_info": {
   "codemirror_mode": {
    "name": "ipython",
    "version": 3
   },
   "file_extension": ".py",
   "mimetype": "text/x-python",
   "name": "python",
   "nbconvert_exporter": "python",
   "pygments_lexer": "ipython3",
   "version": "3.6.1"
  }
 },
 "nbformat": 4,
 "nbformat_minor": 2
}
