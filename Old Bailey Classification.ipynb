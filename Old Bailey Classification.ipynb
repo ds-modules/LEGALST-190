{
 "cells": [
  {
   "cell_type": "markdown",
   "metadata": {},
   "source": [
    "# Old Bailey Classification: PSET 3\n",
    "\n",
    "1. [Introduction](#intro)\n",
    "2. [Getting the Data](#data)\n",
    "3. [Descriptive Statistics](#stats)\n",
    "4. [Geographic Information Systems](#gis)\n",
    "5. [Discussion Questions](#dq)"
   ]
  },
  {
   "cell_type": "markdown",
   "metadata": {},
   "source": [
    "## 1. Introduction <a id='intro'></a>\n",
    "In this assignment, you will learn how to apply machine learning techniques to a corpus of textual data. The source for this assignment is the Old Bailey Corpus. This data set contains court records of the Old Bailey, London's Criminal court from 1674 to 1913. You will: \n",
    "    1. Download data from the corpus and process the text into data.\n",
    "    2. Define a dictionary and a set of rules for using the words for classification.\n",
    "    3. Apply your algorithm to classify documents and assess accuracy.\n",
    "    \n",
    "Make sure to start early and ask lots of questions! The dataset, along with other publicaly available data, is available at: https://www.oldbaileyonline.org/static/API.jsp \n",
    "\n",
    "alternate link: http://www.math.canterbury.ac.nz/~r.sainudiin/datasets/public/OldBailey/index.html\n",
    "\n",
    "http://www.math.canterbury.ac.nz/~r.sainudiin/datasets/public/OldBailey/OB_tei_7-2_CC-BY-NC.zip\n"
   ]
  },
  {
   "cell_type": "code",
   "execution_count": null,
   "metadata": {},
   "outputs": [],
   "source": [
    "# issues downloading data -- only 10 trials at a time allowed by API"
   ]
  }
 ],
 "metadata": {
  "kernelspec": {
   "display_name": "Python 3",
   "language": "python",
   "name": "python3"
  },
  "language_info": {
   "codemirror_mode": {
    "name": "ipython",
    "version": 3
   },
   "file_extension": ".py",
   "mimetype": "text/x-python",
   "name": "python",
   "nbconvert_exporter": "python",
   "pygments_lexer": "ipython3",
   "version": "3.6.1"
  }
 },
 "nbformat": 4,
 "nbformat_minor": 2
}
