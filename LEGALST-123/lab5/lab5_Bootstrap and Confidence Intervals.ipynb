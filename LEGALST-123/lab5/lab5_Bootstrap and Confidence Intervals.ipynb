{
 "cells": [
  {
   "cell_type": "code",
   "execution_count": 2,
   "metadata": {},
   "outputs": [],
   "source": [
    "from datascience import *\n",
    "from collections import Counter\n",
    "import numpy as np\n",
    "import pandas as pd\n",
    "from scipy import stats\n",
    "%matplotlib inline\n",
    "import matplotlib.pyplot as plots\n",
    "plots.style.use('fivethirtyeight')"
   ]
  },
  {
   "cell_type": "markdown",
   "metadata": {},
   "source": [
    "## Data"
   ]
  },
  {
   "cell_type": "markdown",
   "metadata": {},
   "source": [
    "For this lab, we'll be using the American National Election Studies (ANES) data from the 2016 election. The codebook is available here: http://www.electionstudies.org/studypages/anes_pilot_2016/anes_pilot_2016_CodebookUserGuide.pdf"
   ]
  },
  {
   "cell_type": "code",
   "execution_count": 3,
   "metadata": {},
   "outputs": [
    {
     "data": {
      "text/html": [
       "<div>\n",
       "<style scoped>\n",
       "    .dataframe tbody tr th:only-of-type {\n",
       "        vertical-align: middle;\n",
       "    }\n",
       "\n",
       "    .dataframe tbody tr th {\n",
       "        vertical-align: top;\n",
       "    }\n",
       "\n",
       "    .dataframe thead th {\n",
       "        text-align: right;\n",
       "    }\n",
       "</style>\n",
       "<table border=\"1\" class=\"dataframe\">\n",
       "  <thead>\n",
       "    <tr style=\"text-align: right;\">\n",
       "      <th></th>\n",
       "      <th>version</th>\n",
       "      <th>caseid</th>\n",
       "      <th>weight</th>\n",
       "      <th>weight_spss</th>\n",
       "      <th>follow</th>\n",
       "      <th>turnout12</th>\n",
       "      <th>turnout12b</th>\n",
       "      <th>vote12</th>\n",
       "      <th>percent16</th>\n",
       "      <th>meet</th>\n",
       "      <th>...</th>\n",
       "      <th>flag_asianam10</th>\n",
       "      <th>flag_nativeam10</th>\n",
       "      <th>flag_other10</th>\n",
       "      <th>starttime</th>\n",
       "      <th>endtime</th>\n",
       "      <th>optintimestamp</th>\n",
       "      <th>count</th>\n",
       "      <th>ua</th>\n",
       "      <th>browser</th>\n",
       "      <th>os</th>\n",
       "    </tr>\n",
       "  </thead>\n",
       "  <tbody>\n",
       "    <tr>\n",
       "      <th>0</th>\n",
       "      <td>ANES 2016 Pilot Study version 20160223</td>\n",
       "      <td>1</td>\n",
       "      <td>0.951160</td>\n",
       "      <td>0.542161</td>\n",
       "      <td>1</td>\n",
       "      <td>1</td>\n",
       "      <td>9</td>\n",
       "      <td>2</td>\n",
       "      <td>100</td>\n",
       "      <td>1</td>\n",
       "      <td>...</td>\n",
       "      <td>0</td>\n",
       "      <td>0</td>\n",
       "      <td>0</td>\n",
       "      <td>1/22/2016</td>\n",
       "      <td>1/22/2016</td>\n",
       "      <td></td>\n",
       "      <td>173</td>\n",
       "      <td>Mozilla/5.0 (Windows NT 6.1; WOW64; rv:43.0) G...</td>\n",
       "      <td>Firefox 43</td>\n",
       "      <td>Windows 7</td>\n",
       "    </tr>\n",
       "    <tr>\n",
       "      <th>1</th>\n",
       "      <td>ANES 2016 Pilot Study version 20160223</td>\n",
       "      <td>2</td>\n",
       "      <td>2.670196</td>\n",
       "      <td>1.522012</td>\n",
       "      <td>2</td>\n",
       "      <td>2</td>\n",
       "      <td>9</td>\n",
       "      <td>9</td>\n",
       "      <td>50</td>\n",
       "      <td>4</td>\n",
       "      <td>...</td>\n",
       "      <td>0</td>\n",
       "      <td>0</td>\n",
       "      <td>0</td>\n",
       "      <td>1/22/2016</td>\n",
       "      <td>1/22/2016</td>\n",
       "      <td></td>\n",
       "      <td>87</td>\n",
       "      <td>Mozilla/5.0 (Linux; Android 6.0; LGLS991 Build...</td>\n",
       "      <td>Chrome 47</td>\n",
       "      <td>Android Linux 6.0</td>\n",
       "    </tr>\n",
       "    <tr>\n",
       "      <th>2</th>\n",
       "      <td>ANES 2016 Pilot Study version 20160223</td>\n",
       "      <td>3</td>\n",
       "      <td>1.430390</td>\n",
       "      <td>0.815322</td>\n",
       "      <td>1</td>\n",
       "      <td>1</td>\n",
       "      <td>9</td>\n",
       "      <td>1</td>\n",
       "      <td>100</td>\n",
       "      <td>1</td>\n",
       "      <td>...</td>\n",
       "      <td>0</td>\n",
       "      <td>0</td>\n",
       "      <td>0</td>\n",
       "      <td>1/22/2016</td>\n",
       "      <td>1/22/2016</td>\n",
       "      <td></td>\n",
       "      <td>86</td>\n",
       "      <td>Mozilla/5.0 (Macintosh; Intel Mac OS X 10_9_5)...</td>\n",
       "      <td>Safari 9</td>\n",
       "      <td>Mac OS X 10.9</td>\n",
       "    </tr>\n",
       "    <tr>\n",
       "      <th>3</th>\n",
       "      <td>ANES 2016 Pilot Study version 20160223</td>\n",
       "      <td>4</td>\n",
       "      <td>0.913966</td>\n",
       "      <td>0.520961</td>\n",
       "      <td>1</td>\n",
       "      <td>1</td>\n",
       "      <td>9</td>\n",
       "      <td>2</td>\n",
       "      <td>100</td>\n",
       "      <td>5</td>\n",
       "      <td>...</td>\n",
       "      <td>0</td>\n",
       "      <td>0</td>\n",
       "      <td>0</td>\n",
       "      <td>1/22/2016</td>\n",
       "      <td>1/22/2016</td>\n",
       "      <td></td>\n",
       "      <td>211</td>\n",
       "      <td>Mozilla/5.0 (Android 5.1.1; Mobile; rv:43.0) G...</td>\n",
       "      <td>Firefox 43</td>\n",
       "      <td>Android 5.1</td>\n",
       "    </tr>\n",
       "    <tr>\n",
       "      <th>4</th>\n",
       "      <td>ANES 2016 Pilot Study version 20160223</td>\n",
       "      <td>5</td>\n",
       "      <td>0.263935</td>\n",
       "      <td>0.150443</td>\n",
       "      <td>1</td>\n",
       "      <td>1</td>\n",
       "      <td>9</td>\n",
       "      <td>1</td>\n",
       "      <td>100</td>\n",
       "      <td>2</td>\n",
       "      <td>...</td>\n",
       "      <td>0</td>\n",
       "      <td>0</td>\n",
       "      <td>0</td>\n",
       "      <td>1/23/2016</td>\n",
       "      <td>1/23/2016</td>\n",
       "      <td></td>\n",
       "      <td>342</td>\n",
       "      <td>Mozilla/5.0 (iPhone; CPU iPhone OS 9_2_1 like ...</td>\n",
       "      <td>Safari 9</td>\n",
       "      <td>iPhone iOS 9.2</td>\n",
       "    </tr>\n",
       "  </tbody>\n",
       "</table>\n",
       "<p>5 rows × 594 columns</p>\n",
       "</div>"
      ],
      "text/plain": [
       "                                  version  caseid    weight  weight_spss  \\\n",
       "0  ANES 2016 Pilot Study version 20160223       1  0.951160     0.542161   \n",
       "1  ANES 2016 Pilot Study version 20160223       2  2.670196     1.522012   \n",
       "2  ANES 2016 Pilot Study version 20160223       3  1.430390     0.815322   \n",
       "3  ANES 2016 Pilot Study version 20160223       4  0.913966     0.520961   \n",
       "4  ANES 2016 Pilot Study version 20160223       5  0.263935     0.150443   \n",
       "\n",
       "   follow  turnout12  turnout12b  vote12  percent16  meet        ...          \\\n",
       "0       1          1           9       2        100     1        ...           \n",
       "1       2          2           9       9         50     4        ...           \n",
       "2       1          1           9       1        100     1        ...           \n",
       "3       1          1           9       2        100     5        ...           \n",
       "4       1          1           9       1        100     2        ...           \n",
       "\n",
       "   flag_asianam10  flag_nativeam10  flag_other10  starttime    endtime  \\\n",
       "0               0                0             0  1/22/2016  1/22/2016   \n",
       "1               0                0             0  1/22/2016  1/22/2016   \n",
       "2               0                0             0  1/22/2016  1/22/2016   \n",
       "3               0                0             0  1/22/2016  1/22/2016   \n",
       "4               0                0             0  1/23/2016  1/23/2016   \n",
       "\n",
       "   optintimestamp  count                                                 ua  \\\n",
       "0                    173  Mozilla/5.0 (Windows NT 6.1; WOW64; rv:43.0) G...   \n",
       "1                     87  Mozilla/5.0 (Linux; Android 6.0; LGLS991 Build...   \n",
       "2                     86  Mozilla/5.0 (Macintosh; Intel Mac OS X 10_9_5)...   \n",
       "3                    211  Mozilla/5.0 (Android 5.1.1; Mobile; rv:43.0) G...   \n",
       "4                    342  Mozilla/5.0 (iPhone; CPU iPhone OS 9_2_1 like ...   \n",
       "\n",
       "      browser                 os  \n",
       "0  Firefox 43          Windows 7  \n",
       "1   Chrome 47  Android Linux 6.0  \n",
       "2    Safari 9      Mac OS X 10.9  \n",
       "3  Firefox 43        Android 5.1  \n",
       "4    Safari 9     iPhone iOS 9.2  \n",
       "\n",
       "[5 rows x 594 columns]"
      ]
     },
     "execution_count": 3,
     "metadata": {},
     "output_type": "execute_result"
    }
   ],
   "source": [
    "anes = pd.read_csv('../data/anes/anes_pilot_2016.csv')\n",
    "anes.head()"
   ]
  },
  {
   "cell_type": "markdown",
   "metadata": {},
   "source": [
    "## Exploratory Data Analysis"
   ]
  },
  {
   "cell_type": "markdown",
   "metadata": {},
   "source": [
    "Refer back to lab 1 for help plotting histograms."
   ]
  },
  {
   "cell_type": "markdown",
   "metadata": {},
   "source": [
    "Write code that plots a histogram of the \"Feeling Thermometer - Barack Obama\" variable."
   ]
  },
  {
   "cell_type": "code",
   "execution_count": null,
   "metadata": {
    "collapsed": true
   },
   "outputs": [],
   "source": [
    "# Histogram code"
   ]
  },
  {
   "cell_type": "markdown",
   "metadata": {},
   "source": [
    "What is the shape of the plot?"
   ]
  },
  {
   "cell_type": "markdown",
   "metadata": {},
   "source": []
  },
  {
   "cell_type": "markdown",
   "metadata": {},
   "source": [
    "Report the 25th, 50th, and 75th percentiles. Keep in mind that valid answers have domain [0,100]."
   ]
  },
  {
   "cell_type": "code",
   "execution_count": null,
   "metadata": {
    "collapsed": true
   },
   "outputs": [],
   "source": [
    "# Save column into an object called 'obama'\n",
    "\n",
    "# Find 25th percentile"
   ]
  },
  {
   "cell_type": "code",
   "execution_count": null,
   "metadata": {
    "collapsed": true
   },
   "outputs": [],
   "source": [
    "# Find 50th percentile"
   ]
  },
  {
   "cell_type": "code",
   "execution_count": null,
   "metadata": {
    "collapsed": true
   },
   "outputs": [],
   "source": [
    "# Find 75th percentile"
   ]
  },
  {
   "cell_type": "markdown",
   "metadata": {},
   "source": [
    "What does this distrubtion tell you about the American peoples' thoughts on Obama?"
   ]
  },
  {
   "cell_type": "markdown",
   "metadata": {},
   "source": []
  },
  {
   "cell_type": "markdown",
   "metadata": {},
   "source": [
    "### Question 1"
   ]
  },
  {
   "cell_type": "markdown",
   "metadata": {},
   "source": [
    "Now do the same for \"Feeling Thermometer - Donald Trump.\""
   ]
  },
  {
   "cell_type": "code",
   "execution_count": null,
   "metadata": {
    "collapsed": true
   },
   "outputs": [],
   "source": [
    "# Histogram"
   ]
  },
  {
   "cell_type": "code",
   "execution_count": null,
   "metadata": {
    "collapsed": true
   },
   "outputs": [],
   "source": [
    "# Save an object called 'trump'\n",
    "\n",
    "# Find 25th percentile"
   ]
  },
  {
   "cell_type": "code",
   "execution_count": null,
   "metadata": {
    "collapsed": true
   },
   "outputs": [],
   "source": [
    "# Find 50th percentile"
   ]
  },
  {
   "cell_type": "code",
   "execution_count": null,
   "metadata": {
    "collapsed": true
   },
   "outputs": [],
   "source": [
    "# Find 75th percentile"
   ]
  },
  {
   "cell_type": "markdown",
   "metadata": {},
   "source": [
    "How do the two distributions compare?"
   ]
  },
  {
   "cell_type": "markdown",
   "metadata": {},
   "source": []
  },
  {
   "cell_type": "markdown",
   "metadata": {},
   "source": [
    "Both distributions have a significant amount of their points at the two extremes (0 or 100). What does this tell you about the standard deviation of the data? Do the American people have strong opinions regarding these two candidates?"
   ]
  },
  {
   "cell_type": "markdown",
   "metadata": {},
   "source": []
  },
  {
   "cell_type": "markdown",
   "metadata": {},
   "source": [
    "## Bootstrap"
   ]
  },
  {
   "cell_type": "markdown",
   "metadata": {},
   "source": [
    "Write code that resamples the \"ftobama\" distribution, then plot a histogram. Be sure to resample the number of rows that exist in the dataset, with replacement."
   ]
  },
  {
   "cell_type": "code",
   "execution_count": null,
   "metadata": {
    "collapsed": true
   },
   "outputs": [],
   "source": [
    "# Find number of rows"
   ]
  },
  {
   "cell_type": "code",
   "execution_count": null,
   "metadata": {
    "collapsed": true
   },
   "outputs": [],
   "source": [
    "# Resample the data"
   ]
  },
  {
   "cell_type": "code",
   "execution_count": null,
   "metadata": {
    "collapsed": true
   },
   "outputs": [],
   "source": [
    "# Histogram"
   ]
  },
  {
   "cell_type": "code",
   "execution_count": null,
   "metadata": {
    "collapsed": true
   },
   "outputs": [],
   "source": [
    "# 50th percentile/median"
   ]
  },
  {
   "cell_type": "markdown",
   "metadata": {},
   "source": [
    "### Question 2"
   ]
  },
  {
   "cell_type": "markdown",
   "metadata": {},
   "source": [
    "How does the resampled median compare to the original median? Does this result make sense?"
   ]
  },
  {
   "cell_type": "markdown",
   "metadata": {},
   "source": []
  },
  {
   "cell_type": "markdown",
   "metadata": {},
   "source": [
    "Now, define a function titled \"bootstrap_median\" that takes the original sample, the column name we're concerned with, and the number of resamples as arguments. The function should calculate simulated medians and return them in an array."
   ]
  },
  {
   "cell_type": "code",
   "execution_count": null,
   "metadata": {
    "collapsed": true
   },
   "outputs": [],
   "source": [
    "# Define a function \"bootstrap_median\" with arguments \"original_sample\", \"label\", and \"replications\" \n",
    "# that returns an array with the medians found in replications\n",
    "def bootstrap_median(original_sample, label, replications):\n",
    "    \"\"\"Returns an array of bootstrapped sample medians:\n",
    "    original_sample: table containing the original sample\n",
    "    label: label of column containing the variable\n",
    "    replications: number of bootstrap samples\n",
    "    \"\"\"\n",
    "    just_one_column = original_sample.loc[:, label]\n",
    "    medians = []\n",
    "    for i in np.arange(replications):\n",
    "        ...\n",
    "\n",
    "    return ..."
   ]
  },
  {
   "cell_type": "markdown",
   "metadata": {},
   "source": [
    "Replicate the bootstrap 10,000 times, then save the results."
   ]
  },
  {
   "cell_type": "code",
   "execution_count": null,
   "metadata": {
    "collapsed": true
   },
   "outputs": [],
   "source": [
    "# Resample 10,000 times"
   ]
  },
  {
   "cell_type": "markdown",
   "metadata": {},
   "source": [
    "Plot a histogram of the resampled medians, and plot the 95% confidence interval. (hint: to plot the confidence interval, try using the 2.5 percentile and 97.5 percentile values in a numpy array)"
   ]
  },
  {
   "cell_type": "code",
   "execution_count": null,
   "metadata": {
    "collapsed": true
   },
   "outputs": [],
   "source": [
    "# Plot medians\n",
    "...\n",
    "plots.plot(np.array([pd.Series(medians).quantile(q=.025), pd.Series(medians).quantile(q=.975)]), np.array([0, 0]), color='yellow', lw=10, zorder=1)"
   ]
  },
  {
   "cell_type": "markdown",
   "metadata": {},
   "source": [
    "### Question 3"
   ]
  },
  {
   "cell_type": "markdown",
   "metadata": {},
   "source": [
    "What can you infer about the likely population median given the above distribution?"
   ]
  },
  {
   "cell_type": "markdown",
   "metadata": {},
   "source": []
  },
  {
   "cell_type": "markdown",
   "metadata": {},
   "source": [
    "Finally, write a simulation that constructs 100 confidence intervals. (Remember to use the 2.5 and 97.5 percentiles!)"
   ]
  },
  {
   "cell_type": "code",
   "execution_count": null,
   "metadata": {
    "collapsed": true
   },
   "outputs": [],
   "source": [
    "# Construct 100 confidence intervals\n",
    "left_ends = []\n",
    "right_ends = []\n",
    "\n",
    "for i in np.arange(100):\n",
    "    ...\n",
    "    \n",
    "intervals = pd.DataFrame(data={\"Left\": left_ends, \"Right\": right_ends})"
   ]
  },
  {
   "cell_type": "markdown",
   "metadata": {},
   "source": [
    "#### Question 4"
   ]
  },
  {
   "cell_type": "markdown",
   "metadata": {},
   "source": [
    "Finally, plot 100 confidence intervals (stacked on top of each other). What can you conclude about the median?"
   ]
  },
  {
   "cell_type": "markdown",
   "metadata": {},
   "source": []
  },
  {
   "cell_type": "code",
   "execution_count": null,
   "metadata": {
    "collapsed": true
   },
   "outputs": [],
   "source": [
    "# Plot the confidence intervals\n",
    "plots.figure(figsize=(8,8))\n",
    "for i in np.arange(100):\n",
    "    ends = ...\n",
    "    plots.plot(ends, np.array([i + 1, i + 1]), color='gold')\n",
    "plots.xlabel('Median')\n",
    "plots.ylabel('Replication')\n",
    "plots.title('Population Median and Intervals of Estimates');"
   ]
  },
  {
   "cell_type": "code",
   "execution_count": null,
   "metadata": {
    "collapsed": true
   },
   "outputs": [],
   "source": []
  }
 ],
 "metadata": {
  "kernelspec": {
   "display_name": "Python 3",
   "language": "python",
   "name": "python3"
  },
  "language_info": {
   "codemirror_mode": {
    "name": "ipython",
    "version": 3
   },
   "file_extension": ".py",
   "mimetype": "text/x-python",
   "name": "python",
   "nbconvert_exporter": "python",
   "pygments_lexer": "ipython3",
   "version": "3.7.0"
  }
 },
 "nbformat": 4,
 "nbformat_minor": 2
}
