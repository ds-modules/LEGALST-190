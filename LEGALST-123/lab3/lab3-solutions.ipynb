{
 "cells": [
  {
   "cell_type": "code",
   "execution_count": 1,
   "metadata": {
    "collapsed": true
   },
   "outputs": [],
   "source": [
    "# install required libraries\n",
    "# !pip install numpy\n",
    "# !pip install pandas\n",
    "\n",
    "# import libraries\n",
    "import numpy as np\n",
    "import pandas as pd\n",
    "from collections import Counter\n",
    "import matplotlib.pyplot as plt\n",
    "%matplotlib inline"
   ]
  },
  {
   "cell_type": "markdown",
   "metadata": {},
   "source": [
    "## Data Cleaning\n",
    "\n",
    "We are going to be using the ANES data set, which contains survey responses regarding political attitudes from before and after the 2016 presidential election."
   ]
  },
  {
   "cell_type": "code",
   "execution_count": 2,
   "metadata": {
    "scrolled": false
   },
   "outputs": [
    {
     "data": {
      "text/html": [
       "<div>\n",
       "<style>\n",
       "    .dataframe thead tr:only-child th {\n",
       "        text-align: right;\n",
       "    }\n",
       "\n",
       "    .dataframe thead th {\n",
       "        text-align: left;\n",
       "    }\n",
       "\n",
       "    .dataframe tbody tr th {\n",
       "        vertical-align: top;\n",
       "    }\n",
       "</style>\n",
       "<table border=\"1\" class=\"dataframe\">\n",
       "  <thead>\n",
       "    <tr style=\"text-align: right;\">\n",
       "      <th></th>\n",
       "      <th>V160101f</th>\n",
       "      <th>V160102f</th>\n",
       "      <th>V161024x</th>\n",
       "      <th>V161140x</th>\n",
       "      <th>V161158x</th>\n",
       "      <th>V161188</th>\n",
       "      <th>V161192</th>\n",
       "      <th>V161194x</th>\n",
       "      <th>V161198</th>\n",
       "      <th>V161204x</th>\n",
       "      <th>...</th>\n",
       "      <th>V162362</th>\n",
       "      <th>V162363</th>\n",
       "      <th>V162364</th>\n",
       "      <th>V162365</th>\n",
       "      <th>V162366</th>\n",
       "      <th>V162367</th>\n",
       "      <th>V162368</th>\n",
       "      <th>V162369</th>\n",
       "      <th>V168112</th>\n",
       "      <th>V168113</th>\n",
       "    </tr>\n",
       "  </thead>\n",
       "  <tbody>\n",
       "    <tr>\n",
       "      <th>0</th>\n",
       "      <td>0.887</td>\n",
       "      <td>0.927</td>\n",
       "      <td>3</td>\n",
       "      <td>5</td>\n",
       "      <td>7</td>\n",
       "      <td>2</td>\n",
       "      <td>3</td>\n",
       "      <td>4</td>\n",
       "      <td>7</td>\n",
       "      <td>4</td>\n",
       "      <td>...</td>\n",
       "      <td>4</td>\n",
       "      <td>3</td>\n",
       "      <td>4</td>\n",
       "      <td>4</td>\n",
       "      <td>4</td>\n",
       "      <td>-4</td>\n",
       "      <td>3</td>\n",
       "      <td>4</td>\n",
       "      <td>4</td>\n",
       "      <td>4</td>\n",
       "    </tr>\n",
       "    <tr>\n",
       "      <th>1</th>\n",
       "      <td>1.160</td>\n",
       "      <td>1.084</td>\n",
       "      <td>3</td>\n",
       "      <td>3</td>\n",
       "      <td>6</td>\n",
       "      <td>1</td>\n",
       "      <td>1</td>\n",
       "      <td>1</td>\n",
       "      <td>7</td>\n",
       "      <td>6</td>\n",
       "      <td>...</td>\n",
       "      <td>3</td>\n",
       "      <td>3</td>\n",
       "      <td>1</td>\n",
       "      <td>4</td>\n",
       "      <td>1</td>\n",
       "      <td>-4</td>\n",
       "      <td>3</td>\n",
       "      <td>4</td>\n",
       "      <td>1</td>\n",
       "      <td>2</td>\n",
       "    </tr>\n",
       "    <tr>\n",
       "      <th>2</th>\n",
       "      <td>0.416</td>\n",
       "      <td>0.398</td>\n",
       "      <td>1</td>\n",
       "      <td>3</td>\n",
       "      <td>3</td>\n",
       "      <td>2</td>\n",
       "      <td>1</td>\n",
       "      <td>7</td>\n",
       "      <td>7</td>\n",
       "      <td>4</td>\n",
       "      <td>...</td>\n",
       "      <td>2</td>\n",
       "      <td>3</td>\n",
       "      <td>1</td>\n",
       "      <td>2</td>\n",
       "      <td>1</td>\n",
       "      <td>-4</td>\n",
       "      <td>2</td>\n",
       "      <td>4</td>\n",
       "      <td>4</td>\n",
       "      <td>3</td>\n",
       "    </tr>\n",
       "    <tr>\n",
       "      <th>3</th>\n",
       "      <td>0.385</td>\n",
       "      <td>0.418</td>\n",
       "      <td>4</td>\n",
       "      <td>3</td>\n",
       "      <td>5</td>\n",
       "      <td>1</td>\n",
       "      <td>3</td>\n",
       "      <td>4</td>\n",
       "      <td>5</td>\n",
       "      <td>6</td>\n",
       "      <td>...</td>\n",
       "      <td>3</td>\n",
       "      <td>3</td>\n",
       "      <td>2</td>\n",
       "      <td>3</td>\n",
       "      <td>2</td>\n",
       "      <td>-4</td>\n",
       "      <td>4</td>\n",
       "      <td>4</td>\n",
       "      <td>2</td>\n",
       "      <td>2</td>\n",
       "    </tr>\n",
       "    <tr>\n",
       "      <th>4</th>\n",
       "      <td>0.693</td>\n",
       "      <td>0.726</td>\n",
       "      <td>3</td>\n",
       "      <td>3</td>\n",
       "      <td>3</td>\n",
       "      <td>1</td>\n",
       "      <td>3</td>\n",
       "      <td>6</td>\n",
       "      <td>7</td>\n",
       "      <td>7</td>\n",
       "      <td>...</td>\n",
       "      <td>2</td>\n",
       "      <td>4</td>\n",
       "      <td>3</td>\n",
       "      <td>2</td>\n",
       "      <td>3</td>\n",
       "      <td>-4</td>\n",
       "      <td>2</td>\n",
       "      <td>5</td>\n",
       "      <td>4</td>\n",
       "      <td>3</td>\n",
       "    </tr>\n",
       "  </tbody>\n",
       "</table>\n",
       "<p>5 rows × 197 columns</p>\n",
       "</div>"
      ],
      "text/plain": [
       "   V160101f  V160102f  V161024x  V161140x  V161158x  V161188  V161192  \\\n",
       "0     0.887     0.927         3         5         7        2        3   \n",
       "1     1.160     1.084         3         3         6        1        1   \n",
       "2     0.416     0.398         1         3         3        2        1   \n",
       "3     0.385     0.418         4         3         5        1        3   \n",
       "4     0.693     0.726         3         3         3        1        3   \n",
       "\n",
       "   V161194x  V161198  V161204x   ...     V162362  V162363  V162364  V162365  \\\n",
       "0         4        7         4   ...           4        3        4        4   \n",
       "1         1        7         6   ...           3        3        1        4   \n",
       "2         7        7         4   ...           2        3        1        2   \n",
       "3         4        5         6   ...           3        3        2        3   \n",
       "4         6        7         7   ...           2        4        3        2   \n",
       "\n",
       "   V162366  V162367  V162368  V162369  V168112  V168113  \n",
       "0        4       -4        3        4        4        4  \n",
       "1        1       -4        3        4        1        2  \n",
       "2        1       -4        2        4        4        3  \n",
       "3        2       -4        4        4        2        2  \n",
       "4        3       -4        2        5        4        3  \n",
       "\n",
       "[5 rows x 197 columns]"
      ]
     },
     "execution_count": 2,
     "metadata": {},
     "output_type": "execute_result"
    }
   ],
   "source": [
    "anes_raw = pd.read_csv('../data/anes/ANES_legalst123.csv')\n",
    "anes_raw.head()"
   ]
  },
  {
   "cell_type": "markdown",
   "metadata": {},
   "source": [
    "### Renaming Columns"
   ]
  },
  {
   "cell_type": "markdown",
   "metadata": {},
   "source": [
    "Wow that's a lot of data! You may have noticed that our column names are not very informative. This means we need to clean our data before we can use it.\n",
    "\n",
    "First, let's rename our columns so that it is more clear what kind of information they contain. To do this we can use the `rename` method for `pandas` dataframes. You can find the documentation for this method [here](https://pandas.pydata.org/pandas-docs/stable/generated/pandas.DataFrame.rename.html).\n",
    "\n",
    "For more basic statistics and more information about what these column names mean, please refer to the codebook."
   ]
  },
  {
   "cell_type": "code",
   "execution_count": 3,
   "metadata": {
    "collapsed": true
   },
   "outputs": [],
   "source": [
    "# Dictionary to pass to `rename` mapping the old name to the new name.\n",
    "# Feel free to look through this to see the kind of attitudes this survey aimed to capture.\n",
    "# If in the future you'd like to refer go back to the codebook for more information about what a column name\n",
    "# means, you can use this as a reference to find the column ID in the codebook.\n",
    "new_names = {\n",
    "    \"V160101f\": \"pre_election_weight_ftf\",\n",
    "    \"V160102f\": \"post_election_weight_ftf\",\n",
    "    \"V161024x\": \"pre_voting_status\",\n",
    "    \"V161140x\": \"pre_economy_last_year\",\n",
    "    \"V161158x\": \"pre_party_id\",\n",
    "    \"V161188\": \"pre_gun_access_importance\",\n",
    "    \"V161192\": \"pre_unauthorized_immigrants\",\n",
    "    \"V161194x\": \"pre_birthright_citizenship\",\n",
    "    \"V161198\": \"pre_govt_assist_to_blacks\",\n",
    "    \"V161204x\": \"pre_affirmative_action\",\n",
    "    \"V161208\": \"pre_crime_budget\",\n",
    "    \"V161209\": \"pre_welfare_budget\",\n",
    "    \"V161210\": \"pre_childcare_budget\",\n",
    "    \"V161211\": \"pre_aid_to_poor_budget\",\n",
    "    \"V161212\": \"pre_environment_budget\",\n",
    "    \"V161213x\": \"pre_troops_to_fight_isis\",\n",
    "    \"V161214x\": \"pre_syrian_refugees\",\n",
    "    \"V161215\": \"pre_trust_washington\",\n",
    "    \"V161216\": \"pre_interests_of_few_or_many\",\n",
    "    \"V161217\": \"pre_govt_waste_tax_money\",\n",
    "    \"V161218\": \"pre_govt_corruption\",\n",
    "    \"V161219\": \"pre_are_people_trustworthy\",\n",
    "    \"V161220\": \"pre_govt_attention\",\n",
    "    \"V161221\": \"pre_global_warming\",\n",
    "    \"V161225x\": \"pre_govt_action_rising_temp\",\n",
    "    \"V161227x\": \"pre_govt_services_same_sex_couples\",\n",
    "    \"V161228x\": \"pre_transgender_policy\",\n",
    "    \"V161229x\": \"pre_lgbt_protection_laws\",\n",
    "    \"V161231\": \"pre_gay_marriage\",\n",
    "    \"V161232\": \"pre_abortion\",\n",
    "    \"V161233x\": \"pre_death_penalty\",\n",
    "    \"V161235x\": \"pre_economy_since_2008\",\n",
    "    \"V161236\": \"pre_angry_at_obama\",\n",
    "    \"V161237\": \"pre_proud_of_obama\",\n",
    "    \"V161241\": \"pre_religion_importance\",\n",
    "    \"V161242\": \"pre_religion_provides_guidance\",\n",
    "    \"V161243\": \"pre_bible_word_of_got_or_men\",\n",
    "    \"V161244\": \"pre_attend_religions_services\",\n",
    "    \"V161245\": \"pre_how_often_religious_services\",\n",
    "    \"V161267x\": \"pre_age_group\",\n",
    "    \"V161268\": \"pre_marital_status\",\n",
    "    \"V161270\": \"pre_education_level\",\n",
    "    \"V161276x\": \"pre_occupation_status\",\n",
    "    \"V161310x\": \"pre_race\",\n",
    "    \"V161316\": \"pre_place_of_birth\",\n",
    "    \"V161324\": \"pre_children_in_household\",\n",
    "    \"V161326\": \"pre_home_internet_use\",\n",
    "    \"V161327\": \"pre_cell_or_landline\",\n",
    "    \"V161331x\": \"pre_length_in_current_coummunity\",\n",
    "    \"V161334\": \"pre_home_ownership\",\n",
    "    \"V161340\": \"pre_unexpired_passport\",\n",
    "    \"V161342\": \"pre_gender\",\n",
    "    \"V161343\": \"pre_roughing_up_protestors\",\n",
    "    \"V161344\": \"pre_justified_use_of_violence\",\n",
    "    \"V161345\": \"pre_feminist\",\n",
    "    \"V161361x\": \"pre_income\",\n",
    "    \"V161362\": \"pre_political_correctness\",\n",
    "    \"V161496\": \"pre_gun_ownership\",\n",
    "    \"V161507\": \"pre_sexist_remarks\",\n",
    "    \"V161508\": \"pre_women_appreciating_men\",\n",
    "    \"V161509\": \"pre_women_power_over_men\",\n",
    "    \"V161510\": \"pre_men_on_leash\",\n",
    "    \"V161511\": \"pre_sexual_orientation\",\n",
    "    \"V161515\": \"pre_party_representation_house\",\n",
    "    \"V161516\": \"pre_party_representation_senate\",\n",
    "    \"V161522\": \"pre_general_satisfaction\",\n",
    "    \"V162010\": \"pre_talk_about_voting\",\n",
    "    \"V162011\": \"pre_political_meetings\",\n",
    "    \"V162012\": \"pre_political_visibility\",\n",
    "    \"V162013\": \"pre_work_for_party\",\n",
    "    \"V162014\": \"pre_monetary_contribution_to_party\",\n",
    "    \"V162014a\": \"pre_party_contributed_to\",\n",
    "    \"V162016\": \"post_monetary_contribution_to_party\",\n",
    "    \"V162016a\": \"post_party_contributed_to\",\n",
    "    \"V162018a\": \"post_protest_participation\",\n",
    "    \"V162018b\": \"post_signed_petition\",\n",
    "    \"V162018c\": \"post_give_money_to_relig_org\",\n",
    "    \"V162018d\": \"post_give_money_to_soc_pol_org\",\n",
    "    \"V162018e\": \"post_social_media_political_message\",\n",
    "    \"V162019\": \"post_contact_representative\",\n",
    "    \"V162030x\": \"post_party_registration\",\n",
    "    \"V162031x\": \"post_voted_in_2016\",\n",
    "    \"V162062x\": \"post_pres_vote_admin\",\n",
    "    \"V162066x\": \"post_strength_of_vote\",\n",
    "    \"V162067x\": \"post_house_vote\",\n",
    "    \"V162068x\": \"post_senate_vote\",\n",
    "    \"V162069x\": \"post_governor_vote\",\n",
    "    \"V162078\": \"post_clinton_rating\",\n",
    "    \"V162079\": \"post_trump_rating\",\n",
    "    \"V162095\": \"post_christian_fundamentalist_rating\",\n",
    "    \"V162096\": \"post_feminist_rating\",\n",
    "    \"V162097\": \"post_liberal_rating\",\n",
    "    \"V162098\": \"post_labor_unions_rating\",\n",
    "    \"V162099\": \"post_poor_people_rating\",\n",
    "    \"V162100\": \"post_big_business_rating\",\n",
    "    \"V162101\": \"post_conservative_rating\",\n",
    "    \"V162102\": \"post_supreme_court_rating\",\n",
    "    \"V162103\": \"post_lgbt_rating\",\n",
    "    \"V162104\": \"post_congress_rating\",\n",
    "    \"V162105\": \"post_rich_people_rating\",\n",
    "    \"V162106\": \"post_muslims_rating\",\n",
    "    \"V162107\": \"post_christians_rating\",\n",
    "    \"V162108\": \"post_jews_rating\",\n",
    "    \"V162109\": \"post_tea_party_rating\",\n",
    "    \"V162110\": \"post_police_rating\",\n",
    "    \"V162111\": \"post_transgender_rating\",\n",
    "    \"V162112\": \"post_scientists_rating\",\n",
    "    \"V162113\": \"post_blm_rating\",\n",
    "    \"V162123\": \"post_world_like_america\",\n",
    "    \"V162125x\": \"post_american_flag\",\n",
    "    \"V162136x\": \"post_economic_mobility\",\n",
    "    \"V162147x\": \"post_vaccines\",\n",
    "    \"V162150x\": \"post_gender_income_equality\",\n",
    "    \"V162157\": \"post_immigration_levels\",\n",
    "    \"V162158\": \"post_immigration_takes_away_jobs\",\n",
    "    \"V162160\": \"post_worry_terrorist_attack\",\n",
    "    \"V162168\": \"post_need_free_thinkers\",\n",
    "    \"V162169\": \"post_rotten_apples\",\n",
    "    \"V162170\": \"post_strong_leader\",\n",
    "    \"V162171\": \"post_liberal_conservative\",\n",
    "    \"V162174a\": \"post_discuss_politics\",\n",
    "    \"V162178\": \"post_wiretaps\",\n",
    "    \"V162179\": \"post_marijuana\",\n",
    "    \"V162180x\": \"post_bank_regulation\",\n",
    "    \"V162188x\": \"post_trump_towards_women\",\n",
    "    \"V162191a\": \"post_which_is_conservative_party\",\n",
    "    \"V162193x\": \"post_healthcare_spending\",\n",
    "    \"V162207\": \"post_attitude_toward_changing_world\",\n",
    "    \"V162209\": \"post_tolerate_other_morals\",\n",
    "    \"V162210\": \"post_trad_values\",\n",
    "    \"V162211\": \"post_no_favors_for_blacks\",\n",
    "    \"V162212\": \"post_slavery_impact\",\n",
    "    \"V162213\": \"post_blacks_deserve_more\",\n",
    "    \"V162214\": \"post_blacks_should_try_harder\",\n",
    "    \"V162229x\": \"post_bond_with_child\",\n",
    "    \"V162230x\": \"post_man_works\",\n",
    "    \"V162231x\": \"post_women_discrimination\",\n",
    "    \"V162238x\": \"post_preferential_hiring\",\n",
    "    \"V162239\": \"post_child_indep_respect\",\n",
    "    \"V162240\": \"post_child_curiosity_manners\",\n",
    "    \"V162241\": \"post_child_obedience_self_reliance\",\n",
    "    \"V162242\": \"post_child_considerate_behave\",\n",
    "    \"V162254\": \"post_govt_knew_9_11\",\n",
    "    \"V162255x\": \"post_obama_muslim\",\n",
    "    \"V162262\": \"post_politicians_are_problem\",\n",
    "    \"V162263\": \"post_strong_leader_bend_rules\",\n",
    "    \"V162266\": \"post_minorities_should_adapt\",\n",
    "    \"V162268\": \"post_immigrants_good_for_economy\",\n",
    "    \"V162269\": \"post_immigrants_harm_culture\",\n",
    "    \"V162270\": \"post_immigrants_increase_crime\",\n",
    "    \"V162271\": \"post_truly_american_us_born\",\n",
    "    \"V162272\": \"post_truly_american_us_ancestry\",\n",
    "    \"V162273\": \"post_truly_american_speak_english\",\n",
    "    \"V162274\": \"post_truly_american_follow_trad\",\n",
    "    \"V162290\": \"post_satisfied_with_democracy\",\n",
    "    \"V162310\": \"post_asian_american_feeling_therm\",\n",
    "    \"V162311\": \"post_hispanics_feeling_therm\",\n",
    "    \"V162312\": \"post_blacks_feeling_therm\",\n",
    "    \"V162313\": \"post_illegal_imm_feeling_therm\",\n",
    "    \"V162314\": \"post_whites_feeling_therm\",\n",
    "    \"V162316\": \"post_whites_work_together\",\n",
    "    \"V162317\": \"post_hiring_minorities\",\n",
    "    \"V162318\": \"post_govt_treatment_whites_blacks\",\n",
    "    \"V162319\": \"post_govt_treatment_degree\",\n",
    "    \"V162320\": \"post_police_treatment_whites_blacks\",\n",
    "    \"V162321\": \"post_police_treatment_degree\",\n",
    "    \"V162322\": \"post_white_influence\",\n",
    "    \"V162323\": \"post_black_influence\",\n",
    "    \"V162324\": \"post_hispanic_influence\",\n",
    "    \"V162325\": \"post_asian_influence\",\n",
    "    \"V162345\": \"post_whites_hardworking\",\n",
    "    \"V162346\": \"post_blacks_hardworking\",\n",
    "    \"V162347\": \"post_hispanics_hardworking\",\n",
    "    \"V162348\": \"post_asians_hardworking\",\n",
    "    \"V162349\": \"post_whites_violent\",\n",
    "    \"V162350\": \"post_blacks_violent\",\n",
    "    \"V162351\": \"post_hispanics_violent\",\n",
    "    \"V162352\": \"post_asians_violent\",\n",
    "    \"V162353\": \"post_muslims_violent\",\n",
    "    \"V162354\": \"post_christians_violent\",\n",
    "    \"V162355\": \"post_muslims_patriotic\",\n",
    "    \"V162356\": \"post_christians_patriotic\",\n",
    "    \"V162357\": \"post_discrim_blacks\",\n",
    "    \"V162358\": \"post_discrim_hispanics\",\n",
    "    \"V162359\": \"post_discrim_asians\",\n",
    "    \"V162360\": \"post_discrim_whites\",\n",
    "    \"V162361\": \"post_discrim_lgbt\",\n",
    "    \"V162362\": \"post_discrim_women\",\n",
    "    \"V162363\": \"post_discrim_men\",\n",
    "    \"V162364\": \"post_discrim_muslim\",\n",
    "    \"V162365\": \"post_discrim_christian\",\n",
    "    \"V162366\": \"post_discrim_transgender\",\n",
    "    \"V162367\": \"post_discrim_personal\",\n",
    "    \"V162368\": \"post_skintone\",\n",
    "    \"V162369\": \"post_discrim_skintone\",\n",
    "    \"V168112\": \"post_inform_level\",\n",
    "    \"V168113\": \"post_intelligence\"\n",
    "}"
   ]
  },
  {
   "cell_type": "code",
   "execution_count": 4,
   "metadata": {},
   "outputs": [
    {
     "data": {
      "text/html": [
       "<div>\n",
       "<style>\n",
       "    .dataframe thead tr:only-child th {\n",
       "        text-align: right;\n",
       "    }\n",
       "\n",
       "    .dataframe thead th {\n",
       "        text-align: left;\n",
       "    }\n",
       "\n",
       "    .dataframe tbody tr th {\n",
       "        vertical-align: top;\n",
       "    }\n",
       "</style>\n",
       "<table border=\"1\" class=\"dataframe\">\n",
       "  <thead>\n",
       "    <tr style=\"text-align: right;\">\n",
       "      <th></th>\n",
       "      <th>pre_election_weight_ftf</th>\n",
       "      <th>post_election_weight_ftf</th>\n",
       "      <th>pre_voting_status</th>\n",
       "      <th>pre_economy_last_year</th>\n",
       "      <th>pre_party_id</th>\n",
       "      <th>pre_gun_access_importance</th>\n",
       "      <th>pre_unauthorized_immigrants</th>\n",
       "      <th>pre_birthright_citizenship</th>\n",
       "      <th>pre_govt_assist_to_blacks</th>\n",
       "      <th>pre_affirmative_action</th>\n",
       "      <th>...</th>\n",
       "      <th>post_discrim_women</th>\n",
       "      <th>post_discrim_men</th>\n",
       "      <th>post_discrim_muslim</th>\n",
       "      <th>post_discrim_christian</th>\n",
       "      <th>post_discrim_transgender</th>\n",
       "      <th>post_discrim_personal</th>\n",
       "      <th>post_skintone</th>\n",
       "      <th>post_discrim_skintone</th>\n",
       "      <th>post_inform_level</th>\n",
       "      <th>post_intelligence</th>\n",
       "    </tr>\n",
       "  </thead>\n",
       "  <tbody>\n",
       "    <tr>\n",
       "      <th>0</th>\n",
       "      <td>0.887</td>\n",
       "      <td>0.927</td>\n",
       "      <td>3</td>\n",
       "      <td>5</td>\n",
       "      <td>7</td>\n",
       "      <td>2</td>\n",
       "      <td>3</td>\n",
       "      <td>4</td>\n",
       "      <td>7</td>\n",
       "      <td>4</td>\n",
       "      <td>...</td>\n",
       "      <td>4</td>\n",
       "      <td>3</td>\n",
       "      <td>4</td>\n",
       "      <td>4</td>\n",
       "      <td>4</td>\n",
       "      <td>-4</td>\n",
       "      <td>3</td>\n",
       "      <td>4</td>\n",
       "      <td>4</td>\n",
       "      <td>4</td>\n",
       "    </tr>\n",
       "    <tr>\n",
       "      <th>1</th>\n",
       "      <td>1.160</td>\n",
       "      <td>1.084</td>\n",
       "      <td>3</td>\n",
       "      <td>3</td>\n",
       "      <td>6</td>\n",
       "      <td>1</td>\n",
       "      <td>1</td>\n",
       "      <td>1</td>\n",
       "      <td>7</td>\n",
       "      <td>6</td>\n",
       "      <td>...</td>\n",
       "      <td>3</td>\n",
       "      <td>3</td>\n",
       "      <td>1</td>\n",
       "      <td>4</td>\n",
       "      <td>1</td>\n",
       "      <td>-4</td>\n",
       "      <td>3</td>\n",
       "      <td>4</td>\n",
       "      <td>1</td>\n",
       "      <td>2</td>\n",
       "    </tr>\n",
       "    <tr>\n",
       "      <th>2</th>\n",
       "      <td>0.416</td>\n",
       "      <td>0.398</td>\n",
       "      <td>1</td>\n",
       "      <td>3</td>\n",
       "      <td>3</td>\n",
       "      <td>2</td>\n",
       "      <td>1</td>\n",
       "      <td>7</td>\n",
       "      <td>7</td>\n",
       "      <td>4</td>\n",
       "      <td>...</td>\n",
       "      <td>2</td>\n",
       "      <td>3</td>\n",
       "      <td>1</td>\n",
       "      <td>2</td>\n",
       "      <td>1</td>\n",
       "      <td>-4</td>\n",
       "      <td>2</td>\n",
       "      <td>4</td>\n",
       "      <td>4</td>\n",
       "      <td>3</td>\n",
       "    </tr>\n",
       "    <tr>\n",
       "      <th>3</th>\n",
       "      <td>0.385</td>\n",
       "      <td>0.418</td>\n",
       "      <td>4</td>\n",
       "      <td>3</td>\n",
       "      <td>5</td>\n",
       "      <td>1</td>\n",
       "      <td>3</td>\n",
       "      <td>4</td>\n",
       "      <td>5</td>\n",
       "      <td>6</td>\n",
       "      <td>...</td>\n",
       "      <td>3</td>\n",
       "      <td>3</td>\n",
       "      <td>2</td>\n",
       "      <td>3</td>\n",
       "      <td>2</td>\n",
       "      <td>-4</td>\n",
       "      <td>4</td>\n",
       "      <td>4</td>\n",
       "      <td>2</td>\n",
       "      <td>2</td>\n",
       "    </tr>\n",
       "    <tr>\n",
       "      <th>4</th>\n",
       "      <td>0.693</td>\n",
       "      <td>0.726</td>\n",
       "      <td>3</td>\n",
       "      <td>3</td>\n",
       "      <td>3</td>\n",
       "      <td>1</td>\n",
       "      <td>3</td>\n",
       "      <td>6</td>\n",
       "      <td>7</td>\n",
       "      <td>7</td>\n",
       "      <td>...</td>\n",
       "      <td>2</td>\n",
       "      <td>4</td>\n",
       "      <td>3</td>\n",
       "      <td>2</td>\n",
       "      <td>3</td>\n",
       "      <td>-4</td>\n",
       "      <td>2</td>\n",
       "      <td>5</td>\n",
       "      <td>4</td>\n",
       "      <td>3</td>\n",
       "    </tr>\n",
       "  </tbody>\n",
       "</table>\n",
       "<p>5 rows × 197 columns</p>\n",
       "</div>"
      ],
      "text/plain": [
       "   pre_election_weight_ftf  post_election_weight_ftf  pre_voting_status  \\\n",
       "0                    0.887                     0.927                  3   \n",
       "1                    1.160                     1.084                  3   \n",
       "2                    0.416                     0.398                  1   \n",
       "3                    0.385                     0.418                  4   \n",
       "4                    0.693                     0.726                  3   \n",
       "\n",
       "   pre_economy_last_year  pre_party_id  pre_gun_access_importance  \\\n",
       "0                      5             7                          2   \n",
       "1                      3             6                          1   \n",
       "2                      3             3                          2   \n",
       "3                      3             5                          1   \n",
       "4                      3             3                          1   \n",
       "\n",
       "   pre_unauthorized_immigrants  pre_birthright_citizenship  \\\n",
       "0                            3                           4   \n",
       "1                            1                           1   \n",
       "2                            1                           7   \n",
       "3                            3                           4   \n",
       "4                            3                           6   \n",
       "\n",
       "   pre_govt_assist_to_blacks  pre_affirmative_action        ...          \\\n",
       "0                          7                       4        ...           \n",
       "1                          7                       6        ...           \n",
       "2                          7                       4        ...           \n",
       "3                          5                       6        ...           \n",
       "4                          7                       7        ...           \n",
       "\n",
       "   post_discrim_women  post_discrim_men  post_discrim_muslim  \\\n",
       "0                   4                 3                    4   \n",
       "1                   3                 3                    1   \n",
       "2                   2                 3                    1   \n",
       "3                   3                 3                    2   \n",
       "4                   2                 4                    3   \n",
       "\n",
       "   post_discrim_christian  post_discrim_transgender  post_discrim_personal  \\\n",
       "0                       4                         4                     -4   \n",
       "1                       4                         1                     -4   \n",
       "2                       2                         1                     -4   \n",
       "3                       3                         2                     -4   \n",
       "4                       2                         3                     -4   \n",
       "\n",
       "   post_skintone  post_discrim_skintone  post_inform_level  post_intelligence  \n",
       "0              3                      4                  4                  4  \n",
       "1              3                      4                  1                  2  \n",
       "2              2                      4                  4                  3  \n",
       "3              4                      4                  2                  2  \n",
       "4              2                      5                  4                  3  \n",
       "\n",
       "[5 rows x 197 columns]"
      ]
     },
     "execution_count": 4,
     "metadata": {},
     "output_type": "execute_result"
    }
   ],
   "source": [
    "anes = anes_raw.rename(index = str, columns=new_names)\n",
    "anes.head()"
   ]
  },
  {
   "cell_type": "markdown",
   "metadata": {},
   "source": [
    "### Null Values"
   ]
  },
  {
   "cell_type": "markdown",
   "metadata": {},
   "source": [
    "Our data also contain a lot of missing values. The creators of the survey wanted a way to encode different reasons why a value is missing by assigning different reasons to different negative numbers. However, for our purposes, we would just like to know if a value is missing, so we can just replace these with `np.NaN`. `NaN` stands for \"not a number,\" and is just a handy way for us to indicate missing values."
   ]
  },
  {
   "cell_type": "code",
   "execution_count": 5,
   "metadata": {
    "collapsed": true
   },
   "outputs": [],
   "source": [
    "anes[anes < 0] = np.nan\n",
    "anes[anes > 100] = np.nan"
   ]
  },
  {
   "cell_type": "markdown",
   "metadata": {},
   "source": [
    "## Groupby and Summary Statistics"
   ]
  },
  {
   "cell_type": "markdown",
   "metadata": {},
   "source": [
    "With data this large, it's often difficult to know where to start looking. It's often handy to start by looking at individual columns and getting some basic information about how different variables interact. Groupby operations generally follow a similar format. First `groupby` your category(s) of interest, then select columns to compare, and finally apply `agg`regator function(s). Here's are some examples of what this looks like:"
   ]
  },
  {
   "cell_type": "code",
   "execution_count": 6,
   "metadata": {
    "collapsed": true
   },
   "outputs": [],
   "source": [
    "# First, we need to change the values from the survey data from numbers into \n",
    "# more easily understandable information. Here is an example of how you can do\n",
    "# this using the pd.Series.map function. You will need to refer to the \n",
    "# codebook to find out what the values mean. If you need to change the values\n",
    "# of any other columns, you can use this function.\n",
    "def change_values(column, new_values):\n",
    "    anes[column] = anes[column].map(new_values, na_action=\"ignore\")\n",
    "    \n",
    "parties = {\n",
    "    1.0: \"dem\",\n",
    "    2.0: \"rep\",\n",
    "    3.0: \"indep\",\n",
    "    4.0: \"other\"\n",
    "}\n",
    "change_values(\"post_party_registration\", parties)"
   ]
  },
  {
   "cell_type": "code",
   "execution_count": 7,
   "metadata": {},
   "outputs": [
    {
     "data": {
      "text/html": [
       "<div>\n",
       "<style>\n",
       "    .dataframe thead tr:only-child th {\n",
       "        text-align: right;\n",
       "    }\n",
       "\n",
       "    .dataframe thead th {\n",
       "        text-align: left;\n",
       "    }\n",
       "\n",
       "    .dataframe tbody tr th {\n",
       "        vertical-align: top;\n",
       "    }\n",
       "</style>\n",
       "<table border=\"1\" class=\"dataframe\">\n",
       "  <thead>\n",
       "    <tr>\n",
       "      <th></th>\n",
       "      <th colspan=\"2\" halign=\"left\">post_whites_violent</th>\n",
       "      <th colspan=\"2\" halign=\"left\">post_blacks_violent</th>\n",
       "      <th colspan=\"2\" halign=\"left\">post_muslims_violent</th>\n",
       "      <th colspan=\"2\" halign=\"left\">post_christians_violent</th>\n",
       "    </tr>\n",
       "    <tr>\n",
       "      <th></th>\n",
       "      <th>mean</th>\n",
       "      <th>std</th>\n",
       "      <th>mean</th>\n",
       "      <th>std</th>\n",
       "      <th>mean</th>\n",
       "      <th>std</th>\n",
       "      <th>mean</th>\n",
       "      <th>std</th>\n",
       "    </tr>\n",
       "    <tr>\n",
       "      <th>post_party_registration</th>\n",
       "      <th></th>\n",
       "      <th></th>\n",
       "      <th></th>\n",
       "      <th></th>\n",
       "      <th></th>\n",
       "      <th></th>\n",
       "      <th></th>\n",
       "      <th></th>\n",
       "    </tr>\n",
       "  </thead>\n",
       "  <tbody>\n",
       "    <tr>\n",
       "      <th>dem</th>\n",
       "      <td>3.612219</td>\n",
       "      <td>1.452709</td>\n",
       "      <td>3.987562</td>\n",
       "      <td>1.388386</td>\n",
       "      <td>3.612500</td>\n",
       "      <td>1.441333</td>\n",
       "      <td>3.053549</td>\n",
       "      <td>1.457929</td>\n",
       "    </tr>\n",
       "    <tr>\n",
       "      <th>other</th>\n",
       "      <td>3.369412</td>\n",
       "      <td>1.259869</td>\n",
       "      <td>4.162353</td>\n",
       "      <td>1.292027</td>\n",
       "      <td>3.966981</td>\n",
       "      <td>1.350543</td>\n",
       "      <td>2.938967</td>\n",
       "      <td>1.431094</td>\n",
       "    </tr>\n",
       "    <tr>\n",
       "      <th>rep</th>\n",
       "      <td>2.927242</td>\n",
       "      <td>1.155584</td>\n",
       "      <td>4.384095</td>\n",
       "      <td>1.328827</td>\n",
       "      <td>4.424448</td>\n",
       "      <td>1.533020</td>\n",
       "      <td>2.334459</td>\n",
       "      <td>1.186341</td>\n",
       "    </tr>\n",
       "  </tbody>\n",
       "</table>\n",
       "</div>"
      ],
      "text/plain": [
       "                        post_whites_violent           post_blacks_violent  \\\n",
       "                                       mean       std                mean   \n",
       "post_party_registration                                                     \n",
       "dem                                3.612219  1.452709            3.987562   \n",
       "other                              3.369412  1.259869            4.162353   \n",
       "rep                                2.927242  1.155584            4.384095   \n",
       "\n",
       "                                  post_muslims_violent            \\\n",
       "                              std                 mean       std   \n",
       "post_party_registration                                            \n",
       "dem                      1.388386             3.612500  1.441333   \n",
       "other                    1.292027             3.966981  1.350543   \n",
       "rep                      1.328827             4.424448  1.533020   \n",
       "\n",
       "                        post_christians_violent            \n",
       "                                           mean       std  \n",
       "post_party_registration                                    \n",
       "dem                                    3.053549  1.457929  \n",
       "other                                  2.938967  1.431094  \n",
       "rep                                    2.334459  1.186341  "
      ]
     },
     "execution_count": 7,
     "metadata": {},
     "output_type": "execute_result"
    }
   ],
   "source": [
    "# Grouping by a single column, then performing multiple agg functions on multiple columns\n",
    "demographics = anes.groupby(\"post_party_registration\")[\"post_whites_violent\",\n",
    "                                                       \"post_blacks_violent\",\n",
    "                                                       \"post_muslims_violent\",\n",
    "                                                       \"post_christians_violent\"].agg([\"mean\", \"std\"])\n",
    "demographics"
   ]
  },
  {
   "cell_type": "markdown",
   "metadata": {},
   "source": [
    "From this simple groupby, we can see that the different political parties, on average, do have different attitudes about different racial and religious groups."
   ]
  },
  {
   "cell_type": "code",
   "execution_count": 8,
   "metadata": {},
   "outputs": [
    {
     "data": {
      "text/html": [
       "<div>\n",
       "<style>\n",
       "    .dataframe thead tr:only-child th {\n",
       "        text-align: right;\n",
       "    }\n",
       "\n",
       "    .dataframe thead th {\n",
       "        text-align: left;\n",
       "    }\n",
       "\n",
       "    .dataframe tbody tr th {\n",
       "        vertical-align: top;\n",
       "    }\n",
       "</style>\n",
       "<table border=\"1\" class=\"dataframe\">\n",
       "  <thead>\n",
       "    <tr style=\"text-align: right;\">\n",
       "      <th></th>\n",
       "      <th></th>\n",
       "      <th>count</th>\n",
       "    </tr>\n",
       "    <tr>\n",
       "      <th>post_party_registration</th>\n",
       "      <th>post_marijuana</th>\n",
       "      <th></th>\n",
       "    </tr>\n",
       "  </thead>\n",
       "  <tbody>\n",
       "    <tr>\n",
       "      <th rowspan=\"3\" valign=\"top\">dem</th>\n",
       "      <th>neither</th>\n",
       "      <td>187</td>\n",
       "    </tr>\n",
       "    <tr>\n",
       "      <th>oppose</th>\n",
       "      <td>196</td>\n",
       "    </tr>\n",
       "    <tr>\n",
       "      <th>support</th>\n",
       "      <td>442</td>\n",
       "    </tr>\n",
       "    <tr>\n",
       "      <th rowspan=\"3\" valign=\"top\">other</th>\n",
       "      <th>neither</th>\n",
       "      <td>105</td>\n",
       "    </tr>\n",
       "    <tr>\n",
       "      <th>oppose</th>\n",
       "      <td>113</td>\n",
       "    </tr>\n",
       "    <tr>\n",
       "      <th>support</th>\n",
       "      <td>217</td>\n",
       "    </tr>\n",
       "    <tr>\n",
       "      <th rowspan=\"3\" valign=\"top\">rep</th>\n",
       "      <th>neither</th>\n",
       "      <td>143</td>\n",
       "    </tr>\n",
       "    <tr>\n",
       "      <th>oppose</th>\n",
       "      <td>264</td>\n",
       "    </tr>\n",
       "    <tr>\n",
       "      <th>support</th>\n",
       "      <td>192</td>\n",
       "    </tr>\n",
       "  </tbody>\n",
       "</table>\n",
       "</div>"
      ],
      "text/plain": [
       "                                        count\n",
       "post_party_registration post_marijuana       \n",
       "dem                     neither           187\n",
       "                        oppose            196\n",
       "                        support           442\n",
       "other                   neither           105\n",
       "                        oppose            113\n",
       "                        support           217\n",
       "rep                     neither           143\n",
       "                        oppose            264\n",
       "                        support           192"
      ]
     },
     "execution_count": 8,
     "metadata": {},
     "output_type": "execute_result"
    }
   ],
   "source": [
    "# Grouping by multiple columns. Here, the selected column is a dummy column that\n",
    "# I know contains no NA values so that our aggregator function will count the\n",
    "# full size of each group.\n",
    "\n",
    "support_marijuana = {\n",
    "    1.0: \"support\",\n",
    "    2.0: \"oppose\",\n",
    "    3.0: \"neither\"\n",
    "}\n",
    "change_values(\"post_marijuana\", support_marijuana)\n",
    "\n",
    "party_by_race = anes.groupby([\"post_party_registration\", \"post_marijuana\"])[\"pre_voting_status\"].agg(['count'])\n",
    "party_by_race"
   ]
  },
  {
   "cell_type": "markdown",
   "metadata": {},
   "source": [
    "From this table, we can see that different parties do have generally different opinions regarding the legalization of marijuana. "
   ]
  },
  {
   "cell_type": "markdown",
   "metadata": {},
   "source": [
    "As you can see, you can group by multiple columns, select multiple columns to aggregate on, and even use multiple aggregator functions. More information can be found in the documentation for [`.groupby`](https://pandas.pydata.org/pandas-docs/stable/generated/pandas.DataFrame.groupby.html) and [`.agg`](https://pandas.pydata.org/pandas-docs/stable/generated/pandas.core.groupby.DataFrameGroupBy.agg.html).\n",
    "\n",
    "Now see if you can use these methods to do your own groupby operation on how the different parties viewed crime spending before the election. Refer back to the dictionary above if you are having trouble finding the name of the column you need. You will need to change the values in the column in order to have easily interpretable results."
   ]
  },
  {
   "cell_type": "code",
   "execution_count": 9,
   "metadata": {},
   "outputs": [
    {
     "data": {
      "text/html": [
       "<div>\n",
       "<style>\n",
       "    .dataframe thead tr:only-child th {\n",
       "        text-align: right;\n",
       "    }\n",
       "\n",
       "    .dataframe thead th {\n",
       "        text-align: left;\n",
       "    }\n",
       "\n",
       "    .dataframe tbody tr th {\n",
       "        vertical-align: top;\n",
       "    }\n",
       "</style>\n",
       "<table border=\"1\" class=\"dataframe\">\n",
       "  <thead>\n",
       "    <tr style=\"text-align: right;\">\n",
       "      <th></th>\n",
       "      <th></th>\n",
       "      <th>count</th>\n",
       "    </tr>\n",
       "    <tr>\n",
       "      <th>post_party_registration</th>\n",
       "      <th>pre_crime_budget</th>\n",
       "      <th></th>\n",
       "    </tr>\n",
       "  </thead>\n",
       "  <tbody>\n",
       "    <tr>\n",
       "      <th rowspan=\"3\" valign=\"top\">dem</th>\n",
       "      <th>decrease</th>\n",
       "      <td>89</td>\n",
       "    </tr>\n",
       "    <tr>\n",
       "      <th>increase</th>\n",
       "      <td>585</td>\n",
       "    </tr>\n",
       "    <tr>\n",
       "      <th>same</th>\n",
       "      <td>285</td>\n",
       "    </tr>\n",
       "    <tr>\n",
       "      <th rowspan=\"3\" valign=\"top\">other</th>\n",
       "      <th>decrease</th>\n",
       "      <td>37</td>\n",
       "    </tr>\n",
       "    <tr>\n",
       "      <th>increase</th>\n",
       "      <td>286</td>\n",
       "    </tr>\n",
       "    <tr>\n",
       "      <th>same</th>\n",
       "      <td>175</td>\n",
       "    </tr>\n",
       "    <tr>\n",
       "      <th rowspan=\"3\" valign=\"top\">rep</th>\n",
       "      <th>decrease</th>\n",
       "      <td>54</td>\n",
       "    </tr>\n",
       "    <tr>\n",
       "      <th>increase</th>\n",
       "      <td>446</td>\n",
       "    </tr>\n",
       "    <tr>\n",
       "      <th>same</th>\n",
       "      <td>201</td>\n",
       "    </tr>\n",
       "  </tbody>\n",
       "</table>\n",
       "</div>"
      ],
      "text/plain": [
       "                                          count\n",
       "post_party_registration pre_crime_budget       \n",
       "dem                     decrease             89\n",
       "                        increase            585\n",
       "                        same                285\n",
       "other                   decrease             37\n",
       "                        increase            286\n",
       "                        same                175\n",
       "rep                     decrease             54\n",
       "                        increase            446\n",
       "                        same                201"
      ]
     },
     "execution_count": 9,
     "metadata": {},
     "output_type": "execute_result"
    }
   ],
   "source": [
    "# EXAMPLE\n",
    "crime = {\n",
    "    1.0: \"increase\",\n",
    "    2.0: \"decrease\",\n",
    "    3.0: \"same\"\n",
    "}\n",
    "change_values(\"pre_crime_budget\", crime)\n",
    "\n",
    "anes.groupby([\"post_party_registration\", \"pre_crime_budget\"])[\"pre_voting_status\"].agg([\"count\"])"
   ]
  },
  {
   "cell_type": "markdown",
   "metadata": {},
   "source": [
    "## Visualizations"
   ]
  },
  {
   "cell_type": "markdown",
   "metadata": {},
   "source": [
    "### Histograms"
   ]
  },
  {
   "cell_type": "markdown",
   "metadata": {},
   "source": [
    "Histograms are a nifty way to display quantitative information. The x-axis is typically a quantitative variable of interest, and the y-axis is generally a frequency. Plot a histogram of the losses, and then experiment with the bin sizes."
   ]
  },
  {
   "cell_type": "code",
   "execution_count": 10,
   "metadata": {},
   "outputs": [
    {
     "data": {
      "image/png": "[encoded data removed]",
      "text/plain": [
       "<matplotlib.figure.Figure at 0x113592898>"
      ]
     },
     "metadata": {},
     "output_type": "display_data"
    }
   ],
   "source": [
    "anes.hist('post_rich_people_rating', bins=range(0,100,10));"
   ]
  },
  {
   "cell_type": "code",
   "execution_count": 11,
   "metadata": {},
   "outputs": [
    {
     "data": {
      "image/png": "[encoded data removed]",
      "text/plain": [
       "<matplotlib.figure.Figure at 0x1137d75c0>"
      ]
     },
     "metadata": {},
     "output_type": "display_data"
    }
   ],
   "source": [
    "anes.hist('post_rich_people_rating', bins=range(0,100,1));"
   ]
  },
  {
   "cell_type": "markdown",
   "metadata": {},
   "source": [
    "#### Question 1: Histograms"
   ]
  },
  {
   "cell_type": "markdown",
   "metadata": {},
   "source": [
    "What happens as you increase the number of bins to 100? Does having too many bins hinder interpretation?"
   ]
  },
  {
   "cell_type": "markdown",
   "metadata": {},
   "source": [
    "As the bin number increases, bins get smaller. Since this variable is a respondent generated rating, many of the responses cluster around nonrandom values (i.e. 50/100), and we get a few very tall bars with a lot of very short bars. In this case, having fewer bins allows us to more easily interpret the data by minimizing the effect of numbers that are more likely to be chosen."
   ]
  },
  {
   "cell_type": "markdown",
   "metadata": {},
   "source": [
    "### Scatter Plots"
   ]
  },
  {
   "cell_type": "markdown",
   "metadata": {},
   "source": [
    "Scatter plots are generally used to relate two variables to one another. They can be useful when trying to infer relationships between variables, visualize simple regressions, and get a general sense of the \"spread\" of your data. Run the following code to plot each individual's response about whether minorities should adapt to American culture against the response about whether or speaking English is required to be \"truly American.\""
   ]
  },
  {
   "cell_type": "code",
   "execution_count": 12,
   "metadata": {},
   "outputs": [
    {
     "data": {
      "image/png": "[encoded data removed]",
      "text/plain": [
       "<matplotlib.figure.Figure at 0x113a9a668>"
      ]
     },
     "metadata": {},
     "output_type": "display_data"
    }
   ],
   "source": [
    "# Since our data is all categorical, an unaltered scatterplot would have many overlapping points\n",
    "# that would mask the density of our data. In order to see all the points so we can better\n",
    "# understand the distribution of our data, we can use a technique called jittering, where the\n",
    "# values are all adjusted slightly by a random amount so that they no longer overlap. It's ok if\n",
    "# you don't understand what this code is doing!\n",
    "x = [i + np.random.normal(scale = 0.25) for i in anes[\"post_minorities_should_adapt\"]]\n",
    "y = [i + np.random.normal(scale = 0.25) for i in anes[\"post_truly_american_speak_english\"]]\n",
    "\n",
    "plt.scatter(x, y, alpha=0.5)\n",
    "plt.xlabel(\"post_minorities_should_adapt\")\n",
    "plt.ylabel(\"post_truly_american_speak_english\");"
   ]
  },
  {
   "cell_type": "markdown",
   "metadata": {},
   "source": [
    "#### Question 2: Scatterplots"
   ]
  },
  {
   "cell_type": "markdown",
   "metadata": {},
   "source": [
    "Looking at the scatterplot above, what can you infer about attitudes towards immigrants? What other variables might you want to compare to corroborate this?"
   ]
  },
  {
   "cell_type": "markdown",
   "metadata": {},
   "source": [
    "In general, the majority of the clustering is around values of 0 for both variables, meaning that in general most respondents do not strongly agree with the statements. Additionally, the density of points along the x-axis is more spread out, which inc=dicates that respondents in general agree more with minorities needing to adapt to majority culture than minorities needing to speak English to be truly American. Very few respondents thought that minorities should speak English but do not need to adapt to the majority culture, while a moderate number of respondents agreed with the reverse of that."
   ]
  },
  {
   "cell_type": "markdown",
   "metadata": {},
   "source": [
    "### Boxplots"
   ]
  },
  {
   "cell_type": "markdown",
   "metadata": {},
   "source": [
    "Boxplots can be used to get a general idea of the spread of your data, and are especially useful if you need to compare across more than two categories. For example, if we want to look at how different political parties perceive different groups, we can use a boxplot to easily construct these comparisons."
   ]
  },
  {
   "cell_type": "code",
   "execution_count": 13,
   "metadata": {},
   "outputs": [
    {
     "data": {
      "image/png": "[encoded data removed]",
      "text/plain": [
       "<matplotlib.figure.Figure at 0x119dba588>"
      ]
     },
     "metadata": {},
     "output_type": "display_data"
    }
   ],
   "source": [
    "anes.boxplot(column=[\"post_illegal_imm_feeling_therm\", \"post_christians_rating\"], by=\"post_party_registration\")\n",
    "plt.suptitle('');"
   ]
  },
  {
   "cell_type": "markdown",
   "metadata": {},
   "source": [
    "#### Question 3: Boxplots"
   ]
  },
  {
   "cell_type": "markdown",
   "metadata": {},
   "source": [
    "In the past few sections we have seen some ways that a lack of continuity in our data can affect the visualizations we produce. Why or why not is it ok to use data we know are discrete in these boxplots?"
   ]
  },
  {
   "cell_type": "markdown",
   "metadata": {},
   "source": [
    "For these box plots, we are just getting a general idea of the preceptions the different parties have about the different groups. Even though our data is neither discrete nor nicely distributed, we can still get an idea of the differences between parties using this data."
   ]
  },
  {
   "cell_type": "markdown",
   "metadata": {},
   "source": [
    "### Practice with Plots"
   ]
  },
  {
   "cell_type": "markdown",
   "metadata": {},
   "source": [
    "Practice on your own! Try plotting a visualization of some variables that you find interesting in the data, then interpret them. If you're feeling ambitious, try creating a graph that we haven't described here by looking at the [matplotlib](https://matplotlib.org/gallery/index.html) documentation!"
   ]
  },
  {
   "cell_type": "code",
   "execution_count": 14,
   "metadata": {},
   "outputs": [
    {
     "data": {
      "image/png": "[encoded data removed]",
      "text/plain": [
       "<matplotlib.figure.Figure at 0x119fec208>"
      ]
     },
     "metadata": {},
     "output_type": "display_data"
    }
   ],
   "source": [
    "# EXAMPLE\n",
    "anes.boxplot(column=[\"post_discrim_lgbt\", \"post_discrim_transgender\"], by=\"post_party_registration\")\n",
    "plt.suptitle('');"
   ]
  },
  {
   "cell_type": "markdown",
   "metadata": {},
   "source": [
    "Generally democrats and other believe that LGBT and transgender individuals are victims of discrimination to a greater degree than republicans. We can also see the effect that our discrete data have on these visualizations because in some of our bars, the mean and the end of a quartile are in the same place."
   ]
  },
  {
   "cell_type": "markdown",
   "metadata": {},
   "source": [
    "## Lopsided Distributions"
   ]
  },
  {
   "cell_type": "markdown",
   "metadata": {},
   "source": [
    "With symmetrical data, we expect measures of central tendency (mean, median, and mode) to all overlap. When data are not distributed symmetrically, we often say that the data is _skewed right_ (right tailed) or _skewed left_ (left-tailed), and the mean, median, and mode typically do not overlap. "
   ]
  },
  {
   "cell_type": "code",
   "execution_count": 15,
   "metadata": {},
   "outputs": [
    {
     "data": {
      "image/png": "[encoded data removed]",
      "text/plain": [
       "<matplotlib.figure.Figure at 0x1136cb1d0>"
      ]
     },
     "metadata": {},
     "output_type": "display_data"
    }
   ],
   "source": [
    "mobility = anes[\"post_economic_mobility\"]\n",
    "mobility.hist(bins = np.arange(8))\n",
    "plt.axvline(x = mobility.mean(), color=\"red\", label = \"mean\")\n",
    "plt.axvline(x = mobility.median(), color=\"green\", label = \"median\")\n",
    "plt.axvline(x = mobility.mode()[0], color=\"yellow\", label = \"mode\")\n",
    "plt.legend();"
   ]
  },
  {
   "cell_type": "markdown",
   "metadata": {},
   "source": [
    "Notice that this variable is skewed left, and the mean has been pulled to the left when compared to the median. Since this variable has a particularly extreme skew, the mode is at the extreme right of the graph and is not a particularly good measure of central tendency."
   ]
  },
  {
   "cell_type": "markdown",
   "metadata": {},
   "source": [
    "Sometimes, just looking at the histogram can hide trends. For instance, look at the histogram of the column asking how often the respondent felt proud of President Obama. Note that 1 = \"Never\" and 5 = \"Always\"."
   ]
  },
  {
   "cell_type": "code",
   "execution_count": 16,
   "metadata": {},
   "outputs": [
    {
     "data": {
      "image/png": "[encoded data removed]",
      "text/plain": [
       "<matplotlib.figure.Figure at 0x119c4acc0>"
      ]
     },
     "metadata": {},
     "output_type": "display_data"
    }
   ],
   "source": [
    "trump = anes[\"pre_proud_of_obama\"]\n",
    "trump.hist(bins=np.arange(1, 6))\n",
    "plt.axvline(x = trump.mean(), color=\"red\", label = \"mean\")\n",
    "plt.axvline(x = trump.median(), color=\"green\", label = \"median\")\n",
    "plt.axvline(x = trump.mode()[0], color=\"yellow\", label = \"mode\")\n",
    "plt.legend();"
   ]
  },
  {
   "cell_type": "markdown",
   "metadata": {},
   "source": [
    "There doesn't appear to be a significant trend based on this histogram. However, this particular example should make you itch to do a groupby on party affiliation to see if there are any trends we can tease out."
   ]
  },
  {
   "cell_type": "code",
   "execution_count": 17,
   "metadata": {},
   "outputs": [
    {
     "data": {
      "image/png": "[encoded data removed]",
      "text/plain": [
       "<matplotlib.figure.Figure at 0x1136d50b8>"
      ]
     },
     "metadata": {},
     "output_type": "display_data"
    }
   ],
   "source": [
    "anes.boxplot(column=\"pre_proud_of_obama\", by=\"post_party_registration\")\n",
    "plt.suptitle(\"\");"
   ]
  },
  {
   "cell_type": "markdown",
   "metadata": {},
   "source": [
    "The green line shows the mean ratings for the different parties. As expected, the distribution of this variable is very different when different political parties are considered separately. Plotting Democrat and Republican responses in the same histogram makes this even clearer."
   ]
  },
  {
   "cell_type": "code",
   "execution_count": 18,
   "metadata": {},
   "outputs": [
    {
     "name": "stderr",
     "output_type": "stream",
     "text": [
      "/Users/monicawilkinson/anaconda3/lib/python3.6/site-packages/numpy/lib/function_base.py:747: RuntimeWarning: invalid value encountered in greater_equal\n",
      "  keep = (tmp_a >= mn)\n",
      "/Users/monicawilkinson/anaconda3/lib/python3.6/site-packages/numpy/lib/function_base.py:748: RuntimeWarning: invalid value encountered in less_equal\n",
      "  keep &= (tmp_a <= mx)\n"
     ]
    },
    {
     "data": {
      "image/png": "[encoded data removed]",
      "text/plain": [
       "<matplotlib.figure.Figure at 0x1137d7ba8>"
      ]
     },
     "metadata": {},
     "output_type": "display_data"
    }
   ],
   "source": [
    "proud_dem = anes[anes[\"post_party_registration\"] == \"dem\"][\"pre_proud_of_obama\"]\n",
    "proud_rep = anes[anes[\"post_party_registration\"] == \"rep\"][\"pre_proud_of_obama\"]\n",
    "plt.hist([proud_dem, proud_rep], color=[\"blue\", \"green\"], range=(1, 6), label = [\"dem\", \"rep\"], rwidth=1)\n",
    "plt.legend();"
   ]
  },
  {
   "cell_type": "markdown",
   "metadata": {},
   "source": [
    "----------"
   ]
  },
  {
   "cell_type": "markdown",
   "metadata": {},
   "source": [
    "You're all done! The plotting functions we used today all have many different parameters that can be adjusted to create different looking graphs. If you have sometime, try playing around with these functions and see what kind of graphs you can make!"
   ]
  }
 ],
 "metadata": {
  "kernelspec": {
   "display_name": "Python 3",
   "language": "python",
   "name": "python3"
  },
  "language_info": {
   "codemirror_mode": {
    "name": "ipython",
    "version": 3
   },
   "file_extension": ".py",
   "mimetype": "text/x-python",
   "name": "python",
   "nbconvert_exporter": "python",
   "pygments_lexer": "ipython3",
   "version": "3.6.1"
  }
 },
 "nbformat": 4,
 "nbformat_minor": 2
}
