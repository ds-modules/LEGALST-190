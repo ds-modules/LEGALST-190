{
 "cells": [
  {
   "cell_type": "markdown",
   "metadata": {},
   "source": [
    "# How to Install Anaconda"
   ]
  },
  {
   "cell_type": "markdown",
   "metadata": {},
   "source": [
    "Go to https://www.anaconda.com/download/\n",
    "\n",
    "Download Python 3.6 version"
   ]
  },
  {
   "cell_type": "markdown",
   "metadata": {},
   "source": [
    "Extra Windows Instructions:\n",
    "\n",
    "When you install Anaconda, choose to also install Anaconda Prompt.\n"
   ]
  },
  {
   "cell_type": "markdown",
   "metadata": {},
   "source": [
    "# Create Virtual Environment"
   ]
  },
  {
   "cell_type": "markdown",
   "metadata": {},
   "source": [
    "We create virtual environments to use different version of applications and libraries. Virtual environments allow you to use isolated python environments to install different versions of libraries."
   ]
  },
  {
   "cell_type": "markdown",
   "metadata": {},
   "source": [
    "Steps:\n",
    "1. Open Terminal\n",
    "2. Run the command:\n",
    "    conda create -n legal-studies python=3 anaconda\n",
    "3. To activate virtual environment: source activate legal-studies\n",
    "    - on Windows: activate legal-studies\n",
    "4. To deactivate virtual environment: source deactivate \n",
    "    - on Windows: deactivate\n",
    "    "
   ]
  },
  {
   "cell_type": "markdown",
   "metadata": {},
   "source": [
    "Before you install packages or run a notebook, always activate the virtual environment first!"
   ]
  },
  {
   "cell_type": "markdown",
   "metadata": {},
   "source": [
    "Download the class content from: https://github.com/ds-modules/LEGALST-190\n",
    "\n",
    "Download by cloning the Github repository:\n",
    "- copy the github url after clicking the \"clone or download button\"\n",
    "- in the terminal run the command: git clone **\\*insert cloned url***\n",
    "\n",
    "If you're interested in learning more about Github go to: https://wildlyinaccurate.com/a-hackers-guide-to-git/"
   ]
  },
  {
   "cell_type": "markdown",
   "metadata": {},
   "source": [
    "# Run Your First Notebook"
   ]
  },
  {
   "cell_type": "markdown",
   "metadata": {},
   "source": [
    "Anaconda comes with Jupyter Notebooks which we will work with. In order to run your first notebook:\n",
    "\n",
    "1. Open the terminal\n",
    "\n",
    "2. Source your virtual environment\n",
    "\n",
    "3. cd into the specific directory\n",
    "\n",
    "4. Run command: jupyter notebook\n",
    "\n",
    "A new browser window will open and you can either create a new notebook or open an existing one.\n",
    "\n",
    "After finishing the lab, click File --> Save and Checkpoint. Close notebook with the command: jupyter notebook stop"
   ]
  },
  {
   "cell_type": "markdown",
   "metadata": {},
   "source": [
    "If you have problems with installation, the lab link can be accessed here: [INSERT INTERACT LINK]"
   ]
  },
  {
   "cell_type": "markdown",
   "metadata": {},
   "source": [
    "# Summary\n",
    "\n",
    "- Make sure anaconda is installed \n",
    "\n",
    "- Activate virtual environment \n",
    "\n",
    "- Cloned the Github Repository"
   ]
  },
  {
   "cell_type": "markdown",
   "metadata": {},
   "source": [
    "# Peer Consulting Office Hours\n",
    "\n",
    "If you need help installing Anaconda, check out the peer consulting office hours at: https://data.berkeley.edu/education/peer-consulting"
   ]
  },
  {
   "cell_type": "markdown",
   "metadata": {},
   "source": [
    "# You are done!"
   ]
  }
 ],
 "metadata": {
  "kernelspec": {
   "display_name": "Python 3",
   "language": "python",
   "name": "python3"
  },
  "language_info": {
   "codemirror_mode": {
    "name": "ipython",
    "version": 3
   },
   "file_extension": ".py",
   "mimetype": "text/x-python",
   "name": "python",
   "nbconvert_exporter": "python",
   "pygments_lexer": "ipython3",
   "version": "3.6.5"
  }
 },
 "nbformat": 4,
 "nbformat_minor": 2
}
