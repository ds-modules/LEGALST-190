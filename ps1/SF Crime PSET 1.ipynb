{
 "cells": [
  {
   "cell_type": "markdown",
   "metadata": {},
   "source": [
    "# SF Crime PSET 1\n",
    "\n",
    "1. [Introduction](#intro)\n",
    "2. [Getting the Data](#data)\n",
    "3. [Descriptive Statistics](#stats)\n",
    "4. [Geographic Information Systems](#gis)\n",
    "5. [Discussion Questions](#dq)"
   ]
  },
  {
   "cell_type": "code",
   "execution_count": null,
   "metadata": {},
   "outputs": [],
   "source": [
    "# imports\n",
    "import requests\n",
    "from datascience import *\n",
    "import matplotlib.pyplot as plt\n",
    "import datetime\n",
    "import folium\n",
    "from folium import GeoJson\n",
    "import time\n",
    "import json\n",
    "import os\n",
    "from branca.colormap import linear\n",
    "import branca.colormap\n",
    "import pandas as pd\n",
    "%matplotlib inline"
   ]
  },
  {
   "cell_type": "markdown",
   "metadata": {},
   "source": [
    "## 1. Introduction <a id='intro'></a>\n",
    "\n",
    "For this lab, we will be working with the San Francisco Police Department's Incident Database. The dataset contains up-to-date information on incidents reported to the SFPD. Each observation is tagged with information about the incident's location, type of infraaction, and date/time. In this lab you will:\n",
    "\n",
    "1. Download the data through an Application Programming Interface (API)\n",
    "2. Explore the data with summary and descriptive statistics\n",
    "3. Map the incidents\n",
    "\n",
    "Make sure to start early and ask lots of questions! The dataset, along with other publicaly available data, is available at: https://data.sfgov.org/Public-Safety/Police-Department-Incidents/tmnf-yvry"
   ]
  },
  {
   "cell_type": "markdown",
   "metadata": {},
   "source": [
    "## 2. Getting the Data <a id='data'></a>\n",
    "\n",
    "Write code that pulls the data into your environment with an API call. Here is the link to the API: https://data.sfgov.org/resource/PdId.json"
   ]
  },
  {
   "cell_type": "code",
   "execution_count": null,
   "metadata": {},
   "outputs": [],
   "source": [
    "df = pd.read_csv(\"Police_Department_Sample_Incidents.csv\").drop(\"location\", axis=1)\n",
    "data = Table.read_table(\"Police_Department_Sample_Incidents.csv\").drop(\"location\")\n",
    "data"
   ]
  },
  {
   "cell_type": "markdown",
   "metadata": {},
   "source": [
    "<font color='blue'><b>QUESTION: What are the advantages to downloading data this way, instead of with a point-and-click action?</b></font>"
   ]
  },
  {
   "cell_type": "markdown",
   "metadata": {},
   "source": [
    "_Type your answer here, replacing this text._"
   ]
  },
  {
   "cell_type": "markdown",
   "metadata": {},
   "source": [
    "## 3. Descriptive Statistics <a id='stats'></a>\n",
    "\n",
    "Plot the number of incidents per year from 2000-2017 (choose the appropriate type of plot). Have crime rates increased or decreased in general? "
   ]
  },
  {
   "cell_type": "code",
   "execution_count": null,
   "metadata": {
    "scrolled": false
   },
   "outputs": [],
   "source": [
    "# creating a year column from the first four characters of the 'date' column\n",
    "data['year'] = pd.DatetimeIndex(df['date']).year\n",
    "data"
   ]
  },
  {
   "cell_type": "code",
   "execution_count": null,
   "metadata": {},
   "outputs": [],
   "source": [
    "agg_on_year = data.group('year')\n",
    "agg_on_year.show()"
   ]
  },
  {
   "cell_type": "code",
   "execution_count": null,
   "metadata": {},
   "outputs": [],
   "source": [
    "agg_on_year.plot('year', 'count')"
   ]
  },
  {
   "cell_type": "markdown",
   "metadata": {},
   "source": [
    "Looking just at 2017, what proportion of the total does each type of crime constitute? Use at least one table and at least one plot to support your answer."
   ]
  },
  {
   "cell_type": "code",
   "execution_count": null,
   "metadata": {},
   "outputs": [],
   "source": [
    "agg_by_crime = data.where('year', 2017).group('category')\n",
    "agg_by_crime['proportion'] = [count / sum(agg_by_crime.column('count')) for count in agg_by_crime.column('count')]\n",
    "agg_by_crime.sort('proportion', descending=True)"
   ]
  },
  {
   "cell_type": "code",
   "execution_count": null,
   "metadata": {},
   "outputs": [],
   "source": [
    "agg_by_crime.sort('count', descending=True).barh('category', 'proportion')"
   ]
  },
  {
   "cell_type": "markdown",
   "metadata": {},
   "source": [
    "Is there a relationship between day of week, time, and whether an incident occurs? Bonus: Is there a relationship between day/time and particular types of incidents?"
   ]
  },
  {
   "cell_type": "code",
   "execution_count": null,
   "metadata": {},
   "outputs": [],
   "source": [
    "data.group('dayofweek').barh('dayofweek')"
   ]
  },
  {
   "cell_type": "code",
   "execution_count": null,
   "metadata": {},
   "outputs": [],
   "source": [
    "# making an hour column that can be grouped on\n",
    "data['hour'] = [int(t[:2]) for t in data['time']]"
   ]
  },
  {
   "cell_type": "code",
   "execution_count": null,
   "metadata": {},
   "outputs": [],
   "source": [
    "data.group('hour').bar('hour')"
   ]
  },
  {
   "cell_type": "markdown",
   "metadata": {},
   "source": [
    "#### Bonus: Are there any other interesting relationships in the data?"
   ]
  },
  {
   "cell_type": "markdown",
   "metadata": {
    "collapsed": true
   },
   "source": [
    "_Type your answer here, replacing this text._"
   ]
  },
  {
   "cell_type": "markdown",
   "metadata": {},
   "source": [
    "# 4. Geographic Information Systems (GIS) <a id='gis'></a>\n",
    "\n",
    "Plot individual incidents in 2017 as points on a map of San Francisco. Does crime seem randomly distributed in space, or do incidents tend to cluster close together? Propose an explanation for your conclusion. Bonus: Shade the points by type of crime.\n",
    "\n",
    "Hint: Use the `basemap` extension to the `matplotlib` package!"
   ]
  },
  {
   "cell_type": "code",
   "execution_count": null,
   "metadata": {},
   "outputs": [],
   "source": [
    "twentyeighteen = data.where('year' == 2018).sample(1000)\n",
    "twentyeighteen['y'] = twentyeighteen['y'].astype('float')\n",
    "twentyeighteen['x'] = twentyeighteen['x'].astype('float')"
   ]
  },
  {
   "cell_type": "code",
   "execution_count": null,
   "metadata": {},
   "outputs": [],
   "source": [
    "mp = folium.Map(location=[37.7749, -122.4194])\n",
    "for coords in list(zip(twentyeighteen['y'], twentyeighteen['x'])):\n",
    "    folium.Marker(\n",
    "        location=coords\n",
    "    ).add_to(mp)\n",
    "mp"
   ]
  },
  {
   "cell_type": "code",
   "execution_count": null,
   "metadata": {},
   "outputs": [],
   "source": [
    "from folium.plugins import HeatMap\n",
    "\n",
    "mp = folium.Map(location=[37.7749, -122.4194])\n",
    "HeatMap(list(zip(twentyeighteen['y'], twentyeighteen['x']))).add_to(mp)\n",
    "mp"
   ]
  },
  {
   "cell_type": "markdown",
   "metadata": {},
   "source": [
    "Merge the incidents data with either a Shapefile or GeoJSON file with information on the boundaries of neighborhoods in San Francisco. \n",
    "\n",
    "The neighborhood data is available here: https://data.sfgov.org/Geographic-Locations-and-Boundaries/Analysis-Neighborhoods/p5b7-5n3h\n",
    "\n",
    "The API endpoint: https://data.sfgov.org/resource/xfcw-9evu.json\n",
    "\n",
    "*.geojson"
   ]
  },
  {
   "cell_type": "code",
   "execution_count": null,
   "metadata": {},
   "outputs": [],
   "source": [
    "#import requests\n",
    "#r = requests.get(url='https://data.sfgov.org/resource/xfcw-9evu.json')"
   ]
  },
  {
   "cell_type": "code",
   "execution_count": null,
   "metadata": {
    "scrolled": true
   },
   "outputs": [],
   "source": [
    "sf_neighborhoods = os.path.join('SF Find Neighborhoods.geojson')\n",
    "geo_json_data = json.load(open(sf_neighborhoods))"
   ]
  },
  {
   "cell_type": "code",
   "execution_count": null,
   "metadata": {},
   "outputs": [],
   "source": [
    "m = folium.Map([37.7749, -122.4194], zoom_start = 12)\n",
    "m"
   ]
  },
  {
   "cell_type": "code",
   "execution_count": null,
   "metadata": {
    "scrolled": false
   },
   "outputs": [],
   "source": [
    "# might be too big bc won't display\n",
    "m = folium.Map(\n",
    "    location=[37.7749, -122.4194], zoom_start = 12\n",
    ")\n",
    "\n",
    "folium.GeoJson(geo_json_data\n",
    ").add_to(m)\n",
    "m"
   ]
  },
  {
   "cell_type": "markdown",
   "metadata": {},
   "source": [
    "Construct a choropleth map, coloring in each neighborhood by how many incidents it had in 2018. Bonus: Construct several maps that explore differences by day of week, time of year, time of day, etc."
   ]
  },
  {
   "cell_type": "code",
   "execution_count": null,
   "metadata": {},
   "outputs": [],
   "source": [
    "crime_neighborhood_agg = pd.read_csv(\"crime_neighborhood_agg.csv\")\n",
    "crime_neighborhood_agg.head()"
   ]
  },
  {
   "cell_type": "markdown",
   "metadata": {},
   "source": [
    "Do you notice any patters? Are there particular neighborhoods where crime concentrates more heavily?"
   ]
  },
  {
   "cell_type": "code",
   "execution_count": null,
   "metadata": {},
   "outputs": [],
   "source": [
    "m = folium.Map(\n",
    "    location=[37.7749, -122.4194], zoom_start = 12\n",
    ")\n",
    "\n",
    "m.choropleth(\n",
    "    geo_data=geo_json_data,\n",
    "    data=crime_neighborhood_agg,\n",
    "    columns=['neighborhood', 'crimes'],\n",
    "    key_on='feature.properties.name',\n",
    "    fill_color='OrRd',\n",
    "    threshold_scale=[0, 10, 60, 100, 140],\n",
    "    highlight=True\n",
    "    )\n",
    "\n",
    "m"
   ]
  },
  {
   "cell_type": "markdown",
   "metadata": {},
   "source": [
    "# 5. Discussion Questions <a id='dq'></a>\n",
    "\n",
    "Based on the evidence from this lab assignment, why do you think \"hot spots\" policing became more popular in the last few decades? What are the pros and cons to this kind of approach?\n",
    "\n",
    "What other sorts of data would help improve your analysis?"
   ]
  },
  {
   "cell_type": "markdown",
   "metadata": {
    "collapsed": true
   },
   "source": [
    "_Type your answer here, replacing this text._"
   ]
  },
  {
   "cell_type": "markdown",
   "metadata": {},
   "source": [
    " "
   ]
  }
 ],
 "metadata": {
  "kernelspec": {
   "display_name": "Python 3",
   "language": "python",
   "name": "python3"
  },
  "language_info": {
   "codemirror_mode": {
    "name": "ipython",
    "version": 3
   },
   "file_extension": ".py",
   "mimetype": "text/x-python",
   "name": "python",
   "nbconvert_exporter": "python",
   "pygments_lexer": "ipython3",
   "version": "3.6.8"
  }
 },
 "nbformat": 4,
 "nbformat_minor": 2
}
